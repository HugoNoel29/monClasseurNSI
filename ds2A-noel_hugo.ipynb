{
 "cells": [
  {
   "cell_type": "markdown",
   "metadata": {},
   "source": [
    "# Devoir surveillé n°2 – Partie pratique A\n",
    "\n",
    "\n",
    "## Consignes\n",
    "\n",
    "Vous devez enregister ce fichier sous le nom `ds2A-nom-prenom.ipynb`\n",
    "\n",
    "De plus vous devez créer un fichier `ds2-nom-prenom.py` qui contient le code de toutes les fonctions définies ici  y compris le code d'implémentation pour les piles que vous aurez utilisé afin de pouvoir l'importer pour la suite du développement de ce projet.\n",
    "\n",
    "À la fin de la séance, transmettez vos fichiers par mail à l'adresse `eric.madec@ecmorlaix.fr`\n",
    "\n",
    "Respectez bien le nom des fonctions pour faciliter la relecture du code.\n",
    "\n",
    "Vous pouvez rajouter des commentaires lorsque vous pensez que c’est nécessaire.\n",
    "\n",
    "De même, essayez de choisir des variables dont le nom est compréhensible, si c’est pertinent.\n",
    "\n",
    "\n",
    "# Les tours de Hanoï\n",
    "\n",
    "Les tours seront modélisées par une liste de 3 piles.\n",
    "\n",
    "Pour les piles, vous avez le choix entre deux implémentations données :\n",
    "- Dans la première, une pile est une liste Python.\n",
    "- Dans la deuxième, on définit une classe Pile qui utilise également une liste Python.\n",
    "\n",
    "Vous devez manipuler une pile uniquement avec les fonctions ou méthodes fournies."
   ]
  },
  {
   "cell_type": "code",
   "execution_count": 20,
   "metadata": {},
   "outputs": [],
   "source": [
    "# Première implémentation pour les piles\n",
    "def creer_pile():\n",
    "    '''Renvoie une pile vide'''\n",
    "    return []\n",
    "\n",
    "def est_vide(pile):\n",
    "    '''Renvoie un booléen, True si la pile est vide et False sinon'''\n",
    "    return p == []\n",
    "\n",
    "def empiler(pile, element):\n",
    "    '''Empile element au sommet de pile'''\n",
    "    pile.append(element)\n",
    "    \n",
    "def depiler(pile):\n",
    "    '''Renvoie et enlève la valeur du sommet de pile'''\n",
    "    assert not est_vide(pile), \"Pile vide\"\n",
    "    return pile.pop()"
   ]
  },
  {
   "cell_type": "code",
   "execution_count": 1,
   "metadata": {},
   "outputs": [],
   "source": [
    "# Deuxième implémentation pour les piles\n",
    "class Pile:\n",
    "\n",
    "    '''classe Pile création d’une instance Pile avec une liste'''\n",
    "    \n",
    "    def __init__(self):\n",
    "        '''Initialise une pile vide'''\n",
    "        self.liste = []\n",
    "        \n",
    "    def est_vide(self):\n",
    "        '''Renvoie un booléen, True si la pile est vide et False sinon'''\n",
    "        return len(self.liste) == 0\n",
    "\n",
    "    def empiler(self, element):\n",
    "        '''Empile element au sommet de pile'''\n",
    "        self.liste.append(element)\n",
    "\n",
    "    def depiler(self):\n",
    "        '''Renvoie et enlève la valeur du sommet de pile'''\n",
    "        return self.liste.pop()\n",
    "\n",
    "    def __repr__(self):\n",
    "        return repr(self.liste)"
   ]
  },
  {
   "cell_type": "markdown",
   "metadata": {},
   "source": [
    "Pour faciliter l’analyse des programmes, on se permettra d’utiliser l’affichage des listes modélisant les piles afin de voir leur contenu.\n",
    "\n",
    "Les listes et les piles étant des objets mutables, lorsque vous les modifiez dans une fonction, les modifications perdurent après son exécution.\n",
    "\n",
    "## Exercice 1 :\n",
    "\n",
    "Écrire une fonction `sommet(pile)` qui renvoie la valeur au sommet de la pile mais sans la supprimer de la pile au final.\n",
    "\n",
    "Vous pouvez dépiler, mais il faut bien rempiler la valeur avant la fin de l’exécution de la fonction.\n",
    "\n",
    "Si la pile est vide, il faut lever une exception avec raise IndexError('pile vide')."
   ]
  },
  {
   "cell_type": "code",
   "execution_count": 2,
   "metadata": {},
   "outputs": [],
   "source": [
    "def sommet(pile):\n",
    "    \n",
    "    ''' Renvoie la valeur au sommet de la pile mais sans la supprimer de la pile '''\n",
    "    \n",
    "    sommet = \"\"\n",
    "    if not pile.est_vide() :\n",
    "        sommet = pile.depiler()\n",
    "        pile.empiler(sommet)\n",
    "        return sommet\n",
    "    else :\n",
    "        raise IndexError('pile vide')   "
   ]
  },
  {
   "cell_type": "markdown",
   "metadata": {},
   "source": [
    "Tester votre fonction `sommet(pile)` ci-dessous de sorte que :\n",
    "\n",
    "```python \n",
    "# Première implémentation pour les piles\n",
    ">>> p = creer_pile()\n",
    ">>> sommet(p)\n",
    "IndexError: pile vide\n",
    ">>> empiler(p, 4)\n",
    ">>> empiler(p, 2)\n",
    ">>> sommet(p)\n",
    "2\n",
    "```\n",
    "```python \n",
    "# Deuxième implémentation pour les piles\n",
    ">>> p = Pile()\n",
    ">>> sommet(p)\n",
    "IndexError: pile vide\n",
    ">>> p.empiler(4)\n",
    ">>> p.empiler(2)\n",
    ">>> sommet(p)\n",
    "2\n",
    "```"
   ]
  },
  {
   "cell_type": "markdown",
   "metadata": {},
   "source": [
    "<h2>Deuxième implémentation pour les piles<h2>"
   ]
  },
  {
   "cell_type": "code",
   "execution_count": 3,
   "metadata": {},
   "outputs": [],
   "source": [
    "p = Pile()"
   ]
  },
  {
   "cell_type": "code",
   "execution_count": 4,
   "metadata": {},
   "outputs": [
    {
     "ename": "IndexError",
     "evalue": "pile vide",
     "output_type": "error",
     "traceback": [
      "\u001b[1;31m---------------------------------------------------------------------------\u001b[0m",
      "\u001b[1;31mIndexError\u001b[0m                                Traceback (most recent call last)",
      "\u001b[1;32mC:\\Users\\UTILIS~1\\AppData\\Local\\Temp/ipykernel_952/3635064049.py\u001b[0m in \u001b[0;36m<module>\u001b[1;34m\u001b[0m\n\u001b[1;32m----> 1\u001b[1;33m \u001b[0msommet\u001b[0m\u001b[1;33m(\u001b[0m\u001b[0mp\u001b[0m\u001b[1;33m)\u001b[0m\u001b[1;33m\u001b[0m\u001b[1;33m\u001b[0m\u001b[0m\n\u001b[0m",
      "\u001b[1;32mC:\\Users\\UTILIS~1\\AppData\\Local\\Temp/ipykernel_952/2938980313.py\u001b[0m in \u001b[0;36msommet\u001b[1;34m(pile)\u001b[0m\n\u001b[0;32m      9\u001b[0m         \u001b[1;32mreturn\u001b[0m \u001b[0msommet\u001b[0m\u001b[1;33m\u001b[0m\u001b[1;33m\u001b[0m\u001b[0m\n\u001b[0;32m     10\u001b[0m     \u001b[1;32melse\u001b[0m \u001b[1;33m:\u001b[0m\u001b[1;33m\u001b[0m\u001b[1;33m\u001b[0m\u001b[0m\n\u001b[1;32m---> 11\u001b[1;33m         \u001b[1;32mraise\u001b[0m \u001b[0mIndexError\u001b[0m\u001b[1;33m(\u001b[0m\u001b[1;34m'pile vide'\u001b[0m\u001b[1;33m)\u001b[0m\u001b[1;33m\u001b[0m\u001b[1;33m\u001b[0m\u001b[0m\n\u001b[0m",
      "\u001b[1;31mIndexError\u001b[0m: pile vide"
     ]
    }
   ],
   "source": [
    "sommet(p)"
   ]
  },
  {
   "cell_type": "code",
   "execution_count": 5,
   "metadata": {},
   "outputs": [],
   "source": [
    "p.empiler(4)"
   ]
  },
  {
   "cell_type": "code",
   "execution_count": 6,
   "metadata": {},
   "outputs": [],
   "source": [
    "p.empiler(2)"
   ]
  },
  {
   "cell_type": "code",
   "execution_count": 7,
   "metadata": {},
   "outputs": [
    {
     "data": {
      "text/plain": [
       "2"
      ]
     },
     "execution_count": 7,
     "metadata": {},
     "output_type": "execute_result"
    }
   ],
   "source": [
    "sommet(p)"
   ]
  },
  {
   "cell_type": "code",
   "execution_count": 8,
   "metadata": {},
   "outputs": [
    {
     "data": {
      "text/plain": [
       "2"
      ]
     },
     "execution_count": 8,
     "metadata": {},
     "output_type": "execute_result"
    }
   ],
   "source": [
    "sommet(p)"
   ]
  },
  {
   "cell_type": "markdown",
   "metadata": {},
   "source": [
    "\n",
    "## Exercice 2 :\n",
    "\n",
    "> Les piles de disques seront modélisées par des piles d’entiers.\n",
    "\n",
    "Écrire une fonction `mettre_disques(pile, n)` qui met des disques de taille n à 1 sur la pile.\n",
    "\n",
    "> Pour rappel, `range(a, b, -1)` avec a > b renvoie tous les entiers de a à b+1 inclus, dans l’ordre décroissant.\n",
    "> Exemple :\n",
    "> ```python\n",
    ">>> list(range(5,1,-1)) # la commande list n'est que pour l'affichage\n",
    "[5, 4, 3, 2]\n",
    "```"
   ]
  },
  {
   "cell_type": "code",
   "execution_count": 14,
   "metadata": {},
   "outputs": [],
   "source": [
    "def mettre_disques(pile, n):\n",
    "    '''met des disques de taille n à 1 sur la pile'''\n",
    "    for i in range(n, 0, -1) :\n",
    "        pile.empiler(i)  "
   ]
  },
  {
   "cell_type": "markdown",
   "metadata": {},
   "source": [
    "Tester votre fonction `mettre_disques(pile, n)` ci-dessous de sorte que :\n",
    "\n",
    "```python \n",
    "# Première implémentation pour les piles\n",
    ">>> p = creer_pile()\n",
    ">>> mettre_disques(p, 5)\n",
    ">>> print(p)\n",
    "[5, 4, 3, 2, 1]\n",
    "```\n",
    "```python \n",
    "# Deuxième implémentation pour les piles\n",
    ">>> p = Pile()\n",
    ">>> mettre_disques(p, 5)\n",
    ">>> print(p)\n",
    "[5, 4, 3, 2, 1]\n",
    "```"
   ]
  },
  {
   "cell_type": "code",
   "execution_count": 15,
   "metadata": {},
   "outputs": [],
   "source": [
    "p1 = Pile()"
   ]
  },
  {
   "cell_type": "code",
   "execution_count": 16,
   "metadata": {},
   "outputs": [],
   "source": [
    "mettre_disques(p1,5)"
   ]
  },
  {
   "cell_type": "code",
   "execution_count": 17,
   "metadata": {},
   "outputs": [
    {
     "name": "stdout",
     "output_type": "stream",
     "text": [
      "[5, 4, 3, 2, 1]\n"
     ]
    }
   ],
   "source": [
    "print(p1)"
   ]
  },
  {
   "cell_type": "markdown",
   "metadata": {},
   "source": [
    "## Exercice 3 :\n",
    "\n",
    "<img src=\"https://ericecmorlaix.github.io/img/ds2_hanoi-01.png\" alt=\"ds2_hanoi-01.png\" width=30% align='center' >\n",
    "\n",
    "> Les tours sont formées par 3 piles et seront représentées par une liste de 3 piles.\n",
    ">\n",
    "> Ainsi, des tours dont l’affichage serait celui donné ci-dessous correspondrait à la situation ci-contre.\n",
    "> Exemple :\n",
    "> ```python\n",
    ">>>  print(tours)\n",
    "[[5, 4], [2, 1], [3]]\n",
    "```\n",
    "\n",
    "Écrire une fonction `creation_tours(n)` qui renvoie une liste de 3 piles, dont la première correspond à la pile des n disques, les autres étant vides.\n"
   ]
  },
  {
   "cell_type": "code",
   "execution_count": 27,
   "metadata": {},
   "outputs": [],
   "source": [
    "def creation_tours(n):\n",
    "    ''' renvoie une liste de 3 piles,\n",
    "    la première correspond à la pile des n disques,\n",
    "    les autres étant vides.'''\n",
    "\n",
    "    liste = [Pile() , Pile(), Pile()]\n",
    "\n",
    "    mettre_disques(liste[0], n)\n",
    "\n",
    "    return liste"
   ]
  },
  {
   "cell_type": "markdown",
   "metadata": {},
   "source": [
    "Tester votre fonction `creation_tours(n)` ci-dessous de sorte que :\n",
    "\n",
    "```python\n",
    ">>> tours = creation_tours(5)\n",
    ">>> print(tours)\n",
    "[[5, 4, 3, 2, 1], [], []]\n",
    "```"
   ]
  },
  {
   "cell_type": "code",
   "execution_count": 28,
   "metadata": {},
   "outputs": [],
   "source": [
    "tours = creation_tours(5)"
   ]
  },
  {
   "cell_type": "code",
   "execution_count": 29,
   "metadata": {},
   "outputs": [
    {
     "name": "stdout",
     "output_type": "stream",
     "text": [
      "[[5, 4, 3, 2, 1], [], []]\n"
     ]
    }
   ],
   "source": [
    "print(tours)"
   ]
  },
  {
   "cell_type": "markdown",
   "metadata": {},
   "source": [
    "## Consignes, rappels pour la suite :\n",
    "\n",
    "Vous devez enregister ce fichier sous le nom `ds2A-nom-prenom.ipynb`\n",
    "\n",
    "De plus vous devez créer un fichier `ds2-nom-prenom.py` qui contient le code de toutes les fonctions définies ici y compris le code d'implémentation pour les piles que vous avez utilisé afin de pouvoir l'importer pour la suite du développement de ce projet.\n",
    "\n",
    "À la fin de la séance, transmettez vos fichiers par mail à l'adresse `eric.madec@ecmorlaix.fr`\n",
    "\n",
    "Respectez bien le nom des fonctions pour faciliter la relecture du code.\n",
    "\n",
    "Vous pouvez rajouter des commentaires lorsque vous pensez que c’est nécessaire.\n",
    "\n",
    "De même, essayez de choisir des variables dont le nom est compréhensible, si c’est pertinent."
   ]
  }
 ],
 "metadata": {
  "kernelspec": {
   "display_name": "Python 3",
   "language": "python",
   "name": "python3"
  },
  "language_info": {
   "codemirror_mode": {
    "name": "ipython",
    "version": 3
   },
   "file_extension": ".py",
   "mimetype": "text/x-python",
   "name": "python",
   "nbconvert_exporter": "python",
   "pygments_lexer": "ipython3",
   "version": "3.9.1"
  },
  "toc": {
   "base_numbering": 1,
   "nav_menu": {},
   "number_sections": true,
   "sideBar": true,
   "skip_h1_title": false,
   "title_cell": "Table of Contents",
   "title_sidebar": "Contents",
   "toc_cell": false,
   "toc_position": {},
   "toc_section_display": true,
   "toc_window_display": false
  },
  "varInspector": {
   "cols": {
    "lenName": 16,
    "lenType": 16,
    "lenVar": 40
   },
   "kernels_config": {
    "python": {
     "delete_cmd_postfix": "",
     "delete_cmd_prefix": "del ",
     "library": "var_list.py",
     "varRefreshCmd": "print(var_dic_list())"
    },
    "r": {
     "delete_cmd_postfix": ") ",
     "delete_cmd_prefix": "rm(",
     "library": "var_list.r",
     "varRefreshCmd": "cat(var_dic_list()) "
    }
   },
   "types_to_exclude": [
    "module",
    "function",
    "builtin_function_or_method",
    "instance",
    "_Feature"
   ],
   "window_display": false
  }
 },
 "nbformat": 4,
 "nbformat_minor": 4
}
