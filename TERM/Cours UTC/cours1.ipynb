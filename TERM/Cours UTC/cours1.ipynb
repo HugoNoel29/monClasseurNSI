{
 "cells": [
  {
   "cell_type": "markdown",
   "metadata": {},
   "source": [
    "# 1- Rappels de Python (notes de cours) "
   ]
  },
  {
   "cell_type": "markdown",
   "metadata": {},
   "source": [
    "## 1.1  Introduction\n",
    "Création de Python en 1989 par Guido Van Rossum\n",
    "Son nom vient des « Monty Python »\n",
    "Actuellement version 3.9 (pas de compatibilité avec les versions 2.x)\n",
    "\n",
    "Caractéristiques :\n",
    "-\tSimple et intuitif\n",
    "-\tCompréhensible\n",
    "-\tOpen-source\n",
    "-\tOrienté objet\n",
    "-\tCompact\n",
    "-\tTypage dynamique\n",
    "-\tGestion des exceptions\n",
    "\n",
    "Python est un langage qui se positionne sur tous les segments :  scientifique, Web, jeux, logiciels, Big Data, embarqué, …\n",
    "\n",
    "C’est un langage interprété.\n",
    "\n",
    "Il dispose d’une librairie standard très riche qui lui permet notamment d’interagir avec le monde extérieur, bases de données, annuaires, documents de diverses natures (images, xml, csv, …). De plus il dispose de nombreuses bibliothèques tierces qui sont facilement installables.\n"
   ]
  },
  {
   "cell_type": "markdown",
   "metadata": {},
   "source": [
    "## 1.2 Ecriture d'un programme - structures de contrôle\n",
    "\n",
    "### main () : programme principal \n"
   ]
  },
  {
   "cell_type": "code",
   "execution_count": 3,
   "metadata": {},
   "outputs": [
    {
     "name": "stdout",
     "output_type": "stream",
     "text": [
      "a vaut  3\n",
      "a vaut  toto\n"
     ]
    }
   ],
   "source": [
    "#exemple de définition de main() etindentations\n",
    "\n",
    "# définition de fonction \n",
    "def main():\n",
    "    a = 3  # affectation  \n",
    "    print(\"a vaut \", a) # affichage\n",
    "    a = 'toto' # affectation  \n",
    "    print(\"a vaut \", a) # affichage\n",
    "\n",
    "\n",
    "    # appel de la fonction main du programme courant\n",
    "if __name__ == '__main__':\n",
    "    main()\n"
   ]
  },
  {
   "cell_type": "markdown",
   "metadata": {},
   "source": [
    "Il faut respecter les indentations qui implémentent lea notion de bloc ( {...} en langage C ou begin...end en algo).\n",
    "Il existe des conventions pour le nomage des différentes entités manipulées dans un programme (règle des identificateurs): \n",
    " - snake_case :variables, fonctions, constante (Majuscule)\n",
    " - camelCase : classes, méthodes, exceptions\n"
   ]
  },
  {
   "cell_type": "code",
   "execution_count": 24,
   "metadata": {
    "pycharm": {
     "name": "#%%\n"
    }
   },
   "outputs": [
    {
     "ename": "NameError",
     "evalue": "name 'ma_variable' is not defined",
     "output_type": "error",
     "traceback": [
      "\u001b[0;31m---------------------------------------------------------------------------\u001b[0m",
      "\u001b[0;31mNameError\u001b[0m                                 Traceback (most recent call last)",
      "\u001b[0;32m<ipython-input-24-75699a4dc242>\u001b[0m in \u001b[0;36m<module>\u001b[0;34m\u001b[0m\n\u001b[1;32m      4\u001b[0m \u001b[0;34m\u001b[0m\u001b[0m\n\u001b[1;32m      5\u001b[0m \u001b[0mla_temperature\u001b[0m \u001b[0;34m=\u001b[0m \u001b[0;36m3.5\u001b[0m   \u001b[0;31m# à cause de l'indetation ces instructions ne sont pas dans la fonction\u001b[0m\u001b[0;34m\u001b[0m\u001b[0;34m\u001b[0m\u001b[0m\n\u001b[0;32m----> 6\u001b[0;31m \u001b[0mprint\u001b[0m \u001b[0;34m(\u001b[0m\u001b[0mma_variable\u001b[0m\u001b[0;34m,\u001b[0m \u001b[0mLA_CONSTANTE\u001b[0m\u001b[0;34m,\u001b[0m \u001b[0mla_temperature\u001b[0m\u001b[0;34m)\u001b[0m\u001b[0;34m\u001b[0m\u001b[0;34m\u001b[0m\u001b[0m\n\u001b[0m\u001b[1;32m      7\u001b[0m \u001b[0;34m\u001b[0m\u001b[0m\n",
      "\u001b[0;31mNameError\u001b[0m: name 'ma_variable' is not defined"
     ]
    }
   ],
   "source": [
    "def ma_fonction():\n",
    "    ma_variable = 3\n",
    "    LA_CONSTANTE = 3.14\n",
    "    \n",
    "la_temperature = 3.5   # à cause de l'indetation ces instructions ne sont pas dans la fonction \n",
    "print (ma_variable, LA_CONSTANTE, la_temperature)\n",
    "    "
   ]
  },
  {
   "cell_type": "markdown",
   "metadata": {},
   "source": [
    "### Alternative (structure de contrôle conditionnelle)\n",
    "\n",
    "il existe plusieurs variantes :\n",
    "- simple (si alors )\n",
    "- normale (si alors sinon)\n",
    "- composée (si alors sinon si  alors ... sinon)"
   ]
  },
  {
   "cell_type": "code",
   "execution_count": 1,
   "metadata": {},
   "outputs": [
    {
     "name": "stdout",
     "output_type": "stream",
     "text": [
      "Entrez une valeur entière : -6\n",
      "-6 Nombre pair\n"
     ]
    }
   ],
   "source": [
    "# exemple de structure conditionnelle composée\n",
    "\n",
    "def main():\n",
    "\n",
    "    x = int(input(\"Entrez une valeur entière : \")) # la valeur entrée est transformée en valeur entière\n",
    "    if x == 0:\n",
    "        print(x, \"Valeur nulle\")\n",
    "    elif x % 2 == 0:\n",
    "        print(x, \"Nombre pair\")\n",
    "    else:\n",
    "        print(x, \"Nombre impair\")\n",
    "\n",
    "\n",
    "if __name__ == '__main__':\n",
    "    main()\n"
   ]
  },
  {
   "cell_type": "markdown",
   "metadata": {},
   "source": [
    "### Boucles (structures de contrôle itératives)\n",
    "Les boucles permettent de répéter un certain nombre de fois le même code. Il faut toujours d'assurer que la boucle ne s'exécute pas de manière infinie. Il existe plusieurs boucles  :\n",
    "- boucle for : nombre d'itérations est connu avant de rentrer dans la boucle \n",
    "- boucle while : le nombre d'itérations dépend du code exécuté dans la boucle "
   ]
  },
  {
   "cell_type": "code",
   "execution_count": 4,
   "metadata": {},
   "outputs": [
    {
     "name": "stdout",
     "output_type": "stream",
     "text": [
      "        1\n",
      "       222\n",
      "      33333\n",
      "     4444444\n",
      "    555555555\n",
      "   66666666666\n",
      "  7777777777777\n",
      " 888888888888888\n",
      "99999999999999999\n"
     ]
    }
   ],
   "source": [
    "# exemple de boucle for\n",
    "\n",
    "def main():\n",
    "\n",
    "    for i in range(1, 10):\n",
    "        for j in range(1, 10 - i): \n",
    "            print(\" \", end=\"\")\n",
    "        for j in range(0, i): \n",
    "            print(i, end=\"\")\n",
    "        for j in range(0, i - 1): \n",
    "            print(i, end=\"\")\n",
    "        print()\n",
    "\n",
    "\n",
    "if __name__ == '__main__':\n",
    "    main()\n"
   ]
  },
  {
   "cell_type": "code",
   "execution_count": 2,
   "metadata": {},
   "outputs": [
    {
     "name": "stdout",
     "output_type": "stream",
     "text": [
      "Entrez x  : 12\n",
      "Entrez y : 8\n",
      "le PGCD est :  4\n"
     ]
    }
   ],
   "source": [
    "# exemple de boucle while : calcul de PGCD par soustractions successives\n",
    "\n",
    "def main():\n",
    "    # hypothèses sur les données : x et y sont des entiers positifs\n",
    "    x = int(input(\"Entrez x  : \"))\n",
    "    y = int(input(\"Entrez y : \"))\n",
    "    while x != y:\n",
    "        if x < y:\n",
    "            y -= x\n",
    "        else:\n",
    "            x -= y\n",
    "    print(f\"le PGCD est : \", x)  #ou y\n",
    "\n",
    "\n",
    "if __name__ == '__main__':\n",
    "    main()\n"
   ]
  },
  {
   "cell_type": "markdown",
   "metadata": {},
   "source": [
    "Les boucles for s'effectuent sur des iterables (listes , ensembles ,tuples, dictionnaires, chaines de caractère).\n",
    "\n",
    "L'instruction break permet de sortir de la boucle.\n",
    "\n",
    "l'instruction continue passe à l'itéation suivante."
   ]
  },
  {
   "cell_type": "markdown",
   "metadata": {},
   "source": [
    "## 1.3 Les variables et les types\n",
    "\n",
    "Cette partie décrit rapidement les types simples de bases et les opérateurs associés et les types itérables (composés de plusieurs élements): listes, tuples, ensembles, dictionnaires et chaines de caractère.\n"
   ]
  },
  {
   "cell_type": "markdown",
   "metadata": {},
   "source": [
    "### types simples et opérations \n",
    "Il existe 5 grands types de variables :\n",
    "- int (nombre entier)\n",
    "- float (nombre décimal)\n",
    "- string (chaine de characteres)\n",
    "- bool (booléen)\n",
    "- complex (complexe)\n",
    "\n",
    "Il n'est pas nécessaire de définir le type d'une variable avant de l'utiliser."
   ]
  },
  {
   "cell_type": "code",
   "execution_count": 3,
   "metadata": {},
   "outputs": [],
   "source": [
    "x = 3 # type int \n",
    "y = -2.5 # type float\n",
    "prenom = 'Emilien' # type string\n",
    "nom = \"Durand\"\n",
    "flag = True # type bool\n",
    "compl = 5 +3j  # type complex"
   ]
  },
  {
   "cell_type": "code",
   "execution_count": 4,
   "metadata": {},
   "outputs": [
    {
     "name": "stdout",
     "output_type": "stream",
     "text": [
      "x + y = 0.5\n",
      "x - y = 5.5\n",
      "x / y = -1.2\n",
      "x // y = -2.0\n",
      "x * y = -7.5\n",
      "x ^ y = 0.06415002990995841\n"
     ]
    }
   ],
   "source": [
    "# Opérations arithmétiques\n",
    "print('x + y =', x + y)\n",
    "print('x - y =', x - y)\n",
    "print('x / y =', x / y)\n",
    "print('x // y =', x // y) # division entiere \n",
    "print('x * y =', x * y)\n",
    "print('x ^ y =', x ** y) # x puissance y"
   ]
  },
  {
   "cell_type": "code",
   "execution_count": 5,
   "metadata": {},
   "outputs": [
    {
     "name": "stdout",
     "output_type": "stream",
     "text": [
      "égalité : False\n",
      "inégalité : True\n",
      "inférieur ou égal : False\n",
      "supérieur ou égal : True\n"
     ]
    }
   ],
   "source": [
    "# Opérations de comparaison\n",
    "print('égalité :', x == y)\n",
    "print('inégalité :', x != y)\n",
    "print('inférieur ou égal :', x <= y)\n",
    "print('supérieur ou égal :', x >= y)"
   ]
  },
  {
   "cell_type": "code",
   "execution_count": 6,
   "metadata": {},
   "outputs": [
    {
     "name": "stdout",
     "output_type": "stream",
     "text": [
      "ET : False\n",
      "OU : True\n",
      "OU exclusif : True\n"
     ]
    }
   ],
   "source": [
    "# Opérations Logiques\n",
    "print('ET :', False and True)\n",
    "print('OU :', False or True)\n",
    "print('OU exclusif :', False ^ False\n",
    "     )"
   ]
  },
  {
   "cell_type": "markdown",
   "metadata": {},
   "source": [
    "Note : Les opérations de comparaison et de logique utilisées ensemble permettent de construire des structures algorithmiques de bases (if/else, while, ...)"
   ]
  },
  {
   "cell_type": "markdown",
   "metadata": {},
   "source": [
    "### les listes (list)\n",
    "Une liste est une collection d'éléments séparés par des virgules, l'ensemble est entre [ ]. Elle modifiable dynamiquement (mutable). Elle est comparable à un tableau mais peut contenir des éléments de type hétérogène.  "
   ]
  },
  {
   "cell_type": "code",
   "execution_count": 4,
   "metadata": {
    "collapsed": true
   },
   "outputs": [
    {
     "name": "stdout",
     "output_type": "stream",
     "text": [
      "['nf01', 'sr06', 'la14', 'inf2'] 4\n",
      "[1, 2, 3, 4, 5, 6, 7, 8, 9, 10, 11, 12, 13, 14] 14\n"
     ]
    }
   ],
   "source": [
    "# exemples de listes\n",
    "\n",
    "\n",
    "liste1 = [\"nf01\", \"sr06\", \"la14\", \"inf2\"]   # création d'une liste par énumération des valeurs \n",
    "liste2 = list(range(1, 15))  # création d'une liste par conversion de la sortie de la fonction range()\n",
    "long1= len(liste1)\n",
    "print(liste1, long1)\n",
    "long2= len(liste2)\n",
    "print(liste2, long2)"
   ]
  },
  {
   "cell_type": "markdown",
   "metadata": {},
   "source": [
    "chaque élément d'une liste est indicé par un entier compris entre 0 et N-1 (N = nombre d'élements dans la liste).\n",
    "On peut donc y accéder de la manière suivante  : liste[indice].\n",
    "\n",
    "On peut extraire une partie \n",
    "- liste[min:max]  de l'indice min jusqu'à max-1\n",
    "- liste[min:] de l'indice min jusqu'au dernier élément\n",
    "- liste[:max] de l'indice 0 jusqu'à max-1"
   ]
  },
  {
   "cell_type": "code",
   "execution_count": 1,
   "metadata": {},
   "outputs": [
    {
     "name": "stdout",
     "output_type": "stream",
     "text": [
      "le premier élément est  nf01\n",
      "le dernier élément est  inf2\n",
      "le dernier élément est  inf2\n",
      "l'avantdernier élément est  la14\n",
      "['sr06', 'la14']\n"
     ]
    }
   ],
   "source": [
    "liste1 = [\"nf01\", \"sr06\", \"la14\", \"inf2\"] \n",
    "print(\"le premier élément est \", liste1[0])\n",
    "print(\"le dernier élément est \", liste1[len(liste1)-1])\n",
    "print(\"le dernier élément est \", liste1[-1])\n",
    "print(\"l'avantdernier élément est \", liste1[-2])\n",
    "print(liste1[1:3])"
   ]
  },
  {
   "cell_type": "markdown",
   "metadata": {},
   "source": [
    "l'opérateur  = effectue une copie d'adresse (lien) mais pas une copie de liste . Il faut utiliser la méthode copy() ou deepcopy()"
   ]
  },
  {
   "cell_type": "code",
   "execution_count": 7,
   "metadata": {},
   "outputs": [
    {
     "name": "stdout",
     "output_type": "stream",
     "text": [
      "['inf1', 'sr06', 'la14', 'inf2']\n",
      "['inf1', 'sr06', 'la14', 'inf2']\n",
      "['nf01', 'sr06', 'la14', 'inf2']\n"
     ]
    }
   ],
   "source": [
    "liste1 = [\"nf01\", \"sr06\", \"la14\", \"inf2\"]\n",
    "liste2 = liste1 # lien vers liste1\n",
    "liste3 = liste1.copy()   # copie de la liste1 dans liste3\n",
    "liste1[0]= \"inf1\"  # modification de liste1\n",
    "print(liste1)  \n",
    "print(liste2)    # liste2 pointe sur liste1 qui a été modifiée\n",
    "print(liste3)   # les modifcations sur liste1 n'ont pas d'effet sur liste3"
   ]
  },
  {
   "cell_type": "markdown",
   "metadata": {},
   "source": [
    "Les boucles for sont tout à fait adaptées au parcours de liste "
   ]
  },
  {
   "cell_type": "code",
   "execution_count": 8,
   "metadata": {},
   "outputs": [
    {
     "name": "stdout",
     "output_type": "stream",
     "text": [
      "inf1\n",
      "sr06\n",
      "la14\n",
      "inf2\n"
     ]
    }
   ],
   "source": [
    "for element in liste1 : \n",
    "    print (element) "
   ]
  },
  {
   "cell_type": "markdown",
   "metadata": {},
   "source": [
    "On peut \"déballer\" (unpack) une liste "
   ]
  },
  {
   "cell_type": "code",
   "execution_count": 9,
   "metadata": {
    "pycharm": {
     "name": "#%%\n"
    }
   },
   "outputs": [
    {
     "name": "stdout",
     "output_type": "stream",
     "text": [
      "nf01 sr06 la14 inf2\n"
     ]
    }
   ],
   "source": [
    "a,b,c,d = liste3   # le nombre d'éléments doit correspondre à la longueur de la liste\n",
    "print(a,b,c,d)  "
   ]
  },
  {
   "cell_type": "markdown",
   "metadata": {},
   "source": [
    "##### Compréhension de listes\n",
    "Cette technique permet d'appliquer un traitement sur une liste pour en créer un autre dans une syntaxe réduite.\n",
    "\n",
    "La syntaxe est : \n",
    " nouvelle_liste = [fonction(item) for item in liste  if condition(item) ]\n"
   ]
  },
  {
   "cell_type": "code",
   "execution_count": 20,
   "metadata": {},
   "outputs": [
    {
     "name": "stdout",
     "output_type": "stream",
     "text": [
      "[1, 3, 5, 7, 9, 11, 13]\n"
     ]
    }
   ],
   "source": [
    "# comprehension de listes\n",
    "liste2 = list(range(1, 15))\n",
    "liste_impair = [i for i in liste2 if i%2 != 0]\n",
    "print(liste_impair)"
   ]
  },
  {
   "cell_type": "code",
   "execution_count": 10,
   "metadata": {},
   "outputs": [
    {
     "name": "stdout",
     "output_type": "stream",
     "text": [
      "['inf2', 'inf1']\n"
     ]
    }
   ],
   "source": [
    "# comprehension de listes avec traitement de chaines de caractères\n",
    "ma_liste1 = [\"toto\", \"INF2\", \"Python est un langage interprété\", \"Inf1\"]\n",
    "ma_liste2 = [element.lower() for element in ma_liste1 if (element[0] == \"I\")]\n",
    "print(ma_liste2)"
   ]
  },
  {
   "cell_type": "code",
   "execution_count": 11,
   "metadata": {},
   "outputs": [
    {
     "name": "stdout",
     "output_type": "stream",
     "text": [
      "['a', 'b', 'c', 'd', 'e', 'f', 'g', 'h', 'i', 'j', 'k', 'l', 'm', 'n', 'o', 'p', 'q', 'r', 's', 't', 'u', 'v', 'w', 'x', 'y', 'z']\n",
      "['a', 'b', 'c', 'd', 'e', 'f', 'g', 'h', 'i', 'j', 'k', 'l', 'm', 'n', 'o', 'p', 'q', 'r', 's', 't', 'u', 'v', 'w', 'x', 'y', 'z']\n"
     ]
    }
   ],
   "source": [
    "# Comparaison boucle et comprehension de listes avec traitement de caractères\n",
    "\n",
    "# version boucle\n",
    "liste = []\n",
    "for i in range(ord('a'), ord('z') + 1):\n",
    "    liste += chr(i)\n",
    "print(liste)\n",
    "\n",
    "#version compréhension de liste\n",
    "liste = [chr(i) for i in range(ord('a'), ord('z') + 1)]\n",
    "print(liste)"
   ]
  },
  {
   "cell_type": "markdown",
   "metadata": {},
   "source": [
    "Il existe des opérateurs sur les listes : + - ..."
   ]
  },
  {
   "cell_type": "code",
   "execution_count": 7,
   "metadata": {},
   "outputs": [
    {
     "name": "stdout",
     "output_type": "stream",
     "text": [
      "['nf01', 'sr06', 'la14', 'inf2', 1, 2, 3, 4, 5, 6, 7, 8, 9, 10, 11, 12, 13, 14]\n"
     ]
    }
   ],
   "source": [
    "liste1 = [\"nf01\", \"sr06\", \"la14\", \"inf2\"]   # création d'une liste par énumération des valeurs\n",
    "liste2 = list(range(1, 15))\n",
    "liste1 += liste2\n",
    "print(liste1)"
   ]
  },
  {
   "cell_type": "markdown",
   "metadata": {},
   "source": [
    "Il est possible de créer des listes de listes"
   ]
  },
  {
   "cell_type": "code",
   "execution_count": 23,
   "metadata": {},
   "outputs": [
    {
     "name": "stdout",
     "output_type": "stream",
     "text": [
      "5\n",
      "[1, 2, 3]\n"
     ]
    }
   ],
   "source": [
    "#liste de listes\n",
    "tab2d = [[1,2,3], [4,5,6],[7,8,9]]\n",
    "print(tab2d[1][1])\n",
    "print(tab2d[0])\n"
   ]
  },
  {
   "cell_type": "markdown",
   "metadata": {},
   "source": [
    "Il existe de nombreuses méthodes sur les listes  :\n",
    "- append()\n",
    "- sort()\n",
    "- reverse()\n",
    "- remove()\n",
    "- clear()\n",
    "- copy()\n",
    "- count(valeur)\n",
    "\n",
    "et fonctions :\n",
    "- len()\n",
    "- del()\n",
    "- min() \n",
    "- max()\n",
    "- print()\n",
    "- dir()\n",
    "\n",
    " La liste est accessible par dir()\n"
   ]
  },
  {
   "cell_type": "code",
   "execution_count": 16,
   "metadata": {},
   "outputs": [
    {
     "name": "stdout",
     "output_type": "stream",
     "text": [
      "liste des méthodes : ['__add__', '__class__', '__contains__', '__delattr__', '__delitem__', '__dir__', '__doc__', '__eq__', '__format__', '__ge__', '__getattribute__', '__getitem__', '__gt__', '__hash__', '__iadd__', '__imul__', '__init__', '__init_subclass__', '__iter__', '__le__', '__len__', '__lt__', '__mul__', '__ne__', '__new__', '__reduce__', '__reduce_ex__', '__repr__', '__reversed__', '__rmul__', '__setattr__', '__setitem__', '__sizeof__', '__str__', '__subclasshook__', 'append', 'clear', 'copy', 'count', 'extend', 'index', 'insert', 'pop', 'remove', 'reverse', 'sort']\n",
      "longueur 3\n",
      "liste apres ajout  [[1, 2, 3], [4, 5, 6], [7, 8, 9], 'toto']\n",
      "longueur 4\n",
      "liste apres inversion du premier élément  [[3, 2, 1], [4, 5, 6], [7, 8, 9], 'toto']\n"
     ]
    }
   ],
   "source": [
    "tab2d = [[1,2,3], [4,5,6],[7,8,9]]    # liste composée de 3 listes\n",
    "print(\"liste des méthodes :\", dir(tab2d))    # liste de toutes les méthodes et fonctions de l'objet\n",
    "print(\"longueur\", len(tab2d))   # fonction qui retourne la longueur\n",
    "tab2d.append('toto')   # ajout d'un element à une liste\n",
    "print(\"liste apres ajout \", tab2d)       # affichage de la liste\n",
    "print(\"longueur\",len(tab2d))\n",
    "tab2d[0].reverse()    # inverse le premier élément de tab2d (donc la liste [0,1,2]\n",
    "print(\"liste apres inversion du premier élément \",tab2d)"
   ]
  },
  {
   "cell_type": "markdown",
   "metadata": {},
   "source": [
    "### les tuples \n",
    "\n",
    "type énumérable mais pas mutables (modifiable). Permet de construire une collection d'éléments séparés par une virgule et l'ensemble est entre () "
   ]
  },
  {
   "cell_type": "code",
   "execution_count": null,
   "metadata": {
    "collapsed": true
   },
   "outputs": [],
   "source": [
    "tuple1= (5, '3', 'toto')\n",
    "tuple2 = (5,)      # attention si le tuple est de longueur 1 il faut maintenir la virgule"
   ]
  },
  {
   "cell_type": "markdown",
   "metadata": {},
   "source": [
    "### les ensembles (set)\n",
    "\n",
    "structure de données très proche des listes mais sans doublons. La liste des valeurs est donnée entre {}."
   ]
  },
  {
   "cell_type": "code",
   "execution_count": 17,
   "metadata": {},
   "outputs": [
    {
     "name": "stdout",
     "output_type": "stream",
     "text": [
      "{1, 2, 3, 4}\n"
     ]
    }
   ],
   "source": [
    "liste= [1, 2 ,3, 4 , 3, 1]\n",
    "ensemble= set(liste)\n",
    "print(ensemble)"
   ]
  },
  {
   "cell_type": "markdown",
   "metadata": {},
   "source": [
    "### les dictionnaires (dict)\n",
    "Très utilisé en Python : collection de couple (cle : valeur) séparés par une virgule et donnée entre {}.\n",
    "\n",
    "\n",
    "La clé est unique . C'est équivalent à une table associative dont l'accès s'effectue par un index qui est la clé. il existe denombreuses méthodes pour accéder et manipuler les composantes d'un disctionnaire:\n",
    "- keys()\n",
    "- values()\n",
    "- items()\n",
    "- ...\n"
   ]
  },
  {
   "cell_type": "code",
   "execution_count": 18,
   "metadata": {},
   "outputs": [
    {
     "name": "stdout",
     "output_type": "stream",
     "text": [
      "Nom de la personne : Claire\n",
      "l'age de Claire est 18\n",
      "('Pierre', 34)\n",
      "('Marine', 21)\n",
      "('Kevin', 36)\n",
      "('Claire', 18)\n",
      "('Marie', 42)\n",
      "('Jose', 51)\n",
      " cle =  Pierre  valeur =  34\n",
      " cle =  Marine  valeur =  21\n",
      " cle =  Kevin  valeur =  36\n",
      " cle =  Claire  valeur =  18\n",
      " cle =  Marie  valeur =  42\n",
      " cle =  Jose  valeur =  51\n",
      "{1: 1, 2: 8, 3: 27, 4: 64, 5: 125, 6: 216, 7: 343, 8: 512, 9: 729, 10: 1000}\n"
     ]
    }
   ],
   "source": [
    "# exemples de dictionnaires\n",
    "\n",
    "def main():\n",
    "    mon_dico = {\"Pierre\": 34, \"Marine\": 21, \"Kevin\": 36, \"Claire\": 18, \"Marie\": 42, \"Jose\": 51}\n",
    "\n",
    "    nom = input(\"Nom de la personne : \")\n",
    "    if nom in mon_dico:\n",
    "        print(\"l'age de %s est %d\" % (nom, mon_dico[nom]))\n",
    "    else:\n",
    "        print(\" %s n'est pas connu\" % nom)\n",
    "\n",
    "\n",
    "    for i in mon_dico.items():\n",
    "        print(i)\n",
    "\n",
    "    for cle, valeur in mon_dico.items():\n",
    "        print(\" cle = \", cle, \" valeur = \", valeur)\n",
    "\n",
    "    # création d'un dictionnaire avec compréhension de liste\n",
    "    dico_triple= dict([(x,x**3) for x in range(1,11)])\n",
    "    print(dico_triple)\n",
    "\n",
    "    \n",
    "    \n",
    "if __name__ == '__main__':\n",
    "    main()\n",
    "\n"
   ]
  },
  {
   "cell_type": "markdown",
   "metadata": {},
   "source": [
    "### les chaines de caractères (str)\n",
    "C'est un itérable pour lequel chaque élément est un caractère. Les caractères sont mis entre \"  \" ou ' '.\n",
    "Les méthodes/fonctions  pour accéder et manipuler les composantes d'un dictionnaire sont nombreuses. En voici quelqu'unes:\n",
    "- lower()\n",
    "- upper()\n",
    "- capitalize() : modifie le 1er caractère\n",
    "- split(séprateur) \n",
    "\n",
    "On peut additionner 2 chaines, extraire une sous-chaine par les valeurs d'indices ...\n",
    "\n"
   ]
  },
  {
   "cell_type": "code",
   "execution_count": 20,
   "metadata": {},
   "outputs": [
    {
     "name": "stdout",
     "output_type": "stream",
     "text": [
      "bonjour au revoir\n",
      "bonjourau revoir\n",
      "joura\n"
     ]
    }
   ],
   "source": [
    "ch1='bonjour'\n",
    "ch2='au revoir'\n",
    "print(ch1,ch2)\n",
    "ch3=ch1+ch2\n",
    "print(ch3)\n",
    "ch4 = ch3[3:8]\n",
    "print(ch4)"
   ]
  },
  {
   "cell_type": "markdown",
   "metadata": {},
   "source": [
    "Création de chaines à partir des contenus de variables :\n",
    "- méthode format()\n",
    "- f-string (récente)\n",
    "- % (ancienne) \n"
   ]
  },
  {
   "cell_type": "code",
   "execution_count": 21,
   "metadata": {},
   "outputs": [
    {
     "name": "stdout",
     "output_type": "stream",
     "text": [
      "chaine avec format  : x = 3.4 et y = -5\n",
      "chaine avec f-string : x = 3.4 et y = -5\n",
      "chaine avec % :  x = 3.400000 et y =  -5\n"
     ]
    }
   ],
   "source": [
    "x= 3.4\n",
    "y= -5\n",
    "chaine1 = \"x = {} et y = {}\".format(x,y)   # methode format()\n",
    "chaine2 = f\"x = {x} et y = {y}\"    # f-string (plus moderne)\n",
    "chaine3 = \" x = %f et y =  %d\" % (x,y)    #  utilisation des % (plus ancienne)\n",
    "print(\"chaine avec format  :\", chaine1)\n",
    "print(\"chaine avec f-string :\", chaine2)\n",
    "print(\"chaine avec % :\", chaine3)"
   ]
  },
  {
   "cell_type": "markdown",
   "metadata": {},
   "source": [
    "### méthodes de parcours des itérables  \n",
    "\n",
    "Selon les types , plusieurs méthodes utilisables dans les boucles for permettent de parcourir les iterables :\n",
    "- enumerate()\n",
    "- zip()\n",
    "- keys()\n",
    "- values()\n",
    "- items()\n",
    "- sorted()\n",
    "- ...\n",
    "\n"
   ]
  },
  {
   "cell_type": "code",
   "execution_count": 22,
   "metadata": {},
   "outputs": [
    {
     "name": "stdout",
     "output_type": "stream",
     "text": [
      "test zip()\n",
      "('clio', 'bleue')\n",
      "('megane', 'rouge')\n",
      "('kadjar', 'verte')\n",
      "test enumerate()\n",
      "0 clio\n",
      "1 megane\n",
      "2 kadjar\n"
     ]
    }
   ],
   "source": [
    "# exemple de parcours d'iterables : zip :  parcours sur 2 elements\n",
    "def main():\n",
    "    voitures = ['clio','megane',\"kadjar\"]\n",
    "    couleurs = [\"bleue\",\"rouge\",\"verte\"]\n",
    "    print(\"test zip()\")\n",
    "    for i in zip(voitures,couleurs):\n",
    "        print(i)\n",
    "    print(\"test enumerate()\")\n",
    "    for pos,element in enumerate(voitures) :\n",
    "        print(pos, element)\n",
    "\n",
    "if __name__ == '__main__':\n",
    "    main()"
   ]
  },
  {
   "cell_type": "code",
   "execution_count": 23,
   "metadata": {
    "pycharm": {
     "name": "#%%\n"
    }
   },
   "outputs": [
    {
     "name": "stdout",
     "output_type": "stream",
     "text": [
      "{'clio': 'bleue', 'megane': 'rouge', 'kadjar': 'verte'}\n"
     ]
    }
   ],
   "source": [
    "# création d'un dictionnaire avec parcours de 2 listes avec zip()\n",
    "voitures = [\"clio\", \"megane\", \"kadjar\"]\n",
    "couleurs = [\"bleue\", \"rouge\", \"verte\"]\n",
    "\n",
    "voit_dict = {cle: valeur for cle, valeur in zip(voitures, couleurs)}\n",
    "print(voit_dict)"
   ]
  }
 ],
 "metadata": {
  "kernelspec": {
   "display_name": "Python 3",
   "language": "python",
   "name": "python3"
  },
  "language_info": {
   "codemirror_mode": {
    "name": "ipython",
    "version": 3
   },
   "file_extension": ".py",
   "mimetype": "text/x-python",
   "name": "python",
   "nbconvert_exporter": "python",
   "pygments_lexer": "ipython3",
   "version": "3.7.4"
  }
 },
 "nbformat": 4,
 "nbformat_minor": 4
}
