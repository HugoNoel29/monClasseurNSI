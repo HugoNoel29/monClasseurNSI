{
 "cells": [
  {
   "cell_type": "code",
   "execution_count": 1,
   "metadata": {},
   "outputs": [],
   "source": [
    "animaux = [ {'nom':'Medor', 'espece':'chien', 'age':5, 'enclos':2},\n",
    " {'nom':'Titine', 'espece':'chat', 'age':2, 'enclos':5},\n",
    " {'nom':'Tom', 'espece':'chat', 'age':7, 'enclos':4},\n",
    " {'nom':'Belle', 'espece':'chien', 'age':6, 'enclos':3},\n",
    " {'nom':'Mirza', 'espece':'chat', 'age':6, 'enclos':5}]"
   ]
  },
  {
   "cell_type": "code",
   "execution_count": 2,
   "metadata": {},
   "outputs": [
    {
     "name": "stdout",
     "output_type": "stream",
     "text": [
      "{'nom': 'Medor', 'espece': 'chien', 'age': 5, 'enclos': 2}\n",
      "{'nom': 'Titine', 'espece': 'chat', 'age': 2, 'enclos': 5}\n",
      "{'nom': 'Tom', 'espece': 'chat', 'age': 7, 'enclos': 4}\n",
      "{'nom': 'Belle', 'espece': 'chien', 'age': 6, 'enclos': 3}\n",
      "{'nom': 'Mirza', 'espece': 'chat', 'age': 6, 'enclos': 5}\n"
     ]
    }
   ],
   "source": [
    "for enregistrement in animaux :\n",
    "    print(enregistrement)"
   ]
  },
  {
   "cell_type": "code",
   "execution_count": 3,
   "metadata": {},
   "outputs": [],
   "source": [
    "def selection_enclos(table_animaux, num_enclos) :\n",
    "    table_resultat = []\n",
    "    for enregistrement in table_animaux :\n",
    "        if enregistrement['enclos'] == num_enclos :\n",
    "            table_resultat.append(enregistrement)\n",
    "    return table_resultat\n",
    "        "
   ]
  },
  {
   "cell_type": "code",
   "execution_count": 4,
   "metadata": {},
   "outputs": [
    {
     "data": {
      "text/plain": [
       "[{'nom': 'Titine', 'espece': 'chat', 'age': 2, 'enclos': 5},\n",
       " {'nom': 'Mirza', 'espece': 'chat', 'age': 6, 'enclos': 5}]"
      ]
     },
     "execution_count": 4,
     "metadata": {},
     "output_type": "execute_result"
    }
   ],
   "source": [
    "selection_enclos(animaux, 5)"
   ]
  },
  {
   "cell_type": "code",
   "execution_count": 5,
   "metadata": {},
   "outputs": [
    {
     "data": {
      "text/plain": [
       "[{'nom': 'Medor', 'espece': 'chien', 'age': 5, 'enclos': 2}]"
      ]
     },
     "execution_count": 5,
     "metadata": {},
     "output_type": "execute_result"
    }
   ],
   "source": [
    "selection_enclos(animaux, 2)"
   ]
  },
  {
   "cell_type": "code",
   "execution_count": 6,
   "metadata": {},
   "outputs": [
    {
     "data": {
      "text/plain": [
       "[]"
      ]
     },
     "execution_count": 6,
     "metadata": {},
     "output_type": "execute_result"
    }
   ],
   "source": [
    "selection_enclos(animaux, 7)"
   ]
  },
  {
   "cell_type": "code",
   "execution_count": 2,
   "metadata": {},
   "outputs": [],
   "source": [
    "def trouver_intrus(tab, g, d) :\n",
    "    if g == d :\n",
    "        return tab[g]\n",
    "    else :\n",
    "        nombre_de_triplets = (d-g) // 3\n",
    "        indice = g + 3 * (nombre_de_triplets // 2)\n",
    "        if tab[indice] == tab[indice + 1] :\n",
    "            return trouver_intrus(tab, indice+3, d)\n",
    "        else :\n",
    "            return trouver_intrus(tab, g, indice)"
   ]
  },
  {
   "cell_type": "code",
   "execution_count": 3,
   "metadata": {},
   "outputs": [
    {
     "data": {
      "text/plain": [
       "7"
      ]
     },
     "execution_count": 3,
     "metadata": {},
     "output_type": "execute_result"
    }
   ],
   "source": [
    "trouver_intrus([3, 3, 3, 9, 9, 9, 1, 1, 1, 7, 2, 2, 2, 4, 4, 4, 8, 8,\n",
    "8, 5, 5, 5], 0, 21)"
   ]
  },
  {
   "cell_type": "code",
   "execution_count": 4,
   "metadata": {},
   "outputs": [
    {
     "data": {
      "text/plain": [
       "8"
      ]
     },
     "execution_count": 4,
     "metadata": {},
     "output_type": "execute_result"
    }
   ],
   "source": [
    "trouver_intrus([8, 5, 5, 5, 9, 9, 9, 18, 18, 18, 3, 3, 3], 0, 12)"
   ]
  },
  {
   "cell_type": "code",
   "execution_count": 6,
   "metadata": {},
   "outputs": [
    {
     "data": {
      "text/plain": [
       "3"
      ]
     },
     "execution_count": 6,
     "metadata": {},
     "output_type": "execute_result"
    }
   ],
   "source": [
    "trouver_intrus([5, 5, 5, 1, 1, 1, 0, 0, 0, 6, 6, 6, 3, 8, 8, 8], 0, 15)"
   ]
  }
 ],
 "metadata": {
  "interpreter": {
   "hash": "c535f766096f575e5993344ecf38043c94305985d3bbdfcb24d1ab2af40cf48e"
  },
  "kernelspec": {
   "display_name": "Python 3.9.4 64-bit",
   "language": "python",
   "name": "python3"
  },
  "language_info": {
   "codemirror_mode": {
    "name": "ipython",
    "version": 3
   },
   "file_extension": ".py",
   "mimetype": "text/x-python",
   "name": "python",
   "nbconvert_exporter": "python",
   "pygments_lexer": "ipython3",
   "version": "3.9.4"
  },
  "orig_nbformat": 4
 },
 "nbformat": 4,
 "nbformat_minor": 2
}
