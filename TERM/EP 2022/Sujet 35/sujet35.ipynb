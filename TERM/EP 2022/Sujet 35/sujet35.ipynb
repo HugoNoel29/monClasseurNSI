{
 "cells": [
  {
   "cell_type": "markdown",
   "metadata": {},
   "source": [
    "<h1>Exercice 1"
   ]
  },
  {
   "cell_type": "code",
   "execution_count": 1,
   "metadata": {},
   "outputs": [],
   "source": [
    "def moyenne(tab : list) -> float :\n",
    "    \"\"\"\n",
    "    Description : Fait la moyenne d'une liste non vide d'entiers \n",
    "\n",
    "    Exemple : >>> moyenne([1,2,3,4,5,6,7])\n",
    "              >>> 4\n",
    "\n",
    "    Préconditions : (liste) : la liste non vide d'entiers\n",
    "\n",
    "    Postconditions : (float) : la moyenne des valeurs présentes dans la liste\n",
    "\n",
    "    \"\"\"\n",
    "    assert type(tab) == list, \"La liste d'entiers doit être de type list\"\n",
    "    assert [type(i) for i in tab] == [int]*len(tab), \"La liste doit être composée uniquement d'entiers\"\n",
    "    assert len(tab) != 0, \"La liste ne doit pas être vide\"\n",
    "\n",
    "    dividende = 0\n",
    "    diviseur = 0\n",
    "\n",
    "    for i in tab :\n",
    "        dividende += i\n",
    "        diviseur +=1 \n",
    "    # Moyenne = somme des valeurs / nombre de valeurs\n",
    "    return dividende / diviseur"
   ]
  },
  {
   "cell_type": "code",
   "execution_count": 2,
   "metadata": {},
   "outputs": [],
   "source": [
    "assert moyenne([1]) == 1"
   ]
  },
  {
   "cell_type": "code",
   "execution_count": 3,
   "metadata": {},
   "outputs": [],
   "source": [
    "assert moyenne([1,2,3,4,5,6,7]) == 4"
   ]
  },
  {
   "cell_type": "code",
   "execution_count": 4,
   "metadata": {},
   "outputs": [],
   "source": [
    "assert moyenne([1,2]) == 1.5"
   ]
  },
  {
   "cell_type": "markdown",
   "metadata": {},
   "source": [
    "<h4>On pourrait le faire encore plus facilement avec les fonctions déjà implémentées en python"
   ]
  },
  {
   "cell_type": "code",
   "execution_count": 20,
   "metadata": {},
   "outputs": [],
   "source": [
    "def moyenne_triche(tab) :\n",
    "    return sum(tab) / len(tab)"
   ]
  },
  {
   "cell_type": "code",
   "execution_count": 22,
   "metadata": {},
   "outputs": [
    {
     "data": {
      "text/plain": [
       "True"
      ]
     },
     "execution_count": 22,
     "metadata": {},
     "output_type": "execute_result"
    }
   ],
   "source": [
    "moyenne_triche([1,2,3,4,5,6,7]) == 4"
   ]
  },
  {
   "cell_type": "markdown",
   "metadata": {},
   "source": [
    "<h1>Exercice 2"
   ]
  },
  {
   "cell_type": "code",
   "execution_count": 15,
   "metadata": {},
   "outputs": [],
   "source": [
    "def dichotomie(tab : list, x : int) -> bool and int :\n",
    "    \"\"\"\n",
    "    tab : tableau trié dans l’ordre croissant\n",
    "    x : nombre entier\n",
    "    La fonction renvoie True si tab contient x et False sinon\n",
    "    \"\"\"\n",
    "    assert type(tab) == list, \"La liste d'entiers doit être de type list\"\n",
    "    assert type(x) == int, \"Le nombre a chercher doit être de type int\"\n",
    "    assert [type(i) for i in tab] == [int]*len(tab), \"La liste doit être composée uniquement d'entiers\"\n",
    "    assert tab == sorted(tab), \"La liste doit être triée dans l'ordre croissant\"\n",
    "\n",
    "    #Le cas du tableau vide\n",
    "    if len(tab) == 0 :\n",
    "        return False, 1\n",
    "\n",
    "    #Cas ou x n'est pas compris entre les valeurs extrêmes\n",
    "    if (x < tab[0]) or (x > tab[-1]) :\n",
    "        return False, 2\n",
    "\n",
    "    debut = 0\n",
    "    fin = len(tab) - 1\n",
    "    while debut <= fin :\n",
    "        m = (debut + fin) //2\n",
    "        if x == tab[m] :\n",
    "            return True\n",
    "        if x > tab[m] :\n",
    "            debut = m + 1\n",
    "        else :\n",
    "            fin = m - 1\n",
    "    return False, 3"
   ]
  },
  {
   "cell_type": "code",
   "execution_count": 16,
   "metadata": {},
   "outputs": [
    {
     "data": {
      "text/plain": [
       "True"
      ]
     },
     "execution_count": 16,
     "metadata": {},
     "output_type": "execute_result"
    }
   ],
   "source": [
    "dichotomie([15, 16, 18, 19, 23, 24, 28, 29, 31, 33],28)"
   ]
  },
  {
   "cell_type": "code",
   "execution_count": 17,
   "metadata": {},
   "outputs": [
    {
     "data": {
      "text/plain": [
       "(False, 3)"
      ]
     },
     "execution_count": 17,
     "metadata": {},
     "output_type": "execute_result"
    }
   ],
   "source": [
    "dichotomie([15, 16, 18, 19, 23, 24, 28, 29, 31, 33],27)"
   ]
  },
  {
   "cell_type": "code",
   "execution_count": 18,
   "metadata": {},
   "outputs": [
    {
     "data": {
      "text/plain": [
       "(False, 2)"
      ]
     },
     "execution_count": 18,
     "metadata": {},
     "output_type": "execute_result"
    }
   ],
   "source": [
    "dichotomie([15, 16, 18, 19, 23, 24, 28, 29, 31, 33],1)"
   ]
  },
  {
   "cell_type": "code",
   "execution_count": 19,
   "metadata": {},
   "outputs": [
    {
     "data": {
      "text/plain": [
       "(False, 1)"
      ]
     },
     "execution_count": 19,
     "metadata": {},
     "output_type": "execute_result"
    }
   ],
   "source": [
    "dichotomie([],28)"
   ]
  }
 ],
 "metadata": {
  "interpreter": {
   "hash": "d392c9ddaa6b365e1706bdbc6bd2786d403f6271a103ff8a7f34ee918c5830ad"
  },
  "kernelspec": {
   "display_name": "Python 3.9.1 64-bit",
   "language": "python",
   "name": "python3"
  },
  "language_info": {
   "codemirror_mode": {
    "name": "ipython",
    "version": 3
   },
   "file_extension": ".py",
   "mimetype": "text/x-python",
   "name": "python",
   "nbconvert_exporter": "python",
   "pygments_lexer": "ipython3",
   "version": "3.9.1"
  },
  "orig_nbformat": 4
 },
 "nbformat": 4,
 "nbformat_minor": 2
}
