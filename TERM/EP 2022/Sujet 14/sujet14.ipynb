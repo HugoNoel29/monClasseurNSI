{
 "cells": [
  {
   "cell_type": "markdown",
   "metadata": {},
   "source": [
    "<h1>Exercice 1"
   ]
  },
  {
   "cell_type": "code",
   "execution_count": 5,
   "metadata": {},
   "outputs": [],
   "source": [
    "def correspond(mot : str, mot_a_trou : str) -> bool :\n",
    "    \"\"\"\n",
    "    Description : On considère des mots à trous : ce sont des chaînes de caractères contenant uniquement des majuscules et des caractères '*'. Par exemple 'INFO*MA*IQUE', '***I***E**' et '*S*' sont des mots à trous.\n",
    "                  - prend en paramètres deux chaînes de caractères mot et mot_a_trous où mot_a_trous est un mot à trous comme indiqué ci-dessus,\n",
    "                  - renvoie :\n",
    "                        o True si on peut obtenir mot en remplaçant convenablement les caractères '*' de mot_a_trous.\n",
    "                        o False sinon.\n",
    "\n",
    "\n",
    "    Exemple : >>> correspond('INFORMATIQUE', 'INFO*MA*IQUE')\n",
    "              >>> True\n",
    "\n",
    "    Préconditions : (str) : mot : Cf Description\n",
    "                    (str) : mot_a_trouver : Cf Description\n",
    "\n",
    "    Postconditions : (bool) : Cf Description\n",
    "    \"\"\"\n",
    "\n",
    "    new_mot = \"\"\n",
    "\n",
    "    for i in range(len(mot)):\n",
    "        if mot_a_trou[i] == \"*\" :\n",
    "            new_mot += mot[i]\n",
    "        else :\n",
    "            new_mot += mot_a_trou[i]\n",
    "\n",
    "    return mot == new_mot\n"
   ]
  },
  {
   "cell_type": "code",
   "execution_count": 6,
   "metadata": {},
   "outputs": [
    {
     "data": {
      "text/plain": [
       "True"
      ]
     },
     "execution_count": 6,
     "metadata": {},
     "output_type": "execute_result"
    }
   ],
   "source": [
    "correspond('INFORMATIQUE', 'INFO*MA*IQUE')"
   ]
  },
  {
   "cell_type": "code",
   "execution_count": 7,
   "metadata": {},
   "outputs": [
    {
     "data": {
      "text/plain": [
       "False"
      ]
     },
     "execution_count": 7,
     "metadata": {},
     "output_type": "execute_result"
    }
   ],
   "source": [
    "correspond('AUTOMATIQUE', 'INFO*MA*IQUE')"
   ]
  },
  {
   "cell_type": "markdown",
   "metadata": {},
   "source": [
    "<h1>Exercice 2"
   ]
  },
  {
   "cell_type": "markdown",
   "metadata": {},
   "source": [
    "def est_cyclique(plan : dict) -> bool :\n",
    "    '''\n",
    "    Prend en paramètre un dictionnaire plan correspondant\n",
    "    à un plan d'envoi de messages entre N personnes A, B, C,\n",
    "    D, E, F ...(avec N <= 26).\n",
    "    Renvoie True si le plan d'envoi de messages est cyclique\n",
    "    et False sinon.\n",
    "    '''\n",
    "\n",
    "    personne = 'A'\n",
    "    N = len(...)\n",
    "    for i in range(...) :\n",
    "        if plan[...] == ... :\n",
    "            return ...\n",
    "        else :\n",
    "            return ..."
   ]
  },
  {
   "cell_type": "code",
   "execution_count": 16,
   "metadata": {},
   "outputs": [],
   "source": [
    "def est_cyclique(plan : dict) -> bool :\n",
    "    '''\n",
    "    Prend en paramètre un dictionnaire plan correspondant\n",
    "    à un plan d'envoi de messages entre N personnes A, B, C,\n",
    "    D, E, F ...(avec N <= 26).\n",
    "    Renvoie True si le plan d'envoi de messages est cyclique\n",
    "    et False sinon.\n",
    "    '''\n",
    "\n",
    "    personne = 'A'\n",
    "    N = len(plan)\n",
    "    for i in range(N-1) :\n",
    "        if plan[personne] == 'A' :\n",
    "            return False\n",
    "        else :\n",
    "            personne = plan[personne]\n",
    "    return True"
   ]
  },
  {
   "cell_type": "code",
   "execution_count": 17,
   "metadata": {},
   "outputs": [
    {
     "data": {
      "text/plain": [
       "False"
      ]
     },
     "execution_count": 17,
     "metadata": {},
     "output_type": "execute_result"
    }
   ],
   "source": [
    "est_cyclique({'A':'E', 'F':'A', 'C':'D', 'E':'B', 'B':'F', 'D':'C'})"
   ]
  },
  {
   "cell_type": "code",
   "execution_count": 18,
   "metadata": {},
   "outputs": [
    {
     "data": {
      "text/plain": [
       "True"
      ]
     },
     "execution_count": 18,
     "metadata": {},
     "output_type": "execute_result"
    }
   ],
   "source": [
    "est_cyclique({'A':'E', 'F':'C', 'C':'D', 'E':'B', 'B':'F', 'D':'A'})"
   ]
  },
  {
   "cell_type": "code",
   "execution_count": 19,
   "metadata": {},
   "outputs": [
    {
     "data": {
      "text/plain": [
       "True"
      ]
     },
     "execution_count": 19,
     "metadata": {},
     "output_type": "execute_result"
    }
   ],
   "source": [
    "est_cyclique({'A':'B', 'F':'C', 'C':'D', 'E':'A', 'B':'F', 'D':'E'})"
   ]
  },
  {
   "cell_type": "code",
   "execution_count": 20,
   "metadata": {},
   "outputs": [
    {
     "data": {
      "text/plain": [
       "False"
      ]
     },
     "execution_count": 20,
     "metadata": {},
     "output_type": "execute_result"
    }
   ],
   "source": [
    "est_cyclique({'A':'B', 'F':'A', 'C':'D', 'E':'C', 'B':'F', 'D':'E'})"
   ]
  }
 ],
 "metadata": {
  "interpreter": {
   "hash": "a4582a75a41fb78247f9e0d5ac5dcfbd0ffd857e3944b83ed2a96ac364b75fd7"
  },
  "kernelspec": {
   "display_name": "Python 3.9.1 64-bit",
   "language": "python",
   "name": "python3"
  },
  "language_info": {
   "codemirror_mode": {
    "name": "ipython",
    "version": 3
   },
   "file_extension": ".py",
   "mimetype": "text/x-python",
   "name": "python",
   "nbconvert_exporter": "python",
   "pygments_lexer": "ipython3",
   "version": "3.9.1"
  },
  "orig_nbformat": 4
 },
 "nbformat": 4,
 "nbformat_minor": 2
}
