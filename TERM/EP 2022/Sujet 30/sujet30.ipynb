{
 "cells": [
  {
   "cell_type": "code",
   "execution_count": 13,
   "metadata": {},
   "outputs": [],
   "source": [
    "def fusion(tab1, tab2) :\n",
    "\n",
    "    tab_trie = []\n",
    "\n",
    "    longeur_tab1 = len(tab1)\n",
    "    longeur_tab2 = len(tab2)\n",
    "\n",
    "    i1 = 0\n",
    "    i2 = 0\n",
    "\n",
    "    while (i1 < longeur_tab1) and (i2 < longeur_tab2) :\n",
    "        if tab1[i1] < tab2[i2] : \n",
    "            tab_trie.append(tab1[i1])\n",
    "            i1 += 1\n",
    "        else : #tab1[i1] > tab2[i2]\n",
    "            tab_trie.append(tab2[i2])\n",
    "            i2 += 1\n",
    "    \n",
    "    if (i1 - longeur_tab1) == 0 :\n",
    "        while i2 < longeur_tab2 :\n",
    "            tab_trie.append(tab2[i2])\n",
    "            i2 += 1\n",
    "    else :\n",
    "        while i1 < longeur_tab1 :\n",
    "            tab_trie.append(tab1[i1])\n",
    "            i1 += 1\n",
    "        \n",
    "\n",
    "    return tab_trie\n"
   ]
  },
  {
   "cell_type": "code",
   "execution_count": 14,
   "metadata": {},
   "outputs": [
    {
     "data": {
      "text/plain": [
       "[2, 3, 5, 5]"
      ]
     },
     "execution_count": 14,
     "metadata": {},
     "output_type": "execute_result"
    }
   ],
   "source": [
    "fusion([3, 5], [2, 5])"
   ]
  },
  {
   "cell_type": "code",
   "execution_count": 15,
   "metadata": {},
   "outputs": [
    {
     "data": {
      "text/plain": [
       "[-3, -2, 4, 5, 10]"
      ]
     },
     "execution_count": 15,
     "metadata": {},
     "output_type": "execute_result"
    }
   ],
   "source": [
    "fusion([-2, 4], [-3, 5, 10])"
   ]
  },
  {
   "cell_type": "code",
   "execution_count": 16,
   "metadata": {},
   "outputs": [
    {
     "data": {
      "text/plain": [
       "[2, 4, 6]"
      ]
     },
     "execution_count": 16,
     "metadata": {},
     "output_type": "execute_result"
    }
   ],
   "source": [
    "fusion([4], [2, 6])"
   ]
  },
  {
   "cell_type": "code",
   "execution_count": 21,
   "metadata": {},
   "outputs": [],
   "source": [
    "def rom_to_dec(nombre) :\n",
    "\n",
    "    dico = {\"I\":1, \"V\":5, \"X\":10, \"L\":50, \"C\":100, \"D\":500, \"M\":1000}\n",
    "\n",
    "    if len(nombre) == 1 :\n",
    "        return dico[nombre]\n",
    "    else :\n",
    "        nombre_droite = nombre[1:]\n",
    "        if dico[nombre[0]] >= dico[nombre[1]] :\n",
    "            return dico[nombre[0]] + rom_to_dec(nombre_droite)\n",
    "        else :\n",
    "            return rom_to_dec(nombre_droite) - dico[nombre[0]]\n"
   ]
  },
  {
   "cell_type": "code",
   "execution_count": 22,
   "metadata": {},
   "outputs": [
    {
     "data": {
      "text/plain": [
       "142"
      ]
     },
     "execution_count": 22,
     "metadata": {},
     "output_type": "execute_result"
    }
   ],
   "source": [
    "rom_to_dec(\"CXLII\")"
   ]
  }
 ],
 "metadata": {
  "interpreter": {
   "hash": "c9b53006eb56ed42d4fa5fa073fce4d2216f27269ec7b06e2249a959fdf3d018"
  },
  "kernelspec": {
   "display_name": "Python 3.9.4 64-bit",
   "language": "python",
   "name": "python3"
  },
  "language_info": {
   "codemirror_mode": {
    "name": "ipython",
    "version": 3
   },
   "file_extension": ".py",
   "mimetype": "text/x-python",
   "name": "python",
   "nbconvert_exporter": "python",
   "pygments_lexer": "ipython3",
   "version": "3.9.4"
  },
  "orig_nbformat": 4
 },
 "nbformat": 4,
 "nbformat_minor": 2
}
