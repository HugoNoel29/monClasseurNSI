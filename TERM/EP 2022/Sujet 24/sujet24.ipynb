{
 "cells": [
  {
   "cell_type": "code",
   "execution_count": 3,
   "metadata": {},
   "outputs": [],
   "source": [
    "def maxliste(tab) :\n",
    "    max = tab[0]\n",
    "    for elt in tab :\n",
    "        if elt > max :\n",
    "            max = elt\n",
    "    return max"
   ]
  },
  {
   "cell_type": "code",
   "execution_count": 4,
   "metadata": {},
   "outputs": [
    {
     "data": {
      "text/plain": [
       "131"
      ]
     },
     "execution_count": 4,
     "metadata": {},
     "output_type": "execute_result"
    }
   ],
   "source": [
    "maxliste([98, 12, 104, 23, 131, 9])"
   ]
  },
  {
   "cell_type": "code",
   "execution_count": 5,
   "metadata": {},
   "outputs": [
    {
     "data": {
      "text/plain": [
       "24"
      ]
     },
     "execution_count": 5,
     "metadata": {},
     "output_type": "execute_result"
    }
   ],
   "source": [
    "maxliste([-27, 24, -3, 15])"
   ]
  },
  {
   "cell_type": "code",
   "execution_count": 6,
   "metadata": {},
   "outputs": [],
   "source": [
    "def max(tab) :\n",
    "    new_tab = sorted(tab)\n",
    "    return new_tab[-1]"
   ]
  },
  {
   "cell_type": "code",
   "execution_count": 7,
   "metadata": {},
   "outputs": [
    {
     "data": {
      "text/plain": [
       "131"
      ]
     },
     "execution_count": 7,
     "metadata": {},
     "output_type": "execute_result"
    }
   ],
   "source": [
    "maxliste([98, 12, 104, 23, 131, 9])"
   ]
  },
  {
   "cell_type": "code",
   "execution_count": 8,
   "metadata": {},
   "outputs": [
    {
     "data": {
      "text/plain": [
       "24"
      ]
     },
     "execution_count": 8,
     "metadata": {},
     "output_type": "execute_result"
    }
   ],
   "source": [
    "maxliste([-27, 24, -3, 15])"
   ]
  },
  {
   "cell_type": "code",
   "execution_count": 9,
   "metadata": {},
   "outputs": [],
   "source": [
    "class Pile:\n",
    "    \"\"\"Classe définissant une pile\"\"\"\n",
    "    def __init__(self, valeurs=[]):\n",
    "        self.valeurs = valeurs\n",
    "    def est_vide(self):\n",
    "        \"\"\"Renvoie True si la pile est vide, False sinon\"\"\"\n",
    "        return self.valeurs == []\n",
    "    def empiler(self, c):\n",
    "        \"\"\"Place l’élément c au sommet de la pile\"\"\"\n",
    "        self.valeurs.append(c)\n",
    "    def depiler(self):\n",
    "        \"\"\"\n",
    "        Supprime l’élément placé au sommet de la pile, à condition qu’elle\n",
    "        soit non vide\n",
    "        \"\"\"\n",
    "        if self.est_vide() == False:\n",
    "            self.valeurs.pop()"
   ]
  },
  {
   "cell_type": "code",
   "execution_count": 12,
   "metadata": {},
   "outputs": [],
   "source": [
    "def parenthesage(ch) :\n",
    "    p = Pile()\n",
    "    for c in ch :\n",
    "        if c == \"(\" :\n",
    "            p.empiler(c)\n",
    "        elif c == \")\" :\n",
    "            if p.est_vide() :\n",
    "                return False\n",
    "            else :\n",
    "                p.depiler()\n",
    "    return p.est_vide()"
   ]
  },
  {
   "cell_type": "code",
   "execution_count": 13,
   "metadata": {},
   "outputs": [],
   "source": [
    "assert parenthesage(\"((()())(()))\") == True\n",
    "assert parenthesage(\"())(()\") == False\n",
    "assert parenthesage(\"(())(()\") == False"
   ]
  }
 ],
 "metadata": {
  "interpreter": {
   "hash": "c535f766096f575e5993344ecf38043c94305985d3bbdfcb24d1ab2af40cf48e"
  },
  "kernelspec": {
   "display_name": "Python 3.9.4 64-bit",
   "language": "python",
   "name": "python3"
  },
  "language_info": {
   "codemirror_mode": {
    "name": "ipython",
    "version": 3
   },
   "file_extension": ".py",
   "mimetype": "text/x-python",
   "name": "python",
   "nbconvert_exporter": "python",
   "pygments_lexer": "ipython3",
   "version": "3.9.4"
  },
  "orig_nbformat": 4
 },
 "nbformat": 4,
 "nbformat_minor": 2
}
