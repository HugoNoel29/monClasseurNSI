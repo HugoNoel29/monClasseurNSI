{
 "cells": [
  {
   "cell_type": "markdown",
   "metadata": {},
   "source": [
    "<h1>Exercice 1</h1>"
   ]
  },
  {
   "cell_type": "markdown",
   "metadata": {},
   "source": [
    "L'idée est de créer une fonction qui inverse une chaine de caractères\n",
    "\n",
    "Pour cela il y a de nombreuses possibilités"
   ]
  },
  {
   "cell_type": "markdown",
   "metadata": {},
   "source": [
    "<h3>La permière chose a laquelle j'ai pensé : la concaténation</h3>"
   ]
  },
  {
   "cell_type": "code",
   "execution_count": null,
   "metadata": {},
   "outputs": [],
   "source": [
    "def reverse(chaine : str) -> str :\n",
    "    \"\"\"\n",
    "    Prend une chaine de caractères et en renvoie l'inverse\n",
    "    Exemple : >>> reverse(\"informatique\")\n",
    "              >>> \"euqitamrofni\"\n",
    "    \"\"\"\n",
    "    assert type(chaine) == str, \"Le paramètre en entrée doit être une chaine de carctères\"\n",
    "\n",
    "    inverse = \"\"\n",
    "    for i in range(1, len(chaine) + 1) :\n",
    "        inverse += chaine[-i]\n",
    "    return inverse"
   ]
  },
  {
   "cell_type": "code",
   "execution_count": null,
   "metadata": {},
   "outputs": [],
   "source": [
    "reverse(\"informatique\")"
   ]
  },
  {
   "cell_type": "markdown",
   "metadata": {},
   "source": [
    "<h3>Une autre version avec de la concaténation</h3>"
   ]
  },
  {
   "cell_type": "code",
   "execution_count": null,
   "metadata": {},
   "outputs": [],
   "source": [
    "def autre_reverse(chaine : str) -> str :\n",
    "    \"\"\"\n",
    "    Prend une chaine de caractères et en renvoie l'inverse\n",
    "    Exemple : >>> autre_reverse(\"informatique\")\n",
    "              >>> \"euqitamrofni\"\n",
    "    \"\"\"\n",
    "    assert type(chaine) == str, \"Le paramètre en entrée doit être une chaine de carctères\"\n",
    "\n",
    "    inverse = \"\"\n",
    "    for i in range(len(chaine)) :\n",
    "        inverse = chaine[i] + inverse\n",
    "    return inverse"
   ]
  },
  {
   "cell_type": "code",
   "execution_count": null,
   "metadata": {},
   "outputs": [],
   "source": [
    "autre_reverse(\"informatique\")"
   ]
  },
  {
   "cell_type": "markdown",
   "metadata": {},
   "source": [
    "<h3>On peut le faire encore plus simplement avec du slicing</h3>"
   ]
  },
  {
   "cell_type": "code",
   "execution_count": null,
   "metadata": {},
   "outputs": [],
   "source": [
    "def reverse_slice(chaine : str) -> str :\n",
    "    \"\"\"\n",
    "    Prend une chaine de caractères et en renvoie l'inverse\n",
    "    Exemple : >>> reverse_slice(\"informatique\")\n",
    "              >>> \"euqitamrofni\"\n",
    "    \"\"\"\n",
    "    assert type(chaine) == str, \"Le paramètre en entrée doit être une chaine de carctères\"\n",
    "\n",
    "    return chaine[::-1]"
   ]
  },
  {
   "cell_type": "code",
   "execution_count": null,
   "metadata": {},
   "outputs": [],
   "source": [
    "reverse_slice(\"informatique\")"
   ]
  },
  {
   "cell_type": "markdown",
   "metadata": {},
   "source": [
    "<h3>On peut aussi le faire de manière récursive avec du slicing</h3>"
   ]
  },
  {
   "cell_type": "markdown",
   "metadata": {},
   "source": [
    "<h4>Avec slicing</h4>"
   ]
  },
  {
   "cell_type": "code",
   "execution_count": null,
   "metadata": {},
   "outputs": [],
   "source": [
    "def reverse_recursif_slice(chaine : str) -> str :\n",
    "    \"\"\"\n",
    "    Prend une chaine de caractères et en renvoie l'inverse\n",
    "    Exemple : >>> reverse_recursif_slice(\"informatique\")\n",
    "              >>> \"euqitamrofni\"\n",
    "    \"\"\"\n",
    "    assert type(chaine) == str, \"Le paramètre en entrée doit être une chaine de carctères\"\n",
    "\n",
    "    if len(chaine) == 0 :\n",
    "        return \"\"\n",
    "    else :\n",
    "        return chaine[-1] + reverse_recursif_slice(chaine[:-1])"
   ]
  },
  {
   "cell_type": "code",
   "execution_count": null,
   "metadata": {},
   "outputs": [],
   "source": [
    "reverse_recursif_slice(\"informatique\")"
   ]
  },
  {
   "cell_type": "markdown",
   "metadata": {},
   "source": [
    "<h4>On peut utiliser la module timeit pour voir le plus rapide</h4>"
   ]
  },
  {
   "cell_type": "code",
   "execution_count": null,
   "metadata": {},
   "outputs": [],
   "source": [
    "texte = \"Je suppose les hommes parvenus à ce point où les obstacles qui nuisent à leur conservation dans l’état de nature l’emportent, par leur résistance, sur les forces que chaque individu peut employer pour se maintenir dans cet état. Alors cet état primitif ne peut plus subsister ; et le genre humain périrait s’il ne changeait de manière d’être. Or, comme les hommes ne peuvent engendrer de nouvelles forces, mais seulement unir et diriger celles qui existent, ils n’ont plus d’autre moyen, pour se conserver, que de former par agrégation une somme de forces qui puisse l’emporter sur la résistance, de les mettre en jeu par un seul mobile et de les faire agir de concert. Cette somme de forces ne peut naître que du concours de plusieurs ; mais la force et la liberté de chaque homme étant les premiers instruments de sa conservation, comment les engagera-t-il sans se nuire et sans négliger les soins qu’il se doit ? Cette difficulté, ramenée à mon sujet, peut s’énoncer en ces termes : « Trouver une forme d’association qui défende et protège de toute la force commune la personne et les biens de chaque associé, et par laquelle chacun, s’unissant à tous, n’obéisse pourtant qu’à lui-même, et reste aussi libre qu’auparavant. » Tel est le problème fondamental dont le Contrat social donne la solution. Les clauses de ce contrat sont tellement déterminées par la nature de l’acte, que la moindre modification les rendrait vaines et de nul effet ; en sorte que, bien qu’elles n’aient peut-être jamais été formellement énoncées, elles sont partout les mêmes, partout tacitement admises et reconnues, jusqu’à ce que, le pacte social étant violé, chacun rentre alors dans ses premiers droits, et reprenne sa liberté naturelle, en perdant la liberté conventionnelle pour laquelle il y renonça. Ces clauses, bien entendues, se réduisent toutes à une seule – savoir, l’aliénation totale de chaque associé avec tous ses droits à toute la communauté : car, premièrement, chacun se donnant tout entier, la condition est égale pour tous ; et la condition étant égale pour tous, nul n’a intérêt de la rendre onéreuse aux autres. De plus, l’aliénation se faisant sans réserve, l’union est aussi parfaite qu’elle peut l’être, et nul associé n’a plus rien à réclamer : car, s’il restait quelques droits aux particuliers, comme il n’y aurait aucun supérieur commun qui pût prononcer entre eux et le public, chacun, étant en quelque point son propre juge, prétendrait bientôt l’être en tous ; l’état de nature subsisterait, et l’association deviendrait nécessairement tyrannique ou vaine. Enfin, chacun se donnant à tous ne se donne à personne ; et comme il n’y a pas un associé sur lequel on n’acquière le même droit qu’on lui cède sur soi, on gagne l’équivalent de tout ce qu’on perd, et plus de force pour conserver ce qu’on a. Si donc on écarte du pacte social ce qui n’est pas de son essence, on trouvera qu’il se réduit aux termes suivants : « Chacun de nous met en commun sa personne et toute sa puissance sous la suprême direction de la volonté générale ; et nous recevons encore chaque membre comme partie indivisible du tout. » À l’instant, au lieu de la personne particulière de chaque contractant, cet acte d’association produit un corps moral et collectif, composé d’autant de membres que l’assemblée a de voix, lequel reçoit de ce même acte son unité, son moi commun, sa vie et sa volonté. Cette personne publique, qui se forme ainsi par l’union de toutes les autres, prenait autrefois le nom de cité, et prend maintenant celui de république ou de corps politique, lequel est appelé par ses membres État quand il est passif, souverain quand il est actif, puissance en le comparant à ses semblables. À l’égard des associés, ils prennent collectivement le nom de peuple, et s’appellent en particulier citoyens, comme participant à l’autorité souveraine, et sujets, comme soumis aux lois de l’État. Mais ces termes se confondent souvent et se prennent l’un pour l’autre ; il suffit de les savoir distinguer quand ils sont employés dans toute leur précision.\""
   ]
  },
  {
   "cell_type": "code",
   "execution_count": null,
   "metadata": {},
   "outputs": [],
   "source": [
    "from timeit import default_timer as timer\n",
    "\n",
    "\n",
    "debut = timer()\n",
    "print('reverse :', reverse(texte), \"\\n\")\n",
    "fin = timer()\n",
    "print('Le temps avec reverse :', fin-debut, \"\\n\")"
   ]
  },
  {
   "cell_type": "code",
   "execution_count": null,
   "metadata": {},
   "outputs": [],
   "source": [
    "debut = timer()\n",
    "print('autre_reverse :', autre_reverse(texte), \"\\n\")\n",
    "fin = timer()\n",
    "print('Le temps avec autre_reverse :', fin-debut, \"\\n\")"
   ]
  },
  {
   "cell_type": "code",
   "execution_count": null,
   "metadata": {},
   "outputs": [],
   "source": [
    "debut = timer()\n",
    "print('reverse_slice :', reverse_slice(texte), \"\\n\")\n",
    "fin = timer()\n",
    "print('Le temps avec reverse_slice :', fin-debut, \"\\n\")"
   ]
  },
  {
   "cell_type": "code",
   "execution_count": null,
   "metadata": {},
   "outputs": [],
   "source": [
    "debut = timer()\n",
    "print('reverse_recursif_slice :', reverse_recursif_slice(texte), \"\\n\")\n",
    "fin = timer()\n",
    "print('Le temps avec reverse_recursif_slice:', fin-debut, \"\\n\")"
   ]
  },
  {
   "cell_type": "markdown",
   "metadata": {},
   "source": [
    "On ne peut pas faire pour le recursif car Python ne le permet pas (max de 1000 appels récursifs)"
   ]
  },
  {
   "cell_type": "markdown",
   "metadata": {},
   "source": [
    "<h3>Durée en ms</h3>"
   ]
  },
  {
   "cell_type": "markdown",
   "metadata": {},
   "source": [
    "Chez moi :\n",
    "\n",
    "Reverse | Autre Reverse | Slice |\n",
    "---: | :---: | :--- |\n",
    "1.7 | 3.6 | 0.6 |"
   ]
  },
  {
   "cell_type": "markdown",
   "metadata": {},
   "source": [
    "Au lycée :\n",
    "\n",
    "Reverse | Autre Reverse | Slice |\n",
    "---: | :---: | :--- |\n",
    "1.6 | 3.6 | 0.59 |"
   ]
  },
  {
   "cell_type": "markdown",
   "metadata": {},
   "source": [
    "Le slice est presque 3 fois plus rapide que la concaténation.\n",
    "\n",
    "On pourrait aussi chercher la version avec la plus petite complexité. Tout dépend des besoins."
   ]
  },
  {
   "cell_type": "markdown",
   "metadata": {},
   "source": [
    "<h2>On peut aussi transformer la chaine en liste"
   ]
  },
  {
   "cell_type": "code",
   "execution_count": null,
   "metadata": {},
   "outputs": [],
   "source": [
    "def strTolist(chaine : str) -> list :\n",
    "    liste = []\n",
    "    for i in chaine :\n",
    "        liste.append(i)\n",
    "    return liste"
   ]
  },
  {
   "cell_type": "code",
   "execution_count": null,
   "metadata": {},
   "outputs": [],
   "source": [
    "strTolist(\"Rousseau\")"
   ]
  },
  {
   "cell_type": "code",
   "execution_count": null,
   "metadata": {},
   "outputs": [],
   "source": [
    "def inverseList(liste :list) -> str :\n",
    "   return liste[::-1]"
   ]
  },
  {
   "cell_type": "code",
   "execution_count": null,
   "metadata": {},
   "outputs": [],
   "source": [
    "def inverseList2(liste : list) -> list :\n",
    "   liste.reverse()\n",
    "   return liste"
   ]
  },
  {
   "cell_type": "code",
   "execution_count": null,
   "metadata": {},
   "outputs": [],
   "source": [
    "def listToStr(liste : list) -> str :\n",
    "    chaine = \"\"\n",
    "    for i in liste :\n",
    "        chaine += i\n",
    "    return chaine"
   ]
  },
  {
   "cell_type": "code",
   "execution_count": null,
   "metadata": {},
   "outputs": [],
   "source": [
    "listToStr(['R', 'o', 'u', 's', 's', 'e', 'a', 'u'])"
   ]
  },
  {
   "cell_type": "code",
   "execution_count": null,
   "metadata": {},
   "outputs": [],
   "source": [
    "def prog1(chaine) :\n",
    "    x = strTolist(chaine)\n",
    "    inverseList(x)\n",
    "    return listToStr(x)\n",
    "\n",
    "def prog2(chaine) :\n",
    "    x = strTolist(chaine)\n",
    "    inverseList2(x)\n",
    "    return listToStr(x)"
   ]
  },
  {
   "cell_type": "code",
   "execution_count": null,
   "metadata": {},
   "outputs": [],
   "source": [
    "debut = timer()\n",
    "print(prog1(texte), \"\\n\")\n",
    "fin = timer()\n",
    "print('inverseList (slice):', fin-debut, \"\\n\")\n",
    "\n",
    "\n",
    "\n",
    "debut = timer()\n",
    "print(prog2(texte), \"\\n\")\n",
    "fin = timer()\n",
    "print('inverseList2 (.reverse()):', fin-debut, \"\\n\")"
   ]
  },
  {
   "cell_type": "markdown",
   "metadata": {},
   "source": [
    "Chez moi :\n",
    "\n",
    "inverseList | InverseList2 |\n",
    "---: | :--- | \n",
    "1.5 | 0.89 | "
   ]
  },
  {
   "cell_type": "markdown",
   "metadata": {},
   "source": [
    "Au lycée :\n",
    "\n",
    "inverseList | InverseList2 |\n",
    "---: | :--- | \n",
    "1.4 | 0.9 | "
   ]
  },
  {
   "cell_type": "markdown",
   "metadata": {},
   "source": [
    "La transformation en liste -> inversion -> retransformation en chainr est plus rapide que la concaténation mais moins que le slice."
   ]
  },
  {
   "cell_type": "markdown",
   "metadata": {},
   "source": [
    "<h1>Exercice 2</h1>"
   ]
  },
  {
   "cell_type": "markdown",
   "metadata": {},
   "source": [
    "Le but de cet exercice est de compléter un code permettant de trouver tout les nombres premiers \n",
    "\n",
    "( Un nombre permier est un nombre qui n'admet que 2 diviseurs : 1 et lui-même )\n",
    "\n",
    "Pour ce faire on utilise le crible d'Ératosthène\n",
    "\n",
    "Le crible d’Ératosthène permet de déterminer les nombres premiers plus petit qu’un certain nombre N fixé\n"
   ]
  },
  {
   "cell_type": "markdown",
   "metadata": {},
   "source": [
    "\n",
    "On considère pour cela un tableau tab de N booléens, initialement tous égaux à True, sauf\n",
    "tab[0] et tab[1] qui valent False, 0 et 1 n’étant pas des nombres premiers.\n",
    "\n",
    "On parcourt alors ce tableau de gauche à droite.\n",
    "Pour chaque indice i :\n",
    "- si tab[i] vaut True : le nombre i est premier et on donne la valeur False à toutes les\n",
    "cases du tableau dont l’indice est un multiple de i, à partir de 2*i (c’est-à-dire 2*i, 3*i …).\n",
    "- si tab[i] vaut False : le nombre i n’est pas premier et on n’effectue aucun\n",
    "changement sur le tableau."
   ]
  },
  {
   "cell_type": "markdown",
   "metadata": {},
   "source": [
    "<h4>Code à completer</h4>"
   ]
  },
  {
   "cell_type": "code",
   "execution_count": null,
   "metadata": {},
   "outputs": [],
   "source": [
    "def crible(N : int) -> list :\n",
    "    \"\"\"\n",
    "    Renvoie un tableau contenant tout les nombres premiers plus petits que N\n",
    "\n",
    "    Exemple : >>> crible(40)\n",
    "              >>> [2, 3, 5, 7, 11, 13, 17, 19, 23, 29, 31, 37]\n",
    "    \"\"\"\n",
    "    assert type(N) == int, \"L'entrée doit être de type int\"\n",
    "\n",
    "    premiers = []\n",
    "    tab = [True] * N\n",
    "    tab[0], tab[1] = False, False\n",
    "\n",
    "    for i in range(..., N) :\n",
    "        if tab[i] == ... :\n",
    "            premiers.append(...)\n",
    "            for multiples in range(2*i, N, ...) :\n",
    "                tab[multiples] = ...\n",
    "    return premiers"
   ]
  },
  {
   "cell_type": "markdown",
   "metadata": {},
   "source": [
    "<h4>Code complété</h4>"
   ]
  },
  {
   "cell_type": "code",
   "execution_count": null,
   "metadata": {},
   "outputs": [],
   "source": [
    "def crible(N : int) -> list :\n",
    "    \"\"\"\n",
    "    Renvoie un tableau contenant tout les nombres premiers plus petits que N\n",
    "\n",
    "    Exemple : >>> crible(40)\n",
    "              >>> [2, 3, 5, 7, 11, 13, 17, 19, 23, 29, 31, 37]\n",
    "    \"\"\"\n",
    "    assert type(N) == int, \"L'entrée doit être de type int\"\n",
    "\n",
    "    premiers = []\n",
    "    tab = [True] * N\n",
    "    tab[0], tab[1] = False, False\n",
    "\n",
    "    for i in range(2, N) :\n",
    "        if tab[i] == True :\n",
    "            premiers.append(i)\n",
    "            for multiples in range(2*i, N, i) :\n",
    "                tab[multiples] = False\n",
    "    return premiers"
   ]
  },
  {
   "cell_type": "code",
   "execution_count": null,
   "metadata": {},
   "outputs": [],
   "source": [
    "crible(40)"
   ]
  },
  {
   "cell_type": "markdown",
   "metadata": {},
   "source": [
    "<h4>Ce n'est qu'une méthode possible et qui ne couvre qu'un des problèmes possibles avec les nombres premiers. <br> On pourrait aussi chercher quel est le n-ième nombre premier, si un nombre donné est premier ou non, etc.</h4>"
   ]
  }
 ],
 "metadata": {
  "interpreter": {
   "hash": "d392c9ddaa6b365e1706bdbc6bd2786d403f6271a103ff8a7f34ee918c5830ad"
  },
  "kernelspec": {
   "display_name": "Python 3.9.1 64-bit",
   "language": "python",
   "name": "python3"
  },
  "language_info": {
   "codemirror_mode": {
    "name": "ipython",
    "version": 3
   },
   "file_extension": ".py",
   "mimetype": "text/x-python",
   "name": "python",
   "nbconvert_exporter": "python",
   "pygments_lexer": "ipython3",
   "version": "3.9.4"
  },
  "orig_nbformat": 4
 },
 "nbformat": 4,
 "nbformat_minor": 2
}
