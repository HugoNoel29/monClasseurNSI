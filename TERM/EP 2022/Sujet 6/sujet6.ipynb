{
 "cells": [
  {
   "cell_type": "markdown",
   "metadata": {},
   "source": [
    "<h1>Exercice 1</h1>"
   ]
  },
  {
   "cell_type": "code",
   "execution_count": 7,
   "metadata": {},
   "outputs": [],
   "source": [
    "def maxi(tab : list)  :\n",
    "    \"\"\"\n",
    "    Prend en entrée une liste et renvoie un couple donnant le plus \n",
    "    grand élément de cette liste ainsi que l’indice de la\n",
    "    première apparition de ce maximum dans la liste.\n",
    "\n",
    "    Exemple : >>> maxi([1,5,6,9,1,2,3,7,9,8])\n",
    "              >>> (9, 3)\n",
    "            \n",
    "    Préconditions : une liste de int\n",
    "\n",
    "    Postconditions : un tuple de int\n",
    "\n",
    "    \"\"\"\n",
    "\n",
    "    assert [type(i) for i in tab] == [int]*len(tab), \"La liste doit contenir uniquement des types int\"\n",
    "    \"\"\"Cet assert est bien car il vérifie que la listre est faite de int\n",
    "    mais mal car il prendrait plèus de temps et de complexité\"\"\"\n",
    "    max = tab[0]\n",
    "    indice_max = 0\n",
    "\n",
    "    for i in range(len(tab)) :\n",
    "        if tab[i] > max :\n",
    "            max = tab[i]\n",
    "            indice_max = i\n",
    "    return max, indice_max"
   ]
  },
  {
   "cell_type": "code",
   "execution_count": 8,
   "metadata": {},
   "outputs": [
    {
     "data": {
      "text/plain": [
       "(9, 3)"
      ]
     },
     "execution_count": 8,
     "metadata": {},
     "output_type": "execute_result"
    }
   ],
   "source": [
    "maxi([1,5,6,9,1,2,3,7,9,8])"
   ]
  },
  {
   "cell_type": "markdown",
   "metadata": {},
   "source": [
    "<h1>Exercice 2</h1>"
   ]
  },
  {
   "cell_type": "code",
   "execution_count": 13,
   "metadata": {},
   "outputs": [],
   "source": [
    "def recherche(gene, seq_adn):\n",
    "\n",
    "    n = len(seq_adn)\n",
    "    g = len(gene)\n",
    "    i = 0\n",
    "    trouve = False\n",
    "\n",
    "    while i < n-g and trouve == False :\n",
    "        j = 0\n",
    "        while j < g and gene[j] == seq_adn[i+j]:\n",
    "            j += 1\n",
    "        if j == g:\n",
    "            trouve = True\n",
    "        i += 1\n",
    "    return trouve"
   ]
  },
  {
   "cell_type": "code",
   "execution_count": 14,
   "metadata": {},
   "outputs": [
    {
     "data": {
      "text/plain": [
       "True"
      ]
     },
     "execution_count": 14,
     "metadata": {},
     "output_type": "execute_result"
    }
   ],
   "source": [
    "recherche(\"AATC\", \"GTACAAATCTTGCC\")"
   ]
  },
  {
   "cell_type": "code",
   "execution_count": 15,
   "metadata": {},
   "outputs": [
    {
     "data": {
      "text/plain": [
       "False"
      ]
     },
     "execution_count": 15,
     "metadata": {},
     "output_type": "execute_result"
    }
   ],
   "source": [
    "recherche(\"AGTC\", \"GTACAAATCTTGCC\")"
   ]
  }
 ],
 "metadata": {
  "interpreter": {
   "hash": "d392c9ddaa6b365e1706bdbc6bd2786d403f6271a103ff8a7f34ee918c5830ad"
  },
  "kernelspec": {
   "display_name": "Python 3.9.1 64-bit",
   "language": "python",
   "name": "python3"
  },
  "language_info": {
   "codemirror_mode": {
    "name": "ipython",
    "version": 3
   },
   "file_extension": ".py",
   "mimetype": "text/x-python",
   "name": "python",
   "nbconvert_exporter": "python",
   "pygments_lexer": "ipython3",
   "version": "3.9.1"
  },
  "orig_nbformat": 4
 },
 "nbformat": 4,
 "nbformat_minor": 2
}
