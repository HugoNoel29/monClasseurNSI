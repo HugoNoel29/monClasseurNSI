{
 "cells": [
  {
   "cell_type": "code",
   "execution_count": 12,
   "metadata": {},
   "outputs": [],
   "source": [
    "def max_dico(dico : dict) -> tuple :\n",
    "\n",
    "    max_cle = \"\"\n",
    "    max_val = 0\n",
    "\n",
    "    for cle in dico :\n",
    "        if dico[cle] > max_val :\n",
    "            max_val = dico[cle]\n",
    "            max_cle = cle\n",
    "    return (max_cle, max_val)"
   ]
  },
  {
   "cell_type": "code",
   "execution_count": 15,
   "metadata": {},
   "outputs": [
    {
     "data": {
      "text/plain": [
       "('Ada', 201)"
      ]
     },
     "execution_count": 15,
     "metadata": {},
     "output_type": "execute_result"
    }
   ],
   "source": [
    "max_dico({'Bob': 102, 'Ada': 201, 'Alice': 103, 'Tim': 50})"
   ]
  },
  {
   "cell_type": "code",
   "execution_count": 16,
   "metadata": {},
   "outputs": [
    {
     "data": {
      "text/plain": [
       "('Alan', 222)"
      ]
     },
     "execution_count": 16,
     "metadata": {},
     "output_type": "execute_result"
    }
   ],
   "source": [
    "max_dico({'Alan': 222, 'Ada': 201, 'Eve': 220, 'Tim': 50})"
   ]
  },
  {
   "cell_type": "code",
   "execution_count": 17,
   "metadata": {},
   "outputs": [],
   "source": [
    "class Pile:\n",
    "    \"\"\"Classe définissant une structure de pile.\"\"\"\n",
    "\n",
    "    def __init__(self):\n",
    "        self.contenu = []\n",
    "\n",
    "    def est_vide(self):\n",
    "        \"\"\"\n",
    "        Renvoie le booléen True si la pile est vide, False sinon.\n",
    "        \"\"\"\n",
    "        return self.contenu == []\n",
    "\n",
    "    def empiler(self, v):\n",
    "        \"\"\"Place l’élément v au sommet de la pile.\"\"\"\n",
    "        self.contenu.append(v)\n",
    "\n",
    "    def depiler(self):\n",
    "        \"\"\"\n",
    "        Retire et renvoie l’élément placé au sommet de la pile,\n",
    "        si la pile n’est pas vide.\n",
    "        \"\"\"\n",
    "        if not self.est_vide(): \n",
    "            return self.contenu.pop()"
   ]
  },
  {
   "cell_type": "code",
   "execution_count": 24,
   "metadata": {},
   "outputs": [],
   "source": [
    "def eval_expression(tab) :\n",
    "    p = Pile()\n",
    "    for element in tab :\n",
    "        if element != '+' and element != '*' :\n",
    "            p.empiler(element)\n",
    "        else :\n",
    "            if element == '+' :\n",
    "                resultat = p.depiler() + p.depiler()\n",
    "            else :\n",
    "                resultat = p.depiler() * p.depiler()\n",
    "            p.empiler(resultat)\n",
    "    return p.depiler()"
   ]
  },
  {
   "cell_type": "code",
   "execution_count": 25,
   "metadata": {},
   "outputs": [
    {
     "data": {
      "text/plain": [
       "25"
      ]
     },
     "execution_count": 25,
     "metadata": {},
     "output_type": "execute_result"
    }
   ],
   "source": [
    "eval_expression([2, 3, '+', 5, '*'])"
   ]
  }
 ],
 "metadata": {
  "interpreter": {
   "hash": "c535f766096f575e5993344ecf38043c94305985d3bbdfcb24d1ab2af40cf48e"
  },
  "kernelspec": {
   "display_name": "Python 3.9.4 64-bit",
   "language": "python",
   "name": "python3"
  },
  "language_info": {
   "codemirror_mode": {
    "name": "ipython",
    "version": 3
   },
   "file_extension": ".py",
   "mimetype": "text/x-python",
   "name": "python",
   "nbconvert_exporter": "python",
   "pygments_lexer": "ipython3",
   "version": "3.9.4"
  },
  "orig_nbformat": 4
 },
 "nbformat": 4,
 "nbformat_minor": 2
}
