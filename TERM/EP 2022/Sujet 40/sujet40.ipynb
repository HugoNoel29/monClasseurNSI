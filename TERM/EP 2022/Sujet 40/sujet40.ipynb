{
 "cells": [
  {
   "cell_type": "code",
   "execution_count": 1,
   "metadata": {},
   "outputs": [],
   "source": [
    "def recherche(elt, tab) :\n",
    "    tab_indice = []\n",
    "    for i in range(len(tab)) :\n",
    "        if tab[i] == elt :\n",
    "            tab_indice.append(i)\n",
    "    return tab_indice"
   ]
  },
  {
   "cell_type": "code",
   "execution_count": 2,
   "metadata": {},
   "outputs": [
    {
     "data": {
      "text/plain": [
       "[0, 3]"
      ]
     },
     "execution_count": 2,
     "metadata": {},
     "output_type": "execute_result"
    }
   ],
   "source": [
    "recherche(3, [3, 2, 1, 3, 2, 1])"
   ]
  },
  {
   "cell_type": "code",
   "execution_count": 3,
   "metadata": {},
   "outputs": [
    {
     "data": {
      "text/plain": [
       "[]"
      ]
     },
     "execution_count": 3,
     "metadata": {},
     "output_type": "execute_result"
    }
   ],
   "source": [
    "recherche(4, [1, 2, 3])"
   ]
  },
  {
   "cell_type": "code",
   "execution_count": 4,
   "metadata": {},
   "outputs": [],
   "source": [
    "resultats = {'Dupont':{'DS1' : [15.5, 4],\n",
    " 'DM1' : [14.5, 1],\n",
    "'DS2' : [13, 4],\n",
    "'PROJET1' : [16, 3],\n",
    "'DS3' : [14, 4]},\n",
    " 'Durand':{'DS1' : [6 , 4],\n",
    " 'DM1' : [14.5, 1],\n",
    "'DS2' : [8, 4],\n",
    "'PROJET1' : [9, 3],\n",
    "'IE1' : [7, 2],\n",
    "'DS3' : [8, 4],\n",
    " 'DS4' :[15, 4]}}"
   ]
  },
  {
   "cell_type": "code",
   "execution_count": 8,
   "metadata": {},
   "outputs": [
    {
     "name": "stdout",
     "output_type": "stream",
     "text": [
      "[15.5, 4]\n",
      "[14.5, 1]\n",
      "[13, 4]\n",
      "[16, 3]\n",
      "[14, 4]\n"
     ]
    }
   ],
   "source": [
    "notes = resultats[\"Dupont\"]\n",
    "for valeurs in notes.values() :\n",
    "    print(valeurs)"
   ]
  },
  {
   "cell_type": "code",
   "execution_count": 9,
   "metadata": {},
   "outputs": [],
   "source": [
    "def moyenne(nom) :\n",
    "    if nom in resultats :\n",
    "        notes = resultats[nom]\n",
    "        total_points = 0\n",
    "        total_coefficients = 0\n",
    "        for valeurs in notes.values() :\n",
    "            note, coefficient = valeurs[0], valeurs[1] \n",
    "            total_points = total_points + note * coefficient\n",
    "            total_coefficients = total_coefficients + coefficient\n",
    "        return round(total_points / total_coefficients, 1)\n",
    "    else :\n",
    "        return -1"
   ]
  },
  {
   "cell_type": "code",
   "execution_count": 10,
   "metadata": {},
   "outputs": [
    {
     "data": {
      "text/plain": [
       "9.2"
      ]
     },
     "execution_count": 10,
     "metadata": {},
     "output_type": "execute_result"
    }
   ],
   "source": [
    "moyenne(\"Durand\")"
   ]
  },
  {
   "cell_type": "code",
   "execution_count": 11,
   "metadata": {},
   "outputs": [
    {
     "data": {
      "text/plain": [
       "14.5"
      ]
     },
     "execution_count": 11,
     "metadata": {},
     "output_type": "execute_result"
    }
   ],
   "source": [
    "moyenne(\"Dupont\")"
   ]
  }
 ],
 "metadata": {
  "interpreter": {
   "hash": "c9b53006eb56ed42d4fa5fa073fce4d2216f27269ec7b06e2249a959fdf3d018"
  },
  "kernelspec": {
   "display_name": "Python 3.9.4 64-bit",
   "language": "python",
   "name": "python3"
  },
  "language_info": {
   "codemirror_mode": {
    "name": "ipython",
    "version": 3
   },
   "file_extension": ".py",
   "mimetype": "text/x-python",
   "name": "python",
   "nbconvert_exporter": "python",
   "pygments_lexer": "ipython3",
   "version": "3.9.4"
  },
  "orig_nbformat": 4
 },
 "nbformat": 4,
 "nbformat_minor": 2
}
