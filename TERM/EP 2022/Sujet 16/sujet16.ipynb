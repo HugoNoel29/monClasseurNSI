{
 "cells": [
  {
   "cell_type": "markdown",
   "metadata": {},
   "source": [
    "<h1>Exercice 1"
   ]
  },
  {
   "cell_type": "code",
   "execution_count": 5,
   "metadata": {},
   "outputs": [],
   "source": [
    "def maxi(tab : list) -> tuple :\n",
    "    \"\"\"\n",
    "    Description : renvoie un couple donnant le plus grand élément de cette liste, \n",
    "                  ainsi que l’indice de la première apparition de ce maximum dans   \n",
    "                  la liste.\n",
    "\n",
    "    Exemple : >>> maxi([1,5,6,9,1,2,3,7,9,8])\n",
    "              >>> (9,3)\n",
    "\n",
    "    Précondition : (tab) : list : une liste de nombres entiers\n",
    "\n",
    "    Postcondition : (tuple) : contient la plus grande valeur de tab et son indice\n",
    "    \"\"\"\n",
    "    maxi = (tab[0], 0)\n",
    "    for i in range(1, len(tab)) :\n",
    "        if tab[i] > maxi[0] :\n",
    "            maxi = (tab[i], i)\n",
    "    return maxi"
   ]
  },
  {
   "cell_type": "code",
   "execution_count": 6,
   "metadata": {},
   "outputs": [
    {
     "data": {
      "text/plain": [
       "(9, 3)"
      ]
     },
     "execution_count": 6,
     "metadata": {},
     "output_type": "execute_result"
    }
   ],
   "source": [
    "maxi([1,5,6,9,1,2,3,7,9,8])"
   ]
  },
  {
   "cell_type": "markdown",
   "metadata": {},
   "source": [
    "<h1>Exercice 2"
   ]
  },
  {
   "cell_type": "code",
   "execution_count": 7,
   "metadata": {},
   "outputs": [],
   "source": [
    "def positif(T) :\n",
    "    T2 = list(T)\n",
    "    T3 = []\n",
    "    while T2 != [] :\n",
    "        x = T2.pop()\n",
    "        if x >= 0 :\n",
    "            T3.append(x)\n",
    "    T2 = []\n",
    "    while T3 != [] :\n",
    "        x = T3.pop()\n",
    "        T2.append(x)\n",
    "    print('T = ', T)\n",
    "    return T2"
   ]
  },
  {
   "cell_type": "code",
   "execution_count": 8,
   "metadata": {},
   "outputs": [
    {
     "name": "stdout",
     "output_type": "stream",
     "text": [
      "T =  [-1, 0, 5, -3, 4, -6, 10, 9, -8]\n"
     ]
    },
    {
     "data": {
      "text/plain": [
       "[0, 5, 4, 10, 9]"
      ]
     },
     "execution_count": 8,
     "metadata": {},
     "output_type": "execute_result"
    }
   ],
   "source": [
    "positif([-1,0,5,-3,4,-6,10,9,-8 ])"
   ]
  },
  {
   "cell_type": "code",
   "execution_count": null,
   "metadata": {},
   "outputs": [],
   "source": []
  }
 ],
 "metadata": {
  "interpreter": {
   "hash": "a4582a75a41fb78247f9e0d5ac5dcfbd0ffd857e3944b83ed2a96ac364b75fd7"
  },
  "kernelspec": {
   "display_name": "Python 3.9.1 64-bit",
   "language": "python",
   "name": "python3"
  },
  "language_info": {
   "codemirror_mode": {
    "name": "ipython",
    "version": 3
   },
   "file_extension": ".py",
   "mimetype": "text/x-python",
   "name": "python",
   "nbconvert_exporter": "python",
   "pygments_lexer": "ipython3",
   "version": "3.9.1"
  },
  "orig_nbformat": 4
 },
 "nbformat": 4,
 "nbformat_minor": 2
}
