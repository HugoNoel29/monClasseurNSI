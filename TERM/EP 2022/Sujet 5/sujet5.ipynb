{
 "cells": [
  {
   "cell_type": "markdown",
   "metadata": {},
   "source": [
    "<h1>Exercice 1</h1>"
   ]
  },
  {
   "cell_type": "code",
   "execution_count": 6,
   "metadata": {},
   "outputs": [],
   "source": [
    "def rechercheMinMax(tableau : list) -> dict :\n",
    "    \"\"\"\n",
    "    Je recherche le maximum et le minimum dans un tableau de int non rangés\n",
    "    Je les renvoie sous forme de dictionnaire : {'min': -2, 'max': 9}\n",
    "    \"\"\"\n",
    "    assert [type(i) for i in tableau] == [int]*len(tableau), \"Le tableau doit être fait de int\"\n",
    "\n",
    "    if tableau == [] :\n",
    "        minimum,maximum = None,None\n",
    "    else :\n",
    "        minimum,maximum = tableau[0],tableau[0]\n",
    "\n",
    "    for i in tableau :\n",
    "        if i > maximum :\n",
    "            maximum = i\n",
    "        if i < minimum :\n",
    "            minimum = i\n",
    "    return {'min' : minimum, 'max' : maximum}"
   ]
  },
  {
   "cell_type": "code",
   "execution_count": 7,
   "metadata": {},
   "outputs": [
    {
     "data": {
      "text/plain": [
       "{'min': -2, 'max': 9}"
      ]
     },
     "execution_count": 7,
     "metadata": {},
     "output_type": "execute_result"
    }
   ],
   "source": [
    "tableau = [0, 1, 4, 2, -2, 9, 3, 1, 7, 1]\n",
    "resultat = rechercheMinMax(tableau)\n",
    "resultat"
   ]
  },
  {
   "cell_type": "code",
   "execution_count": 8,
   "metadata": {},
   "outputs": [
    {
     "data": {
      "text/plain": [
       "{'min': None, 'max': None}"
      ]
     },
     "execution_count": 8,
     "metadata": {},
     "output_type": "execute_result"
    }
   ],
   "source": [
    "tableau = []\n",
    "resultat = rechercheMinMax(tableau)\n",
    "resultat"
   ]
  },
  {
   "cell_type": "markdown",
   "metadata": {},
   "source": [
    "<h1>Exercice 2<h/1>"
   ]
  },
  {
   "cell_type": "code",
   "execution_count": 18,
   "metadata": {},
   "outputs": [],
   "source": [
    "class Carte :\n",
    "    \"\"\"\n",
    "    Initialise Couleur (entre 1 et 4), et Valeur (entre 1 et 13)\n",
    "    \"\"\"\n",
    "    def __init__(self,c,v) :\n",
    "        assert 1 <= c <= 4, \"La couleur (argument 1) doit être comprise entre 1 et 4 (inclus)\"\n",
    "        assert 1<= v <= 13, \"La valeur (argument 2) de la carte doit être comprise entre 1 et 13 (inclus)\"\n",
    "        self.Couleur = c\n",
    "        self.Valeur = v\n",
    "\n",
    "    \"\"\"Renvoie le nom de la carte\"\"\"\n",
    "    def getNom(self) :\n",
    "        if ( self.Valeur > 1 and self.Valeur < 11):\n",
    "            return str(self.Valeur)\n",
    "        elif self.Valeur == 11:\n",
    "            return \"Valet\"\n",
    "        elif self.Valeur == 12:\n",
    "            return \"Dame\"\n",
    "        elif self.Valeur == 13:\n",
    "            return \"Roi\"\n",
    "        else:\n",
    "            return \"As\"\n",
    "\n",
    "    \"\"\"Renvoie la couleur de la carte\"\"\"\n",
    "    def getCouleur(self) :\n",
    "        return ['pique', 'coeur', 'carreau', 'trefle'][self.Couleur - 1]"
   ]
  },
  {
   "cell_type": "code",
   "execution_count": 29,
   "metadata": {},
   "outputs": [],
   "source": [
    "class PaquetDeCarte :\n",
    "    def __init__(self) :\n",
    "        self.contenu = []\n",
    "\n",
    "    \"\"\"Remplit le paquet de cartes\"\"\"\n",
    "    def remplir(self) :\n",
    "        for i in range(1, 5) :\n",
    "            for j in range(1, 14) :\n",
    "                self.contenu.append(Carte(i,j))\n",
    "\n",
    "    \"\"\"Renvoie la Carte qui se trouve à la position donnéé\"\"\"\n",
    "    def getCarteAt(self, pos) :\n",
    "        \"\"\"\n",
    "        POUR TROUVER LE 52\n",
    "\n",
    "        somme = 0\n",
    "        for i in range(1,5) :\n",
    "            for j in range(1,14) :\n",
    "                somme += 1\n",
    "        print(somme)\n",
    "        \"\"\"\n",
    "        assert 0 <= pos <= 51, \"La carte doit être dans le paquet ! (Il a une taille de 52)\"\n",
    "        return self.contenu[pos]"
   ]
  },
  {
   "cell_type": "code",
   "execution_count": 30,
   "metadata": {},
   "outputs": [],
   "source": [
    "unPaquet = PaquetDeCarte()"
   ]
  },
  {
   "cell_type": "code",
   "execution_count": 31,
   "metadata": {},
   "outputs": [],
   "source": [
    "unPaquet.remplir()"
   ]
  },
  {
   "cell_type": "code",
   "execution_count": 44,
   "metadata": {},
   "outputs": [],
   "source": [
    "uneCarte = unPaquet.getCarteAt(20)"
   ]
  },
  {
   "cell_type": "code",
   "execution_count": 45,
   "metadata": {},
   "outputs": [
    {
     "name": "stdout",
     "output_type": "stream",
     "text": [
      "8 de coeur\n"
     ]
    }
   ],
   "source": [
    "print(uneCarte.getNom() + \" de \" + uneCarte.getCouleur())"
   ]
  },
  {
   "cell_type": "code",
   "execution_count": 43,
   "metadata": {},
   "outputs": [
    {
     "name": "stdout",
     "output_type": "stream",
     "text": [
      "1  :  2 de pique\n",
      "2  :  3 de pique\n",
      "3  :  4 de pique\n",
      "4  :  5 de pique\n",
      "5  :  6 de pique\n",
      "6  :  7 de pique\n",
      "7  :  8 de pique\n",
      "8  :  9 de pique\n",
      "9  :  10 de pique\n",
      "10  :  Valet de pique\n",
      "11  :  Dame de pique\n",
      "12  :  Roi de pique\n",
      "13  :  As de coeur\n",
      "14  :  2 de coeur\n",
      "15  :  3 de coeur\n",
      "16  :  4 de coeur\n",
      "17  :  5 de coeur\n",
      "18  :  6 de coeur\n",
      "19  :  7 de coeur\n",
      "20  :  8 de coeur\n",
      "21  :  9 de coeur\n",
      "22  :  10 de coeur\n",
      "23  :  Valet de coeur\n",
      "24  :  Dame de coeur\n",
      "25  :  Roi de coeur\n",
      "26  :  As de carreau\n",
      "27  :  2 de carreau\n",
      "28  :  3 de carreau\n",
      "29  :  4 de carreau\n",
      "30  :  5 de carreau\n",
      "31  :  6 de carreau\n",
      "32  :  7 de carreau\n",
      "33  :  8 de carreau\n",
      "34  :  9 de carreau\n",
      "35  :  10 de carreau\n",
      "36  :  Valet de carreau\n",
      "37  :  Dame de carreau\n",
      "38  :  Roi de carreau\n",
      "39  :  As de trefle\n",
      "40  :  2 de trefle\n",
      "41  :  3 de trefle\n",
      "42  :  4 de trefle\n",
      "43  :  5 de trefle\n",
      "44  :  6 de trefle\n",
      "45  :  7 de trefle\n",
      "46  :  8 de trefle\n",
      "47  :  9 de trefle\n",
      "48  :  10 de trefle\n",
      "49  :  Valet de trefle\n",
      "50  :  Dame de trefle\n",
      "51  :  Roi de trefle\n"
     ]
    }
   ],
   "source": [
    "for i in range(1,52) :\n",
    "    uneCarte = unPaquet.getCarteAt(i)\n",
    "    print(i,\" : \", uneCarte.getNom() + \" de \" + uneCarte.getCouleur())"
   ]
  }
 ],
 "metadata": {
  "interpreter": {
   "hash": "d392c9ddaa6b365e1706bdbc6bd2786d403f6271a103ff8a7f34ee918c5830ad"
  },
  "kernelspec": {
   "display_name": "Python 3.9.1 64-bit",
   "language": "python",
   "name": "python3"
  },
  "language_info": {
   "codemirror_mode": {
    "name": "ipython",
    "version": 3
   },
   "file_extension": ".py",
   "mimetype": "text/x-python",
   "name": "python",
   "nbconvert_exporter": "python",
   "pygments_lexer": "ipython3",
   "version": "3.9.1"
  },
  "orig_nbformat": 4
 },
 "nbformat": 4,
 "nbformat_minor": 2
}
