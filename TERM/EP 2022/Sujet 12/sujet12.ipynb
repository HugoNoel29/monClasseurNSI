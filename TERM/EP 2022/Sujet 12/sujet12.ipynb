{
 "cells": [
  {
   "cell_type": "markdown",
   "metadata": {},
   "source": [
    "<h1>Exercice 1"
   ]
  },
  {
   "cell_type": "code",
   "execution_count": 9,
   "metadata": {},
   "outputs": [],
   "source": [
    "def moyenne(tab : list) -> float :\n",
    "    \"\"\"\n",
    "    Description : prend en paramètre un tableau d'entiers et renvoie la moyenne\n",
    "     de ses éléments si le tableau est non vide et affiche 'erreur' si le \n",
    "     tableau est vide.\n",
    "\n",
    "    Exemple : >>> moyenne([1,2,3,4,5,6,7,8,9,10])\n",
    "              >>> 5.5\n",
    "\n",
    "              >>> moyenne([])\n",
    "              >>> 'erreur'\n",
    "\n",
    "    Préconditions : (tab) : un tableau d'entiers\n",
    "\n",
    "    Postconditions : (str) : 'erreur' si le tableau est vide\n",
    "                     (float) : la moyenne des elements du tablea si'il n'est pas vide\n",
    "    \"\"\"\n",
    "\n",
    "    assert [type(i) for i in tab] == [int]*len(tab), \"Le tableau doit être composé uniquement d'entiers (int)\"\n",
    "\n",
    "    longeur_tableau = len(tab)\n",
    "    \n",
    "    if longeur_tableau == 0 :\n",
    "        return 'erreur'\n",
    "    else :\n",
    "        somme = 0\n",
    "        for elt in tab :\n",
    "            somme += elt\n",
    "        return somme / longeur_tableau"
   ]
  },
  {
   "cell_type": "code",
   "execution_count": 10,
   "metadata": {},
   "outputs": [
    {
     "data": {
      "text/plain": [
       "5.333333333333333"
      ]
     },
     "execution_count": 10,
     "metadata": {},
     "output_type": "execute_result"
    }
   ],
   "source": [
    "moyenne([5,3,8])"
   ]
  },
  {
   "cell_type": "code",
   "execution_count": 11,
   "metadata": {},
   "outputs": [
    {
     "data": {
      "text/plain": [
       "5.5"
      ]
     },
     "execution_count": 11,
     "metadata": {},
     "output_type": "execute_result"
    }
   ],
   "source": [
    "moyenne([1,2,3,4,5,6,7,8,9,10])"
   ]
  },
  {
   "cell_type": "code",
   "execution_count": 12,
   "metadata": {},
   "outputs": [
    {
     "data": {
      "text/plain": [
       "'erreur'"
      ]
     },
     "execution_count": 12,
     "metadata": {},
     "output_type": "execute_result"
    }
   ],
   "source": [
    "moyenne([])"
   ]
  },
  {
   "cell_type": "markdown",
   "metadata": {},
   "source": [
    "<h1>Exercice 2"
   ]
  },
  {
   "cell_type": "code",
   "execution_count": 13,
   "metadata": {},
   "outputs": [],
   "source": [
    "def tri(tab):\n",
    " #i est le premier indice de la zone non triee, j le dernier indice.\n",
    " #Au debut, la zone non triee est le tableau entier.\n",
    "\n",
    "    i= tab[0]\n",
    "    j= len(tab) - 1\n",
    "    while i != j :\n",
    "        if tab[i]== 0:\n",
    "            i += 1\n",
    "        else :\n",
    "            valeur = tab[j]\n",
    "            tab[j] = tab[i]\n",
    "            tab[i] = valeur\n",
    "            j -= 1\n",
    "    return tab"
   ]
  },
  {
   "cell_type": "code",
   "execution_count": 14,
   "metadata": {},
   "outputs": [
    {
     "data": {
      "text/plain": [
       "[0, 0, 0, 0, 0, 1, 1, 1, 1]"
      ]
     },
     "execution_count": 14,
     "metadata": {},
     "output_type": "execute_result"
    }
   ],
   "source": [
    "tri([0,1,0,1,0,1,0,1,0])"
   ]
  }
 ],
 "metadata": {
  "interpreter": {
   "hash": "a4582a75a41fb78247f9e0d5ac5dcfbd0ffd857e3944b83ed2a96ac364b75fd7"
  },
  "kernelspec": {
   "display_name": "Python 3.9.1 64-bit",
   "language": "python",
   "name": "python3"
  },
  "language_info": {
   "codemirror_mode": {
    "name": "ipython",
    "version": 3
   },
   "file_extension": ".py",
   "mimetype": "text/x-python",
   "name": "python",
   "nbconvert_exporter": "python",
   "pygments_lexer": "ipython3",
   "version": "3.9.1"
  },
  "orig_nbformat": 4
 },
 "nbformat": 4,
 "nbformat_minor": 2
}
