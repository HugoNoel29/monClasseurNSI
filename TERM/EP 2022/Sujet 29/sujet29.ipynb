{
 "cells": [
  {
   "cell_type": "markdown",
   "metadata": {},
   "source": [
    "<h1>Exercice 1"
   ]
  },
  {
   "cell_type": "code",
   "execution_count": 1,
   "metadata": {},
   "outputs": [],
   "source": [
    "def fibonacci(n : int) -> int :\n",
    "    \"\"\"\n",
    "    Description : \n",
    "\n",
    "    Exemple : >>> fibonacci(25)\n",
    "              >>> 75025\n",
    "\n",
    "    Préconditions : (int)\n",
    "\n",
    "    Postcondittions :\n",
    "    \n",
    "    \"\"\"\n",
    "    assert type(n) == int, \"L'entrée doit être de type int\"\n",
    "\n",
    "    liste_valeurs = [1,1]\n",
    "\n",
    "    for i in range(2, n) :\n",
    "        new_val = liste_valeurs[i-1] + liste_valeurs[i-2]\n",
    "        liste_valeurs.append(new_val)\n",
    "    return liste_valeurs[-1]\n"
   ]
  },
  {
   "cell_type": "code",
   "execution_count": 2,
   "metadata": {},
   "outputs": [
    {
     "data": {
      "text/plain": [
       "1"
      ]
     },
     "execution_count": 2,
     "metadata": {},
     "output_type": "execute_result"
    }
   ],
   "source": [
    "fibonacci(1)"
   ]
  },
  {
   "cell_type": "code",
   "execution_count": 3,
   "metadata": {},
   "outputs": [
    {
     "data": {
      "text/plain": [
       "1"
      ]
     },
     "execution_count": 3,
     "metadata": {},
     "output_type": "execute_result"
    }
   ],
   "source": [
    "fibonacci(2)"
   ]
  },
  {
   "cell_type": "code",
   "execution_count": 4,
   "metadata": {},
   "outputs": [
    {
     "data": {
      "text/plain": [
       "75025"
      ]
     },
     "execution_count": 4,
     "metadata": {},
     "output_type": "execute_result"
    }
   ],
   "source": [
    "fibonacci(25)"
   ]
  },
  {
   "cell_type": "code",
   "execution_count": 5,
   "metadata": {},
   "outputs": [
    {
     "data": {
      "text/plain": [
       "1134903170"
      ]
     },
     "execution_count": 5,
     "metadata": {},
     "output_type": "execute_result"
    }
   ],
   "source": [
    "fibonacci(45)"
   ]
  },
  {
   "cell_type": "code",
   "execution_count": 6,
   "metadata": {},
   "outputs": [
    {
     "data": {
      "text/plain": [
       "6859356963880484413875401302176431788073214234535725264860437720157972142108894511264898366145528622543082646626140527097739556699078708088"
      ]
     },
     "execution_count": 6,
     "metadata": {},
     "output_type": "execute_result"
    }
   ],
   "source": [
    "fibonacci(666)"
   ]
  },
  {
   "cell_type": "markdown",
   "metadata": {},
   "source": [
    "<h1>Exercice 2"
   ]
  },
  {
   "cell_type": "code",
   "execution_count": 7,
   "metadata": {},
   "outputs": [
    {
     "data": {
      "text/plain": [
       "[46,\n",
       " 46,\n",
       " 54,\n",
       " 64,\n",
       " 165,\n",
       " 416,\n",
       " 563,\n",
       " 986,\n",
       " 4646,\n",
       " 16568,\n",
       " 46541632,\n",
       " 93696396,\n",
       " 468465165,\n",
       " 464616541847,\n",
       " 6846468464165,\n",
       " 654164684651654,\n",
       " 4465165165165165,\n",
       " 6546546546846168465]"
      ]
     },
     "execution_count": 7,
     "metadata": {},
     "output_type": "execute_result"
    }
   ],
   "source": [
    "tab = [4465165165165165,165,4646,46,464616541847,654164684651654,6846468464165,46,54,64,6546546546846168465,416,468465165,46541632,16568,563,986,93696396]\n",
    "\n",
    "def tri_recursif_tro_drol(tab : list, new_tab = []) :\n",
    "    \"\"\"\n",
    "    Description : Une fonction récursive tro drol\n",
    "\n",
    "    Exemple : >>> tri_recursif_tro_drol([4,1,6,7,3])\n",
    "              >>> [1, 3, 4, 6, 7]\n",
    "\n",
    "    Préconditions : (list) : La liste à trier\n",
    "\n",
    "    Postconditions : (list) : la liste triée\n",
    "    \"\"\"\n",
    "\n",
    "    assert type(tab) == list, \"La liste doit être de type list\"\n",
    "    assert [type(i) for i in tab] == [int] * len(tab), \"Ca doit être des int à l'intérieur petit coquinou\"\n",
    "\n",
    "    if len(tab) == 0 :\n",
    "        return new_tab\n",
    "    else :\n",
    "        mini = tab[0]\n",
    "        indice = 0\n",
    "        for i in range(len(tab)):\n",
    "            if mini > tab[i]:\n",
    "                mini = tab[i]\n",
    "                indice = i\n",
    "        new_tab.append(tab.pop(indice))\n",
    "        return tri_recursif_tro_drol(tab, new_tab)\n",
    "\n",
    "tri_recursif_tro_drol(tab)"
   ]
  },
  {
   "cell_type": "code",
   "execution_count": 8,
   "metadata": {},
   "outputs": [
    {
     "data": {
      "text/plain": [
       "[1, 3, 4, 6, 7]"
      ]
     },
     "execution_count": 8,
     "metadata": {},
     "output_type": "execute_result"
    }
   ],
   "source": [
    "nouvotab = [4,1,6,7,3]\n",
    "\n",
    "def tri_selection(tab):\n",
    "\n",
    "   for i in range(len(tab)):\n",
    "        min = i\n",
    "        for j in range(i+1, len(tab)):\n",
    "           if tab[min] > tab[j]:\n",
    "               min = j\n",
    "        tmp = tab[i]\n",
    "        tab[i] = tab[min]\n",
    "        tab[min] = tmp\n",
    "\n",
    "   return tab\n",
    "\n",
    "tri_selection(nouvotab)"
   ]
  },
  {
   "cell_type": "code",
   "execution_count": 9,
   "metadata": {},
   "outputs": [
    {
     "name": "stdout",
     "output_type": "stream",
     "text": [
      "Selection : [46, 46, 54, 64, 165, 416, 563, 986, 4646, 16568, 46541632, 93696396, 468465165, 464616541847, 6846468464165, 654164684651654, 4465165165165165, 6546546546846168465]\n",
      "0.00017310000009729265\n",
      "Trop Drole : [46, 46, 54, 64, 165, 416, 563, 986, 4646, 16568, 46541632, 93696396, 468465165, 464616541847, 6846468464165, 654164684651654, 4465165165165165, 6546546546846168465, 46, 46, 54, 64, 165, 416, 563, 986, 4646, 16568, 46541632, 93696396, 468465165, 464616541847, 6846468464165, 654164684651654, 4465165165165165, 6546546546846168465]\n",
      "0.0004052000000456246\n"
     ]
    }
   ],
   "source": [
    "from timeit import default_timer as timer\n",
    "tab = [4465165165165165,165,4646,46,464616541847,654164684651654,6846468464165,46,54,64,6546546546846168465,416,468465165,46541632,16568,563,986,93696396]\n",
    "\n",
    "debut = timer()\n",
    "print(\"Selection :\", tri_selection(tab))\n",
    "fin = timer()\n",
    "print(fin-debut)\n",
    "\n",
    "debut = timer()\n",
    "print(\"Trop Drole :\", tri_recursif_tro_drol(tab))\n",
    "fin = timer()\n",
    "print(fin-debut)"
   ]
  },
  {
   "cell_type": "markdown",
   "metadata": {},
   "source": [
    "Selection | Trop Drol |\n",
    "---: | :---: | \n",
    "1.7 | 4.0 | "
   ]
  },
  {
   "cell_type": "code",
   "execution_count": null,
   "metadata": {},
   "outputs": [],
   "source": [
    "def fibonacci(n) :\n",
    "    \n",
    "    if n == 1 :\n",
    "        return 1\n",
    "    if n == 2 :\n",
    "        return 2\n",
    "    else :\n",
    "        return fibo(n-1) + fibo(n-2)"
   ]
  },
  {
   "cell_type": "code",
   "execution_count": null,
   "metadata": {},
   "outputs": [],
   "source": [
    "def fibonacci(n) :\n",
    "\n",
    "    liste_valeurs = [1,1]\n",
    "    for i in range(2, n) :\n",
    "        liste_valeurs.append(liste_valeurs[i-1] + liste_valeurs[i-2])\n",
    "    return liste_valeurs[-1]"
   ]
  },
  {
   "cell_type": "code",
   "execution_count": 1,
   "metadata": {},
   "outputs": [],
   "source": [
    "liste_eleves = ['a','b','c','d','e','f','g','h','i','j']\n",
    "liste_notes = [1, 40, 80, 60, 58, 80, 75, 80, 60, 24]\n",
    "\n",
    "def meilleures_notes():\n",
    "    note_maxi = 0\n",
    "    nb_eleves_note_maxi = 0\n",
    "    liste_maxi = []\n",
    "    for compteur in range(len(liste_eleves)):\n",
    "        if liste_notes[compteur] == note_maxi :\n",
    "            nb_eleves_note_maxi = nb_eleves_note_maxi + 1\n",
    "            liste_maxi.append(liste_eleves[compteur])\n",
    "        if liste_notes[compteur] > note_maxi:\n",
    "            note_maxi = liste_notes[compteur]\n",
    "            nb_eleves_note_maxi = 1\n",
    "            liste_maxi = [compyeur]\n",
    "\n",
    "    return (note_maxi,nb_eleves_note_maxi,liste_maxi)"
   ]
  }
 ],
 "metadata": {
  "interpreter": {
   "hash": "c9b53006eb56ed42d4fa5fa073fce4d2216f27269ec7b06e2249a959fdf3d018"
  },
  "kernelspec": {
   "display_name": "Python 3.9.4 64-bit",
   "language": "python",
   "name": "python3"
  },
  "language_info": {
   "codemirror_mode": {
    "name": "ipython",
    "version": 3
   },
   "file_extension": ".py",
   "mimetype": "text/x-python",
   "name": "python",
   "nbconvert_exporter": "python",
   "pygments_lexer": "ipython3",
   "version": "3.9.4"
  },
  "orig_nbformat": 4
 },
 "nbformat": 4,
 "nbformat_minor": 2
}
