{
 "cells": [
  {
   "cell_type": "code",
   "execution_count": 1,
   "metadata": {},
   "outputs": [],
   "source": [
    "def moyenn(tab) :\n",
    "    somme = 0\n",
    "    for elt in tab :\n",
    "        somme += elt\n",
    "    return somme/len(tab)"
   ]
  },
  {
   "cell_type": "code",
   "execution_count": 2,
   "metadata": {},
   "outputs": [
    {
     "data": {
      "text/plain": [
       "45.0"
      ]
     },
     "execution_count": 2,
     "metadata": {},
     "output_type": "execute_result"
    }
   ],
   "source": [
    "moyenn([10,20,30,40,60,110])"
   ]
  },
  {
   "cell_type": "code",
   "execution_count": 3,
   "metadata": {},
   "outputs": [],
   "source": [
    "coeur = [[0, 0, 0, 0, 0, 0, 0, 0, 0, 0, 0, 0, 0], \\\n",
    " [0, 0, 0, 1, 1, 0, 0, 0, 1, 1, 0, 0, 0], \\\n",
    " [0, 0, 1, 0, 0, 1, 0, 1, 0, 0, 1, 0, 0], \\\n",
    " [0, 1, 0, 0, 0, 0, 1, 0, 0, 0, 0, 1, 0], \\\n",
    " [0, 1, 0, 0, 0, 0, 0, 0, 0, 0, 0, 1, 0], \\\n",
    " [0, 1, 0, 0, 0, 0, 0, 0, 0, 0, 0, 1, 0], \\\n",
    " [0, 0, 1, 0, 0, 0, 0, 0, 0, 0, 1, 0, 0], \\\n",
    " [0, 0, 0, 1, 0, 0, 0, 0, 0, 1, 0, 0, 0], \\\n",
    " [0, 0, 0, 0, 1, 0, 0, 0, 1, 0, 0, 0, 0], \\\n",
    " [0, 0, 0, 0, 0, 1, 0, 1, 0, 0, 0, 0, 0], \\\n",
    " [0, 0, 0, 0, 0, 0, 1, 0, 0, 0, 0, 0, 0], \\\n",
    " [0, 0, 0, 0, 0, 0, 0, 0, 0, 0, 0, 0, 0]]"
   ]
  },
  {
   "cell_type": "code",
   "execution_count": 8,
   "metadata": {},
   "outputs": [],
   "source": [
    "def affiche(dessin) :\n",
    "    for ligne in dessin :\n",
    "        for col in ligne :\n",
    "            if col == 1 :\n",
    "                print(\"* \", end=\"\")\n",
    "            else :\n",
    "                print(\"  \", end=\"\")\n",
    "        print()"
   ]
  },
  {
   "cell_type": "code",
   "execution_count": 9,
   "metadata": {},
   "outputs": [
    {
     "name": "stdout",
     "output_type": "stream",
     "text": [
      "                          \n",
      "      * *       * *       \n",
      "    *     *   *     *     \n",
      "  *         *         *   \n",
      "  *                   *   \n",
      "  *                   *   \n",
      "    *               *     \n",
      "      *           *       \n",
      "        *       *         \n",
      "          *   *           \n",
      "            *             \n",
      "                          \n"
     ]
    }
   ],
   "source": [
    "affiche(coeur)"
   ]
  },
  {
   "cell_type": "code",
   "execution_count": 13,
   "metadata": {},
   "outputs": [],
   "source": [
    "def zoomListe(liste_depart, k) :\n",
    "    liste_zoom = []\n",
    "    for elt in liste_depart :\n",
    "        for i in range(k) :\n",
    "            liste_zoom.append(elt)\n",
    "    return liste_zoom"
   ]
  },
  {
   "cell_type": "code",
   "execution_count": 14,
   "metadata": {},
   "outputs": [
    {
     "data": {
      "text/plain": [
       "[[0, 0, 0, 0, 0, 0, 0, 0, 0, 0, 0, 0, 0],\n",
       " [0, 0, 0, 0, 0, 0, 0, 0, 0, 0, 0, 0, 0],\n",
       " [0, 0, 0, 0, 0, 0, 0, 0, 0, 0, 0, 0, 0],\n",
       " [0, 0, 0, 1, 1, 0, 0, 0, 1, 1, 0, 0, 0],\n",
       " [0, 0, 0, 1, 1, 0, 0, 0, 1, 1, 0, 0, 0],\n",
       " [0, 0, 0, 1, 1, 0, 0, 0, 1, 1, 0, 0, 0],\n",
       " [0, 0, 1, 0, 0, 1, 0, 1, 0, 0, 1, 0, 0],\n",
       " [0, 0, 1, 0, 0, 1, 0, 1, 0, 0, 1, 0, 0],\n",
       " [0, 0, 1, 0, 0, 1, 0, 1, 0, 0, 1, 0, 0],\n",
       " [0, 1, 0, 0, 0, 0, 1, 0, 0, 0, 0, 1, 0],\n",
       " [0, 1, 0, 0, 0, 0, 1, 0, 0, 0, 0, 1, 0],\n",
       " [0, 1, 0, 0, 0, 0, 1, 0, 0, 0, 0, 1, 0],\n",
       " [0, 1, 0, 0, 0, 0, 0, 0, 0, 0, 0, 1, 0],\n",
       " [0, 1, 0, 0, 0, 0, 0, 0, 0, 0, 0, 1, 0],\n",
       " [0, 1, 0, 0, 0, 0, 0, 0, 0, 0, 0, 1, 0],\n",
       " [0, 1, 0, 0, 0, 0, 0, 0, 0, 0, 0, 1, 0],\n",
       " [0, 1, 0, 0, 0, 0, 0, 0, 0, 0, 0, 1, 0],\n",
       " [0, 1, 0, 0, 0, 0, 0, 0, 0, 0, 0, 1, 0],\n",
       " [0, 0, 1, 0, 0, 0, 0, 0, 0, 0, 1, 0, 0],\n",
       " [0, 0, 1, 0, 0, 0, 0, 0, 0, 0, 1, 0, 0],\n",
       " [0, 0, 1, 0, 0, 0, 0, 0, 0, 0, 1, 0, 0],\n",
       " [0, 0, 0, 1, 0, 0, 0, 0, 0, 1, 0, 0, 0],\n",
       " [0, 0, 0, 1, 0, 0, 0, 0, 0, 1, 0, 0, 0],\n",
       " [0, 0, 0, 1, 0, 0, 0, 0, 0, 1, 0, 0, 0],\n",
       " [0, 0, 0, 0, 1, 0, 0, 0, 1, 0, 0, 0, 0],\n",
       " [0, 0, 0, 0, 1, 0, 0, 0, 1, 0, 0, 0, 0],\n",
       " [0, 0, 0, 0, 1, 0, 0, 0, 1, 0, 0, 0, 0],\n",
       " [0, 0, 0, 0, 0, 1, 0, 1, 0, 0, 0, 0, 0],\n",
       " [0, 0, 0, 0, 0, 1, 0, 1, 0, 0, 0, 0, 0],\n",
       " [0, 0, 0, 0, 0, 1, 0, 1, 0, 0, 0, 0, 0],\n",
       " [0, 0, 0, 0, 0, 0, 1, 0, 0, 0, 0, 0, 0],\n",
       " [0, 0, 0, 0, 0, 0, 1, 0, 0, 0, 0, 0, 0],\n",
       " [0, 0, 0, 0, 0, 0, 1, 0, 0, 0, 0, 0, 0],\n",
       " [0, 0, 0, 0, 0, 0, 0, 0, 0, 0, 0, 0, 0],\n",
       " [0, 0, 0, 0, 0, 0, 0, 0, 0, 0, 0, 0, 0],\n",
       " [0, 0, 0, 0, 0, 0, 0, 0, 0, 0, 0, 0, 0]]"
      ]
     },
     "execution_count": 14,
     "metadata": {},
     "output_type": "execute_result"
    }
   ],
   "source": [
    "zoom = zoomListe(coeur, 3)\n",
    "zoom"
   ]
  },
  {
   "cell_type": "code",
   "execution_count": 15,
   "metadata": {},
   "outputs": [],
   "source": [
    "def zoomDessin(grille, k) :\n",
    "    grille_zoom = []\n",
    "    for elt in grille :\n",
    "        liste_zoom = zoomListe(elt, k)\n",
    "        for i in range(k) :\n",
    "            grille_zoom.append(liste_zoom)\n",
    "    return grille_zoom"
   ]
  },
  {
   "cell_type": "code",
   "execution_count": 16,
   "metadata": {},
   "outputs": [
    {
     "name": "stdout",
     "output_type": "stream",
     "text": [
      "                                                                              \n",
      "                                                                              \n",
      "                                                                              \n",
      "                  * * * * * *                   * * * * * *                   \n",
      "                  * * * * * *                   * * * * * *                   \n",
      "                  * * * * * *                   * * * * * *                   \n",
      "            * * *             * * *       * * *             * * *             \n",
      "            * * *             * * *       * * *             * * *             \n",
      "            * * *             * * *       * * *             * * *             \n",
      "      * * *                         * * *                         * * *       \n",
      "      * * *                         * * *                         * * *       \n",
      "      * * *                         * * *                         * * *       \n",
      "      * * *                                                       * * *       \n",
      "      * * *                                                       * * *       \n",
      "      * * *                                                       * * *       \n",
      "      * * *                                                       * * *       \n",
      "      * * *                                                       * * *       \n",
      "      * * *                                                       * * *       \n",
      "            * * *                                           * * *             \n",
      "            * * *                                           * * *             \n",
      "            * * *                                           * * *             \n",
      "                  * * *                               * * *                   \n",
      "                  * * *                               * * *                   \n",
      "                  * * *                               * * *                   \n",
      "                        * * *                   * * *                         \n",
      "                        * * *                   * * *                         \n",
      "                        * * *                   * * *                         \n",
      "                              * * *       * * *                               \n",
      "                              * * *       * * *                               \n",
      "                              * * *       * * *                               \n",
      "                                    * * *                                     \n",
      "                                    * * *                                     \n",
      "                                    * * *                                     \n",
      "                                                                              \n",
      "                                                                              \n",
      "                                                                              \n"
     ]
    }
   ],
   "source": [
    "affiche(zoomDessin(coeur,3))"
   ]
  }
 ],
 "metadata": {
  "interpreter": {
   "hash": "c9b53006eb56ed42d4fa5fa073fce4d2216f27269ec7b06e2249a959fdf3d018"
  },
  "kernelspec": {
   "display_name": "Python 3.9.4 64-bit",
   "language": "python",
   "name": "python3"
  },
  "language_info": {
   "codemirror_mode": {
    "name": "ipython",
    "version": 3
   },
   "file_extension": ".py",
   "mimetype": "text/x-python",
   "name": "python",
   "nbconvert_exporter": "python",
   "pygments_lexer": "ipython3",
   "version": "3.9.4"
  },
  "orig_nbformat": 4
 },
 "nbformat": 4,
 "nbformat_minor": 2
}
