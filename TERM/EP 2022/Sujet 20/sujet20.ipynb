{
 "cells": [
  {
   "cell_type": "code",
   "execution_count": 4,
   "metadata": {},
   "outputs": [],
   "source": [
    "def xor(tab1 : list, tab2 : list) -> list :\n",
    "\n",
    "    assert len(tab1) == len(tab2), \"Les deux tableaux doivent etre de meme longeur\"\n",
    "    tab_xor = []\n",
    "    for i in range(len(tab1)) :\n",
    "        if tab1[i] == tab2[i] :\n",
    "            tab_xor.append(0)\n",
    "        else :\n",
    "            tab_xor.append(1)\n",
    "    return tab_xor"
   ]
  },
  {
   "cell_type": "code",
   "execution_count": 5,
   "metadata": {},
   "outputs": [],
   "source": [
    "a = [1, 0, 1, 0, 1, 1, 0, 1]\n",
    "b = [0, 1, 1, 1, 0, 1, 0, 0]\n",
    "c = [1, 1, 0, 1]\n",
    "d = [0, 0, 1, 1]"
   ]
  },
  {
   "cell_type": "code",
   "execution_count": 6,
   "metadata": {},
   "outputs": [],
   "source": [
    "assert(xor(a, b) == [1, 1, 0, 1, 1, 0, 0, 1])\n",
    "assert(xor(c, d) == [1, 1, 1, 0])"
   ]
  },
  {
   "cell_type": "code",
   "execution_count": 8,
   "metadata": {},
   "outputs": [],
   "source": [
    "class Carre :\n",
    "\n",
    "    def __init__(self, tableau = [[]]) :\n",
    "        self.ordre = len(tableau)\n",
    "        self.valeurs = tableau\n",
    "\n",
    "    def affiche(self) :\n",
    "        for i in range(self.ordre) :\n",
    "            print(self.valeurs[i])\n",
    "    \n",
    "    def somme_ligne(self, i) :\n",
    "        return sum(self.valeurs[i])\n",
    "\n",
    "    def somme_col(self, j) :\n",
    "        return sum([self.valeurs[i][j] for i in range(self.ordre)])"
   ]
  },
  {
   "cell_type": "code",
   "execution_count": 19,
   "metadata": {},
   "outputs": [],
   "source": [
    "def est_magique(carre) :\n",
    "    n = carre.ordre\n",
    "    s = carre.somme_ligne(0)\n",
    "\n",
    "    #Test de la somme de chaque ligne \n",
    "    for i in range(1, n) :\n",
    "        if carre.somme_ligne(i) != s :\n",
    "            return False\n",
    "\n",
    "    #Test de la somme de chaque colonne\n",
    "    for j in range(n) :\n",
    "        if carre.somme_col(j) != s :\n",
    "            return False\n",
    "\n",
    "    #Test de la somme de chaque diagonale\n",
    "    if sum([carre.valeurs[k][k] for k in range(n)]) != s :\n",
    "        return False\n",
    "    if sum(carre.valeurs[k][n-1-k] for k in range(n)) != s :\n",
    "        return False\n",
    "\n",
    "    return True"
   ]
  },
  {
   "cell_type": "code",
   "execution_count": 18,
   "metadata": {},
   "outputs": [],
   "source": [
    "c2 = Carre([ [1, 1], \n",
    "       [1 ,1] ])\n",
    "\n",
    "n = c2.ordre\n",
    "s = c2.somme_ligne(0)"
   ]
  },
  {
   "cell_type": "code",
   "execution_count": 14,
   "metadata": {},
   "outputs": [],
   "source": [
    "for i in range(1, n) :\n",
    "    if c2.somme_ligne(i) != s :\n",
    "        print(False)"
   ]
  },
  {
   "cell_type": "code",
   "execution_count": 15,
   "metadata": {},
   "outputs": [],
   "source": [
    "for j in range(n) :\n",
    "        if c2.somme_col(j) != s :\n",
    "            print(False)"
   ]
  },
  {
   "cell_type": "code",
   "execution_count": 17,
   "metadata": {},
   "outputs": [],
   "source": [
    "if sum([c2.valeurs[k][k] for k in range(n)]) != s :\n",
    "    print(False)"
   ]
  },
  {
   "cell_type": "code",
   "execution_count": 16,
   "metadata": {},
   "outputs": [],
   "source": [
    "if sum(c2.valeurs[k][n-1-k] for k in range(n)) != s :\n",
    "        print(False)"
   ]
  },
  {
   "cell_type": "code",
   "execution_count": 20,
   "metadata": {},
   "outputs": [
    {
     "data": {
      "text/plain": [
       "True"
      ]
     },
     "execution_count": 20,
     "metadata": {},
     "output_type": "execute_result"
    }
   ],
   "source": [
    "est_magique(c2)"
   ]
  },
  {
   "cell_type": "code",
   "execution_count": 22,
   "metadata": {},
   "outputs": [
    {
     "data": {
      "text/plain": [
       "True"
      ]
     },
     "execution_count": 22,
     "metadata": {},
     "output_type": "execute_result"
    }
   ],
   "source": [
    "c3 = Carre( [ [2, 9, 4], \n",
    "              [7, 5, 3],\n",
    "              [6, 1, 8] ] )\n",
    "\n",
    "est_magique(c3)"
   ]
  },
  {
   "cell_type": "code",
   "execution_count": 24,
   "metadata": {},
   "outputs": [
    {
     "data": {
      "text/plain": [
       "False"
      ]
     },
     "execution_count": 24,
     "metadata": {},
     "output_type": "execute_result"
    }
   ],
   "source": [
    "c4 = Carre([ [4, 5, 16, 9],  \n",
    "       [14, 7, 2, 11], \n",
    "       [3, 10, 15, 6],    \n",
    "       [13, 12, 8, 1] ])\n",
    "\n",
    "est_magique(c4)"
   ]
  }
 ],
 "metadata": {
  "interpreter": {
   "hash": "c535f766096f575e5993344ecf38043c94305985d3bbdfcb24d1ab2af40cf48e"
  },
  "kernelspec": {
   "display_name": "Python 3.9.4 64-bit",
   "language": "python",
   "name": "python3"
  },
  "language_info": {
   "codemirror_mode": {
    "name": "ipython",
    "version": 3
   },
   "file_extension": ".py",
   "mimetype": "text/x-python",
   "name": "python",
   "nbconvert_exporter": "python",
   "pygments_lexer": "ipython3",
   "version": "3.9.4"
  },
  "orig_nbformat": 4
 },
 "nbformat": 4,
 "nbformat_minor": 2
}
