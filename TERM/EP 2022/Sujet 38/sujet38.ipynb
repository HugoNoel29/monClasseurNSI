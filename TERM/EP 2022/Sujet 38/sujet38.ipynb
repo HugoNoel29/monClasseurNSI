{
 "cells": [
  {
   "cell_type": "code",
   "execution_count": 1,
   "metadata": {},
   "outputs": [],
   "source": [
    "from random import randint\n",
    "\n",
    "def plus_ou_moins() :\n",
    "    nb_mystere = randint(1, 99)\n",
    "    nb_test = int(input(\"Proposez un nombre entre 1 et 99 :\"))\n",
    "    compteur = 0\n",
    "\n",
    "    while nb_mystere != nb_test and compteur < 10 :\n",
    "        compteur += 1\n",
    "        if nb_mystere > nb_test :\n",
    "            nb_test = int(input(\"Trop petit ! Testez encore : \"))\n",
    "        else :\n",
    "            nb_test = int(input(\"Trop grand ! Testez encore : \"))\n",
    "\n",
    "    if nb_mystere == nb_test:\n",
    "        print (\"Bravo ! Le nombre était \",nb_mystere)\n",
    "        print(\"Nombre d'essais: \",compteur)\n",
    "    else:\n",
    "        print (\"Perdu ! Le nombre était \",nb_mystere)"
   ]
  },
  {
   "cell_type": "code",
   "execution_count": 2,
   "metadata": {},
   "outputs": [
    {
     "name": "stdout",
     "output_type": "stream",
     "text": [
      "Bravo ! Le nombre était  21\n",
      "Nombre d'essais:  5\n"
     ]
    }
   ],
   "source": [
    "plus_ou_moins()"
   ]
  },
  {
   "cell_type": "code",
   "execution_count": 17,
   "metadata": {},
   "outputs": [],
   "source": [
    "def minimum(tab, i) :\n",
    "    i_min = i\n",
    "    min = tab[0]\n",
    "    for j in range(i+1, len(tab)) :\n",
    "        if tab[j] < tab[i_min] :\n",
    "            min = tab[j]\n",
    "            i_min = i\n",
    "    return i_min"
   ]
  },
  {
   "cell_type": "code",
   "execution_count": 18,
   "metadata": {},
   "outputs": [],
   "source": [
    "def echange(tab, i, j) :\n",
    "    tab[i], tab[j] = tab[j], tab[i]"
   ]
  },
  {
   "cell_type": "code",
   "execution_count": 19,
   "metadata": {},
   "outputs": [],
   "source": [
    "def tri_selection(tab) :\n",
    "    for i in range(len(tab)) :\n",
    "        min = minimum(tab, i)\n",
    "        echange(tab, i, min)\n",
    "    return tab"
   ]
  },
  {
   "cell_type": "code",
   "execution_count": 22,
   "metadata": {},
   "outputs": [
    {
     "data": {
      "text/plain": [
       "[-9, 1, 6, 12, 52]"
      ]
     },
     "execution_count": 22,
     "metadata": {},
     "output_type": "execute_result"
    }
   ],
   "source": [
    "tri_selection([1,52,6,-9,12])"
   ]
  },
  {
   "cell_type": "code",
   "execution_count": 21,
   "metadata": {},
   "outputs": [],
   "source": [
    "def minimum(tab, i):\n",
    "    ind_minimum = i\n",
    "    for j in range(i+1, len(tab)):\n",
    "        if tab[j] < tab[ind_minimum]:\n",
    "            ind_minimum = j\n",
    "    return ind_minimum\n",
    "\n",
    "def echange(tab, i, j):\n",
    "    tab[i], tab[j] = tab[j], tab[i]\n",
    "\n",
    "def tri_selection(tab):\n",
    "    for i in range(len(tab)):\n",
    "        ind_minimum = minimum(tab, i)\n",
    "        echange(tab, i, ind_minimum)\n",
    "    return tab"
   ]
  }
 ],
 "metadata": {
  "interpreter": {
   "hash": "c9b53006eb56ed42d4fa5fa073fce4d2216f27269ec7b06e2249a959fdf3d018"
  },
  "kernelspec": {
   "display_name": "Python 3.9.4 64-bit",
   "language": "python",
   "name": "python3"
  },
  "language_info": {
   "codemirror_mode": {
    "name": "ipython",
    "version": 3
   },
   "file_extension": ".py",
   "mimetype": "text/x-python",
   "name": "python",
   "nbconvert_exporter": "python",
   "pygments_lexer": "ipython3",
   "version": "3.9.4"
  },
  "orig_nbformat": 4
 },
 "nbformat": 4,
 "nbformat_minor": 2
}
