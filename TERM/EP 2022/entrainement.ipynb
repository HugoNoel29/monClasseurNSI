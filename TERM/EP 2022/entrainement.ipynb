{
 "cells": [
  {
   "cell_type": "code",
   "execution_count": null,
   "metadata": {},
   "outputs": [],
   "source": [
    "Pieces = [100,50,20,10,5,2,1]\n",
    "def rendu_glouton(arendre, solution=[], i=0):\n",
    "    if arendre == 0:\n",
    "        return arendre\n",
    "    p = Pieces[i]\n",
    "    if p <= arendre :\n",
    "        solution.append(p)\n",
    "        return rendu_glouton(arendre - p, solution, i)\n",
    "    else :\n",
    "        return rendu_glouton(arendre, solution, i+1)"
   ]
  },
  {
   "cell_type": "code",
   "execution_count": null,
   "metadata": {},
   "outputs": [],
   "source": [
    "def pascal(n):\n",
    "    C= [[1]]\n",
    "    for k in range(1,n+1):\n",
    "        Ck = [1]\n",
    "        for i in range(1,k):\n",
    "            Ck.append(C[k-1][i-1]+C[k-1][i] )\n",
    "        Ck.append(1)\n",
    "        C.append(Ck)\n",
    "    return C"
   ]
  },
  {
   "cell_type": "code",
   "execution_count": 3,
   "metadata": {},
   "outputs": [],
   "source": [
    "def delta(tab) :\n",
    "    new = []\n",
    "    new.append(tab[0])\n",
    "    for i in range(1, len(tab)) :\n",
    "        new.append(tab[i] - tab[i-1])\n",
    "    return new "
   ]
  },
  {
   "cell_type": "code",
   "execution_count": 4,
   "metadata": {},
   "outputs": [
    {
     "data": {
      "text/plain": [
       "[1000, -200, 2, 198, 3]"
      ]
     },
     "execution_count": 4,
     "metadata": {},
     "output_type": "execute_result"
    }
   ],
   "source": [
    "delta([1000, 800, 802, 1000, 1003])"
   ]
  },
  {
   "cell_type": "code",
   "execution_count": 7,
   "metadata": {},
   "outputs": [
    {
     "data": {
      "text/plain": [
       "'((3*(8+7))-(2+1))'"
      ]
     },
     "execution_count": 7,
     "metadata": {},
     "output_type": "execute_result"
    }
   ],
   "source": [
    "class Noeud:\n",
    "\n",
    "    def __init__(self, g, v, d):\n",
    "        self.gauche = g\n",
    "        self.valeur = v\n",
    "        self.droit = d\n",
    "\n",
    "    def __str__(self):\n",
    "        return str(self.valeur)\n",
    "\n",
    "    def est_une_feuille(self):\n",
    "        return self.gauche is None and self.droit is None\n",
    "\n",
    "\n",
    "def expression_infixe(e):\n",
    " s = \"\"\n",
    " if e.gauche is not None:\n",
    "    s = \"(\" + s + expression_infixe(e.gauche)\n",
    " s = s + str(e.valeur)\n",
    " if e.droit is not None:\n",
    "    s = s + expression_infixe(e.droit) + \")\"\n",
    " if True :\n",
    "    return s\n",
    "\n",
    "e = Noeud(Noeud(Noeud(None, 3, None), '*', Noeud(Noeud(None, 8, None),\n",
    "'+', Noeud(None, 7, None))), '-', Noeud(Noeud(None, 2, None), '+',\n",
    "Noeud(None, 1, None)))\n",
    "\n",
    "expression_infixe(e)"
   ]
  },
  {
   "cell_type": "code",
   "execution_count": 8,
   "metadata": {},
   "outputs": [
    {
     "data": {
      "text/plain": [
       "[(1, 2), (3, 4)]"
      ]
     },
     "execution_count": 8,
     "metadata": {},
     "output_type": "execute_result"
    }
   ],
   "source": [
    "def recherche(tab) :\n",
    "    sol = []\n",
    "    for i in range(1, len(tab)) :\n",
    "        if (tab[i-1] + 1) == tab[i] :\n",
    "            sol.append((tab[i-1], tab[i]))\n",
    "    return sol \n",
    "\n",
    "recherche([7, 1, 2, 5, 3, 4])"
   ]
  },
  {
   "cell_type": "code",
   "execution_count": 9,
   "metadata": {},
   "outputs": [
    {
     "data": {
      "text/plain": [
       "[[0, 0, 1, 0], [0, 3, 0, 1], [3, 3, 3, 0], [0, 3, 3, 0]]"
      ]
     },
     "execution_count": 9,
     "metadata": {},
     "output_type": "execute_result"
    }
   ],
   "source": [
    "def propager(M, i, j, val):\n",
    "\n",
    "    if M[i][j]== 0:\n",
    "        return\n",
    "\n",
    "    M[i][j]=val\n",
    "\n",
    "    # l'élément en haut fait partie de la composante\n",
    "    if ((i-1) >= 0 and M[i-1][j] == 1):\n",
    "        propager(M, i-1, j, val)\n",
    "\n",
    "    # l'élément en bas fait partie de la composante\n",
    "    if ((i+1) < len(M) and M[i+1][j] == 1):\n",
    "        propager(M, i+1, j, val)\n",
    "\n",
    "    # l'élément à gauche fait partie de la composante\n",
    "    if ((j-1) >= 0 and M[i][j-1] == 1):\n",
    "        propager(M, i, j-1, val)\n",
    "\n",
    "    # l'élément à droite fait partie de la composante\n",
    "    if ((j+1) < len(M) and M[i][j+1] == 1):\n",
    "        propager(M, i, j+1, val)\n",
    "\n",
    "M = [[0,0,1,0],[0,1,0,1],[1,1,1,0],[0,1,1,0]]\n",
    "propager(M,2,1,3)\n",
    "M"
   ]
  },
  {
   "cell_type": "code",
   "execution_count": 10,
   "metadata": {},
   "outputs": [
    {
     "data": {
      "text/plain": [
       "{'min': -2, 'max': 9}"
      ]
     },
     "execution_count": 10,
     "metadata": {},
     "output_type": "execute_result"
    }
   ],
   "source": [
    "def rechercheMinMax(tab) :\n",
    "\n",
    "    sol = {\"min\":tab[0], \"max\":tab[0]}\n",
    "    for i in range(1, len(tab)) :\n",
    "        if tab[i] > sol[\"max\"] :\n",
    "            sol[\"max\"] = tab[i]\n",
    "        if tab[i]< sol[\"min\"] :\n",
    "            sol[\"min\"] = tab[i]\n",
    "    return sol\n",
    "\n",
    "rechercheMinMax([0, 1, 4, 2, -2, 9, 3, 1, 7, 1])"
   ]
  },
  {
   "cell_type": "code",
   "execution_count": 16,
   "metadata": {},
   "outputs": [],
   "source": [
    "class Carte:\n",
    "\n",
    "    def __init__(self, c, v):\n",
    "        assert 1 <= c <= 4, \"ezref\"\n",
    "        assert 1 <= v <= 13, \"zerc\"\n",
    "        self.Couleur = c\n",
    "        self.Valeur = v\n",
    " \n",
    "    def getNom(self):\n",
    "        if ( self.Valeur > 1 and self.Valeur < 11):\n",
    "            return str(self.Valeur)\n",
    "        elif self.Valeur == 11:\n",
    "            return \"Valet\"\n",
    "        elif self.Valeur == 12:\n",
    "            return \"Dame\"\n",
    "        elif self.Valeur == 13:\n",
    "            return \"Roi\"\n",
    "        else:\n",
    "            return \"As\"\n",
    "\n",
    "    def getCouleur(self):\n",
    "        return ['pique', 'coeur', 'carreau', 'trefle'][self.Couleur - 1]\n",
    "\n",
    "\n",
    "class PaquetDeCarte:\n",
    "    def __init__(self):\n",
    "        self.contenu = []\n",
    " \n",
    "    def remplir(self):\n",
    "        self.contenu = [ Carte(couleur, valeur) for couleur in range(1, 5) for valeur in range( 1, 14)]\n",
    " \n",
    "    def getCarteAt(self, pos):\n",
    "        if 0 <= pos < 52 :\n",
    "            return self.contenu[pos]\n",
    "\n",
    "unPaquet = PaquetDeCarte()"
   ]
  },
  {
   "cell_type": "code",
   "execution_count": 63,
   "metadata": {},
   "outputs": [
    {
     "data": {
      "text/plain": [
       "True"
      ]
     },
     "execution_count": 63,
     "metadata": {},
     "output_type": "execute_result"
    }
   ],
   "source": [
    "def recherche(gene, seq_adn):\n",
    "\n",
    "    n = len(seq_adn)\n",
    "    g = len(gene)\n",
    "    i = 0\n",
    "    trouve = False\n",
    "    while i < n-g and trouve == False :\n",
    "        j = 0\n",
    "        while j < g and gene[j] == seq_adn[i+j]:\n",
    "            j += 1\n",
    "        if j == g:\n",
    "            trouve = True\n",
    "        i += 1\n",
    "    return trouve\n",
    "\n",
    "recherche(\"AATC\", \"GTACAAATCTTGCC\")"
   ]
  },
  {
   "cell_type": "code",
   "execution_count": 20,
   "metadata": {},
   "outputs": [
    {
     "data": {
      "text/plain": [
       "([1, 0, 1, 0], 4)"
      ]
     },
     "execution_count": 20,
     "metadata": {},
     "output_type": "execute_result"
    }
   ],
   "source": [
    "def conv_bin(n) :\n",
    "    sol = [n%2]\n",
    "    n = n // 2\n",
    "    while n != 0 :\n",
    "        sol.append(n%2)\n",
    "        n = n // 2\n",
    "    sol.reverse()\n",
    "    return sol, len(sol)\n",
    "\n",
    "conv_bin(10)"
   ]
  },
  {
   "cell_type": "code",
   "execution_count": 25,
   "metadata": {},
   "outputs": [
    {
     "data": {
      "text/plain": [
       "[4, 4, 9, 84, 91, 162, 198]"
      ]
     },
     "execution_count": 25,
     "metadata": {},
     "output_type": "execute_result"
    }
   ],
   "source": [
    "def tri_bulles(T):\n",
    "    n = len(T)\n",
    "    for i in range(n-1,0,-1):\n",
    "        for j in range(i):\n",
    "            if T[j] > T[j+1]:\n",
    "                temp = T[j]\n",
    "                T[j] = T[j+1]\n",
    "                T[j+1] = temp\n",
    "    return T\n",
    "\n",
    "tri_bulles([4,91,9,162,198,4,84])"
   ]
  },
  {
   "cell_type": "code",
   "execution_count": 27,
   "metadata": {},
   "outputs": [
    {
     "data": {
      "text/plain": [
       "[1, 2, 4, 5, 3]"
      ]
     },
     "execution_count": 27,
     "metadata": {},
     "output_type": "execute_result"
    }
   ],
   "source": [
    "def insere(a, tab):\n",
    "    l = list(tab) #l contient les mêmes éléments que tab\n",
    "    l.append(a)\n",
    "    i = len(l) - 1\n",
    "    while a < l[i] and i >= 0:\n",
    "        l[i+1] = l[i]\n",
    "        l[i] = a\n",
    "        i -= 1\n",
    "    return l\n",
    "\n",
    "insere(3,[1,2,4,5])"
   ]
  },
  {
   "cell_type": "code",
   "execution_count": 30,
   "metadata": {},
   "outputs": [
    {
     "data": {
      "text/plain": [
       "[7,\n",
       " 22,\n",
       " 11.0,\n",
       " 34.0,\n",
       " 17.0,\n",
       " 52.0,\n",
       " 26.0,\n",
       " 13.0,\n",
       " 40.0,\n",
       " 20.0,\n",
       " 10.0,\n",
       " 5.0,\n",
       " 16.0,\n",
       " 8.0,\n",
       " 4.0,\n",
       " 2.0,\n",
       " 1.0]"
      ]
     },
     "execution_count": 30,
     "metadata": {},
     "output_type": "execute_result"
    }
   ],
   "source": [
    "def calcul(n) :\n",
    "    sol = [n]\n",
    "    while sol[-1] != 1 :\n",
    "        if n % 2 == 0 :\n",
    "            n = n / 2\n",
    "        else :\n",
    "            n = 3*n +1\n",
    "        sol.append(n)\n",
    "    return sol\n",
    "\n",
    "calcul(7)"
   ]
  },
  {
   "cell_type": "code",
   "execution_count": 34,
   "metadata": {},
   "outputs": [
    {
     "data": {
      "text/plain": [
       "[37, 1121914, True]"
      ]
     },
     "execution_count": 34,
     "metadata": {},
     "output_type": "execute_result"
    }
   ],
   "source": [
    "dico = {\"A\":1, \"B\":2, \"C\":3, \"D\":4, \"E\":5, \"F\":6, \"G\":7, \\\n",
    " \"H\":8, \"I\":9, \"J\":10, \"K\":11, \"L\":12, \"M\":13, \\\n",
    " \"N\":14, \"O\":15, \"P\":16, \"Q\":17, \"R\":18, \"S\":19, \\\n",
    " \"T\":20, \"U\":21,\"V\":22, \"W\":23, \"X\":24, \"Y\":25, \"Z\":26}\n",
    "\n",
    "def est_parfait(mot) :\n",
    "    #mot est une chaîne de caractères (en lettres majuscules)\n",
    "    code_c = \"\"\n",
    "    code_a = 0\n",
    "    for c in mot :\n",
    "        code_c = code_c + str(dico[c])\n",
    "        code_a = code_a + int(dico[c])\n",
    "    code_c = int(code_c)\n",
    "    if code_c % code_a == 0:\n",
    "        mot_est_parfait = True\n",
    "    else :\n",
    "        mot_est_parfait = False\n",
    "    return [code_a, code_c, mot_est_parfait]\n",
    "\n",
    "est_parfait(\"PAUL\")\n",
    "est_parfait(\"ALAIN\")"
   ]
  },
  {
   "cell_type": "code",
   "execution_count": 35,
   "metadata": {},
   "outputs": [
    {
     "data": {
      "text/plain": [
       "{'H': 1, 'e': 1, 'l': 3, 'o': 2, ' ': 2, 'W': 1, 'r': 1, 'd': 1, '!': 1}"
      ]
     },
     "execution_count": 35,
     "metadata": {},
     "output_type": "execute_result"
    }
   ],
   "source": [
    "def occurence_lettres(phrase) :\n",
    "    sol = {}\n",
    "    for caractere in phrase :\n",
    "        if caractere in sol :\n",
    "            sol[caractere] += 1\n",
    "        else :\n",
    "            sol[caractere] = 1\n",
    "    return sol\n",
    "\n",
    "occurence_lettres(\"Hello World !\")"
   ]
  },
  {
   "cell_type": "code",
   "execution_count": 37,
   "metadata": {},
   "outputs": [
    {
     "data": {
      "text/plain": [
       "[0, 1, 6, 7, 8, 9, 10]"
      ]
     },
     "execution_count": 37,
     "metadata": {},
     "output_type": "execute_result"
    }
   ],
   "source": [
    "def fusion(L1,L2):\n",
    "    n1 = len(L1)\n",
    "    n2 = len(L2)\n",
    "    L12 = [0]*(n1+n2)\n",
    "    i1 = 0\n",
    "    i2 = 0\n",
    "    i = 0\n",
    "    while i1 < n1 and i2 < n2 :\n",
    "        if L1[i1] < L2[i2]:\n",
    "            L12[i] = L1[i1]\n",
    "            i1 += 1\n",
    "        else:\n",
    "            L12[i] = L2[i2]\n",
    "            i2 += 1\n",
    "        i += 1\n",
    "\n",
    "    while i1 < n1:\n",
    "        L12[i] = L1[i1]\n",
    "        i1 = i1 + 1\n",
    "        i += 1\n",
    "\n",
    "    while i2 < n2:\n",
    "        L12[i] = L2[i2]\n",
    "        i2 = i2 + 1\n",
    "        i += 1\n",
    "\n",
    "    return L12\n",
    "\n",
    "fusion([1,6,10],[0,7,8,9])"
   ]
  },
  {
   "cell_type": "code",
   "execution_count": 40,
   "metadata": {},
   "outputs": [
    {
     "data": {
      "text/plain": [
       "3"
      ]
     },
     "execution_count": 40,
     "metadata": {},
     "output_type": "execute_result"
    }
   ],
   "source": [
    "def recherche(tab, n) :\n",
    "\n",
    "    debut = 0\n",
    "    fin = len(tab) - 1\n",
    "    while debut < fin :\n",
    "        millieu = (debut + fin) // 2\n",
    "        if tab[millieu] == n :\n",
    "            return millieu\n",
    "        elif tab[millieu] > n :\n",
    "            fin = millieu - 1\n",
    "        else :\n",
    "            debut = millieu + 1\n",
    "    return -1\n",
    "\n",
    "recherche([2, 3, 4, 5, 6], 5)"
   ]
  },
  {
   "cell_type": "code",
   "execution_count": 41,
   "metadata": {},
   "outputs": [
    {
     "data": {
      "text/plain": [
       "'BONJOUR A TOUS. VIVE LA MATIERE NSI !'"
      ]
     },
     "execution_count": 41,
     "metadata": {},
     "output_type": "execute_result"
    }
   ],
   "source": [
    "ALPHABET='ABCDEFGHIJKLMNOPQRSTUVWXYZ'\n",
    "\n",
    "def position_alphabet(lettre):\n",
    "    return ALPHABET.find(lettre)\n",
    "\n",
    "def cesar(message, decalage):\n",
    "    resultat = ''\n",
    "    for lettre in message :\n",
    "        if lettre in ALPHABET :\n",
    "            indice = ( position_alphabet(lettre) + decalage )%26\n",
    "            resultat = resultat + ALPHABET[indice]\n",
    "        else:\n",
    "            resultat = resultat + lettre\n",
    "    return resultat\n",
    "cesar('GTSOTZW F YTZX. ANAJ QF RFYNJWJ SXN !',-5)"
   ]
  },
  {
   "cell_type": "code",
   "execution_count": 42,
   "metadata": {},
   "outputs": [
    {
     "data": {
      "text/plain": [
       "[0, 0, 0, 0, 0, 1, 1, 1, 1]"
      ]
     },
     "execution_count": 42,
     "metadata": {},
     "output_type": "execute_result"
    }
   ],
   "source": [
    "def tri(tab):\n",
    " #i est le premier indice de la zone non triee, j le dernierindice.\n",
    " #Au debut, la zone non triee est le tableau entier.\n",
    "    i= 0\n",
    "    j= len(tab) - 1\n",
    "    while i != j :\n",
    "        if tab[i]== 0:\n",
    "            i += 1\n",
    "        else : # i == 1\n",
    "            valeur = tab[j]\n",
    "            tab[j] = tab[i]\n",
    "            tab[i] = valeur\n",
    "            j -= 1\n",
    "    return tab\n",
    "tri([0,1,0,1,0,1,0,1,0])"
   ]
  },
  {
   "cell_type": "code",
   "execution_count": 47,
   "metadata": {},
   "outputs": [
    {
     "data": {
      "text/plain": [
       "[2, 1, 1]"
      ]
     },
     "execution_count": 47,
     "metadata": {},
     "output_type": "execute_result"
    }
   ],
   "source": [
    "def rendu(somme_a_rendre) :\n",
    "    sol = [0,0,0]\n",
    "    monnaie = [5, 2, 1]\n",
    "    i = 0\n",
    "    while i < len(monnaie) :\n",
    "        if monnaie[i] <= somme_a_rendre :\n",
    "            sol[i] += 1\n",
    "            somme_a_rendre -= monnaie[i]\n",
    "        else :\n",
    "            i += 1\n",
    "    return sol\n",
    "\n",
    "rendu(13)"
   ]
  },
  {
   "cell_type": "code",
   "execution_count": null,
   "metadata": {},
   "outputs": [],
   "source": [
    "class Maillon :\n",
    "    def __init__(self,v) :\n",
    "        self.valeur = v\n",
    "        self.suivant = None\n",
    "\n",
    "\n",
    "class File :\n",
    "    def __init__(self) :\n",
    "        self.dernier_file = None\n",
    "\n",
    "    def enfile(self,element) :\n",
    "        nouveau_maillon = Maillon(element)\n",
    "        nouveau_maillon.suivant = self.dernier_file\n",
    "        self.dernier_file = nouveau_maillon\n",
    "\n",
    "    def est_vide(self) :\n",
    "        return self.dernier_file == None\n",
    "\n",
    "    def affiche(self) :\n",
    "        maillon = self.dernier_file\n",
    "        while maillon != None :\n",
    "            print(maillon.valeur)\n",
    "            maillon = maillon.suivant\n",
    "\n",
    "    def defile(self) :\n",
    "        if not self.est_vide() :\n",
    "            if self.dernier_file.suivant == None :\n",
    "                resultat = self.dernier_file.valeur\n",
    "                self.dernier_file = None\n",
    "                return resultat\n",
    "            maillon = self.dernier.suivant\n",
    "            while maillon.suivant.suivant != None :\n",
    "                maillon = maillon.suivant\n",
    "            resultat = maillon.suivant.valeur\n",
    "            maillon.suivant = None\n",
    "            return resultat\n",
    "        return None\n"
   ]
  },
  {
   "cell_type": "code",
   "execution_count": 48,
   "metadata": {},
   "outputs": [
    {
     "data": {
      "text/plain": [
       "True"
      ]
     },
     "execution_count": 48,
     "metadata": {},
     "output_type": "execute_result"
    }
   ],
   "source": [
    "def correspond(mot, mot_a_trou) :\n",
    "    new = \"\"\n",
    "    for i in range(len(mot)) :\n",
    "        if mot_a_trou[i] == '*' :\n",
    "            new += mot[i]\n",
    "        else :\n",
    "            new += mot_a_trou[i]\n",
    "    return mot == new\n",
    "correspond('INFORMATIQUE', 'INFO*MA*IQUE')"
   ]
  },
  {
   "cell_type": "code",
   "execution_count": 53,
   "metadata": {},
   "outputs": [
    {
     "data": {
      "text/plain": [
       "False"
      ]
     },
     "execution_count": 53,
     "metadata": {},
     "output_type": "execute_result"
    }
   ],
   "source": [
    "def est_cyclique(plan):\n",
    "    '''\n",
    "    Prend en paramètre un dictionnaire plan correspondant\n",
    "    à un plan d'envoi de messages entre N personnes A, B, C,\n",
    "    D, E, F ...(avec N <= 26).\n",
    "    Renvoie True si le plan d'envoi de messages est cyclique\n",
    "    et False sinon.\n",
    "    '''\n",
    "    personne = 'A'\n",
    "    N = len(plan)\n",
    "    for i in range(N-1):\n",
    "        if plan[personne] == 'A' :\n",
    "            return False\n",
    "        else:\n",
    "            personne = plan[personne]\n",
    "    return True\n",
    "est_cyclique({'A':'E', 'F':'A', 'C':'D', 'E':'B', 'B':'F', 'D':'C'})\n",
    "est_cyclique({'A':'E', 'F':'C', 'C':'D', 'E':'B', 'B':'F', 'D':'A'})\n",
    "est_cyclique({'A':'B', 'F':'C', 'C':'D', 'E':'A', 'B':'F', 'D':'E'})\n",
    "est_cyclique({'A':'B', 'F':'A', 'C':'D', 'E':'C', 'B':'F', 'D':'E'})"
   ]
  },
  {
   "cell_type": "code",
   "execution_count": 54,
   "metadata": {},
   "outputs": [
    {
     "data": {
      "text/plain": [
       "'1001101'"
      ]
     },
     "execution_count": 54,
     "metadata": {},
     "output_type": "execute_result"
    }
   ],
   "source": [
    "def binaire(a):\n",
    "    bin_a = str(a%2)\n",
    "    a = a // 2\n",
    "    while a != 0 :\n",
    "        bin_a = str(a%2) + bin_a\n",
    "        a = a // 2\n",
    "    return bin_a\n",
    "binaire(77)"
   ]
  },
  {
   "cell_type": "code",
   "execution_count": 55,
   "metadata": {},
   "outputs": [
    {
     "name": "stdout",
     "output_type": "stream",
     "text": [
      "T =  [-1, 0, 5, -3, 4, -6, 10, 9, -8]\n"
     ]
    },
    {
     "data": {
      "text/plain": [
       "[0, 5, 4, 10, 9]"
      ]
     },
     "execution_count": 55,
     "metadata": {},
     "output_type": "execute_result"
    }
   ],
   "source": [
    "def positif(T):\n",
    "    T2 = list(T)\n",
    "    T3 = []\n",
    "    while T2 != []:\n",
    "        x = T2.pop()\n",
    "        if x >= 0:\n",
    "            T3.append(x)\n",
    "    T2 = []\n",
    "    while T3 != [] :\n",
    "        x = T3.pop()\n",
    "        T2.append(x)\n",
    "    print('T = ',T)\n",
    "    return T2\n",
    "positif([-1,0,5,-3,4,-6,10,9,-8 ])"
   ]
  },
  {
   "cell_type": "code",
   "execution_count": 57,
   "metadata": {},
   "outputs": [
    {
     "data": {
      "text/plain": [
       "9"
      ]
     },
     "execution_count": 57,
     "metadata": {},
     "output_type": "execute_result"
    }
   ],
   "source": [
    "def nombre_de_mots(phrase) :\n",
    "    nb_espaces = 0\n",
    "    for caractere in phrase :\n",
    "        if caractere == \" \" :\n",
    "            nb_espaces += 1\n",
    "    if phrase[-1] == \"!\" or \"?\" :\n",
    "        return nb_espaces\n",
    "    else : # .\n",
    "        return nb_espaces + 1\n",
    "nombre_de_mots('Le point d exclamation est separe !')\n",
    "nombre_de_mots('Il y a un seul espace entre les mots !')"
   ]
  },
  {
   "cell_type": "code",
   "execution_count": null,
   "metadata": {},
   "outputs": [],
   "source": [
    "class Noeud:\n",
    "    ''' Classe implémentant un noeud d'arbre binaire\n",
    "    disposant de 3 attributs :\n",
    "    - valeur : la valeur de l'étiquette,\n",
    "    - gauche : le sous-arbre gauche.\n",
    "    - droit : le sous-arbre droit. '''\n",
    "    def __init__(self, v, g, d):\n",
    "        self.valeur = v\n",
    "        self.gauche = g\n",
    "        self.droite = d\n",
    "\n",
    "\n",
    "class ABR:\n",
    "    ''' Classe implémentant une structure\n",
    "    d'arbre binaire de recherche. '''\n",
    "\n",
    "    def __init__(self):\n",
    "        '''Crée un arbre binaire de recherche vide'''\n",
    "        self.racine = None\n",
    "\n",
    "    def est_vide(self):\n",
    "        '''Renvoie True si l'ABR est vide et False sinon.'''\n",
    "        return self.racine is None\n",
    "\n",
    "    def parcours(self, tab = []):\n",
    "        ''' Renvoie la liste tab complétée avec tous les\n",
    "        éléments de l'ABR triés par ordre croissant. '''\n",
    "        if self.est_vide():\n",
    "            return tab\n",
    "        else:\n",
    "            self.racine.gauche.parcours(tab)\n",
    "            tab.append(self.racine.valeur)\n",
    "            self.racine.droite.parcours(tab)\n",
    "            return tab\n",
    "\n",
    "    def insere(self, element):\n",
    "        '''Insère un élément dans l'arbre binaire de recherche.'''\n",
    "        if self.est_vide():\n",
    "            self.racine = Noeud(element, ABR(), ABR())\n",
    "        else:\n",
    "            if element < self.racine.valeur:\n",
    "                self.racine.gauche.insere(element)\n",
    "            else :\n",
    "                self.racine.droite.insere(element)\n",
    "\n",
    "    def recherche(self, element):\n",
    "        '''\n",
    "        Renvoie True si element est présent dans l'arbre\n",
    "        binaire et False sinon.\n",
    "        '''\n",
    "        if self.est_vide():\n",
    "            return False \n",
    "        else:\n",
    "            if element < self.racine.valeur:\n",
    "                return self.racine.gauche.recherche(element)\n",
    "            elif element > self.racine.valeur:\n",
    "                return self.racine.droite.recherche(element)\n",
    "            else:\n",
    "                return True"
   ]
  },
  {
   "cell_type": "code",
   "execution_count": 58,
   "metadata": {},
   "outputs": [
    {
     "data": {
      "text/plain": [
       "True"
      ]
     },
     "execution_count": 58,
     "metadata": {},
     "output_type": "execute_result"
    }
   ],
   "source": [
    "def inverse_chaine(chaine):\n",
    "    result = \"\"\n",
    "    for caractere in chaine:\n",
    "        result = caractere + result \n",
    "    return result\n",
    "\n",
    "def est_palindrome(chaine):\n",
    "    inverse = inverse_chaine(chaine)\n",
    "    return inverse == chaine \n",
    "\n",
    "def est_nbre_palindrome(nbre):\n",
    "    chaine = str(nbre)\n",
    "    return est_palindrome(chaine)\n",
    "\n",
    "est_nbre_palindrome(213312)"
   ]
  },
  {
   "cell_type": "code",
   "execution_count": 59,
   "metadata": {},
   "outputs": [
    {
     "data": {
      "text/plain": [
       "-12"
      ]
     },
     "execution_count": 59,
     "metadata": {},
     "output_type": "execute_result"
    }
   ],
   "source": [
    "def multiplication(n1, n2) :\n",
    "    produit = 0\n",
    "    for _ in range(abs(n1)) :\n",
    "        produit += abs(n2)\n",
    "    if (n1 < 0 and n2 > 0) or (n1 > 0 and n2 < 0) :\n",
    "        return - produit\n",
    "    else :\n",
    "        return produit\n",
    "multiplication(-2,6)"
   ]
  },
  {
   "cell_type": "code",
   "execution_count": 62,
   "metadata": {},
   "outputs": [
    {
     "data": {
      "text/plain": [
       "4"
      ]
     },
     "execution_count": 62,
     "metadata": {},
     "output_type": "execute_result"
    }
   ],
   "source": [
    "def chercher(T,n,i,j):\n",
    "\n",
    "    if i < 0 or j > len(T)-1 :\n",
    "        print(\"Erreur\")\n",
    "        return None\n",
    "    if i > j :\n",
    "        return None\n",
    "\n",
    "    m = (i+j) // 2\n",
    "    if T[m] < n :\n",
    "        return chercher(T, n,  m+1, j)\n",
    "    elif T[m] > n :\n",
    "        return chercher(T, n, i, m-1 )\n",
    "    else :\n",
    "        return m\n",
    "chercher([1,5,6,6,9,12],9,0,5)"
   ]
  },
  {
   "cell_type": "code",
   "execution_count": null,
   "metadata": {},
   "outputs": [],
   "source": [
    "class Carre:\n",
    "    def __init__(self, tableau = [[]]):\n",
    "        self.ordre = len(tableau)\n",
    "        self.valeurs = tableau\n",
    "\n",
    "    def affiche(self):\n",
    "        '''Affiche un carré'''\n",
    "        for i in range(self.ordre):\n",
    "            print(self.valeurs[i])\n",
    "\n",
    "    def somme_ligne(self, i):\n",
    "        '''Calcule la somme des valeurs de la ligne i'''\n",
    "        return sum(self.valeurs[i])\n",
    "\n",
    "    def somme_col(self, j):\n",
    "        '''Calcule la somme des valeurs de la colonne j'''\n",
    "        return sum([self.valeurs[i][j] for i in range(self.ordre)])\n",
    "\n",
    "\n",
    "def est_magique(carre) :\n",
    "    n = carre.ordre\n",
    "    s = carre.somme_ligne(0)\n",
    "\n",
    "    #test de la somme de chaque ligne\n",
    "    for i in range(1, n):\n",
    "        if carre.somme_ligne(i) != s:\n",
    "            return False\n",
    "\n",
    "    #test de la somme de chaque colonne\n",
    "    for j in range(n):\n",
    "        if carre.somme_col(j) != s:\n",
    "            return False\n",
    "\n",
    "    #test de la somme de chaque diagonale\n",
    "    if sum([carre.valeurs[k][k] for k in range(n)]) != s:\n",
    "        return False\n",
    "    if sum([carre.valeurs[k][n-1-k] for k in range(n)]) != s:\n",
    "        return False\n",
    "\n",
    "    return True "
   ]
  },
  {
   "cell_type": "code",
   "execution_count": 65,
   "metadata": {},
   "outputs": [
    {
     "data": {
      "text/plain": [
       "[47, 48, 98452, 54154174198]"
      ]
     },
     "execution_count": 65,
     "metadata": {},
     "output_type": "execute_result"
    }
   ],
   "source": [
    "def tri_a_bulles(T):\n",
    "    n = len(T)\n",
    "    for i in range(n-1,0,-1):\n",
    "        for j in range(i):\n",
    "            if T[j] > T[j+1]:\n",
    "                temp = T[j]\n",
    "                T[j] = T[j+1]\n",
    "                T[j+1] = temp\n",
    "    return T\n",
    "\n",
    "tri_a_bulles([98452,54154174198,48,47])"
   ]
  },
  {
   "cell_type": "code",
   "execution_count": 1,
   "metadata": {},
   "outputs": [
    {
     "data": {
      "text/plain": [
       "True"
      ]
     },
     "execution_count": 1,
     "metadata": {},
     "output_type": "execute_result"
    }
   ],
   "source": [
    "def dichotomie(tab, x):\n",
    "\n",
    "    debut = 0\n",
    "    fin = len(tab) - 1\n",
    "    while debut <= fin:\n",
    "        m = (debut + fin) // 2\n",
    "        if x == tab[m]:\n",
    "            return True\n",
    "        if x > tab[m]:\n",
    "            debut = m + 1\n",
    "        else:\n",
    "            fin = m - 1\n",
    "    return False\n",
    "dichotomie([15, 16, 18, 19, 23, 24, 28, 29, 31, 33],28)"
   ]
  },
  {
   "cell_type": "code",
   "execution_count": 4,
   "metadata": {},
   "outputs": [
    {
     "data": {
      "text/plain": [
       "[2, 3, 5, 7, 11, 13, 17, 19, 23, 29, 31, 37]"
      ]
     },
     "execution_count": 4,
     "metadata": {},
     "output_type": "execute_result"
    }
   ],
   "source": [
    "def crible(N):\n",
    "    \"\"\"\n",
    "    Renvoie un tableau contenant tous les nombres premiers plus petits que N\n",
    "    \"\"\"\n",
    "    premiers = []\n",
    "    tab = [True] * N\n",
    "    tab[0], tab[1] = False, False\n",
    "    for i in range(2, N):\n",
    "        if tab[i] == True :\n",
    "            premiers.append(i)\n",
    "            for multiple in range(2*i, N, i):\n",
    "                tab[multiple] = False              \n",
    "    return premiers\n",
    "\n",
    "crible(40)"
   ]
  },
  {
   "cell_type": "code",
   "execution_count": 7,
   "metadata": {},
   "outputs": [
    {
     "data": {
      "text/plain": [
       "25"
      ]
     },
     "execution_count": 7,
     "metadata": {},
     "output_type": "execute_result"
    }
   ],
   "source": [
    "class Pile:\n",
    "    \"\"\"Classe définissant une structure de pile.\"\"\"\n",
    "    def __init__(self):\n",
    "        self.contenu = []\n",
    "    def est_vide(self):\n",
    "        \"\"\"\n",
    "        Renvoie le booléen True si la pile est vide, False sinon.\n",
    "        \"\"\"\n",
    "        return self.contenu == []\n",
    "    def empiler(self, v):\n",
    "        \"\"\"Place l’élément v au sommet de la pile.\"\"\"\n",
    "        self.contenu.append(v)\n",
    "    def depiler(self):\n",
    "        \"\"\"\n",
    "        Retire et renvoie l’élément placé au sommet de la pile,\n",
    "        si la pile n’est pas vide.\n",
    "        \"\"\"\n",
    "        if not self.est_vide():\n",
    "            return self.contenu.pop()\n",
    "\n",
    "\n",
    "def eval_expression(tab):\n",
    "    p = Pile()\n",
    "    for element in tab:\n",
    "        if element != '+' and element != '*':\n",
    "            p.empiler(element)\n",
    "        else:\n",
    "            if element == \"+\":\n",
    "                resultat = p.depiler() + p.depiler()\n",
    "            else:\n",
    "                resultat = p.depiler() * p.depiler()\n",
    "            p.empiler(resultat)\n",
    "    return p.depiler()\n",
    "\n",
    "eval_expression([2, 3, '+', 5, '*'])"
   ]
  },
  {
   "cell_type": "code",
   "execution_count": 8,
   "metadata": {},
   "outputs": [],
   "source": [
    "class Pile:\n",
    "    \"\"\"Classe définissant une pile\"\"\"\n",
    "    def __init__(self, valeurs=[]):\n",
    "        self.valeurs = valeurs\n",
    "    def est_vide(self):\n",
    "        \"\"\"Renvoie True si la pile est vide, False sinon\"\"\"\n",
    "        return self.valeurs == []\n",
    "    def empiler(self, c):\n",
    "        \"\"\"Place l’élément c au sommet de la pile\"\"\"\n",
    "        self.valeurs.append(c)\n",
    "    def depiler(self):\n",
    "        \"\"\"\n",
    "        Supprime l’élément placé au sommet de la pile, à condition qu’elle\n",
    "        soit non vide\n",
    "        \"\"\"\n",
    "        if self.est_vide() == False:\n",
    "            self.valeurs.pop()\n",
    "\n",
    "def parenthesage (ch):\n",
    "    \"\"\"Renvoie True si la chaîne ch est bien parenthésée et False sinon\"\"\"\n",
    "    p = Pile()\n",
    "    for c in ch:\n",
    "        if c == \"(\":\n",
    "            p.empiler(c)\n",
    "        elif c == \")\":\n",
    "            if p.est_vide():\n",
    "                return False\n",
    "            else:\n",
    "                p.depiler()\n",
    "    return p.est_vide()\n",
    "\n",
    "assert parenthesage(\"((()())(()))\") == True\n",
    "assert parenthesage(\"())(()\") == False\n",
    "assert parenthesage(\"(())(()\") == False"
   ]
  },
  {
   "cell_type": "code",
   "execution_count": 14,
   "metadata": {},
   "outputs": [
    {
     "data": {
      "text/plain": [
       "7"
      ]
     },
     "execution_count": 14,
     "metadata": {},
     "output_type": "execute_result"
    }
   ],
   "source": [
    "def trouver_intrus(tab, g, d):\n",
    "    '''\n",
    "    Renvoie la valeur de l'intrus situé entre les indices g et d\n",
    "    dans la liste tab où :\n",
    "    tab vérifie les conditions de l'exercice,\n",
    "    g et d sont des multiples de 3.\n",
    "    '''\n",
    "\n",
    "    if g == d:\n",
    "        return tab[g]\n",
    "\n",
    "    else:\n",
    "        nombre_de_triplets = (d - g)// 3\n",
    "        indice = g + 3 * (nombre_de_triplets // 2)\n",
    "        if tab[indice] == tab[indice + 1]:\n",
    "            return trouver_intrus(tab,indice+3,d)\n",
    "        else:\n",
    "            return trouver_intrus(tab, g, indice)\n",
    "trouver_intrus([3, 3, 3, 9, 9, 9, 1, 1, 1, 7, 2, 2, 2, 4, 4, 4, 8, 8, 8, 5, 5, 5], 0, 21)"
   ]
  },
  {
   "cell_type": "code",
   "execution_count": 15,
   "metadata": {},
   "outputs": [
    {
     "data": {
      "text/plain": [
       "[0, 0, 0, 0, 1, 1, 1, 1]"
      ]
     },
     "execution_count": 15,
     "metadata": {},
     "output_type": "execute_result"
    }
   ],
   "source": [
    "def separe(tab):\n",
    "    i = 0\n",
    "    j = len(tab) - 1\n",
    "    while i < j :\n",
    "        if tab[i] == 0 :\n",
    "            i = i + 1\n",
    "        else :\n",
    "            tab[i], tab[j] = tab[j], tab[i]\n",
    "            j = j - 1\n",
    "    return tab\n",
    "separe([1, 0, 1, 0, 1, 0, 1, 0])"
   ]
  },
  {
   "cell_type": "code",
   "execution_count": 17,
   "metadata": {},
   "outputs": [],
   "source": [
    "def taille(arbre, lettre) :\n",
    "    if arbre[lettre][0] == '' and arbre[lettre][1] == '':\n",
    "        return 1\n",
    "    elif arbre[lettre][0] == '' :\n",
    "        return 1 + taille(arbre, arbre[lettre][1])\n",
    "    elif arbre[lettre][1] == '' :\n",
    "        return 1 + taille(arbre, arbre[lettre][0])\n",
    "    else :\n",
    "        return 1 + taille(arbre, arbre[lettre][0]) + taille(arbre, arbre[lettre][1])"
   ]
  },
  {
   "cell_type": "code",
   "execution_count": 16,
   "metadata": {},
   "outputs": [
    {
     "data": {
      "text/plain": [
       "['B', 'G']"
      ]
     },
     "execution_count": 16,
     "metadata": {},
     "output_type": "execute_result"
    }
   ],
   "source": [
    "a = {'F':['B','G'], 'B':['A','D'], 'A':['',''], 'D':['C','E'], \\\n",
    " 'C':['',''], 'E':['',''], 'G':['','I'], 'I':['','H'], \\\n",
    " 'H':['','']}\n",
    "\n",
    "a['F']"
   ]
  },
  {
   "cell_type": "code",
   "execution_count": 18,
   "metadata": {},
   "outputs": [
    {
     "data": {
      "text/plain": [
       "9"
      ]
     },
     "execution_count": 18,
     "metadata": {},
     "output_type": "execute_result"
    }
   ],
   "source": [
    "taille(a, 'F')"
   ]
  },
  {
   "cell_type": "code",
   "execution_count": 19,
   "metadata": {},
   "outputs": [
    {
     "data": {
      "text/plain": [
       "[6, 12, 18, 21, 25, 41, 55]"
      ]
     },
     "execution_count": 19,
     "metadata": {},
     "output_type": "execute_result"
    }
   ],
   "source": [
    "def tri_iteratif(tab):\n",
    "    for k in range( len(tab)-1 , 0, -1):\n",
    "        imax = k\n",
    "        for i in range(0 , k ):\n",
    "            if tab[i] > tab[imax] :\n",
    "                imax = i\n",
    "        if tab[imax] > tab[k] :\n",
    "            tab[k] , tab[imax] = tab[imax] , tab[k]\n",
    "    return tab\n",
    "tri_iteratif([41, 55, 21, 18, 12, 6, 25])"
   ]
  },
  {
   "cell_type": "code",
   "execution_count": 27,
   "metadata": {},
   "outputs": [
    {
     "data": {
      "text/plain": [
       "75025"
      ]
     },
     "execution_count": 27,
     "metadata": {},
     "output_type": "execute_result"
    }
   ],
   "source": [
    "def fibonacci(n) :\n",
    "    sol = [1,1]\n",
    "    for i in range(2, n) :\n",
    "        new = sol[i-1] + sol[i-2]\n",
    "        sol.append(new)\n",
    "    return sol[-1]\n",
    "\n",
    "fibonacci(25)"
   ]
  },
  {
   "cell_type": "code",
   "execution_count": 30,
   "metadata": {},
   "outputs": [
    {
     "data": {
      "text/plain": [
       "(80, 3, ['c', 'f', 'h'])"
      ]
     },
     "execution_count": 30,
     "metadata": {},
     "output_type": "execute_result"
    }
   ],
   "source": [
    "liste_eleves = ['a','b','c','d','e','f','g','h','i','j']\n",
    "liste_notes = [1, 40, 80, 60, 58, 80, 75, 80, 60, 24]\n",
    "\n",
    "def meilleures_notes():\n",
    "    note_maxi = liste_notes[0]\n",
    "    nb_eleves_note_maxi = 0\n",
    "    liste_maxi = []\n",
    "\n",
    "    for compteur in range(len(liste_eleves)):\n",
    "        if liste_notes[compteur] == note_maxi:\n",
    "            nb_eleves_note_maxi = nb_eleves_note_maxi + 1\n",
    "            liste_maxi.append(liste_eleves[compteur])\n",
    "\n",
    "        if liste_notes[compteur] > note_maxi:\n",
    "            note_maxi = liste_notes[compteur]\n",
    "            nb_eleves_note_maxi = 1\n",
    "            liste_maxi = [liste_eleves[compteur]]\n",
    "\n",
    "    return (note_maxi,nb_eleves_note_maxi,liste_maxi)\n",
    "\n",
    "meilleures_notes()"
   ]
  },
  {
   "cell_type": "code",
   "execution_count": 31,
   "metadata": {},
   "outputs": [
    {
     "data": {
      "text/plain": [
       "[2, 3, 5, 5]"
      ]
     },
     "execution_count": 31,
     "metadata": {},
     "output_type": "execute_result"
    }
   ],
   "source": [
    "def fusion(l1, l2) :\n",
    "    i1 = 0\n",
    "    i2 = 0\n",
    "    l = []\n",
    "\n",
    "    while i1 < len(l1) and i2 < len(l2) :\n",
    "        if l1[i1] < l2[i2] :\n",
    "            l.append(l1[i1])\n",
    "            i1 += 1\n",
    "        else :\n",
    "            l.append(l2[i2])\n",
    "            i2 += 1\n",
    "\n",
    "    return l + l1[i1:] + l2[i2:]\n",
    "fusion([3, 5], [2, 5])"
   ]
  },
  {
   "cell_type": "code",
   "execution_count": 32,
   "metadata": {},
   "outputs": [],
   "source": [
    "def rom_to_dec (nombre):\n",
    "    \"\"\" Renvoie l’écriture décimale du nombre donné en chiffres romains \"\"\"\n",
    "    dico = {\"I\":1, \"V\":5, \"X\":10, \"L\":50, \"C\":100, \"M\":1000}\n",
    "    if len(nombre) == 1:\n",
    "        return dico[nombre]\n",
    "    else:\n",
    "        nombre_droite = nombre[1:]\n",
    "        if dico[nombre[0]] >= dico[nombre[1]]:\n",
    "            return dico[nombre[0]] + rom_to_dec(nombre_droite)\n",
    "        else:\n",
    "            return  rom_to_dec(nombre_droite) - dico[nombre[0]]\n",
    "\n",
    "assert rom_to_dec(\"CXLII\") == 142"
   ]
  },
  {
   "cell_type": "code",
   "execution_count": 34,
   "metadata": {},
   "outputs": [
    {
     "data": {
      "text/plain": [
       "[200, 100, 50, 20, 10, 5, 2, 1]"
      ]
     },
     "execution_count": 34,
     "metadata": {},
     "output_type": "execute_result"
    }
   ],
   "source": [
    "def rendu_monnaie_centimes(s_due, s_versee):\n",
    "    pieces = [1, 2, 5, 10, 20, 50, 100, 200]\n",
    "    rendu = []\n",
    "    a_rendre = s_versee - s_due\n",
    "    i = len(pieces) - 1\n",
    "    while a_rendre > 0 :\n",
    "        if pieces[i] <= a_rendre :\n",
    "            rendu.append(pieces[i])\n",
    "            a_rendre -= pieces[i]\n",
    "        else :\n",
    "            i -= 1\n",
    "    return rendu\n",
    "rendu_monnaie_centimes(112,500)"
   ]
  },
  {
   "cell_type": "code",
   "execution_count": 1,
   "metadata": {},
   "outputs": [
    {
     "data": {
      "text/plain": [
       "130"
      ]
     },
     "execution_count": 1,
     "metadata": {},
     "output_type": "execute_result"
    }
   ],
   "source": [
    "def convertir(T) :\n",
    "    puissances = [2**i for i in range(len(T))]\n",
    "    puissances.reverse()\n",
    "\n",
    "    sol = 0\n",
    "    for j in range(len(T)) :\n",
    "        if T[j] == 1 :\n",
    "            sol += puissances[j]\n",
    "    return sol\n",
    "convertir([1, 0, 0, 0, 0, 0, 1, 0])"
   ]
  },
  {
   "cell_type": "code",
   "execution_count": 3,
   "metadata": {},
   "outputs": [
    {
     "data": {
      "text/plain": [
       "[-1, 0, 2, 5, 7, 28]"
      ]
     },
     "execution_count": 3,
     "metadata": {},
     "output_type": "execute_result"
    }
   ],
   "source": [
    "def tri_insertion(L):\n",
    "    n = len(L)\n",
    "    # cas du tableau vide\n",
    "    if n == 0:\n",
    "        return L\n",
    "    for j in range(1,n):\n",
    "        e = L[j]\n",
    "        i = j\n",
    "        # A l'étape j, le sous-tableau L[0,j-1] est trié\n",
    "        # et on insère L[j] dans ce sous-tableau en déterminant\n",
    "        # le plus petit i tel que 0 <= i <= j et L[i-1] > L[j].\n",
    "        while i > 0 and L[i-1] > L[j]:\n",
    "            i = i - 1\n",
    "\n",
    "        # si i != j, on décale le sous tableau L[i,j-1] d’un cran\n",
    "        # vers la droite et on place L[j] en position i\n",
    "        if i != j:\n",
    "            for k in range(j,i,-1):\n",
    "                L[k] = L[k-1]\n",
    "            L[i] = e\n",
    "    return L\n",
    "tri_insertion([2,5,-1,7,0,28])"
   ]
  },
  {
   "cell_type": "code",
   "execution_count": null,
   "metadata": {},
   "outputs": [],
   "source": [
    "alphabet=['a','b','c','d','e','f','g','h','i','j','k','l','m','n','o','p','q','r','s','t','u','v','w','x','y','z']\n",
    "ch=\"je suis en terminale et je passe le bac et je souhaite poursuivre des etudes pour devenir expert en informatique\"\n",
    "\n",
    "def occurence(chaine) :\n",
    "    occurence = [0]*26\n"
   ]
  }
 ],
 "metadata": {
  "interpreter": {
   "hash": "a4582a75a41fb78247f9e0d5ac5dcfbd0ffd857e3944b83ed2a96ac364b75fd7"
  },
  "kernelspec": {
   "display_name": "Python 3.9.1 64-bit",
   "language": "python",
   "name": "python3"
  },
  "language_info": {
   "codemirror_mode": {
    "name": "ipython",
    "version": 3
   },
   "file_extension": ".py",
   "mimetype": "text/x-python",
   "name": "python",
   "nbconvert_exporter": "python",
   "pygments_lexer": "ipython3",
   "version": "3.9.1"
  },
  "orig_nbformat": 4
 },
 "nbformat": 4,
 "nbformat_minor": 2
}
