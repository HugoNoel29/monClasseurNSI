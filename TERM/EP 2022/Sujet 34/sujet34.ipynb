{
 "cells": [
  {
   "cell_type": "code",
   "execution_count": 7,
   "metadata": {},
   "outputs": [],
   "source": [
    "def occurence(ch) :\n",
    "    alphabet=['a','b','c','d','e','f','g','h','i','j','k','l','m','n','o,','p','q','r','s','t','u','v','w','x','y','z']\n",
    "    occurence = [0]*26\n",
    "\n",
    "    for car in ch :\n",
    "        for j in range(len(alphabet)) :\n",
    "            if alphabet[j] == car :\n",
    "                occurence[j] += 1\n",
    "    \n",
    "    max = 0\n",
    "    indice_max = 0\n",
    "    for i in range(len(occurence)) :\n",
    "        if occurence[i] > max :\n",
    "            max = occurence[i]\n",
    "            indice_max = i\n",
    "    return alphabet[indice_max]"
   ]
  },
  {
   "cell_type": "code",
   "execution_count": 4,
   "metadata": {},
   "outputs": [],
   "source": [
    "ch = \"je suis en terminale et je passe le bac et je souhaite poursuivre des etudes pour devenir expert en informatique\""
   ]
  },
  {
   "cell_type": "code",
   "execution_count": 9,
   "metadata": {},
   "outputs": [
    {
     "data": {
      "text/plain": [
       "'e'"
      ]
     },
     "execution_count": 9,
     "metadata": {},
     "output_type": "execute_result"
    }
   ],
   "source": [
    "occurence(ch)"
   ]
  },
  {
   "cell_type": "code",
   "execution_count": 16,
   "metadata": {},
   "outputs": [],
   "source": [
    "def nbLig(image) :\n",
    "    return len(image)"
   ]
  },
  {
   "cell_type": "code",
   "execution_count": 17,
   "metadata": {},
   "outputs": [],
   "source": [
    "def nbCol(image) :\n",
    "    return len(image[0])"
   ]
  },
  {
   "cell_type": "code",
   "execution_count": 25,
   "metadata": {},
   "outputs": [],
   "source": [
    "def negatif(image) :\n",
    "    L = [[0 for k in range(nbCol(image))] for i in range(nbLig(image))]\n",
    "\n",
    "    for i in range(len(image)) :\n",
    "        for j in range(len(image[i])) :\n",
    "            L[i][j] = 255 - image[i][j]\n",
    "\n",
    "    return L"
   ]
  },
  {
   "cell_type": "code",
   "execution_count": 30,
   "metadata": {},
   "outputs": [],
   "source": [
    "def binaire(image, seuil) :\n",
    "    L = [[0 for k in range(nbCol(image))] for i in range(nbLig(image))]\n",
    "    for i in range(len(image)) :\n",
    "        for j in range(len(image[i])) :\n",
    "            if image[i][j] < seuil :\n",
    "                L[i][j] = 0\n",
    "            else :\n",
    "                L[i][j] = 1\n",
    "    return L"
   ]
  },
  {
   "cell_type": "code",
   "execution_count": 19,
   "metadata": {},
   "outputs": [],
   "source": [
    "img=[[20, 34, 254, 145, 6], [23, 124, 237, 225, 69], [197,174, 207, 25, 87], [255, 0, 24, 197, 189]]"
   ]
  },
  {
   "cell_type": "code",
   "execution_count": 20,
   "metadata": {},
   "outputs": [
    {
     "data": {
      "text/plain": [
       "4"
      ]
     },
     "execution_count": 20,
     "metadata": {},
     "output_type": "execute_result"
    }
   ],
   "source": [
    "nbLig(img)"
   ]
  },
  {
   "cell_type": "code",
   "execution_count": 21,
   "metadata": {},
   "outputs": [
    {
     "data": {
      "text/plain": [
       "5"
      ]
     },
     "execution_count": 21,
     "metadata": {},
     "output_type": "execute_result"
    }
   ],
   "source": [
    "nbCol(img)"
   ]
  },
  {
   "cell_type": "code",
   "execution_count": 26,
   "metadata": {},
   "outputs": [
    {
     "data": {
      "text/plain": [
       "[[235, 221, 1, 110, 249],\n",
       " [232, 131, 18, 30, 186],\n",
       " [58, 81, 48, 230, 168],\n",
       " [0, 255, 231, 58, 66]]"
      ]
     },
     "execution_count": 26,
     "metadata": {},
     "output_type": "execute_result"
    }
   ],
   "source": [
    "negatif(img)"
   ]
  },
  {
   "cell_type": "code",
   "execution_count": 31,
   "metadata": {},
   "outputs": [
    {
     "data": {
      "text/plain": [
       "[[0, 0, 1, 1, 0], [0, 1, 1, 1, 0], [1, 1, 1, 0, 0], [1, 0, 0, 1, 1]]"
      ]
     },
     "execution_count": 31,
     "metadata": {},
     "output_type": "execute_result"
    }
   ],
   "source": [
    "binaire(img, 120)"
   ]
  }
 ],
 "metadata": {
  "interpreter": {
   "hash": "c9b53006eb56ed42d4fa5fa073fce4d2216f27269ec7b06e2249a959fdf3d018"
  },
  "kernelspec": {
   "display_name": "Python 3.9.4 64-bit",
   "language": "python",
   "name": "python3"
  },
  "language_info": {
   "codemirror_mode": {
    "name": "ipython",
    "version": 3
   },
   "file_extension": ".py",
   "mimetype": "text/x-python",
   "name": "python",
   "nbconvert_exporter": "python",
   "pygments_lexer": "ipython3",
   "version": "3.9.4"
  },
  "orig_nbformat": 4
 },
 "nbformat": 4,
 "nbformat_minor": 2
}
