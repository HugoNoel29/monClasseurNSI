{
 "cells": [
  {
   "cell_type": "markdown",
   "metadata": {},
   "source": [
    "<h1>Exercice 1"
   ]
  },
  {
   "cell_type": "code",
   "execution_count": 1,
   "metadata": {},
   "outputs": [],
   "source": [
    "def nombre_de_mots(phrase : str) -> int :\n",
    "    \"\"\"\n",
    "    Description : Renvoie le nombre de mots dans une phrase\n",
    "\n",
    "    Exemple : >>> nombre_de_mots('Robin est le plus beau de la Terre !')\n",
    "              >>> 8\n",
    "\n",
    "    Préconditions : (str) : la phrase dans laquelle on doit compte le nombre de mots\n",
    "\n",
    "    Postconditions : (int) : le nombre de mots de la phrase\n",
    "    \"\"\"\n",
    "    nb_mots = 0\n",
    "    for caractere in phrase :\n",
    "        if caractere == ' ' :\n",
    "            nb_mots += 1\n",
    "    return nb_mots"
   ]
  },
  {
   "cell_type": "code",
   "execution_count": 2,
   "metadata": {},
   "outputs": [
    {
     "data": {
      "text/plain": [
       "6"
      ]
     },
     "execution_count": 2,
     "metadata": {},
     "output_type": "execute_result"
    }
   ],
   "source": [
    "nombre_de_mots('Le point d exclamation est separe !')"
   ]
  },
  {
   "cell_type": "code",
   "execution_count": 3,
   "metadata": {},
   "outputs": [
    {
     "data": {
      "text/plain": [
       "9"
      ]
     },
     "execution_count": 3,
     "metadata": {},
     "output_type": "execute_result"
    }
   ],
   "source": [
    "nombre_de_mots('Il y a un seul espace entre les mots !')"
   ]
  },
  {
   "cell_type": "code",
   "execution_count": 4,
   "metadata": {},
   "outputs": [
    {
     "data": {
      "text/plain": [
       "8"
      ]
     },
     "execution_count": 4,
     "metadata": {},
     "output_type": "execute_result"
    }
   ],
   "source": [
    "nombre_de_mots('Robin est le plus beau de la Terre !')"
   ]
  },
  {
   "cell_type": "markdown",
   "metadata": {},
   "source": [
    "<h1>Exercice 2"
   ]
  },
  {
   "cell_type": "code",
   "execution_count": 7,
   "metadata": {},
   "outputs": [],
   "source": [
    "class Noeud :\n",
    "    ''' Classe implémentant un noeud d'arbre binaire\n",
    " disposant de 3 attributs :\n",
    " - valeur : la valeur de l'étiquette,\n",
    " - gauche : le sous-arbre gauche.\n",
    " - droit : le sous-arbre droit. '''\n",
    "\n",
    "    def __init__(self, v, g, d) :\n",
    "        self.valeur = v\n",
    "        self.gauche = g\n",
    "        self.droite = d"
   ]
  },
  {
   "cell_type": "code",
   "execution_count": 17,
   "metadata": {},
   "outputs": [],
   "source": [
    "class ABR :\n",
    "    ''' Classe implémentant une structure\n",
    " d'arbre binaire de recherche. '''\n",
    "\n",
    "    def __init__(self) :\n",
    "        'Crée un arbre binaire de recherche vide'\n",
    "        self.racine = None\n",
    "    \n",
    "    def est_vide(self) :\n",
    "        \"Renvoie True si l'ABR est vide et False sinon\"\n",
    "        return self.racine is None\n",
    "\n",
    "    def parcours(self, tab=[]) :\n",
    "        ''' Renvoie la liste tab complétée avec tous les\n",
    "        éléments de l'ABR triés par ordre croissant. '''\n",
    "\n",
    "        if self.est_vide() :\n",
    "            return tab\n",
    "        else :\n",
    "            self.racine.gauche.parcours(tab)\n",
    "            tab.append(self.racine.valeur)\n",
    "            self.racine.droite.parcours(tab)\n",
    "            return tab\n",
    "\n",
    "    def insere(self, element) :\n",
    "        '''Insère un élément dans l'arbre binaire de recherche.'''\n",
    "\n",
    "        if self.est_vide() :\n",
    "            self.racine = Noeud(element, ABR(), ABR())\n",
    "        else :\n",
    "            if element < self.racine.valeur : \n",
    "                self.racine.gauche.insere(element)\n",
    "            else :\n",
    "                self.racine.droite.insere(element)\n",
    "\n",
    "    def recherche(self, element) :\n",
    "        '''\n",
    "        Renvoie True si element est présent dans l'arbre\n",
    "        binaire et False sinon.\n",
    "        '''\n",
    "        if self.est_vide() :\n",
    "            return False\n",
    "        else :\n",
    "            if element < self.racine.valeur :\n",
    "                return self.racine.gauche.recherche(element)\n",
    "            elif element > self.racine.valeur :\n",
    "                return self.racine.droite.recherche(element)\n",
    "            else :\n",
    "                return True\n"
   ]
  },
  {
   "cell_type": "code",
   "execution_count": 18,
   "metadata": {},
   "outputs": [],
   "source": [
    "a = ABR()"
   ]
  },
  {
   "cell_type": "code",
   "execution_count": 19,
   "metadata": {},
   "outputs": [],
   "source": [
    "a.insere(7)"
   ]
  },
  {
   "cell_type": "code",
   "execution_count": 20,
   "metadata": {},
   "outputs": [],
   "source": [
    "a.insere(3)"
   ]
  },
  {
   "cell_type": "code",
   "execution_count": 21,
   "metadata": {},
   "outputs": [],
   "source": [
    "a.insere(9)"
   ]
  },
  {
   "cell_type": "code",
   "execution_count": 22,
   "metadata": {},
   "outputs": [],
   "source": [
    "a.insere(1)"
   ]
  },
  {
   "cell_type": "code",
   "execution_count": 23,
   "metadata": {},
   "outputs": [],
   "source": [
    "a.insere(9)"
   ]
  },
  {
   "cell_type": "code",
   "execution_count": 24,
   "metadata": {},
   "outputs": [
    {
     "data": {
      "text/plain": [
       "[1, 3, 7, 9, 9]"
      ]
     },
     "execution_count": 24,
     "metadata": {},
     "output_type": "execute_result"
    }
   ],
   "source": [
    "a.parcours()"
   ]
  },
  {
   "cell_type": "code",
   "execution_count": 25,
   "metadata": {},
   "outputs": [
    {
     "data": {
      "text/plain": [
       "False"
      ]
     },
     "execution_count": 25,
     "metadata": {},
     "output_type": "execute_result"
    }
   ],
   "source": [
    "a.recherche(4)"
   ]
  },
  {
   "cell_type": "code",
   "execution_count": 26,
   "metadata": {},
   "outputs": [
    {
     "data": {
      "text/plain": [
       "True"
      ]
     },
     "execution_count": 26,
     "metadata": {},
     "output_type": "execute_result"
    }
   ],
   "source": [
    "a.recherche(3)"
   ]
  }
 ],
 "metadata": {
  "interpreter": {
   "hash": "a4582a75a41fb78247f9e0d5ac5dcfbd0ffd857e3944b83ed2a96ac364b75fd7"
  },
  "kernelspec": {
   "display_name": "Python 3.9.1 64-bit",
   "language": "python",
   "name": "python3"
  },
  "language_info": {
   "codemirror_mode": {
    "name": "ipython",
    "version": 3
   },
   "file_extension": ".py",
   "mimetype": "text/x-python",
   "name": "python",
   "nbconvert_exporter": "python",
   "pygments_lexer": "ipython3",
   "version": "3.9.1"
  },
  "orig_nbformat": 4
 },
 "nbformat": 4,
 "nbformat_minor": 2
}
