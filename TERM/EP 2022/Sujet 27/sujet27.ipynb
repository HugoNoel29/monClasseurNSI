{
 "cells": [
  {
   "cell_type": "code",
   "execution_count": 14,
   "metadata": {},
   "outputs": [],
   "source": [
    "def taille(arbre, lettre) :\n",
    "\n",
    "    if lettre == '' :\n",
    "        return 0\n",
    "    else :\n",
    "        return 1 + taille(arbre, arbre[lettre][0]) + taille(arbre, arbre[lettre][1])"
   ]
  },
  {
   "cell_type": "code",
   "execution_count": 12,
   "metadata": {},
   "outputs": [],
   "source": [
    "def taille(arbre,lettre):\n",
    "    if arbre[lettre]==['','']:\n",
    "        return 1\n",
    "    elif arbre[lettre][0]=='':\n",
    "        return 1+taille(arbre,arbre[lettre][1])\n",
    "    elif arbre[lettre][1]=='':\n",
    "        return 1+taille(arbre,arbre[lettre][0])\n",
    "    else:\n",
    "        return 1+taille(arbre,arbre[lettre][0])+taille(arbre,arbre[lettre][1])"
   ]
  },
  {
   "cell_type": "code",
   "execution_count": 10,
   "metadata": {},
   "outputs": [],
   "source": [
    "a = {'F':['B','G'], 'B':['A','D'], 'A':['',''], 'D':['C','E'], \\\n",
    " 'C':['',''], 'E':['',''], 'G':['','I'], 'I':['','H'], \\\n",
    " 'H':['','']}\n"
   ]
  },
  {
   "cell_type": "code",
   "execution_count": 3,
   "metadata": {},
   "outputs": [
    {
     "data": {
      "text/plain": [
       "['B', 'G']"
      ]
     },
     "execution_count": 3,
     "metadata": {},
     "output_type": "execute_result"
    }
   ],
   "source": [
    "a['F']"
   ]
  },
  {
   "cell_type": "code",
   "execution_count": 4,
   "metadata": {},
   "outputs": [
    {
     "name": "stdout",
     "output_type": "stream",
     "text": [
      "B\n",
      "G\n"
     ]
    }
   ],
   "source": [
    "for elt in a['F'] :\n",
    "    print(elt)"
   ]
  },
  {
   "cell_type": "code",
   "execution_count": 15,
   "metadata": {},
   "outputs": [
    {
     "data": {
      "text/plain": [
       "9"
      ]
     },
     "execution_count": 15,
     "metadata": {},
     "output_type": "execute_result"
    }
   ],
   "source": [
    "taille(a, 'F')"
   ]
  },
  {
   "cell_type": "code",
   "execution_count": 23,
   "metadata": {},
   "outputs": [],
   "source": [
    "def tri_iteratif(tab) :\n",
    "    for k in range(len(tab)-1, 0, -1) :\n",
    "        imax = 0\n",
    "        for i in range(0, k) :\n",
    "            if tab[i] > tab[imax] :\n",
    "                imax = i\n",
    "        if tab[imax] > tab[k] : \n",
    "            tab[k], tab[imax] = tab[imax], tab[k]\n",
    "    return tab"
   ]
  },
  {
   "cell_type": "code",
   "execution_count": 16,
   "metadata": {},
   "outputs": [],
   "source": [
    "tab = [41, 55, 21, 18, 12, 6, 25]"
   ]
  },
  {
   "cell_type": "code",
   "execution_count": 18,
   "metadata": {},
   "outputs": [
    {
     "name": "stdout",
     "output_type": "stream",
     "text": [
      "7\n",
      "6\n",
      "5\n",
      "4\n",
      "3\n",
      "2\n",
      "1\n"
     ]
    }
   ],
   "source": [
    "for k in range(len(tab), 0, -1) :\n",
    "    print(k)"
   ]
  },
  {
   "cell_type": "code",
   "execution_count": 24,
   "metadata": {},
   "outputs": [
    {
     "data": {
      "text/plain": [
       "[6, 12, 18, 21, 25, 41, 55]"
      ]
     },
     "execution_count": 24,
     "metadata": {},
     "output_type": "execute_result"
    }
   ],
   "source": [
    "tri_iteratif([41, 55, 21, 18, 12, 6, 25])"
   ]
  }
 ],
 "metadata": {
  "interpreter": {
   "hash": "c535f766096f575e5993344ecf38043c94305985d3bbdfcb24d1ab2af40cf48e"
  },
  "kernelspec": {
   "display_name": "Python 3.9.4 64-bit",
   "language": "python",
   "name": "python3"
  },
  "language_info": {
   "codemirror_mode": {
    "name": "ipython",
    "version": 3
   },
   "file_extension": ".py",
   "mimetype": "text/x-python",
   "name": "python",
   "nbconvert_exporter": "python",
   "pygments_lexer": "ipython3",
   "version": "3.9.4"
  },
  "orig_nbformat": 4
 },
 "nbformat": 4,
 "nbformat_minor": 2
}
