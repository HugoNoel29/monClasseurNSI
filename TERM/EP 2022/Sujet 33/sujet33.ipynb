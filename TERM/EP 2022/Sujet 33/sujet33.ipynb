{
 "cells": [
  {
   "cell_type": "code",
   "execution_count": 11,
   "metadata": {},
   "outputs": [],
   "source": [
    "def convertir(T) :\n",
    "\n",
    "    nombre = [2**i for i in range(len(T))]\n",
    "    nombre.reverse()\n",
    "\n",
    "    decimal = 0\n",
    "    for j in range(len(T)) :\n",
    "        if T[j] == 1 :\n",
    "            decimal += nombre[j]\n",
    "\n",
    "    return decimal"
   ]
  },
  {
   "cell_type": "code",
   "execution_count": 9,
   "metadata": {},
   "outputs": [
    {
     "data": {
      "text/plain": [
       "([64, 32, 16, 8, 4, 2, 1], [1, 0, 1, 0, 0, 1, 1])"
      ]
     },
     "execution_count": 9,
     "metadata": {},
     "output_type": "execute_result"
    }
   ],
   "source": [
    "T = [1, 0, 1, 0, 0, 1, 1]\n",
    "nombre = [2**i for i in range(0, len(T))]\n",
    "nombre.reverse()\n",
    "nombre, T"
   ]
  },
  {
   "cell_type": "code",
   "execution_count": 12,
   "metadata": {},
   "outputs": [
    {
     "data": {
      "text/plain": [
       "83"
      ]
     },
     "execution_count": 12,
     "metadata": {},
     "output_type": "execute_result"
    }
   ],
   "source": [
    "convertir([1, 0, 1, 0, 0, 1, 1])"
   ]
  },
  {
   "cell_type": "code",
   "execution_count": 13,
   "metadata": {},
   "outputs": [
    {
     "data": {
      "text/plain": [
       "130"
      ]
     },
     "execution_count": 13,
     "metadata": {},
     "output_type": "execute_result"
    }
   ],
   "source": [
    "convertir([1, 0, 0, 0, 0, 0, 1, 0])"
   ]
  },
  {
   "cell_type": "code",
   "execution_count": null,
   "metadata": {},
   "outputs": [],
   "source": [
    "def tri_insertion(L) :\n",
    "    n = len(L)\n",
    "\n",
    "    #cas du tableau vide\n",
    "    if L == [] :\n",
    "        return L\n",
    "\n",
    "    for j in range(1, n) :\n",
    "        e = L[j]\n",
    "        i = j\n",
    "        while i > 0 and L[i-1] > L[j] :\n",
    "            i = i - 1\n",
    "        if i != j :\n",
    "            for k in range(j, i, -1) :\n",
    "                L[k] = L[k-1]\n",
    "            L[i] = e\n",
    "    return L"
   ]
  }
 ],
 "metadata": {
  "interpreter": {
   "hash": "c9b53006eb56ed42d4fa5fa073fce4d2216f27269ec7b06e2249a959fdf3d018"
  },
  "kernelspec": {
   "display_name": "Python 3.9.4 64-bit",
   "language": "python",
   "name": "python3"
  },
  "language_info": {
   "codemirror_mode": {
    "name": "ipython",
    "version": 3
   },
   "file_extension": ".py",
   "mimetype": "text/x-python",
   "name": "python",
   "nbconvert_exporter": "python",
   "pygments_lexer": "ipython3",
   "version": "3.9.4"
  },
  "orig_nbformat": 4
 },
 "nbformat": 4,
 "nbformat_minor": 2
}
