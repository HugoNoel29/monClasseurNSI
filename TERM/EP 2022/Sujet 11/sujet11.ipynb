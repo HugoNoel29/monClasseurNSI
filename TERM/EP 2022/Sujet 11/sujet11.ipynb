{
 "cells": [
  {
   "cell_type": "markdown",
   "metadata": {},
   "source": [
    "<h1>Exercice 1"
   ]
  },
  {
   "cell_type": "code",
   "execution_count": 25,
   "metadata": {},
   "outputs": [],
   "source": [
    "def recherche(tab : list, n : int) -> int :\n",
    "\n",
    "    \"\"\"\n",
    "    Description : ...\n",
    "\n",
    "    Exemple : ...\n",
    "\n",
    "    Préconditions : ...\n",
    "\n",
    "    Postconditions : ...\n",
    "    \n",
    "    \"\"\"\n",
    "  \n",
    "    assert tab == sorted(tab), \"Le tableau doit être trié dans l'ordre croissant\"\n",
    "    assert type(tab) == list, \"Le tableau en entrée doit être de type list\"\n",
    "    assert type(n) == int, \"n doit être un nombre entier\"\n",
    "    assert len(tab) != 0, \"Le tableau ne doit pas être vide\"\n",
    "\n",
    "    indice_debut = 0\n",
    "    indice_fin = len(tab) - 1\n",
    "\n",
    "    while indice_fin > indice_debut :\n",
    "        indice_milieu = (indice_debut + indice_fin) // 2\n",
    "        if tab[indice_milieu] == n :\n",
    "            return indice_milieu\n",
    "        elif tab[indice_milieu] > n :\n",
    "            indice_fin = indice_milieu - 1\n",
    "        else :\n",
    "            indice_debut = indice_milieu + 1\n",
    "    return -1"
   ]
  },
  {
   "cell_type": "code",
   "execution_count": 26,
   "metadata": {},
   "outputs": [
    {
     "data": {
      "text/plain": [
       "3"
      ]
     },
     "execution_count": 26,
     "metadata": {},
     "output_type": "execute_result"
    }
   ],
   "source": [
    "recherche([2, 3, 4, 5, 6], 5)"
   ]
  },
  {
   "cell_type": "code",
   "execution_count": 27,
   "metadata": {},
   "outputs": [
    {
     "data": {
      "text/plain": [
       "-1"
      ]
     },
     "execution_count": 27,
     "metadata": {},
     "output_type": "execute_result"
    }
   ],
   "source": [
    "recherche([2, 3, 4, 6, 7], 5)"
   ]
  },
  {
   "cell_type": "markdown",
   "metadata": {},
   "source": [
    "<h1>Exercice 2"
   ]
  },
  {
   "cell_type": "code",
   "execution_count": 28,
   "metadata": {},
   "outputs": [],
   "source": [
    "ALPHABET='ABCDEFGHIJKLMNOPQRSTUVWXYZ'\n",
    "\n",
    "def position_alphabet(lettre):\n",
    "    return ALPHABET.find(lettre)\n",
    "\n",
    "def cesar(message, decalage):\n",
    "    resultat = ''\n",
    "    for lettre in message :\n",
    "        if lettre in ALPHABET :\n",
    "            indice = (position_alphabet(lettre) + decalage)%26\n",
    "            resultat = resultat + ALPHABET[indice]\n",
    "        else:\n",
    "            resultat += lettre\n",
    "    return resultat"
   ]
  },
  {
   "cell_type": "code",
   "execution_count": 29,
   "metadata": {},
   "outputs": [
    {
     "data": {
      "text/plain": [
       "'FSRNSYV E XSYW. ZMZI PE QEXMIVI RWM !'"
      ]
     },
     "execution_count": 29,
     "metadata": {},
     "output_type": "execute_result"
    }
   ],
   "source": [
    "cesar('BONJOUR A TOUS. VIVE LA MATIERE NSI !',4)"
   ]
  },
  {
   "cell_type": "code",
   "execution_count": 30,
   "metadata": {},
   "outputs": [
    {
     "data": {
      "text/plain": [
       "'BONJOUR A TOUS. VIVE LA MATIERE NSI !'"
      ]
     },
     "execution_count": 30,
     "metadata": {},
     "output_type": "execute_result"
    }
   ],
   "source": [
    "cesar('GTSOTZW F YTZX. ANAJ QF RFYNJWJ SXN !',-5)"
   ]
  }
 ],
 "metadata": {
  "interpreter": {
   "hash": "a4582a75a41fb78247f9e0d5ac5dcfbd0ffd857e3944b83ed2a96ac364b75fd7"
  },
  "kernelspec": {
   "display_name": "Python 3.9.1 64-bit",
   "language": "python",
   "name": "python3"
  },
  "language_info": {
   "codemirror_mode": {
    "name": "ipython",
    "version": 3
   },
   "file_extension": ".py",
   "mimetype": "text/x-python",
   "name": "python",
   "nbconvert_exporter": "python",
   "pygments_lexer": "ipython3",
   "version": "3.9.1"
  },
  "orig_nbformat": 4
 },
 "nbformat": 4,
 "nbformat_minor": 2
}
