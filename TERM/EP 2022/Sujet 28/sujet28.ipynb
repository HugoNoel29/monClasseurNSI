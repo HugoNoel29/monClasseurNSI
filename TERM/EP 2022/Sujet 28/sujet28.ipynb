{
 "cells": [
  {
   "cell_type": "code",
   "execution_count": null,
   "metadata": {},
   "outputs": [],
   "source": [
    "def moyenne(tab : float) -> float :\n",
    "    somme = 0\n",
    "    longeur = 0\n",
    "    for elt in tab :\n",
    "        somme += elt\n",
    "        longeur += 1\n",
    "    return somme / longeur"
   ]
  },
  {
   "cell_type": "code",
   "execution_count": null,
   "metadata": {},
   "outputs": [],
   "source": [
    "moyenne([1.0])"
   ]
  },
  {
   "cell_type": "code",
   "execution_count": null,
   "metadata": {},
   "outputs": [],
   "source": [
    "moyenne([1.0, 2.0, 4.0])"
   ]
  },
  {
   "cell_type": "code",
   "execution_count": null,
   "metadata": {},
   "outputs": [],
   "source": [
    "def dec_to_bin(a) :\n",
    "    bin_a = str(a % 2)\n",
    "    a = a//2\n",
    "    while a != 0 :\n",
    "        bin_a = str(a % 2) + bin_a\n",
    "        a = a // 2\n",
    "    return bin_a"
   ]
  },
  {
   "cell_type": "code",
   "execution_count": null,
   "metadata": {},
   "outputs": [],
   "source": [
    "dec_to_bin(83)"
   ]
  },
  {
   "cell_type": "code",
   "execution_count": null,
   "metadata": {},
   "outputs": [],
   "source": [
    "dec_to_bin(127)"
   ]
  }
 ],
 "metadata": {
  "language_info": {
   "name": "python"
  },
  "orig_nbformat": 4
 },
 "nbformat": 4,
 "nbformat_minor": 2
}
