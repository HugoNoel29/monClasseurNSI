{
 "cells": [
  {
   "cell_type": "markdown",
   "metadata": {},
   "source": [
    "# S.o.C. :\n",
    "\n",
    "<h3 class='fa fa-graduation-cap' style=\"color: MediumSeaGreen\"> A faire vous même n°1 :</h3>\n",
    "\n",
    "A partir de la lecture de la page [Composants intégrés d'un système sur puce](https://pixees.fr/informatiquelycee/n_site/nsi_term_archi_soc.html) proposée par David ROCHE :\n",
    "\n",
    "- **Donner** la signification de l'acronyme **SoC** :\n",
    "\n",
    "    System On a Ship\n",
    "    \n",
    "    \n",
    "- **Lister** les avantages et inconvénients d'un **SoC** :\n",
    "\n",
    "    - les SoC sont conçus pour consommer beaucoup moins d'énergie qu'un système classique (à puissance de calcul équivalente).\n",
    "\n",
    "    - Cette consommation réduite permet dans la plupart des cas de s'affranchir de la présence de système de refroidissement actif comme les ventilateurs. Un système équipé de SoC est donc silencieux.\n",
    "\n",
    "    - Vu les distances réduites entre, par exemple, le CPU et la mémoire, les données circulent beaucoup plus vites, ce qui permet d'améliorer les performances. En effet, dans les systèmes \"classiques\" les bus sont souvent des \"goulots d'étranglement\" en termes de performances à cause de la vitesse de circulation des données.\n",
    "        \n",
    "    \n",
    "- **Faire** des recherches sur le Soc BCM2711 qui équipe les Raspberry PI4, notez les principales caractéristiques de ce **SoC** :\n",
    "\n",
    "    Raspberry Pi Broadcom BCM2711 (4C Cortex-A72 ARM v8, 1.5 GHz, 64-bit SoC), 4 GB LPDDR4 RAM, WLAN, Bluetooth 5.0 BLE, 2 × USB 3.0, 2 × USB 2.0, 40-pin GPIO, 2 × micro HDMI, Micro SD\n",
    "    \n",
    "        \n",
    "- **Interroger** en lignes de commande différents appareils pour connaitre les caractéristiques de leur **SoC** :\n",
    "\n",
    "    PC : Processeur\tIntel(R) Core(TM) i7-4770 CPU @ 3.40GHz, 3401 MHz, 4 cœur(s), 8 processeur(s) logique(s)\n",
    "\n",
    "    \n",
    "    ...  \n",
    "    \n",
    "    ...  \n",
    "           \n",
    "    ... \n"
   ]
  },
  {
   "cell_type": "markdown",
   "metadata": {},
   "source": [
    "\n",
    "<h3 class='fa fa-graduation-cap' style=\"color: darkorange\"> A faire vous même n°2 :</h3>\n",
    "\n",
    "Si le CPU (Central Processing Unit) d’un SoC n'a qu'un seul coeur, il ne traite qu’une instruction à la fois, certains d’entre eux sont à plusieurs coeurs ce qui permet de les faire travailler séparément et de gagner en rapidité.\n",
    "\n",
    "Deux programmes peuvent utiliser deux coeurs différents, néanmoins ils doivent se partager les différentes ressources et mémoires du processeur.\n",
    "\n",
    "La rapidité d’un processeur est principalement lié à sa fréquence, au nombre de coeurs et à la taille de sa mémoire cache.\n",
    "\n",
    "La fréquence donne le nombre d’instructions pouvant être traitées en une seconde par un coeur.             \n",
    "        \n",
    "- **Calculer** combien d’opérations peut réaliser un processeur(single-core) à 3,2 GHZ en une seconde ?\n",
    "\n",
    "  3.2 * 10^^9 (GHZ) * 1 (nb core) = 3 200 000 000 opérations en 1 seconde\n",
    "    \n"
   ]
  },
  {
   "cell_type": "markdown",
   "metadata": {},
   "source": [
    "\n",
    "<h3 class='fa fa-graduation-cap' style=\"color: tomato\"> A faire vous même n°3 :</h3>\n",
    "\n",
    "Voici un programme Python qui donne la température toutes les n secondes du premier coeur d’un processeur :\n",
    "\n",
    "```python\n",
    "from time import sleep\n",
    "import psutil\n",
    "n=int(input(\"période\"))\n",
    "while True:\n",
    "    tempsinfos=psutil.sensors_temperatures()\n",
    "    # print(tempsinfos)\n",
    "    t=tempsinfos[\"coretemp\"][0].current\n",
    "    print(\"température du coeur 0 :\", t)\n",
    "    sleep(n)\n",
    "\n",
    "```\n",
    "La bibliothèque `psutil` donne accès à ces températures via la fonction `sensors.temperatures()` qui renvoie les données mesurées par les sondes sous forme d’un dictionnaire.\n",
    "\n",
    "La clé `\"coretemp\"` de ce dictionnaire contient les informations de températures pour le CPU sous forme d’un tableau. \n",
    "\n",
    "L’information pour chaque coeur est donnée sous la forme d’un n-uplet nommé qui contient, entre autre, un champ `current` donnant la température du coeur.\n",
    "\n",
    "- **Préciser** en quelle unité est donnée la température ?\n",
    "\n",
    "  ...\n",
    "    \n",
    "\n",
    "- **Écrire** un programme qui affiche la moyenne des températures des coeurs du CPU :"
   ]
  },
  {
   "cell_type": "code",
   "execution_count": 6,
   "metadata": {},
   "outputs": [
    {
     "ename": "AttributeError",
     "evalue": "module 'psutil' has no attribute 'sensors_temperatures'",
     "output_type": "error",
     "traceback": [
      "\u001b[1;31m---------------------------------------------------------------------------\u001b[0m",
      "\u001b[1;31mAttributeError\u001b[0m                            Traceback (most recent call last)",
      "\u001b[1;32mC:\\Users\\UTILIS~1\\AppData\\Local\\Temp/ipykernel_5692/475790407.py\u001b[0m in \u001b[0;36m<module>\u001b[1;34m\u001b[0m\n\u001b[0;32m      5\u001b[0m \u001b[0mn\u001b[0m\u001b[1;33m=\u001b[0m\u001b[0mint\u001b[0m\u001b[1;33m(\u001b[0m\u001b[0minput\u001b[0m\u001b[1;33m(\u001b[0m\u001b[1;34m\"période :\"\u001b[0m\u001b[1;33m)\u001b[0m\u001b[1;33m)\u001b[0m\u001b[1;33m\u001b[0m\u001b[1;33m\u001b[0m\u001b[0m\n\u001b[0;32m      6\u001b[0m \u001b[1;32mwhile\u001b[0m \u001b[1;32mTrue\u001b[0m\u001b[1;33m:\u001b[0m\u001b[1;33m\u001b[0m\u001b[1;33m\u001b[0m\u001b[0m\n\u001b[1;32m----> 7\u001b[1;33m     \u001b[0mtempsinfos\u001b[0m\u001b[1;33m=\u001b[0m\u001b[0mpsutil\u001b[0m\u001b[1;33m.\u001b[0m\u001b[0msensors_temperatures\u001b[0m\u001b[1;33m(\u001b[0m\u001b[1;33m)\u001b[0m\u001b[1;33m\u001b[0m\u001b[1;33m\u001b[0m\u001b[0m\n\u001b[0m\u001b[0;32m      8\u001b[0m     \u001b[1;31m# print(tempsinfos)\u001b[0m\u001b[1;33m\u001b[0m\u001b[1;33m\u001b[0m\u001b[1;33m\u001b[0m\u001b[0m\n\u001b[0;32m      9\u001b[0m     \u001b[0mt\u001b[0m\u001b[1;33m=\u001b[0m\u001b[0mtempsinfos\u001b[0m\u001b[1;33m[\u001b[0m\u001b[1;34m\"coretemp\"\u001b[0m\u001b[1;33m]\u001b[0m\u001b[1;33m[\u001b[0m\u001b[1;36m0\u001b[0m\u001b[1;33m]\u001b[0m\u001b[1;33m.\u001b[0m\u001b[0mcurrent\u001b[0m\u001b[1;33m\u001b[0m\u001b[1;33m\u001b[0m\u001b[0m\n",
      "\u001b[1;31mAttributeError\u001b[0m: module 'psutil' has no attribute 'sensors_temperatures'"
     ]
    }
   ],
   "source": [
    "# Votre programme\n",
    "\n",
    "from time import sleep\n",
    "import psutil\n",
    "n=int(input(\"période :\"))\n",
    "while True:\n",
    "    tempsinfos=psutil.sensors_temperatures()\n",
    "    # print(tempsinfos)\n",
    "    t=tempsinfos[\"coretemp\"][0].current\n",
    "    print(\"température du coeur 0 :\", t)\n",
    "    sleep(n)"
   ]
  },
  {
   "cell_type": "code",
   "execution_count": 7,
   "metadata": {},
   "outputs": [],
   "source": [
    "from time import sleep\n",
    "import psutil"
   ]
  },
  {
   "cell_type": "code",
   "execution_count": 8,
   "metadata": {},
   "outputs": [
    {
     "ename": "AttributeError",
     "evalue": "module 'psutil' has no attribute 'sensors_temperatures'",
     "output_type": "error",
     "traceback": [
      "\u001b[1;31m---------------------------------------------------------------------------\u001b[0m",
      "\u001b[1;31mAttributeError\u001b[0m                            Traceback (most recent call last)",
      "\u001b[1;32mC:\\Users\\UTILIS~1\\AppData\\Local\\Temp/ipykernel_5692/3237335682.py\u001b[0m in \u001b[0;36m<module>\u001b[1;34m\u001b[0m\n\u001b[1;32m----> 1\u001b[1;33m \u001b[0mtempsinfos\u001b[0m\u001b[1;33m=\u001b[0m\u001b[0mpsutil\u001b[0m\u001b[1;33m.\u001b[0m\u001b[0msensors_temperatures\u001b[0m\u001b[1;33m(\u001b[0m\u001b[1;33m)\u001b[0m\u001b[1;33m\u001b[0m\u001b[1;33m\u001b[0m\u001b[0m\n\u001b[0m",
      "\u001b[1;31mAttributeError\u001b[0m: module 'psutil' has no attribute 'sensors_temperatures'"
     ]
    }
   ],
   "source": [
    "tempsinfos=psutil."
   ]
  },
  {
   "cell_type": "markdown",
   "metadata": {},
   "source": [
    "- **Expérimenter** votre programme sur différentes machines...\n",
    "\n",
    "\n",
    "<h3 class='fa fa-graduation-cap' style=\"color: MediumSeaGreen\"> A faire vous même n°4 :</h3>\n",
    "\n",
    "- **Trouver**, **installer** et **explorer** une application qui vous informe sur l’état du CPU de votre smartphone...\n",
    "\n",
    "# Processus :\n",
    "\n",
    "<h3 class='fa fa-graduation-cap' style=\"color: MediumSeaGreen\"> A faire vous même n°5 :</h3>\n",
    "\n",
    "- **Regarder** la vidéo [Le système d'exploitation en trois idées clé](https://youtu.be/SpCP2oaCx8A)"
   ]
  },
  {
   "cell_type": "code",
   "execution_count": 1,
   "metadata": {},
   "outputs": [
    {
     "data": {
      "text/html": [
       "<center>\n",
       "    <iframe width=\"560\" height=\"315\" src=\"https://www.youtube-nocookie.com/embed/SpCP2oaCx8A\" frameborder=\"0\" allow=\"accelerometer; autoplay; clipboard-write; encrypted-media; gyroscope; picture-in-picture\" allowfullscreen></iframe>\n",
       "</center>\n"
      ],
      "text/plain": [
       "<IPython.core.display.HTML object>"
      ]
     },
     "metadata": {},
     "output_type": "display_data"
    }
   ],
   "source": [
    "%%HTML\n",
    "<center>\n",
    "    <iframe width=\"560\" height=\"315\" src=\"https://www.youtube-nocookie.com/embed/SpCP2oaCx8A\" frameborder=\"0\" allow=\"accelerometer; autoplay; clipboard-write; encrypted-media; gyroscope; picture-in-picture\" allowfullscreen></iframe>\n",
    "</center>"
   ]
  },
  {
   "cell_type": "markdown",
   "metadata": {},
   "source": [
    "<h3 class='fa fa-graduation-cap' style=\"color: MediumSeaGreen\"> A faire vous même n°6 :</h3>\n",
    "\n",
    "- **Lire** et **faire** les activités de la page [Les processus](https://pixees.fr/informatiquelycee/n_site/nsi_term_archi_proc.html) proposée par David ROCHE...\n",
    "\n"
   ]
  },
  {
   "cell_type": "markdown",
   "metadata": {},
   "source": [
    "A faire vous meme numéro 1 :\n",
    "\n",
    "getty a un PID de 2 et un PPID de 1"
   ]
  },
  {
   "cell_type": "markdown",
   "metadata": {},
   "source": [
    "A fvm n 2 :\n",
    "\n",
    "PID 32 044\n",
    "PPID 31 944\n"
   ]
  },
  {
   "cell_type": "markdown",
   "metadata": {},
   "source": [
    "AFVM n 3 :\n",
    "\n",
    "commande top"
   ]
  },
  {
   "cell_type": "markdown",
   "metadata": {},
   "source": [
    "afvm n 4 :\n",
    "\n",
    "supprimer page navigateur"
   ]
  },
  {
   "cell_type": "markdown",
   "metadata": {},
   "source": [
    "A FVM N 5 :\n",
    "\n"
   ]
  },
  {
   "cell_type": "markdown",
   "metadata": {},
   "source": [
    "\n",
    "<h3 class='fa fa-graduation-cap' style=\"color: MediumSeaGreen\"> A faire vous même n°7 :</h3>\n",
    "\n",
    "On considère 3 Processus P1, P2 et P3 et 3 ressources R1, R2 et R3 tels que:\n",
    "- P1 : demande R1, demande R2, libère R1, libère R2 ;\n",
    "- P2 : demande R2, demande R3, libère R2, libère R3 ;\n",
    "- P3 : demande R3, demande R1, libère R3, libère R1 ;\n",
    "\n",
    "Si les processus sont exécutés l’un après l’autre, d’abord P1 puis P2 et enfin P3 y-a-t-il interblocage?\n",
    "\n",
    "    ...\n",
    "    \n",
    "    ...  \n",
    "    \n",
    "\n",
    "Décrire une exécution des 3 processus qui conduit à une situation d’interblocage :\n",
    "\n",
    "    ...\n",
    "    \n",
    "    ...  \n",
    "    \n",
    "    ...  \n",
    "           \n",
    "    ... "
   ]
  },
  {
   "cell_type": "markdown",
   "metadata": {},
   "source": [
    "****\n",
    "## Références aux programmes :\n",
    "\n",
    "### Architectures matérielles et systèmes d’exploitation\n",
    "\n",
    "| Contenus | Capacités attendues | Commentaires |\n",
    "| ------ | ------ | ------ |\n",
    "|Composants intégrés d’un système sur puce.|Identifier les principaux composants sur un schéma de circuit et les avantages de leur intégration en termes de vitesse et de consommation.|Le circuit d’un téléphone peut être pris comme un exemple : microprocesseurs, mémoires locales, interfaces radio et filaires, gestion d’énergie, contrôleurs vidéo, accélérateur graphique, réseaux sur puce, etc.|\n",
    "|Gestion des processus et des ressources par un système d’exploitation.|Décrire la création d’un processus, l’ordonnancement de plusieurs processus par le système.<br/>Mettre en évidence le risque de l’interblocage (*deadlock*).|À l’aide d’outils standard, il s’agit d’observer les processus actifs ou en attente sur une machine.<br/>Une présentation débranchée de l’interblocage peut être proposée.|\n",
    "\n",
    "****"
   ]
  },
  {
   "cell_type": "markdown",
   "metadata": {},
   "source": [
    "<a rel=\"license\" href=\"http://creativecommons.org/licenses/by-sa/4.0/\"><img alt=\"Licence Creative Commons\" style=\"border-width:0\" src=\"https://i.creativecommons.org/l/by-sa/4.0/88x31.png\" /></a><br />Ce document, basé sur les travaux de David ROCHE et de Stephan VAN ZUIJLEN, est mis à disposition selon les termes de la <a rel=\"license\" href=\"http://creativecommons.org/licenses/by-sa/4.0/\">Licence Creative Commons Attribution -  Partage dans les Mêmes Conditions 4.0 International</a>.\n",
    "\n",
    "Pour toute question, suggestion ou commentaire : <a href=\"mailto:eric.madec@ecmorlaix.fr\">eric.madec@ecmorlaix.fr</a>"
   ]
  },
  {
   "cell_type": "code",
   "execution_count": null,
   "metadata": {},
   "outputs": [],
   "source": []
  }
 ],
 "metadata": {
  "kernelspec": {
   "display_name": "Python 3",
   "language": "python",
   "name": "python3"
  },
  "language_info": {
   "codemirror_mode": {
    "name": "ipython",
    "version": 3
   },
   "file_extension": ".py",
   "mimetype": "text/x-python",
   "name": "python",
   "nbconvert_exporter": "python",
   "pygments_lexer": "ipython3",
   "version": "3.7.3"
  },
  "toc": {
   "base_numbering": 1,
   "nav_menu": {},
   "number_sections": true,
   "sideBar": true,
   "skip_h1_title": false,
   "title_cell": "Table of Contents",
   "title_sidebar": "Contents",
   "toc_cell": false,
   "toc_position": {},
   "toc_section_display": true,
   "toc_window_display": false
  },
  "varInspector": {
   "cols": {
    "lenName": 16,
    "lenType": 16,
    "lenVar": 40
   },
   "kernels_config": {
    "python": {
     "delete_cmd_postfix": "",
     "delete_cmd_prefix": "del ",
     "library": "var_list.py",
     "varRefreshCmd": "print(var_dic_list())"
    },
    "r": {
     "delete_cmd_postfix": ") ",
     "delete_cmd_prefix": "rm(",
     "library": "var_list.r",
     "varRefreshCmd": "cat(var_dic_list()) "
    }
   },
   "types_to_exclude": [
    "module",
    "function",
    "builtin_function_or_method",
    "instance",
    "_Feature"
   ],
   "window_display": false
  }
 },
 "nbformat": 4,
 "nbformat_minor": 2
}
