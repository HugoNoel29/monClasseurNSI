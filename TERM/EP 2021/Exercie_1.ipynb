{
 "cells": [
  {
   "cell_type": "code",
   "execution_count": 5,
   "metadata": {},
   "outputs": [],
   "source": [
    "def recherche(tableau : list, n : int) :\n",
    "    elt = len(tableau)\n",
    "    for i in range(len(tableau)) :\n",
    "        if tableau[i] == n :\n",
    "            elt = i\n",
    "    return elt"
   ]
  },
  {
   "cell_type": "code",
   "execution_count": 6,
   "metadata": {},
   "outputs": [
    {
     "data": {
      "text/plain": [
       "2"
      ]
     },
     "execution_count": 6,
     "metadata": {},
     "output_type": "execute_result"
    }
   ],
   "source": [
    "recherche([5, 3],1)"
   ]
  },
  {
   "cell_type": "code",
   "execution_count": 7,
   "metadata": {},
   "outputs": [
    {
     "data": {
      "text/plain": [
       "0"
      ]
     },
     "execution_count": 7,
     "metadata": {},
     "output_type": "execute_result"
    }
   ],
   "source": [
    "recherche([2,4],2)"
   ]
  },
  {
   "cell_type": "code",
   "execution_count": 8,
   "metadata": {},
   "outputs": [
    {
     "data": {
      "text/plain": [
       "3"
      ]
     },
     "execution_count": 8,
     "metadata": {},
     "output_type": "execute_result"
    }
   ],
   "source": [
    "recherche([2,3,5,2,4],2)"
   ]
  },
  {
   "cell_type": "code",
   "execution_count": 11,
   "metadata": {},
   "outputs": [],
   "source": [
    "from math import sqrt     \n",
    "\n",
    "def distance(point1, point2):\n",
    "    \"\"\" Calcule et renvoie la distance entre deux points. \"\"\"\n",
    "    assert len(point1) and len(point2) == 2, \"l y a trop ou pas assez de coordonnéés pour les points, vérifiez ce que vous assez écrit\"\n",
    "    return sqrt((point1[0] - point2[0])**2 + (point1[1] - point2[1])**2)\n",
    "\n",
    "assert distance((1, 0), (5, 3)) == 5.0, \"erreur de calcul\""
   ]
  },
  {
   "cell_type": "code",
   "execution_count": 13,
   "metadata": {},
   "outputs": [],
   "source": [
    "def plus_courte_distance(tab, depart):\n",
    "    \"\"\" Renvoie le point du tableau tab se trouvant à la plus courte distance du point depart.\"\"\"\n",
    "    point = tab[0]\n",
    "    min_dist = distance(tab[0], depart)\n",
    "    for i in range (1, len(tab)):\n",
    "        if distance(tab[i], depart) < min_dist:\n",
    "            point = tab[i]\n",
    "            min_dist = distance(tab[i], depart)\n",
    "    return point\n",
    "\n",
    "assert plus_courte_distance([(7, 9), (2, 5), (5, 2)], (0, 0)) == (2, 5), \"erreur\"\n"
   ]
  }
 ],
 "metadata": {
  "interpreter": {
   "hash": "c535f766096f575e5993344ecf38043c94305985d3bbdfcb24d1ab2af40cf48e"
  },
  "kernelspec": {
   "display_name": "Python 3.9.4 64-bit",
   "language": "python",
   "name": "python3"
  },
  "language_info": {
   "codemirror_mode": {
    "name": "ipython",
    "version": 3
   },
   "file_extension": ".py",
   "mimetype": "text/x-python",
   "name": "python",
   "nbconvert_exporter": "python",
   "pygments_lexer": "ipython3",
   "version": "3.9.4"
  },
  "orig_nbformat": 4
 },
 "nbformat": 4,
 "nbformat_minor": 2
}
