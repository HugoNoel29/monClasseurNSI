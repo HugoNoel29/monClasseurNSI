{
 "cells": [
  {
   "cell_type": "markdown",
   "metadata": {},
   "source": [
    "<h1><center><span style=\"color:#369;background:#fdf;padding: 10px 30px 10px 30px;border: 3px solid #369;border-radius:7px;\">TP implémentation des graphes</span></center></h1>"
   ]
  },
  {
   "cell_type": "markdown",
   "metadata": {},
   "source": [
    "## Objectif\n",
    "Nous avons utilisé les classes Graph et DiGraph déjà toutes faites de la bibliothèque networkx. L'objectif de ce TP est de créer nous même ces classes.\n",
    "\n",
    "Il y a plusieurs façons de les implémenter. Nous allons en voir deux :\n",
    "- avec la matrice d'adjacence\n",
    "- avec le dictionnaire d'adjacence\n",
    "\n",
    "Nous utiliserons ici le module `Graphviz` pour l'affichage des graphes :"
   ]
  },
  {
   "cell_type": "code",
   "execution_count": 3,
   "metadata": {},
   "outputs": [],
   "source": [
    "# Import de graphviz.\n",
    "from graphviz import Graph"
   ]
  },
  {
   "cell_type": "markdown",
   "metadata": {},
   "source": [
    "> Si [`graphviz`](https://www.graphviz.org/) n'est pas disponible, il faut au préalable,\n",
    "> - télécharger la bibliothèque système adaptée à votre OS : [Windows: graphviz-3.0.0 (64-bit) EXE installer](https://www.graphviz.org/download/#windows)\n",
    "> - puis l'installer en choisissant `Add Graphviz to the system PATH for all users`\n",
    "> - enfin, installer sa bibliothèque Python dans un terminal avec la commande `pip install graphviz` "
   ]
  },
  {
   "cell_type": "markdown",
   "metadata": {},
   "source": [
    "## Implémentation d'un graphe non orienté sous forme de matrice d'adjacence"
   ]
  },
  {
   "cell_type": "markdown",
   "metadata": {},
   "source": [
    "<div class=\"alert alert-warning\" role=\"alert\">\n",
    "    \n",
    "### Exercice 1\n",
    "On considère la classe `Graphe` ci-dessous qu'il faudra **compléter et tester au fur et à mesure**.\n",
    "    \n",
    "On utilisera une matrice d'adjacence pour stocker les arêtes entre les différents sommets.  \n",
    "La taille de la matrice sera spécifiée lors de la création du graphe via le paramètre `n`  \n",
    "Les sommets sont accessibles par leur indice (de 0 à n-1)\n",
    "    \n",
    "Attention, comme le graphe n'est pas orienté, si A et B sont adjacents, il faudra faire une arête de A vers B et aussi de B vers A.\n",
    "</div>"
   ]
  },
  {
   "cell_type": "code",
   "execution_count": 4,
   "metadata": {},
   "outputs": [
    {
     "data": {
      "text/plain": [
       "[[False, False, False, False, False],\n",
       " [False, False, False, False, False],\n",
       " [False, False, False, False, False],\n",
       " [False, False, False, False, False],\n",
       " [False, False, False, False, False]]"
      ]
     },
     "execution_count": 4,
     "metadata": {},
     "output_type": "execute_result"
    }
   ],
   "source": [
    "n=5\n",
    "l = [[False]*n for _ in range(n)] \n",
    "l"
   ]
  },
  {
   "cell_type": "code",
   "execution_count": 5,
   "metadata": {},
   "outputs": [
    {
     "data": {
      "text/plain": [
       "5"
      ]
     },
     "execution_count": 5,
     "metadata": {},
     "output_type": "execute_result"
    }
   ],
   "source": [
    "l[0][4] = True\n",
    "l[0][3] = True\n",
    "l[1][2] = True\n",
    "l[2][4] = True\n",
    "l[3][1] = True\n",
    "l[1][3] = True\n",
    "\n",
    "nb_aretes = 0\n",
    "for k in range(n) :\n",
    "    for v in range(k, len(l[k])) :\n",
    "        if l[k][v] :\n",
    "             nb_aretes += 1\n",
    "nb_aretes"
   ]
  },
  {
   "cell_type": "code",
   "execution_count": 6,
   "metadata": {},
   "outputs": [],
   "source": [
    "class Graphe:    \n",
    "    def __init__(self,n):\n",
    "        ''' Le constructeur de la classe dont les attributs d'instance sont n et adj\n",
    "            Exemple: G=Graphe(5) instancie un graphe d'ordre 5 de sommets 0,1,2,3,4 sans aucune arête'''\n",
    "        self.n = n \n",
    "        self.adj = [[False]*n for _ in range(n)] # liste d'adjacence\n",
    "        \n",
    "    def ajoute_arete(self,i,j):\n",
    "        '''Ajoute une arête entre i et j et entre j et i'''\n",
    "        self.adj[i][j] = True\n",
    "        self.adj[j][i] = True\n",
    "        \n",
    "    def arete(self,i,j):\n",
    "        '''Renvoie True s'il y a une arête entre i et j et False sinon'''\n",
    "        return self.adj[i][j]\n",
    "    \n",
    "    def voisins(self,i):\n",
    "        '''Renvoie la liste des voisins de i'''\n",
    "        liste_arete = []\n",
    "        for k in range(len(self.adj[i])) :\n",
    "            if self.adj[i][k] :\n",
    "                liste_arete.append(k)\n",
    "        return liste_arete\n",
    "    \n",
    "    def degre(self,i):\n",
    "        '''Renvoie le degré du sommet i''' #Nombre de liens\n",
    "        degre = 0\n",
    "        for k in range(len(self.adj[i])) :\n",
    "            if self.adj[i][k] :\n",
    "                degre += 1\n",
    "        return degre\n",
    "        \n",
    "    \n",
    "    def nb_aretes(self):\n",
    "        '''Renvoie le nb d'arêtes du graphe'''\n",
    "        nb_aretes = 0\n",
    "        for k in range(self.n) :\n",
    "            for l in range(k, len(self.adj[k])) :\n",
    "                if self.adj[k][l] :\n",
    "                    nb_aretes += 1\n",
    "        return nb_aretes\n",
    "\n",
    "    \n",
    "    def affiche(self): \n",
    "        \"Affichage du graphe en utilisant le module graphviz\"\n",
    "        dot = Graph('G')\n",
    "        for i in range(self.n):\n",
    "            for j in range(self.n): \n",
    "                # Condition pour éviter les doubles arêtes\n",
    "                if self.adj[i][j] and '{} -- {}'.format(j,i) not in dot.source:\n",
    "                    # dot.edge n'accepte que le type str\n",
    "                    dot.edge(str(i),str(j))        \n",
    "        return dot"
   ]
  },
  {
   "cell_type": "markdown",
   "metadata": {},
   "source": [
    "#### Question 1\n",
    "Compléter la méthode `ajoute_arete` ci-dessus puis la tester avec l'exemple suivant"
   ]
  },
  {
   "cell_type": "code",
   "execution_count": 7,
   "metadata": {},
   "outputs": [
    {
     "data": {
      "image/svg+xml": "<?xml version=\"1.0\" encoding=\"UTF-8\" standalone=\"no\"?>\n<!DOCTYPE svg PUBLIC \"-//W3C//DTD SVG 1.1//EN\"\n \"http://www.w3.org/Graphics/SVG/1.1/DTD/svg11.dtd\">\n<!-- Generated by graphviz version 3.0.0 (20220226.1711)\n -->\n<!-- Title: G Pages: 1 -->\n<svg width=\"134pt\" height=\"188pt\"\n viewBox=\"0.00 0.00 134.00 188.00\" xmlns=\"http://www.w3.org/2000/svg\" xmlns:xlink=\"http://www.w3.org/1999/xlink\">\n<g id=\"graph0\" class=\"graph\" transform=\"scale(1 1) rotate(0) translate(4 184)\">\n<title>G</title>\n<polygon fill=\"white\" stroke=\"transparent\" points=\"-4,4 -4,-184 130,-184 130,4 -4,4\"/>\n<!-- 0 -->\n<g id=\"node1\" class=\"node\">\n<title>0</title>\n<ellipse fill=\"none\" stroke=\"black\" cx=\"54\" cy=\"-162\" rx=\"27\" ry=\"18\"/>\n<text text-anchor=\"middle\" x=\"54\" y=\"-158.3\" font-family=\"Times New Roman,serif\" font-size=\"14.00\">0</text>\n</g>\n<!-- 1 -->\n<g id=\"node2\" class=\"node\">\n<title>1</title>\n<ellipse fill=\"none\" stroke=\"black\" cx=\"82\" cy=\"-90\" rx=\"27\" ry=\"18\"/>\n<text text-anchor=\"middle\" x=\"82\" y=\"-86.3\" font-family=\"Times New Roman,serif\" font-size=\"14.00\">1</text>\n</g>\n<!-- 0&#45;&#45;1 -->\n<g id=\"edge1\" class=\"edge\">\n<title>0&#45;&#45;1</title>\n<path fill=\"none\" stroke=\"black\" d=\"M60.64,-144.41C65.1,-133.25 70.96,-118.6 75.41,-107.47\"/>\n</g>\n<!-- 3 -->\n<g id=\"node3\" class=\"node\">\n<title>3</title>\n<ellipse fill=\"none\" stroke=\"black\" cx=\"27\" cy=\"-18\" rx=\"27\" ry=\"18\"/>\n<text text-anchor=\"middle\" x=\"27\" y=\"-14.3\" font-family=\"Times New Roman,serif\" font-size=\"14.00\">3</text>\n</g>\n<!-- 0&#45;&#45;3 -->\n<g id=\"edge2\" class=\"edge\">\n<title>0&#45;&#45;3</title>\n<path fill=\"none\" stroke=\"black\" d=\"M50.74,-143.87C45.55,-116.58 35.47,-63.52 30.27,-36.19\"/>\n</g>\n<!-- 1&#45;&#45;3 -->\n<g id=\"edge4\" class=\"edge\">\n<title>1&#45;&#45;3</title>\n<path fill=\"none\" stroke=\"black\" d=\"M70.07,-73.81C60.84,-62.07 48.13,-45.89 38.91,-34.16\"/>\n</g>\n<!-- 2 -->\n<g id=\"node4\" class=\"node\">\n<title>2</title>\n<ellipse fill=\"none\" stroke=\"black\" cx=\"99\" cy=\"-18\" rx=\"27\" ry=\"18\"/>\n<text text-anchor=\"middle\" x=\"99\" y=\"-14.3\" font-family=\"Times New Roman,serif\" font-size=\"14.00\">2</text>\n</g>\n<!-- 1&#45;&#45;2 -->\n<g id=\"edge3\" class=\"edge\">\n<title>1&#45;&#45;2</title>\n<path fill=\"none\" stroke=\"black\" d=\"M86.12,-72.05C88.75,-61.21 92.16,-47.18 94.8,-36.28\"/>\n</g>\n</g>\n</svg>\n",
      "text/plain": [
       "<graphviz.graphs.Graph at 0x24397e49b50>"
      ]
     },
     "execution_count": 7,
     "metadata": {},
     "output_type": "execute_result"
    }
   ],
   "source": [
    "# Exemple\n",
    "G = Graphe(4)\n",
    "G.ajoute_arete(0,1)\n",
    "G.ajoute_arete(0,3)\n",
    "G.ajoute_arete(1,2)\n",
    "G.ajoute_arete(3,1)\n",
    "G.affiche()"
   ]
  },
  {
   "cell_type": "markdown",
   "metadata": {},
   "source": [
    "#### Question 2\n",
    "Compléter la méthode `arete` de la classe Graphe plus haut puis la tester"
   ]
  },
  {
   "cell_type": "code",
   "execution_count": 8,
   "metadata": {},
   "outputs": [
    {
     "data": {
      "image/svg+xml": "<?xml version=\"1.0\" encoding=\"UTF-8\" standalone=\"no\"?>\n<!DOCTYPE svg PUBLIC \"-//W3C//DTD SVG 1.1//EN\"\n \"http://www.w3.org/Graphics/SVG/1.1/DTD/svg11.dtd\">\n<!-- Generated by graphviz version 3.0.0 (20220226.1711)\n -->\n<!-- Title: G Pages: 1 -->\n<svg width=\"189pt\" height=\"260pt\"\n viewBox=\"0.00 0.00 189.00 260.00\" xmlns=\"http://www.w3.org/2000/svg\" xmlns:xlink=\"http://www.w3.org/1999/xlink\">\n<g id=\"graph0\" class=\"graph\" transform=\"scale(1 1) rotate(0) translate(4 256)\">\n<title>G</title>\n<polygon fill=\"white\" stroke=\"transparent\" points=\"-4,4 -4,-256 185,-256 185,4 -4,4\"/>\n<!-- 0 -->\n<g id=\"node1\" class=\"node\">\n<title>0</title>\n<ellipse fill=\"none\" stroke=\"black\" cx=\"27\" cy=\"-162\" rx=\"27\" ry=\"18\"/>\n<text text-anchor=\"middle\" x=\"27\" y=\"-158.3\" font-family=\"Times New Roman,serif\" font-size=\"14.00\">0</text>\n</g>\n<!-- 4 -->\n<g id=\"node2\" class=\"node\">\n<title>4</title>\n<ellipse fill=\"none\" stroke=\"black\" cx=\"90\" cy=\"-18\" rx=\"27\" ry=\"18\"/>\n<text text-anchor=\"middle\" x=\"90\" y=\"-14.3\" font-family=\"Times New Roman,serif\" font-size=\"14.00\">4</text>\n</g>\n<!-- 0&#45;&#45;4 -->\n<g id=\"edge1\" class=\"edge\">\n<title>0&#45;&#45;4</title>\n<path fill=\"none\" stroke=\"black\" d=\"M28.22,-143.81C30.07,-125.28 34.69,-95.31 46,-72 53.1,-57.37 65.07,-43.32 74.74,-33.37\"/>\n</g>\n<!-- 5 -->\n<g id=\"node3\" class=\"node\">\n<title>5</title>\n<ellipse fill=\"none\" stroke=\"black\" cx=\"82\" cy=\"-90\" rx=\"27\" ry=\"18\"/>\n<text text-anchor=\"middle\" x=\"82\" y=\"-86.3\" font-family=\"Times New Roman,serif\" font-size=\"14.00\">5</text>\n</g>\n<!-- 0&#45;&#45;5 -->\n<g id=\"edge2\" class=\"edge\">\n<title>0&#45;&#45;5</title>\n<path fill=\"none\" stroke=\"black\" d=\"M38.93,-145.81C48.16,-134.07 60.87,-117.89 70.09,-106.16\"/>\n</g>\n<!-- 1 -->\n<g id=\"node4\" class=\"node\">\n<title>1</title>\n<ellipse fill=\"none\" stroke=\"black\" cx=\"109\" cy=\"-234\" rx=\"27\" ry=\"18\"/>\n<text text-anchor=\"middle\" x=\"109\" y=\"-230.3\" font-family=\"Times New Roman,serif\" font-size=\"14.00\">1</text>\n</g>\n<!-- 1&#45;&#45;5 -->\n<g id=\"edge4\" class=\"edge\">\n<title>1&#45;&#45;5</title>\n<path fill=\"none\" stroke=\"black\" d=\"M105.74,-215.87C100.55,-188.58 90.47,-135.52 85.27,-108.19\"/>\n</g>\n<!-- 2 -->\n<g id=\"node5\" class=\"node\">\n<title>2</title>\n<ellipse fill=\"none\" stroke=\"black\" cx=\"137\" cy=\"-162\" rx=\"27\" ry=\"18\"/>\n<text text-anchor=\"middle\" x=\"137\" y=\"-158.3\" font-family=\"Times New Roman,serif\" font-size=\"14.00\">2</text>\n</g>\n<!-- 1&#45;&#45;2 -->\n<g id=\"edge3\" class=\"edge\">\n<title>1&#45;&#45;2</title>\n<path fill=\"none\" stroke=\"black\" d=\"M115.64,-216.41C120.1,-205.25 125.96,-190.6 130.41,-179.47\"/>\n</g>\n<!-- 2&#45;&#45;5 -->\n<g id=\"edge6\" class=\"edge\">\n<title>2&#45;&#45;5</title>\n<path fill=\"none\" stroke=\"black\" d=\"M125.07,-145.81C115.84,-134.07 103.13,-117.89 93.91,-106.16\"/>\n</g>\n<!-- 3 -->\n<g id=\"node6\" class=\"node\">\n<title>3</title>\n<ellipse fill=\"none\" stroke=\"black\" cx=\"154\" cy=\"-90\" rx=\"27\" ry=\"18\"/>\n<text text-anchor=\"middle\" x=\"154\" y=\"-86.3\" font-family=\"Times New Roman,serif\" font-size=\"14.00\">3</text>\n</g>\n<!-- 2&#45;&#45;3 -->\n<g id=\"edge5\" class=\"edge\">\n<title>2&#45;&#45;3</title>\n<path fill=\"none\" stroke=\"black\" d=\"M141.12,-144.05C143.75,-133.21 147.16,-119.18 149.8,-108.28\"/>\n</g>\n<!-- 3&#45;&#45;4 -->\n<g id=\"edge7\" class=\"edge\">\n<title>3&#45;&#45;4</title>\n<path fill=\"none\" stroke=\"black\" d=\"M140.43,-74.15C129.57,-62.28 114.41,-45.7 103.55,-33.82\"/>\n</g>\n</g>\n</svg>\n",
      "text/plain": [
       "<graphviz.graphs.Graph at 0x24397e49d00>"
      ]
     },
     "execution_count": 8,
     "metadata": {},
     "output_type": "execute_result"
    }
   ],
   "source": [
    "# Jeu de tests de la méthode arete (pensez à tester l'arête entre i et j et aussi entre j et i)\n",
    "g2 = Graphe(6)\n",
    "g2.ajoute_arete(0,5)\n",
    "g2.ajoute_arete(0,4)\n",
    "g2.ajoute_arete(1,5)\n",
    "g2.ajoute_arete(2,3)\n",
    "g2.ajoute_arete(2,5)\n",
    "g2.ajoute_arete(1,2)\n",
    "g2.ajoute_arete(3,4)\n",
    "g2.affiche()"
   ]
  },
  {
   "cell_type": "code",
   "execution_count": 7,
   "metadata": {},
   "outputs": [
    {
     "data": {
      "text/plain": [
       "False"
      ]
     },
     "execution_count": 7,
     "metadata": {},
     "output_type": "execute_result"
    }
   ],
   "source": [
    "g2.arete(4,5)"
   ]
  },
  {
   "cell_type": "code",
   "execution_count": 8,
   "metadata": {},
   "outputs": [
    {
     "data": {
      "text/plain": [
       "True"
      ]
     },
     "execution_count": 8,
     "metadata": {},
     "output_type": "execute_result"
    }
   ],
   "source": [
    "g2.arete(3,4)"
   ]
  },
  {
   "cell_type": "markdown",
   "metadata": {},
   "source": [
    "#### Question 3\n",
    "Compléter la méthode `voisins` de la classe Graphe plus haut puis la tester"
   ]
  },
  {
   "cell_type": "code",
   "execution_count": 36,
   "metadata": {},
   "outputs": [
    {
     "data": {
      "image/svg+xml": "<?xml version=\"1.0\" encoding=\"UTF-8\" standalone=\"no\"?>\n<!DOCTYPE svg PUBLIC \"-//W3C//DTD SVG 1.1//EN\"\n \"http://www.w3.org/Graphics/SVG/1.1/DTD/svg11.dtd\">\n<!-- Generated by graphviz version 3.0.0 (20220226.1711)\n -->\n<!-- Title: G Pages: 1 -->\n<svg width=\"208pt\" height=\"188pt\"\n viewBox=\"0.00 0.00 208.00 188.00\" xmlns=\"http://www.w3.org/2000/svg\" xmlns:xlink=\"http://www.w3.org/1999/xlink\">\n<g id=\"graph0\" class=\"graph\" transform=\"scale(1 1) rotate(0) translate(4 184)\">\n<title>G</title>\n<polygon fill=\"white\" stroke=\"transparent\" points=\"-4,4 -4,-184 204,-184 204,4 -4,4\"/>\n<!-- 0 -->\n<g id=\"node1\" class=\"node\">\n<title>0</title>\n<ellipse fill=\"none\" stroke=\"black\" cx=\"27\" cy=\"-162\" rx=\"27\" ry=\"18\"/>\n<text text-anchor=\"middle\" x=\"27\" y=\"-158.3\" font-family=\"Times New Roman,serif\" font-size=\"14.00\">0</text>\n</g>\n<!-- 2 -->\n<g id=\"node2\" class=\"node\">\n<title>2</title>\n<ellipse fill=\"none\" stroke=\"black\" cx=\"63\" cy=\"-90\" rx=\"27\" ry=\"18\"/>\n<text text-anchor=\"middle\" x=\"63\" y=\"-86.3\" font-family=\"Times New Roman,serif\" font-size=\"14.00\">2</text>\n</g>\n<!-- 0&#45;&#45;2 -->\n<g id=\"edge1\" class=\"edge\">\n<title>0&#45;&#45;2</title>\n<path fill=\"none\" stroke=\"black\" d=\"M35.35,-144.76C41.17,-133.46 48.89,-118.44 54.7,-107.15\"/>\n</g>\n<!-- 4 -->\n<g id=\"node3\" class=\"node\">\n<title>4</title>\n<ellipse fill=\"none\" stroke=\"black\" cx=\"90\" cy=\"-18\" rx=\"27\" ry=\"18\"/>\n<text text-anchor=\"middle\" x=\"90\" y=\"-14.3\" font-family=\"Times New Roman,serif\" font-size=\"14.00\">4</text>\n</g>\n<!-- 0&#45;&#45;4 -->\n<g id=\"edge2\" class=\"edge\">\n<title>0&#45;&#45;4</title>\n<path fill=\"none\" stroke=\"black\" d=\"M22.92,-144.02C19.35,-125.4 16.24,-95.11 27,-72 35.69,-53.34 54.53,-38.9 69.36,-29.84\"/>\n</g>\n<!-- 2&#45;&#45;4 -->\n<g id=\"edge5\" class=\"edge\">\n<title>2&#45;&#45;4</title>\n<path fill=\"none\" stroke=\"black\" d=\"M69.4,-72.41C73.64,-61.41 79.19,-47.03 83.46,-35.96\"/>\n</g>\n<!-- 1 -->\n<g id=\"node4\" class=\"node\">\n<title>1</title>\n<ellipse fill=\"none\" stroke=\"black\" cx=\"108\" cy=\"-162\" rx=\"27\" ry=\"18\"/>\n<text text-anchor=\"middle\" x=\"108\" y=\"-158.3\" font-family=\"Times New Roman,serif\" font-size=\"14.00\">1</text>\n</g>\n<!-- 1&#45;&#45;2 -->\n<g id=\"edge3\" class=\"edge\">\n<title>1&#45;&#45;2</title>\n<path fill=\"none\" stroke=\"black\" d=\"M97.79,-145.12C90.42,-133.66 80.53,-118.26 73.17,-106.82\"/>\n</g>\n<!-- 1&#45;&#45;4 -->\n<g id=\"edge4\" class=\"edge\">\n<title>1&#45;&#45;4</title>\n<path fill=\"none\" stroke=\"black\" d=\"M106.62,-143.9C105.08,-125.95 102.37,-96.93 99,-72 97.37,-59.98 95.08,-46.5 93.21,-36.14\"/>\n</g>\n<!-- 3 -->\n<g id=\"node5\" class=\"node\">\n<title>3</title>\n<ellipse fill=\"none\" stroke=\"black\" cx=\"173\" cy=\"-90\" rx=\"27\" ry=\"18\"/>\n<text text-anchor=\"middle\" x=\"173\" y=\"-86.3\" font-family=\"Times New Roman,serif\" font-size=\"14.00\">3</text>\n</g>\n<!-- 3&#45;&#45;4 -->\n<g id=\"edge6\" class=\"edge\">\n<title>3&#45;&#45;4</title>\n<path fill=\"none\" stroke=\"black\" d=\"M156.6,-75.17C141.96,-62.82 120.63,-44.83 106.08,-32.56\"/>\n</g>\n</g>\n</svg>\n",
      "text/plain": [
       "<graphviz.graphs.Graph at 0x26ad0367c10>"
      ]
     },
     "execution_count": 36,
     "metadata": {},
     "output_type": "execute_result"
    }
   ],
   "source": [
    "# Jeu de tests de la méthode voisins\n",
    "g3 = Graphe(5)\n",
    "g3.ajoute_arete(0,4)\n",
    "g3.ajoute_arete(0,2)\n",
    "g3.ajoute_arete(2,4)\n",
    "g3.ajoute_arete(3,4)\n",
    "g3.ajoute_arete(1,4)\n",
    "g3.ajoute_arete(1,2)\n",
    "g3.affiche()"
   ]
  },
  {
   "cell_type": "code",
   "execution_count": 37,
   "metadata": {},
   "outputs": [
    {
     "data": {
      "text/plain": [
       "[2, 4]"
      ]
     },
     "execution_count": 37,
     "metadata": {},
     "output_type": "execute_result"
    }
   ],
   "source": [
    "g3.voisins(1)"
   ]
  },
  {
   "cell_type": "markdown",
   "metadata": {},
   "source": [
    "#### Question 4\n",
    "Compléter la méthode `degre` de la classe Graphe plus haut puis la tester"
   ]
  },
  {
   "cell_type": "code",
   "execution_count": 11,
   "metadata": {},
   "outputs": [
    {
     "data": {
      "image/svg+xml": "<?xml version=\"1.0\" encoding=\"UTF-8\" standalone=\"no\"?>\n<!DOCTYPE svg PUBLIC \"-//W3C//DTD SVG 1.1//EN\"\n \"http://www.w3.org/Graphics/SVG/1.1/DTD/svg11.dtd\">\n<!-- Generated by graphviz version 3.0.0 (20220226.1711)\n -->\n<!-- Title: G Pages: 1 -->\n<svg width=\"207pt\" height=\"332pt\"\n viewBox=\"0.00 0.00 207.00 332.00\" xmlns=\"http://www.w3.org/2000/svg\" xmlns:xlink=\"http://www.w3.org/1999/xlink\">\n<g id=\"graph0\" class=\"graph\" transform=\"scale(1 1) rotate(0) translate(4 328)\">\n<title>G</title>\n<polygon fill=\"white\" stroke=\"transparent\" points=\"-4,4 -4,-328 203,-328 203,4 -4,4\"/>\n<!-- 0 -->\n<g id=\"node1\" class=\"node\">\n<title>0</title>\n<ellipse fill=\"none\" stroke=\"black\" cx=\"63\" cy=\"-306\" rx=\"27\" ry=\"18\"/>\n<text text-anchor=\"middle\" x=\"63\" y=\"-302.3\" font-family=\"Times New Roman,serif\" font-size=\"14.00\">0</text>\n</g>\n<!-- 3 -->\n<g id=\"node2\" class=\"node\">\n<title>3</title>\n<ellipse fill=\"none\" stroke=\"black\" cx=\"27\" cy=\"-234\" rx=\"27\" ry=\"18\"/>\n<text text-anchor=\"middle\" x=\"27\" y=\"-230.3\" font-family=\"Times New Roman,serif\" font-size=\"14.00\">3</text>\n</g>\n<!-- 0&#45;&#45;3 -->\n<g id=\"edge1\" class=\"edge\">\n<title>0&#45;&#45;3</title>\n<path fill=\"none\" stroke=\"black\" d=\"M54.65,-288.76C48.83,-277.46 41.11,-262.44 35.3,-251.15\"/>\n</g>\n<!-- 5 -->\n<g id=\"node3\" class=\"node\">\n<title>5</title>\n<ellipse fill=\"none\" stroke=\"black\" cx=\"100\" cy=\"-90\" rx=\"27\" ry=\"18\"/>\n<text text-anchor=\"middle\" x=\"100\" y=\"-86.3\" font-family=\"Times New Roman,serif\" font-size=\"14.00\">5</text>\n</g>\n<!-- 0&#45;&#45;5 -->\n<g id=\"edge2\" class=\"edge\">\n<title>0&#45;&#45;5</title>\n<path fill=\"none\" stroke=\"black\" d=\"M69.76,-288.08C73.61,-277.8 78.21,-264.32 81,-252 92.67,-200.39 97.45,-137.75 99.16,-108.12\"/>\n</g>\n<!-- 3&#45;&#45;3 -->\n<g id=\"edge5\" class=\"edge\">\n<title>3&#45;&#45;3</title>\n<path fill=\"none\" stroke=\"black\" d=\"M46.9,-246.43C59.69,-249.68 72,-245.53 72,-234 72,-222.47 59.69,-218.32 46.9,-221.57\"/>\n</g>\n<!-- 4 -->\n<g id=\"node7\" class=\"node\">\n<title>4</title>\n<ellipse fill=\"none\" stroke=\"black\" cx=\"36\" cy=\"-162\" rx=\"27\" ry=\"18\"/>\n<text text-anchor=\"middle\" x=\"36\" y=\"-158.3\" font-family=\"Times New Roman,serif\" font-size=\"14.00\">4</text>\n</g>\n<!-- 3&#45;&#45;4 -->\n<g id=\"edge6\" class=\"edge\">\n<title>3&#45;&#45;4</title>\n<path fill=\"none\" stroke=\"black\" d=\"M29.18,-216.05C30.57,-205.21 32.38,-191.18 33.78,-180.28\"/>\n</g>\n<!-- 6 -->\n<g id=\"node6\" class=\"node\">\n<title>6</title>\n<ellipse fill=\"none\" stroke=\"black\" cx=\"136\" cy=\"-18\" rx=\"27\" ry=\"18\"/>\n<text text-anchor=\"middle\" x=\"136\" y=\"-14.3\" font-family=\"Times New Roman,serif\" font-size=\"14.00\">6</text>\n</g>\n<!-- 5&#45;&#45;6 -->\n<g id=\"edge8\" class=\"edge\">\n<title>5&#45;&#45;6</title>\n<path fill=\"none\" stroke=\"black\" d=\"M108.35,-72.76C114.17,-61.46 121.89,-46.44 127.7,-35.15\"/>\n</g>\n<!-- 1 -->\n<g id=\"node4\" class=\"node\">\n<title>1</title>\n<ellipse fill=\"none\" stroke=\"black\" cx=\"155\" cy=\"-162\" rx=\"27\" ry=\"18\"/>\n<text text-anchor=\"middle\" x=\"155\" y=\"-158.3\" font-family=\"Times New Roman,serif\" font-size=\"14.00\">1</text>\n</g>\n<!-- 1&#45;&#45;5 -->\n<g id=\"edge3\" class=\"edge\">\n<title>1&#45;&#45;5</title>\n<path fill=\"none\" stroke=\"black\" d=\"M143.07,-145.81C133.84,-134.07 121.13,-117.89 111.91,-106.16\"/>\n</g>\n<!-- 2 -->\n<g id=\"node5\" class=\"node\">\n<title>2</title>\n<ellipse fill=\"none\" stroke=\"black\" cx=\"172\" cy=\"-90\" rx=\"27\" ry=\"18\"/>\n<text text-anchor=\"middle\" x=\"172\" y=\"-86.3\" font-family=\"Times New Roman,serif\" font-size=\"14.00\">2</text>\n</g>\n<!-- 2&#45;&#45;6 -->\n<g id=\"edge4\" class=\"edge\">\n<title>2&#45;&#45;6</title>\n<path fill=\"none\" stroke=\"black\" d=\"M163.65,-72.76C157.83,-61.46 150.11,-46.44 144.3,-35.15\"/>\n</g>\n<!-- 4&#45;&#45;5 -->\n<g id=\"edge7\" class=\"edge\">\n<title>4&#45;&#45;5</title>\n<path fill=\"none\" stroke=\"black\" d=\"M49.57,-146.15C60.43,-134.28 75.59,-117.7 86.45,-105.82\"/>\n</g>\n</g>\n</svg>\n",
      "text/plain": [
       "<graphviz.graphs.Graph at 0x26acffcd340>"
      ]
     },
     "execution_count": 11,
     "metadata": {},
     "output_type": "execute_result"
    }
   ],
   "source": [
    "# Jeu de tests de la méthode degre\n",
    "g4 = Graphe(7)\n",
    "g4.ajoute_arete(0,5)\n",
    "g4.ajoute_arete(1,5)\n",
    "g4.ajoute_arete(2,6)\n",
    "g4.ajoute_arete(3,3)\n",
    "g4.ajoute_arete(3,4)\n",
    "g4.ajoute_arete(3,0)\n",
    "g4.ajoute_arete(4,5)\n",
    "g4.ajoute_arete(6,5)\n",
    "g4.affiche()"
   ]
  },
  {
   "cell_type": "code",
   "execution_count": 12,
   "metadata": {
    "slideshow": {
     "slide_type": "fragment"
    }
   },
   "outputs": [
    {
     "data": {
      "text/plain": [
       "2"
      ]
     },
     "execution_count": 12,
     "metadata": {},
     "output_type": "execute_result"
    }
   ],
   "source": [
    "g4.degre(4)"
   ]
  },
  {
   "cell_type": "markdown",
   "metadata": {},
   "source": [
    "#### Question 5\n",
    "Compléter la méthode `nb_aretes` de la classe Graphe plus haut puis la tester"
   ]
  },
  {
   "cell_type": "code",
   "execution_count": 13,
   "metadata": {},
   "outputs": [
    {
     "data": {
      "image/svg+xml": "<?xml version=\"1.0\" encoding=\"UTF-8\" standalone=\"no\"?>\n<!DOCTYPE svg PUBLIC \"-//W3C//DTD SVG 1.1//EN\"\n \"http://www.w3.org/Graphics/SVG/1.1/DTD/svg11.dtd\">\n<!-- Generated by graphviz version 3.0.0 (20220226.1711)\n -->\n<!-- Title: G Pages: 1 -->\n<svg width=\"323pt\" height=\"188pt\"\n viewBox=\"0.00 0.00 323.00 188.00\" xmlns=\"http://www.w3.org/2000/svg\" xmlns:xlink=\"http://www.w3.org/1999/xlink\">\n<g id=\"graph0\" class=\"graph\" transform=\"scale(1 1) rotate(0) translate(4 184)\">\n<title>G</title>\n<polygon fill=\"white\" stroke=\"transparent\" points=\"-4,4 -4,-184 319,-184 319,4 -4,4\"/>\n<!-- 0 -->\n<g id=\"node1\" class=\"node\">\n<title>0</title>\n<ellipse fill=\"none\" stroke=\"black\" cx=\"29\" cy=\"-162\" rx=\"27\" ry=\"18\"/>\n<text text-anchor=\"middle\" x=\"29\" y=\"-158.3\" font-family=\"Times New Roman,serif\" font-size=\"14.00\">0</text>\n</g>\n<!-- 5 -->\n<g id=\"node2\" class=\"node\">\n<title>5</title>\n<ellipse fill=\"none\" stroke=\"black\" cx=\"27\" cy=\"-90\" rx=\"27\" ry=\"18\"/>\n<text text-anchor=\"middle\" x=\"27\" y=\"-86.3\" font-family=\"Times New Roman,serif\" font-size=\"14.00\">5</text>\n</g>\n<!-- 0&#45;&#45;5 -->\n<g id=\"edge1\" class=\"edge\">\n<title>0&#45;&#45;5</title>\n<path fill=\"none\" stroke=\"black\" d=\"M28.51,-143.7C28.2,-132.85 27.8,-118.92 27.49,-108.1\"/>\n</g>\n<!-- 8 -->\n<g id=\"node3\" class=\"node\">\n<title>8</title>\n<ellipse fill=\"none\" stroke=\"black\" cx=\"99\" cy=\"-90\" rx=\"27\" ry=\"18\"/>\n<text text-anchor=\"middle\" x=\"99\" y=\"-86.3\" font-family=\"Times New Roman,serif\" font-size=\"14.00\">8</text>\n</g>\n<!-- 0&#45;&#45;8 -->\n<g id=\"edge2\" class=\"edge\">\n<title>0&#45;&#45;8</title>\n<path fill=\"none\" stroke=\"black\" d=\"M43.5,-146.5C55.52,-134.48 72.51,-117.49 84.51,-105.49\"/>\n</g>\n<!-- 8&#45;&#45;8 -->\n<g id=\"edge11\" class=\"edge\">\n<title>8&#45;&#45;8</title>\n<path fill=\"none\" stroke=\"black\" d=\"M118.9,-102.43C131.69,-105.68 144,-101.53 144,-90 144,-78.47 131.69,-74.32 118.9,-77.57\"/>\n</g>\n<!-- 1 -->\n<g id=\"node4\" class=\"node\">\n<title>1</title>\n<ellipse fill=\"none\" stroke=\"black\" cx=\"261\" cy=\"-162\" rx=\"27\" ry=\"18\"/>\n<text text-anchor=\"middle\" x=\"261\" y=\"-158.3\" font-family=\"Times New Roman,serif\" font-size=\"14.00\">1</text>\n</g>\n<!-- 3 -->\n<g id=\"node5\" class=\"node\">\n<title>3</title>\n<ellipse fill=\"none\" stroke=\"black\" cx=\"261\" cy=\"-90\" rx=\"27\" ry=\"18\"/>\n<text text-anchor=\"middle\" x=\"261\" y=\"-86.3\" font-family=\"Times New Roman,serif\" font-size=\"14.00\">3</text>\n</g>\n<!-- 1&#45;&#45;3 -->\n<g id=\"edge3\" class=\"edge\">\n<title>1&#45;&#45;3</title>\n<path fill=\"none\" stroke=\"black\" d=\"M261,-143.7C261,-132.85 261,-118.92 261,-108.1\"/>\n</g>\n<!-- 6 -->\n<g id=\"node6\" class=\"node\">\n<title>6</title>\n<ellipse fill=\"none\" stroke=\"black\" cx=\"288\" cy=\"-18\" rx=\"27\" ry=\"18\"/>\n<text text-anchor=\"middle\" x=\"288\" y=\"-14.3\" font-family=\"Times New Roman,serif\" font-size=\"14.00\">6</text>\n</g>\n<!-- 1&#45;&#45;6 -->\n<g id=\"edge4\" class=\"edge\">\n<title>1&#45;&#45;6</title>\n<path fill=\"none\" stroke=\"black\" d=\"M274.75,-146.07C282.96,-136.1 292.62,-122.25 297,-108 304.49,-83.66 298.69,-53.98 293.55,-35.79\"/>\n</g>\n<!-- 7 -->\n<g id=\"node7\" class=\"node\">\n<title>7</title>\n<ellipse fill=\"none\" stroke=\"black\" cx=\"189\" cy=\"-90\" rx=\"27\" ry=\"18\"/>\n<text text-anchor=\"middle\" x=\"189\" y=\"-86.3\" font-family=\"Times New Roman,serif\" font-size=\"14.00\">7</text>\n</g>\n<!-- 1&#45;&#45;7 -->\n<g id=\"edge5\" class=\"edge\">\n<title>1&#45;&#45;7</title>\n<path fill=\"none\" stroke=\"black\" d=\"M246.43,-146.83C234.02,-134.77 216.27,-117.51 203.8,-105.38\"/>\n</g>\n<!-- 3&#45;&#45;6 -->\n<g id=\"edge8\" class=\"edge\">\n<title>3&#45;&#45;6</title>\n<path fill=\"none\" stroke=\"black\" d=\"M267.4,-72.41C271.64,-61.41 277.19,-47.03 281.46,-35.96\"/>\n</g>\n<!-- 2 -->\n<g id=\"node8\" class=\"node\">\n<title>2</title>\n<ellipse fill=\"none\" stroke=\"black\" cx=\"105\" cy=\"-162\" rx=\"27\" ry=\"18\"/>\n<text text-anchor=\"middle\" x=\"105\" y=\"-158.3\" font-family=\"Times New Roman,serif\" font-size=\"14.00\">2</text>\n</g>\n<!-- 2&#45;&#45;5 -->\n<g id=\"edge6\" class=\"edge\">\n<title>2&#45;&#45;5</title>\n<path fill=\"none\" stroke=\"black\" d=\"M89.59,-147.17C75.92,-134.9 56.04,-117.06 42.38,-104.8\"/>\n</g>\n<!-- 2&#45;&#45;7 -->\n<g id=\"edge7\" class=\"edge\">\n<title>2&#45;&#45;7</title>\n<path fill=\"none\" stroke=\"black\" d=\"M121.2,-147.5C136.07,-135.11 157.99,-116.84 172.85,-104.46\"/>\n</g>\n<!-- 4 -->\n<g id=\"node9\" class=\"node\">\n<title>4</title>\n<ellipse fill=\"none\" stroke=\"black\" cx=\"180\" cy=\"-162\" rx=\"27\" ry=\"18\"/>\n<text text-anchor=\"middle\" x=\"180\" y=\"-158.3\" font-family=\"Times New Roman,serif\" font-size=\"14.00\">4</text>\n</g>\n<!-- 4&#45;&#45;8 -->\n<g id=\"edge10\" class=\"edge\">\n<title>4&#45;&#45;8</title>\n<path fill=\"none\" stroke=\"black\" d=\"M164,-147.17C149.8,-134.9 129.16,-117.06 114.97,-104.8\"/>\n</g>\n<!-- 4&#45;&#45;7 -->\n<g id=\"edge9\" class=\"edge\">\n<title>4&#45;&#45;7</title>\n<path fill=\"none\" stroke=\"black\" d=\"M182.18,-144.05C183.57,-133.21 185.38,-119.18 186.78,-108.28\"/>\n</g>\n</g>\n</svg>\n",
      "text/plain": [
       "<graphviz.graphs.Graph at 0x26acff9cbb0>"
      ]
     },
     "execution_count": 13,
     "metadata": {},
     "output_type": "execute_result"
    }
   ],
   "source": [
    "# Jeu de tests de la méthode nb_aretes\n",
    "g5 = Graphe(9)\n",
    "g5.ajoute_arete(0,8)\n",
    "g5.ajoute_arete(0,8)\n",
    "g5.ajoute_arete(0,5)\n",
    "g5.ajoute_arete(1,3)\n",
    "g5.ajoute_arete(1,7)\n",
    "g5.ajoute_arete(1,6)\n",
    "g5.ajoute_arete(2,5)\n",
    "g5.ajoute_arete(2,7)\n",
    "g5.ajoute_arete(4,7)\n",
    "g5.ajoute_arete(8,8)\n",
    "g5.ajoute_arete(4,8)\n",
    "g5.ajoute_arete(3,6)\n",
    "g5.ajoute_arete(7,1)\n",
    "g5.affiche()"
   ]
  },
  {
   "cell_type": "code",
   "execution_count": 14,
   "metadata": {},
   "outputs": [
    {
     "data": {
      "text/plain": [
       "11"
      ]
     },
     "execution_count": 14,
     "metadata": {},
     "output_type": "execute_result"
    }
   ],
   "source": [
    "g5.nb_aretes()"
   ]
  },
  {
   "cell_type": "code",
   "execution_count": 9,
   "metadata": {
    "deletable": false,
    "editable": false
   },
   "outputs": [],
   "source": [
    "# Test des différentes méthodes précédentes\n",
    "# me permet de voir que vos méthodes ont l'air correctes, c'est le cas si cette cellule ne renvoie pas d'erreur\n",
    "GTest=Graphe(10)\n",
    "for i in range(0,10,2):\n",
    "    for j in range(1,10,2):\n",
    "        GTest.ajoute_arete(i,j)\n",
    "assert [GTest.arete(i,j) for i in range(10) for j in range(10)]==[(i-j)%2==1 for i in range(10) for j in range(10)]\n",
    "assert [GTest.voisins(i) for i in range(10)]==[[1, 3, 5, 7, 9], [0, 2, 4, 6, 8], [1, 3, 5, 7, 9], [0, 2, 4, 6, 8], [1, 3, 5, 7, 9], [0, 2, 4, 6, 8], [1, 3, 5, 7, 9], [0, 2, 4, 6, 8], [1, 3, 5, 7, 9], [0, 2, 4, 6, 8]]\n",
    "assert [GTest.degre(i) for i in range(10)]==[5, 5, 5, 5, 5, 5, 5, 5, 5, 5]\n",
    "assert GTest.nb_aretes()==25"
   ]
  },
  {
   "cell_type": "markdown",
   "metadata": {},
   "source": [
    "## Implémentation d'un graphe non orienté avec un dictionnaire d'adjacence"
   ]
  },
  {
   "cell_type": "markdown",
   "metadata": {},
   "source": [
    "<div class=\"alert alert-warning\" role=\"alert\">\n",
    "    \n",
    "### Exercice 2\n",
    "On considère la classe `Graphe` ci-dessous qu'il faudra **compléter et tester au fur et à mesure**.\n",
    "    \n",
    "On utilisera un dictionnaire d'adjacence : les clés seront les sommets du graphe (peuvent être cette fois-ci des chaînes de caractères) et la valeur associée à une clé sera la liste de ses voisins.\n",
    "    \n",
    "Attention, là aussi, comme le graphe n'est pas orienté, si A et B sont adjacents, il faudra faire une arête de A vers B et aussi de B vers A.\n",
    "</div>"
   ]
  },
  {
   "cell_type": "code",
   "execution_count": 14,
   "metadata": {},
   "outputs": [
    {
     "data": {
      "text/plain": [
       "['B']"
      ]
     },
     "execution_count": 14,
     "metadata": {},
     "output_type": "execute_result"
    }
   ],
   "source": [
    "d = dict()\n",
    "d[\"A\"] = []\n",
    "d[\"A\"].append(\"B\")\n",
    "d[\"A\"]"
   ]
  },
  {
   "cell_type": "code",
   "execution_count": 15,
   "metadata": {},
   "outputs": [
    {
     "data": {
      "text/plain": [
       "dict_keys(['A'])"
      ]
     },
     "execution_count": 15,
     "metadata": {},
     "output_type": "execute_result"
    }
   ],
   "source": [
    "d.keys()"
   ]
  },
  {
   "cell_type": "code",
   "execution_count": 16,
   "metadata": {},
   "outputs": [
    {
     "data": {
      "text/plain": [
       "dict_items([('A', ['B'])])"
      ]
     },
     "execution_count": 16,
     "metadata": {},
     "output_type": "execute_result"
    }
   ],
   "source": [
    "d.items()"
   ]
  },
  {
   "cell_type": "code",
   "execution_count": 19,
   "metadata": {},
   "outputs": [
    {
     "data": {
      "text/plain": [
       "dict_values([['B']])"
      ]
     },
     "execution_count": 19,
     "metadata": {},
     "output_type": "execute_result"
    }
   ],
   "source": [
    "d.values()"
   ]
  },
  {
   "cell_type": "code",
   "execution_count": 48,
   "metadata": {},
   "outputs": [],
   "source": [
    "class Graphe:    \n",
    "    def __init__(self):\n",
    "        ''' Le constructeur de la classe dont le seul attribut d'instance est le dictionnaire d'adjacence d\n",
    "            Exemple: G=Graphe() instancie un graphe vide'''\n",
    "        self.d = dict() # dictionnaire d'adjacence\n",
    "        \n",
    "    def ajoute_sommet(self,s):\n",
    "        '''Ajoute le sommet s au graphe si celui-ci est un nouveau sommet''' \n",
    "        self.d[s] = []\n",
    "    \n",
    "    def ajoute_arete(self,s,t):\n",
    "        '''Ajoute si nécessaire les sommets s et t puis crée si elle n'existait pas une arête entre s et t'''\n",
    "         # S -> T\n",
    "        if s in self.d:\n",
    "            self.d[s].append(t)\n",
    "        else :\n",
    "            self.d.ajoute_sommet(s)\n",
    "            self.d[s].append(t)\n",
    "\n",
    "        # T -> S\n",
    "        if t in self.d :\n",
    "            self.d[t].append(s)\n",
    "        else :\n",
    "            self.d.ajoute_sommet(t)\n",
    "            self.d[t].append(s)\n",
    "        \n",
    "    def arete(self,s,t):\n",
    "        '''Renvoie True s'il y a une arête entre s et t et False sinon'''\n",
    "        if t in self.d[s] or s in self.d[t] :\n",
    "            return True\n",
    "        else :\n",
    "            return False\n",
    "    \n",
    "    def sommets(self):\n",
    "        '''Renvoie la liste de tous les sommets du graphe'''\n",
    "        liste_sommets = []\n",
    "        for k in self.d :\n",
    "            liste_sommets.append(k)\n",
    "        return liste_sommets\n",
    "    \n",
    "    def voisins(self,s):\n",
    "        '''Renvoie la liste des voisins de s'''\n",
    "        return self.d[s]\n",
    "    \n",
    "    def degre(self,s):\n",
    "        '''Renvoie le degré du sommet s'''\n",
    "        return len(self.d[s])\n",
    "    \n",
    "    def nb_aretes(self):\n",
    "        '''Renvoie le nb d'arêtes du graphe'''\n",
    "        nb_aretes = 0\n",
    "        for k in self.sommets() :\n",
    "            for _ in self.d[k] :\n",
    "                nb_aretes += 1\n",
    "        return nb_aretes // 2\n",
    "    \n",
    "    def affiche(self): \n",
    "        \"Affichage du graphe en utilisant le module graphviz\"\n",
    "        dot = Graph('G')\n",
    "        for s in self.sommets():\n",
    "            for t in self.sommets(): \n",
    "                # Condition pour éviter les doubles arêtes\n",
    "                if (t in self.d[s]) and '{} -- {}'.format(t,s) not in dot.source:\n",
    "                    dot.edge(s,t)\n",
    "        return dot"
   ]
  },
  {
   "cell_type": "markdown",
   "metadata": {},
   "source": [
    "#### Question 1\n",
    "Compléter les méthodes `ajoute_sommet` puis `ajoute_arete` ci-dessus puis les tester avec l'exemple suivant"
   ]
  },
  {
   "cell_type": "code",
   "execution_count": 49,
   "metadata": {},
   "outputs": [
    {
     "data": {
      "image/svg+xml": "<?xml version=\"1.0\" encoding=\"UTF-8\" standalone=\"no\"?>\n<!DOCTYPE svg PUBLIC \"-//W3C//DTD SVG 1.1//EN\"\n \"http://www.w3.org/Graphics/SVG/1.1/DTD/svg11.dtd\">\n<!-- Generated by graphviz version 3.0.0 (20220226.1711)\n -->\n<!-- Title: G Pages: 1 -->\n<svg width=\"134pt\" height=\"188pt\"\n viewBox=\"0.00 0.00 134.00 188.00\" xmlns=\"http://www.w3.org/2000/svg\" xmlns:xlink=\"http://www.w3.org/1999/xlink\">\n<g id=\"graph0\" class=\"graph\" transform=\"scale(1 1) rotate(0) translate(4 184)\">\n<title>G</title>\n<polygon fill=\"white\" stroke=\"transparent\" points=\"-4,4 -4,-184 130,-184 130,4 -4,4\"/>\n<!-- A -->\n<g id=\"node1\" class=\"node\">\n<title>A</title>\n<ellipse fill=\"none\" stroke=\"black\" cx=\"54\" cy=\"-162\" rx=\"27\" ry=\"18\"/>\n<text text-anchor=\"middle\" x=\"54\" y=\"-158.3\" font-family=\"Times New Roman,serif\" font-size=\"14.00\">A</text>\n</g>\n<!-- B -->\n<g id=\"node2\" class=\"node\">\n<title>B</title>\n<ellipse fill=\"none\" stroke=\"black\" cx=\"82\" cy=\"-90\" rx=\"27\" ry=\"18\"/>\n<text text-anchor=\"middle\" x=\"82\" y=\"-86.3\" font-family=\"Times New Roman,serif\" font-size=\"14.00\">B</text>\n</g>\n<!-- A&#45;&#45;B -->\n<g id=\"edge1\" class=\"edge\">\n<title>A&#45;&#45;B</title>\n<path fill=\"none\" stroke=\"black\" d=\"M60.64,-144.41C65.1,-133.25 70.96,-118.6 75.41,-107.47\"/>\n</g>\n<!-- D -->\n<g id=\"node3\" class=\"node\">\n<title>D</title>\n<ellipse fill=\"none\" stroke=\"black\" cx=\"27\" cy=\"-18\" rx=\"27\" ry=\"18\"/>\n<text text-anchor=\"middle\" x=\"27\" y=\"-14.3\" font-family=\"Times New Roman,serif\" font-size=\"14.00\">D</text>\n</g>\n<!-- A&#45;&#45;D -->\n<g id=\"edge2\" class=\"edge\">\n<title>A&#45;&#45;D</title>\n<path fill=\"none\" stroke=\"black\" d=\"M50.74,-143.87C45.55,-116.58 35.47,-63.52 30.27,-36.19\"/>\n</g>\n<!-- B&#45;&#45;D -->\n<g id=\"edge4\" class=\"edge\">\n<title>B&#45;&#45;D</title>\n<path fill=\"none\" stroke=\"black\" d=\"M70.07,-73.81C60.84,-62.07 48.13,-45.89 38.91,-34.16\"/>\n</g>\n<!-- C -->\n<g id=\"node4\" class=\"node\">\n<title>C</title>\n<ellipse fill=\"none\" stroke=\"black\" cx=\"99\" cy=\"-18\" rx=\"27\" ry=\"18\"/>\n<text text-anchor=\"middle\" x=\"99\" y=\"-14.3\" font-family=\"Times New Roman,serif\" font-size=\"14.00\">C</text>\n</g>\n<!-- B&#45;&#45;C -->\n<g id=\"edge3\" class=\"edge\">\n<title>B&#45;&#45;C</title>\n<path fill=\"none\" stroke=\"black\" d=\"M86.12,-72.05C88.75,-61.21 92.16,-47.18 94.8,-36.28\"/>\n</g>\n</g>\n</svg>\n",
      "text/plain": [
       "<graphviz.graphs.Graph at 0x24397e5cf10>"
      ]
     },
     "execution_count": 49,
     "metadata": {},
     "output_type": "execute_result"
    }
   ],
   "source": [
    "# Exemple\n",
    "G = Graphe()\n",
    "for s in ['A','B','C','D']: # ces deux instructions ne sont pas utilies\n",
    "    G.ajoute_sommet(s)      # puisque la méthode ajoute_arete permet d'ajouter également les sommets\n",
    "G.ajoute_arete(\"A\",\"B\")\n",
    "G.ajoute_arete(\"A\",\"D\")\n",
    "G.ajoute_arete(\"B\",\"C\")\n",
    "G.ajoute_arete(\"D\",\"B\")\n",
    "G.affiche()"
   ]
  },
  {
   "cell_type": "markdown",
   "metadata": {},
   "source": [
    "#### Question 2\n",
    "Compléter la méthode `arete` de la classe Graphe plus haut puis la tester"
   ]
  },
  {
   "cell_type": "code",
   "execution_count": 22,
   "metadata": {},
   "outputs": [
    {
     "data": {
      "text/plain": [
       "True"
      ]
     },
     "execution_count": 22,
     "metadata": {},
     "output_type": "execute_result"
    }
   ],
   "source": [
    "# Jeu de tests de la méthode arete (pensez à tester l'arête entre s et t et aussi entre t et s)\n",
    "G.arete(\"A\", \"B\")"
   ]
  },
  {
   "cell_type": "code",
   "execution_count": 23,
   "metadata": {},
   "outputs": [
    {
     "data": {
      "text/plain": [
       "False"
      ]
     },
     "execution_count": 23,
     "metadata": {},
     "output_type": "execute_result"
    }
   ],
   "source": [
    "G.arete(\"D\", \"C\")"
   ]
  },
  {
   "cell_type": "code",
   "execution_count": 24,
   "metadata": {},
   "outputs": [
    {
     "data": {
      "text/plain": [
       "True"
      ]
     },
     "execution_count": 24,
     "metadata": {},
     "output_type": "execute_result"
    }
   ],
   "source": [
    "not G.arete(\"D\", \"C\")"
   ]
  },
  {
   "cell_type": "markdown",
   "metadata": {},
   "source": [
    "#### Question 3\n",
    "Compléter la méthode `sommets` de la classe Graphe plus haut puis la tester"
   ]
  },
  {
   "cell_type": "code",
   "execution_count": 25,
   "metadata": {},
   "outputs": [
    {
     "data": {
      "text/plain": [
       "['A', 'B', 'C', 'D']"
      ]
     },
     "execution_count": 25,
     "metadata": {},
     "output_type": "execute_result"
    }
   ],
   "source": [
    "# test avec la méthode sommets\n",
    "G.sommets()"
   ]
  },
  {
   "cell_type": "markdown",
   "metadata": {},
   "source": [
    "#### Question 4\n",
    "Compléter la méthode `voisins` de la classe Graphe plus haut puis la tester"
   ]
  },
  {
   "cell_type": "code",
   "execution_count": 26,
   "metadata": {},
   "outputs": [
    {
     "data": {
      "text/plain": [
       "['A', 'C', 'D']"
      ]
     },
     "execution_count": 26,
     "metadata": {},
     "output_type": "execute_result"
    }
   ],
   "source": [
    "# Jeu de tests avec la méthode voisins\n",
    "G.voisins(\"B\")"
   ]
  },
  {
   "cell_type": "code",
   "execution_count": 27,
   "metadata": {},
   "outputs": [
    {
     "data": {
      "text/plain": [
       "['A', 'B']"
      ]
     },
     "execution_count": 27,
     "metadata": {},
     "output_type": "execute_result"
    }
   ],
   "source": [
    "G.voisins(\"D\")"
   ]
  },
  {
   "cell_type": "code",
   "execution_count": 28,
   "metadata": {},
   "outputs": [
    {
     "name": "stdout",
     "output_type": "stream",
     "text": [
      "A ['B', 'D']\n",
      "B ['A', 'C', 'D']\n",
      "C ['B']\n",
      "D ['A', 'B']\n"
     ]
    }
   ],
   "source": [
    "for i in [\"A\", \"B\", \"C\", \"D\"] :\n",
    "    print(i, G.voisins(i))"
   ]
  },
  {
   "cell_type": "markdown",
   "metadata": {},
   "source": [
    "#### Question 5\n",
    "Compléter la méthode `degre` de la classe Graphe plus haut puis la tester"
   ]
  },
  {
   "cell_type": "code",
   "execution_count": 29,
   "metadata": {},
   "outputs": [
    {
     "data": {
      "text/plain": [
       "3"
      ]
     },
     "execution_count": 29,
     "metadata": {},
     "output_type": "execute_result"
    }
   ],
   "source": [
    "# Jeu de tests avec la méthode degre\n",
    "G.degre(\"B\")"
   ]
  },
  {
   "cell_type": "code",
   "execution_count": 30,
   "metadata": {},
   "outputs": [
    {
     "name": "stdout",
     "output_type": "stream",
     "text": [
      "A 2\n",
      "B 3\n",
      "C 1\n",
      "D 2\n"
     ]
    }
   ],
   "source": [
    "for i in [\"A\", \"B\", \"C\", \"D\"] :\n",
    "    print(i, G.degre(i))"
   ]
  },
  {
   "cell_type": "markdown",
   "metadata": {},
   "source": [
    "#### Question 6\n",
    "Compléter la méthode `nb_aretes` de la classe Graphe plus haut puis la tester"
   ]
  },
  {
   "cell_type": "code",
   "execution_count": 45,
   "metadata": {},
   "outputs": [
    {
     "data": {
      "text/plain": [
       "4"
      ]
     },
     "execution_count": 45,
     "metadata": {},
     "output_type": "execute_result"
    }
   ],
   "source": [
    "# Test avec la méthode nb_aretes\n",
    "G.nb_aretes()"
   ]
  },
  {
   "cell_type": "markdown",
   "metadata": {},
   "source": [
    "#### Question 7\n",
    "Utilisez la classe précédente pour créer le graphe `G1` ci-dessous.\n",
    "![Graphe_abcdefgh.png](https://ericecmorlaix.github.io/img/Graphe_abcdefgh.png)"
   ]
  },
  {
   "cell_type": "code",
   "execution_count": 54,
   "metadata": {},
   "outputs": [
    {
     "data": {
      "image/svg+xml": "<?xml version=\"1.0\" encoding=\"UTF-8\" standalone=\"no\"?>\n<!DOCTYPE svg PUBLIC \"-//W3C//DTD SVG 1.1//EN\"\n \"http://www.w3.org/Graphics/SVG/1.1/DTD/svg11.dtd\">\n<!-- Generated by graphviz version 3.0.0 (20220226.1711)\n -->\n<!-- Title: G Pages: 1 -->\n<svg width=\"134pt\" height=\"476pt\"\n viewBox=\"0.00 0.00 134.00 476.00\" xmlns=\"http://www.w3.org/2000/svg\" xmlns:xlink=\"http://www.w3.org/1999/xlink\">\n<g id=\"graph0\" class=\"graph\" transform=\"scale(1 1) rotate(0) translate(4 472)\">\n<title>G</title>\n<polygon fill=\"white\" stroke=\"transparent\" points=\"-4,4 -4,-472 130,-472 130,4 -4,4\"/>\n<!-- a -->\n<g id=\"node1\" class=\"node\">\n<title>a</title>\n<ellipse fill=\"none\" stroke=\"black\" cx=\"63\" cy=\"-450\" rx=\"27\" ry=\"18\"/>\n<text text-anchor=\"middle\" x=\"63\" y=\"-446.3\" font-family=\"Times New Roman,serif\" font-size=\"14.00\">a</text>\n</g>\n<!-- b -->\n<g id=\"node2\" class=\"node\">\n<title>b</title>\n<ellipse fill=\"none\" stroke=\"black\" cx=\"99\" cy=\"-378\" rx=\"27\" ry=\"18\"/>\n<text text-anchor=\"middle\" x=\"99\" y=\"-374.3\" font-family=\"Times New Roman,serif\" font-size=\"14.00\">b</text>\n</g>\n<!-- a&#45;&#45;b -->\n<g id=\"edge1\" class=\"edge\">\n<title>a&#45;&#45;b</title>\n<path fill=\"none\" stroke=\"black\" d=\"M71.35,-432.76C77.17,-421.46 84.89,-406.44 90.7,-395.15\"/>\n</g>\n<!-- c -->\n<g id=\"node3\" class=\"node\">\n<title>c</title>\n<ellipse fill=\"none\" stroke=\"black\" cx=\"27\" cy=\"-378\" rx=\"27\" ry=\"18\"/>\n<text text-anchor=\"middle\" x=\"27\" y=\"-374.3\" font-family=\"Times New Roman,serif\" font-size=\"14.00\">c</text>\n</g>\n<!-- a&#45;&#45;c -->\n<g id=\"edge2\" class=\"edge\">\n<title>a&#45;&#45;c</title>\n<path fill=\"none\" stroke=\"black\" d=\"M54.65,-432.76C48.83,-421.46 41.11,-406.44 35.3,-395.15\"/>\n</g>\n<!-- d -->\n<g id=\"node4\" class=\"node\">\n<title>d</title>\n<ellipse fill=\"none\" stroke=\"black\" cx=\"44\" cy=\"-306\" rx=\"27\" ry=\"18\"/>\n<text text-anchor=\"middle\" x=\"44\" y=\"-302.3\" font-family=\"Times New Roman,serif\" font-size=\"14.00\">d</text>\n</g>\n<!-- b&#45;&#45;d -->\n<g id=\"edge3\" class=\"edge\">\n<title>b&#45;&#45;d</title>\n<path fill=\"none\" stroke=\"black\" d=\"M87.07,-361.81C77.84,-350.07 65.13,-333.89 55.91,-322.16\"/>\n</g>\n<!-- e -->\n<g id=\"node5\" class=\"node\">\n<title>e</title>\n<ellipse fill=\"none\" stroke=\"black\" cx=\"71\" cy=\"-234\" rx=\"27\" ry=\"18\"/>\n<text text-anchor=\"middle\" x=\"71\" y=\"-230.3\" font-family=\"Times New Roman,serif\" font-size=\"14.00\">e</text>\n</g>\n<!-- b&#45;&#45;e -->\n<g id=\"edge4\" class=\"edge\">\n<title>b&#45;&#45;e</title>\n<path fill=\"none\" stroke=\"black\" d=\"M95.62,-359.87C90.24,-332.58 79.78,-279.52 74.39,-252.19\"/>\n</g>\n<!-- c&#45;&#45;d -->\n<g id=\"edge5\" class=\"edge\">\n<title>c&#45;&#45;d</title>\n<path fill=\"none\" stroke=\"black\" d=\"M31.12,-360.05C33.75,-349.21 37.16,-335.18 39.8,-324.28\"/>\n</g>\n<!-- d&#45;&#45;e -->\n<g id=\"edge6\" class=\"edge\">\n<title>d&#45;&#45;e</title>\n<path fill=\"none\" stroke=\"black\" d=\"M50.4,-288.41C54.64,-277.41 60.19,-263.03 64.46,-251.96\"/>\n</g>\n<!-- f -->\n<g id=\"node6\" class=\"node\">\n<title>f</title>\n<ellipse fill=\"none\" stroke=\"black\" cx=\"44\" cy=\"-162\" rx=\"27\" ry=\"18\"/>\n<text text-anchor=\"middle\" x=\"44\" y=\"-158.3\" font-family=\"Times New Roman,serif\" font-size=\"14.00\">f</text>\n</g>\n<!-- e&#45;&#45;f -->\n<g id=\"edge7\" class=\"edge\">\n<title>e&#45;&#45;f</title>\n<path fill=\"none\" stroke=\"black\" d=\"M64.6,-216.41C60.36,-205.41 54.81,-191.03 50.54,-179.96\"/>\n</g>\n<!-- g -->\n<g id=\"node7\" class=\"node\">\n<title>g</title>\n<ellipse fill=\"none\" stroke=\"black\" cx=\"71\" cy=\"-90\" rx=\"27\" ry=\"18\"/>\n<text text-anchor=\"middle\" x=\"71\" y=\"-86.3\" font-family=\"Times New Roman,serif\" font-size=\"14.00\">g</text>\n</g>\n<!-- e&#45;&#45;g -->\n<g id=\"edge8\" class=\"edge\">\n<title>e&#45;&#45;g</title>\n<path fill=\"none\" stroke=\"black\" d=\"M74.65,-215.91C76.68,-205.57 78.98,-192.09 80,-180 81.34,-164.06 81.34,-159.94 80,-144 78.98,-131.91 76.68,-118.43 74.65,-108.09\"/>\n</g>\n<!-- f&#45;&#45;g -->\n<g id=\"edge9\" class=\"edge\">\n<title>f&#45;&#45;g</title>\n<path fill=\"none\" stroke=\"black\" d=\"M50.4,-144.41C54.64,-133.41 60.19,-119.03 64.46,-107.96\"/>\n</g>\n<!-- h -->\n<g id=\"node8\" class=\"node\">\n<title>h</title>\n<ellipse fill=\"none\" stroke=\"black\" cx=\"71\" cy=\"-18\" rx=\"27\" ry=\"18\"/>\n<text text-anchor=\"middle\" x=\"71\" y=\"-14.3\" font-family=\"Times New Roman,serif\" font-size=\"14.00\">h</text>\n</g>\n<!-- g&#45;&#45;h -->\n<g id=\"edge10\" class=\"edge\">\n<title>g&#45;&#45;h</title>\n<path fill=\"none\" stroke=\"black\" d=\"M71,-71.7C71,-60.85 71,-46.92 71,-36.1\"/>\n</g>\n</g>\n</svg>\n",
      "text/plain": [
       "<graphviz.graphs.Graph at 0x24397f068e0>"
      ]
     },
     "execution_count": 54,
     "metadata": {},
     "output_type": "execute_result"
    }
   ],
   "source": [
    "# Votre code ici.\n",
    "G1 = Graphe()\n",
    "for s in ['a','b','c','d', 'e', 'f', 'g', 'h'] : \n",
    "    G1.ajoute_sommet(s) \n",
    "\n",
    "G1.ajoute_arete('a', 'b')\n",
    "G1.ajoute_arete('a', 'c')\n",
    "G1.ajoute_arete('c', 'd')\n",
    "G1.ajoute_arete('b', 'd')\n",
    "\n",
    "G1.ajoute_arete('b', 'e')\n",
    "G1.ajoute_arete('e', 'd')\n",
    "G1.ajoute_arete('e', 'f')\n",
    "G1.ajoute_arete('e', 'g')\n",
    "\n",
    "G1.ajoute_arete('g', 'h')\n",
    "G1.ajoute_arete('f', 'g')\n",
    "\n",
    "G1.affiche()\n",
    "    "
   ]
  },
  {
   "cell_type": "code",
   "execution_count": null,
   "metadata": {
    "editable": false
   },
   "outputs": [],
   "source": [
    "# Test des différentes méthodes précédentes\n",
    "# permet de voir que vos méthodes ont l'air correctes, c'est le cas si cette cellule ne renvoie pas d'erreur\n",
    "GTestBis=Graphe()\n",
    "for i in range(0,10,2):\n",
    "    for j in range(1,10,2):\n",
    "        GTestBis.ajoute_arete(i,j)\n",
    "assert [GTestBis.arete(i,j) for i in range(10) for j in range(10)]==[(i-j)%2==1 for i in range(10) for j in range(10)]\n",
    "assert [GTestBis.voisins(i) for i in range(10)]==[[1, 3, 5, 7, 9], [0, 2, 4, 6, 8], [1, 3, 5, 7, 9], [0, 2, 4, 6, 8], [1, 3, 5, 7, 9], [0, 2, 4, 6, 8], [1, 3, 5, 7, 9], [0, 2, 4, 6, 8], [1, 3, 5, 7, 9], [0, 2, 4, 6, 8]]\n",
    "assert [GTestBis.degre(i) for i in range(10)]==[5, 5, 5, 5, 5, 5, 5, 5, 5, 5]\n",
    "assert GTestBis.nb_aretes()==25"
   ]
  },
  {
   "cell_type": "markdown",
   "metadata": {},
   "source": [
    "## Implémentation d'un graphe orienté avec un dictionnaire d'adjacence"
   ]
  },
  {
   "cell_type": "markdown",
   "metadata": {},
   "source": [
    "<div class=\"alert alert-warning\" role=\"alert\">\n",
    "    \n",
    "### Exercice 3\n",
    "On considère la classe `DiGraphe` ci-dessous qu'il faudra **compléter et tester au fur et à mesure**.\n",
    "    \n",
    "On utilisera un dictionnaire d'adjacence : les clés seront les sommets du graphe et la valeur associée à une clé sera la liste de ses prédecesseurs.\n",
    "    \n",
    "</div>"
   ]
  },
  {
   "cell_type": "code",
   "execution_count": 29,
   "metadata": {},
   "outputs": [],
   "source": [
    "from graphviz import Digraph\n",
    "class DiGraphe:    \n",
    "    def __init__(self):\n",
    "        ''' Le constructeur de la classe dont le seul attribut d'instance est le dictionnaire d'adjacence d\n",
    "            Exemple: G=DiGraphe() instancie un graphe orienté vide'''\n",
    "        self.d = dict() # dictionnaire d'adjacence\n",
    "        \n",
    "    def ajoute_sommet(self,s):\n",
    "        '''Ajoute le sommet s au graphe si celui-ci est un nouveau sommet''' \n",
    "        self.d[s] = []\n",
    "    \n",
    "    def ajoute_arc(self,s,t):\n",
    "        '''Ajoute si nécessaire les sommets s et t puis crée si il n'existait pas un arc de s vers t'''\n",
    "       \n",
    "        \n",
    "    def arc(self,s,t):\n",
    "        '''Renvoie True s'il y a un arc de s vers t, et False sinon'''\n",
    "        return (t in self.d[s])\n",
    "    \n",
    "    def sommets(self):\n",
    "        '''Renvoie la liste de tous les sommets du graphe'''\n",
    "        pass\n",
    "    \n",
    "    def successeurs(self,s):\n",
    "        '''Renvoie la liste des successeurs de s'''\n",
    "        pass\n",
    "    \n",
    "    def degreSortant(self,s):\n",
    "        '''Renvoie le nb d'arcs sortant de s'''\n",
    "        pass\n",
    "    \n",
    "    def degreEntrant(self,s):\n",
    "        '''Renvoie le nb d'arcs entrant dans s'''\n",
    "        pass\n",
    "    \n",
    "    def affiche(self): \n",
    "        \"Affichage du graphe en utilisant le module graphviz\"\n",
    "        dot = Digraph('G')\n",
    "        for s in self.sommets():\n",
    "            for t in self.sommets():\n",
    "                if t in self.d[s]:\n",
    "                    dot.edge(s,t)        \n",
    "        return dot"
   ]
  },
  {
   "cell_type": "markdown",
   "metadata": {},
   "source": [
    "#### Question 1\n",
    "Compléter les méthodes `ajoute_sommet` puis `ajoute_arc` ci-dessus puis les tester avec l'exemple suivant"
   ]
  },
  {
   "cell_type": "code",
   "execution_count": 30,
   "metadata": {},
   "outputs": [
    {
     "ename": "KeyError",
     "evalue": "'A'",
     "output_type": "error",
     "traceback": [
      "\u001b[1;31m---------------------------------------------------------------------------\u001b[0m",
      "\u001b[1;31mKeyError\u001b[0m                                  Traceback (most recent call last)",
      "\u001b[1;32mC:\\Users\\UTILIS~1\\AppData\\Local\\Temp/ipykernel_10816/381423686.py\u001b[0m in \u001b[0;36m<module>\u001b[1;34m\u001b[0m\n\u001b[0;32m      1\u001b[0m \u001b[1;31m# Exemple\u001b[0m\u001b[1;33m\u001b[0m\u001b[1;33m\u001b[0m\u001b[1;33m\u001b[0m\u001b[0m\n\u001b[0;32m      2\u001b[0m \u001b[0mg\u001b[0m \u001b[1;33m=\u001b[0m \u001b[0mDiGraphe\u001b[0m\u001b[1;33m(\u001b[0m\u001b[1;33m)\u001b[0m\u001b[1;33m\u001b[0m\u001b[1;33m\u001b[0m\u001b[0m\n\u001b[1;32m----> 3\u001b[1;33m \u001b[0mg\u001b[0m\u001b[1;33m.\u001b[0m\u001b[0majoute_arc\u001b[0m\u001b[1;33m(\u001b[0m\u001b[1;34m\"A\"\u001b[0m\u001b[1;33m,\u001b[0m\u001b[1;34m\"B\"\u001b[0m\u001b[1;33m)\u001b[0m\u001b[1;33m\u001b[0m\u001b[1;33m\u001b[0m\u001b[0m\n\u001b[0m\u001b[0;32m      4\u001b[0m \u001b[0mg\u001b[0m\u001b[1;33m.\u001b[0m\u001b[0majoute_arc\u001b[0m\u001b[1;33m(\u001b[0m\u001b[1;34m\"A\"\u001b[0m\u001b[1;33m,\u001b[0m\u001b[1;34m\"D\"\u001b[0m\u001b[1;33m)\u001b[0m\u001b[1;33m\u001b[0m\u001b[1;33m\u001b[0m\u001b[0m\n\u001b[0;32m      5\u001b[0m \u001b[0mg\u001b[0m\u001b[1;33m.\u001b[0m\u001b[0majoute_arc\u001b[0m\u001b[1;33m(\u001b[0m\u001b[1;34m\"B\"\u001b[0m\u001b[1;33m,\u001b[0m\u001b[1;34m\"C\"\u001b[0m\u001b[1;33m)\u001b[0m\u001b[1;33m\u001b[0m\u001b[1;33m\u001b[0m\u001b[0m\n",
      "\u001b[1;32mC:\\Users\\UTILIS~1\\AppData\\Local\\Temp/ipykernel_10816/2415174224.py\u001b[0m in \u001b[0;36majoute_arc\u001b[1;34m(self, s, t)\u001b[0m\n\u001b[0;32m     13\u001b[0m         \u001b[1;34m'''Ajoute si nécessaire les sommets s et t puis crée si il n'existait pas un arc de s vers t'''\u001b[0m\u001b[1;33m\u001b[0m\u001b[1;33m\u001b[0m\u001b[0m\n\u001b[0;32m     14\u001b[0m         \u001b[1;31m# S -> T\u001b[0m\u001b[1;33m\u001b[0m\u001b[1;33m\u001b[0m\u001b[1;33m\u001b[0m\u001b[0m\n\u001b[1;32m---> 15\u001b[1;33m         \u001b[1;32mif\u001b[0m \u001b[0mself\u001b[0m\u001b[1;33m.\u001b[0m\u001b[0md\u001b[0m\u001b[1;33m[\u001b[0m\u001b[0ms\u001b[0m\u001b[1;33m]\u001b[0m \u001b[1;33m!=\u001b[0m \u001b[1;32mNone\u001b[0m\u001b[1;33m:\u001b[0m\u001b[1;33m\u001b[0m\u001b[1;33m\u001b[0m\u001b[0m\n\u001b[0m\u001b[0;32m     16\u001b[0m             \u001b[0mself\u001b[0m\u001b[1;33m.\u001b[0m\u001b[0md\u001b[0m\u001b[1;33m[\u001b[0m\u001b[0ms\u001b[0m\u001b[1;33m]\u001b[0m\u001b[1;33m.\u001b[0m\u001b[0mappend\u001b[0m\u001b[1;33m(\u001b[0m\u001b[0mt\u001b[0m\u001b[1;33m)\u001b[0m\u001b[1;33m\u001b[0m\u001b[1;33m\u001b[0m\u001b[0m\n\u001b[0;32m     17\u001b[0m         \u001b[1;32melse\u001b[0m \u001b[1;33m:\u001b[0m\u001b[1;33m\u001b[0m\u001b[1;33m\u001b[0m\u001b[0m\n",
      "\u001b[1;31mKeyError\u001b[0m: 'A'"
     ]
    }
   ],
   "source": [
    "# Exemple\n",
    "g = DiGraphe()\n",
    "g.ajoute_arc(\"A\",\"B\")\n",
    "g.ajoute_arc(\"A\",\"D\")\n",
    "g.ajoute_arc(\"B\",\"C\")\n",
    "g.ajoute_arc(\"D\",\"B\")\n",
    "g.affiche()"
   ]
  },
  {
   "cell_type": "markdown",
   "metadata": {},
   "source": [
    "#### Question 2\n",
    "Compléter la méthode `arc` de la classe DiGraphe plus haut puis la tester"
   ]
  },
  {
   "cell_type": "code",
   "execution_count": null,
   "metadata": {},
   "outputs": [],
   "source": [
    "# Jeu de tests de la méthode arc (pensez à tester l'arc entre s et t et aussi entre t et s)\n"
   ]
  },
  {
   "cell_type": "code",
   "execution_count": null,
   "metadata": {},
   "outputs": [],
   "source": [
    "# Jeu de tests de la méthode arc (pensez à tester l'arc entre s et t et aussi entre t et s)\n"
   ]
  },
  {
   "cell_type": "markdown",
   "metadata": {},
   "source": [
    "#### Question 3\n",
    "Compléter la méthode `sommets` de la classe Graphe plus haut puis la tester"
   ]
  },
  {
   "cell_type": "code",
   "execution_count": null,
   "metadata": {},
   "outputs": [],
   "source": [
    "# test avec la méthode sommets\n"
   ]
  },
  {
   "cell_type": "markdown",
   "metadata": {},
   "source": [
    "#### Question 4\n",
    "Compléter la méthode `successeurs` de la classe DiGraphe plus haut puis la tester"
   ]
  },
  {
   "cell_type": "code",
   "execution_count": null,
   "metadata": {},
   "outputs": [],
   "source": [
    "# Jeu de tests avec la méthode voisins\n"
   ]
  },
  {
   "cell_type": "code",
   "execution_count": null,
   "metadata": {},
   "outputs": [],
   "source": []
  },
  {
   "cell_type": "markdown",
   "metadata": {},
   "source": [
    "#### Question 5\n",
    "Compléter la méthode `degreSortant` de la classe DiGraphe plus haut puis la tester"
   ]
  },
  {
   "cell_type": "code",
   "execution_count": null,
   "metadata": {},
   "outputs": [],
   "source": [
    "# Jeu de tests avec la méthode degreSortant\n"
   ]
  },
  {
   "cell_type": "markdown",
   "metadata": {},
   "source": [
    "#### Question 6\n",
    "Compléter la méthode `degreEntrant` de la classe DiGraphe plus haut puis la tester"
   ]
  },
  {
   "cell_type": "code",
   "execution_count": null,
   "metadata": {},
   "outputs": [],
   "source": [
    "# Jeu de tests avec la méthode degreEntrant\n"
   ]
  },
  {
   "cell_type": "code",
   "execution_count": null,
   "metadata": {
    "editable": false
   },
   "outputs": [],
   "source": [
    "# Test des différentes méthodes précédentes\n",
    "# permet de voir que vos méthodes ont l'air correctes, c'est le cas si cette cellule ne renvoie pas d'erreur\n",
    "GTestTer=DiGraphe()\n",
    "for i in range(0,10,2):\n",
    "    for j in range(1,10,2):\n",
    "        GTestTer.ajoute_arc(i,j)\n",
    "assert [GTestTer.arc(i,j) for i in range(10) for j in range(10)]==[(i%2==0 and j%2==1) for i in range(10) for j in range(10)]\n",
    "assert [GTestTer.successeurs(i) for i in range(10)]==[[1, 3, 5, 7, 9], [], [1, 3, 5, 7, 9], [], [1, 3, 5, 7, 9], [], [1, 3, 5, 7, 9], [], [1, 3, 5, 7, 9], []]\n",
    "assert [GTestTer.degreSortant(i) for i in range(10)]==[5, 0, 5, 0, 5, 0, 5, 0, 5, 0]\n",
    "assert [GTestTer.degreEntrant(i) for i in range(10)]==[0, 5, 0, 5, 0, 5, 0, 5, 0, 5]"
   ]
  }
 ],
 "metadata": {
  "celltoolbar": "Éditer les Méta-Données",
  "kernelspec": {
   "display_name": "Python 3 (ipykernel)",
   "language": "python",
   "name": "python3"
  },
  "language_info": {
   "codemirror_mode": {
    "name": "ipython",
    "version": 3
   },
   "file_extension": ".py",
   "mimetype": "text/x-python",
   "name": "python",
   "nbconvert_exporter": "python",
   "pygments_lexer": "ipython3",
   "version": "3.9.1"
  }
 },
 "nbformat": 4,
 "nbformat_minor": 2
}
