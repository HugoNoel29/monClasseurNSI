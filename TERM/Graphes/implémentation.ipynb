{
 "cells": [
  {
   "cell_type": "markdown",
   "metadata": {},
   "source": [
    "<h1>Implémentation en Python"
   ]
  },
  {
   "cell_type": "code",
   "execution_count": 1,
   "metadata": {},
   "outputs": [],
   "source": [
    "#Dépendances\n",
    "from graphviz import Graph"
   ]
  },
  {
   "cell_type": "markdown",
   "metadata": {},
   "source": [
    "<h3> Matrice d'adjacence"
   ]
  },
  {
   "cell_type": "code",
   "execution_count": 2,
   "metadata": {},
   "outputs": [],
   "source": [
    "class Graphe:    \n",
    "    def __init__(self,n):\n",
    "        ''' Le constructeur de la classe dont les attributs d'instance sont n et adj\n",
    "            Exemple: G=Graphe(5) instancie un graphe d'ordre 5 de sommets 0,1,2,3,4 sans aucune arête'''\n",
    "        self.n = n \n",
    "        self.adj = [[False]*n for _ in range(n)] # liste d'adjacence\n",
    "        \n",
    "    def ajoute_arete(self,i,j):\n",
    "        '''Ajoute une arête entre i et j et entre j et i'''\n",
    "        self.adj[i][j] = True\n",
    "        self.adj[j][i] = True\n",
    "        \n",
    "    def arete(self,i,j):\n",
    "        '''Renvoie True s'il y a une arête entre i et j et False sinon'''\n",
    "        return self.adj[i][j]\n",
    "    \n",
    "    def voisins(self,i):\n",
    "        '''Renvoie la liste des voisins de i'''\n",
    "        liste_arete = []\n",
    "        for k in range(len(self.adj[i])) :\n",
    "            if self.adj[i][k] :\n",
    "                liste_arete.append(k)\n",
    "        return liste_arete\n",
    "    \n",
    "    def degre(self,i):\n",
    "        '''Renvoie le degré du sommet i''' #Nombre de liens\n",
    "        degre = 0\n",
    "        for k in range(len(self.adj[i])) :\n",
    "            if self.adj[i][k] :\n",
    "                degre += 1\n",
    "        return degre\n",
    "        \n",
    "    \n",
    "    def nb_aretes(self):\n",
    "        '''Renvoie le nb d'arêtes du graphe'''\n",
    "        nb_aretes = 0\n",
    "        for k in range(self.n) :\n",
    "            for l in range(k, len(self.adj[k])) :\n",
    "                if self.adj[k][l] :\n",
    "                    nb_aretes += 1\n",
    "        return nb_aretes\n",
    "\n",
    "    \n",
    "    def affiche(self): \n",
    "        \"Affichage du graphe en utilisant le module graphviz\"\n",
    "        dot = Graph('G')\n",
    "        for i in range(self.n):\n",
    "            for j in range(self.n): \n",
    "                # Condition pour éviter les doubles arêtes\n",
    "                if self.adj[i][j] and '{} -- {}'.format(j,i) not in dot.source:\n",
    "                    # dot.edge n'accepte que le type str\n",
    "                    dot.edge(str(i),str(j))        \n",
    "        return dot"
   ]
  },
  {
   "cell_type": "markdown",
   "metadata": {},
   "source": [
    "<h3> Dictionnaire non orienté"
   ]
  },
  {
   "cell_type": "code",
   "execution_count": 3,
   "metadata": {},
   "outputs": [],
   "source": [
    "class Graphe:    \n",
    "    def __init__(self):\n",
    "        ''' Le constructeur de la classe dont le seul attribut d'instance est le dictionnaire d'adjacence d\n",
    "            Exemple: G=Graphe() instancie un graphe vide'''\n",
    "        self.d = dict() # dictionnaire d'adjacence\n",
    "        \n",
    "    def ajoute_sommet(self,s):\n",
    "        '''Ajoute le sommet s au graphe si celui-ci est un nouveau sommet''' \n",
    "        self.d[s] = []\n",
    "    \n",
    "    def ajoute_arete(self,s,t):\n",
    "        '''Ajoute si nécessaire les sommets s et t puis crée si elle n'existait pas une arête entre s et t'''\n",
    "         # S -> T\n",
    "        if s in self.d:\n",
    "            self.d[s].append(t)\n",
    "        else :\n",
    "            self.ajoute_sommet(s)\n",
    "            self.d[s].append(t)\n",
    "\n",
    "        # T -> S\n",
    "        if t in self.d :\n",
    "            self.d[t].append(s)\n",
    "        else :\n",
    "            self.ajoute_sommet(t)\n",
    "            self.d[t].append(s)\n",
    "        \n",
    "    def arete(self,s,t):\n",
    "        '''Renvoie True s'il y a une arête entre s et t et False sinon'''\n",
    "        if t in self.d[s] or s in self.d[t] :\n",
    "            return True\n",
    "        else :\n",
    "            return False\n",
    "    \n",
    "    def sommets(self):\n",
    "        '''Renvoie la liste de tous les sommets du graphe'''\n",
    "        liste_sommets = []\n",
    "        for k in self.d :\n",
    "            liste_sommets.append(k)\n",
    "        return liste_sommets\n",
    "    \n",
    "    def voisins(self,s):\n",
    "        '''Renvoie la liste des voisins de s'''\n",
    "        return self.d[s]\n",
    "    \n",
    "    def degre(self,s):\n",
    "        '''Renvoie le degré du sommet s'''\n",
    "        return len(self.d[s])\n",
    "    \n",
    "    def nb_aretes(self):\n",
    "        '''Renvoie le nb d'arêtes du graphe'''\n",
    "        nb_aretes = 0\n",
    "        for k in self.sommets() :\n",
    "            for _ in self.d[k] :\n",
    "                nb_aretes += 1\n",
    "        return nb_aretes // 2\n",
    "    \n",
    "    def affiche(self): \n",
    "        \"Affichage du graphe en utilisant le module graphviz\"\n",
    "        dot = Graph('G')\n",
    "        for s in self.sommets():\n",
    "            for t in self.sommets(): \n",
    "                # Condition pour éviter les doubles arêtes\n",
    "                if (t in self.d[s]) and '{} -- {}'.format(t,s) not in dot.source:\n",
    "                    dot.edge(s,t)\n",
    "        return dot"
   ]
  },
  {
   "cell_type": "markdown",
   "metadata": {},
   "source": [
    "<h3>Dictionnaire orienté"
   ]
  },
  {
   "cell_type": "code",
   "execution_count": 4,
   "metadata": {},
   "outputs": [],
   "source": [
    "class DiGraphe:    \n",
    "    def __init__(self):\n",
    "        ''' Le constructeur de la classe dont le seul attribut d'instance est le dictionnaire d'adjacence d\n",
    "            Exemple: G=DiGraphe() instancie un graphe orienté vide'''\n",
    "        self.d = dict() # dictionnaire d'adjacence\n",
    "        \n",
    "    def ajoute_sommet(self,s):\n",
    "        '''Ajoute le sommet s au graphe si celui-ci est un nouveau sommet''' \n",
    "        self.d[s] = []\n",
    "    \n",
    "    def ajoute_arc(self,s,t):\n",
    "        '''Ajoute si nécessaire les sommets s et t puis crée si il n'existait pas un arc de s vers t'''\n",
    "        if s in self.d and t in self.d :\n",
    "            self.d[s].append(t)\n",
    "\n",
    "        elif s in self.d :\n",
    "            self.ajoute_sommet(t)\n",
    "            self.d[s].append(t)\n",
    "\n",
    "        elif t in self.d :\n",
    "            self.ajoute_sommet(s)\n",
    "            self.d[s].append(t)\n",
    "        \n",
    "        else :\n",
    "            self.ajoute_sommet(s)\n",
    "            self.ajoute_sommet(t)\n",
    "            self.d[s].append(t)\n",
    "\n",
    "    def arc(self,s,t):\n",
    "        '''Renvoie True s'il y a un arc de s vers t, et False sinon'''\n",
    "        return (t in self.d[s])\n",
    "    \n",
    "    def sommets(self):\n",
    "        '''Renvoie la liste de tous les sommets du graphe'''\n",
    "        liste_sommets = []\n",
    "        for k in self.d :\n",
    "            liste_sommets.append(k)\n",
    "        return liste_sommets\n",
    "    \n",
    "    def successeurs(self,s):\n",
    "        '''Renvoie la liste des successeurs de s'''\n",
    "        liste_successeurs = []\n",
    "        for k in self.d[s] :\n",
    "            liste_successeurs.append(k)\n",
    "        return liste_successeurs\n",
    "    \n",
    "    def degreSortant(self,s):\n",
    "        '''Renvoie le nb d'arcs sortant de s'''\n",
    "        degre_sortant = 0\n",
    "        for _ in self.d[s] :\n",
    "            degre_sortant += 1\n",
    "        return degre_sortant\n",
    "    \n",
    "    def degreEntrant(self,s):\n",
    "        '''Renvoie le nb d'arcs entrant dans s'''\n",
    "        degre_entrant = 0\n",
    "        for k in self.sommets() :\n",
    "            if self.arc(k, s) :\n",
    "                degre_entrant += 1\n",
    "        return degre_entrant\n",
    "    \n",
    "    def affiche(self): \n",
    "        \"Affichage du graphe en utilisant le module graphviz\"\n",
    "        dot = Digraph('G')\n",
    "        for s in self.sommets():\n",
    "            for t in self.sommets():\n",
    "                if t in self.d[s]:\n",
    "                    dot.edge(s,t)        \n",
    "        return dot"
   ]
  },
  {
   "cell_type": "markdown",
   "metadata": {},
   "source": [
    "<h3>File"
   ]
  },
  {
   "cell_type": "code",
   "execution_count": 5,
   "metadata": {},
   "outputs": [],
   "source": [
    "class File :\n",
    "    \n",
    "    '''classe File création d’une instance File avec une liste'''\n",
    "\n",
    "    def __init__(self):\n",
    "        '''Initialisation d’une pile vide'''\n",
    "        self.f = []\n",
    "        \n",
    "    def vide(self):\n",
    "        '''teste si la pile est vide'''\n",
    "        return self.f == []\n",
    "\n",
    "    def defiler(self):\n",
    "        '''défile'''\n",
    "        assert not self.vide(), \"file vide\"\n",
    "        return self.f.pop(0)\n",
    "\n",
    "    def enfiler(self,x):\n",
    "        '''enfile'''\n",
    "        self.f.append(x)\n",
    "\n",
    "    def affiche(self) :\n",
    "        return self.f\n",
    "\n",
    "    def taille(self) :\n",
    "        return len(self.f)\n",
    "\n",
    "    def sommet(self) :\n",
    "        assert not self.vide(), \"file vide\"\n",
    "        return self.f[0]"
   ]
  },
  {
   "cell_type": "markdown",
   "metadata": {},
   "source": [
    "<h3>Pile"
   ]
  },
  {
   "cell_type": "code",
   "execution_count": 6,
   "metadata": {},
   "outputs": [],
   "source": [
    "class Pile :\n",
    "        \n",
    "    '''classe Pile création d’une instance Pile avec une liste'''\n",
    "\n",
    "    def __init__(self):\n",
    "        '''Initialisation d’une pile vide'''\n",
    "        self.L=[]\n",
    "        \n",
    "    def vide(self):\n",
    "        '''teste si la pile est vide'''\n",
    "        return self.L==[]\n",
    "\n",
    "    def depiler(self):\n",
    "        '''dépile'''\n",
    "        assert not self.vide(),\"Pile vide\"\n",
    "        return self.L.pop()\n",
    "\n",
    "    def empiler(self,x):\n",
    "        '''empile'''\n",
    "        self.L.append(x)\n",
    "\n",
    "    #####################\n",
    "    def sommet(self):\n",
    "        return self.L[-1]\n",
    "\n",
    "    def taille(self):\n",
    "        return len(self.L)\n",
    "\n",
    "    def affiche(self) :\n",
    "        return self.L"
   ]
  },
  {
   "cell_type": "markdown",
   "metadata": {},
   "source": [
    "<h3>10.6"
   ]
  },
  {
   "cell_type": "code",
   "execution_count": 7,
   "metadata": {},
   "outputs": [
    {
     "data": {
      "image/svg+xml": "<?xml version=\"1.0\" encoding=\"UTF-8\" standalone=\"no\"?>\n<!DOCTYPE svg PUBLIC \"-//W3C//DTD SVG 1.1//EN\"\n \"http://www.w3.org/Graphics/SVG/1.1/DTD/svg11.dtd\">\n<!-- Generated by graphviz version 3.0.0 (20220226.1711)\n -->\n<!-- Title: G Pages: 1 -->\n<svg width=\"154pt\" height=\"476pt\"\n viewBox=\"0.00 0.00 153.58 476.00\" xmlns=\"http://www.w3.org/2000/svg\" xmlns:xlink=\"http://www.w3.org/1999/xlink\">\n<g id=\"graph0\" class=\"graph\" transform=\"scale(1 1) rotate(0) translate(4 472)\">\n<title>G</title>\n<polygon fill=\"white\" stroke=\"transparent\" points=\"-4,4 -4,-472 149.58,-472 149.58,4 -4,4\"/>\n<!-- D -->\n<g id=\"node1\" class=\"node\">\n<title>D</title>\n<ellipse fill=\"none\" stroke=\"black\" cx=\"67\" cy=\"-450\" rx=\"27\" ry=\"18\"/>\n<text text-anchor=\"middle\" x=\"67\" y=\"-446.3\" font-family=\"Times New Roman,serif\" font-size=\"14.00\">D</text>\n</g>\n<!-- E -->\n<g id=\"node2\" class=\"node\">\n<title>E</title>\n<ellipse fill=\"none\" stroke=\"black\" cx=\"40\" cy=\"-378\" rx=\"27\" ry=\"18\"/>\n<text text-anchor=\"middle\" x=\"40\" y=\"-374.3\" font-family=\"Times New Roman,serif\" font-size=\"14.00\">E</text>\n</g>\n<!-- D&#45;&#45;E -->\n<g id=\"edge1\" class=\"edge\">\n<title>D&#45;&#45;E</title>\n<path fill=\"none\" stroke=\"black\" d=\"M60.6,-432.41C56.36,-421.41 50.81,-407.03 46.54,-395.96\"/>\n</g>\n<!-- C -->\n<g id=\"node3\" class=\"node\">\n<title>C</title>\n<ellipse fill=\"none\" stroke=\"black\" cx=\"95\" cy=\"-306\" rx=\"27\" ry=\"18\"/>\n<text text-anchor=\"middle\" x=\"95\" y=\"-302.3\" font-family=\"Times New Roman,serif\" font-size=\"14.00\">C</text>\n</g>\n<!-- D&#45;&#45;C -->\n<g id=\"edge2\" class=\"edge\">\n<title>D&#45;&#45;C</title>\n<path fill=\"none\" stroke=\"black\" d=\"M70.38,-431.87C75.76,-404.58 86.22,-351.52 91.61,-324.19\"/>\n</g>\n<!-- E&#45;&#45;C -->\n<g id=\"edge3\" class=\"edge\">\n<title>E&#45;&#45;C</title>\n<path fill=\"none\" stroke=\"black\" d=\"M51.93,-361.81C61.16,-350.07 73.87,-333.89 83.09,-322.16\"/>\n</g>\n<!-- G -->\n<g id=\"node4\" class=\"node\">\n<title>G</title>\n<ellipse fill=\"none\" stroke=\"black\" cx=\"27\" cy=\"-90\" rx=\"27\" ry=\"18\"/>\n<text text-anchor=\"middle\" x=\"27\" y=\"-86.3\" font-family=\"Times New Roman,serif\" font-size=\"14.00\">G</text>\n</g>\n<!-- E&#45;&#45;G -->\n<g id=\"edge4\" class=\"edge\">\n<title>E&#45;&#45;G</title>\n<path fill=\"none\" stroke=\"black\" d=\"M39.23,-359.97C36.92,-309.22 30.11,-159.41 27.79,-108.31\"/>\n</g>\n<!-- A -->\n<g id=\"node5\" class=\"node\">\n<title>A</title>\n<ellipse fill=\"none\" stroke=\"black\" cx=\"99\" cy=\"-234\" rx=\"27\" ry=\"18\"/>\n<text text-anchor=\"middle\" x=\"99\" y=\"-230.3\" font-family=\"Times New Roman,serif\" font-size=\"14.00\">A</text>\n</g>\n<!-- C&#45;&#45;A -->\n<g id=\"edge5\" class=\"edge\">\n<title>C&#45;&#45;A</title>\n<path fill=\"none\" stroke=\"black\" d=\"M95.99,-287.7C96.61,-276.85 97.4,-262.92 98.02,-252.1\"/>\n</g>\n<!-- H -->\n<g id=\"node7\" class=\"node\">\n<title>H</title>\n<ellipse fill=\"none\" stroke=\"black\" cx=\"99\" cy=\"-18\" rx=\"27\" ry=\"18\"/>\n<text text-anchor=\"middle\" x=\"99\" y=\"-14.3\" font-family=\"Times New Roman,serif\" font-size=\"14.00\">H</text>\n</g>\n<!-- G&#45;&#45;H -->\n<g id=\"edge8\" class=\"edge\">\n<title>G&#45;&#45;H</title>\n<path fill=\"none\" stroke=\"black\" d=\"M41.57,-74.83C53.98,-62.77 71.73,-45.51 84.2,-33.38\"/>\n</g>\n<!-- F -->\n<g id=\"node8\" class=\"node\">\n<title>F</title>\n<ellipse fill=\"none\" stroke=\"black\" cx=\"27\" cy=\"-18\" rx=\"27\" ry=\"18\"/>\n<text text-anchor=\"middle\" x=\"27\" y=\"-14.3\" font-family=\"Times New Roman,serif\" font-size=\"14.00\">F</text>\n</g>\n<!-- G&#45;&#45;F -->\n<g id=\"edge9\" class=\"edge\">\n<title>G&#45;&#45;F</title>\n<path fill=\"none\" stroke=\"black\" d=\"M27,-71.7C27,-60.85 27,-46.92 27,-36.1\"/>\n</g>\n<!-- B -->\n<g id=\"node6\" class=\"node\">\n<title>B</title>\n<ellipse fill=\"none\" stroke=\"black\" cx=\"99\" cy=\"-162\" rx=\"27\" ry=\"18\"/>\n<text text-anchor=\"middle\" x=\"99\" y=\"-158.3\" font-family=\"Times New Roman,serif\" font-size=\"14.00\">B</text>\n</g>\n<!-- A&#45;&#45;B -->\n<g id=\"edge6\" class=\"edge\">\n<title>A&#45;&#45;B</title>\n<path fill=\"none\" stroke=\"black\" d=\"M99,-215.7C99,-204.85 99,-190.92 99,-180.1\"/>\n</g>\n<!-- A&#45;&#45;H -->\n<g id=\"edge7\" class=\"edge\">\n<title>A&#45;&#45;H</title>\n<path fill=\"none\" stroke=\"black\" d=\"M112.75,-218.07C120.96,-208.1 130.62,-194.25 135,-180 149.11,-134.12 149.11,-117.88 135,-72 130.62,-57.75 120.96,-43.9 112.75,-33.93\"/>\n</g>\n<!-- I -->\n<g id=\"node9\" class=\"node\">\n<title>I</title>\n<ellipse fill=\"none\" stroke=\"black\" cx=\"99\" cy=\"-90\" rx=\"27\" ry=\"18\"/>\n<text text-anchor=\"middle\" x=\"99\" y=\"-86.3\" font-family=\"Times New Roman,serif\" font-size=\"14.00\">I</text>\n</g>\n<!-- B&#45;&#45;I -->\n<g id=\"edge10\" class=\"edge\">\n<title>B&#45;&#45;I</title>\n<path fill=\"none\" stroke=\"black\" d=\"M99,-143.7C99,-132.85 99,-118.92 99,-108.1\"/>\n</g>\n<!-- I&#45;&#45;H -->\n<g id=\"edge11\" class=\"edge\">\n<title>I&#45;&#45;H</title>\n<path fill=\"none\" stroke=\"black\" d=\"M99,-71.7C99,-60.85 99,-46.92 99,-36.1\"/>\n</g>\n<!-- I&#45;&#45;F -->\n<g id=\"edge12\" class=\"edge\">\n<title>I&#45;&#45;F</title>\n<path fill=\"none\" stroke=\"black\" d=\"M84.43,-74.83C72.02,-62.77 54.27,-45.51 41.8,-33.38\"/>\n</g>\n</g>\n</svg>\n",
      "text/plain": [
       "<graphviz.graphs.Graph at 0x21e0ab90b20>"
      ]
     },
     "execution_count": 7,
     "metadata": {},
     "output_type": "execute_result"
    }
   ],
   "source": [
    "# 1\n",
    "\n",
    "g1 = Graphe()\n",
    "g1.ajoute_arete(\"D\", \"E\")\n",
    "g1.ajoute_arete(\"D\", \"C\")\n",
    "g1.ajoute_arete(\"C\", \"A\")\n",
    "g1.ajoute_arete(\"C\", \"E\")\n",
    "g1.ajoute_arete(\"E\", \"G\")\n",
    "g1.ajoute_arete(\"A\", \"B\")\n",
    "g1.ajoute_arete(\"B\", \"I\")\n",
    "\n",
    "g1.ajoute_arete(\"I\", \"H\")\n",
    "g1.ajoute_arete(\"I\", \"F\")\n",
    "g1.ajoute_arete(\"A\", \"H\")\n",
    "g1.ajoute_arete(\"G\", \"F\")\n",
    "g1.ajoute_arete(\"G\", \"H\")\n",
    "\n",
    "g1.affiche()"
   ]
  },
  {
   "cell_type": "code",
   "execution_count": 8,
   "metadata": {},
   "outputs": [],
   "source": [
    "#2\n",
    "\n",
    "def bfs(graphe : Graphe, sommet_depart : str) -> list:\n",
    "\n",
    "    g2 = graphe\n",
    "    s = sommet_depart\n",
    "    f = File()\n",
    "    liste_sommets_parcourus = []\n",
    "\n",
    "    couleur = dict()\n",
    "    for i in g2.sommets() :\n",
    "        couleur[i] = \"blanc\"\n",
    "\n",
    "    couleur[s]= \"noir\"\n",
    "    f.enfiler(s)\n",
    "    liste_sommets_parcourus.append(s)\n",
    "    while not f.vide() :\n",
    "        u = f.defiler()\n",
    "        for v in g2.voisins(u) :\n",
    "            if couleur[v] != \"noir\" :\n",
    "                couleur[v] = \"noir\"\n",
    "                f.enfiler(v)\n",
    "                liste_sommets_parcourus.append(v)\n",
    "    return liste_sommets_parcourus"
   ]
  },
  {
   "cell_type": "code",
   "execution_count": 9,
   "metadata": {},
   "outputs": [
    {
     "data": {
      "text/plain": [
       "['A', 'C', 'B', 'H', 'D', 'E', 'I', 'G', 'F']"
      ]
     },
     "execution_count": 9,
     "metadata": {},
     "output_type": "execute_result"
    }
   ],
   "source": [
    "bfs(g1, \"A\")"
   ]
  },
  {
   "cell_type": "code",
   "execution_count": 23,
   "metadata": {},
   "outputs": [],
   "source": [
    "# 3\n",
    "\n",
    "\n",
    "\n",
    "def bps(graphe : Graphe, sommet_depart : str) -> list:\n",
    "\n",
    "    s = sommet_depart\n",
    "    g3 = graphe\n",
    "    p = Pile()\n",
    "    l = [] # Liste des sommets parcourus\n",
    "\n",
    "    couleur = dict()\n",
    "    for i in g3.sommets() :\n",
    "        couleur[i] = \"blanc\"\n",
    "\n",
    "    couleur[s] = \"noir\"\n",
    "    p.empiler(s)\n",
    "    l.append(s)\n",
    "    \n",
    "    while not p.vide() :\n",
    "        u = p.depiler()\n",
    "        for v in g3.voisins(u) :\n",
    "            if couleur[v] != \"noir\" :\n",
    "                couleur[v] = \"noir\"\n",
    "                p.empiler(v)\n",
    "                l.append(v)\n",
    "    return l "
   ]
  },
  {
   "cell_type": "code",
   "execution_count": 24,
   "metadata": {},
   "outputs": [
    {
     "data": {
      "text/plain": [
       "['A', 'C', 'B', 'H', 'I', 'G', 'E', 'F', 'D']"
      ]
     },
     "execution_count": 24,
     "metadata": {},
     "output_type": "execute_result"
    }
   ],
   "source": [
    "bps(g1, \"A\")"
   ]
  },
  {
   "cell_type": "code",
   "execution_count": 21,
   "metadata": {},
   "outputs": [],
   "source": [
    "# 4\n",
    "\n",
    "couleur = dict()\n",
    "for i in g1.sommets() :\n",
    "    couleur[i] = \"blanc\"\n",
    "liste = []\n",
    "\n",
    "def recursif_bps(graphe : Graphe, sommet : str, couleur : dict, l :list) -> list :\n",
    "\n",
    "    g4 = graphe\n",
    "    u = sommet\n",
    "\n",
    "    couleur[u] = \"noir\"\n",
    "    l.append(u)\n",
    "    for v in g4.voisins(u) :\n",
    "        if couleur[v] != \"noir\" :\n",
    "            recursif_bps(g4, v, couleur, l)\n",
    "    return l"
   ]
  },
  {
   "cell_type": "code",
   "execution_count": 22,
   "metadata": {},
   "outputs": [
    {
     "data": {
      "text/plain": [
       "['A', 'C', 'D', 'E', 'G', 'F', 'I', 'B', 'H']"
      ]
     },
     "execution_count": 22,
     "metadata": {},
     "output_type": "execute_result"
    }
   ],
   "source": [
    "recursif_bps(g1, \"A\", couleur, liste)"
   ]
  }
 ],
 "metadata": {
  "interpreter": {
   "hash": "d392c9ddaa6b365e1706bdbc6bd2786d403f6271a103ff8a7f34ee918c5830ad"
  },
  "kernelspec": {
   "display_name": "Python 3.9.1 64-bit",
   "language": "python",
   "name": "python3"
  },
  "language_info": {
   "codemirror_mode": {
    "name": "ipython",
    "version": 3
   },
   "file_extension": ".py",
   "mimetype": "text/x-python",
   "name": "python",
   "nbconvert_exporter": "python",
   "pygments_lexer": "ipython3",
   "version": "3.9.1"
  },
  "orig_nbformat": 4
 },
 "nbformat": 4,
 "nbformat_minor": 2
}
