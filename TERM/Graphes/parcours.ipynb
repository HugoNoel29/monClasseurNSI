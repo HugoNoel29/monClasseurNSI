{
 "cells": [
  {
   "cell_type": "markdown",
   "metadata": {},
   "source": [
    "<h1>Algos de parcours"
   ]
  },
  {
   "cell_type": "markdown",
   "metadata": {},
   "source": [
    "<h3>Parcours en largeur"
   ]
  },
  {
   "cell_type": "code",
   "execution_count": null,
   "metadata": {},
   "outputs": [],
   "source": [
    "VARIABLE\n",
    "G : un graphe\n",
    "s : noeud (origine)\n",
    "u : noeud\n",
    "v : noeud\n",
    "f : file (initialement vide)\n",
    "\n",
    "//On part du principe que pour tout sommet u du graphe G, u.couleur = blanc à l'origine\n",
    "DEBUT\n",
    "s.couleur ← noir\n",
    "enfiler (s,f)\n",
    "tant que f non vide :\n",
    "  u ← defiler(f)\n",
    "  pour chaque sommet v adjacent au sommet u :\n",
    "    si v.couleur n'est pas noir :\n",
    "      v.couleur ← noir\n",
    "      enfiler(v,f)\n",
    "    fin si\n",
    "  fin pour\n",
    "fin tant que\n",
    "FIN"
   ]
  },
  {
   "cell_type": "markdown",
   "metadata": {},
   "source": [
    "<h3>Parcours en profondeur"
   ]
  },
  {
   "cell_type": "code",
   "execution_count": null,
   "metadata": {},
   "outputs": [],
   "source": [
    "VARIABLE\n",
    "G : un graphe\n",
    "u : noeud\n",
    "v : noeud\n",
    "//On part du principe que pour tout sommet u du graphe G, u.couleur = blanc à l'origine\n",
    "DEBUT\n",
    "PARCOURS-PROFONDEUR(G,u) :\n",
    "  u.couleur ← noir\n",
    "  pour chaque sommet v adjacent au sommet u :\n",
    "    si v.couleur n'est pas noir :\n",
    "      PARCOURS-PROFONDEUR(G,v)\n",
    "    fin si\n",
    "  fin pour\n",
    "FIN"
   ]
  },
  {
   "cell_type": "code",
   "execution_count": null,
   "metadata": {},
   "outputs": [],
   "source": [
    "VARIABLE\n",
    "s : noeud (origine)\n",
    "G : un graphe\n",
    "u : noeud\n",
    "v : noeud\n",
    "p : pile (pile vide au départ)\n",
    "//On part du principe que pour tout sommet u du graphe G, u.couleur = blanc à l'origine\n",
    "DEBUT\n",
    "s.couleur ← noir\n",
    "piler(s,p)\n",
    "tant que p n'est pas vide :\n",
    "  u ← depiler(p)\n",
    "  pour chaque sommet v adjacent au sommet u :\n",
    "    si v.couleur n'est pas noir :\n",
    "      v.couleur ← noir\n",
    "      piler(v,p)\n",
    "    fin si\n",
    "  fin pour\n",
    "fin tant que\n",
    "FIN"
   ]
  },
  {
   "cell_type": "markdown",
   "metadata": {},
   "source": [
    "<h3>Detection présence cycle"
   ]
  },
  {
   "cell_type": "code",
   "execution_count": null,
   "metadata": {},
   "outputs": [],
   "source": [
    "VARIABLE\n",
    "s : noeud (noeud quelconque)\n",
    "G : un graphe\n",
    "u : noeud\n",
    "v : noeud\n",
    "p : pile (vide au départ)\n",
    "//On part du principe que pour tout sommet u du graphe G, u.couleur = blanc à l'origine\n",
    "DEBUT\n",
    "CYCLE():\n",
    "  piler(s,p)\n",
    "  tant que p n'est pas vide :\n",
    "    u ← depiler(p)\n",
    "    pour chaque sommet v adjacent au sommet u :\n",
    "      si v.couleur n'est pas noir :\n",
    "        piler(v,p)\n",
    "      fin si\n",
    "    fin pour\n",
    "    si u est noir :\n",
    "      renvoie Vrai\n",
    "    sinon :\n",
    "      u.couleur ← noir\n",
    "    fin si\n",
    "  fin tant que\n",
    "  renvoie Faux\n",
    "FIN"
   ]
  },
  {
   "cell_type": "markdown",
   "metadata": {},
   "source": [
    "<h3>Trouver une chaine entre 2 sommets"
   ]
  },
  {
   "cell_type": "code",
   "execution_count": null,
   "metadata": {},
   "outputs": [],
   "source": [
    "VARIABLE\n",
    "G : un graphe\n",
    "start : noeud (noeud de départ)\n",
    "end : noeud (noeud d'arrivé)\n",
    "u : noeud\n",
    "chaine : ensemble de noeuds (initialement vide)\n",
    "\n",
    "DEBUT\n",
    "TROUVE-CHAINE(G, start, end, chaine):\n",
    "  chaine = chaine ⋃ start //le symbol ⋃ signifie union, il permet d'ajouter le noeud start à l'ensemble chaine\n",
    "  si start est identique à end :\n",
    "    renvoie chaine\n",
    "  fin si\n",
    "  pour chaque sommet u adjacent au sommet start :\n",
    "    si u n'appartient pas à chaine :\n",
    "      nchemin = TROUVE-CHAINE(G, u, end, chaine)\n",
    "      si nchemin non vide :\n",
    "        renvoie nchemin\n",
    "      fin si\n",
    "    fin si\n",
    "  fin pour\n",
    "renvoie NIL\n",
    "FIN"
   ]
  },
  {
   "cell_type": "markdown",
   "metadata": {},
   "source": [
    "<h1>Activités"
   ]
  },
  {
   "cell_type": "markdown",
   "metadata": {},
   "source": [
    "<h3> 10.1"
   ]
  },
  {
   "cell_type": "code",
   "execution_count": null,
   "metadata": {},
   "outputs": [],
   "source": [
    "A - B - D - C - E"
   ]
  },
  {
   "cell_type": "markdown",
   "metadata": {},
   "source": [
    "<h3>10.2"
   ]
  },
  {
   "cell_type": "code",
   "execution_count": null,
   "metadata": {},
   "outputs": [],
   "source": [
    "A - B - E - C - D"
   ]
  },
  {
   "cell_type": "markdown",
   "metadata": {},
   "source": [
    "<h3>10.3"
   ]
  },
  {
   "cell_type": "code",
   "execution_count": null,
   "metadata": {},
   "outputs": [],
   "source": [
    "F -> B -> A -> C -> D -> False car en D on ne peut aller qu'en C et C est déjà noir"
   ]
  },
  {
   "cell_type": "markdown",
   "metadata": {},
   "source": [
    "<h3>10.4"
   ]
  },
  {
   "cell_type": "code",
   "execution_count": null,
   "metadata": {},
   "outputs": [],
   "source": [
    "F -> B -> A -> C -> D -> F -> True on peut faire une boucle"
   ]
  },
  {
   "cell_type": "markdown",
   "metadata": {},
   "source": [
    "<h3>10.5"
   ]
  },
  {
   "cell_type": "code",
   "execution_count": null,
   "metadata": {},
   "outputs": [],
   "source": [
    "Départ : D\n",
    "Arivée : B \n",
    "\n",
    "D -> C -> B \n",
    "D -> A -> B \n",
    "D -> C -> E -> B "
   ]
  },
  {
   "cell_type": "markdown",
   "metadata": {},
   "source": [
    "<h3>10.6"
   ]
  },
  {
   "cell_type": "code",
   "execution_count": null,
   "metadata": {},
   "outputs": [],
   "source": [
    "Sur notebook Implémentation"
   ]
  }
 ],
 "metadata": {
  "language_info": {
   "name": "python"
  },
  "orig_nbformat": 4
 },
 "nbformat": 4,
 "nbformat_minor": 2
}
