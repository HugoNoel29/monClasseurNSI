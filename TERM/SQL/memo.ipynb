{
 "cells": [
  {
   "cell_type": "markdown",
   "metadata": {},
   "source": [
    "<h1> Ce document est un mémo des principales commandes en SQL<h1>"
   ]
  },
  {
   "cell_type": "markdown",
   "metadata": {},
   "source": [
    "<h2> I) Gérer une base de données<h2>"
   ]
  },
  {
   "cell_type": "markdown",
   "metadata": {},
   "source": [
    "<h4> 1) Créer une base de donnée<h4>\n",
    "\n",
    "<h5>CREATE TABLE LIVRES <br>\n",
    "(id INT, titre TEXT, auteur TEXT, ann_publi INT, note INT, PRIMARY KEY (id))<h5>"
   ]
  },
  {
   "cell_type": "markdown",
   "metadata": {},
   "source": [
    "<h4> 2) Supprimer une base de donnée<h4>\n",
    "\n",
    "<h5>DROP TABLE LIVRES_DE_POCHE<h5>"
   ]
  },
  {
   "cell_type": "markdown",
   "metadata": {},
   "source": [
    "<h2> II) Les requêtes d'interrogation<h2>"
   ]
  },
  {
   "cell_type": "markdown",
   "metadata": {},
   "source": [
    "<h4> 1) Pour tout selctionner :<h4>\n",
    "\n",
    "<h5>SELECT * FROM LIVRES<h5>"
   ]
  },
  {
   "cell_type": "markdown",
   "metadata": {},
   "source": [
    "<h4>2) Pour selctionner un ou plusieurs éléments :<h4>\n",
    "\n",
    "<h5>SELECT auteur,date FROM LIVRES<h5>"
   ]
  },
  {
   "cell_type": "markdown",
   "metadata": {},
   "source": [
    "<h4>3) Pour selctionner un ou plusieurs éléments avec une ou plusieurs conditions :<h4>\n",
    "\n",
    "<h5>SELECT auteur,date FROM LIVRES <br>\n",
    "WHERE note>10 <h5>\n",
    "\n",
    "<h5> SELECT auteur, titre FROM LIVRES <br>\n",
    "WHERE note>5 AND ann_publi>1975<h5>\n",
    "\n",
    "<h5> SELECT auteur, titre FROM LIVRES <br>\n",
    "WHERE langue=\"francais OR langue=\"anglais\"<h5>"
   ]
  },
  {
   "cell_type": "markdown",
   "metadata": {},
   "source": [
    "<h4>4) Mettre en ordre :<h4>\n",
    "\n",
    "<h5>Ordre Croissant : SELECT titre,note FROM LIVRES ORDER BY note ASC<h5>\n",
    "\n",
    "<h5>Ordre Decroissant : SELECT titre,note FROM LIVRES ORDER BY note DESC<h5>"
   ]
  },
  {
   "cell_type": "markdown",
   "metadata": {},
   "source": [
    "<h4>5) Les conditions utilisables :<h4>\n",
    "\n",
    "- = (égal)\n",
    "\n",
    "- <> (supérieur / inférieur)\n",
    "\n",
    "- != (différent)\n",
    "\n",
    "- _>= (supérieur ou égal)\n",
    "\n",
    "- <= (inférieur ou égal)\n",
    "\n",
    "- IS NULL ( valeur nulle - sans valeur)\n",
    "\n",
    "- IS NOT NULL"
   ]
  },
  {
   "cell_type": "markdown",
   "metadata": {},
   "source": [
    "<h4>6) Les principales fonctions :<h4>\n",
    "\n",
    "- MIN()\n",
    "- MAX()\n",
    "- SUM()\n",
    "- AVG()\n",
    "- COUNT()\n",
    "\n",
    "<h5>Ex : SELECT SUM(stock) FROM LIVRES<h5>"
   ]
  },
  {
   "cell_type": "markdown",
   "metadata": {},
   "source": [
    "<h2> III) Les requêtes de modification : <h2>"
   ]
  },
  {
   "cell_type": "markdown",
   "metadata": {},
   "source": [
    "<h4>1) Les ajouts :<h4>\n",
    "\n",
    "<h5>INSERT INTO LIVRES VALUES (15,\"Peppa Pig\", 23, 2019, 10)<h5>"
   ]
  },
  {
   "cell_type": "markdown",
   "metadata": {},
   "source": [
    "<h4>2) Modifier :<h4>\n",
    "\n",
    "<h5> UPDATE LIVRES <br>\n",
    "SET note=9 <br>\n",
    "WHERE titre=\"Peppa Pig\"<h5>"
   ]
  },
  {
   "cell_type": "markdown",
   "metadata": {},
   "source": [
    "<h4>3) Supprimer : <h4>\n",
    "\n",
    "<h5>DELETE FROM LIVRES <br>\n",
    "WHERE langue=\"allemand\" <h5>"
   ]
  },
  {
   "cell_type": "markdown",
   "metadata": {},
   "source": [
    "La relation Agences\n",
    "Au départ ce réseau se limitait à la région Bretagne mais peu à peu vous avez ouvert de nombreuses agences et maintenant le réseau couvre tout le territoire national. Un certain nombre d'informations relatives à ces agences sont stockées dans la base de données. Par exemple, vous pouvez obtenir les noms des enseignes ou les villes dans lesquelles elles sont situées. Plus précisément, la relation Agences est décrite par :\n",
    "\n",
    "\n",
    "\n",
    "id\tINT\tla clef primaire\n",
    "nom\tTEXT\tvous avez de l'humour\n",
    "adresse\tTEXT\true, avenue, boulevard...\n",
    "code\tTEXT\tle code postal\n",
    "ville\tTEXT\tla ville\n",
    "pays\tTEXT\tle pays\n",
    "1/9 : Visualisez toute la relation Agences.\n",
    "SELECT * FROM AGENCES\n",
    "-----------\n",
    "( SELECT * FROM Agences )\n",
    "2/9 : Listez uniquement les noms des agences et leur ville.\n",
    "SELECT nom,ville FROM Agences\n",
    "-----------\n",
    "( SELECT nom, ville FROM Agences )\n",
    "3/9 : Listez les noms des agences de la ville de Lorient.\n",
    "SELECT nom,ville FROM Agences WHERE ville=\"Lorient\"\n",
    "-----------\n",
    "( SELECT nom FROM Agences WHERE ville='Lorient' )\n",
    "4/9 : Listez les noms des agences du département du Morbihan (code postal 56***) ainsi que les codes postaux en utilisant un WHERE LIKE.\n",
    "SELECT nom,code FROM Agences WHERE code LIKE 56\n",
    "-----------\n",
    "( SELECT nom, code FROM Agences WHERE code LIKE '56%' )\n",
    "5/9 : Listez les noms des agences du département du Morbihan ainsi que les codes postaux en utilisant la fonction SUBSTR(str,first,nb) dans un WHERE.\n",
    "SELECT nom, SUBSTR(code, 1, 5) FROM Agences WHERE code LIKE '56%'\n",
    "-----------\n",
    "( SELECT nom, code FROM Agences WHERE SUBSTR(code,1,2) = '56' )\n",
    "6/9 : Listez les villes du département du Morbihan hébergeant au moins une agence. Attention, une ville ne doit apparaître qu'une seule fois.\n",
    "SELECT DISTINCT nom FROM Agences WHERE SUBSTR(code,1,2) = '56%'\n",
    "-----------\n",
    "( SELECT DISTINCT ville FROM Agences WHERE code LIKE '56%' )\n",
    "7/9 : Listez les noms des agences en Bretagne ('56','29','35','22') ainsi que les codes postaux en utilisant la fonction SUBSTR(str,first,nb) et la directive IN (element1,element2,element3,...)\n",
    "SELECT nom, code FROM Agences WHERE SUBSTR(code,1,2) IN ('56','29','35','22')\n",
    "-----------\n",
    "( SELECT nom, code FROM Agences WHERE SUBSTR(code,1,2) IN ('56','29','35','22') )\n",
    "8/9 : Déterminez le nombre d'agences en Bretagne.\n",
    "SELECT COUNT(DISTINCT ville) FROM Agences WHERE SUBSTR(code,1,2) IN ('56','29','35','22')\n",
    "-----------\n",
    "( SELECT COUNT(*) FROM Agences WHERE SUBSTR(code,1,2) IN ('56','29','35','22') )\n",
    "9/9 : Déterminez le nombre d'agences en France.\n",
    "SELECT COUNT(nom) FROM Agences;\n",
    "-----------\n",
    "( SELECT COUNT(*) FROM Agences WHERE pays='France' )\n",
    "Vous êtes assez satisfait car en à peine 6 mois vous avez déjà 12 agences bien réparties sur le territoire national. Il faut dire que vous avez largement investi dans l'immobilier. En plus vous connaissez bien les gérants, tous des copains d'enfance. Allons analyser maintenant la flotte de véhicules.\n",
    "\n",
    "\n",
    "Générer un pdf\n",
    "COUNT(nom)\n",
    "12\n",
    "Ce site est propulsé par SQLite compiled to JavaScript. Cette œuvre est mise à disposition selon les termes de la Licence Creative Commons Attribution 4.0 International."
   ]
  }
 ],
 "metadata": {
  "language_info": {
   "name": "python"
  },
  "orig_nbformat": 4
 },
 "nbformat": 4,
 "nbformat_minor": 2
}
