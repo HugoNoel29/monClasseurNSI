{
 "cells": [
  {
   "cell_type": "markdown",
   "metadata": {},
   "source": [
    "# Mini-projet : \"Let it snow\"\n",
    "\n",
    "## But :\n",
    "\n",
    "On souhaite écrire un programme qui permet de générer un dessin animé simulant une chute de flocons de neige dans un notebook jupyter.\n",
    "\n",
    "\n",
    "<center><video width=\"400\" controls src=\"https://ericecmorlaix.github.io/img/Let_it_snow-demo.MP4\"></center>\n",
    "    \n",
    "    \n",
    "<!-- <img src=\"https://ericecmorlaix.github.io/img/Let_it_snow-tableau_de_flocons.png\" alt=\"Let_it_snow-tableau_de_flocons.png\" width = 60% > -->\n",
    "\n",
    "On utilisera pour cela le module **`ipycanvas`** de [Martin RENOU](https://github.com/martinRenou) :\n",
    "\n",
    "<img src=\"https://ericecmorlaix.github.io/img/ipycanvas-logo.svg\" alt=\"ipycanvas-logo.svg\" width = 25%>\n",
    "\n",
    "\n",
    "Si vous ne connaissez pas ce module, il vous faut donc préalablement le prendre en main en faisant, par exemple, les activités de [ipycanvas-Le_BN_pour_dessiner.ipynb\n",
    "](ipycanvas-Le_BN_pour_dessiner.ipynb)..."
   ]
  },
  {
   "cell_type": "markdown",
   "metadata": {},
   "source": [
    "**_Cette histoire prend corps dans un environnement très particulier mais favorable à son avènement..._**\n",
    "\n",
    "## La scène par ipycanvas :\n",
    "\n",
    "> Il s'agit d'un élément HTML `<canvas>` que l'on va pouvoir afficher dans ce notebook grace au module ipycanvas de Martin RENOU.\n",
    "\n",
    "- Importer les fonctionnalités de la classe `Canvas` de la bibliotèque `ipycanvas` dans ce notebook :  "
   ]
  },
  {
   "cell_type": "code",
   "execution_count": null,
   "metadata": {},
   "outputs": [],
   "source": [
    "!pip list"
   ]
  },
  {
   "cell_type": "code",
   "execution_count": null,
   "metadata": {},
   "outputs": [],
   "source": [
    "!pip install ipycanvas"
   ]
  },
  {
   "cell_type": "code",
   "execution_count": null,
   "metadata": {},
   "outputs": [],
   "source": [
    "from  ipycanvas import Canvas, hold_canvas\n",
    "from IPython.display import display"
   ]
  },
  {
   "cell_type": "markdown",
   "metadata": {},
   "source": [
    "- Créer un canvas nommé `s`(pour \"scène\", ou \"stage\" en Anglais, et pour faire court), aux dimensions 600 pixels de largeur et 400 pixels de hauteur avec un fond noir et l'afficher"
   ]
  },
  {
   "cell_type": "code",
   "execution_count": null,
   "metadata": {},
   "outputs": [],
   "source": [
    "# Création du canvas de la scène\n",
    "s = Canvas(width=600,height=400)"
   ]
  },
  {
   "cell_type": "code",
   "execution_count": null,
   "metadata": {},
   "outputs": [],
   "source": [
    "# Test d'affichage de la scène\n",
    "display(s)"
   ]
  },
  {
   "cell_type": "markdown",
   "metadata": {},
   "source": [
    "> Maintenant que le canvas existe, les commandes `s.width` et `s.height` nous renvoient ses dimensions"
   ]
  },
  {
   "cell_type": "code",
   "execution_count": null,
   "metadata": {},
   "outputs": [],
   "source": [
    "s.width"
   ]
  },
  {
   "cell_type": "code",
   "execution_count": null,
   "metadata": {},
   "outputs": [],
   "source": [
    "s.height"
   ]
  },
  {
   "cell_type": "markdown",
   "metadata": {},
   "source": [
    "> Saisir l'instruction `help(s.fill_rect)` pour obtenir de l'aide sur la méthode `fill_rect()`"
   ]
  },
  {
   "cell_type": "code",
   "execution_count": null,
   "metadata": {},
   "outputs": [],
   "source": [
    "help(s.fill_rect)"
   ]
  },
  {
   "cell_type": "code",
   "execution_count": null,
   "metadata": {},
   "outputs": [],
   "source": [
    "# mettre un background noir sur toute la scène :\n",
    "\n",
    "s.fill_stroke = 'black'\n",
    "s.fill_rect(0,0,s.width,s.height)"
   ]
  },
  {
   "cell_type": "markdown",
   "metadata": {},
   "source": [
    "- Définir une fonction `background(couleur)` qui rafraichit la scène avec un fond de la couleur passée en paramètre"
   ]
  },
  {
   "cell_type": "code",
   "execution_count": null,
   "metadata": {},
   "outputs": [],
   "source": [
    "# Une fonction pour effacer la scène et redessiner un background\n",
    "def background(couleur : str = 'black') :\n",
    "    '''\n",
    "    Rafraichit la scène avec un fond de la couleur\n",
    "    'couleur' passée en paramètre et fixée sur `black` par défaut\n",
    "    Préconditions :\n",
    "    - couleur (str) : une chaine de caractères définissant une couleur HTML valide\n",
    "    '''\n",
    "\n",
    "    s.fill_style = couleur\n",
    "    s.fill_rect(0, 0, s.width, s.height)"
   ]
  },
  {
   "cell_type": "code",
   "execution_count": null,
   "metadata": {},
   "outputs": [],
   "source": [
    "# Test pour la fonction background()\n",
    "display(s)\n",
    "background()"
   ]
  },
  {
   "cell_type": "markdown",
   "metadata": {},
   "source": [
    "Au fur et à mesure de vos essais, rassembler dans une même cellule de ce notebook les codes que vous avez validés et qui seront utilisés pour la suite. Il suffira alors de faire descendre cette cellule vers le bas du notebook (ou de la dupliquer) pour réaliser de nouveaux tests et de l'augmenter progresssivement...\n",
    "\n",
    "> Une autre solution consiste à enregistrer progressivement le code du développement validé dans un fichier `ma_scene.py` et à importer toutes les fonctionnalités de ce module `from ma_scene import *` dans le notebook pour pouvoir y effectuer de nouveaux essais s'appuyant sur cette base de la définition du projet à ce stade.\n",
    "\n",
    "- Compléter la cellule ci-dessous en application de cette méthode de développement"
   ]
  },
  {
   "cell_type": "code",
   "execution_count": null,
   "metadata": {},
   "outputs": [],
   "source": [
    "# Dépendances\n",
    "\n",
    "from  ipycanvas import Canvas, hold_canvas\n",
    "from IPython.display import display\n",
    "\n",
    "# Définitions\n",
    "\n",
    "# Création du canvas de la scène\n",
    "\n",
    "s = Canvas(width = 600, height = 400)\n",
    "\n",
    "# Une fonction pour effacer la scène et redessiner un background\n",
    "def background(couleur : str = 'black') :\n",
    "    '''\n",
    "    Rafraichit la scène avec un fond de la couleur\n",
    "    'couleur' passée en paramètre et fixée sur `black` par défaut\n",
    "    Préconditions :\n",
    "    - couleur (str) : une chaine de caractères définissant une couleur HTML valide\n",
    "    '''  \n",
    "      \n",
    "    s.fill_style = couleur\n",
    "    s.fill_rect(0, 0, s.width, s.height)\n",
    "\n",
    "\n",
    "# Tests\n",
    "if __name__ == '__main__':\n",
    "    display(s)\n",
    "    background()"
   ]
  },
  {
   "cell_type": "code",
   "execution_count": null,
   "metadata": {},
   "outputs": [],
   "source": [
    "s.width"
   ]
  },
  {
   "cell_type": "code",
   "execution_count": null,
   "metadata": {},
   "outputs": [],
   "source": [
    "s.height"
   ]
  },
  {
   "cell_type": "markdown",
   "metadata": {},
   "source": [
    "**_Au commencement, il n'y en avait qu'1..._**\n",
    "\n",
    "## Le flocon :\n",
    "\n",
    "- Dessiner un disque blanc situé au centre du canvas, libre à vous de fixer son diamètre...\n",
    "\n",
    "> Saisir l'instruction `help(s.fill_circle)` pour obtenir de l'aide et voir aussi la [documentation d'ipycanvas](https://ipycanvas.readthedocs.io/en/latest/styles_and_colors.html)..."
   ]
  },
  {
   "cell_type": "code",
   "execution_count": null,
   "metadata": {},
   "outputs": [],
   "source": [
    "help(s.fill_circle)"
   ]
  },
  {
   "cell_type": "code",
   "execution_count": null,
   "metadata": {},
   "outputs": [],
   "source": [
    "# Dessine un disque blanc au milieu de la scène\n",
    "\n",
    "s.fill_style = 'white'\n",
    "s.fill_circle(s.width/2, s.height/2, 15)"
   ]
  },
  {
   "cell_type": "markdown",
   "metadata": {},
   "source": [
    "> Le titre de cette partie c'est \"Le flocon\" or ce disque blanc ressemble plus à la balle d'un jeux de Pong qu'à un vrai flocon, non ?\n",
    "> \n",
    "> Pour produire une image de flocon plus réaliste, on peut superposer des disques de diamètre de plus en plus petit et de couleur `snow` (#FFFAFA, rgb(255, 250, 250)) avec de la [transparence](https://www.alsacreations.com/tuto/lire/909-CSS-transparence-couleur-rgba.html) pour donner un effet de flou au flocon.\n",
    "\n",
    "\n",
    "- Définir une fonction flocon telle que décrite par sa docstring et l'appeler plusieurs fois pour qu'enfin il ne soit plus le seul... :"
   ]
  },
  {
   "cell_type": "code",
   "execution_count": null,
   "metadata": {},
   "outputs": [],
   "source": [
    "# Une fonction pour produire le dessin d'un flocon plus réaliste\n",
    "\n",
    "def flocon(x : float, y : float, diametre : float, taux : float = 50) -> None :\n",
    "    '''\n",
    "    Dessine un flocon avec un effet de flou en superposant\n",
    "    des disques de diamètre de plus en plus petit\n",
    "    centrés sur le point de coordonnées '(x, y)'\n",
    "    inscrits dans un cercle de diametre extérieur 'diametre'\n",
    "    et avec 'taux' le niveau de transparence\n",
    "    en pourcentage de 0 à 100% et réglé par défaut sur 50%\n",
    "    '''\n",
    "\n",
    "    s.fill_style = 'rgb(255, 250, 250)'\n",
    "    s.fill_circle(x, y, diametre)\n",
    "      \n",
    "    \n",
    "    "
   ]
  },
  {
   "cell_type": "code",
   "execution_count": null,
   "metadata": {},
   "outputs": [],
   "source": [
    "# Test pour la fonction flocon()\n",
    "display(s)\n",
    "background()\n",
    "flocon(100, 100, 20)\n",
    "flocon(412,321,14)\n",
    "flocon(200, 500, 60)\n",
    "flocon(322,123,17)"
   ]
  },
  {
   "cell_type": "markdown",
   "metadata": {},
   "source": [
    "> Est-ce que trois disques sont suffisants pour obtenir l'effet de flou escompté ou en faut-il davantage ?\n",
    "\n",
    "- Revoir si besoin la définition de votre fonction pour qu'elle permette très facilement de tester le nombre de disques nécessaires, leur diamètre, le niveau de transparence,...\n",
    "\n",
    "- Saisir l'instruction `help(s.fill_circles)` pour obtenir de l'aide sur cette méthode et envisager de l'utiliser dans une nouvelle définition candidate pour la fonction `flocon()` (voir aussi la [documentation d'ipycanvas](https://ipycanvas.readthedocs.io/en/latest/drawing_shapes.html))...\n",
    "\n",
    "- Mettre à jour à ce stade du développement le code validé par les tests pour afficher un flocon sur un fond noir de la scène"
   ]
  },
  {
   "cell_type": "code",
   "execution_count": null,
   "metadata": {},
   "outputs": [],
   "source": [
    "# Dépendances\n",
    "\n",
    "from  ipycanvas import Canvas, hold_canvas\n",
    "from IPython.display import display\n",
    "\n",
    "# Définitions\n",
    "\n",
    "# Création du canvas de la scène\n",
    "\n",
    "s = Canvas(width = 600, height = 400)\n",
    "\n",
    "# Une fonction pour effacer la scène et redessiner un background\n",
    "def background(couleur : str = 'black') :\n",
    "    '''\n",
    "    Rafraichit la scène avec un fond de la couleur\n",
    "    'couleur' passée en paramètre et fixée sur `black` par défaut\n",
    "    Préconditions :\n",
    "    - couleur (str) : une chaine de caractères définissant une couleur HTML valide\n",
    "    '''  \n",
    "      \n",
    "    s.fill_style = couleur\n",
    "    s.fill_rect(0, 0, s.width, s.height)\n",
    "\n",
    "\n",
    "# Une fonction pour produire le dessin d'un flocon plus réaliste\n",
    "def flocon(x : float, y : float, diametre : float, taux : float = 50) -> None :\n",
    "    '''\n",
    "    Dessine un flocon avec un effet de flou en superposant\n",
    "    des disques de diamètre de plus en plus petit\n",
    "    centrés sur le point de coordonnées '(x, y)'\n",
    "    inscrits dans un cercle de diametre extérieur 'diametre'\n",
    "    et avec 'taux' le niveau de transparence\n",
    "    en pourcentage de 0 à 100% et réglé par défaut sur 50%\n",
    "    '''\n",
    "\n",
    "    for _ in range(20) :\n",
    "\n",
    "        s.fill_style = f'rgba(255, 250, 250, {taux/100})'\n",
    "        s.fill_circle(x, y, diametre)\n",
    "\n",
    "        if diametre > 20 :\n",
    "            diametre -= 2\n",
    "        else :\n",
    "            diametre -= 1\n",
    "        if taux > 20 :\n",
    "            taux -= 2\n",
    "        else :\n",
    "            taux -= 1\n",
    "\n",
    "\n",
    "\n",
    "# Tests\n",
    "if __name__ == '__main__':\n",
    "    display(s)\n",
    "    background()\n",
    "    flocon(100, 100, 20)\n",
    "    flocon(412,321,14)\n",
    "    "
   ]
  },
  {
   "cell_type": "markdown",
   "metadata": {},
   "source": [
    "## Des boucles pour répéter le flocon et l'animer"
   ]
  },
  {
   "cell_type": "code",
   "execution_count": null,
   "metadata": {},
   "outputs": [],
   "source": [
    "# Autre test avec une boucle\n",
    "display(s)\n",
    "background()\n",
    "for t in range(0, s.height, 10*2) :\n",
    "    flocon(200, t, 10)"
   ]
  },
  {
   "cell_type": "markdown",
   "metadata": {},
   "source": [
    "> On observe que les flocons s'affichent progressivement car les instructions sont transmises et interprétées au fur et à mesure l'une après l'autre. Au delà de 1000 commandes/seconde, il y a un risque de saturation... Pour éviter cela, on peut ajouter un appel à la méthode `hold_canvas(s)` pour n'envoyer le message des intructions à traiter qu'à la fin du script afin d'afficher seulement le résultat final et ainsi optimiser l'affichage.\n",
    "\n",
    "- Observer la différence produite par `hold_canvas(s)` dans la cellule suivante"
   ]
  },
  {
   "cell_type": "code",
   "execution_count": null,
   "metadata": {},
   "outputs": [],
   "source": [
    "from ipycanvas import Canvas, hold_canvas\n",
    "\n",
    "# Autre test avec une boucle avec hold_canvas()\n",
    "display(s)\n",
    "background()\n",
    "\n",
    "for t in range(0, s.height, 10*2) :\n",
    "    with hold_canvas(s) :\n",
    "        flocon(200, t, 10)"
   ]
  },
  {
   "cell_type": "markdown",
   "metadata": {},
   "source": [
    "- on peut ajouter une petite pause dans la boucle du test précédent avec la méthode `sleep()` du module `time` pour obtenir un affichage progressif au cours du temps"
   ]
  },
  {
   "cell_type": "code",
   "execution_count": null,
   "metadata": {},
   "outputs": [],
   "source": [
    "from time import sleep\n",
    "help(sleep)"
   ]
  },
  {
   "cell_type": "code",
   "execution_count": null,
   "metadata": {},
   "outputs": [],
   "source": [
    "# Autre test avec une boucle, sleep() et hold_canvas()\n",
    "from time import sleep\n",
    "display(s)\n",
    "background()\n",
    "for t in range(0, s.height, 10*2) :\n",
    "    with hold_canvas(s) :\n",
    "        flocon(200, t, 10)\n",
    "    sleep(0.2)"
   ]
  },
  {
   "cell_type": "markdown",
   "metadata": {},
   "source": [
    "- déplacer alors l'appel à la fonction `background()` pour le mettre dans la boucle ;\n",
    "- tester différentes positions possibles dans le code pour l'appel à la fonction `background()`\n",
    "- observer puis décrire l'effet produit dans chaque cas :\n",
    "\n",
    "\n",
    "    - ...\n",
    "    \n",
    "    \n",
    "    - ...\n",
    "    \n",
    "    \n",
    "    - ...\n",
    "    \n",
    "    \n",
    "    - ...\n",
    "    \n",
    "    "
   ]
  },
  {
   "cell_type": "code",
   "execution_count": null,
   "metadata": {},
   "outputs": [],
   "source": [
    "# Nouveau test avec une boucle, sleep() et hold_canvas() pour différentes positions de background()\n",
    "from time import sleep\n",
    "display(s)\n",
    "# background() # A déplacer dans la boucle à différentes positions \n",
    "for t in range(0, s.height, 10*2) :\n",
    "    \n",
    "    with hold_canvas(s) :\n",
    "        background()\n",
    "        flocon(200, t, 10)\n",
    "        \n",
    "    sleep(0.2)"
   ]
  },
  {
   "cell_type": "markdown",
   "metadata": {},
   "source": [
    "**_Whaou ! Maintenant, il bouge !_**\n",
    "\n",
    "*Serait-il vivant ?*\n",
    "\n",
    "*Ou reproduit-il un phénomène expliqué par Newton ?*\n",
    "\n",
    "**_Il tombe, non, que dis-je, il chute !_** \n",
    "\n",
    "*Dans ce cas, cette simulation est-elle fidèle ?*\n",
    "\n",
    "*Quel est le rôle joué par la persistance rétinienne ici ? ...*"
   ]
  },
  {
   "cell_type": "markdown",
   "metadata": {},
   "source": [
    "> Faire les appels aux fonctions `background()` et `flocon()` dans un `hold_canvas(s)` fluidifie la chute de notre flocon.\n",
    "\n",
    "- Mettre à jour à ce stade du développement le code validé par les tests pour produire une animation simulant la chute d'un flocon"
   ]
  },
  {
   "cell_type": "code",
   "execution_count": null,
   "metadata": {},
   "outputs": [],
   "source": [
    "# Dépendances\n",
    "from ipycanvas import Canvas, hold_canvas\n",
    "from IPython.display import display\n",
    "from math import pi\n",
    "from time import sleep\n",
    "\n",
    "\n",
    "# Définitions\n",
    "\n",
    "# Création d'un canvas pour la scène\n",
    "s = Canvas(width=600, lenght=400)\n",
    "\n",
    "# Une fonction pour effacer la scène et redessiner un background\n",
    "def background(couleur : str = 'black') :\n",
    "    '''\n",
    "    Rafraichit la scène avec un fond de la couleur\n",
    "    'couleur' passée en paramètre et fixée sur `black` par défaut\n",
    "    Préconditions :\n",
    "    - couleur (str) : une chaine de caractères définissant une couleur HTML valide\n",
    "    '''    \n",
    "\n",
    "    s.fill_style = couleur\n",
    "    s.fill_rect(0, 0, s.width, s.height)\n",
    "    \n",
    "\n",
    "# Une fonction pour produire le dessin d'un flocon plus réaliste\n",
    "def flocon(x : float, y : float, diametre : float, taux : float = 50) -> None :\n",
    "    '''\n",
    "    Dessine un flocon avec un effet de flou en superposant\n",
    "    des disques de diamètre de plus en plus petit\n",
    "    centrés sur le point de coordonnées '(x, y)'\n",
    "    inscrits dans un cercle de diametre extérieur 'diametre'\n",
    "    et avec 'taux' le niveau de transparence\n",
    "    en pourcentage de 0 à 100% et réglé par défaut sur 50%\n",
    "    '''\n",
    "\n",
    "    for _ in range(5) :\n",
    "\n",
    "        s.fill_style = f'rgba(255, 250, 250, {taux/100})'\n",
    "        s.fill_circle(x, y, diametre)\n",
    "\n",
    "        if diametre > 20 :\n",
    "            diametre -= 2\n",
    "        else :\n",
    "            diametre -= 1\n",
    "        if taux > 20 :\n",
    "            taux -= 2\n",
    "        else :\n",
    "            taux -= 1\n",
    "    \n",
    "\n",
    "# Tests\n",
    "if __name__ == '__main__':\n",
    "    display(s)\n",
    "    for t in range(0, s.height, 4) :    \n",
    "        with hold_canvas(s) :\n",
    "            background()\n",
    "            flocon(200, t, 10)        \n",
    "        sleep(0.05)"
   ]
  },
  {
   "cell_type": "markdown",
   "metadata": {},
   "source": [
    "- Reproduire la chute du flocon en utilisant une boucle while"
   ]
  },
  {
   "cell_type": "code",
   "execution_count": null,
   "metadata": {},
   "outputs": [],
   "source": [
    "# Tests\n",
    "if __name__ == '__main__':\n",
    "    display(s)\n",
    "    y = 0\n",
    "    \n",
    "    while y < 600 :\n",
    "        # A compléter...\n",
    "        \n",
    "        with hold_canvas(s) :\n",
    "            background()\n",
    "            flocon(200, y, 10)        \n",
    "        sleep(0.05)\n",
    "        y += 10"
   ]
  },
  {
   "cell_type": "markdown",
   "metadata": {},
   "source": [
    "- Faire en sorte que lorsqu'il atteint le bas de la scène sa chute recommence du haut comme s'il s'agissait d'un nouveau flocon."
   ]
  },
  {
   "cell_type": "code",
   "execution_count": null,
   "metadata": {},
   "outputs": [],
   "source": [
    "# Tests\n",
    "if __name__ == '__main__':\n",
    "    display(s)\n",
    "    y = 0\n",
    "    \n",
    "    while y < 611 : \n",
    "        # A compléter...\n",
    "        \n",
    "        with hold_canvas(s) :\n",
    "            background()\n",
    "            flocon(200, y, 10)       \n",
    "        sleep(0.05)\n",
    "        y +=10\n",
    "        \n",
    "        if y > 600 :\n",
    "            y = 0\n",
    "                    "
   ]
  },
  {
   "cell_type": "markdown",
   "metadata": {},
   "source": [
    "- Faire en sorte que la chute du flocon démarre à une abscisse aléatoire de la scène "
   ]
  },
  {
   "cell_type": "code",
   "execution_count": null,
   "metadata": {},
   "outputs": [],
   "source": [
    "# Tests\n",
    "\n",
    "from random import randint\n",
    "\n",
    "if __name__ == '__main__':\n",
    "    display(s)\n",
    "    y = 0\n",
    "    x = randint(0,600)\n",
    "\n",
    "    while y < 401 : \n",
    "        # A compléter...\n",
    "        \n",
    "        with hold_canvas(s) :\n",
    "            background()\n",
    "            flocon(x, y, 10)        \n",
    "        sleep(0.05)\n",
    "        y += 10\n",
    "        if y >= 400 :\n",
    "            y = 0\n",
    "            x = randint(0, 600)\n",
    "        \n",
    "        "
   ]
  },
  {
   "cell_type": "markdown",
   "metadata": {},
   "source": [
    "- Mettre à jour à ce stade du développement le code validé par les tests pour produire une animation simulant la chute perpétuelle d'un flocon à une abscisse aléatoire"
   ]
  },
  {
   "cell_type": "code",
   "execution_count": null,
   "metadata": {},
   "outputs": [],
   "source": [
    "# Dépendances\n",
    "from ipycanvas import Canvas, hold_canvas\n",
    "from IPython.display import display\n",
    "from math import pi\n",
    "from time import sleep\n",
    "from random import randint\n",
    "\n",
    "# Définitions\n",
    "\n",
    "# Création d'un canvas pour la scène\n",
    "s = Canvas(width=600, height=400)\n",
    "\n",
    "# Une fonction pour effacer la scène et redessiner un background\n",
    "def background(couleur : str = 'black') :\n",
    "    '''\n",
    "    Rafraichit la scène avec un fond de la couleur\n",
    "    'couleur' passée en paramètre et fixée sur `black` par défaut\n",
    "    Préconditions :\n",
    "    - couleur (str) : une chaine de caractères définissant une couleur HTML valide\n",
    "    '''    \n",
    "\n",
    "    s.fill_style = couleur\n",
    "    s.fill_rect(0, 0, s.width, s.height)\n",
    "    \n",
    "\n",
    "# Une fonction pour produire le dessin d'un flocon plus réaliste\n",
    "def flocon(x : float, y : float, diametre : float, taux : float = 75) :\n",
    "    '''\n",
    "    Dessine un flocon avec un effet de flou en superposant\n",
    "    des disques de diamètre de plus en plus petit\n",
    "    centré sur le point de coordonnées '(x, y)'\n",
    "    inscrit dans un cercle de diametre extérieur 'diametre'\n",
    "    et avec 'taux' le niveau de transparence\n",
    "    en pourcentage de 0 à 100% et réglé par défaut sur 50%\n",
    "    '''\n",
    "   \n",
    "    s.fill_style = f'rgba(255, 250, 250, {taux/100})'\n",
    "    s.fill_circle(x, y, diametre)\n",
    "        \n",
    "        \n",
    "#Test\n",
    "if __name__ == '__main__':\n",
    "    display(s)\n",
    "    y = 0\n",
    "    x = randint(0,600)\n",
    "\n",
    "    while y < 401 : \n",
    "        \n",
    "        with hold_canvas(s) :\n",
    "            background()\n",
    "            flocon(x, y, 10)        \n",
    "        sleep(0.05)\n",
    "        y += 10\n",
    "        if y >= 400 :\n",
    "            y = 0\n",
    "            x = randint(0, 600)\n",
    "        "
   ]
  },
  {
   "cell_type": "code",
   "execution_count": null,
   "metadata": {},
   "outputs": [],
   "source": [
    "s.height"
   ]
  },
  {
   "cell_type": "code",
   "execution_count": null,
   "metadata": {},
   "outputs": [],
   "source": [
    "s.width"
   ]
  },
  {
   "cell_type": "code",
   "execution_count": null,
   "metadata": {},
   "outputs": [],
   "source": []
  },
  {
   "cell_type": "markdown",
   "metadata": {},
   "source": [
    "**_Et maintenant, ils sont légion..._**"
   ]
  },
  {
   "cell_type": "markdown",
   "metadata": {},
   "source": [
    "## Un tableau de flocons\n",
    "\n",
    "- remplir par compréhension une liste de 150 abscisses et une autre de 150 ordonnées définient aléatoirement et afficher un flocon à chacun de ces points sur une image fixe\n",
    "\n",
    "\n",
    "> **Rappel**, une instruction par compréhension se construit de la façon suivante :\n",
    ">```python\n",
    "[fonction for i in sequence condition]\n",
    "```"
   ]
  },
  {
   "cell_type": "code",
   "execution_count": null,
   "metadata": {},
   "outputs": [],
   "source": [
    "# Dépendances\n",
    "from random import randint"
   ]
  },
  {
   "cell_type": "code",
   "execution_count": null,
   "metadata": {},
   "outputs": [],
   "source": [
    "# Définitions\n",
    "abscisses = [randint(0,600) for _ in range(150)]\n",
    "ordonnees = [randint(0,400) for _ in range(150)]"
   ]
  },
  {
   "cell_type": "code",
   "execution_count": null,
   "metadata": {},
   "outputs": [],
   "source": [
    "# Tests\n",
    "abscisses, ordonnees"
   ]
  },
  {
   "cell_type": "code",
   "execution_count": null,
   "metadata": {},
   "outputs": [],
   "source": [
    "# Tests pour un tableau figé de flocons\n",
    "display(s)\n",
    "background()\n",
    "for n in range(len(abscisses)) :\n",
    "    flocon(abscisses[n], ordonnees[n], 10)"
   ]
  },
  {
   "cell_type": "markdown",
   "metadata": {},
   "source": [
    "- définir une liste `diametres` pour défininir aléatoirement des diamètres de flocons différents et rendre ainsi un effet de profondeur avec la technique de la perspective  "
   ]
  },
  {
   "cell_type": "code",
   "execution_count": null,
   "metadata": {},
   "outputs": [],
   "source": [
    "diametres = [randint(1,14) for _ in range(150)]"
   ]
  },
  {
   "cell_type": "code",
   "execution_count": null,
   "metadata": {},
   "outputs": [],
   "source": [
    "# Tests pour un tableau figé de flocons avec de la profondeur\n",
    "display(s)\n",
    "background()\n",
    "for n in range(len(abscisses)) :\n",
    "    flocon(abscisses[n], ordonnees[n], diametres[n])"
   ]
  },
  {
   "cell_type": "markdown",
   "metadata": {},
   "source": [
    "- Définir une fonction `initialisation(nb_flocons)` qui prend en paramètre le nombre de flocons présents sur la scène et qui renvoie un tableau constitué des listes d'abcisses, d'ordonnées et de diamètres aléatoires de chaque flocon."
   ]
  },
  {
   "cell_type": "code",
   "execution_count": null,
   "metadata": {},
   "outputs": [],
   "source": [
    "# Dépendances\n",
    "from random import randint"
   ]
  },
  {
   "cell_type": "code",
   "execution_count": null,
   "metadata": {},
   "outputs": [],
   "source": [
    "# Définitions\n",
    "\n",
    "# Une fonction pour générer un tableau de flocons\n",
    "def initialisation(nb_flocons : int) -> list :\n",
    "    '''\n",
    "    Prend en paramètre le nombre de flocons à placer sur la scène\n",
    "    et renvoie un tableau constitué des listes d'abcisses,\n",
    "    d'ordonnées et de tailles aléatoires de chaque flocon.\n",
    "    '''\n",
    "    abscisses = [randint(0,600) for _ in range(nb_flocons)]\n",
    "    ordonnees = [randint(0,400) for _ in range(nb_flocons)]  \n",
    "    diametres = [randint(1,14) for _ in range(nb_flocons)]   \n",
    "    \n",
    "    return [abscisses, ordonnees, diametres]   "
   ]
  },
  {
   "cell_type": "code",
   "execution_count": null,
   "metadata": {},
   "outputs": [],
   "source": [
    "# Tests pour l'affichage d'une matrice initiale de flocons avec de la perspective\n",
    "display(s)\n",
    "background()\n",
    "matrice = initialisation(100)\n",
    "for n in range(len(matrice[0])) :\n",
    "    flocon(matrice[0][n], matrice[1][n], matrice[2][n])"
   ]
  },
  {
   "cell_type": "markdown",
   "metadata": {},
   "source": [
    "> Tester pour mesurer à partir de combien de flocons il devient indispensable d'utiliser un `hold_canvas()` pour éviter d'atteindre la limite des `NotebookApp.iopub_msg_rate_limit=1000.0 (msgs/sec)`\n",
    "\n",
    "- Mettre à jour à ce stade du développement le code validé par les tests pour produire une image instantannée montrant une répartition aléatoire d'un nombre réglable de flocons sur la scène avec un effet de profondeur de champs"
   ]
  },
  {
   "cell_type": "code",
   "execution_count": null,
   "metadata": {},
   "outputs": [],
   "source": [
    "# Dépendances\n",
    "from ipycanvas import Canvas, hold_canvas\n",
    "from IPython.display import display\n",
    "from math import pi\n",
    "from time import sleep\n",
    "from random import randint\n",
    "\n",
    "# Définitions\n",
    "\n",
    "# Création d'un canvas pour la scène\n",
    "s = Canvas(width=600, height=400)\n",
    "\n",
    "# Une fonction pour effacer la scène et redessiner un background\n",
    "def background(couleur : str = 'black') :\n",
    "    '''\n",
    "    Rafraichit la scène avec un fond de la couleur\n",
    "    'couleur' passée en paramètre et fixée sur `black` par défaut\n",
    "    Préconditions :\n",
    "    - couleur (str) : une chaine de caractères définissant une couleur HTML valide\n",
    "    '''    \n",
    "\n",
    "    s.fill_style = couleur\n",
    "    s.fill_rect(0, 0, s.width, s.height)\n",
    "    \n",
    "\n",
    "# Une fonction pour produire le dessin d'un flocon plus réaliste\n",
    "def flocon(x : float, y : float, diametre : float, taux : float = 50) -> None :\n",
    "    '''\n",
    "    Dessine un flocon avec un effet de flou en superposant\n",
    "    des disques de diamètre de plus en plus petit\n",
    "    centrés sur le point de coordonnées '(x, y)'\n",
    "    inscrits dans un cercle de diametre extérieur 'diametre'\n",
    "    et avec 'taux' le niveau de transparence\n",
    "    en pourcentage de 0 à 100% et réglé par défaut sur 50%\n",
    "    '''\n",
    "\n",
    "    for _ in range(5) :\n",
    "\n",
    "        s.fill_style = f'rgba(255, 250, 250, {taux/100})'\n",
    "        s.fill_circle(x, y, diametre)\n",
    "\n",
    "        if 0 < diametre > 20 :\n",
    "            diametre -= 2\n",
    "        else :\n",
    "            diametre += 0\n",
    "        if 0 < taux > 20 :\n",
    "            taux -= 2\n",
    "        else :\n",
    "            taux += 0   \n",
    "    \n",
    "        \n",
    "# Une fonction pour générer un tableau de flocons\n",
    "def initialisation(nb_flocons : int) -> list :\n",
    "    '''\n",
    "    Prend en paramètre le nombre de flocons à placer sur la scène\n",
    "    et renvoie un tableau constitué des listes d'abcisses,\n",
    "    d'ordonnées et de tailles aléatoires de chaque flocon.\n",
    "    '''\n",
    "    abscisses = [randint(0,600) for _ in range(nb_flocons)]\n",
    "    ordonnees = [randint(0,400) for _ in range(nb_flocons)]  \n",
    "    diametres = [randint(1,10) for _ in range(nb_flocons)]   \n",
    "    \n",
    "    return [abscisses, ordonnees, diametres]        \n",
    "\n",
    "\n",
    "# Tests pour l'affichage d'une matrice initiale de flocons avec de la perspective\n",
    "display(s)\n",
    "with hold_canvas(s) :\n",
    "    background()\n",
    "    matrice = initialisation(150)\n",
    "    for n in range(len(matrice[0])) :\n",
    "        flocon(matrice[0][n], matrice[1][n], matrice[2][n])"
   ]
  },
  {
   "cell_type": "markdown",
   "metadata": {},
   "source": [
    "- mettre tout cela en mouvement de chute perpétuelle"
   ]
  },
  {
   "cell_type": "code",
   "execution_count": null,
   "metadata": {},
   "outputs": [],
   "source": [
    "# Tests pour un mouvement de chute perpétuelle de la matrice de flocons\n",
    "\n",
    "display(s)\n",
    "matrice = initialisation(150)    \n",
    "while True :\n",
    "    with hold_canvas(s) :\n",
    "        background()\n",
    "        for i in range(len(matrice[0])) :\n",
    "            matrice[1][i] += 4\n",
    "                 \n",
    "            flocon(matrice[0][i], matrice[1][i], matrice[2][i])        \n",
    "\n",
    "            if matrice[1][i] >= s.height :\n",
    "                matrice[1][i] = 0\n",
    "                matrice[0][i] = randint(0, s.width)\n",
    "    sleep(0.02)"
   ]
  },
  {
   "cell_type": "markdown",
   "metadata": {},
   "source": [
    "- Définir une fonction `chute(tableau, time_lapse)` qui prend en paramètre le tableau de répartition sur la scène des flocons en position et en diamètre et qui simule une chute de neige avec un laps de temps `time_lapse` réglable entre l'affichage de deux images successives..."
   ]
  },
  {
   "cell_type": "code",
   "execution_count": null,
   "metadata": {},
   "outputs": [],
   "source": [
    "# Définition\n",
    "def chute(tableau : list, time_lapse : float) :\n",
    "    '''\n",
    "    Simule une chute de neige avec un laps de temps `time_lapse` réglable entre l'affichage de deux images successives\n",
    "    avec en paramètre le tableau de répartition sur la scène des flocons en position (x, y) et en diamètre\n",
    "    '''\n",
    "    \n",
    "    while True :\n",
    "        with hold_canvas(s) :\n",
    "            background()\n",
    "            for i in range(len(tableau[0])) :\n",
    "                tableau[1][i] += 4\n",
    "                    \n",
    "                flocon(tableau[0][i], tableau[1][i], tableau[2][i])        \n",
    "\n",
    "                if tableau[1][i] >= s.height :\n",
    "                    tableau[1][i] = 0\n",
    "                    tableau[0][i] = randint(0, s.width)\n",
    "        sleep(time_lapse)\n",
    "    "
   ]
  },
  {
   "cell_type": "code",
   "execution_count": null,
   "metadata": {},
   "outputs": [],
   "source": [
    "# Test chute de neige\n",
    "display(s)\n",
    "matrice = initialisation(150)    \n",
    "chute(matrice, 0.005)"
   ]
  },
  {
   "cell_type": "markdown",
   "metadata": {},
   "source": [
    "Améliorations à prévoir :\n",
    "- Faire en sorte que le diamètre d'un flocon soit rédéfini aléatoirement à chaque relance de sa chute à partir du haut de la scène ; \n",
    "- Faire en sorte que tous les flocons n'aient pas la même vitesse de chute, par exemple, lier le pas d'incrémentation sur l'ordonnée d'un flocon au cours de sa chute à la moitié du diamètre du flocon ;\n",
    "- Ajouter une oscillation aléatoire en abscisse sur un intervale d'un pixel ;\n",
    "- ...\n",
    "\n",
    "\n",
    "- Mettre alors à jour à ce stade du développement le code validé par les tests pour produire une animation simulant une chute de neige la plus réaliste possible..."
   ]
  },
  {
   "cell_type": "code",
   "execution_count": null,
   "metadata": {},
   "outputs": [],
   "source": [
    "# Dépendances\n",
    "from ipycanvas import Canvas, hold_canvas\n",
    "from IPython.display import display\n",
    "from math import pi\n",
    "from time import sleep\n",
    "from random import randint\n",
    "\n",
    "# Définitions\n",
    "\n",
    "# Création d'un canvas pour la scène\n",
    "s = Canvas(width=600, height=400)\n",
    "\n",
    "# Une fonction pour effacer la scène et redessiner un background\n",
    "def background(couleur : str = 'black') :\n",
    "    '''\n",
    "    Rafraichit la scène avec un fond de la couleur\n",
    "    'couleur' passée en paramètre et fixée sur `black` par défaut\n",
    "    Préconditions :\n",
    "    - couleur (str) : une chaine de caractères définissant une couleur HTML valide\n",
    "    '''    \n",
    "\n",
    "    s.fill_style = couleur\n",
    "    s.fill_rect(0, 0, s.width, s.height)\n",
    "    \n",
    "\n",
    "# Une fonction pour produire le dessin d'un flocon plus réaliste\n",
    "def flocon(x : float, y : float, diametre : float, taux : float = 50) -> None :\n",
    "    '''\n",
    "    Dessine un flocon avec un effet de flou en superposant\n",
    "    des disques de diamètre de plus en plus petit\n",
    "    centrés sur le point de coordonnées '(x, y)'\n",
    "    inscrits dans un cercle de diametre extérieur 'diametre'\n",
    "    et avec 'taux' le niveau de transparence\n",
    "    en pourcentage de 0 à 100% et réglé par défaut sur 50%\n",
    "    '''\n",
    "\n",
    "    for _ in range(5) :\n",
    "\n",
    "        s.fill_style = f'rgba(255, 250, 250, {taux/100})'\n",
    "        s.fill_circle(x, y, diametre)\n",
    "\n",
    "        diametre = diametre*0.8\n",
    "\n",
    "        if taux > 20 :\n",
    "            taux -= 4\n",
    "        else :\n",
    "            taux -= 2\n",
    "    \n",
    "        \n",
    "# Une fonction pour générer un tableau de flocons\n",
    "def initialisation(nb_flocons : int) -> list :\n",
    "    '''\n",
    "    Prend en paramètre le nombre de flocons à placer sur la scène\n",
    "    et renvoie un tableau constitué des listes d'abcisses,\n",
    "    d'ordonnées et de tailles aléatoires de chaque flocon.\n",
    "    '''\n",
    "    abscisses = [randint(0,600) for _ in range(nb_flocons)]\n",
    "    ordonnees = [randint(0,400) for _ in range(nb_flocons)]  \n",
    "    diametres = [randint(1,8) for _ in range(nb_flocons)]   \n",
    "    \n",
    "    return [abscisses, ordonnees, diametres]        \n",
    "\n",
    "    \n",
    "    \n",
    "    \n",
    "\n",
    "def chute(tableau : list, time_lapse : float) :\n",
    "    '''\n",
    "    Simule une chute de neige avec un laps de temps `time_lapse` réglable entre l'affichage de deux images successives\n",
    "    avec en paramètre le tableau de répartition sur la scène des flocons en position (x, y) et en diamètre\n",
    "    '''\n",
    "    \n",
    "    while True :\n",
    "        with hold_canvas(s) :\n",
    "            background()\n",
    "            for i in range(len(tableau[0])) :\n",
    "                tableau[1][i] += 4\n",
    "                    \n",
    "                flocon(tableau[0][i], tableau[1][i], tableau[2][i])        \n",
    "\n",
    "                if tableau[1][i] >= s.height :\n",
    "                    tableau[1][i] = 0\n",
    "                    tableau[0][i] = randint(0, s.width)\n",
    "        sleep(time_lapse)\n",
    "    \n",
    "    \n",
    "\n",
    "# Tests pour l'affichage finale d'une chute de neige\n",
    "if __name__ == '__main__':\n",
    "    display(s)\n",
    "    matrice = initialisation(150)    \n",
    "    chute(matrice, 0.005)"
   ]
  },
  {
   "cell_type": "markdown",
   "metadata": {},
   "source": [
    "_**Une vrai armée de clones, ..., qui autorise quelques singularités...**_\n",
    "\n",
    "## L'usine à flocons en mode POO :\n",
    "\n",
    "- Créer une classe `Flocon` possédant les attributs `abscisse`, `ordonnee` et `diametre` ;\n",
    "- Ecrire une méthode `evolue()` pour définir le comportement d'un flocon dans sa chute ;\n",
    "- Ecrire une méthode `dessine()` pour afficher un flocon réaliste dans sa chute ;"
   ]
  },
  {
   "cell_type": "code",
   "execution_count": 15,
   "metadata": {},
   "outputs": [],
   "source": [
    "# Dépendances\n",
    "from ipycanvas import Canvas, hold_canvas\n",
    "from math import pi\n",
    "from time import sleep\n",
    "from random import randint"
   ]
  },
  {
   "cell_type": "code",
   "execution_count": 16,
   "metadata": {},
   "outputs": [],
   "source": [
    "# Définition d'une scène avec un fond noir\n",
    "\n",
    "# Création d'un canvas pour la scène\n",
    "s1 = Canvas(width=600, height=400)\n",
    "\n",
    "# Une fonction pour effacer la scène et redessiner un background\n",
    "def background(couleur : str = 'black') :\n",
    "    '''\n",
    "    Rafraichit la scène avec un fond de la couleur\n",
    "    'couleur' passée en paramètre et fixée sur `black` par défaut\n",
    "    Préconditions :\n",
    "    - couleur (str) : une chaine de caractères définissant une couleur HTML valide\n",
    "    '''    \n",
    "    s1.fill_style = couleur\n",
    "    s1.fill_rect(0, 0, s1.width, s1.height)\n",
    "    \n",
    "    "
   ]
  },
  {
   "cell_type": "code",
   "execution_count": 68,
   "metadata": {},
   "outputs": [],
   "source": [
    "# Définition d'une classe Flocon\n",
    "\n",
    "class Flocon : # définition de la classe Flocon\n",
    "    \n",
    "    # Constructeur\n",
    "    def __init__(self) :\n",
    "        '''\n",
    "        Construit un flocon avec une abscisse,\n",
    "        une ordonnée et un diamètre définis aléatoirement\n",
    "        '''\n",
    "        self.abscisse = randint(1, 600)\n",
    "        self.ordonnee = randint(1, 400)\n",
    "        self.diametre = randint(1, 8)\n",
    "    \n",
    "    \n",
    "    \n",
    "    # Méthode pour modifier, faire évoluer\n",
    "    def evolue(self) : \n",
    "        '''\n",
    "        Modifie les valeurs des attributs du flocon\n",
    "        pour qu'il évolue en position et en diamètre\n",
    "        selon des règles définies pour sa chute\n",
    "        \n",
    "        '''\n",
    "        \n",
    "        if self.ordonnee <= 499 :\n",
    "\n",
    "            if randint(1,5) == 1 :\n",
    "                self.ordonnee += 1\n",
    "            elif randint(1,5) == 2 :\n",
    "                self.ordonnee += 2\n",
    "            elif randint(1,5) == 3 :\n",
    "                self.ordonnee += 3\n",
    "            elif randint(1,5) == 4 :\n",
    "                self.ordonnee += 4\n",
    "            else :\n",
    "                self.ordonnee += 5\n",
    "                \n",
    "        else :\n",
    "            self.ordonnee = 10\n",
    "\n",
    "            self.abscisse = randint(1, 600)\n",
    "        \n",
    "\n",
    "        if randint(1,10) == 10 :\n",
    "            self.abscisse += 1\n",
    "        elif randint(1,10) == 1 :\n",
    "            self.abscisse -= 1\n",
    "        else :\n",
    "            pass\n",
    "\n",
    "\n",
    "        \n",
    "    # Méthode pour accéder    \n",
    "    def dessine(self, taux : float = 50) :\n",
    "        '''\n",
    "        Affiche un flocon avec un effet de flou en superposant\n",
    "        des disques de diamètre de plus en plus petit\n",
    "        centrés sur le point de coordonnées (x, y) et au diamètre\n",
    "        correspondants aux valeurs de ses attributs\n",
    "        et avec le niveau de transparence  'taux' en pourcentage de 0 à 100%\n",
    "        réglé par défaut sur 50%\n",
    "        '''\n",
    "\n",
    "        save = self.diametre\n",
    "        for _ in range(5) :\n",
    "\n",
    "            s1.fill_style = f'rgba(255, 250, 250, {taux/100})'\n",
    "            s1.fill_circle(self.abscisse, self.ordonnee, self.diametre)\n",
    "\n",
    "            self.diametre *= 0.8\n",
    "\n",
    "            if taux > 20 :\n",
    "                taux -= 4\n",
    "            else :\n",
    "                taux -= 2\n",
    "        self.diametre = save\n",
    "        "
   ]
  },
  {
   "cell_type": "markdown",
   "metadata": {},
   "source": [
    "- Exécuter les cellules suivantes pour tester vos définitions :"
   ]
  },
  {
   "cell_type": "code",
   "execution_count": 25,
   "metadata": {},
   "outputs": [
    {
     "data": {
      "application/vnd.jupyter.widget-view+json": {
       "model_id": "e2346647e0734b5494bcbcf1709dbb68",
       "version_major": 2,
       "version_minor": 0
      },
      "text/plain": [
       "Canvas(height=400, width=600)"
      ]
     },
     "metadata": {},
     "output_type": "display_data"
    }
   ],
   "source": [
    "# Test avec un flocon\n",
    "display(s1)\n",
    "background()"
   ]
  },
  {
   "cell_type": "code",
   "execution_count": 32,
   "metadata": {},
   "outputs": [],
   "source": [
    "# Création d'un objet flocon\n",
    "mon_flocon = Flocon()"
   ]
  },
  {
   "cell_type": "code",
   "execution_count": 7,
   "metadata": {},
   "outputs": [
    {
     "data": {
      "text/plain": [
       "31"
      ]
     },
     "execution_count": 7,
     "metadata": {},
     "output_type": "execute_result"
    }
   ],
   "source": [
    "mon_flocon.abscisse"
   ]
  },
  {
   "cell_type": "code",
   "execution_count": 19,
   "metadata": {},
   "outputs": [],
   "source": [
    "mon_flocon.dessine()"
   ]
  },
  {
   "cell_type": "code",
   "execution_count": 21,
   "metadata": {},
   "outputs": [],
   "source": [
    "mon_flocon.evolue()"
   ]
  },
  {
   "cell_type": "code",
   "execution_count": 22,
   "metadata": {},
   "outputs": [
    {
     "data": {
      "text/plain": [
       "9"
      ]
     },
     "execution_count": 22,
     "metadata": {},
     "output_type": "execute_result"
    }
   ],
   "source": [
    "mon_flocon.ordonnee"
   ]
  },
  {
   "cell_type": "code",
   "execution_count": 34,
   "metadata": {},
   "outputs": [],
   "source": [
    "# Création d'un autre objet flocon\n",
    "mon_autre_flocon = Flocon()"
   ]
  },
  {
   "cell_type": "code",
   "execution_count": 12,
   "metadata": {},
   "outputs": [
    {
     "data": {
      "text/plain": [
       "575"
      ]
     },
     "execution_count": 12,
     "metadata": {},
     "output_type": "execute_result"
    }
   ],
   "source": [
    "mon_autre_flocon.abscisse"
   ]
  },
  {
   "cell_type": "code",
   "execution_count": 13,
   "metadata": {},
   "outputs": [],
   "source": [
    "mon_autre_flocon.dessine()"
   ]
  },
  {
   "cell_type": "code",
   "execution_count": 33,
   "metadata": {},
   "outputs": [
    {
     "data": {
      "application/vnd.jupyter.widget-view+json": {
       "model_id": "e2346647e0734b5494bcbcf1709dbb68",
       "version_major": 2,
       "version_minor": 0
      },
      "text/plain": [
       "Canvas(height=400, width=600)"
      ]
     },
     "metadata": {},
     "output_type": "display_data"
    },
    {
     "ename": "KeyboardInterrupt",
     "evalue": "",
     "output_type": "error",
     "traceback": [
      "\u001b[1;31m---------------------------------------------------------------------------\u001b[0m",
      "\u001b[1;31mKeyboardInterrupt\u001b[0m                         Traceback (most recent call last)",
      "\u001b[1;32m~\\AppData\\Local\\Temp/ipykernel_17040/1758153655.py\u001b[0m in \u001b[0;36m<module>\u001b[1;34m\u001b[0m\n\u001b[0;32m      6\u001b[0m         \u001b[0mmon_flocon\u001b[0m\u001b[1;33m.\u001b[0m\u001b[0mevolue\u001b[0m\u001b[1;33m(\u001b[0m\u001b[1;33m)\u001b[0m\u001b[1;33m\u001b[0m\u001b[1;33m\u001b[0m\u001b[0m\n\u001b[0;32m      7\u001b[0m         \u001b[0mmon_flocon\u001b[0m\u001b[1;33m.\u001b[0m\u001b[0mdessine\u001b[0m\u001b[1;33m(\u001b[0m\u001b[1;36m50\u001b[0m\u001b[1;33m)\u001b[0m\u001b[1;33m\u001b[0m\u001b[1;33m\u001b[0m\u001b[0m\n\u001b[1;32m----> 8\u001b[1;33m     \u001b[0msleep\u001b[0m\u001b[1;33m(\u001b[0m\u001b[1;36m0.02\u001b[0m\u001b[1;33m)\u001b[0m\u001b[1;33m\u001b[0m\u001b[1;33m\u001b[0m\u001b[0m\n\u001b[0m",
      "\u001b[1;31mKeyboardInterrupt\u001b[0m: "
     ]
    }
   ],
   "source": [
    "# Test avec un flocon\n",
    "display(s1)\n",
    "while True :\n",
    "    with hold_canvas(s1) :\n",
    "        background()\n",
    "        mon_flocon.evolue()\n",
    "        mon_flocon.dessine(50)\n",
    "    sleep(0.02)"
   ]
  },
  {
   "cell_type": "markdown",
   "metadata": {},
   "source": [
    "- Adapter le code de la cellule précédente pour tester avec plusieurs instances de `Flocon`"
   ]
  },
  {
   "cell_type": "code",
   "execution_count": 42,
   "metadata": {},
   "outputs": [
    {
     "data": {
      "application/vnd.jupyter.widget-view+json": {
       "model_id": "e2346647e0734b5494bcbcf1709dbb68",
       "version_major": 2,
       "version_minor": 0
      },
      "text/plain": [
       "Canvas(height=400, width=600)"
      ]
     },
     "metadata": {},
     "output_type": "display_data"
    },
    {
     "ename": "KeyboardInterrupt",
     "evalue": "",
     "output_type": "error",
     "traceback": [
      "\u001b[1;31m---------------------------------------------------------------------------\u001b[0m",
      "\u001b[1;31mKeyboardInterrupt\u001b[0m                         Traceback (most recent call last)",
      "\u001b[1;32m~\\AppData\\Local\\Temp/ipykernel_17040/742191790.py\u001b[0m in \u001b[0;36m<module>\u001b[1;34m\u001b[0m\n\u001b[0;32m      9\u001b[0m         \u001b[0mmon_autre_flocon\u001b[0m\u001b[1;33m.\u001b[0m\u001b[0mevolue\u001b[0m\u001b[1;33m(\u001b[0m\u001b[1;33m)\u001b[0m\u001b[1;33m\u001b[0m\u001b[1;33m\u001b[0m\u001b[0m\n\u001b[0;32m     10\u001b[0m         \u001b[0mmon_autre_flocon\u001b[0m\u001b[1;33m.\u001b[0m\u001b[0mdessine\u001b[0m\u001b[1;33m(\u001b[0m\u001b[1;33m)\u001b[0m\u001b[1;33m\u001b[0m\u001b[1;33m\u001b[0m\u001b[0m\n\u001b[1;32m---> 11\u001b[1;33m     \u001b[0msleep\u001b[0m\u001b[1;33m(\u001b[0m\u001b[1;36m0.02\u001b[0m\u001b[1;33m)\u001b[0m\u001b[1;33m\u001b[0m\u001b[1;33m\u001b[0m\u001b[0m\n\u001b[0m",
      "\u001b[1;31mKeyboardInterrupt\u001b[0m: "
     ]
    }
   ],
   "source": [
    "# Test avec plusieurs instances de Flocon\n",
    "display(s1)\n",
    "while True :\n",
    "    with hold_canvas(s1) :\n",
    "        background()\n",
    "        mon_flocon.evolue()\n",
    "        mon_flocon.dessine()\n",
    "        \n",
    "        mon_autre_flocon.evolue()\n",
    "        mon_autre_flocon.dessine()\n",
    "    sleep(0.02)"
   ]
  },
  {
   "cell_type": "markdown",
   "metadata": {},
   "source": [
    "## Production de flocons à la chaine :\n",
    "\n",
    "- Définir un tableau constitué de `nb_flocons` instances de `Flocons` "
   ]
  },
  {
   "cell_type": "code",
   "execution_count": 37,
   "metadata": {},
   "outputs": [],
   "source": [
    "nb_flocons = 100\n",
    "mes_flocons = [Flocon() for i in range(100)]"
   ]
  },
  {
   "cell_type": "code",
   "execution_count": 38,
   "metadata": {},
   "outputs": [
    {
     "data": {
      "text/plain": [
       "[<__main__.Flocon at 0x1a02ccc2d00>,\n",
       " <__main__.Flocon at 0x1a02bf760d0>,\n",
       " <__main__.Flocon at 0x1a02bf765e0>,\n",
       " <__main__.Flocon at 0x1a02bf76040>,\n",
       " <__main__.Flocon at 0x1a02bf76d90>,\n",
       " <__main__.Flocon at 0x1a02bf76d30>,\n",
       " <__main__.Flocon at 0x1a02bf76ee0>,\n",
       " <__main__.Flocon at 0x1a02bf76100>,\n",
       " <__main__.Flocon at 0x1a02bf76dc0>,\n",
       " <__main__.Flocon at 0x1a02bf76310>,\n",
       " <__main__.Flocon at 0x1a02bf768b0>,\n",
       " <__main__.Flocon at 0x1a02bf766d0>,\n",
       " <__main__.Flocon at 0x1a02bf76e80>,\n",
       " <__main__.Flocon at 0x1a02bf76490>,\n",
       " <__main__.Flocon at 0x1a02bf76fa0>,\n",
       " <__main__.Flocon at 0x1a02bf76eb0>,\n",
       " <__main__.Flocon at 0x1a02bf76be0>,\n",
       " <__main__.Flocon at 0x1a02bf76850>,\n",
       " <__main__.Flocon at 0x1a01c9ecca0>,\n",
       " <__main__.Flocon at 0x1a01c9ecd90>,\n",
       " <__main__.Flocon at 0x1a01c9eca60>,\n",
       " <__main__.Flocon at 0x1a01c9ec3d0>,\n",
       " <__main__.Flocon at 0x1a01c9ec9a0>,\n",
       " <__main__.Flocon at 0x1a01c9ecd60>,\n",
       " <__main__.Flocon at 0x1a01c9ec610>,\n",
       " <__main__.Flocon at 0x1a01c9ec6a0>,\n",
       " <__main__.Flocon at 0x1a01c9ecbb0>,\n",
       " <__main__.Flocon at 0x1a01c9ec160>,\n",
       " <__main__.Flocon at 0x1a01c9ec520>,\n",
       " <__main__.Flocon at 0x1a01c9ecdf0>,\n",
       " <__main__.Flocon at 0x1a01c9ec490>,\n",
       " <__main__.Flocon at 0x1a01c9ecdc0>,\n",
       " <__main__.Flocon at 0x1a02bf60b80>,\n",
       " <__main__.Flocon at 0x1a02bf60ca0>,\n",
       " <__main__.Flocon at 0x1a02bf60e20>,\n",
       " <__main__.Flocon at 0x1a02bf609a0>,\n",
       " <__main__.Flocon at 0x1a02bf60a90>,\n",
       " <__main__.Flocon at 0x1a02bf60610>,\n",
       " <__main__.Flocon at 0x1a02bf60a60>,\n",
       " <__main__.Flocon at 0x1a02bf60cd0>,\n",
       " <__main__.Flocon at 0x1a02bf60a00>,\n",
       " <__main__.Flocon at 0x1a02bf60940>,\n",
       " <__main__.Flocon at 0x1a02bf60fd0>,\n",
       " <__main__.Flocon at 0x1a02bf60c70>,\n",
       " <__main__.Flocon at 0x1a02bf60670>,\n",
       " <__main__.Flocon at 0x1a02bf60700>,\n",
       " <__main__.Flocon at 0x1a02bf60be0>,\n",
       " <__main__.Flocon at 0x1a02bf60640>,\n",
       " <__main__.Flocon at 0x1a02bf608b0>,\n",
       " <__main__.Flocon at 0x1a02bf60d60>,\n",
       " <__main__.Flocon at 0x1a02cc9d730>,\n",
       " <__main__.Flocon at 0x1a02cc9d460>,\n",
       " <__main__.Flocon at 0x1a02cc9ddc0>,\n",
       " <__main__.Flocon at 0x1a02cc9de20>,\n",
       " <__main__.Flocon at 0x1a02cc9d430>,\n",
       " <__main__.Flocon at 0x1a02cc9dc40>,\n",
       " <__main__.Flocon at 0x1a02cc9d0d0>,\n",
       " <__main__.Flocon at 0x1a02cc9dbe0>,\n",
       " <__main__.Flocon at 0x1a02cc9d640>,\n",
       " <__main__.Flocon at 0x1a02cc9d6d0>,\n",
       " <__main__.Flocon at 0x1a02cc9db20>,\n",
       " <__main__.Flocon at 0x1a02cc9dc10>,\n",
       " <__main__.Flocon at 0x1a02cc9d790>,\n",
       " <__main__.Flocon at 0x1a02cc9df40>,\n",
       " <__main__.Flocon at 0x1a02cc9d310>,\n",
       " <__main__.Flocon at 0x1a02cc9d2b0>,\n",
       " <__main__.Flocon at 0x1a02cc9d8b0>,\n",
       " <__main__.Flocon at 0x1a02cc9daf0>,\n",
       " <__main__.Flocon at 0x1a02cc9d670>,\n",
       " <__main__.Flocon at 0x1a02cc9de50>,\n",
       " <__main__.Flocon at 0x1a02cc9d340>,\n",
       " <__main__.Flocon at 0x1a02cc9d880>,\n",
       " <__main__.Flocon at 0x1a02cc9d580>,\n",
       " <__main__.Flocon at 0x1a02cc9d190>,\n",
       " <__main__.Flocon at 0x1a02cc9d550>,\n",
       " <__main__.Flocon at 0x1a02cc9d5e0>,\n",
       " <__main__.Flocon at 0x1a02cc9da30>,\n",
       " <__main__.Flocon at 0x1a02cc9d970>,\n",
       " <__main__.Flocon at 0x1a02cc9d9d0>,\n",
       " <__main__.Flocon at 0x1a02cc9da90>,\n",
       " <__main__.Flocon at 0x1a02cc9da00>,\n",
       " <__main__.Flocon at 0x1a02cc9d4c0>,\n",
       " <__main__.Flocon at 0x1a02cc9d760>,\n",
       " <__main__.Flocon at 0x1a02cc9dbb0>,\n",
       " <__main__.Flocon at 0x1a02cc9dac0>,\n",
       " <__main__.Flocon at 0x1a02cc9d2e0>,\n",
       " <__main__.Flocon at 0x1a02cc9d6a0>,\n",
       " <__main__.Flocon at 0x1a02cc9da60>,\n",
       " <__main__.Flocon at 0x1a02cc9d280>,\n",
       " <__main__.Flocon at 0x1a02cc9d160>,\n",
       " <__main__.Flocon at 0x1a02cca4d00>,\n",
       " <__main__.Flocon at 0x1a02cca4550>,\n",
       " <__main__.Flocon at 0x1a02cca4eb0>,\n",
       " <__main__.Flocon at 0x1a02cca46d0>,\n",
       " <__main__.Flocon at 0x1a02cca4c40>,\n",
       " <__main__.Flocon at 0x1a02cca4580>,\n",
       " <__main__.Flocon at 0x1a02cca4d90>,\n",
       " <__main__.Flocon at 0x1a02cca4a60>,\n",
       " <__main__.Flocon at 0x1a02cca41f0>,\n",
       " <__main__.Flocon at 0x1a02cca40d0>]"
      ]
     },
     "execution_count": 38,
     "metadata": {},
     "output_type": "execute_result"
    }
   ],
   "source": [
    "# Test\n",
    "mes_flocons"
   ]
  },
  {
   "cell_type": "markdown",
   "metadata": {},
   "source": [
    "- Définir alors une nouvelle version pour la fonction `initialisation(nb_flocons)`"
   ]
  },
  {
   "cell_type": "code",
   "execution_count": 70,
   "metadata": {},
   "outputs": [],
   "source": [
    "# Une fonction pour générer un tableau de flocons\n",
    "def initialisation(nb_flocons : int) -> list :\n",
    "    '''\n",
    "    Prend en paramètre le nombre de flocons à placer sur la scène\n",
    "    et renvoie un tableau constitué des `nb_flocons` instances de `Flocons`.\n",
    "    '''\n",
    "    return [Flocon() for i in range(100)]"
   ]
  },
  {
   "cell_type": "code",
   "execution_count": 51,
   "metadata": {},
   "outputs": [
    {
     "data": {
      "application/vnd.jupyter.widget-view+json": {
       "model_id": "e2346647e0734b5494bcbcf1709dbb68",
       "version_major": 2,
       "version_minor": 0
      },
      "text/plain": [
       "Canvas(height=400, width=600)"
      ]
     },
     "metadata": {},
     "output_type": "display_data"
    }
   ],
   "source": [
    "# tests\n",
    "mes_flocons = initialisation(150)\n",
    "\n",
    "# Tests pour un tableau figé de flocons\n",
    "display(s1)\n",
    "background()\n",
    "for n in range(len(mes_flocons)) :\n",
    "    mes_flocons[n].dessine()"
   ]
  },
  {
   "cell_type": "markdown",
   "metadata": {},
   "source": [
    "- Définir alors une nouvelle version pour la fonction `chute(tableau : list, time_lapse : float)`"
   ]
  },
  {
   "cell_type": "code",
   "execution_count": 71,
   "metadata": {},
   "outputs": [],
   "source": [
    "# Définition\n",
    "def chute(tableau : list, time_lapse : float) :\n",
    "    '''\n",
    "    Simule une chute de neige avec un laps de temps `time_lapse` réglable entre l'affichage de deux images successives\n",
    "    avec en paramètre un tableau constitué des `nb_flocons` instances de `Flocons`\n",
    "    '''\n",
    "    mes_flocons = tableau\n",
    "    display(s1)\n",
    "    while True :\n",
    "        with hold_canvas(s1) :\n",
    "            background()\n",
    "            for n in range(len(mes_flocons)) :\n",
    "                mes_flocons[n].evolue()\n",
    "                mes_flocons[n].dessine()\n",
    "        sleep(time_lapse)   "
   ]
  },
  {
   "cell_type": "code",
   "execution_count": 72,
   "metadata": {},
   "outputs": [
    {
     "data": {
      "application/vnd.jupyter.widget-view+json": {
       "model_id": "e2346647e0734b5494bcbcf1709dbb68",
       "version_major": 2,
       "version_minor": 0
      },
      "text/plain": [
       "Canvas(height=400, width=600)"
      ]
     },
     "metadata": {},
     "output_type": "display_data"
    },
    {
     "data": {
      "application/vnd.jupyter.widget-view+json": {
       "model_id": "e2346647e0734b5494bcbcf1709dbb68",
       "version_major": 2,
       "version_minor": 0
      },
      "text/plain": [
       "Canvas(height=400, width=600)"
      ]
     },
     "metadata": {},
     "output_type": "display_data"
    },
    {
     "ename": "KeyboardInterrupt",
     "evalue": "",
     "output_type": "error",
     "traceback": [
      "\u001b[1;31m---------------------------------------------------------------------------\u001b[0m",
      "\u001b[1;31mKeyboardInterrupt\u001b[0m                         Traceback (most recent call last)",
      "\u001b[1;32m~\\AppData\\Local\\Temp/ipykernel_17040/4206794522.py\u001b[0m in \u001b[0;36m<module>\u001b[1;34m\u001b[0m\n\u001b[0;32m      2\u001b[0m \u001b[0mdisplay\u001b[0m\u001b[1;33m(\u001b[0m\u001b[0ms1\u001b[0m\u001b[1;33m)\u001b[0m\u001b[1;33m\u001b[0m\u001b[1;33m\u001b[0m\u001b[0m\n\u001b[0;32m      3\u001b[0m \u001b[0mmes_flocons\u001b[0m \u001b[1;33m=\u001b[0m \u001b[0minitialisation\u001b[0m\u001b[1;33m(\u001b[0m\u001b[1;36m150\u001b[0m\u001b[1;33m)\u001b[0m\u001b[1;33m\u001b[0m\u001b[1;33m\u001b[0m\u001b[0m\n\u001b[1;32m----> 4\u001b[1;33m \u001b[0mchute\u001b[0m\u001b[1;33m(\u001b[0m\u001b[0mmes_flocons\u001b[0m\u001b[1;33m,\u001b[0m \u001b[1;36m0.005\u001b[0m\u001b[1;33m)\u001b[0m\u001b[1;33m\u001b[0m\u001b[1;33m\u001b[0m\u001b[0m\n\u001b[0m",
      "\u001b[1;32m~\\AppData\\Local\\Temp/ipykernel_17040/2514043852.py\u001b[0m in \u001b[0;36mchute\u001b[1;34m(tableau, time_lapse)\u001b[0m\n\u001b[0;32m     12\u001b[0m             \u001b[1;32mfor\u001b[0m \u001b[0mn\u001b[0m \u001b[1;32min\u001b[0m \u001b[0mrange\u001b[0m\u001b[1;33m(\u001b[0m\u001b[0mlen\u001b[0m\u001b[1;33m(\u001b[0m\u001b[0mmes_flocons\u001b[0m\u001b[1;33m)\u001b[0m\u001b[1;33m)\u001b[0m \u001b[1;33m:\u001b[0m\u001b[1;33m\u001b[0m\u001b[1;33m\u001b[0m\u001b[0m\n\u001b[0;32m     13\u001b[0m                 \u001b[0mmes_flocons\u001b[0m\u001b[1;33m[\u001b[0m\u001b[0mn\u001b[0m\u001b[1;33m]\u001b[0m\u001b[1;33m.\u001b[0m\u001b[0mevolue\u001b[0m\u001b[1;33m(\u001b[0m\u001b[1;33m)\u001b[0m\u001b[1;33m\u001b[0m\u001b[1;33m\u001b[0m\u001b[0m\n\u001b[1;32m---> 14\u001b[1;33m                 \u001b[0mmes_flocons\u001b[0m\u001b[1;33m[\u001b[0m\u001b[0mn\u001b[0m\u001b[1;33m]\u001b[0m\u001b[1;33m.\u001b[0m\u001b[0mdessine\u001b[0m\u001b[1;33m(\u001b[0m\u001b[1;33m)\u001b[0m\u001b[1;33m\u001b[0m\u001b[1;33m\u001b[0m\u001b[0m\n\u001b[0m\u001b[0;32m     15\u001b[0m         \u001b[0msleep\u001b[0m\u001b[1;33m(\u001b[0m\u001b[0mtime_lapse\u001b[0m\u001b[1;33m)\u001b[0m\u001b[1;33m\u001b[0m\u001b[1;33m\u001b[0m\u001b[0m\n",
      "\u001b[1;32m~\\AppData\\Local\\Temp/ipykernel_17040/2410292500.py\u001b[0m in \u001b[0;36mdessine\u001b[1;34m(self, taux)\u001b[0m\n\u001b[0;32m     66\u001b[0m         \u001b[1;32mfor\u001b[0m \u001b[0m_\u001b[0m \u001b[1;32min\u001b[0m \u001b[0mrange\u001b[0m\u001b[1;33m(\u001b[0m\u001b[1;36m5\u001b[0m\u001b[1;33m)\u001b[0m \u001b[1;33m:\u001b[0m\u001b[1;33m\u001b[0m\u001b[1;33m\u001b[0m\u001b[0m\n\u001b[0;32m     67\u001b[0m \u001b[1;33m\u001b[0m\u001b[0m\n\u001b[1;32m---> 68\u001b[1;33m             \u001b[0ms1\u001b[0m\u001b[1;33m.\u001b[0m\u001b[0mfill_style\u001b[0m \u001b[1;33m=\u001b[0m \u001b[1;34mf'rgba(255, 250, 250, {taux/100})'\u001b[0m\u001b[1;33m\u001b[0m\u001b[1;33m\u001b[0m\u001b[0m\n\u001b[0m\u001b[0;32m     69\u001b[0m             \u001b[0ms1\u001b[0m\u001b[1;33m.\u001b[0m\u001b[0mfill_circle\u001b[0m\u001b[1;33m(\u001b[0m\u001b[0mself\u001b[0m\u001b[1;33m.\u001b[0m\u001b[0mabscisse\u001b[0m\u001b[1;33m,\u001b[0m \u001b[0mself\u001b[0m\u001b[1;33m.\u001b[0m\u001b[0mordonnee\u001b[0m\u001b[1;33m,\u001b[0m \u001b[0mself\u001b[0m\u001b[1;33m.\u001b[0m\u001b[0mdiametre\u001b[0m\u001b[1;33m)\u001b[0m\u001b[1;33m\u001b[0m\u001b[1;33m\u001b[0m\u001b[0m\n\u001b[0;32m     70\u001b[0m \u001b[1;33m\u001b[0m\u001b[0m\n",
      "\u001b[1;32m~\\AppData\\Local\\Programs\\Python\\Python39\\lib\\site-packages\\ipycanvas\\canvas.py\u001b[0m in \u001b[0;36m__setattr__\u001b[1;34m(self, name, value)\u001b[0m\n\u001b[0;32m   1175\u001b[0m \u001b[1;33m\u001b[0m\u001b[0m\n\u001b[0;32m   1176\u001b[0m     \u001b[1;32mdef\u001b[0m \u001b[0m__setattr__\u001b[0m\u001b[1;33m(\u001b[0m\u001b[0mself\u001b[0m\u001b[1;33m,\u001b[0m \u001b[0mname\u001b[0m\u001b[1;33m,\u001b[0m \u001b[0mvalue\u001b[0m\u001b[1;33m)\u001b[0m\u001b[1;33m:\u001b[0m\u001b[1;33m\u001b[0m\u001b[1;33m\u001b[0m\u001b[0m\n\u001b[1;32m-> 1177\u001b[1;33m         \u001b[0msuper\u001b[0m\u001b[1;33m(\u001b[0m\u001b[0mCanvas\u001b[0m\u001b[1;33m,\u001b[0m \u001b[0mself\u001b[0m\u001b[1;33m)\u001b[0m\u001b[1;33m.\u001b[0m\u001b[0m__setattr__\u001b[0m\u001b[1;33m(\u001b[0m\u001b[0mname\u001b[0m\u001b[1;33m,\u001b[0m \u001b[0mvalue\u001b[0m\u001b[1;33m)\u001b[0m\u001b[1;33m\u001b[0m\u001b[1;33m\u001b[0m\u001b[0m\n\u001b[0m\u001b[0;32m   1178\u001b[0m \u001b[1;33m\u001b[0m\u001b[0m\n\u001b[0;32m   1179\u001b[0m         \u001b[1;32mif\u001b[0m \u001b[0mname\u001b[0m \u001b[1;32min\u001b[0m \u001b[0mself\u001b[0m\u001b[1;33m.\u001b[0m\u001b[0mATTRS\u001b[0m\u001b[1;33m:\u001b[0m\u001b[1;33m\u001b[0m\u001b[1;33m\u001b[0m\u001b[0m\n",
      "\u001b[1;32m~\\AppData\\Local\\Programs\\Python\\Python39\\lib\\site-packages\\traitlets\\traitlets.py\u001b[0m in \u001b[0;36m__set__\u001b[1;34m(self, obj, value)\u001b[0m\n\u001b[0;32m    604\u001b[0m             \u001b[1;32mraise\u001b[0m \u001b[0mTraitError\u001b[0m\u001b[1;33m(\u001b[0m\u001b[1;34m'The \"%s\" trait is read-only.'\u001b[0m \u001b[1;33m%\u001b[0m \u001b[0mself\u001b[0m\u001b[1;33m.\u001b[0m\u001b[0mname\u001b[0m\u001b[1;33m)\u001b[0m\u001b[1;33m\u001b[0m\u001b[1;33m\u001b[0m\u001b[0m\n\u001b[0;32m    605\u001b[0m         \u001b[1;32melse\u001b[0m\u001b[1;33m:\u001b[0m\u001b[1;33m\u001b[0m\u001b[1;33m\u001b[0m\u001b[0m\n\u001b[1;32m--> 606\u001b[1;33m             \u001b[0mself\u001b[0m\u001b[1;33m.\u001b[0m\u001b[0mset\u001b[0m\u001b[1;33m(\u001b[0m\u001b[0mobj\u001b[0m\u001b[1;33m,\u001b[0m \u001b[0mvalue\u001b[0m\u001b[1;33m)\u001b[0m\u001b[1;33m\u001b[0m\u001b[1;33m\u001b[0m\u001b[0m\n\u001b[0m\u001b[0;32m    607\u001b[0m \u001b[1;33m\u001b[0m\u001b[0m\n\u001b[0;32m    608\u001b[0m     \u001b[1;32mdef\u001b[0m \u001b[0m_validate\u001b[0m\u001b[1;33m(\u001b[0m\u001b[0mself\u001b[0m\u001b[1;33m,\u001b[0m \u001b[0mobj\u001b[0m\u001b[1;33m,\u001b[0m \u001b[0mvalue\u001b[0m\u001b[1;33m)\u001b[0m\u001b[1;33m:\u001b[0m\u001b[1;33m\u001b[0m\u001b[1;33m\u001b[0m\u001b[0m\n",
      "\u001b[1;32m~\\AppData\\Local\\Programs\\Python\\Python39\\lib\\site-packages\\traitlets\\traitlets.py\u001b[0m in \u001b[0;36mset\u001b[1;34m(self, obj, value)\u001b[0m\n\u001b[0;32m    593\u001b[0m             \u001b[1;31m# we explicitly compare silent to True just in case the equality\u001b[0m\u001b[1;33m\u001b[0m\u001b[1;33m\u001b[0m\u001b[1;33m\u001b[0m\u001b[0m\n\u001b[0;32m    594\u001b[0m             \u001b[1;31m# comparison above returns something other than True/False\u001b[0m\u001b[1;33m\u001b[0m\u001b[1;33m\u001b[0m\u001b[1;33m\u001b[0m\u001b[0m\n\u001b[1;32m--> 595\u001b[1;33m             \u001b[0mobj\u001b[0m\u001b[1;33m.\u001b[0m\u001b[0m_notify_trait\u001b[0m\u001b[1;33m(\u001b[0m\u001b[0mself\u001b[0m\u001b[1;33m.\u001b[0m\u001b[0mname\u001b[0m\u001b[1;33m,\u001b[0m \u001b[0mold_value\u001b[0m\u001b[1;33m,\u001b[0m \u001b[0mnew_value\u001b[0m\u001b[1;33m)\u001b[0m\u001b[1;33m\u001b[0m\u001b[1;33m\u001b[0m\u001b[0m\n\u001b[0m\u001b[0;32m    596\u001b[0m \u001b[1;33m\u001b[0m\u001b[0m\n\u001b[0;32m    597\u001b[0m     \u001b[1;32mdef\u001b[0m \u001b[0m__set__\u001b[0m\u001b[1;33m(\u001b[0m\u001b[0mself\u001b[0m\u001b[1;33m,\u001b[0m \u001b[0mobj\u001b[0m\u001b[1;33m,\u001b[0m \u001b[0mvalue\u001b[0m\u001b[1;33m)\u001b[0m\u001b[1;33m:\u001b[0m\u001b[1;33m\u001b[0m\u001b[1;33m\u001b[0m\u001b[0m\n",
      "\u001b[1;32m~\\AppData\\Local\\Programs\\Python\\Python39\\lib\\site-packages\\traitlets\\traitlets.py\u001b[0m in \u001b[0;36m_notify_trait\u001b[1;34m(self, name, old_value, new_value)\u001b[0m\n\u001b[0;32m   1217\u001b[0m \u001b[1;33m\u001b[0m\u001b[0m\n\u001b[0;32m   1218\u001b[0m     \u001b[1;32mdef\u001b[0m \u001b[0m_notify_trait\u001b[0m\u001b[1;33m(\u001b[0m\u001b[0mself\u001b[0m\u001b[1;33m,\u001b[0m \u001b[0mname\u001b[0m\u001b[1;33m,\u001b[0m \u001b[0mold_value\u001b[0m\u001b[1;33m,\u001b[0m \u001b[0mnew_value\u001b[0m\u001b[1;33m)\u001b[0m\u001b[1;33m:\u001b[0m\u001b[1;33m\u001b[0m\u001b[1;33m\u001b[0m\u001b[0m\n\u001b[1;32m-> 1219\u001b[1;33m         self.notify_change(Bunch(\n\u001b[0m\u001b[0;32m   1220\u001b[0m             \u001b[0mname\u001b[0m\u001b[1;33m=\u001b[0m\u001b[0mname\u001b[0m\u001b[1;33m,\u001b[0m\u001b[1;33m\u001b[0m\u001b[1;33m\u001b[0m\u001b[0m\n\u001b[0;32m   1221\u001b[0m             \u001b[0mold\u001b[0m\u001b[1;33m=\u001b[0m\u001b[0mold_value\u001b[0m\u001b[1;33m,\u001b[0m\u001b[1;33m\u001b[0m\u001b[1;33m\u001b[0m\u001b[0m\n",
      "\u001b[1;32m~\\AppData\\Local\\Programs\\Python\\Python39\\lib\\site-packages\\ipywidgets\\widgets\\widget.py\u001b[0m in \u001b[0;36mnotify_change\u001b[1;34m(self, change)\u001b[0m\n\u001b[0;32m    604\u001b[0m                 \u001b[1;31m# Send new state to front-end\u001b[0m\u001b[1;33m\u001b[0m\u001b[1;33m\u001b[0m\u001b[1;33m\u001b[0m\u001b[0m\n\u001b[0;32m    605\u001b[0m                 \u001b[0mself\u001b[0m\u001b[1;33m.\u001b[0m\u001b[0msend_state\u001b[0m\u001b[1;33m(\u001b[0m\u001b[0mkey\u001b[0m\u001b[1;33m=\u001b[0m\u001b[0mname\u001b[0m\u001b[1;33m)\u001b[0m\u001b[1;33m\u001b[0m\u001b[1;33m\u001b[0m\u001b[0m\n\u001b[1;32m--> 606\u001b[1;33m         \u001b[0msuper\u001b[0m\u001b[1;33m(\u001b[0m\u001b[0mWidget\u001b[0m\u001b[1;33m,\u001b[0m \u001b[0mself\u001b[0m\u001b[1;33m)\u001b[0m\u001b[1;33m.\u001b[0m\u001b[0mnotify_change\u001b[0m\u001b[1;33m(\u001b[0m\u001b[0mchange\u001b[0m\u001b[1;33m)\u001b[0m\u001b[1;33m\u001b[0m\u001b[1;33m\u001b[0m\u001b[0m\n\u001b[0m\u001b[0;32m    607\u001b[0m \u001b[1;33m\u001b[0m\u001b[0m\n\u001b[0;32m    608\u001b[0m     \u001b[1;32mdef\u001b[0m \u001b[0m__repr__\u001b[0m\u001b[1;33m(\u001b[0m\u001b[0mself\u001b[0m\u001b[1;33m)\u001b[0m\u001b[1;33m:\u001b[0m\u001b[1;33m\u001b[0m\u001b[1;33m\u001b[0m\u001b[0m\n",
      "\u001b[1;31mKeyboardInterrupt\u001b[0m: "
     ]
    }
   ],
   "source": [
    "# Tests pour l'affichage finale d'une chute de neige\n",
    "display(s1)\n",
    "mes_flocons = initialisation(150)    \n",
    "chute(mes_flocons, 0.005)"
   ]
  },
  {
   "cell_type": "markdown",
   "metadata": {},
   "source": [
    "- Mettre alors à jour à ce stade du développement le code validé par les tests pour produire une animation simulant une chute de neige la plus réaliste possible..."
   ]
  },
  {
   "cell_type": "code",
   "execution_count": 1,
   "metadata": {},
   "outputs": [
    {
     "data": {
      "application/vnd.jupyter.widget-view+json": {
       "model_id": "fea3986af04c459eafe00046c017ff24",
       "version_major": 2,
       "version_minor": 0
      },
      "text/plain": [
       "Canvas(height=400, width=600)"
      ]
     },
     "metadata": {},
     "output_type": "display_data"
    },
    {
     "ename": "KeyboardInterrupt",
     "evalue": "",
     "output_type": "error",
     "traceback": [
      "\u001b[1;31m---------------------------------------------------------------------------\u001b[0m",
      "\u001b[1;31mKeyboardInterrupt\u001b[0m                         Traceback (most recent call last)",
      "\u001b[1;32mC:\\Users\\UTILIS~1\\AppData\\Local\\Temp/ipykernel_11844/3608697684.py\u001b[0m in \u001b[0;36m<module>\u001b[1;34m\u001b[0m\n\u001b[0;32m    124\u001b[0m     \u001b[0mdisplay\u001b[0m\u001b[1;33m(\u001b[0m\u001b[0ms1\u001b[0m\u001b[1;33m)\u001b[0m\u001b[1;33m\u001b[0m\u001b[1;33m\u001b[0m\u001b[0m\n\u001b[0;32m    125\u001b[0m     \u001b[0mmes_flocons\u001b[0m \u001b[1;33m=\u001b[0m \u001b[0minitialisation\u001b[0m\u001b[1;33m(\u001b[0m\u001b[1;36m150\u001b[0m\u001b[1;33m)\u001b[0m\u001b[1;33m\u001b[0m\u001b[1;33m\u001b[0m\u001b[0m\n\u001b[1;32m--> 126\u001b[1;33m     \u001b[0mchute\u001b[0m\u001b[1;33m(\u001b[0m\u001b[0mmes_flocons\u001b[0m\u001b[1;33m,\u001b[0m \u001b[1;36m0.005\u001b[0m\u001b[1;33m)\u001b[0m\u001b[1;33m\u001b[0m\u001b[1;33m\u001b[0m\u001b[0m\n\u001b[0m",
      "\u001b[1;32mC:\\Users\\UTILIS~1\\AppData\\Local\\Temp/ipykernel_11844/3608697684.py\u001b[0m in \u001b[0;36mchute\u001b[1;34m(tableau, time_lapse)\u001b[0m\n\u001b[0;32m    115\u001b[0m             \u001b[1;32mfor\u001b[0m \u001b[0mn\u001b[0m \u001b[1;32min\u001b[0m \u001b[0mrange\u001b[0m\u001b[1;33m(\u001b[0m\u001b[0mlen\u001b[0m\u001b[1;33m(\u001b[0m\u001b[0mmes_flocons\u001b[0m\u001b[1;33m)\u001b[0m\u001b[1;33m)\u001b[0m \u001b[1;33m:\u001b[0m\u001b[1;33m\u001b[0m\u001b[1;33m\u001b[0m\u001b[0m\n\u001b[0;32m    116\u001b[0m                 \u001b[0mmes_flocons\u001b[0m\u001b[1;33m[\u001b[0m\u001b[0mn\u001b[0m\u001b[1;33m]\u001b[0m\u001b[1;33m.\u001b[0m\u001b[0mevolue\u001b[0m\u001b[1;33m(\u001b[0m\u001b[1;33m)\u001b[0m\u001b[1;33m\u001b[0m\u001b[1;33m\u001b[0m\u001b[0m\n\u001b[1;32m--> 117\u001b[1;33m                 \u001b[0mmes_flocons\u001b[0m\u001b[1;33m[\u001b[0m\u001b[0mn\u001b[0m\u001b[1;33m]\u001b[0m\u001b[1;33m.\u001b[0m\u001b[0mdessine\u001b[0m\u001b[1;33m(\u001b[0m\u001b[1;33m)\u001b[0m\u001b[1;33m\u001b[0m\u001b[1;33m\u001b[0m\u001b[0m\n\u001b[0m\u001b[0;32m    118\u001b[0m         \u001b[0msleep\u001b[0m\u001b[1;33m(\u001b[0m\u001b[0mtime_lapse\u001b[0m\u001b[1;33m)\u001b[0m\u001b[1;33m\u001b[0m\u001b[1;33m\u001b[0m\u001b[0m\n\u001b[0;32m    119\u001b[0m \u001b[1;33m\u001b[0m\u001b[0m\n",
      "\u001b[1;32mc:\\Users\\Utilisateur\\AppData\\Local\\Programs\\Python\\Python39\\lib\\contextlib.py\u001b[0m in \u001b[0;36m__exit__\u001b[1;34m(self, type, value, traceback)\u001b[0m\n\u001b[0;32m    122\u001b[0m         \u001b[1;32mif\u001b[0m \u001b[0mtype\u001b[0m \u001b[1;32mis\u001b[0m \u001b[1;32mNone\u001b[0m\u001b[1;33m:\u001b[0m\u001b[1;33m\u001b[0m\u001b[1;33m\u001b[0m\u001b[0m\n\u001b[0;32m    123\u001b[0m             \u001b[1;32mtry\u001b[0m\u001b[1;33m:\u001b[0m\u001b[1;33m\u001b[0m\u001b[1;33m\u001b[0m\u001b[0m\n\u001b[1;32m--> 124\u001b[1;33m                 \u001b[0mnext\u001b[0m\u001b[1;33m(\u001b[0m\u001b[0mself\u001b[0m\u001b[1;33m.\u001b[0m\u001b[0mgen\u001b[0m\u001b[1;33m)\u001b[0m\u001b[1;33m\u001b[0m\u001b[1;33m\u001b[0m\u001b[0m\n\u001b[0m\u001b[0;32m    125\u001b[0m             \u001b[1;32mexcept\u001b[0m \u001b[0mStopIteration\u001b[0m\u001b[1;33m:\u001b[0m\u001b[1;33m\u001b[0m\u001b[1;33m\u001b[0m\u001b[0m\n\u001b[0;32m    126\u001b[0m                 \u001b[1;32mreturn\u001b[0m \u001b[1;32mFalse\u001b[0m\u001b[1;33m\u001b[0m\u001b[1;33m\u001b[0m\u001b[0m\n",
      "\u001b[1;32mc:\\Users\\Utilisateur\\AppData\\Local\\Programs\\Python\\Python39\\lib\\site-packages\\ipycanvas\\canvas.py\u001b[0m in \u001b[0;36mhold_canvas\u001b[1;34m(canvas)\u001b[0m\n\u001b[0;32m   1016\u001b[0m     \u001b[0mcanvas\u001b[0m\u001b[1;33m.\u001b[0m\u001b[0mcaching\u001b[0m \u001b[1;33m=\u001b[0m \u001b[1;32mTrue\u001b[0m\u001b[1;33m\u001b[0m\u001b[1;33m\u001b[0m\u001b[0m\n\u001b[0;32m   1017\u001b[0m     \u001b[1;32myield\u001b[0m\u001b[1;33m\u001b[0m\u001b[1;33m\u001b[0m\u001b[0m\n\u001b[1;32m-> 1018\u001b[1;33m     \u001b[0mcanvas\u001b[0m\u001b[1;33m.\u001b[0m\u001b[0mflush\u001b[0m\u001b[1;33m(\u001b[0m\u001b[1;33m)\u001b[0m\u001b[1;33m\u001b[0m\u001b[1;33m\u001b[0m\u001b[0m\n\u001b[0m\u001b[0;32m   1019\u001b[0m \u001b[1;33m\u001b[0m\u001b[0m\n\u001b[0;32m   1020\u001b[0m     \u001b[1;32mif\u001b[0m \u001b[1;32mnot\u001b[0m \u001b[0morig_caching\u001b[0m\u001b[1;33m:\u001b[0m\u001b[1;33m\u001b[0m\u001b[1;33m\u001b[0m\u001b[0m\n",
      "\u001b[1;32mc:\\Users\\Utilisateur\\AppData\\Local\\Programs\\Python\\Python39\\lib\\site-packages\\ipycanvas\\canvas.py\u001b[0m in \u001b[0;36mflush\u001b[1;34m(self)\u001b[0m\n\u001b[0;32m    794\u001b[0m             \u001b[1;32mreturn\u001b[0m\u001b[1;33m\u001b[0m\u001b[1;33m\u001b[0m\u001b[0m\n\u001b[0;32m    795\u001b[0m \u001b[1;33m\u001b[0m\u001b[0m\n\u001b[1;32m--> 796\u001b[1;33m         \u001b[0mself\u001b[0m\u001b[1;33m.\u001b[0m\u001b[0m_send_custom\u001b[0m\u001b[1;33m(\u001b[0m\u001b[0mself\u001b[0m\u001b[1;33m.\u001b[0m\u001b[0m_commands_cache\u001b[0m\u001b[1;33m,\u001b[0m \u001b[0mself\u001b[0m\u001b[1;33m.\u001b[0m\u001b[0m_buffers_cache\u001b[0m\u001b[1;33m)\u001b[0m\u001b[1;33m\u001b[0m\u001b[1;33m\u001b[0m\u001b[0m\n\u001b[0m\u001b[0;32m    797\u001b[0m \u001b[1;33m\u001b[0m\u001b[0m\n\u001b[0;32m    798\u001b[0m         \u001b[0mself\u001b[0m\u001b[1;33m.\u001b[0m\u001b[0m_commands_cache\u001b[0m \u001b[1;33m=\u001b[0m \u001b[1;33m[\u001b[0m\u001b[1;33m]\u001b[0m\u001b[1;33m\u001b[0m\u001b[1;33m\u001b[0m\u001b[0m\n",
      "\u001b[1;32mc:\\Users\\Utilisateur\\AppData\\Local\\Programs\\Python\\Python39\\lib\\site-packages\\ipycanvas\\canvas.py\u001b[0m in \u001b[0;36m_send_custom\u001b[1;34m(self, command, buffers)\u001b[0m\n\u001b[0;32m    866\u001b[0m     \u001b[1;32mdef\u001b[0m \u001b[0m_send_custom\u001b[0m\u001b[1;33m(\u001b[0m\u001b[0mself\u001b[0m\u001b[1;33m,\u001b[0m \u001b[0mcommand\u001b[0m\u001b[1;33m,\u001b[0m \u001b[0mbuffers\u001b[0m\u001b[1;33m=\u001b[0m\u001b[1;33m[\u001b[0m\u001b[1;33m]\u001b[0m\u001b[1;33m)\u001b[0m\u001b[1;33m:\u001b[0m\u001b[1;33m\u001b[0m\u001b[1;33m\u001b[0m\u001b[0m\n\u001b[0;32m    867\u001b[0m         \u001b[0mmetadata\u001b[0m\u001b[1;33m,\u001b[0m \u001b[0mcommand_buffer\u001b[0m \u001b[1;33m=\u001b[0m \u001b[0mcommands_to_buffer\u001b[0m\u001b[1;33m(\u001b[0m\u001b[0mcommand\u001b[0m\u001b[1;33m)\u001b[0m\u001b[1;33m\u001b[0m\u001b[1;33m\u001b[0m\u001b[0m\n\u001b[1;32m--> 868\u001b[1;33m         \u001b[0mself\u001b[0m\u001b[1;33m.\u001b[0m\u001b[0msend\u001b[0m\u001b[1;33m(\u001b[0m\u001b[0mmetadata\u001b[0m\u001b[1;33m,\u001b[0m \u001b[0mbuffers\u001b[0m\u001b[1;33m=\u001b[0m\u001b[1;33m[\u001b[0m\u001b[0mcommand_buffer\u001b[0m\u001b[1;33m]\u001b[0m \u001b[1;33m+\u001b[0m \u001b[0mbuffers\u001b[0m\u001b[1;33m)\u001b[0m\u001b[1;33m\u001b[0m\u001b[1;33m\u001b[0m\u001b[0m\n\u001b[0m\u001b[0;32m    869\u001b[0m \u001b[1;33m\u001b[0m\u001b[0m\n\u001b[0;32m    870\u001b[0m     \u001b[1;32mdef\u001b[0m \u001b[0m_handle_frontend_event\u001b[0m\u001b[1;33m(\u001b[0m\u001b[0mself\u001b[0m\u001b[1;33m,\u001b[0m \u001b[0m_\u001b[0m\u001b[1;33m,\u001b[0m \u001b[0mcontent\u001b[0m\u001b[1;33m,\u001b[0m \u001b[0mbuffers\u001b[0m\u001b[1;33m)\u001b[0m\u001b[1;33m:\u001b[0m\u001b[1;33m\u001b[0m\u001b[1;33m\u001b[0m\u001b[0m\n",
      "\u001b[1;32mc:\\Users\\Utilisateur\\AppData\\Local\\Programs\\Python\\Python39\\lib\\site-packages\\ipywidgets\\widgets\\widget.py\u001b[0m in \u001b[0;36msend\u001b[1;34m(self, content, buffers)\u001b[0m\n\u001b[0;32m    555\u001b[0m             \u001b[0mBinary\u001b[0m \u001b[0mbuffers\u001b[0m \u001b[0mto\u001b[0m \u001b[0msend\u001b[0m \u001b[1;32mwith\u001b[0m \u001b[0mmessage\u001b[0m\u001b[1;33m\u001b[0m\u001b[1;33m\u001b[0m\u001b[0m\n\u001b[0;32m    556\u001b[0m         \"\"\"\n\u001b[1;32m--> 557\u001b[1;33m         \u001b[0mself\u001b[0m\u001b[1;33m.\u001b[0m\u001b[0m_send\u001b[0m\u001b[1;33m(\u001b[0m\u001b[1;33m{\u001b[0m\u001b[1;34m\"method\"\u001b[0m\u001b[1;33m:\u001b[0m \u001b[1;34m\"custom\"\u001b[0m\u001b[1;33m,\u001b[0m \u001b[1;34m\"content\"\u001b[0m\u001b[1;33m:\u001b[0m \u001b[0mcontent\u001b[0m\u001b[1;33m}\u001b[0m\u001b[1;33m,\u001b[0m \u001b[0mbuffers\u001b[0m\u001b[1;33m=\u001b[0m\u001b[0mbuffers\u001b[0m\u001b[1;33m)\u001b[0m\u001b[1;33m\u001b[0m\u001b[1;33m\u001b[0m\u001b[0m\n\u001b[0m\u001b[0;32m    558\u001b[0m \u001b[1;33m\u001b[0m\u001b[0m\n\u001b[0;32m    559\u001b[0m     \u001b[1;32mdef\u001b[0m \u001b[0mon_msg\u001b[0m\u001b[1;33m(\u001b[0m\u001b[0mself\u001b[0m\u001b[1;33m,\u001b[0m \u001b[0mcallback\u001b[0m\u001b[1;33m,\u001b[0m \u001b[0mremove\u001b[0m\u001b[1;33m=\u001b[0m\u001b[1;32mFalse\u001b[0m\u001b[1;33m)\u001b[0m\u001b[1;33m:\u001b[0m\u001b[1;33m\u001b[0m\u001b[1;33m\u001b[0m\u001b[0m\n",
      "\u001b[1;32mc:\\Users\\Utilisateur\\AppData\\Local\\Programs\\Python\\Python39\\lib\\site-packages\\ipywidgets\\widgets\\widget.py\u001b[0m in \u001b[0;36m_send\u001b[1;34m(self, msg, buffers)\u001b[0m\n\u001b[0;32m    735\u001b[0m         \u001b[1;34m\"\"\"Sends a message to the model in the front-end.\"\"\"\u001b[0m\u001b[1;33m\u001b[0m\u001b[1;33m\u001b[0m\u001b[0m\n\u001b[0;32m    736\u001b[0m         \u001b[1;32mif\u001b[0m \u001b[0mself\u001b[0m\u001b[1;33m.\u001b[0m\u001b[0mcomm\u001b[0m \u001b[1;32mis\u001b[0m \u001b[1;32mnot\u001b[0m \u001b[1;32mNone\u001b[0m \u001b[1;32mand\u001b[0m \u001b[0mself\u001b[0m\u001b[1;33m.\u001b[0m\u001b[0mcomm\u001b[0m\u001b[1;33m.\u001b[0m\u001b[0mkernel\u001b[0m \u001b[1;32mis\u001b[0m \u001b[1;32mnot\u001b[0m \u001b[1;32mNone\u001b[0m\u001b[1;33m:\u001b[0m\u001b[1;33m\u001b[0m\u001b[1;33m\u001b[0m\u001b[0m\n\u001b[1;32m--> 737\u001b[1;33m             \u001b[0mself\u001b[0m\u001b[1;33m.\u001b[0m\u001b[0mcomm\u001b[0m\u001b[1;33m.\u001b[0m\u001b[0msend\u001b[0m\u001b[1;33m(\u001b[0m\u001b[0mdata\u001b[0m\u001b[1;33m=\u001b[0m\u001b[0mmsg\u001b[0m\u001b[1;33m,\u001b[0m \u001b[0mbuffers\u001b[0m\u001b[1;33m=\u001b[0m\u001b[0mbuffers\u001b[0m\u001b[1;33m)\u001b[0m\u001b[1;33m\u001b[0m\u001b[1;33m\u001b[0m\u001b[0m\n\u001b[0m\u001b[0;32m    738\u001b[0m \u001b[1;33m\u001b[0m\u001b[0m\n\u001b[0;32m    739\u001b[0m     \u001b[1;32mdef\u001b[0m \u001b[0m_repr_keys\u001b[0m\u001b[1;33m(\u001b[0m\u001b[0mself\u001b[0m\u001b[1;33m)\u001b[0m\u001b[1;33m:\u001b[0m\u001b[1;33m\u001b[0m\u001b[1;33m\u001b[0m\u001b[0m\n",
      "\u001b[1;32mc:\\Users\\Utilisateur\\AppData\\Local\\Programs\\Python\\Python39\\lib\\site-packages\\ipykernel\\comm\\comm.py\u001b[0m in \u001b[0;36msend\u001b[1;34m(self, data, metadata, buffers)\u001b[0m\n\u001b[0;32m    120\u001b[0m     \u001b[1;32mdef\u001b[0m \u001b[0msend\u001b[0m\u001b[1;33m(\u001b[0m\u001b[0mself\u001b[0m\u001b[1;33m,\u001b[0m \u001b[0mdata\u001b[0m\u001b[1;33m=\u001b[0m\u001b[1;32mNone\u001b[0m\u001b[1;33m,\u001b[0m \u001b[0mmetadata\u001b[0m\u001b[1;33m=\u001b[0m\u001b[1;32mNone\u001b[0m\u001b[1;33m,\u001b[0m \u001b[0mbuffers\u001b[0m\u001b[1;33m=\u001b[0m\u001b[1;32mNone\u001b[0m\u001b[1;33m)\u001b[0m\u001b[1;33m:\u001b[0m\u001b[1;33m\u001b[0m\u001b[1;33m\u001b[0m\u001b[0m\n\u001b[0;32m    121\u001b[0m         \u001b[1;34m\"\"\"Send a message to the frontend-side version of this comm\"\"\"\u001b[0m\u001b[1;33m\u001b[0m\u001b[1;33m\u001b[0m\u001b[0m\n\u001b[1;32m--> 122\u001b[1;33m         self._publish_msg('comm_msg',\n\u001b[0m\u001b[0;32m    123\u001b[0m             \u001b[0mdata\u001b[0m\u001b[1;33m=\u001b[0m\u001b[0mdata\u001b[0m\u001b[1;33m,\u001b[0m \u001b[0mmetadata\u001b[0m\u001b[1;33m=\u001b[0m\u001b[0mmetadata\u001b[0m\u001b[1;33m,\u001b[0m \u001b[0mbuffers\u001b[0m\u001b[1;33m=\u001b[0m\u001b[0mbuffers\u001b[0m\u001b[1;33m,\u001b[0m\u001b[1;33m\u001b[0m\u001b[1;33m\u001b[0m\u001b[0m\n\u001b[0;32m    124\u001b[0m         )\n",
      "\u001b[1;32mc:\\Users\\Utilisateur\\AppData\\Local\\Programs\\Python\\Python39\\lib\\site-packages\\ipykernel\\comm\\comm.py\u001b[0m in \u001b[0;36m_publish_msg\u001b[1;34m(self, msg_type, data, metadata, buffers, **keys)\u001b[0m\n\u001b[0;32m     64\u001b[0m         \u001b[0mmetadata\u001b[0m \u001b[1;33m=\u001b[0m \u001b[1;33m{\u001b[0m\u001b[1;33m}\u001b[0m \u001b[1;32mif\u001b[0m \u001b[0mmetadata\u001b[0m \u001b[1;32mis\u001b[0m \u001b[1;32mNone\u001b[0m \u001b[1;32melse\u001b[0m \u001b[0mmetadata\u001b[0m\u001b[1;33m\u001b[0m\u001b[1;33m\u001b[0m\u001b[0m\n\u001b[0;32m     65\u001b[0m         \u001b[0mcontent\u001b[0m \u001b[1;33m=\u001b[0m \u001b[0mjson_clean\u001b[0m\u001b[1;33m(\u001b[0m\u001b[0mdict\u001b[0m\u001b[1;33m(\u001b[0m\u001b[0mdata\u001b[0m\u001b[1;33m=\u001b[0m\u001b[0mdata\u001b[0m\u001b[1;33m,\u001b[0m \u001b[0mcomm_id\u001b[0m\u001b[1;33m=\u001b[0m\u001b[0mself\u001b[0m\u001b[1;33m.\u001b[0m\u001b[0mcomm_id\u001b[0m\u001b[1;33m,\u001b[0m \u001b[1;33m**\u001b[0m\u001b[0mkeys\u001b[0m\u001b[1;33m)\u001b[0m\u001b[1;33m)\u001b[0m\u001b[1;33m\u001b[0m\u001b[1;33m\u001b[0m\u001b[0m\n\u001b[1;32m---> 66\u001b[1;33m         self.kernel.session.send(self.kernel.iopub_socket, msg_type,\n\u001b[0m\u001b[0;32m     67\u001b[0m             \u001b[0mcontent\u001b[0m\u001b[1;33m,\u001b[0m\u001b[1;33m\u001b[0m\u001b[1;33m\u001b[0m\u001b[0m\n\u001b[0;32m     68\u001b[0m             \u001b[0mmetadata\u001b[0m\u001b[1;33m=\u001b[0m\u001b[0mjson_clean\u001b[0m\u001b[1;33m(\u001b[0m\u001b[0mmetadata\u001b[0m\u001b[1;33m)\u001b[0m\u001b[1;33m,\u001b[0m\u001b[1;33m\u001b[0m\u001b[1;33m\u001b[0m\u001b[0m\n",
      "\u001b[1;32mc:\\Users\\Utilisateur\\AppData\\Local\\Programs\\Python\\Python39\\lib\\site-packages\\jupyter_client\\session.py\u001b[0m in \u001b[0;36msend\u001b[1;34m(self, stream, msg_or_type, content, parent, ident, buffers, track, header, metadata)\u001b[0m\n\u001b[0;32m    839\u001b[0m             \u001b[1;31m# use dummy tracker, which will be done immediately\u001b[0m\u001b[1;33m\u001b[0m\u001b[1;33m\u001b[0m\u001b[1;33m\u001b[0m\u001b[0m\n\u001b[0;32m    840\u001b[0m             \u001b[0mtracker\u001b[0m \u001b[1;33m=\u001b[0m \u001b[0mDONE\u001b[0m\u001b[1;33m\u001b[0m\u001b[1;33m\u001b[0m\u001b[0m\n\u001b[1;32m--> 841\u001b[1;33m             \u001b[0mstream\u001b[0m\u001b[1;33m.\u001b[0m\u001b[0msend_multipart\u001b[0m\u001b[1;33m(\u001b[0m\u001b[0mto_send\u001b[0m\u001b[1;33m,\u001b[0m \u001b[0mcopy\u001b[0m\u001b[1;33m=\u001b[0m\u001b[0mcopy\u001b[0m\u001b[1;33m)\u001b[0m\u001b[1;33m\u001b[0m\u001b[1;33m\u001b[0m\u001b[0m\n\u001b[0m\u001b[0;32m    842\u001b[0m \u001b[1;33m\u001b[0m\u001b[0m\n\u001b[0;32m    843\u001b[0m         \u001b[1;32mif\u001b[0m \u001b[0mself\u001b[0m\u001b[1;33m.\u001b[0m\u001b[0mdebug\u001b[0m\u001b[1;33m:\u001b[0m\u001b[1;33m\u001b[0m\u001b[1;33m\u001b[0m\u001b[0m\n",
      "\u001b[1;32mc:\\Users\\Utilisateur\\AppData\\Local\\Programs\\Python\\Python39\\lib\\site-packages\\ipykernel\\iostream.py\u001b[0m in \u001b[0;36msend_multipart\u001b[1;34m(self, *args, **kwargs)\u001b[0m\n\u001b[0;32m    281\u001b[0m     \u001b[1;32mdef\u001b[0m \u001b[0msend_multipart\u001b[0m\u001b[1;33m(\u001b[0m\u001b[0mself\u001b[0m\u001b[1;33m,\u001b[0m \u001b[1;33m*\u001b[0m\u001b[0margs\u001b[0m\u001b[1;33m,\u001b[0m \u001b[1;33m**\u001b[0m\u001b[0mkwargs\u001b[0m\u001b[1;33m)\u001b[0m\u001b[1;33m:\u001b[0m\u001b[1;33m\u001b[0m\u001b[1;33m\u001b[0m\u001b[0m\n\u001b[0;32m    282\u001b[0m         \u001b[1;34m\"\"\"Schedule send in IO thread\"\"\"\u001b[0m\u001b[1;33m\u001b[0m\u001b[1;33m\u001b[0m\u001b[0m\n\u001b[1;32m--> 283\u001b[1;33m         \u001b[1;32mreturn\u001b[0m \u001b[0mself\u001b[0m\u001b[1;33m.\u001b[0m\u001b[0mio_thread\u001b[0m\u001b[1;33m.\u001b[0m\u001b[0msend_multipart\u001b[0m\u001b[1;33m(\u001b[0m\u001b[1;33m*\u001b[0m\u001b[0margs\u001b[0m\u001b[1;33m,\u001b[0m \u001b[1;33m**\u001b[0m\u001b[0mkwargs\u001b[0m\u001b[1;33m)\u001b[0m\u001b[1;33m\u001b[0m\u001b[1;33m\u001b[0m\u001b[0m\n\u001b[0m\u001b[0;32m    284\u001b[0m \u001b[1;33m\u001b[0m\u001b[0m\n\u001b[0;32m    285\u001b[0m \u001b[1;33m\u001b[0m\u001b[0m\n",
      "\u001b[1;32mc:\\Users\\Utilisateur\\AppData\\Local\\Programs\\Python\\Python39\\lib\\site-packages\\ipykernel\\iostream.py\u001b[0m in \u001b[0;36msend_multipart\u001b[1;34m(self, *args, **kwargs)\u001b[0m\n\u001b[0;32m    221\u001b[0m         \u001b[0mIf\u001b[0m \u001b[0mmy\u001b[0m \u001b[0mthread\u001b[0m \u001b[0misn\u001b[0m\u001b[0;31m'\u001b[0m\u001b[0mt\u001b[0m \u001b[0mrunning\u001b[0m \u001b[1;33m(\u001b[0m\u001b[0me\u001b[0m\u001b[1;33m.\u001b[0m\u001b[0mg\u001b[0m\u001b[1;33m.\u001b[0m \u001b[0mforked\u001b[0m \u001b[0mprocess\u001b[0m\u001b[1;33m)\u001b[0m\u001b[1;33m,\u001b[0m \u001b[0msend\u001b[0m \u001b[0mimmediately\u001b[0m\u001b[1;33m.\u001b[0m\u001b[1;33m\u001b[0m\u001b[1;33m\u001b[0m\u001b[0m\n\u001b[0;32m    222\u001b[0m         \"\"\"\n\u001b[1;32m--> 223\u001b[1;33m         \u001b[0mself\u001b[0m\u001b[1;33m.\u001b[0m\u001b[0mschedule\u001b[0m\u001b[1;33m(\u001b[0m\u001b[1;32mlambda\u001b[0m \u001b[1;33m:\u001b[0m \u001b[0mself\u001b[0m\u001b[1;33m.\u001b[0m\u001b[0m_really_send\u001b[0m\u001b[1;33m(\u001b[0m\u001b[1;33m*\u001b[0m\u001b[0margs\u001b[0m\u001b[1;33m,\u001b[0m \u001b[1;33m**\u001b[0m\u001b[0mkwargs\u001b[0m\u001b[1;33m)\u001b[0m\u001b[1;33m)\u001b[0m\u001b[1;33m\u001b[0m\u001b[1;33m\u001b[0m\u001b[0m\n\u001b[0m\u001b[0;32m    224\u001b[0m \u001b[1;33m\u001b[0m\u001b[0m\n\u001b[0;32m    225\u001b[0m     \u001b[1;32mdef\u001b[0m \u001b[0m_really_send\u001b[0m\u001b[1;33m(\u001b[0m\u001b[0mself\u001b[0m\u001b[1;33m,\u001b[0m \u001b[0mmsg\u001b[0m\u001b[1;33m,\u001b[0m \u001b[1;33m*\u001b[0m\u001b[0margs\u001b[0m\u001b[1;33m,\u001b[0m \u001b[1;33m**\u001b[0m\u001b[0mkwargs\u001b[0m\u001b[1;33m)\u001b[0m\u001b[1;33m:\u001b[0m\u001b[1;33m\u001b[0m\u001b[1;33m\u001b[0m\u001b[0m\n",
      "\u001b[1;32mc:\\Users\\Utilisateur\\AppData\\Local\\Programs\\Python\\Python39\\lib\\site-packages\\ipykernel\\iostream.py\u001b[0m in \u001b[0;36mschedule\u001b[1;34m(self, f)\u001b[0m\n\u001b[0;32m    212\u001b[0m             \u001b[0mself\u001b[0m\u001b[1;33m.\u001b[0m\u001b[0m_events\u001b[0m\u001b[1;33m.\u001b[0m\u001b[0mappend\u001b[0m\u001b[1;33m(\u001b[0m\u001b[0mf\u001b[0m\u001b[1;33m)\u001b[0m\u001b[1;33m\u001b[0m\u001b[1;33m\u001b[0m\u001b[0m\n\u001b[0;32m    213\u001b[0m             \u001b[1;31m# wake event thread (message content is ignored)\u001b[0m\u001b[1;33m\u001b[0m\u001b[1;33m\u001b[0m\u001b[1;33m\u001b[0m\u001b[0m\n\u001b[1;32m--> 214\u001b[1;33m             \u001b[0mself\u001b[0m\u001b[1;33m.\u001b[0m\u001b[0m_event_pipe\u001b[0m\u001b[1;33m.\u001b[0m\u001b[0msend\u001b[0m\u001b[1;33m(\u001b[0m\u001b[1;34mb''\u001b[0m\u001b[1;33m)\u001b[0m\u001b[1;33m\u001b[0m\u001b[1;33m\u001b[0m\u001b[0m\n\u001b[0m\u001b[0;32m    215\u001b[0m         \u001b[1;32melse\u001b[0m\u001b[1;33m:\u001b[0m\u001b[1;33m\u001b[0m\u001b[1;33m\u001b[0m\u001b[0m\n\u001b[0;32m    216\u001b[0m             \u001b[0mf\u001b[0m\u001b[1;33m(\u001b[0m\u001b[1;33m)\u001b[0m\u001b[1;33m\u001b[0m\u001b[1;33m\u001b[0m\u001b[0m\n",
      "\u001b[1;32mc:\\Users\\Utilisateur\\AppData\\Local\\Programs\\Python\\Python39\\lib\\site-packages\\zmq\\sugar\\socket.py\u001b[0m in \u001b[0;36msend\u001b[1;34m(self, data, flags, copy, track, routing_id, group)\u001b[0m\n\u001b[0;32m    539\u001b[0m                 )\n\u001b[0;32m    540\u001b[0m             \u001b[0mdata\u001b[0m\u001b[1;33m.\u001b[0m\u001b[0mgroup\u001b[0m \u001b[1;33m=\u001b[0m \u001b[0mgroup\u001b[0m\u001b[1;33m\u001b[0m\u001b[1;33m\u001b[0m\u001b[0m\n\u001b[1;32m--> 541\u001b[1;33m         \u001b[1;32mreturn\u001b[0m \u001b[0msuper\u001b[0m\u001b[1;33m(\u001b[0m\u001b[0mSocket\u001b[0m\u001b[1;33m,\u001b[0m \u001b[0mself\u001b[0m\u001b[1;33m)\u001b[0m\u001b[1;33m.\u001b[0m\u001b[0msend\u001b[0m\u001b[1;33m(\u001b[0m\u001b[0mdata\u001b[0m\u001b[1;33m,\u001b[0m \u001b[0mflags\u001b[0m\u001b[1;33m=\u001b[0m\u001b[0mflags\u001b[0m\u001b[1;33m,\u001b[0m \u001b[0mcopy\u001b[0m\u001b[1;33m=\u001b[0m\u001b[0mcopy\u001b[0m\u001b[1;33m,\u001b[0m \u001b[0mtrack\u001b[0m\u001b[1;33m=\u001b[0m\u001b[0mtrack\u001b[0m\u001b[1;33m)\u001b[0m\u001b[1;33m\u001b[0m\u001b[1;33m\u001b[0m\u001b[0m\n\u001b[0m\u001b[0;32m    542\u001b[0m \u001b[1;33m\u001b[0m\u001b[0m\n\u001b[0;32m    543\u001b[0m     \u001b[1;32mdef\u001b[0m \u001b[0msend_multipart\u001b[0m\u001b[1;33m(\u001b[0m\u001b[0mself\u001b[0m\u001b[1;33m,\u001b[0m \u001b[0mmsg_parts\u001b[0m\u001b[1;33m,\u001b[0m \u001b[0mflags\u001b[0m\u001b[1;33m=\u001b[0m\u001b[1;36m0\u001b[0m\u001b[1;33m,\u001b[0m \u001b[0mcopy\u001b[0m\u001b[1;33m=\u001b[0m\u001b[1;32mTrue\u001b[0m\u001b[1;33m,\u001b[0m \u001b[0mtrack\u001b[0m\u001b[1;33m=\u001b[0m\u001b[1;32mFalse\u001b[0m\u001b[1;33m,\u001b[0m \u001b[1;33m**\u001b[0m\u001b[0mkwargs\u001b[0m\u001b[1;33m)\u001b[0m\u001b[1;33m:\u001b[0m\u001b[1;33m\u001b[0m\u001b[1;33m\u001b[0m\u001b[0m\n",
      "\u001b[1;32mzmq\\backend\\cython\\socket.pyx\u001b[0m in \u001b[0;36mzmq.backend.cython.socket.Socket.send\u001b[1;34m()\u001b[0m\n",
      "\u001b[1;32mzmq\\backend\\cython\\socket.pyx\u001b[0m in \u001b[0;36mzmq.backend.cython.socket.Socket.send\u001b[1;34m()\u001b[0m\n",
      "\u001b[1;32mzmq\\backend\\cython\\socket.pyx\u001b[0m in \u001b[0;36mzmq.backend.cython.socket._send_copy\u001b[1;34m()\u001b[0m\n",
      "\u001b[1;32mc:\\Users\\Utilisateur\\AppData\\Local\\Programs\\Python\\Python39\\lib\\site-packages\\zmq\\backend\\cython\\checkrc.pxd\u001b[0m in \u001b[0;36mzmq.backend.cython.checkrc._check_rc\u001b[1;34m()\u001b[0m\n",
      "\u001b[1;31mKeyboardInterrupt\u001b[0m: "
     ]
    }
   ],
   "source": [
    "# Dépendances\n",
    "from ipycanvas import Canvas, hold_canvas\n",
    "from math import pi\n",
    "from time import sleep\n",
    "from random import randint\n",
    "\n",
    "\n",
    "# Définition d'une scène avec un fond noir\n",
    "\n",
    "# Création d'un canvas pour la scène\n",
    "s1 = Canvas(width=600, height=400)\n",
    "\n",
    "# Une fonction pour effacer la scène et redessiner un background\n",
    "def background(couleur : str = 'black') :\n",
    "    '''\n",
    "    Rafraichit la scène avec un fond de la couleur\n",
    "    'couleur' passée en paramètre et fixée sur `black` par défaut\n",
    "    Préconditions :\n",
    "    - couleur (str) : une chaine de caractères définissant une couleur HTML valide\n",
    "    '''    \n",
    "    s1.fill_style = couleur\n",
    "    s1.fill_rect(0, 0, s1.width, s1.height)\n",
    "    \n",
    "\n",
    "# Définition d'une classe Flocon\n",
    "\n",
    "class Flocon : # définition de la classe Flocon\n",
    "    \n",
    "    # Constructeur\n",
    "    def __init__(self) :\n",
    "        '''\n",
    "        Construit un flocon avec une abscisse,\n",
    "        une ordonnée et un diamètre définis aléatoirement\n",
    "        '''\n",
    "        self.abscisse = randint(1, 600)\n",
    "        self.ordonnee = randint(1, 400)\n",
    "        self.diametre = randint(1, 8)\n",
    "    \n",
    "    \n",
    "    \n",
    "    # Méthode pour modifier, faire évoluer\n",
    "    def evolue(self) : \n",
    "        '''\n",
    "        Modifie les valeurs des attributs du flocon\n",
    "        pour qu'il évolue en position et en diamètre\n",
    "        selon des règles définies pour sa chute\n",
    "        \n",
    "        '''\n",
    "        \n",
    "        if self.ordonnee <= 399 :\n",
    "            if randint(0,1) == 0 :\n",
    "                self.ordonnee += 2  \n",
    "            else :\n",
    "                self.ordonnee += 3 \n",
    "        else :\n",
    "            self.ordonnee = 10\n",
    "\n",
    "            self.abscisse = randint(1, 600)\n",
    "        \n",
    "        '''\n",
    "        if randint(1,10) == 10 :\n",
    "            self.abscisse += 1\n",
    "        elif randint(1,10) == 1 :\n",
    "            self.abscisse -= 1\n",
    "        else :\n",
    "            pass\n",
    "        '''\n",
    "\n",
    "        \n",
    "    # Méthode pour accéder    \n",
    "    def dessine(self, taux : float = 50) :\n",
    "        '''\n",
    "        Affiche un flocon avec un effet de flou en superposant\n",
    "        des disques de diamètre de plus en plus petit\n",
    "        centrés sur le point de coordonnées (x, y) et au diamètre\n",
    "        correspondants aux valeurs de ses attributs\n",
    "        et avec le niveau de transparence  'taux' en pourcentage de 0 à 100%\n",
    "        réglé par défaut sur 50%\n",
    "        '''\n",
    "\n",
    "        save = self.diametre\n",
    "        for _ in range(5) :\n",
    "\n",
    "            s1.fill_style = f'rgba(255, 250, 250, {taux/100})'\n",
    "            s1.fill_circle(self.abscisse, self.ordonnee, save)\n",
    "\n",
    "            save *= 0.8\n",
    "\n",
    "            if taux > 20 :\n",
    "                taux -= 4\n",
    "            else :\n",
    "                taux -= 2\n",
    "    \n",
    "    \n",
    "    \n",
    "# Une fonction pour générer un tableau de flocons\n",
    "def initialisation(nb_flocons : int) -> list :\n",
    "    '''\n",
    "    Prend en paramètre le nombre de flocons à placer sur la scène\n",
    "    et renvoie un tableau constitué des `nb_flocons` instances de `Flocons`.\n",
    "    '''\n",
    "    return [Flocon() for i in range(100)]\n",
    "        \n",
    "\n",
    "\n",
    "def chute(tableau : list, time_lapse : float) :\n",
    "    '''\n",
    "    Simule une chute de neige avec un laps de temps `time_lapse` réglable entre l'affichage de deux images successives\n",
    "    avec en paramètre un tableau constitué des `nb_flocons` instances de `Flocons`\n",
    "    '''\n",
    "    mes_flocons = tableau\n",
    "    while True :\n",
    "        with hold_canvas(s1) :\n",
    "            background()\n",
    "            for n in range(len(mes_flocons)) :\n",
    "                mes_flocons[n].evolue()\n",
    "                mes_flocons[n].dessine()\n",
    "        sleep(time_lapse)   \n",
    "    \n",
    "    \n",
    "        \n",
    "# Tests pour l'affichage finale d'une chute de neige\n",
    "if __name__ == '__main__':\n",
    "    display(s1)\n",
    "    mes_flocons = initialisation(150)    \n",
    "    chute(mes_flocons, 0.005)"
   ]
  },
  {
   "cell_type": "markdown",
   "metadata": {},
   "source": [
    "****\n",
    "## Références aux programmes :\n",
    "\n",
    "### Représentation des données : types construits (Rappel 1ère) \n",
    "\n",
    "|Contenus|Capacités attendues|Commentaires|\n",
    "|--------|-------------------|------------|\n",
    "|Tableau indexé, tableau donné en compréhension.|Lire et modifier les éléments d’un tableau grâce à leurs index.<br/>Construire un tableau par compréhension.<br/>Utiliser des tableaux de tableaux pour représenter des matrices : notation a[i][j].<br/>Itérer sur les éléments d’un tableau.|Seuls les tableaux dont les éléments sont du même type sont présentés.<br/>Aucune connaissance des tranches (*slices*) n’est exigible.<br/>L’aspect dynamique des tableaux de Python n’est pas évoqué.<br/>Python identifie listes et tableaux.<br/>Il n’est pas fait référence aux tableaux de la bibliothèque NumPy.|\n",
    "\n",
    "### Langages et programmation\n",
    "\n",
    "|Contenus|Capacités attendues|Commentaires|\n",
    "|--------|-------------------|------------|\n",
    "|Modularité.|Utiliser des API (*Application Programming Interface*) ou des bibliothèques.<br/>Exploiter leur documentation.<br/>Créer des modules simples et les documenter.| |\n",
    "|Paradigmes de programmation.|Distinguer sur des exemples les paradigmes impératif, fonctionnel et objet.<br/> Choisir le paradigme de programmation selon le champ d’application d’un programme.|Avec un même langage de programmation, on peut utiliser des paradigmes différents. Dans un même programme, on peut utiliser des paradigmes différents.|\n",
    "\n",
    "### Structures de données\n",
    "\n",
    "|Contenus|Capacités attendues|Commentaires|\n",
    "|--------|-------------------|------------|\n",
    "| Vocabulaire de la programmation objet : classes, attributs, méthodes, objets.| Écrire la définition d’une classe.<br/>Accéder aux attributs et méthodes d’une classe. | On n’aborde pas ici tous les aspects de la programmation objet comme le polymorphisme et l’héritage. |"
   ]
  },
  {
   "cell_type": "markdown",
   "metadata": {},
   "source": [
    "## Ressources :\n",
    "\n",
    "- ipycanvas de Martin RENOU :\n",
    "\n",
    "    - https://blog.jupyter.org/ipycanvas-a-python-canvas-for-jupyter-bbb51e4777f7\n",
    "    - https://github.com/martinRenou/ipycanvas/\n",
    "    - https://ipycanvas.readthedocs.io/en/latest/?badge=latest\n",
    "\n",
    "\n",
    "- Dans mon Glitch https://glitch.com/edit/#!/neige?path=flocon.js%3A1%3A0\n",
    "\n",
    "\n",
    "Un blog plein de tutoriels très intéressants :\n",
    "- Neige : https://pictalink.blogspot.com/2017/12/programmation-orientee-objets-dans.html\n",
    "- Pluie : https://pictalink.blogspot.com/2017/12/boucle-et-programmation-orientee-objets.html\n",
    " "
   ]
  },
  {
   "cell_type": "markdown",
   "metadata": {},
   "source": [
    "<a rel=\"license\" href=\"http://creativecommons.org/licenses/by-sa/4.0/\"><img alt=\"Licence Creative Commons\" style=\"border-width:0\" src=\"https://i.creativecommons.org/l/by-sa/4.0/88x31.png\" /></a><br />Ce document s'inspire de ressources du web sitée ci-dessus et s'appuie sur le développement du module `ipycanvas` par [Martin RENOU](https://github.com/martinRenou) ingénieur logiciel scientifique chez [QuantStack](https://quantstack.net/index.html). Il est mis à disposition selon les termes de la <a rel=\"license\" href=\"http://creativecommons.org/licenses/by-sa/4.0/\">Licence Creative Commons Attribution -  Partage dans les Mêmes Conditions 4.0 International</a>.\n",
    "\n",
    "Pour toute question, suggestion ou commentaire : <a href=\"mailto:eric.madec@ecmorlaix.fr\">eric.madec@ecmorlaix.fr</a>"
   ]
  }
 ],
 "metadata": {
  "interpreter": {
   "hash": "a4582a75a41fb78247f9e0d5ac5dcfbd0ffd857e3944b83ed2a96ac364b75fd7"
  },
  "kernelspec": {
   "display_name": "Python 3.9.1 64-bit",
   "language": "python",
   "name": "python3"
  },
  "language_info": {
   "codemirror_mode": {
    "name": "ipython",
    "version": 3
   },
   "file_extension": ".py",
   "mimetype": "text/x-python",
   "name": "python",
   "nbconvert_exporter": "python",
   "pygments_lexer": "ipython3",
   "version": "3.9.1"
  },
  "toc": {
   "base_numbering": 1,
   "nav_menu": {},
   "number_sections": true,
   "sideBar": true,
   "skip_h1_title": false,
   "title_cell": "Table of Contents",
   "title_sidebar": "Contents",
   "toc_cell": false,
   "toc_position": {},
   "toc_section_display": true,
   "toc_window_display": false
  },
  "varInspector": {
   "cols": {
    "lenName": 16,
    "lenType": 16,
    "lenVar": 40
   },
   "kernels_config": {
    "python": {
     "delete_cmd_postfix": "",
     "delete_cmd_prefix": "del ",
     "library": "var_list.py",
     "varRefreshCmd": "print(var_dic_list())"
    },
    "r": {
     "delete_cmd_postfix": ") ",
     "delete_cmd_prefix": "rm(",
     "library": "var_list.r",
     "varRefreshCmd": "cat(var_dic_list()) "
    }
   },
   "types_to_exclude": [
    "module",
    "function",
    "builtin_function_or_method",
    "instance",
    "_Feature"
   ],
   "window_display": false
  }
 },
 "nbformat": 4,
 "nbformat_minor": 4
}
