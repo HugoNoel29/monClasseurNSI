{
 "cells": [
  {
   "cell_type": "markdown",
   "metadata": {},
   "source": [
    "## Utilisation de la Tortue dans un notebook :\n",
    "\n",
    "\n",
    "> **/!\\ A faire avant pour fonctionner dans Carnet sur iPad :**\n",
    ">\n",
    "> Vérifier si le module `ipyturtle` n'est pas déjà installé :\n",
    "> ```python\n",
    "!pip list\n",
    "```\n",
    "> Sinon il faut l'installer en faisant :\n",
    "> ```python\n",
    "!pip install ipyturtle\n",
    "```\n",
    "\n"
   ]
  },
  {
   "cell_type": "code",
   "execution_count": 3,
   "metadata": {},
   "outputs": [
    {
     "name": "stdout",
     "output_type": "stream",
     "text": [
      "Package                    Version\n",
      "-------------------------- -------\n",
      "attrs                      21.2.0\n",
      "backcall                   0.2.0\n",
      "bleach                     4.1.0\n",
      "click                      8.0.1\n",
      "colorama                   0.4.4\n",
      "debugpy                    1.4.3\n",
      "decorator                  5.1.0\n",
      "defusedxml                 0.7.1\n",
      "entrypoints                0.3\n",
      "ghp-import                 2.0.1\n",
      "importlib-metadata         4.8.1\n",
      "ipykernel                  6.4.1\n",
      "ipython                    7.28.0\n"
     ]
    },
    {
     "name": "stderr",
     "output_type": "stream",
     "text": [
      "WARNING: You are using pip version 20.2.3; however, version 21.3.1 is available.\n",
      "You should consider upgrading via the 'c:\\users\\hugo noel\\appdata\\local\\programs\\python\\python39\\python.exe -m pip install --upgrade pip' command.\n"
     ]
    },
    {
     "name": "stdout",
     "output_type": "stream",
     "text": [
      "ipython-genutils           0.2.0\n",
      "jedi                       0.18.0\n",
      "Jinja2                     3.0.1\n",
      "jsonschema                 3.2.0\n",
      "jupyter-client             7.0.3\n",
      "jupyter-core               4.8.1\n",
      "jupyterlab-pygments        0.1.2\n",
      "jupytext                   1.13.0\n",
      "Markdown                   3.3.4\n",
      "markdown-it-py             1.1.0\n",
      "MarkupSafe                 2.0.1\n",
      "matplotlib-inline          0.1.3\n",
      "mdit-py-plugins            0.2.8\n",
      "mergedeep                  1.3.4\n",
      "mistune                    0.8.4\n",
      "mkdocs                     1.2.2\n",
      "mkdocs-jupyter             0.18.0\n",
      "mkdocs-material            7.3.0\n",
      "mkdocs-material-extensions 1.0.3\n",
      "nbclient                   0.5.4\n",
      "nbconvert                  6.2.0\n",
      "nbformat                   5.1.3\n",
      "nest-asyncio               1.5.1\n",
      "packaging                  21.0\n",
      "pandocfilters              1.5.0\n",
      "parso                      0.8.2\n",
      "pickleshare                0.7.5\n",
      "pip                        20.2.3\n",
      "prompt-toolkit             3.0.20\n",
      "Pygments                   2.10.0\n",
      "pymdown-extensions         8.2\n",
      "pyparsing                  2.4.7\n",
      "pyrsistent                 0.18.0\n",
      "python-dateutil            2.8.2\n",
      "pywin32                    301\n",
      "PyYAML                     5.4.1\n",
      "pyyaml-env-tag             0.1\n",
      "pyzmq                      22.3.0\n",
      "setuptools                 49.2.1\n",
      "six                        1.16.0\n",
      "testpath                   0.5.0\n",
      "toml                       0.10.2\n",
      "tornado                    6.1\n",
      "traitlets                  5.1.0\n",
      "watchdog                   2.1.5\n",
      "wcwidth                    0.2.5\n",
      "webencodings               0.5.1\n",
      "zipp                       3.5.0\n"
     ]
    }
   ],
   "source": [
    "!pip list"
   ]
  },
  {
   "cell_type": "code",
   "execution_count": 4,
   "metadata": {},
   "outputs": [
    {
     "name": "stdout",
     "output_type": "stream",
     "text": [
      "^C\n"
     ]
    }
   ],
   "source": [
    "!pip install ipyturtle"
   ]
  },
  {
   "cell_type": "markdown",
   "metadata": {},
   "source": [
    "<h3 class='fa fa-cog' style=\"color: MediumSeaGreen\"> A faire vous même n°1 :</h3>\n",
    "\n",
    "- Exécuter la instructions suivantes pour découvrir quelques fonctionnalités du module..."
   ]
  },
  {
   "cell_type": "code",
   "execution_count": 1,
   "metadata": {
    "collapsed": true
   },
   "outputs": [
    {
     "ename": "ModuleNotFoundError",
     "evalue": "No module named 'ipyturtle'",
     "output_type": "error",
     "traceback": [
      "\u001b[1;31m---------------------------------------------------------------------------\u001b[0m",
      "\u001b[1;31mModuleNotFoundError\u001b[0m                       Traceback (most recent call last)",
      "\u001b[1;32m~\\AppData\\Local\\Temp/ipykernel_22688/628089102.py\u001b[0m in \u001b[0;36m<module>\u001b[1;34m\u001b[0m\n\u001b[1;32m----> 1\u001b[1;33m \u001b[1;32mfrom\u001b[0m \u001b[0mipyturtle\u001b[0m \u001b[1;32mimport\u001b[0m \u001b[0mTurtle\u001b[0m\u001b[1;33m\u001b[0m\u001b[1;33m\u001b[0m\u001b[0m\n\u001b[0m",
      "\u001b[1;31mModuleNotFoundError\u001b[0m: No module named 'ipyturtle'"
     ]
    }
   ],
   "source": [
    "from ipyturtle import Turtle"
   ]
  },
  {
   "cell_type": "code",
   "execution_count": 4,
   "metadata": {
    "collapsed": true
   },
   "outputs": [],
   "source": [
    "t = Turtle(fixed=False, width=300, height=300)"
   ]
  },
  {
   "cell_type": "code",
   "execution_count": 5,
   "metadata": {
    "collapsed": true
   },
   "outputs": [
    {
     "data": {
      "application/vnd.jupyter.widget-view+json": {
       "model_id": "ed02bb23814346a984d17e304d8257df",
       "version_major": 2,
       "version_minor": 0
      },
      "text/plain": [
       "Turtle()"
      ]
     },
     "metadata": {},
     "output_type": "display_data"
    }
   ],
   "source": [
    "t"
   ]
  },
  {
   "cell_type": "code",
   "execution_count": 6,
   "metadata": {
    "collapsed": true
   },
   "outputs": [],
   "source": [
    "t.back(40)"
   ]
  },
  {
   "cell_type": "code",
   "execution_count": 7,
   "metadata": {
    "collapsed": true
   },
   "outputs": [],
   "source": [
    "t.right(60)"
   ]
  },
  {
   "cell_type": "code",
   "execution_count": 8,
   "metadata": {
    "collapsed": true
   },
   "outputs": [],
   "source": [
    "t.forward(100)"
   ]
  },
  {
   "cell_type": "code",
   "execution_count": 10,
   "metadata": {
    "collapsed": true
   },
   "outputs": [],
   "source": [
    "t.left(240)"
   ]
  },
  {
   "cell_type": "code",
   "execution_count": 11,
   "metadata": {
    "collapsed": true
   },
   "outputs": [],
   "source": [
    "t.penup()"
   ]
  },
  {
   "cell_type": "code",
   "execution_count": 12,
   "metadata": {
    "collapsed": true
   },
   "outputs": [],
   "source": [
    "t.forward(40)"
   ]
  },
  {
   "cell_type": "code",
   "execution_count": 13,
   "metadata": {
    "collapsed": true
   },
   "outputs": [
    {
     "data": {
      "text/plain": [
       "(51.96152422706633, 29.99999999999999)"
      ]
     },
     "execution_count": 13,
     "metadata": {},
     "output_type": "execute_result"
    }
   ],
   "source": [
    "t.position()"
   ]
  },
  {
   "cell_type": "code",
   "execution_count": 14,
   "metadata": {
    "collapsed": true
   },
   "outputs": [],
   "source": [
    "t.pendown()"
   ]
  },
  {
   "cell_type": "code",
   "execution_count": 15,
   "metadata": {
    "collapsed": true
   },
   "outputs": [],
   "source": [
    "t.forward(50)"
   ]
  },
  {
   "cell_type": "code",
   "execution_count": 17,
   "metadata": {
    "collapsed": true
   },
   "outputs": [
    {
     "data": {
      "text/plain": [
       "150.0"
      ]
     },
     "execution_count": 17,
     "metadata": {},
     "output_type": "execute_result"
    }
   ],
   "source": [
    "t.heading()"
   ]
  },
  {
   "cell_type": "code",
   "execution_count": 18,
   "metadata": {
    "collapsed": true
   },
   "outputs": [],
   "source": [
    "t.reset()"
   ]
  },
  {
   "cell_type": "code",
   "execution_count": 19,
   "metadata": {
    "collapsed": true
   },
   "outputs": [],
   "source": [
    "def triangle():\n",
    "    for _ in range(3):\n",
    "        t.forward(100)\n",
    "        t.right(120)"
   ]
  },
  {
   "cell_type": "code",
   "execution_count": 20,
   "metadata": {
    "collapsed": true
   },
   "outputs": [],
   "source": [
    "triangle()"
   ]
  },
  {
   "cell_type": "markdown",
   "metadata": {},
   "source": [
    "<h3 class='fa fa-code' style=\"color: MediumSeaGreen\"> A faire vous même n°2 :</h3>\n",
    "\n",
    "- Définir une fonction `carre(c)` qui dessine un carré de coté égale à la dimension `c` en pixels :"
   ]
  },
  {
   "cell_type": "code",
   "execution_count": 24,
   "metadata": {},
   "outputs": [
    {
     "data": {
      "application/vnd.jupyter.widget-view+json": {
       "model_id": "ed02bb23814346a984d17e304d8257df",
       "version_major": 2,
       "version_minor": 0
      },
      "text/plain": [
       "Turtle()"
      ]
     },
     "metadata": {},
     "output_type": "display_data"
    }
   ],
   "source": [
    "t"
   ]
  },
  {
   "cell_type": "code",
   "execution_count": 44,
   "metadata": {
    "collapsed": true
   },
   "outputs": [],
   "source": [
    "def carre(nom,c) :\n",
    "   nom.pendown()\n",
    "   for _ in range(4) : \n",
    "        nom.forward(c) \n",
    "        nom.right(90)    "
   ]
  },
  {
   "cell_type": "code",
   "execution_count": 45,
   "metadata": {},
   "outputs": [],
   "source": [
    "carre(t,50)"
   ]
  },
  {
   "cell_type": "code",
   "execution_count": 43,
   "metadata": {},
   "outputs": [],
   "source": [
    "t.reset()"
   ]
  },
  {
   "cell_type": "markdown",
   "metadata": {},
   "source": [
    "L'objectif est de reproduire le dessin suivant sachant que le coté du plus petit carré aura une longueur d'au moins 5 pixels \n",
    "\n",
    "![](https://github.com/glassus/nsi/blob/master/Terminale/Theme_2_Programmation/2.2_Recursivite/data/carres_turtle.png?raw=1)\n",
    "\n",
    "\n",
    "<h3 class='fa fa-code' style=\"color: darkorange\"> A faire vous même n°3 :</h3>\n",
    "\n",
    "- Définir une fonction `base(c)` qui dessine un premier carré de coté `c` et se prépare à ajouter par la suite un nouveau carré tourné de 45° qui pourra s'inscrire dans le carré précédent tel que sur la figure  :"
   ]
  },
  {
   "cell_type": "code",
   "execution_count": 70,
   "metadata": {},
   "outputs": [],
   "source": [
    "from ipyturtle import Turtle"
   ]
  },
  {
   "cell_type": "code",
   "execution_count": 71,
   "metadata": {},
   "outputs": [],
   "source": [
    "z = Turtle(fixed=False, width=300, height=300)"
   ]
  },
  {
   "cell_type": "code",
   "execution_count": 72,
   "metadata": {},
   "outputs": [
    {
     "data": {
      "application/vnd.jupyter.widget-view+json": {
       "model_id": "ae82c3cce6ea4384933d45a16d06e2f2",
       "version_major": 2,
       "version_minor": 0
      },
      "text/plain": [
       "Turtle()"
      ]
     },
     "metadata": {},
     "output_type": "display_data"
    }
   ],
   "source": [
    "z"
   ]
  },
  {
   "cell_type": "code",
   "execution_count": 82,
   "metadata": {},
   "outputs": [],
   "source": [
    "z.reset()"
   ]
  },
  {
   "cell_type": "code",
   "execution_count": 74,
   "metadata": {
    "collapsed": true
   },
   "outputs": [],
   "source": [
    "def base(c) :\n",
    "\n",
    "    z.pendown()\n",
    "\n",
    "    carre(z,c)\n",
    "\n",
    "    z.penup()\n",
    "    z.forward(c/2)\n",
    "    z.right(45)"
   ]
  },
  {
   "cell_type": "code",
   "execution_count": 83,
   "metadata": {},
   "outputs": [],
   "source": [
    "base(50)"
   ]
  },
  {
   "cell_type": "code",
   "execution_count": 84,
   "metadata": {},
   "outputs": [],
   "source": [
    "base(50*(3/4))"
   ]
  },
  {
   "cell_type": "code",
   "execution_count": 85,
   "metadata": {},
   "outputs": [],
   "source": [
    "base(50*(3/4)*(3/4))"
   ]
  },
  {
   "cell_type": "code",
   "execution_count": 78,
   "metadata": {},
   "outputs": [],
   "source": [
    "for i in range(5, 100, 5) :\n",
    "    base(i)"
   ]
  },
  {
   "cell_type": "markdown",
   "metadata": {},
   "source": [
    "<h3 class='fa fa-code' style=\"color: tomato\"> A faire vous même n°4 :</h3>\n",
    "\n",
    "- Définir une fonction pour tracer la figure de façon récursive :"
   ]
  },
  {
   "cell_type": "code",
   "execution_count": 130,
   "metadata": {},
   "outputs": [
    {
     "data": {
      "application/vnd.jupyter.widget-view+json": {
       "model_id": "ae82c3cce6ea4384933d45a16d06e2f2",
       "version_major": 2,
       "version_minor": 0
      },
      "text/plain": [
       "Turtle()"
      ]
     },
     "metadata": {},
     "output_type": "display_data"
    }
   ],
   "source": [
    "z"
   ]
  },
  {
   "cell_type": "code",
   "execution_count": 138,
   "metadata": {},
   "outputs": [],
   "source": [
    "z.reset()"
   ]
  },
  {
   "cell_type": "code",
   "execution_count": 139,
   "metadata": {},
   "outputs": [],
   "source": [
    "def recursif(n) :\n",
    "    if n < 5 :\n",
    "        return 1 \n",
    "    else :\n",
    "        base(n)\n",
    "        return recursif( n * (3/4))"
   ]
  },
  {
   "cell_type": "code",
   "execution_count": 140,
   "metadata": {},
   "outputs": [
    {
     "data": {
      "text/plain": [
       "1"
      ]
     },
     "execution_count": 140,
     "metadata": {},
     "output_type": "execute_result"
    }
   ],
   "source": [
    "recursif(101)"
   ]
  },
  {
   "cell_type": "code",
   "execution_count": 147,
   "metadata": {
    "collapsed": true
   },
   "outputs": [],
   "source": [
    "def trace(c) :\n",
    "    if c <= 5 :\n",
    "        return 1\n",
    "    else :\n",
    "        base(c)\n",
    "        return trace( c * (0.75) )"
   ]
  },
  {
   "cell_type": "code",
   "execution_count": 142,
   "metadata": {},
   "outputs": [
    {
     "data": {
      "application/vnd.jupyter.widget-view+json": {
       "model_id": "ae82c3cce6ea4384933d45a16d06e2f2",
       "version_major": 2,
       "version_minor": 0
      },
      "text/plain": [
       "Turtle()"
      ]
     },
     "metadata": {},
     "output_type": "display_data"
    }
   ],
   "source": [
    "z"
   ]
  },
  {
   "cell_type": "code",
   "execution_count": 148,
   "metadata": {},
   "outputs": [],
   "source": [
    "z.reset()"
   ]
  },
  {
   "cell_type": "code",
   "execution_count": 149,
   "metadata": {},
   "outputs": [
    {
     "data": {
      "text/plain": [
       "1"
      ]
     },
     "execution_count": 149,
     "metadata": {},
     "output_type": "execute_result"
    }
   ],
   "source": [
    "trace(100)"
   ]
  },
  {
   "cell_type": "markdown",
   "metadata": {},
   "source": [
    "<h3 class='fa fa-rocket' style=\"color: tomato\"> A faire vous même n°5 :</h3>\n",
    "\n",
    "- Définir une fonction pour tracer la figure suivante de façon récursive :\n",
    "\n",
    "<img src=\"https://ericecmorlaix.github.io/img/arbre.gif\" alt=\"arbre recursif\" width=60%>"
   ]
  },
  {
   "cell_type": "code",
   "execution_count": null,
   "metadata": {},
   "outputs": [],
   "source": [
    "def arbre(n, longeur) :\n",
    "    if n == 0 :\n",
    "\n",
    "\n",
    "    else :"
   ]
  },
  {
   "cell_type": "markdown",
   "metadata": {},
   "source": [
    "## Aspect historique :\n",
    "\n",
    "**Turtle** est un hommage au langage LOGO inventé par [Seymour Papert](https://fr.wikipedia.org/wiki/Seymour_Papert) au MIT à la fin des années 60."
   ]
  },
  {
   "cell_type": "code",
   "execution_count": null,
   "metadata": {
    "collapsed": true
   },
   "outputs": [],
   "source": []
  }
 ],
 "metadata": {
  "interpreter": {
   "hash": "c535f766096f575e5993344ecf38043c94305985d3bbdfcb24d1ab2af40cf48e"
  },
  "kernelspec": {
   "display_name": "Python 3.9.4 64-bit",
   "name": "python3"
  },
  "language_info": {
   "codemirror_mode": {
    "name": "ipython",
    "version": 3
   },
   "file_extension": ".py",
   "mimetype": "text/x-python",
   "name": "python",
   "nbconvert_exporter": "python",
   "pygments_lexer": "ipython3",
   "version": "3.9.4"
  },
  "toc": {
   "base_numbering": 1,
   "nav_menu": {},
   "number_sections": true,
   "sideBar": true,
   "skip_h1_title": false,
   "title_cell": "Table of Contents",
   "title_sidebar": "Contents",
   "toc_cell": false,
   "toc_position": {},
   "toc_section_display": true,
   "toc_window_display": false
  },
  "varInspector": {
   "cols": {
    "lenName": 16,
    "lenType": 16,
    "lenVar": 40
   },
   "kernels_config": {
    "python": {
     "delete_cmd_postfix": "",
     "delete_cmd_prefix": "del ",
     "library": "var_list.py",
     "varRefreshCmd": "print(var_dic_list())"
    },
    "r": {
     "delete_cmd_postfix": ") ",
     "delete_cmd_prefix": "rm(",
     "library": "var_list.r",
     "varRefreshCmd": "cat(var_dic_list()) "
    }
   },
   "types_to_exclude": [
    "module",
    "function",
    "builtin_function_or_method",
    "instance",
    "_Feature"
   ],
   "window_display": false
  }
 },
 "nbformat": 4,
 "nbformat_minor": 4
}
