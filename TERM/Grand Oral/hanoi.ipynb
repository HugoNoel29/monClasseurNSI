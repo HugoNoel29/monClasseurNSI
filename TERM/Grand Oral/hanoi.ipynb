{
 "cells": [
  {
   "cell_type": "markdown",
   "metadata": {},
   "source": [
    "<h1> Tours de Hanoï </h1>"
   ]
  },
  {
   "cell_type": "markdown",
   "metadata": {},
   "source": [
    "Plan :\n",
    "\n",
    "- I) Étude \"simple\" et \"naive\"\n",
    "\n",
    "- II) Aspect informatique, implémentation en python\n",
    "\n",
    "- III) Représentation en graphes : le triangle de Sierpinski"
   ]
  },
  {
   "cell_type": "markdown",
   "metadata": {},
   "source": [
    "<h3>INTRO : </h3>\n",
    "\n",
    "Créé par le mathématicien Edouard Lucas\n",
    "\n",
    "Le jeu consiste à déplacer des disques de diamètres différents d'une tour de « départ » à une tour « d’arrivée » en passant par une tour « intermédiaire », et ceci en un minimum de coups, en respectant 2 règles : \n",
    "\n",
    "    - On doit déplacer les disques un à un\n",
    "\n",
    "    - On ne peut pas poser un disque sur un disque plus petit\n",
    "\n",
    "\n",
    "Selon l’histoire qu’il a racontée : ce sont des prêtres qui se succèdent pour résoudre cette énigme avec 64 disques. \n",
    "Quand ils auront fini cela sonnera la fin du monde ! "
   ]
  },
  {
   "cell_type": "markdown",
   "metadata": {},
   "source": [
    "<h3> I) Étude \"simple\" et \"naive\""
   ]
  },
  {
   "cell_type": "markdown",
   "metadata": {},
   "source": [
    "Faire étude avec 1,2 et 3 disques "
   ]
  },
  {
   "cell_type": "markdown",
   "metadata": {},
   "source": [
    "Nb Disques | 1 | 2 | 3 | 4 |\n",
    ":---: | :---: | :---: | :---: | :---: |\n",
    "Nb mouvements | 1 | 3 | 7 | 15"
   ]
  },
  {
   "cell_type": "markdown",
   "metadata": {},
   "source": [
    "On appelle n le nombre de disques, on en déduit que le nombre de mouvements est : <strong>2<sup>n</sup> - 1 </strong>"
   ]
  },
  {
   "cell_type": "markdown",
   "metadata": {},
   "source": [
    "Pour en revenir à l'histoire qu'il a inventé, il faudrait 2<sup>64</sup> - 1 mouvements, soit 18 446 744 073 709 551 615 de mouvements dans le meilleur des cas !!!"
   ]
  },
  {
   "cell_type": "markdown",
   "metadata": {},
   "source": [
    "En considérant que les prêtres savent ce qu'ils font et qu'ils font donc 1 mouvement en 1 seconde et qu'ils se relaient jour et nuit, il leur faudrait 584,5 milliards d'années !\n",
    "\n",
    "Ce qui represente 47 fois l'age de l'univers ! La fin du monde n'est donc pas pour bientôt."
   ]
  },
  {
   "cell_type": "markdown",
   "metadata": {},
   "source": [
    "En observant attentivement ce qu'on a fait on se rend compte que résoudre le problème a 4 disques c'est résoudre le problème à 3 disques sur la pile intermédiaire, déplacer le plus gros disque sur la pile finale puis refaire la pile a 3 disques de l'intermédiaire à la finale. "
   ]
  },
  {
   "cell_type": "markdown",
   "metadata": {},
   "source": [
    "On peut donc en déduire un algorithme simple pour résoudre le problème."
   ]
  },
  {
   "cell_type": "code",
   "execution_count": null,
   "metadata": {
    "vscode": {
     "languageId": "plaintext"
    }
   },
   "outputs": [],
   "source": [
    "procédure Hanoï(n : nombre de disques, D : départ, A : arivée, I : intermédiaire)\n",
    "    si n ≠ 0\n",
    "        Hanoï(n-1, D, I, A)\n",
    "        Déplacer le disque de D vers A\n",
    "        Hanoï(n-1, I, A, D)\n",
    "    fin-si\n",
    "fin-procédure"
   ]
  },
  {
   "cell_type": "markdown",
   "metadata": {},
   "source": [
    "On en arrive à la récursivité !"
   ]
  },
  {
   "cell_type": "markdown",
   "metadata": {},
   "source": [
    "<h3> II) Aspect informatique, implémentation en python"
   ]
  }
 ],
 "metadata": {
  "language_info": {
   "name": "python"
  },
  "orig_nbformat": 4
 },
 "nbformat": 4,
 "nbformat_minor": 2
}
