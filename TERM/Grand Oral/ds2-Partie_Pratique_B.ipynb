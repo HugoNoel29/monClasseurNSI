{
 "cells": [
  {
   "cell_type": "markdown",
   "metadata": {},
   "source": [
    "# Devoir surveillé n°2 – Partie pratique B\n",
    "\n",
    "\n",
    "## Consignes\n",
    "\n",
    "Vous devez enregister ce fichier sous le nom `ds2B-nom-prenom.ipynb`\n",
    "\n",
    "De plus vous devez compléter votre fichier `ds2-nom-prenom.py` avec le code de toutes les fonctions définies ici y compris le code d'implémentation pour les piles que vous aurez utilisé afin de pouvoir l'importer pour la suite du développement de ce projet.\n",
    "\n",
    "À la fin de la séance, transmettez vos fichiers par mail à l'adresse `eric.madec@ecmorlaix.fr`\n",
    "\n",
    "Respectez bien le nom des fonctions pour faciliter la relecture du code.\n",
    "\n",
    "Vous pouvez rajouter des commentaires lorsque vous pensez que c’est nécessaire.\n",
    "\n",
    "De même, essayez de choisir des variables dont le nom est compréhensible, si c’est pertinent.\n",
    "\n",
    "\n",
    "# Les tours de Hanoï\n",
    "\n",
    "Les tours seront modélisées par une liste de 3 piles.\n",
    "\n",
    "Pour les piles, vous avez le choix entre deux implémentations données :\n",
    "- Dans la première, une pile est une liste Python.\n",
    "- Dans la deuxième, on définit une classe Pile qui utilise également une liste Python.\n",
    "\n",
    "Vous devez manipuler une pile uniquement avec les fonctions ou méthodes fournies.\n",
    "\n",
    "Pour pouvoir les utiliser dans ce notebook il vous faut les importer depuis votre module `ds2-nom-prenom.py` tout comme les fonctions que vous avez définies dans la partie A."
   ]
  },
  {
   "cell_type": "code",
   "execution_count": 26,
   "metadata": {},
   "outputs": [],
   "source": [
    "from ds2-nom-prenom import *"
   ]
  },
  {
   "cell_type": "code",
   "execution_count": 1,
   "metadata": {},
   "outputs": [],
   "source": [
    "class Pile:\n",
    "\n",
    "    '''classe Pile création d’une instance Pile avec une liste'''\n",
    "    \n",
    "    def __init__(self):\n",
    "        '''Initialise une pile vide'''\n",
    "        self.liste = []\n",
    "        \n",
    "    def est_vide(self):\n",
    "        '''Renvoie un booléen, True si la pile est vide et False sinon'''\n",
    "        return len(self.liste) == 0\n",
    "\n",
    "    def empiler(self, element):\n",
    "        '''Empile element au sommet de pile'''\n",
    "        self.liste.append(element)\n",
    "\n",
    "    def depiler(self):\n",
    "        '''Renvoie et enlève la valeur du sommet de pile'''\n",
    "        return self.liste.pop()\n",
    "\n",
    "    def __repr__(self):\n",
    "        return repr(self.liste)"
   ]
  },
  {
   "cell_type": "code",
   "execution_count": 2,
   "metadata": {},
   "outputs": [],
   "source": [
    "def sommet(pile):\n",
    "    ''' Renvoie la valeur au sommet de la pile mais sans la supprimer de la pile '''\n",
    "    if pile.est_vide():\n",
    "        raise IndexError('pile vide')\n",
    "    else:\n",
    "        valeur = pile.depiler()\n",
    "        pile.empiler(valeur)\n",
    "    return valeur"
   ]
  },
  {
   "cell_type": "code",
   "execution_count": 3,
   "metadata": {},
   "outputs": [],
   "source": [
    "def mettre_disques(pile, n):\n",
    "    for i in range(n, 0, -1):\n",
    "        pile.empiler(i)"
   ]
  },
  {
   "cell_type": "code",
   "execution_count": 4,
   "metadata": {},
   "outputs": [],
   "source": [
    "def creation_tours(n):\n",
    "    ''' renvoie une liste de 3 piles,\n",
    "    la première correspond à la pile des n disques,\n",
    "    les autres étant vides.'''\n",
    "    p0 = Pile()\n",
    "    p1 = Pile()\n",
    "    p2 = Pile()\n",
    "    mettre_disques(p0, n)\n",
    "    return [p0, p1, p2]"
   ]
  },
  {
   "cell_type": "markdown",
   "metadata": {},
   "source": [
    "## Exercice 4 :\n",
    "\n",
    "Écrire une fonction `deplacer(tours, origine, cible)` qui déplace la valeur au sommet de la pile d’indice origine vers le sommet de la pile d’indice cible.\n",
    "\n",
    "Si le déplacement n’est pas possible, parce qu’il ne respecte pas les règles du jeu, les piles ne sont pas modifiées."
   ]
  },
  {
   "cell_type": "code",
   "execution_count": 11,
   "metadata": {},
   "outputs": [],
   "source": [
    "def deplacer(tours, origine, cible):\n",
    "    '''\n",
    "    déplace la valeur au sommet de la pile d’indice origine vers le sommet de la pile d’indice cible.\n",
    "    Si le déplacement n’est pas possible, parce qu’il ne respecte pas les règles du jeu, les piles ne sont pas modifiées.\n",
    "    '''\n",
    "\n",
    "    if tours[cible].est_vide() :\n",
    "        tours[cible].empiler(tours[origine].depiler())\n",
    "    elif sommet(tours[origine]) > sommet(tours[cible]) :\n",
    "        pass \n",
    "    else :\n",
    "        tours[cible].empiler(tours[origine].depiler())"
   ]
  },
  {
   "cell_type": "markdown",
   "metadata": {},
   "source": [
    "Tester votre fonction `deplacer(tours, origine, cible)` ci-dessous de sorte que :\n",
    "\n",
    "```python \n",
    ">>> tours = creation_tours(5)\n",
    ">>> deplacer(tours, 0, 1)\n",
    ">>> deplacer(tours, 0, 2)\n",
    ">>> print(tours)\n",
    "[[5, 4, 3], [1], [2]]\n",
    ">>> deplacer(tours, 0, 2) # mouvement impossible\n",
    ">>> print(tours)\n",
    "[[5, 4, 3], [1], [2]]\n",
    "```"
   ]
  },
  {
   "cell_type": "code",
   "execution_count": 12,
   "metadata": {},
   "outputs": [],
   "source": [
    "tours = creation_tours(5)"
   ]
  },
  {
   "cell_type": "code",
   "execution_count": 13,
   "metadata": {},
   "outputs": [],
   "source": [
    "deplacer(tours, 0, 1)"
   ]
  },
  {
   "cell_type": "code",
   "execution_count": 14,
   "metadata": {},
   "outputs": [],
   "source": [
    "deplacer(tours, 0, 2)"
   ]
  },
  {
   "cell_type": "code",
   "execution_count": 15,
   "metadata": {},
   "outputs": [
    {
     "name": "stdout",
     "output_type": "stream",
     "text": [
      "[[5, 4, 3], [1], [2]]\n"
     ]
    }
   ],
   "source": [
    "print(tours)"
   ]
  },
  {
   "cell_type": "code",
   "execution_count": 16,
   "metadata": {},
   "outputs": [],
   "source": [
    "deplacer(tours, 0, 2)"
   ]
  },
  {
   "cell_type": "code",
   "execution_count": 17,
   "metadata": {},
   "outputs": [
    {
     "name": "stdout",
     "output_type": "stream",
     "text": [
      "[[5, 4, 3], [1], [2]]\n"
     ]
    }
   ],
   "source": [
    "print(tours)"
   ]
  },
  {
   "cell_type": "markdown",
   "metadata": {},
   "source": [
    "## Exercice 5 :\n",
    "\n",
    "Écrire une fonction récursive `resoudre(tours, n, origine, cible, interm)`qui permet de déplacer les n premiers disques au sommet de la pile d’indice origine vers la pile d’indice cible, en utilisant éventuellement la pile d’indice interm comme pile intermédiaire pour les déplacements.\n",
    "\n",
    "Pour résoudre le problème avec n disques, il faut donc faire `resoudre(tours, n, 0, 2, 1)`."
   ]
  },
  {
   "cell_type": "markdown",
   "metadata": {},
   "source": [
    "procédure Hanoï(n : nombre de disques, D : départ, A : arivée, I : intermédiaire)\n",
    "    si n ≠ 0\n",
    "        Hanoï(n-1, D, I, A)\n",
    "        Déplacer le disque de D vers A\n",
    "        Hanoï(n-1, I, A, D)\n",
    "    fin-si\n",
    "fin-procédure"
   ]
  },
  {
   "cell_type": "code",
   "execution_count": 21,
   "metadata": {},
   "outputs": [],
   "source": [
    "def resoudre(tours, n, origine, cible, interm):\n",
    "    if n > 0 :\n",
    "        resoudre(tours, n-1, origine, interm, cible)\n",
    "        deplacer(tours, origine, cible)\n",
    "        resoudre(tours, n-1, interm, cible, origine)"
   ]
  },
  {
   "cell_type": "markdown",
   "metadata": {},
   "source": [
    "Tester votre fonction `resoudre(tours, n, origine, cible, interm)` ci-dessous de sorte que :\n",
    "\n",
    "```python \n",
    ">>> tours = creation_tours(5)\n",
    ">>> resoudre(tours, 5, 0, 2, 1)\n",
    ">>> print(tours)\n",
    "[[], [], [5, 4, 3, 2, 1]]\n",
    "```\n",
    "\n"
   ]
  },
  {
   "cell_type": "code",
   "execution_count": 36,
   "metadata": {},
   "outputs": [],
   "source": [
    "tours = creation_tours(20)"
   ]
  },
  {
   "cell_type": "code",
   "execution_count": 37,
   "metadata": {},
   "outputs": [],
   "source": [
    "resoudre(tours, 20, 0, 2, 1)"
   ]
  },
  {
   "cell_type": "code",
   "execution_count": 38,
   "metadata": {},
   "outputs": [
    {
     "name": "stdout",
     "output_type": "stream",
     "text": [
      "[[], [], [20, 19, 18, 17, 16, 15, 14, 13, 12, 11, 10, 9, 8, 7, 6, 5, 4, 3, 2, 1]]\n"
     ]
    }
   ],
   "source": [
    "print(tours)"
   ]
  },
  {
   "cell_type": "markdown",
   "metadata": {},
   "source": [
    "## Exercice 6 : (bonus complémentaire)\n",
    "\n",
    "Écrire une fonction récursive `nb_etapes(n)` qui renvoie le nombre d’étapes nécessaires pour déplacer une pile de n disques, avec n > 1.\n",
    "\n",
    "Une étape correspond à un déplacement de disque.\n",
    "\n",
    "Il ne faut pas utiliser de piles pour cette fonction, mais juste faire le calcul."
   ]
  },
  {
   "cell_type": "code",
   "execution_count": 1,
   "metadata": {},
   "outputs": [],
   "source": [
    "def nb_etapes(n):\n",
    "    \n",
    "    return (2**n) - 1\n",
    "    "
   ]
  },
  {
   "cell_type": "code",
   "execution_count": 2,
   "metadata": {},
   "outputs": [
    {
     "data": {
      "text/plain": [
       "18446744073709551615"
      ]
     },
     "execution_count": 2,
     "metadata": {},
     "output_type": "execute_result"
    }
   ],
   "source": [
    "nb_etapes(64)"
   ]
  },
  {
   "cell_type": "markdown",
   "metadata": {},
   "source": [
    "## Consignes, rappels pour la suite :\n",
    "\n",
    "Vous devez enregister ce fichier sous le nom `ds2B-nom-prenom.ipynb`\n",
    "\n",
    "De plus vous devez compléter votre fichier `ds2-nom-prenom.py` avec le code de toutes les fonctions définies ici y compris le code d'implémentation pour les piles que vous avez utilisé afin de pouvoir l'importer pour la suite du développement de ce projet.\n",
    "\n",
    "À la fin de la séance, transmettez vos fichiers par mail à l'adresse `eric.madec@ecmorlaix.fr`\n",
    "\n",
    "Respectez bien le nom des fonctions pour faciliter la relecture du code.\n",
    "\n",
    "Vous pouvez rajouter des commentaires lorsque vous pensez que c’est nécessaire.\n",
    "\n",
    "De même, essayez de choisir des variables dont le nom est compréhensible, si c’est pertinent."
   ]
  },
  {
   "cell_type": "code",
   "execution_count": null,
   "metadata": {},
   "outputs": [],
   "source": []
  }
 ],
 "metadata": {
  "interpreter": {
   "hash": "a4582a75a41fb78247f9e0d5ac5dcfbd0ffd857e3944b83ed2a96ac364b75fd7"
  },
  "kernelspec": {
   "display_name": "Python 3.9.1 64-bit",
   "language": "python",
   "name": "python3"
  },
  "language_info": {
   "codemirror_mode": {
    "name": "ipython",
    "version": 3
   },
   "file_extension": ".py",
   "mimetype": "text/x-python",
   "name": "python",
   "nbconvert_exporter": "python",
   "pygments_lexer": "ipython3",
   "version": "3.9.1"
  },
  "toc": {
   "base_numbering": 1,
   "nav_menu": {},
   "number_sections": true,
   "sideBar": true,
   "skip_h1_title": false,
   "title_cell": "Table of Contents",
   "title_sidebar": "Contents",
   "toc_cell": false,
   "toc_position": {},
   "toc_section_display": true,
   "toc_window_display": false
  },
  "varInspector": {
   "cols": {
    "lenName": 16,
    "lenType": 16,
    "lenVar": 40
   },
   "kernels_config": {
    "python": {
     "delete_cmd_postfix": "",
     "delete_cmd_prefix": "del ",
     "library": "var_list.py",
     "varRefreshCmd": "print(var_dic_list())"
    },
    "r": {
     "delete_cmd_postfix": ") ",
     "delete_cmd_prefix": "rm(",
     "library": "var_list.r",
     "varRefreshCmd": "cat(var_dic_list()) "
    }
   },
   "types_to_exclude": [
    "module",
    "function",
    "builtin_function_or_method",
    "instance",
    "_Feature"
   ],
   "window_display": false
  }
 },
 "nbformat": 4,
 "nbformat_minor": 4
}
