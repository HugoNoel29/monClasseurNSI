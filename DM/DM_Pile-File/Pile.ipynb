{
 "cells": [
  {
   "cell_type": "markdown",
   "metadata": {},
   "source": [
    "<h2>Question 1</h2>\n",
    "\n",
    "Réponse D : file"
   ]
  },
  {
   "cell_type": "markdown",
   "metadata": {},
   "source": [
    "<h2>Question 2</h2>"
   ]
  },
  {
   "cell_type": "code",
   "execution_count": null,
   "metadata": {},
   "outputs": [],
   "source": [
    "def ajouter(lst, proc) :\n",
    "    lst[-1].append(proc)"
   ]
  },
  {
   "cell_type": "code",
   "execution_count": null,
   "metadata": {},
   "outputs": [],
   "source": [
    "def ajouter(lst, proc) :\n",
    "    lst[1].append(proc)"
   ]
  },
  {
   "cell_type": "code",
   "execution_count": null,
   "metadata": {},
   "outputs": [],
   "source": [
    "lst[-1]"
   ]
  },
  {
   "cell_type": "markdown",
   "metadata": {},
   "source": [
    "<h2>Question 3</h2>"
   ]
  },
  {
   "cell_type": "markdown",
   "metadata": {},
   "source": [
    "0 : Etat de base\n",
    "\n",
    "p1 : ps5    p2 : \n",
    "     ps4         ps1\n",
    "     ps3         ps2"
   ]
  },
  {
   "cell_type": "markdown",
   "metadata": {},
   "source": [
    "1 : enfiler(file,ps6)\n",
    "\n",
    "p1 : ps6    p2 :\n",
    "     ps5          \n",
    "     ps4         ps1\n",
    "     ps3         ps2"
   ]
  },
  {
   "cell_type": "markdown",
   "metadata": {},
   "source": [
    "2 : defiler(file)\n",
    "\n",
    "p1 : ps6    p2 :\n",
    "     ps5          \n",
    "     ps4         \n",
    "     ps3         ps2"
   ]
  },
  {
   "cell_type": "markdown",
   "metadata": {},
   "source": [
    "3 : defiler(file)\n",
    "\n",
    "p1 : ps6    p2 :\n",
    "     ps5          \n",
    "     ps4         \n",
    "     ps3         "
   ]
  },
  {
   "cell_type": "markdown",
   "metadata": {},
   "source": [
    "4 : defiler(file)\n",
    "\n",
    "p1 :       p2 : ps6\n",
    "                ps5\n",
    "                ps4"
   ]
  },
  {
   "cell_type": "markdown",
   "metadata": {},
   "source": [
    "5 : enfiler(file, ps7)\n",
    "\n",
    "p1 :       p2 : ps6\n",
    "                ps5\n",
    "     ps7        ps4"
   ]
  },
  {
   "cell_type": "markdown",
   "metadata": {},
   "source": [
    "<h2>Question 4</h2>"
   ]
  },
  {
   "cell_type": "markdown",
   "metadata": {},
   "source": [
    "<h3>A</h3>"
   ]
  },
  {
   "cell_type": "markdown",
   "metadata": {},
   "source": [
    "\n",
    "def est_vide(f):\n",
    "    return f is None\n"
   ]
  },
  {
   "cell_type": "code",
   "execution_count": null,
   "metadata": {},
   "outputs": [],
   "source": [
    "def est_vide(f) :\n",
    "    if pile_vide(f[0]) == True and pile_vide(f[1]) == True :\n",
    "        return True\n",
    "    else :\n",
    "        return False"
   ]
  },
  {
   "cell_type": "markdown",
   "metadata": {},
   "source": [
    "<h3>B</h3>"
   ]
  },
  {
   "cell_type": "markdown",
   "metadata": {},
   "source": [
    "def enfiler(f, elt) :\n",
    "    f.append(elt)"
   ]
  },
  {
   "cell_type": "code",
   "execution_count": null,
   "metadata": {},
   "outputs": [],
   "source": [
    "def enfiler(f, elt) :\n",
    "    return empiler(f[1], elt)"
   ]
  },
  {
   "cell_type": "markdown",
   "metadata": {},
   "source": [
    "<h3>C</h3>"
   ]
  },
  {
   "cell_type": "code",
   "execution_count": null,
   "metadata": {},
   "outputs": [],
   "source": [
    "def defiler(f) :\n",
    "    return depiler(f[0])"
   ]
  }
 ],
 "metadata": {
  "language_info": {
   "name": "python"
  },
  "orig_nbformat": 4
 },
 "nbformat": 4,
 "nbformat_minor": 2
}
