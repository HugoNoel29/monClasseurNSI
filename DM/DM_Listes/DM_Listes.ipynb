{
 "cells": [
  {
   "cell_type": "markdown",
   "metadata": {},
   "source": [
    "<h2>Exercice 1</h2>"
   ]
  },
  {
   "cell_type": "markdown",
   "metadata": {},
   "source": [
    "- tete(l2) :  1\n",
    "\n",
    "\n",
    "- queue(l1) : (1, 7)\n",
    "\n",
    "\n",
    "- est_vide(queue(l1)) : False\n",
    "\n",
    "\n",
    "- tete(queue(queue(queue(l4)))) : 6\n",
    "\n",
    "\n",
    "- est_vide(queue(queue(l2))) : True"
   ]
  },
  {
   "cell_type": "markdown",
   "metadata": {},
   "source": [
    "<h2>Exercice 2</h2>"
   ]
  },
  {
   "cell_type": "code",
   "execution_count": null,
   "metadata": {},
   "outputs": [],
   "source": [
    "l1 = cons(6, cons(1, cons(7, nil)))"
   ]
  },
  {
   "cell_type": "code",
   "execution_count": null,
   "metadata": {},
   "outputs": [],
   "source": [
    "l2 = cons(1, cons(7, nil))\n",
    "\n",
    "l2 = queue(l1)"
   ]
  },
  {
   "cell_type": "code",
   "execution_count": null,
   "metadata": {},
   "outputs": [],
   "source": [
    "l3 = cons(3, cons(5, cons(6, cons(1, cons(7, nil)))))\n",
    "\n",
    "l3 = cons(3, cons(5, l1))"
   ]
  },
  {
   "cell_type": "code",
   "execution_count": null,
   "metadata": {},
   "outputs": [],
   "source": [
    "l4 = cons(8, cons(3, cons(5, cons(6, cons(1, cons(7, nil))))))\n",
    "\n",
    "l4 = cons(8, l3)"
   ]
  },
  {
   "cell_type": "markdown",
   "metadata": {},
   "source": [
    "<h2>Exercice 3</h2>"
   ]
  },
  {
   "cell_type": "code",
   "execution_count": null,
   "metadata": {},
   "outputs": [],
   "source": [
    "def longueur(liste) :\n",
    "    return len(liste)"
   ]
  },
  {
   "cell_type": "code",
   "execution_count": null,
   "metadata": {},
   "outputs": [],
   "source": [
    "def longueur(liste) :\n",
    "    size = 0\n",
    "    for _ in liste :\n",
    "        size += 1\n",
    "    return size"
   ]
  },
  {
   "cell_type": "markdown",
   "metadata": {},
   "source": [
    "<h2>Version itérative<h2>"
   ]
  },
  {
   "cell_type": "code",
   "execution_count": 1,
   "metadata": {},
   "outputs": [],
   "source": [
    "def cons(x,L):\n",
    "    return(x,L)\n",
    "\n",
    "def tete(L) :\n",
    "    return L[0]\n",
    "\n",
    "def queue(L) :\n",
    "    return L[-1]\n",
    "\n",
    "def estVide(L):\n",
    "    return L is None"
   ]
  },
  {
   "cell_type": "code",
   "execution_count": 2,
   "metadata": {},
   "outputs": [],
   "source": [
    "def longeur(liste) :\n",
    "\n",
    "    new_liste = liste\n",
    "    longeur = 0\n",
    "\n",
    "    while est_vide(new_liste) == False :\n",
    "        new_liste = cons(tete(queue(new_liste, tete(queue(queue(new_liste))))))\n",
    "        longeur += 1\n",
    "\n",
    "    return longeur"
   ]
  },
  {
   "cell_type": "code",
   "execution_count": 3,
   "metadata": {},
   "outputs": [],
   "source": [
    "def longeur(liste) :\n",
    "\n",
    "    new_liste = liste\n",
    "    longeur = 0\n",
    "\n",
    "    if queue(new_liste) == None :\n",
    "        longeur += 1\n",
    "        return longeur\n",
    "    else :\n",
    "        new_liste = cons(tete(queue(new_liste, tete(queue(queue(new_liste))))))\n",
    "        longeur += 1"
   ]
  },
  {
   "cell_type": "code",
   "execution_count": 1,
   "metadata": {},
   "outputs": [],
   "source": [
    "# VERSION FINALE\n",
    "\n",
    "def longeur(liste) :\n",
    "    new_liste = liste\n",
    "    longeur = 0\n",
    "    while not est_vide(new_liste) :\n",
    "        longeur += 1\n",
    "        new_liste = queue(new_liste)\n",
    "    return longeur"
   ]
  },
  {
   "cell_type": "markdown",
   "metadata": {},
   "source": [
    "<h2>Version récursive<h2>\n"
   ]
  },
  {
   "cell_type": "code",
   "execution_count": null,
   "metadata": {},
   "outputs": [],
   "source": [
    "def longeur_recursif(liste) :\n",
    "    if est_vide(liste) == True :\n",
    "        return 0\n",
    "    else :\n",
    "        return 1 + longeur(queue(liste))"
   ]
  }
 ],
 "metadata": {
  "interpreter": {
   "hash": "c535f766096f575e5993344ecf38043c94305985d3bbdfcb24d1ab2af40cf48e"
  },
  "kernelspec": {
   "display_name": "Python 3.9.4 64-bit",
   "name": "python3"
  },
  "language_info": {
   "codemirror_mode": {
    "name": "ipython",
    "version": 3
   },
   "file_extension": ".py",
   "mimetype": "text/x-python",
   "name": "python",
   "nbconvert_exporter": "python",
   "pygments_lexer": "ipython3",
   "version": "3.9.1"
  },
  "orig_nbformat": 4
 },
 "nbformat": 4,
 "nbformat_minor": 2
}
