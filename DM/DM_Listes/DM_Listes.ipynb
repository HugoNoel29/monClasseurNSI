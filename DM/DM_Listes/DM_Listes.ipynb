{
 "cells": [
  {
   "cell_type": "markdown",
   "metadata": {},
   "source": [
    "<h2>Exercice 1</h2>"
   ]
  },
  {
   "cell_type": "markdown",
   "metadata": {},
   "source": [
    "- tete(l2) :  1\n",
    "\n",
    "\n",
    "- queue(l1) : (1, 7)\n",
    "\n",
    "\n",
    "- est_vide(queue(l1)) : False\n",
    "\n",
    "\n",
    "- tete(queue(queue(queue(l4)))) : 6\n",
    "\n",
    "\n",
    "- est_vide(queue(queue(l2))) : True"
   ]
  },
  {
   "cell_type": "markdown",
   "metadata": {},
   "source": [
    "<h2>Exercice 2</h2>"
   ]
  },
  {
   "cell_type": "code",
   "execution_count": null,
   "metadata": {},
   "outputs": [],
   "source": [
    "l1 = cons(6, cons(1, cons(7, nil)))"
   ]
  },
  {
   "cell_type": "code",
   "execution_count": null,
   "metadata": {},
   "outputs": [],
   "source": [
    "l2 = cons(1, cons(7, nil))\n",
    "\n",
    "l2 = queue(l1)"
   ]
  },
  {
   "cell_type": "code",
   "execution_count": null,
   "metadata": {},
   "outputs": [],
   "source": [
    "l3 = cons(3, cons(5, cons(6, cons(1, cons(7, nil)))))\n",
    "\n",
    "l3 = cons(3, cons(5, l1))"
   ]
  },
  {
   "cell_type": "code",
   "execution_count": null,
   "metadata": {},
   "outputs": [],
   "source": [
    "l4 = cons(8, cons(3, cons(5, cons(6, cons(1, cons(7, nil))))))\n",
    "\n",
    "l4 = cons(8, l3)"
   ]
  },
  {
   "cell_type": "markdown",
   "metadata": {},
   "source": [
    "<h2>Exercice 3</h2>"
   ]
  },
  {
   "cell_type": "code",
   "execution_count": null,
   "metadata": {},
   "outputs": [],
   "source": [
    "def longueur(liste) :\n",
    "    return len(liste)"
   ]
  },
  {
   "cell_type": "code",
   "execution_count": null,
   "metadata": {},
   "outputs": [],
   "source": [
    "def longueur(liste) :\n",
    "    size = 0\n",
    "    for _ in liste :\n",
    "        size += 1\n",
    "    return size"
   ]
  }
 ],
 "metadata": {
  "language_info": {
   "name": "python"
  },
  "orig_nbformat": 4
 },
 "nbformat": 4,
 "nbformat_minor": 2
}
