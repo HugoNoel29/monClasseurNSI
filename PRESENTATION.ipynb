{
 "cells": [
  {
   "cell_type": "markdown",
   "id": "every-startup",
   "metadata": {},
   "source": [
    "<h2 style=\"color: blue\">Boucles for<h2>"
   ]
  },
  {
   "cell_type": "code",
   "execution_count": 1,
   "id": "mathematical-village",
   "metadata": {},
   "outputs": [
    {
     "name": "stdout",
     "output_type": "stream",
     "text": [
      "Nous en somme au : 0\n",
      "Nous en somme au : 1\n",
      "Nous en somme au : 2\n",
      "Nous en somme au : 3\n",
      "Nous en somme au : 4\n"
     ]
    }
   ],
   "source": [
    "for i in range(5) :\n",
    "    print(\"Nous en somme au :\",i)"
   ]
  },
  {
   "cell_type": "code",
   "execution_count": 2,
   "id": "amber-reason",
   "metadata": {},
   "outputs": [
    {
     "name": "stdout",
     "output_type": "stream",
     "text": [
      "¡\n",
      " \n",
      "H\n",
      "o\n",
      "l\n",
      "a\n",
      " \n",
      "!\n"
     ]
    }
   ],
   "source": [
    "for i in \"¡ Hola !\" :\n",
    "    print(i)\n",
    "    \n",
    " # ¡ = ALT + 0 + 1 + 6 + 1"
   ]
  },
  {
   "cell_type": "markdown",
   "id": "diagnostic-force",
   "metadata": {},
   "source": [
    "<h2 style=\"color: blue\"> Boucles While<h2>"
   ]
  },
  {
   "cell_type": "code",
   "execution_count": 12,
   "id": "retained-factor",
   "metadata": {},
   "outputs": [
    {
     "name": "stdout",
     "output_type": "stream",
     "text": [
      "Vous etes minuer(e)\n",
      "Vous avez 14 \n",
      "\n",
      "Vous etes minuer(e)\n",
      "Vous avez 15 \n",
      "\n",
      "Vous etes minuer(e)\n",
      "Vous avez 16 \n",
      "\n",
      "Vous etes minuer(e)\n",
      "Vous avez 17 \n",
      "\n",
      "Vous etes enfin majeur(e)\n",
      "Félicitations !\n"
     ]
    }
   ],
   "source": [
    "age = 14\n",
    "\n",
    "while age < 18 :\n",
    "    print(\"Vous etes minuer(e)\")\n",
    "    print(\"Vous avez\", age, \"\\n\")\n",
    "    age += 1\n",
    "    if age == 18 :\n",
    "        print(\"Vous etes enfin majeur(e)\")\n",
    "        print(\"Félicitations !\")"
   ]
  },
  {
   "cell_type": "code",
   "execution_count": null,
   "id": "breeding-access",
   "metadata": {},
   "outputs": [],
   "source": [
    "# NE PAS LANCER !\n",
    "# ATTENTION BOUCLE INFINIE !\n",
    "\n",
    "nombre = 0\n",
    "\n",
    "while True :\n",
    "    nombre += 1"
   ]
  },
  {
   "cell_type": "code",
   "execution_count": 7,
   "id": "thorough-patio",
   "metadata": {},
   "outputs": [
    {
     "name": "stdout",
     "output_type": "stream",
     "text": [
      "1326\n"
     ]
    }
   ],
   "source": [
    "#TOUJOURS VERIFIER SI LA BOUCLE PEUT FINIR AVANT DE LA LANCER !\n",
    "\n",
    "nombre = 0\n",
    "total = 0\n",
    "\n",
    "while True :\n",
    "    nombre += 1\n",
    "    total += nombre\n",
    "    if nombre > 50 :\n",
    "        print(total)\n",
    "        break"
   ]
  },
  {
   "cell_type": "markdown",
   "id": "minute-penny",
   "metadata": {},
   "source": [
    "<h2 style=\"color : Blue\">Maths<h2>\n"
   ]
  },
  {
   "cell_type": "code",
   "execution_count": 13,
   "id": "moral-object",
   "metadata": {},
   "outputs": [
    {
     "name": "stdout",
     "output_type": "stream",
     "text": [
      "4\n",
      "0\n",
      "4\n",
      "1.0\n",
      "0\n"
     ]
    }
   ],
   "source": [
    "print(\"Addition : 2 + 2 =\", 2+2)\n",
    "print(\"Soustraction : 2 - 2 =\", 2-2)\n",
    "print(\"Multiplication : 2 * 2 =\", 2*2)\n",
    "print(\"2 / 2)\n",
    "print(2 % 2)"
   ]
  }
 ],
 "metadata": {
  "kernelspec": {
   "display_name": "Python 3",
   "language": "python",
   "name": "python3"
  },
  "language_info": {
   "codemirror_mode": {
    "name": "ipython",
    "version": 3
   },
   "file_extension": ".py",
   "mimetype": "text/x-python",
   "name": "python",
   "nbconvert_exporter": "python",
   "pygments_lexer": "ipython3",
   "version": "3.7.10"
  }
 },
 "nbformat": 4,
 "nbformat_minor": 5
}
