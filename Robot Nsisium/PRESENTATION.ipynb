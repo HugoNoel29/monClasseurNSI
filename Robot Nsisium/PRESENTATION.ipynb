{
 "cells": [
  {
   "cell_type": "markdown",
   "id": "polar-physiology",
   "metadata": {},
   "source": [
    "<h2 style=\"color: blue\">Boucles for<h2>"
   ]
  },
  {
   "cell_type": "code",
   "execution_count": 10,
   "id": "enabling-franchise",
   "metadata": {},
   "outputs": [
    {
     "name": "stdout",
     "output_type": "stream",
     "text": [
      "Nous en somme au : 0\n",
      "Nous en somme au : 1\n",
      "Nous en somme au : 2\n",
      "Nous en somme au : 3\n",
      "Nous en somme au : 4\n"
     ]
    }
   ],
   "source": [
    "for i in range(5) :\n",
    "    print(\"Nous en somme au :\",i)"
   ]
  },
  {
   "cell_type": "code",
   "execution_count": 11,
   "id": "guilty-trinidad",
   "metadata": {},
   "outputs": [
    {
     "name": "stdout",
     "output_type": "stream",
     "text": [
      "¡\n",
      " \n",
      "H\n",
      "o\n",
      "l\n",
      "a\n",
      " \n",
      "!\n"
     ]
    }
   ],
   "source": [
    "for i in \"¡ Hola !\" :\n",
    "    print(i)\n",
    "    \n",
    " # ¡ = ALT + 0 + 1 + 6 + 1"
   ]
  },
  {
   "cell_type": "markdown",
   "id": "played-patch",
   "metadata": {},
   "source": [
    "<h2 style=\"color: blue\"> Boucles While<h2>"
   ]
  },
  {
   "cell_type": "code",
   "execution_count": 13,
   "id": "resident-tender",
   "metadata": {},
   "outputs": [
    {
     "name": "stdout",
     "output_type": "stream",
     "text": [
      "Vous etes minuer(e)\n",
      "Vous avez 14 ans \n",
      "\n",
      "Vous etes minuer(e)\n",
      "Vous avez 15 ans \n",
      "\n",
      "Vous etes minuer(e)\n",
      "Vous avez 16 ans \n",
      "\n",
      "Vous etes minuer(e)\n",
      "Vous avez 17 ans \n",
      "\n",
      "Vous avez 18 ans \n",
      "\n",
      "Vous etes enfin majeur(e)\n",
      "Félicitations !\n"
     ]
    }
   ],
   "source": [
    "age = 14\n",
    "\n",
    "while age < 18 :\n",
    "    print(\"Vous etes minuer(e)\")\n",
    "    print(\"Vous avez\", age, \"ans \\n\")\n",
    "    age += 1\n",
    "    if age == 18 :\n",
    "        print(\"Vous avez\", age, \"ans \\n\")\n",
    "        print(\"Vous etes enfin majeur(e)\")\n",
    "        print(\"Félicitations !\")"
   ]
  },
  {
   "cell_type": "code",
   "execution_count": null,
   "id": "religious-queens",
   "metadata": {},
   "outputs": [],
   "source": [
    "# NE PAS LANCER !\n",
    "# ATTENTION BOUCLE INFINIE !\n",
    "\n",
    "nombre = 0\n",
    "\n",
    "while True :\n",
    "    nombre += 1"
   ]
  },
  {
   "cell_type": "code",
   "execution_count": 14,
   "id": "regular-society",
   "metadata": {},
   "outputs": [
    {
     "name": "stdout",
     "output_type": "stream",
     "text": [
      "1326\n"
     ]
    }
   ],
   "source": [
    "#TOUJOURS VERIFIER SI LA BOUCLE PEUT FINIR AVANT DE LA LANCER !\n",
    "\n",
    "nombre = 0\n",
    "total = 0\n",
    "\n",
    "while True :\n",
    "    nombre += 1\n",
    "    total += nombre\n",
    "    if nombre > 50 :\n",
    "        print(total)\n",
    "        break"
   ]
  },
  {
   "cell_type": "markdown",
   "id": "exceptional-patrol",
   "metadata": {},
   "source": [
    "<h2 style=\"color : Blue\">Maths<h2>\n"
   ]
  },
  {
   "cell_type": "code",
   "execution_count": 15,
   "id": "native-conjunction",
   "metadata": {},
   "outputs": [
    {
     "name": "stdout",
     "output_type": "stream",
     "text": [
      "Addition : 2 + 2 = 4\n",
      "Soustraction : 2 - 2 = 0\n",
      "Multiplication : 2 * 2 = 4\n",
      "Division : 2 / 2 = 1.0\n",
      "Modulo : 2 % 2 = 0\n"
     ]
    }
   ],
   "source": [
    "print(\"Addition : 2 + 2 =\", 2+2)\n",
    "print(\"Soustraction : 2 - 2 =\", 2-2)\n",
    "print(\"Multiplication : 2 * 2 =\", 2*2)\n",
    "print(\"Division : 2 / 2 =\", 2/2)\n",
    "print(\"Modulo : 2 % 2 =\", 2%2)"
   ]
  },
  {
   "cell_type": "markdown",
   "id": "environmental-latest",
   "metadata": {},
   "source": [
    "<h2 style=\"color : Blue\">Types<h2>"
   ]
  },
  {
   "cell_type": "code",
   "execution_count": 16,
   "id": "sound-sapphire",
   "metadata": {},
   "outputs": [
    {
     "data": {
      "text/plain": [
       "int"
      ]
     },
     "execution_count": 16,
     "metadata": {},
     "output_type": "execute_result"
    }
   ],
   "source": [
    "#INT\n",
    "\n",
    "nb_pommes = 9\n",
    "\n",
    "type(nb_pommes)"
   ]
  },
  {
   "cell_type": "code",
   "execution_count": 17,
   "id": "comfortable-rover",
   "metadata": {},
   "outputs": [
    {
     "data": {
      "text/plain": [
       "str"
      ]
     },
     "execution_count": 17,
     "metadata": {},
     "output_type": "execute_result"
    }
   ],
   "source": [
    "#STR\n",
    "\n",
    "question = \"Quel est la lettre qui coupe le plus de bois ?\"\n",
    "\n",
    "type(question)"
   ]
  },
  {
   "cell_type": "code",
   "execution_count": 18,
   "id": "appointed-triumph",
   "metadata": {},
   "outputs": [
    {
     "data": {
      "text/plain": [
       "float"
      ]
     },
     "execution_count": 18,
     "metadata": {},
     "output_type": "execute_result"
    }
   ],
   "source": [
    "#FLOAT\n",
    "\n",
    "note = 16.5\n",
    "\n",
    "type(note)"
   ]
  },
  {
   "cell_type": "code",
   "execution_count": 19,
   "id": "beneficial-continent",
   "metadata": {},
   "outputs": [
    {
     "data": {
      "text/plain": [
       "list"
      ]
     },
     "execution_count": 19,
     "metadata": {},
     "output_type": "execute_result"
    }
   ],
   "source": [
    "#LISTES\n",
    "\n",
    "courses = [\"pain\",\"chocolat\",\"pommes\"]\n",
    "\n",
    "type(courses)"
   ]
  },
  {
   "cell_type": "code",
   "execution_count": 20,
   "id": "shaped-assist",
   "metadata": {},
   "outputs": [
    {
     "data": {
      "text/plain": [
       "tuple"
      ]
     },
     "execution_count": 20,
     "metadata": {},
     "output_type": "execute_result"
    }
   ],
   "source": [
    "#TUPLES\n",
    "\n",
    "couleur = (255,152,98)\n",
    "\n",
    "type(couleur)"
   ]
  },
  {
   "cell_type": "code",
   "execution_count": 21,
   "id": "floral-desperate",
   "metadata": {},
   "outputs": [
    {
     "data": {
      "text/plain": [
       "bool"
      ]
     },
     "execution_count": 21,
     "metadata": {},
     "output_type": "execute_result"
    }
   ],
   "source": [
    "#BOOLÉEN\n",
    "\n",
    "a = True\n",
    "\n",
    "type(a)"
   ]
  },
  {
   "cell_type": "code",
   "execution_count": 22,
   "id": "hourly-wednesday",
   "metadata": {},
   "outputs": [
    {
     "data": {
      "text/plain": [
       "bool"
      ]
     },
     "execution_count": 22,
     "metadata": {},
     "output_type": "execute_result"
    }
   ],
   "source": [
    "b = False\n",
    "\n",
    "type(b)"
   ]
  },
  {
   "cell_type": "markdown",
   "id": "hispanic-korean",
   "metadata": {},
   "source": [
    "<h2 style=\"color : Blue\">Fonctions Booléenes<h2>"
   ]
  },
  {
   "cell_type": "code",
   "execution_count": null,
   "id": "czech-processing",
   "metadata": {},
   "outputs": [],
   "source": [
    "#AND\n",
    "\n",
    "from IPython.display import Markdown\n",
    "    \n",
    "table ='''|  a  |  b  ||  ET  |\n",
    "|:---:|:---:||:---:|\\n'''\n",
    "\n",
    "for a in [False,True]:\n",
    "    for b in [False,True]:\n",
    "        table += f\"|  {a}  |  {b}  ||  {a and b}  |\\n\"\n",
    "        \n",
    "Markdown(table)        "
   ]
  }
 ],
 "metadata": {
  "kernelspec": {
   "display_name": "Python 3",
   "language": "python",
   "name": "python3"
  },
  "language_info": {
   "codemirror_mode": {
    "name": "ipython",
    "version": 3
   },
   "file_extension": ".py",
   "mimetype": "text/x-python",
   "name": "python",
   "nbconvert_exporter": "python",
   "pygments_lexer": "ipython3",
   "version": "3.7.10"
  }
 },
 "nbformat": 4,
 "nbformat_minor": 5
}
