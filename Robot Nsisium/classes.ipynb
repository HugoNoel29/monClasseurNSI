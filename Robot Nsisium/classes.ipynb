{
 "cells": [
  {
   "cell_type": "code",
   "execution_count": 7,
   "metadata": {},
   "outputs": [
    {
     "ename": "ModuleNotFoundError",
     "evalue": "No module named 'pybricks'",
     "output_type": "error",
     "traceback": [
      "\u001b[1;31m---------------------------------------------------------------------------\u001b[0m",
      "\u001b[1;31mModuleNotFoundError\u001b[0m                       Traceback (most recent call last)",
      "\u001b[1;32mC:\\Users\\UTILIS~1\\AppData\\Local\\Temp/ipykernel_956/2837220969.py\u001b[0m in \u001b[0;36m<module>\u001b[1;34m\u001b[0m\n\u001b[1;32m----> 1\u001b[1;33m \u001b[1;32mclass\u001b[0m \u001b[0mRobot\u001b[0m \u001b[1;33m:\u001b[0m\u001b[1;33m\u001b[0m\u001b[1;33m\u001b[0m\u001b[0m\n\u001b[0m\u001b[0;32m      2\u001b[0m \u001b[1;33m\u001b[0m\u001b[0m\n\u001b[0;32m      3\u001b[0m \u001b[1;33m\u001b[0m\u001b[0m\n\u001b[0;32m      4\u001b[0m     \u001b[1;31m#IMPORTATIONS\u001b[0m\u001b[1;33m\u001b[0m\u001b[1;33m\u001b[0m\u001b[1;33m\u001b[0m\u001b[0m\n\u001b[0;32m      5\u001b[0m     \u001b[1;32mfrom\u001b[0m \u001b[0mpybricks\u001b[0m\u001b[1;33m.\u001b[0m\u001b[0mhubs\u001b[0m \u001b[1;32mimport\u001b[0m \u001b[0mEV3Brick\u001b[0m\u001b[1;33m\u001b[0m\u001b[1;33m\u001b[0m\u001b[0m\n",
      "\u001b[1;32mC:\\Users\\UTILIS~1\\AppData\\Local\\Temp/ipykernel_956/2837220969.py\u001b[0m in \u001b[0;36mRobot\u001b[1;34m()\u001b[0m\n\u001b[0;32m      3\u001b[0m \u001b[1;33m\u001b[0m\u001b[0m\n\u001b[0;32m      4\u001b[0m     \u001b[1;31m#IMPORTATIONS\u001b[0m\u001b[1;33m\u001b[0m\u001b[1;33m\u001b[0m\u001b[1;33m\u001b[0m\u001b[0m\n\u001b[1;32m----> 5\u001b[1;33m     \u001b[1;32mfrom\u001b[0m \u001b[0mpybricks\u001b[0m\u001b[1;33m.\u001b[0m\u001b[0mhubs\u001b[0m \u001b[1;32mimport\u001b[0m \u001b[0mEV3Brick\u001b[0m\u001b[1;33m\u001b[0m\u001b[1;33m\u001b[0m\u001b[0m\n\u001b[0m\u001b[0;32m      6\u001b[0m     \u001b[1;32mfrom\u001b[0m \u001b[0mpybricks\u001b[0m\u001b[1;33m.\u001b[0m\u001b[0mev3devices\u001b[0m \u001b[1;32mimport\u001b[0m \u001b[0mMotor\u001b[0m\u001b[1;33m,\u001b[0m \u001b[0mColoeSensor\u001b[0m\u001b[1;33m,\u001b[0m \u001b[0mUltrasonicSensor\u001b[0m\u001b[1;33m\u001b[0m\u001b[1;33m\u001b[0m\u001b[0m\n\u001b[0;32m      7\u001b[0m     \u001b[1;32mfrom\u001b[0m \u001b[0mpybricks\u001b[0m\u001b[1;33m.\u001b[0m\u001b[0mrobotics\u001b[0m \u001b[1;32mimport\u001b[0m \u001b[0mDriveBase\u001b[0m\u001b[1;33m\u001b[0m\u001b[1;33m\u001b[0m\u001b[0m\n",
      "\u001b[1;31mModuleNotFoundError\u001b[0m: No module named 'pybricks'"
     ]
    }
   ],
   "source": [
    "class Robot :\n",
    "\n",
    "\n",
    "    #IMPORTATIONS\n",
    "    from pybricks.hubs import EV3Brick\n",
    "    from pybricks.ev3devices import Motor, ColoeSensor, UltrasonicSensor\n",
    "    from pybricks.robotics import DriveBase\n",
    "    from pybricks.parameters import Port, Stop, Direction, Port\n",
    "    from pybricks.tools import wait\n",
    "\n",
    "\n",
    "    def __init__(self,nom,left_motor,right_motor) :\n",
    "        self.set_nom = nom\n",
    "        self.set_left_motor = left_motor\n",
    "        self.set_right_motor = right_motor\n",
    "\n",
    "\n",
    "    #MOUVEMENTS \n",
    "    def avancer(self, distance) :\n",
    "        self.__left_motor.run(distance)\n",
    "        self.__right_motor.run(distance)\n",
    "\n",
    "    def reculer(self, distance) :\n",
    "        self.__left_motor.run(-distance)\n",
    "        self.__right_motor.run(-distance)\n",
    "\n",
    "    def stop(self) :\n",
    "        self.__left_motor.stop()\n",
    "        self.__right_motor.stop()\n",
    "\n",
    "    def tourner(self,angle):\n",
    "        self.__left_motor.turn(angle)\n",
    "        self.__right_motor.turn(angle)\n",
    "    \n",
    "        "
   ]
  },
  {
   "cell_type": "code",
   "execution_count": 6,
   "metadata": {},
   "outputs": [
    {
     "ename": "NameError",
     "evalue": "name 'Motor' is not defined",
     "output_type": "error",
     "traceback": [
      "\u001b[1;31m---------------------------------------------------------------------------\u001b[0m",
      "\u001b[1;31mNameError\u001b[0m                                 Traceback (most recent call last)",
      "\u001b[1;32mC:\\Users\\UTILIS~1\\AppData\\Local\\Temp/ipykernel_956/3851777949.py\u001b[0m in \u001b[0;36m<module>\u001b[1;34m\u001b[0m\n\u001b[1;32m----> 1\u001b[1;33m \u001b[0mleft_motor\u001b[0m \u001b[1;33m=\u001b[0m \u001b[0mMotor\u001b[0m\u001b[1;33m(\u001b[0m\u001b[0mPort\u001b[0m\u001b[1;33m.\u001b[0m\u001b[0mB\u001b[0m\u001b[1;33m)\u001b[0m\u001b[1;33m\u001b[0m\u001b[1;33m\u001b[0m\u001b[0m\n\u001b[0m\u001b[0;32m      2\u001b[0m \u001b[0mright_motor\u001b[0m \u001b[1;33m=\u001b[0m \u001b[0mMotor\u001b[0m\u001b[1;33m(\u001b[0m\u001b[0mPort\u001b[0m\u001b[1;33m.\u001b[0m\u001b[0mC\u001b[0m\u001b[1;33m)\u001b[0m\u001b[1;33m\u001b[0m\u001b[1;33m\u001b[0m\u001b[0m\n\u001b[0;32m      3\u001b[0m \u001b[1;33m\u001b[0m\u001b[0m\n\u001b[0;32m      4\u001b[0m \u001b[0mrobot\u001b[0m \u001b[1;33m=\u001b[0m \u001b[0mRobot\u001b[0m\u001b[1;33m(\u001b[0m\u001b[0mBooby_Doggy\u001b[0m\u001b[1;33m,\u001b[0m \u001b[0mleft_motor\u001b[0m\u001b[1;33m,\u001b[0m \u001b[0mright_motor\u001b[0m\u001b[1;33m)\u001b[0m\u001b[1;33m\u001b[0m\u001b[1;33m\u001b[0m\u001b[0m\n",
      "\u001b[1;31mNameError\u001b[0m: name 'Motor' is not defined"
     ]
    }
   ],
   "source": [
    "robot = Robot(Booby_Doggy, left_motor, right_motor)"
   ]
  }
 ],
 "metadata": {
  "interpreter": {
   "hash": "d392c9ddaa6b365e1706bdbc6bd2786d403f6271a103ff8a7f34ee918c5830ad"
  },
  "kernelspec": {
   "display_name": "Python 3.9.1 64-bit",
   "name": "python3"
  },
  "language_info": {
   "codemirror_mode": {
    "name": "ipython",
    "version": 3
   },
   "file_extension": ".py",
   "mimetype": "text/x-python",
   "name": "python",
   "nbconvert_exporter": "python",
   "pygments_lexer": "ipython3",
   "version": "3.9.1"
  },
  "orig_nbformat": 4
 },
 "nbformat": 4,
 "nbformat_minor": 2
}
