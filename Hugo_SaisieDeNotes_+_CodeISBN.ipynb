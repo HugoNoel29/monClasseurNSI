{
 "cells": [
  {
   "cell_type": "code",
   "execution_count": 1,
   "source": [
    "def saisir_note() -> float :\r\n",
    "    \"\"\" ==================================================================================================================\r\n",
    "    \r\n",
    "        * Description : La fonction demande a l'utilisateur de saisir un nombre \r\n",
    "\r\n",
    "        * Exemple : \r\n",
    "            >>> nombre = saisir_note()\r\n",
    "            Entrez le nombre de notes   14\r\n",
    "\r\n",
    "            nombre\r\n",
    "            14\r\n",
    "\r\n",
    "        * Préconditions : \r\n",
    "            L'entrée de l'utilisateur doit êtr de type float ou int\r\n",
    "          \r\n",
    "        * Postconditions :\r\n",
    "            (float) : la valeur saisie convertie en float.       \r\n",
    "        \r\n",
    "        ==================================================================================================================\r\n",
    "    \"\"\"\r\n",
    "\r\n",
    "    try :\r\n",
    "        note = float(input(\"Entrez le nombre de notes\")) \r\n",
    "        assert type(note) == float or int\r\n",
    "        return note\r\n",
    " \r\n",
    "    except ValueError :\r\n",
    "        print(f\"L'entrée doit etre un float ou un int\")\r\n"
   ],
   "outputs": [],
   "metadata": {}
  },
  {
   "cell_type": "code",
   "execution_count": 2,
   "source": [
    "nombre = saisir_note()\r\n",
    "print(nombre)\r\n",
    "\r\n",
    "nb_notes = saisir_note()\r\n",
    "print(nb_notes)"
   ],
   "outputs": [
    {
     "output_type": "stream",
     "name": "stdout",
     "text": [
      "5.0\n",
      "L'entrée doit etre un float ou un int\n",
      "None\n"
     ]
    }
   ],
   "metadata": {}
  },
  {
   "cell_type": "code",
   "execution_count": 14,
   "source": [
    "def table_de_notes(nb_notes) -> list :\r\n",
    "    \"\"\" ==================================================================================================================\r\n",
    "    \r\n",
    "        * Description : La fonction demande a l'utilisateur de saisir des un certain nombre de nombres compris entre 0 et 20 et les renvoie sous forme de liste de floats\r\n",
    "\r\n",
    "        * Exemple : \r\n",
    "            >>> nombre = table_de_notes()\r\n",
    "            Entrez le nombre de notes   2\r\n",
    "            Entrez la note comprise entre 0 et 20   5.2\r\n",
    "            Entrez la note comprise entre 0 et 20   12\r\n",
    "            [5.2, 12.0]\r\n",
    "\r\n",
    "\r\n",
    "        * Préconditions : \r\n",
    "            saisir_note() : La fonction créée précédement\r\n",
    "          \r\n",
    "        * Postconditions :\r\n",
    "            (list) : la liste des valeures entrées par l'utilisateur      \r\n",
    "        \r\n",
    "        ==================================================================================================================\r\n",
    "    \"\"\"\r\n",
    "    try :\r\n",
    "        tableau_notes = [float(input(\"Entrez la note comprise entre 0 et 20\")) for _ in range(nb_notes)]\r\n",
    "        return tableau_notes\r\n",
    "    except TypeError :\r\n",
    "        print(f\"L'entrée doit être de type list et dois contenir des int et/ou des float\")"
   ],
   "outputs": [],
   "metadata": {}
  },
  {
   "cell_type": "code",
   "execution_count": 18,
   "source": [
    "tableaux = table_de_notes(2)\r\n",
    "print(tableaux)\r\n",
    "\r\n",
    "tableaux1 = table_de_notes(4)\r\n",
    "print(tableaux1)\r\n"
   ],
   "outputs": [
    {
     "output_type": "stream",
     "name": "stdout",
     "text": [
      "[14.0, 15.0]\n",
      "[12.0, 14.0, 12.0, 13.0]\n"
     ]
    }
   ],
   "metadata": {}
  },
  {
   "cell_type": "code",
   "execution_count": 5,
   "source": [
    "def minimum_table(table : list) -> float :\r\n",
    "    \"\"\" ==================================================================================================================\r\n",
    "    \r\n",
    "        * Description : La fonction parcours une liste et renvoie la valeur la plus basse de la liste.\r\n",
    "\r\n",
    "        * Exemple :\r\n",
    "            >>> minimum_tables([1,8,9,5,47,248])\r\n",
    "            1.0            \r\n",
    "        * Préconditions :\r\n",
    "            (list) : une liste de type contenant des int ou des float\r\n",
    "\r\n",
    "        * Postconditions :\r\n",
    "            (float) : la valeur mini de la liste d'entrée.       \r\n",
    "        \r\n",
    "        ==================================================================================================================\r\n",
    "    \"\"\"\r\n",
    "    try :\r\n",
    "        mini = float(table[0])\r\n",
    "        for i in range(len(table)) :\r\n",
    "            if float(table[i]) < mini :\r\n",
    "                mini = float(table[i])           \r\n",
    "        return mini\r\n",
    "    except ValueError :\r\n",
    "        print(f\"L'entrée doit être de type list et dois contenir des int et/ou des float\")"
   ],
   "outputs": [],
   "metadata": {}
  },
  {
   "cell_type": "code",
   "execution_count": 6,
   "source": [
    "print(minimum_table(\"titi\"))\r\n",
    "\r\n",
    "minimum_table([2452.1545,354.164,51646,54.1684])"
   ],
   "outputs": [
    {
     "output_type": "stream",
     "name": "stdout",
     "text": [
      "L'entrée doit être de type list et dois contenir des int et/ou des float\n",
      "None\n"
     ]
    },
    {
     "output_type": "execute_result",
     "data": {
      "text/plain": [
       "54.1684"
      ]
     },
     "metadata": {},
     "execution_count": 6
    }
   ],
   "metadata": {}
  },
  {
   "cell_type": "code",
   "execution_count": 7,
   "source": [
    "def maximum_table(table : list) -> float :\r\n",
    "    \"\"\" ==================================================================================================================\r\n",
    "    \r\n",
    "        * Description : La fonction parcours une liste et renvoie la valeur la plus haute de la liste.\r\n",
    "\r\n",
    "        * Exemple :\r\n",
    "            >>> maximum_tables([1,8,9,5,47,248])\r\n",
    "            248.0\r\n",
    "\r\n",
    "        * Préconditions :\r\n",
    "            (list) : une liste de type contenant des int ou des float\r\n",
    "\r\n",
    "        * Postconditions :\r\n",
    "            (float) : la valeur maxi de la liste d'entrée.       \r\n",
    "        \r\n",
    "        ==================================================================================================================\r\n",
    "    \"\"\"\r\n",
    "    try :\r\n",
    "        maxi = float(table[0])\r\n",
    "        for i in range(len(table)) :\r\n",
    "            if float(table[i]) > maxi :\r\n",
    "                maxi = float(table[i])           \r\n",
    "        return maxi\r\n",
    "    except ValueError :\r\n",
    "        print(f\"L'entrée doit être de type list et contenir des float ou des int\")\r\n",
    "        "
   ],
   "outputs": [],
   "metadata": {}
  },
  {
   "cell_type": "code",
   "execution_count": 8,
   "source": [
    "print(maximum_table(\"tata\"))\r\n",
    "\r\n",
    "maximum_table([2455,6546464,6846546584])"
   ],
   "outputs": [
    {
     "output_type": "stream",
     "name": "stdout",
     "text": [
      "L'entrée doit être de type list et contenir des float ou des int\n",
      "None\n"
     ]
    },
    {
     "output_type": "execute_result",
     "data": {
      "text/plain": [
       "6846546584.0"
      ]
     },
     "metadata": {},
     "execution_count": 8
    }
   ],
   "metadata": {}
  },
  {
   "cell_type": "code",
   "execution_count": 9,
   "source": [
    "def moyenne_table(table : list) -> float :\r\n",
    "    \"\"\" ==================================================================================================================\r\n",
    "    \r\n",
    "        * Description : La fonction fait la moyenne des valeurs d'une liste\r\n",
    "\r\n",
    "        *Exemple :\r\n",
    "            >>> moyenne_table([5,10,15])\r\n",
    "            10.0\r\n",
    "        * Préconditions :\r\n",
    "            (list) : une liste de type contenant des int ou des float\r\n",
    "\r\n",
    "        * Postconditions :\r\n",
    "            (float) : la valeur moyenne de la liste d'entrée.       \r\n",
    "        \r\n",
    "        ==================================================================================================================\r\n",
    "    \"\"\"\r\n",
    "    try :\r\n",
    "        return sum(table) / len(table)\r\n",
    "    except ValueError :\r\n",
    "        print(f\"L'entrée doit être de type list\")\r\n",
    "    except TypeError :\r\n",
    "        print(f\"La valeur en entrée doit être une liste de int et/ou de float\")"
   ],
   "outputs": [],
   "metadata": {}
  },
  {
   "cell_type": "code",
   "execution_count": 10,
   "source": [
    "print(moyenne_table(\"toto\"))\r\n",
    "\r\n",
    "moyenne_table([454564.145,654654,14454])"
   ],
   "outputs": [
    {
     "output_type": "stream",
     "name": "stdout",
     "text": [
      "La valeur en entrée doit être une liste de int et/ou de float\n",
      "None\n"
     ]
    },
    {
     "output_type": "execute_result",
     "data": {
      "text/plain": [
       "374557.38166666665"
      ]
     },
     "metadata": {},
     "execution_count": 10
    }
   ],
   "metadata": {}
  },
  {
   "cell_type": "markdown",
   "source": [
    "### CODE ISBN"
   ],
   "metadata": {}
  },
  {
   "cell_type": "code",
   "execution_count": 24,
   "source": [
    "def verification(code : str) -> bool :\r\n",
    "\r\n",
    "    \"\"\" ==================================================================================================================\r\n",
    "    \r\n",
    "        * Description : La fonction vérifie si un code ISBN donné est correct ou non\r\n",
    "\r\n",
    "        *Exemple :\r\n",
    "            >>> verification(\"9782123456803\")\r\n",
    "            True\r\n",
    "            \r\n",
    "        * Préconditions :\r\n",
    "            (str) : Un code ISBN str de 13 chiffres\r\n",
    "\r\n",
    "        * Postconditions :\r\n",
    "            (bool) : True si le code est correct et False si le code est faux       \r\n",
    "        \r\n",
    "        ==================================================================================================================\r\n",
    "    \"\"\"\r\n",
    "   \r\n",
    "    assert (len(code) == 13) , 'Le code ISBN doit être de 13 chiffres'\r\n",
    "\r\n",
    "    s1 = 0\r\n",
    "    for i in range(0,11,2):\r\n",
    "        s1 += int(code[i])\r\n",
    "       \r\n",
    "    s2 = 0\r\n",
    "    for j in range(1,13,2) :\r\n",
    "        s2 += int(code[j])\r\n",
    "    s2 = 3 * s2\r\n",
    "       \r\n",
    "    reste = (s1 + s2) % 10\r\n",
    "\r\n",
    "    if reste == 0 :\r\n",
    "        cle = 0\r\n",
    "    else :\r\n",
    "        cle = 10 - reste\r\n",
    "       \r\n",
    "    if cle == int(code[-1]) :\r\n",
    "        return True\r\n",
    "    else :\r\n",
    "        return False\r\n",
    "   \r\n",
    "print(verification(\"9782123456803\"))\r\n",
    "\r\n",
    "print(verification(\"9782871298168\"))\r\n",
    "\r\n",
    "print(verification(\"9782871291518\"))\r\n",
    "\r\n",
    "print(verification(\"651521654654551\"))"
   ],
   "outputs": [
    {
     "output_type": "stream",
     "name": "stdout",
     "text": [
      "True\n",
      "True\n",
      "False\n"
     ]
    },
    {
     "output_type": "error",
     "ename": "AssertionError",
     "evalue": "Le code ISBN doit être de 13 chiffres",
     "traceback": [
      "\u001b[1;31m---------------------------------------------------------------------------\u001b[0m",
      "\u001b[1;31mAssertionError\u001b[0m                            Traceback (most recent call last)",
      "\u001b[1;32mC:\\Users\\UTILIS~1\\AppData\\Local\\Temp/ipykernel_8868/1959200609.py\u001b[0m in \u001b[0;36m<module>\u001b[1;34m\u001b[0m\n\u001b[0;32m     27\u001b[0m \u001b[0mprint\u001b[0m\u001b[1;33m(\u001b[0m\u001b[0mverification\u001b[0m\u001b[1;33m(\u001b[0m\u001b[1;34m\"9782871298168\"\u001b[0m\u001b[1;33m)\u001b[0m\u001b[1;33m)\u001b[0m\u001b[1;33m\u001b[0m\u001b[1;33m\u001b[0m\u001b[0m\n\u001b[0;32m     28\u001b[0m \u001b[0mprint\u001b[0m\u001b[1;33m(\u001b[0m\u001b[0mverification\u001b[0m\u001b[1;33m(\u001b[0m\u001b[1;34m\"9782871291518\"\u001b[0m\u001b[1;33m)\u001b[0m\u001b[1;33m)\u001b[0m\u001b[1;33m\u001b[0m\u001b[1;33m\u001b[0m\u001b[0m\n\u001b[1;32m---> 29\u001b[1;33m \u001b[0mprint\u001b[0m\u001b[1;33m(\u001b[0m\u001b[0mverification\u001b[0m\u001b[1;33m(\u001b[0m\u001b[1;34m\"651521654654551\"\u001b[0m\u001b[1;33m)\u001b[0m\u001b[1;33m)\u001b[0m\u001b[1;33m\u001b[0m\u001b[1;33m\u001b[0m\u001b[0m\n\u001b[0m",
      "\u001b[1;32mC:\\Users\\UTILIS~1\\AppData\\Local\\Temp/ipykernel_8868/1959200609.py\u001b[0m in \u001b[0;36mverification\u001b[1;34m(code)\u001b[0m\n\u001b[0;32m      1\u001b[0m \u001b[1;32mdef\u001b[0m \u001b[0mverification\u001b[0m\u001b[1;33m(\u001b[0m\u001b[0mcode\u001b[0m \u001b[1;33m:\u001b[0m \u001b[0mstr\u001b[0m\u001b[1;33m)\u001b[0m \u001b[1;33m->\u001b[0m \u001b[0mbool\u001b[0m \u001b[1;33m:\u001b[0m\u001b[1;33m\u001b[0m\u001b[1;33m\u001b[0m\u001b[0m\n\u001b[0;32m      2\u001b[0m \u001b[1;33m\u001b[0m\u001b[0m\n\u001b[1;32m----> 3\u001b[1;33m     \u001b[1;32massert\u001b[0m \u001b[1;33m(\u001b[0m\u001b[0mlen\u001b[0m\u001b[1;33m(\u001b[0m\u001b[0mcode\u001b[0m\u001b[1;33m)\u001b[0m \u001b[1;33m==\u001b[0m \u001b[1;36m13\u001b[0m\u001b[1;33m)\u001b[0m \u001b[1;33m,\u001b[0m \u001b[1;34m'Le code ISBN doit être de 13 chiffres'\u001b[0m\u001b[1;33m\u001b[0m\u001b[1;33m\u001b[0m\u001b[0m\n\u001b[0m\u001b[0;32m      4\u001b[0m \u001b[1;33m\u001b[0m\u001b[0m\n\u001b[0;32m      5\u001b[0m     \u001b[0ms1\u001b[0m \u001b[1;33m=\u001b[0m \u001b[1;36m0\u001b[0m\u001b[1;33m\u001b[0m\u001b[1;33m\u001b[0m\u001b[0m\n",
      "\u001b[1;31mAssertionError\u001b[0m: Le code ISBN doit être de 13 chiffres"
     ]
    }
   ],
   "metadata": {}
  }
 ],
 "metadata": {
  "orig_nbformat": 4,
  "language_info": {
   "name": "python",
   "version": "3.9.1",
   "mimetype": "text/x-python",
   "codemirror_mode": {
    "name": "ipython",
    "version": 3
   },
   "pygments_lexer": "ipython3",
   "nbconvert_exporter": "python",
   "file_extension": ".py"
  },
  "kernelspec": {
   "name": "python3",
   "display_name": "Python 3.9.1 64-bit"
  },
  "interpreter": {
   "hash": "d392c9ddaa6b365e1706bdbc6bd2786d403f6271a103ff8a7f34ee918c5830ad"
  }
 },
 "nbformat": 4,
 "nbformat_minor": 2
}