{
 "cells": [
  {
   "cell_type": "code",
   "execution_count": 1,
   "metadata": {},
   "outputs": [
    {
     "name": "stdout",
     "output_type": "stream",
     "text": [
      "A l'indice 0 se trouve la lettre J\n",
      "A l'indice 1 se trouve la lettre o\n",
      "A l'indice 2 se trouve la lettre y\n",
      "A l'indice 3 se trouve la lettre e\n",
      "A l'indice 4 se trouve la lettre u\n",
      "A l'indice 5 se trouve la lettre x\n",
      "A l'indice 6 se trouve la lettre  \n",
      "A l'indice 7 se trouve la lettre A\n",
      "A l'indice 8 se trouve la lettre n\n",
      "A l'indice 9 se trouve la lettre n\n",
      "A l'indice 10 se trouve la lettre i\n",
      "A l'indice 11 se trouve la lettre v\n",
      "A l'indice 12 se trouve la lettre e\n",
      "A l'indice 13 se trouve la lettre r\n",
      "A l'indice 14 se trouve la lettre s\n",
      "A l'indice 15 se trouve la lettre a\n",
      "A l'indice 16 se trouve la lettre i\n",
      "A l'indice 17 se trouve la lettre r\n",
      "A l'indice 18 se trouve la lettre e\n"
     ]
    }
   ],
   "source": [
    "une_chaine = \"Joyeux Anniversaire\"\n",
    "\n",
    "for i in range (len(une_chaine)):\n",
    "    print(\"A l'indice\", i, \"se trouve la lettre\", une_chaine[i])"
   ]
  }
 ],
 "metadata": {
  "kernelspec": {
   "display_name": "Python 3",
   "language": "python",
   "name": "python3"
  },
  "language_info": {
   "codemirror_mode": {
    "name": "ipython",
    "version": 3
   },
   "file_extension": ".py",
   "mimetype": "text/x-python",
   "name": "python",
   "nbconvert_exporter": "python",
   "pygments_lexer": "ipython3",
   "version": "3.7.8"
  }
 },
 "nbformat": 4,
 "nbformat_minor": 4
}
