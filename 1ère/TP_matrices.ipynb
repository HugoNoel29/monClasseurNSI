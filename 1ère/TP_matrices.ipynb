{
 "cells": [
  {
   "cell_type": "markdown",
   "metadata": {},
   "source": [
    "# Construction, traitement et affichage de matrices"
   ]
  },
  {
   "cell_type": "markdown",
   "metadata": {},
   "source": [
    "## Définition :\n",
    "\n",
    "En mathématiques, une matrice $\\textbf{M}(m \\times n)$ est un tableau de nombres possédant $m$ lignes et $n$ colonnes. Chaque élément de ce tableau est repéré par deux indices i et j tel que :\n",
    "\n",
    "<img src=\"https://upload.wikimedia.org/wikipedia/commons/thumb/d/d1/Matrice.svg/495px-Matrice.svg.png\" width=\"50%\">\n",
    "<center><em>Source<a href= \"https://fr.wikipedia.org/wiki/Matrice_(math%C3%A9matiques)\"> wikipédia</a><em></center>"
   ]
  },
  {
   "cell_type": "markdown",
   "metadata": {},
   "source": [
    "## Création de matrices au format de l'afficheur d'un BBC micro:bit :\n",
    "\n",
    "On peut représenter les 25 LEDs de l'écran d'un BBC micro:bit par une matrice carrée (5x5) pour laquelle chaque élément peut prendre une valeur entière comprise entre 0 et 9. Cette valeur représente la luminosité de la LED correspondante.\n",
    "\n",
    "Par exemple, l'affichage d'un \"smiley happy\" :\n",
    "\n",
    "\n",
    "<img src=\"https://ericecmorlaix.github.io/img/bbc_happy.png\" width=\"25%\">\n",
    "<center><em>Image du simulateur <a href= \"http://jython.tobiaskohn.ch/\">TigerJython</a><em></center>\n",
    "\n",
    "correspond à la matrice :\n",
    "$$joyeux =\\begin{pmatrix}\n",
    "& 0 & 0 & 0 & 0 & 0 & \\\\\n",
    "& 0 & 9 & 0 & 9 & 0 & \\\\\n",
    "& 0 & 0 & 0 & 0 & 0 & \\\\\n",
    "& 9 & 0 & 0 & 0 & 9 & \\\\\n",
    "& 0 & 9 & 9 & 9 & 0 & \\\\\n",
    "\\end{pmatrix}$$\n",
    "\n",
    "et au tableau définit en Python tel que :"
   ]
  },
  {
   "cell_type": "code",
   "execution_count": 2,
   "metadata": {},
   "outputs": [
    {
     "data": {
      "text/plain": [
       "[[0, 0, 0, 0, 0],\n",
       " [0, 9, 0, 9, 0],\n",
       " [0, 0, 0, 0, 0],\n",
       " [9, 0, 0, 0, 9],\n",
       " [0, 9, 9, 9, 0]]"
      ]
     },
     "execution_count": 2,
     "metadata": {},
     "output_type": "execute_result"
    }
   ],
   "source": [
    "joyeux = [[0, 0, 0, 0, 0],\n",
    "          [0, 9, 0, 9, 0],\n",
    "          [0, 0, 0, 0, 0],\n",
    "          [9, 0, 0, 0, 9],\n",
    "          [0, 9, 9, 9, 0]]\n",
    "joyeux"
   ]
  },
  {
   "cell_type": "markdown",
   "metadata": {},
   "source": [
    "<h3 class='fa fa-code' style=\"color: MediumSeaGreen\"> A coder vous même :</h3>\n",
    "\n",
    "Définir le tableau pour l'affichage d'un \"smiley sad\" :"
   ]
  },
  {
   "cell_type": "code",
   "execution_count": 3,
   "metadata": {},
   "outputs": [
    {
     "data": {
      "text/plain": [
       "[[0, 0, 0, 0, 0],\n",
       " [0, 9, 0, 9, 0],\n",
       " [0, 0, 0, 0, 0],\n",
       " [0, 9, 9, 9, 0],\n",
       " [9, 0, 0, 0, 9]]"
      ]
     },
     "execution_count": 3,
     "metadata": {},
     "output_type": "execute_result"
    }
   ],
   "source": [
    "triste = [[0, 0, 0, 0, 0],\n",
    "          [0, 9, 0, 9, 0],\n",
    "          [0, 0, 0, 0, 0],\n",
    "          [0, 9, 9, 9, 0],\n",
    "          [9, 0, 0, 0, 9]]\n",
    "triste"
   ]
  },
  {
   "cell_type": "code",
   "execution_count": null,
   "metadata": {},
   "outputs": [],
   "source": [
    "from microbit import *\n",
    "\n",
    "joyeux = [[0, 0, 0, 0, 0],\n",
    "          [0, 9, 0, 9, 0],\n",
    "          [0, 0, 0, 0, 0],\n",
    "          [9, 0, 0, 0, 9],\n",
    "          [0, 9, 9, 9, 0]]\n",
    "   \n",
    "triste = [[0, 0, 0, 0, 0],\n",
    "          [0, 9, 0, 9, 0],\n",
    "          [0, 0, 0, 0, 0],\n",
    "          [0, 9, 9, 9, 0],\n",
    "          [9, 0, 0, 0, 9]]\n",
    "\n",
    "def affiche_microbit(matrice) :\n",
    "    \n",
    "    for j in range(len(matrice)):\n",
    "        for i in range(len(matrice[j])):\n",
    "            display.set_pixel(i , j , matrice[j][i])\n",
    "    \n",
    "def affiche_joyeux_triste(joyeux , triste) :\n",
    "    if button_a.is_pressed :\n",
    "        affiche_microbit(joyeux)\n",
    "    if button_b.is_pressed :\n",
    "        affiche_microbit(triste)\n",
    "\n"
   ]
  },
  {
   "cell_type": "markdown",
   "metadata": {},
   "source": [
    "## Afficher une matrice :\n",
    "\n",
    "### Affichage en $\\LaTeX{}$ dans ce notebook jupyter :\n",
    "\n",
    "La fonction `print()` génère un affichage en ligne d'un tableau et non pas un format matricielle, lignes/colonnes :"
   ]
  },
  {
   "cell_type": "code",
   "execution_count": 7,
   "metadata": {},
   "outputs": [
    {
     "name": "stdout",
     "output_type": "stream",
     "text": [
      "[[0, 0, 0, 0, 0], [0, 9, 0, 9, 0], [0, 0, 0, 0, 0], [9, 0, 0, 0, 9], [0, 9, 9, 9, 0]]\n"
     ]
    }
   ],
   "source": [
    "print(joyeux)"
   ]
  },
  {
   "cell_type": "markdown",
   "metadata": {},
   "source": [
    "Pour afficher comme il se doit nos matrices dans ce document, nous allons définir une fonction basée sur la fonction `Latex()` du module `IPython.display`\n",
    "\n",
    "<h3 class='fa fa-cogs' style=\"color: darkorange\"> A faire vous même :</h3>\n",
    "\n",
    "Essayer la fonction suivante avec les matrices `joyeux` puis `triste`."
   ]
  },
  {
   "cell_type": "code",
   "execution_count": 22,
   "metadata": {},
   "outputs": [],
   "source": [
    "from IPython.display import Latex\n",
    "\n",
    "def affiche_latex(matrice) :\n",
    "    '''\n",
    "    ################################################\n",
    "    #                                              #\n",
    "    #   Documentation de la fonction ...........   #\n",
    "    #                                              #\n",
    "    ################################################\n",
    "    \n",
    "   Description : - Affiche une matrice en format LaTeX\n",
    "   \n",
    "   Exemple : >>> [[0, 0, 0, 0, 0], [0, 9, 0, 9, 0], [0, 0, 0, 0, 0], [9, 0, 0, 0, 9], [0, 9, 9, 9, 0]]\n",
    "             >>> Affiche en Latex : [[0, 0, 0, 0, 0],\n",
    "                                     [0, 9, 0, 9, 0],\n",
    "                                     [0, 0, 0, 0, 0],\n",
    "                                     [9, 0, 0, 0, 9],\n",
    "                                     [0, 9, 9, 9, 0]]\n",
    "                                     \n",
    "   Préconditions : - Une matrice de type list                                  \n",
    "    \n",
    "   Postconditions : - Une matrice de type IPython.core.display.Latex\n",
    "   \n",
    "    '''\n",
    "    \n",
    "    S = '$$\\\\begin{pmatrix}'\n",
    "    for i in range(len(matrice)) :\n",
    "        S += '&'\n",
    "        for j in range(len(matrice[i])) :\n",
    "            S += f' {matrice[i][j]} &'\n",
    "        S +=\" \\\\\\\\\"\n",
    "    S +='\\\\end{pmatrix}$$'\n",
    "    return Latex(S)"
   ]
  },
  {
   "cell_type": "code",
   "execution_count": 19,
   "metadata": {},
   "outputs": [
    {
     "data": {
      "text/latex": [
       "$$\\begin{pmatrix}& 0 & 0 & 0 & 0 & 0 & \\\\& 0 & 9 & 0 & 9 & 0 & \\\\& 0 & 0 & 0 & 0 & 0 & \\\\& 9 & 0 & 0 & 0 & 9 & \\\\& 0 & 9 & 9 & 9 & 0 & \\\\\\end{pmatrix}$$"
      ],
      "text/plain": [
       "<IPython.core.display.Latex object>"
      ]
     },
     "execution_count": 19,
     "metadata": {},
     "output_type": "execute_result"
    }
   ],
   "source": [
    "affiche_latex(joyeux)"
   ]
  },
  {
   "cell_type": "code",
   "execution_count": 11,
   "metadata": {},
   "outputs": [
    {
     "data": {
      "text/latex": [
       "$$\\begin{pmatrix}& 0 & 0 & 0 & 0 & 0 & \\\\& 0 & 9 & 0 & 9 & 0 & \\\\& 0 & 0 & 0 & 0 & 0 & \\\\& 0 & 9 & 9 & 9 & 0 & \\\\& 9 & 0 & 0 & 0 & 9 & \\\\\\end{pmatrix}$$"
      ],
      "text/plain": [
       "<IPython.core.display.Latex object>"
      ]
     },
     "execution_count": 11,
     "metadata": {},
     "output_type": "execute_result"
    }
   ],
   "source": [
    "affiche_latex(triste)"
   ]
  },
  {
   "cell_type": "markdown",
   "metadata": {},
   "source": [
    "Que fait la fonction `affiche_latex()`? Rédiger une docstring pour cette fonction..."
   ]
  },
  {
   "cell_type": "code",
   "execution_count": 17,
   "metadata": {},
   "outputs": [
    {
     "name": "stdout",
     "output_type": "stream",
     "text": [
      "Help on function affiche_latex in module __main__:\n",
      "\n",
      "affiche_latex(matrice)\n",
      "     ################################################\n",
      "     #                                              #\n",
      "     #   Documentation de la fonction ...........   #\n",
      "     #                                              #\n",
      "     ################################################\n",
      "     \n",
      "    Description : - La fonction transforme la suite de tableaux en un dessin de maths \n",
      "    \n",
      "    Exemple : >>> [[0, 0, 0, 0, 0], [0, 9, 0, 9, 0], [0, 0, 0, 0, 0], [9, 0, 0, 0, 9], [0, 9, 9, 9, 0]]\n",
      "              >>> Affiche en Latex : [[0, 0, 0, 0, 0],\n",
      "                                      [0, 9, 0, 9, 0],\n",
      "                                      [0, 0, 0, 0, 0],\n",
      "                                      [9, 0, 0, 0, 9],\n",
      "                                      [0, 9, 9, 9, 0]]\n",
      "                                      \n",
      "    Préconditions : - Une matrice de type list                                  \n",
      "     \n",
      "    Postconditions : - Une matrice de type IPython.core.display.Latex\n",
      "\n"
     ]
    }
   ],
   "source": [
    "help(affiche_latex)"
   ]
  },
  {
   "cell_type": "markdown",
   "metadata": {},
   "source": [
    "### Affichage sur l'écran d'un BBC micro:bit :\n",
    "\n",
    ">La fonction: `display.set_pixel(x,y,n)` permet d’allumer la LED de la colonne `x` (nombre entier entre 0 et 4) et de la ligne `y` (nombre entier entre 0 et 4) avec un niveau d'intensité lumineuse `n` (nombre entier entre 0 et 9).\n",
    ">\n",
    ">Exemple: `display.set_pixel(1,2,7)` allume la LED située à la colonne 1 de la ligne 2 au niveau d'intensité lumineuse 7.\n",
    ">\n",
    ">[Guide pour matrice à LED](https://microbit.org/guide/hardware/leds/)"
   ]
  },
  {
   "cell_type": "markdown",
   "metadata": {},
   "source": [
    "<h3 class='fa fa-code' style=\"color: darkorange\"> A coder vous même :</h3>\n",
    "\n",
    "Dans le programme suivant, définir une fonction `affiche_microbit(matrice)` qui :\n",
    "   - prend en paramètre une matrice (5x5) dont les éléments sont des nombres entiers compris entre 0 et 9 ;\n",
    "   - parcourt cette matrice par ligne et par colonne avec deux boucles `for` imbriquées ;\n",
    "   - lit la valeur de chaque élément et l'affecte au pixel (LED) correspondant sur l'écran du BBC micro:bit. \n",
    "\n",
    "Tester votre programme sur simulateur et sur BBC micro:bit pour les matrices `joyeux` et `triste`."
   ]
  },
  {
   "cell_type": "code",
   "execution_count": 14,
   "metadata": {},
   "outputs": [
    {
     "ename": "ModuleNotFoundError",
     "evalue": "No module named 'microbit'",
     "output_type": "error",
     "traceback": [
      "\u001b[0;31m---------------------------------------------------------------------------\u001b[0m",
      "\u001b[0;31mModuleNotFoundError\u001b[0m                       Traceback (most recent call last)",
      "\u001b[0;32m<ipython-input-14-cf93a80f8ab3>\u001b[0m in \u001b[0;36m<module>\u001b[0;34m\u001b[0m\n\u001b[0;32m----> 1\u001b[0;31m \u001b[0;32mfrom\u001b[0m \u001b[0mmicrobit\u001b[0m \u001b[0;32mimport\u001b[0m \u001b[0;34m*\u001b[0m\u001b[0;34m\u001b[0m\u001b[0;34m\u001b[0m\u001b[0m\n\u001b[0m\u001b[1;32m      2\u001b[0m \u001b[0;34m\u001b[0m\u001b[0m\n\u001b[1;32m      3\u001b[0m joyeux = [[0, 0, 0, 0, 0],\n\u001b[1;32m      4\u001b[0m           \u001b[0;34m[\u001b[0m\u001b[0;36m0\u001b[0m\u001b[0;34m,\u001b[0m \u001b[0;36m9\u001b[0m\u001b[0;34m,\u001b[0m \u001b[0;36m0\u001b[0m\u001b[0;34m,\u001b[0m \u001b[0;36m9\u001b[0m\u001b[0;34m,\u001b[0m \u001b[0;36m0\u001b[0m\u001b[0;34m]\u001b[0m\u001b[0;34m,\u001b[0m\u001b[0;34m\u001b[0m\u001b[0;34m\u001b[0m\u001b[0m\n\u001b[1;32m      5\u001b[0m           \u001b[0;34m[\u001b[0m\u001b[0;36m0\u001b[0m\u001b[0;34m,\u001b[0m \u001b[0;36m0\u001b[0m\u001b[0;34m,\u001b[0m \u001b[0;36m0\u001b[0m\u001b[0;34m,\u001b[0m \u001b[0;36m0\u001b[0m\u001b[0;34m,\u001b[0m \u001b[0;36m0\u001b[0m\u001b[0;34m]\u001b[0m\u001b[0;34m,\u001b[0m\u001b[0;34m\u001b[0m\u001b[0;34m\u001b[0m\u001b[0m\n",
      "\u001b[0;31mModuleNotFoundError\u001b[0m: No module named 'microbit'"
     ]
    }
   ],
   "source": [
    "from microbit import *\n",
    "\n",
    "joyeux = [[0, 0, 0, 0, 0],\n",
    "          [0, 9, 0, 9, 0],\n",
    "          [0, 0, 0, 0, 0],\n",
    "          [9, 0, 0, 0, 9],\n",
    "          [0, 9, 9, 9, 0]]\n",
    "\n",
    "def affiche_microbit(matrice) :\n",
    "    '''\n",
    "    ################################################\n",
    "    #                                              #\n",
    "    #   Documentation de la fonction ...........   #\n",
    "    #                                              #\n",
    "    ################################################\n",
    "    \n",
    "    '''\n",
    "    for i in range(len(matrice)):\n",
    "        for j in range(matrice[i]):\n",
    "            display.set_pixel(i,j,matrice[i][j])\n",
    "            \n",
    "\n",
    "affiche_microbit(joyeux)"
   ]
  },
  {
   "cell_type": "code",
   "execution_count": null,
   "metadata": {},
   "outputs": [],
   "source": [
    "from microbit import *\n",
    "\n",
    "joyeux = [[0, 0, 0, 0, 0],\n",
    "          [0, 9, 0, 9, 0],\n",
    "          [0, 0, 0, 0, 0],\n",
    "          [9, 0, 0, 0, 9],\n",
    "          [0, 9, 9, 9, 0]]\n",
    "\n",
    "def affiche_microbit(matrice) :\n",
    "    for i in range(len(matrice)):\n",
    "        for j in range(matrice[i]):\n",
    "            if matrice[i][j] == 9 :\n",
    "                display.set_pixel(i , j , 9)\n",
    "\n",
    "affiche_microbit(joyeux)"
   ]
  },
  {
   "cell_type": "code",
   "execution_count": null,
   "metadata": {},
   "outputs": [],
   "source": [
    "from microbit import *\n",
    "\n",
    "joyeux = [[0, 0, 0, 0, 0],\n",
    "          [0, 9, 0, 9, 0],\n",
    "          [0, 0, 0, 0, 0],\n",
    "          [9, 0, 0, 0, 9],\n",
    "          [0, 9, 9, 9, 0]]\n",
    "\n",
    "def affiche_microbit(matrice) :\n",
    "    '''\n",
    "    ################################################\n",
    "    #                                              #\n",
    "    #   Documentation de la fonction ...........   #\n",
    "    #                                              #\n",
    "    ################################################\n",
    "    \n",
    "    Description : - La fonction renvoie la matrice de 5*5 sur la carte BBC\n",
    "    \n",
    "    Exemple :  >>> affiche_microbit(joyeux)\n",
    "                   joyeux = [[0, 0, 0, 0, 0],\n",
    "                             [0, 9, 0, 9, 0],\n",
    "                             [0, 0, 0, 0, 0],\n",
    "                             [9, 0, 0, 0, 9],\n",
    "                             [0, 9, 9, 9, 0]]\n",
    "               >>> La matrice joyeux sur les leds de la carte BBC\n",
    "               \n",
    "    Préconditions : - Une matrice de type list\n",
    "    \n",
    "    Postconditions : - La matrice sur les leds de la carte BBC\n",
    "    '''\n",
    "    \n",
    "    for j in range(len(matrice)):\n",
    "        for i in range(len(matrice[j])):\n",
    "            display.set_pixel(i,j,matrice[j][i])\n",
    "    \n",
    "\n",
    "\n",
    "affiche_microbit(joyeux)"
   ]
  },
  {
   "cell_type": "code",
   "execution_count": null,
   "metadata": {},
   "outputs": [],
   "source": [
    "def affiche_joyeux_triste :\n",
    "    if button_a.is_pressed :\n",
    "        affiche_microbit(joyeux)\n",
    "    if button_b.is_pressed :\n",
    "        affiche_microbit(triste)"
   ]
  },
  {
   "cell_type": "code",
   "execution_count": null,
   "metadata": {},
   "outputs": [],
   "source": [
    "if button_a.is_pressed :\n",
    "    smiley = [[0, 0, 0, 0, 0],\n",
    "             [0, 9, 0, 9, 0],\n",
    "             [0, 0, 0, 0, 0],\n",
    "             [9, 0, 0, 0, 9],\n",
    "             [0, 9, 9, 9, 0]]\n",
    "if button_b.is_pressed :\n",
    "    smiley = [[0, 0, 0, 0, 0],\n",
    "             [0, 9, 0, 9, 0],\n",
    "             [0, 0, 0, 0, 0],\n",
    "             [0, 9, 9, 9, 0],\n",
    "             [9, 0, 0, 0, 9]]\n",
    "    \n",
    "affiche_microbit(smiley)"
   ]
  },
  {
   "cell_type": "markdown",
   "metadata": {},
   "source": [
    "<h3 class='fa fa-rocket' style=\"color: tomato\"> Prolongement :</h3>\n",
    "\n",
    "1. Modifier le programme pour afficher alternativement les images `joyeux` puis `triste` ;\n",
    "\n",
    "2. Redéfinir une fonction `affiche_microbit(matrice)` utilisant la classe `Image` et la fonction `display.show()` :"
   ]
  },
  {
   "cell_type": "code",
   "execution_count": 18,
   "metadata": {},
   "outputs": [
    {
     "ename": "NameError",
     "evalue": "name 'Image' is not defined",
     "output_type": "error",
     "traceback": [
      "\u001b[0;31m---------------------------------------------------------------------------\u001b[0m",
      "\u001b[0;31mNameError\u001b[0m                                 Traceback (most recent call last)",
      "\u001b[0;32m<ipython-input-18-603f645ad225>\u001b[0m in \u001b[0;36m<module>\u001b[0;34m\u001b[0m\n\u001b[0;32m----> 1\u001b[0;31m \u001b[0mmonImage\u001b[0m \u001b[0;34m=\u001b[0m \u001b[0mImage\u001b[0m\u001b[0;34m(\u001b[0m\u001b[0;34m'33333:36663:36963:36663:33333:'\u001b[0m\u001b[0;34m)\u001b[0m\u001b[0;34m\u001b[0m\u001b[0;34m\u001b[0m\u001b[0m\n\u001b[0m\u001b[1;32m      2\u001b[0m \u001b[0mdisplay\u001b[0m\u001b[0;34m.\u001b[0m\u001b[0mshow\u001b[0m\u001b[0;34m(\u001b[0m\u001b[0mmonImage\u001b[0m\u001b[0;34m)\u001b[0m\u001b[0;34m\u001b[0m\u001b[0;34m\u001b[0m\u001b[0m\n",
      "\u001b[0;31mNameError\u001b[0m: name 'Image' is not defined"
     ]
    }
   ],
   "source": [
    "monImage = Image('33333:36663:36963:36663:33333:')\n",
    "display.show(monImage)"
   ]
  },
  {
   "cell_type": "markdown",
   "metadata": {},
   "source": [
    "### Affichage sur une grille IPythonBlocks dans ce notebook jupyter :\n",
    "\n",
    "Instructions de base pour l'utilisation du module [IPythonBlocks](http://www.ipythonblocks.org/) :"
   ]
  },
  {
   "cell_type": "code",
   "execution_count": 1,
   "metadata": {},
   "outputs": [
    {
     "data": {
      "text/html": [
       "<style type=\"text/css\">table.blockgrid {border: none;} .blockgrid tr {border: none;} .blockgrid td {padding: 0px;} #blockse7b04548-b588-468e-bf65-8244000704dd td {border: 1px solid white;}</style><table id=\"blockse7b04548-b588-468e-bf65-8244000704dd\" class=\"blockgrid\"><tbody><tr><td title=\"Index: [0, 0]&#10;Color: (0, 0, 0)\" style=\"width: 30px; height: 30px;background-color: rgb(0, 0, 0);\"></td><td title=\"Index: [0, 1]&#10;Color: (0, 0, 0)\" style=\"width: 30px; height: 30px;background-color: rgb(0, 0, 0);\"></td><td title=\"Index: [0, 2]&#10;Color: (0, 0, 0)\" style=\"width: 30px; height: 30px;background-color: rgb(0, 0, 0);\"></td><td title=\"Index: [0, 3]&#10;Color: (0, 0, 0)\" style=\"width: 30px; height: 30px;background-color: rgb(0, 0, 0);\"></td><td title=\"Index: [0, 4]&#10;Color: (0, 0, 0)\" style=\"width: 30px; height: 30px;background-color: rgb(0, 0, 0);\"></td><td title=\"Index: [0, 5]&#10;Color: (0, 0, 0)\" style=\"width: 30px; height: 30px;background-color: rgb(0, 0, 0);\"></td><td title=\"Index: [0, 6]&#10;Color: (0, 0, 0)\" style=\"width: 30px; height: 30px;background-color: rgb(0, 0, 0);\"></td><td title=\"Index: [0, 7]&#10;Color: (0, 0, 0)\" style=\"width: 30px; height: 30px;background-color: rgb(0, 0, 0);\"></td></tr><tr><td title=\"Index: [1, 0]&#10;Color: (0, 0, 0)\" style=\"width: 30px; height: 30px;background-color: rgb(0, 0, 0);\"></td><td title=\"Index: [1, 1]&#10;Color: (0, 0, 0)\" style=\"width: 30px; height: 30px;background-color: rgb(0, 0, 0);\"></td><td title=\"Index: [1, 2]&#10;Color: (0, 0, 0)\" style=\"width: 30px; height: 30px;background-color: rgb(0, 0, 0);\"></td><td title=\"Index: [1, 3]&#10;Color: (0, 0, 0)\" style=\"width: 30px; height: 30px;background-color: rgb(0, 0, 0);\"></td><td title=\"Index: [1, 4]&#10;Color: (0, 0, 0)\" style=\"width: 30px; height: 30px;background-color: rgb(0, 0, 0);\"></td><td title=\"Index: [1, 5]&#10;Color: (0, 0, 0)\" style=\"width: 30px; height: 30px;background-color: rgb(0, 0, 0);\"></td><td title=\"Index: [1, 6]&#10;Color: (0, 0, 0)\" style=\"width: 30px; height: 30px;background-color: rgb(0, 0, 0);\"></td><td title=\"Index: [1, 7]&#10;Color: (0, 0, 0)\" style=\"width: 30px; height: 30px;background-color: rgb(0, 0, 0);\"></td></tr><tr><td title=\"Index: [2, 0]&#10;Color: (0, 0, 0)\" style=\"width: 30px; height: 30px;background-color: rgb(0, 0, 0);\"></td><td title=\"Index: [2, 1]&#10;Color: (0, 0, 0)\" style=\"width: 30px; height: 30px;background-color: rgb(0, 0, 0);\"></td><td title=\"Index: [2, 2]&#10;Color: (0, 0, 0)\" style=\"width: 30px; height: 30px;background-color: rgb(0, 0, 0);\"></td><td title=\"Index: [2, 3]&#10;Color: (255, 0, 0)\" style=\"width: 30px; height: 30px;background-color: rgb(255, 0, 0);\"></td><td title=\"Index: [2, 4]&#10;Color: (0, 0, 0)\" style=\"width: 30px; height: 30px;background-color: rgb(0, 0, 0);\"></td><td title=\"Index: [2, 5]&#10;Color: (0, 0, 0)\" style=\"width: 30px; height: 30px;background-color: rgb(0, 0, 0);\"></td><td title=\"Index: [2, 6]&#10;Color: (0, 0, 0)\" style=\"width: 30px; height: 30px;background-color: rgb(0, 0, 0);\"></td><td title=\"Index: [2, 7]&#10;Color: (0, 0, 0)\" style=\"width: 30px; height: 30px;background-color: rgb(0, 0, 0);\"></td></tr><tr><td title=\"Index: [3, 0]&#10;Color: (0, 0, 0)\" style=\"width: 30px; height: 30px;background-color: rgb(0, 0, 0);\"></td><td title=\"Index: [3, 1]&#10;Color: (0, 0, 0)\" style=\"width: 30px; height: 30px;background-color: rgb(0, 0, 0);\"></td><td title=\"Index: [3, 2]&#10;Color: (0, 0, 0)\" style=\"width: 30px; height: 30px;background-color: rgb(0, 0, 0);\"></td><td title=\"Index: [3, 3]&#10;Color: (0, 0, 0)\" style=\"width: 30px; height: 30px;background-color: rgb(0, 0, 0);\"></td><td title=\"Index: [3, 4]&#10;Color: (0, 0, 0)\" style=\"width: 30px; height: 30px;background-color: rgb(0, 0, 0);\"></td><td title=\"Index: [3, 5]&#10;Color: (0, 0, 0)\" style=\"width: 30px; height: 30px;background-color: rgb(0, 0, 0);\"></td><td title=\"Index: [3, 6]&#10;Color: (0, 0, 0)\" style=\"width: 30px; height: 30px;background-color: rgb(0, 0, 0);\"></td><td title=\"Index: [3, 7]&#10;Color: (0, 0, 0)\" style=\"width: 30px; height: 30px;background-color: rgb(0, 0, 0);\"></td></tr><tr><td title=\"Index: [4, 0]&#10;Color: (0, 0, 0)\" style=\"width: 30px; height: 30px;background-color: rgb(0, 0, 0);\"></td><td title=\"Index: [4, 1]&#10;Color: (0, 0, 0)\" style=\"width: 30px; height: 30px;background-color: rgb(0, 0, 0);\"></td><td title=\"Index: [4, 2]&#10;Color: (0, 0, 0)\" style=\"width: 30px; height: 30px;background-color: rgb(0, 0, 0);\"></td><td title=\"Index: [4, 3]&#10;Color: (0, 0, 0)\" style=\"width: 30px; height: 30px;background-color: rgb(0, 0, 0);\"></td><td title=\"Index: [4, 4]&#10;Color: (0, 0, 0)\" style=\"width: 30px; height: 30px;background-color: rgb(0, 0, 0);\"></td><td title=\"Index: [4, 5]&#10;Color: (0, 0, 0)\" style=\"width: 30px; height: 30px;background-color: rgb(0, 0, 0);\"></td><td title=\"Index: [4, 6]&#10;Color: (0, 0, 0)\" style=\"width: 30px; height: 30px;background-color: rgb(0, 0, 0);\"></td><td title=\"Index: [4, 7]&#10;Color: (0, 0, 0)\" style=\"width: 30px; height: 30px;background-color: rgb(0, 0, 0);\"></td></tr></tbody></table>"
      ],
      "text/plain": [
       "<ipythonblocks.ipythonblocks.BlockGrid at 0x7f2cb95328d0>"
      ]
     },
     "execution_count": 1,
     "metadata": {},
     "output_type": "execute_result"
    }
   ],
   "source": [
    "# On importe la fonction BlockGrid() du module ipythonblocks\n",
    "from ipythonblocks import BlockGrid\n",
    "# On crée un objet maGrille, une instance de BlockGrid\n",
    "maGrille = BlockGrid(8,5, fill=(0, 0, 0), block_size=30)\n",
    "# On accède à chaque case de la grille par ces index [i,j] pour modifier sa couleur (rouge, vert, bleu)\n",
    "maGrille[2,3]=(255, 0, 0)\n",
    "# On affiche notre grille\n",
    "maGrille"
   ]
  },
  {
   "cell_type": "markdown",
   "metadata": {},
   "source": [
    "<h3 class='fa fa-code' style=\"color: darkorange\"> A coder vous même :</h3>\n",
    "\n",
    "Dans le programme suivant, définir une fonction `affiche_ipythonblocks(matrice)` qui :\n",
    "   - prend en paramètre une matrice (5x5) dont les éléments sont des nombres entiers compris entre 0 et 9 ;\n",
    "   - parcourt cette matrice par ligne et par colonne avec deux boucles `for` imbriquées ;\n",
    "   - lit la valeur de chaque élément et l'adapte à la couleur de la case correspondante dans une grille ipythonblocks (5x5). \n",
    "\n",
    "Tester votre programme dans ce notebook pour les matrices `joyeux` et `triste`."
   ]
  },
  {
   "cell_type": "code",
   "execution_count": 17,
   "metadata": {},
   "outputs": [],
   "source": [
    "from ipythonblocks import BlockGrid\n",
    "from random import randint\n",
    "\n",
    "def affiche_ipythonblocks_couleur(matrice) :\n",
    "    '''\n",
    "    ################################################\n",
    "    #                                              #\n",
    "    #   Documentation de la fonction ...........   #\n",
    "    #                                              #\n",
    "    ################################################\n",
    "    \n",
    "    Description : - La fonction transforme une matrice en un dessin ipythonblocks avec des couleurs aléatoires sur fond blanc\n",
    "    \n",
    "    Exemples : >>> affiche_ipythonblocks(joyeux)\n",
    "               >>> Un visage joyeux fait de carrés de couleur aléatoire\n",
    "               \n",
    "    Préconditions : - Une matrice de type list\n",
    "                    - from ipythonblocks import BlockGrid\n",
    "                    - from random import randint\n",
    " \n",
    "    \n",
    "    Postconditions : un dessin de type ipythonblocks.ipythonblocks.BlockGrid\n",
    "    \n",
    "    '''\n",
    "    maGrille = BlockGrid(5,5, fill=(255, 255, 255), block_size=30)\n",
    "    for i in range(len(matrice)):\n",
    "        for j in range (len(matrice[i])):\n",
    "            if matrice[i][j] != 0 :\n",
    "                maGrille[i,j] = (randint(0,255),randint(0,255),randint(0,255))\n",
    "             \n",
    "    return maGrille"
   ]
  },
  {
   "cell_type": "code",
   "execution_count": 54,
   "metadata": {},
   "outputs": [
    {
     "data": {
      "text/html": [
       "<style type=\"text/css\">table.blockgrid {border: none;} .blockgrid tr {border: none;} .blockgrid td {padding: 0px;} #blocks5ebf1e92-33d6-42ab-9f6a-40f3a150546d td {border: 1px solid white;}</style><table id=\"blocks5ebf1e92-33d6-42ab-9f6a-40f3a150546d\" class=\"blockgrid\"><tbody><tr><td title=\"Index: [0, 0]&#10;Color: (255, 255, 255)\" style=\"width: 30px; height: 30px;background-color: rgb(255, 255, 255);\"></td><td title=\"Index: [0, 1]&#10;Color: (255, 255, 255)\" style=\"width: 30px; height: 30px;background-color: rgb(255, 255, 255);\"></td><td title=\"Index: [0, 2]&#10;Color: (255, 255, 255)\" style=\"width: 30px; height: 30px;background-color: rgb(255, 255, 255);\"></td><td title=\"Index: [0, 3]&#10;Color: (255, 255, 255)\" style=\"width: 30px; height: 30px;background-color: rgb(255, 255, 255);\"></td><td title=\"Index: [0, 4]&#10;Color: (255, 255, 255)\" style=\"width: 30px; height: 30px;background-color: rgb(255, 255, 255);\"></td></tr><tr><td title=\"Index: [1, 0]&#10;Color: (255, 255, 255)\" style=\"width: 30px; height: 30px;background-color: rgb(255, 255, 255);\"></td><td title=\"Index: [1, 1]&#10;Color: (120, 73, 73)\" style=\"width: 30px; height: 30px;background-color: rgb(120, 73, 73);\"></td><td title=\"Index: [1, 2]&#10;Color: (255, 255, 255)\" style=\"width: 30px; height: 30px;background-color: rgb(255, 255, 255);\"></td><td title=\"Index: [1, 3]&#10;Color: (33, 164, 64)\" style=\"width: 30px; height: 30px;background-color: rgb(33, 164, 64);\"></td><td title=\"Index: [1, 4]&#10;Color: (255, 255, 255)\" style=\"width: 30px; height: 30px;background-color: rgb(255, 255, 255);\"></td></tr><tr><td title=\"Index: [2, 0]&#10;Color: (255, 255, 255)\" style=\"width: 30px; height: 30px;background-color: rgb(255, 255, 255);\"></td><td title=\"Index: [2, 1]&#10;Color: (255, 255, 255)\" style=\"width: 30px; height: 30px;background-color: rgb(255, 255, 255);\"></td><td title=\"Index: [2, 2]&#10;Color: (255, 255, 255)\" style=\"width: 30px; height: 30px;background-color: rgb(255, 255, 255);\"></td><td title=\"Index: [2, 3]&#10;Color: (255, 255, 255)\" style=\"width: 30px; height: 30px;background-color: rgb(255, 255, 255);\"></td><td title=\"Index: [2, 4]&#10;Color: (255, 255, 255)\" style=\"width: 30px; height: 30px;background-color: rgb(255, 255, 255);\"></td></tr><tr><td title=\"Index: [3, 0]&#10;Color: (132, 176, 40)\" style=\"width: 30px; height: 30px;background-color: rgb(132, 176, 40);\"></td><td title=\"Index: [3, 1]&#10;Color: (255, 255, 255)\" style=\"width: 30px; height: 30px;background-color: rgb(255, 255, 255);\"></td><td title=\"Index: [3, 2]&#10;Color: (255, 255, 255)\" style=\"width: 30px; height: 30px;background-color: rgb(255, 255, 255);\"></td><td title=\"Index: [3, 3]&#10;Color: (255, 255, 255)\" style=\"width: 30px; height: 30px;background-color: rgb(255, 255, 255);\"></td><td title=\"Index: [3, 4]&#10;Color: (90, 31, 22)\" style=\"width: 30px; height: 30px;background-color: rgb(90, 31, 22);\"></td></tr><tr><td title=\"Index: [4, 0]&#10;Color: (255, 255, 255)\" style=\"width: 30px; height: 30px;background-color: rgb(255, 255, 255);\"></td><td title=\"Index: [4, 1]&#10;Color: (228, 161, 106)\" style=\"width: 30px; height: 30px;background-color: rgb(228, 161, 106);\"></td><td title=\"Index: [4, 2]&#10;Color: (212, 58, 167)\" style=\"width: 30px; height: 30px;background-color: rgb(212, 58, 167);\"></td><td title=\"Index: [4, 3]&#10;Color: (188, 173, 116)\" style=\"width: 30px; height: 30px;background-color: rgb(188, 173, 116);\"></td><td title=\"Index: [4, 4]&#10;Color: (255, 255, 255)\" style=\"width: 30px; height: 30px;background-color: rgb(255, 255, 255);\"></td></tr></tbody></table>"
      ],
      "text/plain": [
       "<ipythonblocks.ipythonblocks.BlockGrid at 0x7fe09dfa5750>"
      ]
     },
     "execution_count": 54,
     "metadata": {},
     "output_type": "execute_result"
    }
   ],
   "source": [
    "affiche_ipythonblocks_couleur(joyeux)"
   ]
  },
  {
   "cell_type": "code",
   "execution_count": 55,
   "metadata": {},
   "outputs": [
    {
     "data": {
      "text/html": [
       "<style type=\"text/css\">table.blockgrid {border: none;} .blockgrid tr {border: none;} .blockgrid td {padding: 0px;} #blocksce9523e0-dc00-41e4-b1f8-6006dbd49c82 td {border: 1px solid white;}</style><table id=\"blocksce9523e0-dc00-41e4-b1f8-6006dbd49c82\" class=\"blockgrid\"><tbody><tr><td title=\"Index: [0, 0]&#10;Color: (255, 255, 255)\" style=\"width: 30px; height: 30px;background-color: rgb(255, 255, 255);\"></td><td title=\"Index: [0, 1]&#10;Color: (255, 255, 255)\" style=\"width: 30px; height: 30px;background-color: rgb(255, 255, 255);\"></td><td title=\"Index: [0, 2]&#10;Color: (255, 255, 255)\" style=\"width: 30px; height: 30px;background-color: rgb(255, 255, 255);\"></td><td title=\"Index: [0, 3]&#10;Color: (255, 255, 255)\" style=\"width: 30px; height: 30px;background-color: rgb(255, 255, 255);\"></td><td title=\"Index: [0, 4]&#10;Color: (255, 255, 255)\" style=\"width: 30px; height: 30px;background-color: rgb(255, 255, 255);\"></td></tr><tr><td title=\"Index: [1, 0]&#10;Color: (255, 255, 255)\" style=\"width: 30px; height: 30px;background-color: rgb(255, 255, 255);\"></td><td title=\"Index: [1, 1]&#10;Color: (71, 252, 195)\" style=\"width: 30px; height: 30px;background-color: rgb(71, 252, 195);\"></td><td title=\"Index: [1, 2]&#10;Color: (255, 255, 255)\" style=\"width: 30px; height: 30px;background-color: rgb(255, 255, 255);\"></td><td title=\"Index: [1, 3]&#10;Color: (189, 93, 96)\" style=\"width: 30px; height: 30px;background-color: rgb(189, 93, 96);\"></td><td title=\"Index: [1, 4]&#10;Color: (255, 255, 255)\" style=\"width: 30px; height: 30px;background-color: rgb(255, 255, 255);\"></td></tr><tr><td title=\"Index: [2, 0]&#10;Color: (255, 255, 255)\" style=\"width: 30px; height: 30px;background-color: rgb(255, 255, 255);\"></td><td title=\"Index: [2, 1]&#10;Color: (255, 255, 255)\" style=\"width: 30px; height: 30px;background-color: rgb(255, 255, 255);\"></td><td title=\"Index: [2, 2]&#10;Color: (255, 255, 255)\" style=\"width: 30px; height: 30px;background-color: rgb(255, 255, 255);\"></td><td title=\"Index: [2, 3]&#10;Color: (255, 255, 255)\" style=\"width: 30px; height: 30px;background-color: rgb(255, 255, 255);\"></td><td title=\"Index: [2, 4]&#10;Color: (255, 255, 255)\" style=\"width: 30px; height: 30px;background-color: rgb(255, 255, 255);\"></td></tr><tr><td title=\"Index: [3, 0]&#10;Color: (255, 255, 255)\" style=\"width: 30px; height: 30px;background-color: rgb(255, 255, 255);\"></td><td title=\"Index: [3, 1]&#10;Color: (183, 232, 68)\" style=\"width: 30px; height: 30px;background-color: rgb(183, 232, 68);\"></td><td title=\"Index: [3, 2]&#10;Color: (7, 170, 42)\" style=\"width: 30px; height: 30px;background-color: rgb(7, 170, 42);\"></td><td title=\"Index: [3, 3]&#10;Color: (105, 171, 12)\" style=\"width: 30px; height: 30px;background-color: rgb(105, 171, 12);\"></td><td title=\"Index: [3, 4]&#10;Color: (255, 255, 255)\" style=\"width: 30px; height: 30px;background-color: rgb(255, 255, 255);\"></td></tr><tr><td title=\"Index: [4, 0]&#10;Color: (225, 244, 200)\" style=\"width: 30px; height: 30px;background-color: rgb(225, 244, 200);\"></td><td title=\"Index: [4, 1]&#10;Color: (255, 255, 255)\" style=\"width: 30px; height: 30px;background-color: rgb(255, 255, 255);\"></td><td title=\"Index: [4, 2]&#10;Color: (255, 255, 255)\" style=\"width: 30px; height: 30px;background-color: rgb(255, 255, 255);\"></td><td title=\"Index: [4, 3]&#10;Color: (255, 255, 255)\" style=\"width: 30px; height: 30px;background-color: rgb(255, 255, 255);\"></td><td title=\"Index: [4, 4]&#10;Color: (223, 28, 2)\" style=\"width: 30px; height: 30px;background-color: rgb(223, 28, 2);\"></td></tr></tbody></table>"
      ],
      "text/plain": [
       "<ipythonblocks.ipythonblocks.BlockGrid at 0x7fe09df82790>"
      ]
     },
     "execution_count": 55,
     "metadata": {},
     "output_type": "execute_result"
    }
   ],
   "source": [
    "affiche_ipythonblocks_couleur(triste)"
   ]
  },
  {
   "cell_type": "code",
   "execution_count": null,
   "metadata": {},
   "outputs": [],
   "source": []
  },
  {
   "cell_type": "code",
   "execution_count": 39,
   "metadata": {},
   "outputs": [],
   "source": [
    "from ipythonblocks import BlockGrid\n",
    "from random import randint\n",
    "\n",
    "def affiche_ipythonblocks(matrice) :\n",
    "    '''\n",
    "    ################################################\n",
    "    #                                              #\n",
    "    #   Documentation de la fonction ...........   #\n",
    "    #                                              #\n",
    "    ################################################\n",
    "    \n",
    "    Description : - La fonction transforme une matrice en un dessin ipythonblocks avec des couleurs aléatoires sur fond blanc\n",
    "    \n",
    "    Exemples : >>> affiche_ipythonblocks(joyeux)\n",
    "               >>> Un visage joyeux fait de carrés de couleur aléatoire\n",
    "               \n",
    "    Préconditions : - Une matrice de type list\n",
    "                    - from ipythonblocks import BlockGrid\n",
    "                    - from random import randint\n",
    " \n",
    "    \n",
    "    Postconditions : un dessin de type ipythonblocks.ipythonblocks.BlockGrid\n",
    "    \n",
    "    '''\n",
    "    maGrille = BlockGrid(5,5, fill=(255, 255, 255), block_size=30)\n",
    "    for i in range(len(matrice)):\n",
    "        for j in range (len(matrice[i])):\n",
    "            if matrice[i][j] == 0 :\n",
    "                maGrille[i,j] = (0,0,0)\n",
    "                \n",
    "            if matrice[i][j] == 1 :\n",
    "                maGrille[i,j] = (25,0,0)\n",
    "                \n",
    "            elif  matrice[i][j] == 2 :\n",
    "                maGrille[i,j] = (50,0,0)\n",
    "                \n",
    "            elif matrice[i][j] == 3 :\n",
    "                maGrille[i,j] = (100,0,0)\n",
    "                \n",
    "            elif matrice[i][j] == 4 :\n",
    "                maGrille[i,j] = (125,0,0)\n",
    "                \n",
    "            elif matrice[i][j] == 5 :\n",
    "                maGrille[i,j] = (150,0,0)\n",
    "                \n",
    "            elif matrice[i][j] == 6 :\n",
    "                maGrille[i,j] = (175,0,0)\n",
    "                \n",
    "            elif matrice[i][j] == 7 :\n",
    "                maGrille[i,j] = (200,0,0)\n",
    "                \n",
    "            elif matrice[i][j] == 8 :\n",
    "                maGrille[i,j] = (225,0,0)\n",
    "                \n",
    "            elif matrice[i][j] == 9 :\n",
    "                maGrille[i,j] = (250,0,0)\n",
    "             \n",
    "    return maGrille "
   ]
  },
  {
   "cell_type": "code",
   "execution_count": null,
   "metadata": {},
   "outputs": [],
   "source": [
    "(255*[i][j])/9"
   ]
  },
  {
   "cell_type": "code",
   "execution_count": null,
   "metadata": {},
   "outputs": [],
   "source": []
  },
  {
   "cell_type": "code",
   "execution_count": 4,
   "metadata": {},
   "outputs": [],
   "source": [
    "from ipythonblocks import BlockGrid\n",
    "from random import randint\n",
    "\n",
    "def affiche_ipythonblocks(matrice) :\n",
    "    '''\n",
    "    ################################################\n",
    "    #                                              #\n",
    "    #   Documentation de la fonction ...........   #\n",
    "    #                                              #\n",
    "    ################################################\n",
    "    \n",
    "    Description : - La fonction transforme une matrice en un dessin ipythonblocks avec des couleurs aléatoires sur fond blanc\n",
    "    \n",
    "    Exemples : >>> affiche_ipythonblocks(joyeux)\n",
    "               >>> Un visage joyeux fait de carrés de couleur aléatoire\n",
    "               \n",
    "    Préconditions : - Une matrice de type list\n",
    "                    - from ipythonblocks import BlockGrid\n",
    "                    - from random import randint\n",
    " \n",
    "    \n",
    "    Postconditions : un dessin de type ipythonblocks.ipythonblocks.BlockGrid\n",
    "    \n",
    "    '''\n",
    "    maGrille = BlockGrid(5,5, fill=(0,0,0), block_size=30)\n",
    "    for i in range(len(matrice)):\n",
    "        for j in range (len(matrice[i])):\n",
    "            maGrille[i,j] = (255*matrice[i][j]/9, 255*matrice[i][j]/9, 255*matrice[i][j]/9)\n",
    "             \n",
    "    return maGrille"
   ]
  },
  {
   "cell_type": "code",
   "execution_count": 5,
   "metadata": {},
   "outputs": [
    {
     "data": {
      "text/html": [
       "<style type=\"text/css\">table.blockgrid {border: none;} .blockgrid tr {border: none;} .blockgrid td {padding: 0px;} #blocks7d3ca3a1-0c16-47d8-b492-f0c47c72c117 td {border: 1px solid white;}</style><table id=\"blocks7d3ca3a1-0c16-47d8-b492-f0c47c72c117\" class=\"blockgrid\"><tbody><tr><td title=\"Index: [0, 0]&#10;Color: (0, 0, 0)\" style=\"width: 30px; height: 30px;background-color: rgb(0, 0, 0);\"></td><td title=\"Index: [0, 1]&#10;Color: (0, 0, 0)\" style=\"width: 30px; height: 30px;background-color: rgb(0, 0, 0);\"></td><td title=\"Index: [0, 2]&#10;Color: (0, 0, 0)\" style=\"width: 30px; height: 30px;background-color: rgb(0, 0, 0);\"></td><td title=\"Index: [0, 3]&#10;Color: (0, 0, 0)\" style=\"width: 30px; height: 30px;background-color: rgb(0, 0, 0);\"></td><td title=\"Index: [0, 4]&#10;Color: (0, 0, 0)\" style=\"width: 30px; height: 30px;background-color: rgb(0, 0, 0);\"></td></tr><tr><td title=\"Index: [1, 0]&#10;Color: (0, 0, 0)\" style=\"width: 30px; height: 30px;background-color: rgb(0, 0, 0);\"></td><td title=\"Index: [1, 1]&#10;Color: (255, 255, 255)\" style=\"width: 30px; height: 30px;background-color: rgb(255, 255, 255);\"></td><td title=\"Index: [1, 2]&#10;Color: (0, 0, 0)\" style=\"width: 30px; height: 30px;background-color: rgb(0, 0, 0);\"></td><td title=\"Index: [1, 3]&#10;Color: (255, 255, 255)\" style=\"width: 30px; height: 30px;background-color: rgb(255, 255, 255);\"></td><td title=\"Index: [1, 4]&#10;Color: (0, 0, 0)\" style=\"width: 30px; height: 30px;background-color: rgb(0, 0, 0);\"></td></tr><tr><td title=\"Index: [2, 0]&#10;Color: (0, 0, 0)\" style=\"width: 30px; height: 30px;background-color: rgb(0, 0, 0);\"></td><td title=\"Index: [2, 1]&#10;Color: (0, 0, 0)\" style=\"width: 30px; height: 30px;background-color: rgb(0, 0, 0);\"></td><td title=\"Index: [2, 2]&#10;Color: (0, 0, 0)\" style=\"width: 30px; height: 30px;background-color: rgb(0, 0, 0);\"></td><td title=\"Index: [2, 3]&#10;Color: (0, 0, 0)\" style=\"width: 30px; height: 30px;background-color: rgb(0, 0, 0);\"></td><td title=\"Index: [2, 4]&#10;Color: (0, 0, 0)\" style=\"width: 30px; height: 30px;background-color: rgb(0, 0, 0);\"></td></tr><tr><td title=\"Index: [3, 0]&#10;Color: (255, 255, 255)\" style=\"width: 30px; height: 30px;background-color: rgb(255, 255, 255);\"></td><td title=\"Index: [3, 1]&#10;Color: (0, 0, 0)\" style=\"width: 30px; height: 30px;background-color: rgb(0, 0, 0);\"></td><td title=\"Index: [3, 2]&#10;Color: (0, 0, 0)\" style=\"width: 30px; height: 30px;background-color: rgb(0, 0, 0);\"></td><td title=\"Index: [3, 3]&#10;Color: (0, 0, 0)\" style=\"width: 30px; height: 30px;background-color: rgb(0, 0, 0);\"></td><td title=\"Index: [3, 4]&#10;Color: (255, 255, 255)\" style=\"width: 30px; height: 30px;background-color: rgb(255, 255, 255);\"></td></tr><tr><td title=\"Index: [4, 0]&#10;Color: (0, 0, 0)\" style=\"width: 30px; height: 30px;background-color: rgb(0, 0, 0);\"></td><td title=\"Index: [4, 1]&#10;Color: (255, 255, 255)\" style=\"width: 30px; height: 30px;background-color: rgb(255, 255, 255);\"></td><td title=\"Index: [4, 2]&#10;Color: (255, 255, 255)\" style=\"width: 30px; height: 30px;background-color: rgb(255, 255, 255);\"></td><td title=\"Index: [4, 3]&#10;Color: (255, 255, 255)\" style=\"width: 30px; height: 30px;background-color: rgb(255, 255, 255);\"></td><td title=\"Index: [4, 4]&#10;Color: (0, 0, 0)\" style=\"width: 30px; height: 30px;background-color: rgb(0, 0, 0);\"></td></tr></tbody></table>"
      ],
      "text/plain": [
       "<ipythonblocks.ipythonblocks.BlockGrid at 0x7f606c6db250>"
      ]
     },
     "execution_count": 5,
     "metadata": {},
     "output_type": "execute_result"
    }
   ],
   "source": [
    "affiche_ipythonblocks(joyeux)"
   ]
  },
  {
   "cell_type": "code",
   "execution_count": 53,
   "metadata": {},
   "outputs": [
    {
     "data": {
      "text/html": [
       "<style type=\"text/css\">table.blockgrid {border: none;} .blockgrid tr {border: none;} .blockgrid td {padding: 0px;} #blocks9c060bc2-a9f4-4387-910a-58cea5d6dfab td {border: 1px solid white;}</style><table id=\"blocks9c060bc2-a9f4-4387-910a-58cea5d6dfab\" class=\"blockgrid\"><tbody><tr><td title=\"Index: [0, 0]&#10;Color: (0, 0, 0)\" style=\"width: 30px; height: 30px;background-color: rgb(0, 0, 0);\"></td><td title=\"Index: [0, 1]&#10;Color: (0, 0, 0)\" style=\"width: 30px; height: 30px;background-color: rgb(0, 0, 0);\"></td><td title=\"Index: [0, 2]&#10;Color: (0, 0, 0)\" style=\"width: 30px; height: 30px;background-color: rgb(0, 0, 0);\"></td><td title=\"Index: [0, 3]&#10;Color: (0, 0, 0)\" style=\"width: 30px; height: 30px;background-color: rgb(0, 0, 0);\"></td><td title=\"Index: [0, 4]&#10;Color: (0, 0, 0)\" style=\"width: 30px; height: 30px;background-color: rgb(0, 0, 0);\"></td></tr><tr><td title=\"Index: [1, 0]&#10;Color: (0, 0, 0)\" style=\"width: 30px; height: 30px;background-color: rgb(0, 0, 0);\"></td><td title=\"Index: [1, 1]&#10;Color: (250, 0, 0)\" style=\"width: 30px; height: 30px;background-color: rgb(250, 0, 0);\"></td><td title=\"Index: [1, 2]&#10;Color: (0, 0, 0)\" style=\"width: 30px; height: 30px;background-color: rgb(0, 0, 0);\"></td><td title=\"Index: [1, 3]&#10;Color: (250, 0, 0)\" style=\"width: 30px; height: 30px;background-color: rgb(250, 0, 0);\"></td><td title=\"Index: [1, 4]&#10;Color: (0, 0, 0)\" style=\"width: 30px; height: 30px;background-color: rgb(0, 0, 0);\"></td></tr><tr><td title=\"Index: [2, 0]&#10;Color: (0, 0, 0)\" style=\"width: 30px; height: 30px;background-color: rgb(0, 0, 0);\"></td><td title=\"Index: [2, 1]&#10;Color: (0, 0, 0)\" style=\"width: 30px; height: 30px;background-color: rgb(0, 0, 0);\"></td><td title=\"Index: [2, 2]&#10;Color: (0, 0, 0)\" style=\"width: 30px; height: 30px;background-color: rgb(0, 0, 0);\"></td><td title=\"Index: [2, 3]&#10;Color: (0, 0, 0)\" style=\"width: 30px; height: 30px;background-color: rgb(0, 0, 0);\"></td><td title=\"Index: [2, 4]&#10;Color: (0, 0, 0)\" style=\"width: 30px; height: 30px;background-color: rgb(0, 0, 0);\"></td></tr><tr><td title=\"Index: [3, 0]&#10;Color: (0, 0, 0)\" style=\"width: 30px; height: 30px;background-color: rgb(0, 0, 0);\"></td><td title=\"Index: [3, 1]&#10;Color: (250, 0, 0)\" style=\"width: 30px; height: 30px;background-color: rgb(250, 0, 0);\"></td><td title=\"Index: [3, 2]&#10;Color: (250, 0, 0)\" style=\"width: 30px; height: 30px;background-color: rgb(250, 0, 0);\"></td><td title=\"Index: [3, 3]&#10;Color: (250, 0, 0)\" style=\"width: 30px; height: 30px;background-color: rgb(250, 0, 0);\"></td><td title=\"Index: [3, 4]&#10;Color: (0, 0, 0)\" style=\"width: 30px; height: 30px;background-color: rgb(0, 0, 0);\"></td></tr><tr><td title=\"Index: [4, 0]&#10;Color: (250, 0, 0)\" style=\"width: 30px; height: 30px;background-color: rgb(250, 0, 0);\"></td><td title=\"Index: [4, 1]&#10;Color: (0, 0, 0)\" style=\"width: 30px; height: 30px;background-color: rgb(0, 0, 0);\"></td><td title=\"Index: [4, 2]&#10;Color: (0, 0, 0)\" style=\"width: 30px; height: 30px;background-color: rgb(0, 0, 0);\"></td><td title=\"Index: [4, 3]&#10;Color: (0, 0, 0)\" style=\"width: 30px; height: 30px;background-color: rgb(0, 0, 0);\"></td><td title=\"Index: [4, 4]&#10;Color: (250, 0, 0)\" style=\"width: 30px; height: 30px;background-color: rgb(250, 0, 0);\"></td></tr></tbody></table>"
      ],
      "text/plain": [
       "<ipythonblocks.ipythonblocks.BlockGrid at 0x7f5a841cf750>"
      ]
     },
     "execution_count": 53,
     "metadata": {},
     "output_type": "execute_result"
    }
   ],
   "source": [
    "affiche_ipythonblocks(triste)"
   ]
  },
  {
   "cell_type": "markdown",
   "metadata": {},
   "source": [
    "## Création de matrices par compréhension :\n",
    "\n",
    "Déclarer une matrice élément par élément peux être fastidieux.\n",
    "\n",
    "La compréhension de liste va nous permettre d'automatiser cette tâche.\n",
    "\n",
    "<h3 class='fa fa-code' style=\"color: darkorange\"> A programmer vous même :</h3>\n",
    "\n",
    "En vous inspirant de l'exemple suivant :"
   ]
  },
  {
   "cell_type": "code",
   "execution_count": 6,
   "metadata": {},
   "outputs": [
    {
     "data": {
      "text/plain": [
       "[[0, 0, 0, 0, 0],\n",
       " [0, 0, 0, 0, 0],\n",
       " [9, 9, 9, 9, 9],\n",
       " [0, 0, 0, 0, 0],\n",
       " [0, 0, 0, 0, 0]]"
      ]
     },
     "execution_count": 6,
     "metadata": {},
     "output_type": "execute_result"
    }
   ],
   "source": [
    "moins = [[0 if i != 2 else 9 for j in range(5)] for i in range(5)]\n",
    "moins"
   ]
  },
  {
   "cell_type": "code",
   "execution_count": 7,
   "metadata": {},
   "outputs": [
    {
     "ename": "NameError",
     "evalue": "name 'affiche_latex' is not defined",
     "output_type": "error",
     "traceback": [
      "\u001b[0;31m---------------------------------------------------------------------------\u001b[0m",
      "\u001b[0;31mNameError\u001b[0m                                 Traceback (most recent call last)",
      "\u001b[0;32m<ipython-input-7-19498119e53f>\u001b[0m in \u001b[0;36m<module>\u001b[0;34m\u001b[0m\n\u001b[0;32m----> 1\u001b[0;31m \u001b[0maffiche_latex\u001b[0m\u001b[0;34m(\u001b[0m\u001b[0mmoins\u001b[0m\u001b[0;34m)\u001b[0m\u001b[0;34m\u001b[0m\u001b[0;34m\u001b[0m\u001b[0m\n\u001b[0m",
      "\u001b[0;31mNameError\u001b[0m: name 'affiche_latex' is not defined"
     ]
    }
   ],
   "source": [
    "affiche_latex(moins)"
   ]
  },
  {
   "cell_type": "code",
   "execution_count": 8,
   "metadata": {},
   "outputs": [
    {
     "data": {
      "text/html": [
       "<style type=\"text/css\">table.blockgrid {border: none;} .blockgrid tr {border: none;} .blockgrid td {padding: 0px;} #blocks4c5e51ba-59ae-4d10-9542-65c75b7a16af td {border: 1px solid white;}</style><table id=\"blocks4c5e51ba-59ae-4d10-9542-65c75b7a16af\" class=\"blockgrid\"><tbody><tr><td title=\"Index: [0, 0]&#10;Color: (0, 0, 0)\" style=\"width: 30px; height: 30px;background-color: rgb(0, 0, 0);\"></td><td title=\"Index: [0, 1]&#10;Color: (0, 0, 0)\" style=\"width: 30px; height: 30px;background-color: rgb(0, 0, 0);\"></td><td title=\"Index: [0, 2]&#10;Color: (0, 0, 0)\" style=\"width: 30px; height: 30px;background-color: rgb(0, 0, 0);\"></td><td title=\"Index: [0, 3]&#10;Color: (0, 0, 0)\" style=\"width: 30px; height: 30px;background-color: rgb(0, 0, 0);\"></td><td title=\"Index: [0, 4]&#10;Color: (0, 0, 0)\" style=\"width: 30px; height: 30px;background-color: rgb(0, 0, 0);\"></td></tr><tr><td title=\"Index: [1, 0]&#10;Color: (0, 0, 0)\" style=\"width: 30px; height: 30px;background-color: rgb(0, 0, 0);\"></td><td title=\"Index: [1, 1]&#10;Color: (0, 0, 0)\" style=\"width: 30px; height: 30px;background-color: rgb(0, 0, 0);\"></td><td title=\"Index: [1, 2]&#10;Color: (0, 0, 0)\" style=\"width: 30px; height: 30px;background-color: rgb(0, 0, 0);\"></td><td title=\"Index: [1, 3]&#10;Color: (0, 0, 0)\" style=\"width: 30px; height: 30px;background-color: rgb(0, 0, 0);\"></td><td title=\"Index: [1, 4]&#10;Color: (0, 0, 0)\" style=\"width: 30px; height: 30px;background-color: rgb(0, 0, 0);\"></td></tr><tr><td title=\"Index: [2, 0]&#10;Color: (255, 255, 255)\" style=\"width: 30px; height: 30px;background-color: rgb(255, 255, 255);\"></td><td title=\"Index: [2, 1]&#10;Color: (255, 255, 255)\" style=\"width: 30px; height: 30px;background-color: rgb(255, 255, 255);\"></td><td title=\"Index: [2, 2]&#10;Color: (255, 255, 255)\" style=\"width: 30px; height: 30px;background-color: rgb(255, 255, 255);\"></td><td title=\"Index: [2, 3]&#10;Color: (255, 255, 255)\" style=\"width: 30px; height: 30px;background-color: rgb(255, 255, 255);\"></td><td title=\"Index: [2, 4]&#10;Color: (255, 255, 255)\" style=\"width: 30px; height: 30px;background-color: rgb(255, 255, 255);\"></td></tr><tr><td title=\"Index: [3, 0]&#10;Color: (0, 0, 0)\" style=\"width: 30px; height: 30px;background-color: rgb(0, 0, 0);\"></td><td title=\"Index: [3, 1]&#10;Color: (0, 0, 0)\" style=\"width: 30px; height: 30px;background-color: rgb(0, 0, 0);\"></td><td title=\"Index: [3, 2]&#10;Color: (0, 0, 0)\" style=\"width: 30px; height: 30px;background-color: rgb(0, 0, 0);\"></td><td title=\"Index: [3, 3]&#10;Color: (0, 0, 0)\" style=\"width: 30px; height: 30px;background-color: rgb(0, 0, 0);\"></td><td title=\"Index: [3, 4]&#10;Color: (0, 0, 0)\" style=\"width: 30px; height: 30px;background-color: rgb(0, 0, 0);\"></td></tr><tr><td title=\"Index: [4, 0]&#10;Color: (0, 0, 0)\" style=\"width: 30px; height: 30px;background-color: rgb(0, 0, 0);\"></td><td title=\"Index: [4, 1]&#10;Color: (0, 0, 0)\" style=\"width: 30px; height: 30px;background-color: rgb(0, 0, 0);\"></td><td title=\"Index: [4, 2]&#10;Color: (0, 0, 0)\" style=\"width: 30px; height: 30px;background-color: rgb(0, 0, 0);\"></td><td title=\"Index: [4, 3]&#10;Color: (0, 0, 0)\" style=\"width: 30px; height: 30px;background-color: rgb(0, 0, 0);\"></td><td title=\"Index: [4, 4]&#10;Color: (0, 0, 0)\" style=\"width: 30px; height: 30px;background-color: rgb(0, 0, 0);\"></td></tr></tbody></table>"
      ],
      "text/plain": [
       "<ipythonblocks.ipythonblocks.BlockGrid at 0x7f606c7b81d0>"
      ]
     },
     "execution_count": 8,
     "metadata": {},
     "output_type": "execute_result"
    }
   ],
   "source": [
    "affiche_ipythonblocks(moins)"
   ]
  },
  {
   "cell_type": "markdown",
   "metadata": {},
   "source": [
    "Proposer des solutions pour générer par compréhension les matrices telles que :\n",
    "\n",
    "$$plein\\_feux = \\begin{pmatrix}\n",
    "& 9 & 9 & 9 & 9 & 9 & \\\\\n",
    "& 9 & 9 & 9 & 9 & 9 & \\\\\n",
    "& 9 & 9 & 9 & 9 & 9 & \\\\\n",
    "& 9 & 9 & 9 & 9 & 9 & \\\\\n",
    "& 9 & 9 & 9 & 9 & 9 & \\\\\n",
    "\\end{pmatrix}$$"
   ]
  },
  {
   "cell_type": "code",
   "execution_count": 44,
   "metadata": {},
   "outputs": [
    {
     "data": {
      "text/plain": [
       "[[9, 9, 9, 9, 9],\n",
       " [9, 9, 9, 9, 9],\n",
       " [9, 9, 9, 9, 9],\n",
       " [9, 9, 9, 9, 9],\n",
       " [9, 9, 9, 9, 9]]"
      ]
     },
     "execution_count": 44,
     "metadata": {},
     "output_type": "execute_result"
    }
   ],
   "source": [
    "plein_feux = [[9 for i in range(5)] for i in range(5)]\n",
    "plein_feux"
   ]
  },
  {
   "cell_type": "code",
   "execution_count": 45,
   "metadata": {},
   "outputs": [
    {
     "data": {
      "text/latex": [
       "$$\\begin{pmatrix}& 9 & 9 & 9 & 9 & 9 & \\\\& 9 & 9 & 9 & 9 & 9 & \\\\& 9 & 9 & 9 & 9 & 9 & \\\\& 9 & 9 & 9 & 9 & 9 & \\\\& 9 & 9 & 9 & 9 & 9 & \\\\\\end{pmatrix}$$"
      ],
      "text/plain": [
       "<IPython.core.display.Latex object>"
      ]
     },
     "execution_count": 45,
     "metadata": {},
     "output_type": "execute_result"
    }
   ],
   "source": [
    "affiche_latex(plein_feux)"
   ]
  },
  {
   "cell_type": "code",
   "execution_count": 46,
   "metadata": {},
   "outputs": [
    {
     "data": {
      "text/html": [
       "<style type=\"text/css\">table.blockgrid {border: none;} .blockgrid tr {border: none;} .blockgrid td {padding: 0px;} #blocks792fa919-1921-4b32-9740-b6cfe41309b0 td {border: 1px solid white;}</style><table id=\"blocks792fa919-1921-4b32-9740-b6cfe41309b0\" class=\"blockgrid\"><tbody><tr><td title=\"Index: [0, 0]&#10;Color: (214, 158, 202)\" style=\"width: 30px; height: 30px;background-color: rgb(214, 158, 202);\"></td><td title=\"Index: [0, 1]&#10;Color: (69, 101, 1)\" style=\"width: 30px; height: 30px;background-color: rgb(69, 101, 1);\"></td><td title=\"Index: [0, 2]&#10;Color: (164, 171, 135)\" style=\"width: 30px; height: 30px;background-color: rgb(164, 171, 135);\"></td><td title=\"Index: [0, 3]&#10;Color: (197, 8, 117)\" style=\"width: 30px; height: 30px;background-color: rgb(197, 8, 117);\"></td><td title=\"Index: [0, 4]&#10;Color: (55, 241, 153)\" style=\"width: 30px; height: 30px;background-color: rgb(55, 241, 153);\"></td></tr><tr><td title=\"Index: [1, 0]&#10;Color: (167, 28, 69)\" style=\"width: 30px; height: 30px;background-color: rgb(167, 28, 69);\"></td><td title=\"Index: [1, 1]&#10;Color: (35, 205, 231)\" style=\"width: 30px; height: 30px;background-color: rgb(35, 205, 231);\"></td><td title=\"Index: [1, 2]&#10;Color: (96, 60, 80)\" style=\"width: 30px; height: 30px;background-color: rgb(96, 60, 80);\"></td><td title=\"Index: [1, 3]&#10;Color: (29, 78, 7)\" style=\"width: 30px; height: 30px;background-color: rgb(29, 78, 7);\"></td><td title=\"Index: [1, 4]&#10;Color: (82, 74, 12)\" style=\"width: 30px; height: 30px;background-color: rgb(82, 74, 12);\"></td></tr><tr><td title=\"Index: [2, 0]&#10;Color: (184, 65, 56)\" style=\"width: 30px; height: 30px;background-color: rgb(184, 65, 56);\"></td><td title=\"Index: [2, 1]&#10;Color: (149, 80, 91)\" style=\"width: 30px; height: 30px;background-color: rgb(149, 80, 91);\"></td><td title=\"Index: [2, 2]&#10;Color: (214, 36, 237)\" style=\"width: 30px; height: 30px;background-color: rgb(214, 36, 237);\"></td><td title=\"Index: [2, 3]&#10;Color: (145, 119, 35)\" style=\"width: 30px; height: 30px;background-color: rgb(145, 119, 35);\"></td><td title=\"Index: [2, 4]&#10;Color: (32, 45, 12)\" style=\"width: 30px; height: 30px;background-color: rgb(32, 45, 12);\"></td></tr><tr><td title=\"Index: [3, 0]&#10;Color: (103, 164, 159)\" style=\"width: 30px; height: 30px;background-color: rgb(103, 164, 159);\"></td><td title=\"Index: [3, 1]&#10;Color: (229, 136, 193)\" style=\"width: 30px; height: 30px;background-color: rgb(229, 136, 193);\"></td><td title=\"Index: [3, 2]&#10;Color: (122, 223, 142)\" style=\"width: 30px; height: 30px;background-color: rgb(122, 223, 142);\"></td><td title=\"Index: [3, 3]&#10;Color: (180, 253, 182)\" style=\"width: 30px; height: 30px;background-color: rgb(180, 253, 182);\"></td><td title=\"Index: [3, 4]&#10;Color: (77, 49, 198)\" style=\"width: 30px; height: 30px;background-color: rgb(77, 49, 198);\"></td></tr><tr><td title=\"Index: [4, 0]&#10;Color: (107, 79, 49)\" style=\"width: 30px; height: 30px;background-color: rgb(107, 79, 49);\"></td><td title=\"Index: [4, 1]&#10;Color: (18, 145, 193)\" style=\"width: 30px; height: 30px;background-color: rgb(18, 145, 193);\"></td><td title=\"Index: [4, 2]&#10;Color: (9, 240, 29)\" style=\"width: 30px; height: 30px;background-color: rgb(9, 240, 29);\"></td><td title=\"Index: [4, 3]&#10;Color: (22, 169, 42)\" style=\"width: 30px; height: 30px;background-color: rgb(22, 169, 42);\"></td><td title=\"Index: [4, 4]&#10;Color: (152, 152, 105)\" style=\"width: 30px; height: 30px;background-color: rgb(152, 152, 105);\"></td></tr></tbody></table>"
      ],
      "text/plain": [
       "<ipythonblocks.ipythonblocks.BlockGrid at 0x7f5a841c4ed0>"
      ]
     },
     "execution_count": 46,
     "metadata": {},
     "output_type": "execute_result"
    }
   ],
   "source": [
    "affiche_ipythonblocks_couleur(plein_feux)"
   ]
  },
  {
   "cell_type": "code",
   "execution_count": 47,
   "metadata": {},
   "outputs": [
    {
     "data": {
      "text/html": [
       "<style type=\"text/css\">table.blockgrid {border: none;} .blockgrid tr {border: none;} .blockgrid td {padding: 0px;} #blocksa8f2177c-7584-44f4-b9f2-aff409ae817c td {border: 1px solid white;}</style><table id=\"blocksa8f2177c-7584-44f4-b9f2-aff409ae817c\" class=\"blockgrid\"><tbody><tr><td title=\"Index: [0, 0]&#10;Color: (250, 0, 0)\" style=\"width: 30px; height: 30px;background-color: rgb(250, 0, 0);\"></td><td title=\"Index: [0, 1]&#10;Color: (250, 0, 0)\" style=\"width: 30px; height: 30px;background-color: rgb(250, 0, 0);\"></td><td title=\"Index: [0, 2]&#10;Color: (250, 0, 0)\" style=\"width: 30px; height: 30px;background-color: rgb(250, 0, 0);\"></td><td title=\"Index: [0, 3]&#10;Color: (250, 0, 0)\" style=\"width: 30px; height: 30px;background-color: rgb(250, 0, 0);\"></td><td title=\"Index: [0, 4]&#10;Color: (250, 0, 0)\" style=\"width: 30px; height: 30px;background-color: rgb(250, 0, 0);\"></td></tr><tr><td title=\"Index: [1, 0]&#10;Color: (250, 0, 0)\" style=\"width: 30px; height: 30px;background-color: rgb(250, 0, 0);\"></td><td title=\"Index: [1, 1]&#10;Color: (250, 0, 0)\" style=\"width: 30px; height: 30px;background-color: rgb(250, 0, 0);\"></td><td title=\"Index: [1, 2]&#10;Color: (250, 0, 0)\" style=\"width: 30px; height: 30px;background-color: rgb(250, 0, 0);\"></td><td title=\"Index: [1, 3]&#10;Color: (250, 0, 0)\" style=\"width: 30px; height: 30px;background-color: rgb(250, 0, 0);\"></td><td title=\"Index: [1, 4]&#10;Color: (250, 0, 0)\" style=\"width: 30px; height: 30px;background-color: rgb(250, 0, 0);\"></td></tr><tr><td title=\"Index: [2, 0]&#10;Color: (250, 0, 0)\" style=\"width: 30px; height: 30px;background-color: rgb(250, 0, 0);\"></td><td title=\"Index: [2, 1]&#10;Color: (250, 0, 0)\" style=\"width: 30px; height: 30px;background-color: rgb(250, 0, 0);\"></td><td title=\"Index: [2, 2]&#10;Color: (250, 0, 0)\" style=\"width: 30px; height: 30px;background-color: rgb(250, 0, 0);\"></td><td title=\"Index: [2, 3]&#10;Color: (250, 0, 0)\" style=\"width: 30px; height: 30px;background-color: rgb(250, 0, 0);\"></td><td title=\"Index: [2, 4]&#10;Color: (250, 0, 0)\" style=\"width: 30px; height: 30px;background-color: rgb(250, 0, 0);\"></td></tr><tr><td title=\"Index: [3, 0]&#10;Color: (250, 0, 0)\" style=\"width: 30px; height: 30px;background-color: rgb(250, 0, 0);\"></td><td title=\"Index: [3, 1]&#10;Color: (250, 0, 0)\" style=\"width: 30px; height: 30px;background-color: rgb(250, 0, 0);\"></td><td title=\"Index: [3, 2]&#10;Color: (250, 0, 0)\" style=\"width: 30px; height: 30px;background-color: rgb(250, 0, 0);\"></td><td title=\"Index: [3, 3]&#10;Color: (250, 0, 0)\" style=\"width: 30px; height: 30px;background-color: rgb(250, 0, 0);\"></td><td title=\"Index: [3, 4]&#10;Color: (250, 0, 0)\" style=\"width: 30px; height: 30px;background-color: rgb(250, 0, 0);\"></td></tr><tr><td title=\"Index: [4, 0]&#10;Color: (250, 0, 0)\" style=\"width: 30px; height: 30px;background-color: rgb(250, 0, 0);\"></td><td title=\"Index: [4, 1]&#10;Color: (250, 0, 0)\" style=\"width: 30px; height: 30px;background-color: rgb(250, 0, 0);\"></td><td title=\"Index: [4, 2]&#10;Color: (250, 0, 0)\" style=\"width: 30px; height: 30px;background-color: rgb(250, 0, 0);\"></td><td title=\"Index: [4, 3]&#10;Color: (250, 0, 0)\" style=\"width: 30px; height: 30px;background-color: rgb(250, 0, 0);\"></td><td title=\"Index: [4, 4]&#10;Color: (250, 0, 0)\" style=\"width: 30px; height: 30px;background-color: rgb(250, 0, 0);\"></td></tr></tbody></table>"
      ],
      "text/plain": [
       "<ipythonblocks.ipythonblocks.BlockGrid at 0x7f5a841dc210>"
      ]
     },
     "execution_count": 47,
     "metadata": {},
     "output_type": "execute_result"
    }
   ],
   "source": [
    "affiche_ipythonblocks(plein_feux)"
   ]
  },
  {
   "cell_type": "markdown",
   "metadata": {},
   "source": [
    "****\n",
    "$$plus = \\begin{pmatrix}\n",
    "& 0 & 0 & 9 & 0 & 0 & \\\\\n",
    "& 0 & 0 & 9 & 0 & 0 & \\\\\n",
    "& 9 & 9 & 9 & 9 & 9 & \\\\\n",
    "& 0 & 0 & 9 & 0 & 0 & \\\\\n",
    "& 0 & 0 & 9 & 0 & 0 & \\\\\n",
    "\\end{pmatrix}$$"
   ]
  },
  {
   "cell_type": "code",
   "execution_count": 48,
   "metadata": {},
   "outputs": [
    {
     "data": {
      "text/plain": [
       "[[0, 0, 9, 0, 0],\n",
       " [0, 0, 9, 0, 0],\n",
       " [9, 9, 9, 9, 9],\n",
       " [0, 0, 9, 0, 0],\n",
       " [0, 0, 9, 0, 0]]"
      ]
     },
     "execution_count": 48,
     "metadata": {},
     "output_type": "execute_result"
    }
   ],
   "source": [
    "plus = [[9 if i == 2 or j == 2 else 0 for j in range(5)] for i in range(5)]\n",
    "plus"
   ]
  },
  {
   "cell_type": "code",
   "execution_count": 49,
   "metadata": {},
   "outputs": [
    {
     "data": {
      "text/latex": [
       "$$\\begin{pmatrix}& 0 & 0 & 9 & 0 & 0 & \\\\& 0 & 0 & 9 & 0 & 0 & \\\\& 9 & 9 & 9 & 9 & 9 & \\\\& 0 & 0 & 9 & 0 & 0 & \\\\& 0 & 0 & 9 & 0 & 0 & \\\\\\end{pmatrix}$$"
      ],
      "text/plain": [
       "<IPython.core.display.Latex object>"
      ]
     },
     "execution_count": 49,
     "metadata": {},
     "output_type": "execute_result"
    }
   ],
   "source": [
    "affiche_latex(plus)"
   ]
  },
  {
   "cell_type": "code",
   "execution_count": 50,
   "metadata": {},
   "outputs": [
    {
     "data": {
      "text/html": [
       "<style type=\"text/css\">table.blockgrid {border: none;} .blockgrid tr {border: none;} .blockgrid td {padding: 0px;} #blocks296f0714-f8f1-4579-bb75-355babc57c03 td {border: 1px solid white;}</style><table id=\"blocks296f0714-f8f1-4579-bb75-355babc57c03\" class=\"blockgrid\"><tbody><tr><td title=\"Index: [0, 0]&#10;Color: (255, 255, 255)\" style=\"width: 30px; height: 30px;background-color: rgb(255, 255, 255);\"></td><td title=\"Index: [0, 1]&#10;Color: (255, 255, 255)\" style=\"width: 30px; height: 30px;background-color: rgb(255, 255, 255);\"></td><td title=\"Index: [0, 2]&#10;Color: (239, 152, 241)\" style=\"width: 30px; height: 30px;background-color: rgb(239, 152, 241);\"></td><td title=\"Index: [0, 3]&#10;Color: (255, 255, 255)\" style=\"width: 30px; height: 30px;background-color: rgb(255, 255, 255);\"></td><td title=\"Index: [0, 4]&#10;Color: (255, 255, 255)\" style=\"width: 30px; height: 30px;background-color: rgb(255, 255, 255);\"></td></tr><tr><td title=\"Index: [1, 0]&#10;Color: (255, 255, 255)\" style=\"width: 30px; height: 30px;background-color: rgb(255, 255, 255);\"></td><td title=\"Index: [1, 1]&#10;Color: (255, 255, 255)\" style=\"width: 30px; height: 30px;background-color: rgb(255, 255, 255);\"></td><td title=\"Index: [1, 2]&#10;Color: (60, 124, 157)\" style=\"width: 30px; height: 30px;background-color: rgb(60, 124, 157);\"></td><td title=\"Index: [1, 3]&#10;Color: (255, 255, 255)\" style=\"width: 30px; height: 30px;background-color: rgb(255, 255, 255);\"></td><td title=\"Index: [1, 4]&#10;Color: (255, 255, 255)\" style=\"width: 30px; height: 30px;background-color: rgb(255, 255, 255);\"></td></tr><tr><td title=\"Index: [2, 0]&#10;Color: (155, 135, 149)\" style=\"width: 30px; height: 30px;background-color: rgb(155, 135, 149);\"></td><td title=\"Index: [2, 1]&#10;Color: (134, 106, 32)\" style=\"width: 30px; height: 30px;background-color: rgb(134, 106, 32);\"></td><td title=\"Index: [2, 2]&#10;Color: (112, 160, 182)\" style=\"width: 30px; height: 30px;background-color: rgb(112, 160, 182);\"></td><td title=\"Index: [2, 3]&#10;Color: (97, 81, 46)\" style=\"width: 30px; height: 30px;background-color: rgb(97, 81, 46);\"></td><td title=\"Index: [2, 4]&#10;Color: (167, 216, 233)\" style=\"width: 30px; height: 30px;background-color: rgb(167, 216, 233);\"></td></tr><tr><td title=\"Index: [3, 0]&#10;Color: (255, 255, 255)\" style=\"width: 30px; height: 30px;background-color: rgb(255, 255, 255);\"></td><td title=\"Index: [3, 1]&#10;Color: (255, 255, 255)\" style=\"width: 30px; height: 30px;background-color: rgb(255, 255, 255);\"></td><td title=\"Index: [3, 2]&#10;Color: (109, 186, 147)\" style=\"width: 30px; height: 30px;background-color: rgb(109, 186, 147);\"></td><td title=\"Index: [3, 3]&#10;Color: (255, 255, 255)\" style=\"width: 30px; height: 30px;background-color: rgb(255, 255, 255);\"></td><td title=\"Index: [3, 4]&#10;Color: (255, 255, 255)\" style=\"width: 30px; height: 30px;background-color: rgb(255, 255, 255);\"></td></tr><tr><td title=\"Index: [4, 0]&#10;Color: (255, 255, 255)\" style=\"width: 30px; height: 30px;background-color: rgb(255, 255, 255);\"></td><td title=\"Index: [4, 1]&#10;Color: (255, 255, 255)\" style=\"width: 30px; height: 30px;background-color: rgb(255, 255, 255);\"></td><td title=\"Index: [4, 2]&#10;Color: (138, 99, 144)\" style=\"width: 30px; height: 30px;background-color: rgb(138, 99, 144);\"></td><td title=\"Index: [4, 3]&#10;Color: (255, 255, 255)\" style=\"width: 30px; height: 30px;background-color: rgb(255, 255, 255);\"></td><td title=\"Index: [4, 4]&#10;Color: (255, 255, 255)\" style=\"width: 30px; height: 30px;background-color: rgb(255, 255, 255);\"></td></tr></tbody></table>"
      ],
      "text/plain": [
       "<ipythonblocks.ipythonblocks.BlockGrid at 0x7f5a841e3b10>"
      ]
     },
     "execution_count": 50,
     "metadata": {},
     "output_type": "execute_result"
    }
   ],
   "source": [
    "affiche_ipythonblocks_couleur(plus)"
   ]
  },
  {
   "cell_type": "code",
   "execution_count": 51,
   "metadata": {},
   "outputs": [
    {
     "data": {
      "text/html": [
       "<style type=\"text/css\">table.blockgrid {border: none;} .blockgrid tr {border: none;} .blockgrid td {padding: 0px;} #blocks53002766-3b4d-459e-95d8-d05e38c79508 td {border: 1px solid white;}</style><table id=\"blocks53002766-3b4d-459e-95d8-d05e38c79508\" class=\"blockgrid\"><tbody><tr><td title=\"Index: [0, 0]&#10;Color: (0, 0, 0)\" style=\"width: 30px; height: 30px;background-color: rgb(0, 0, 0);\"></td><td title=\"Index: [0, 1]&#10;Color: (0, 0, 0)\" style=\"width: 30px; height: 30px;background-color: rgb(0, 0, 0);\"></td><td title=\"Index: [0, 2]&#10;Color: (250, 0, 0)\" style=\"width: 30px; height: 30px;background-color: rgb(250, 0, 0);\"></td><td title=\"Index: [0, 3]&#10;Color: (0, 0, 0)\" style=\"width: 30px; height: 30px;background-color: rgb(0, 0, 0);\"></td><td title=\"Index: [0, 4]&#10;Color: (0, 0, 0)\" style=\"width: 30px; height: 30px;background-color: rgb(0, 0, 0);\"></td></tr><tr><td title=\"Index: [1, 0]&#10;Color: (0, 0, 0)\" style=\"width: 30px; height: 30px;background-color: rgb(0, 0, 0);\"></td><td title=\"Index: [1, 1]&#10;Color: (0, 0, 0)\" style=\"width: 30px; height: 30px;background-color: rgb(0, 0, 0);\"></td><td title=\"Index: [1, 2]&#10;Color: (250, 0, 0)\" style=\"width: 30px; height: 30px;background-color: rgb(250, 0, 0);\"></td><td title=\"Index: [1, 3]&#10;Color: (0, 0, 0)\" style=\"width: 30px; height: 30px;background-color: rgb(0, 0, 0);\"></td><td title=\"Index: [1, 4]&#10;Color: (0, 0, 0)\" style=\"width: 30px; height: 30px;background-color: rgb(0, 0, 0);\"></td></tr><tr><td title=\"Index: [2, 0]&#10;Color: (250, 0, 0)\" style=\"width: 30px; height: 30px;background-color: rgb(250, 0, 0);\"></td><td title=\"Index: [2, 1]&#10;Color: (250, 0, 0)\" style=\"width: 30px; height: 30px;background-color: rgb(250, 0, 0);\"></td><td title=\"Index: [2, 2]&#10;Color: (250, 0, 0)\" style=\"width: 30px; height: 30px;background-color: rgb(250, 0, 0);\"></td><td title=\"Index: [2, 3]&#10;Color: (250, 0, 0)\" style=\"width: 30px; height: 30px;background-color: rgb(250, 0, 0);\"></td><td title=\"Index: [2, 4]&#10;Color: (250, 0, 0)\" style=\"width: 30px; height: 30px;background-color: rgb(250, 0, 0);\"></td></tr><tr><td title=\"Index: [3, 0]&#10;Color: (0, 0, 0)\" style=\"width: 30px; height: 30px;background-color: rgb(0, 0, 0);\"></td><td title=\"Index: [3, 1]&#10;Color: (0, 0, 0)\" style=\"width: 30px; height: 30px;background-color: rgb(0, 0, 0);\"></td><td title=\"Index: [3, 2]&#10;Color: (250, 0, 0)\" style=\"width: 30px; height: 30px;background-color: rgb(250, 0, 0);\"></td><td title=\"Index: [3, 3]&#10;Color: (0, 0, 0)\" style=\"width: 30px; height: 30px;background-color: rgb(0, 0, 0);\"></td><td title=\"Index: [3, 4]&#10;Color: (0, 0, 0)\" style=\"width: 30px; height: 30px;background-color: rgb(0, 0, 0);\"></td></tr><tr><td title=\"Index: [4, 0]&#10;Color: (0, 0, 0)\" style=\"width: 30px; height: 30px;background-color: rgb(0, 0, 0);\"></td><td title=\"Index: [4, 1]&#10;Color: (0, 0, 0)\" style=\"width: 30px; height: 30px;background-color: rgb(0, 0, 0);\"></td><td title=\"Index: [4, 2]&#10;Color: (250, 0, 0)\" style=\"width: 30px; height: 30px;background-color: rgb(250, 0, 0);\"></td><td title=\"Index: [4, 3]&#10;Color: (0, 0, 0)\" style=\"width: 30px; height: 30px;background-color: rgb(0, 0, 0);\"></td><td title=\"Index: [4, 4]&#10;Color: (0, 0, 0)\" style=\"width: 30px; height: 30px;background-color: rgb(0, 0, 0);\"></td></tr></tbody></table>"
      ],
      "text/plain": [
       "<ipythonblocks.ipythonblocks.BlockGrid at 0x7f5a84171390>"
      ]
     },
     "execution_count": 51,
     "metadata": {},
     "output_type": "execute_result"
    }
   ],
   "source": [
    "affiche_ipythonblocks(plus)"
   ]
  },
  {
   "cell_type": "markdown",
   "metadata": {},
   "source": [
    "$$fois = \\begin{pmatrix}\n",
    "& 9 & 0 & 0 & 0 & 9 & \\\\\n",
    "& 0 & 9 & 0 & 9 & 0 & \\\\\n",
    "& 0 & 0 & 9 & 0 & 0 & \\\\\n",
    "& 0 & 9 & 0 & 9 & 0 & \\\\\n",
    "& 9 & 0 & 0 & 0 & 9 & \\\\\n",
    "\\end{pmatrix}$$"
   ]
  },
  {
   "cell_type": "code",
   "execution_count": 88,
   "metadata": {},
   "outputs": [],
   "source": [
    "fois = [[9,0,0,0,9],\n",
    "        [0,9,0,9,0],\n",
    "        [0,0,9,0,0],\n",
    "        [0,9,0,9,0],\n",
    "        [9,0,0,0,9]]"
   ]
  },
  {
   "cell_type": "code",
   "execution_count": 90,
   "metadata": {},
   "outputs": [
    {
     "data": {
      "text/plain": [
       "[[1, 2, 3, 4, 5],\n",
       " [2, 3, 4, 5, 6],\n",
       " [3, 4, 5, 6, 7],\n",
       " [4, 5, 6, 7, 8],\n",
       " [5, 6, 7, 8, 9]]"
      ]
     },
     "execution_count": 90,
     "metadata": {},
     "output_type": "execute_result"
    }
   ],
   "source": [
    "fois = [[ for j in range(5)] for i in range(5)]\n",
    "\n",
    "fois"
   ]
  },
  {
   "cell_type": "code",
   "execution_count": 57,
   "metadata": {},
   "outputs": [
    {
     "data": {
      "text/latex": [
       "$$\\begin{pmatrix}& 9 & 0 & 0 & 0 & 9 & \\\\& 0 & 9 & 0 & 9 & 0 & \\\\& 0 & 0 & 9 & 0 & 0 & \\\\& 0 & 9 & 0 & 9 & 0 & \\\\& 9 & 0 & 0 & 0 & 9 & \\\\\\end{pmatrix}$$"
      ],
      "text/plain": [
       "<IPython.core.display.Latex object>"
      ]
     },
     "execution_count": 57,
     "metadata": {},
     "output_type": "execute_result"
    }
   ],
   "source": [
    "affiche_latex(fois)"
   ]
  },
  {
   "cell_type": "code",
   "execution_count": 58,
   "metadata": {},
   "outputs": [
    {
     "data": {
      "text/html": [
       "<style type=\"text/css\">table.blockgrid {border: none;} .blockgrid tr {border: none;} .blockgrid td {padding: 0px;} #blocks0190f365-5368-4639-9002-1a42d72811da td {border: 1px solid white;}</style><table id=\"blocks0190f365-5368-4639-9002-1a42d72811da\" class=\"blockgrid\"><tbody><tr><td title=\"Index: [0, 0]&#10;Color: (250, 0, 0)\" style=\"width: 30px; height: 30px;background-color: rgb(250, 0, 0);\"></td><td title=\"Index: [0, 1]&#10;Color: (0, 0, 0)\" style=\"width: 30px; height: 30px;background-color: rgb(0, 0, 0);\"></td><td title=\"Index: [0, 2]&#10;Color: (0, 0, 0)\" style=\"width: 30px; height: 30px;background-color: rgb(0, 0, 0);\"></td><td title=\"Index: [0, 3]&#10;Color: (0, 0, 0)\" style=\"width: 30px; height: 30px;background-color: rgb(0, 0, 0);\"></td><td title=\"Index: [0, 4]&#10;Color: (250, 0, 0)\" style=\"width: 30px; height: 30px;background-color: rgb(250, 0, 0);\"></td></tr><tr><td title=\"Index: [1, 0]&#10;Color: (0, 0, 0)\" style=\"width: 30px; height: 30px;background-color: rgb(0, 0, 0);\"></td><td title=\"Index: [1, 1]&#10;Color: (250, 0, 0)\" style=\"width: 30px; height: 30px;background-color: rgb(250, 0, 0);\"></td><td title=\"Index: [1, 2]&#10;Color: (0, 0, 0)\" style=\"width: 30px; height: 30px;background-color: rgb(0, 0, 0);\"></td><td title=\"Index: [1, 3]&#10;Color: (250, 0, 0)\" style=\"width: 30px; height: 30px;background-color: rgb(250, 0, 0);\"></td><td title=\"Index: [1, 4]&#10;Color: (0, 0, 0)\" style=\"width: 30px; height: 30px;background-color: rgb(0, 0, 0);\"></td></tr><tr><td title=\"Index: [2, 0]&#10;Color: (0, 0, 0)\" style=\"width: 30px; height: 30px;background-color: rgb(0, 0, 0);\"></td><td title=\"Index: [2, 1]&#10;Color: (0, 0, 0)\" style=\"width: 30px; height: 30px;background-color: rgb(0, 0, 0);\"></td><td title=\"Index: [2, 2]&#10;Color: (250, 0, 0)\" style=\"width: 30px; height: 30px;background-color: rgb(250, 0, 0);\"></td><td title=\"Index: [2, 3]&#10;Color: (0, 0, 0)\" style=\"width: 30px; height: 30px;background-color: rgb(0, 0, 0);\"></td><td title=\"Index: [2, 4]&#10;Color: (0, 0, 0)\" style=\"width: 30px; height: 30px;background-color: rgb(0, 0, 0);\"></td></tr><tr><td title=\"Index: [3, 0]&#10;Color: (0, 0, 0)\" style=\"width: 30px; height: 30px;background-color: rgb(0, 0, 0);\"></td><td title=\"Index: [3, 1]&#10;Color: (250, 0, 0)\" style=\"width: 30px; height: 30px;background-color: rgb(250, 0, 0);\"></td><td title=\"Index: [3, 2]&#10;Color: (0, 0, 0)\" style=\"width: 30px; height: 30px;background-color: rgb(0, 0, 0);\"></td><td title=\"Index: [3, 3]&#10;Color: (250, 0, 0)\" style=\"width: 30px; height: 30px;background-color: rgb(250, 0, 0);\"></td><td title=\"Index: [3, 4]&#10;Color: (0, 0, 0)\" style=\"width: 30px; height: 30px;background-color: rgb(0, 0, 0);\"></td></tr><tr><td title=\"Index: [4, 0]&#10;Color: (250, 0, 0)\" style=\"width: 30px; height: 30px;background-color: rgb(250, 0, 0);\"></td><td title=\"Index: [4, 1]&#10;Color: (0, 0, 0)\" style=\"width: 30px; height: 30px;background-color: rgb(0, 0, 0);\"></td><td title=\"Index: [4, 2]&#10;Color: (0, 0, 0)\" style=\"width: 30px; height: 30px;background-color: rgb(0, 0, 0);\"></td><td title=\"Index: [4, 3]&#10;Color: (0, 0, 0)\" style=\"width: 30px; height: 30px;background-color: rgb(0, 0, 0);\"></td><td title=\"Index: [4, 4]&#10;Color: (250, 0, 0)\" style=\"width: 30px; height: 30px;background-color: rgb(250, 0, 0);\"></td></tr></tbody></table>"
      ],
      "text/plain": [
       "<ipythonblocks.ipythonblocks.BlockGrid at 0x7f5a841df150>"
      ]
     },
     "execution_count": 58,
     "metadata": {},
     "output_type": "execute_result"
    }
   ],
   "source": [
    "affiche_ipythonblocks(fois)"
   ]
  },
  {
   "cell_type": "markdown",
   "metadata": {},
   "source": [
    "$$ degrade\\_Est = \\begin{pmatrix}\n",
    "& 1 & 3 & 5 & 7 & 9 & \\\\\n",
    "& 1 & 3 & 5 & 7 & 9 & \\\\\n",
    "& 1 & 3 & 5 & 7 & 9 & \\\\\n",
    "& 1 & 3 & 5 & 7 & 9 & \\\\\n",
    "& 1 & 3 & 5 & 7 & 9 & \\\\\n",
    "\\end{pmatrix}$$"
   ]
  },
  {
   "cell_type": "code",
   "execution_count": 9,
   "metadata": {},
   "outputs": [
    {
     "data": {
      "text/plain": [
       "[[1, 3, 5, 7, 9],\n",
       " [1, 3, 5, 7, 9],\n",
       " [1, 3, 5, 7, 9],\n",
       " [1, 3, 5, 7, 9],\n",
       " [1, 3, 5, 7, 9]]"
      ]
     },
     "execution_count": 9,
     "metadata": {},
     "output_type": "execute_result"
    }
   ],
   "source": [
    "degrade_Est = [[(j+(j+1))  for j in range(5)] for i in range(5)]\n",
    "\n",
    "degrade_Est"
   ]
  },
  {
   "cell_type": "code",
   "execution_count": 85,
   "metadata": {},
   "outputs": [
    {
     "data": {
      "text/latex": [
       "$$\\begin{pmatrix}& 1 & 3 & 5 & 7 & 9 & \\\\& 1 & 3 & 5 & 7 & 9 & \\\\& 1 & 3 & 5 & 7 & 9 & \\\\& 1 & 3 & 5 & 7 & 9 & \\\\& 1 & 3 & 5 & 7 & 9 & \\\\\\end{pmatrix}$$"
      ],
      "text/plain": [
       "<IPython.core.display.Latex object>"
      ]
     },
     "execution_count": 85,
     "metadata": {},
     "output_type": "execute_result"
    }
   ],
   "source": [
    "affiche_latex(degrade_Est)"
   ]
  },
  {
   "cell_type": "code",
   "execution_count": 10,
   "metadata": {},
   "outputs": [
    {
     "data": {
      "text/html": [
       "<style type=\"text/css\">table.blockgrid {border: none;} .blockgrid tr {border: none;} .blockgrid td {padding: 0px;} #blocksc3181954-cd48-4c86-b1d0-da9342f10134 td {border: 1px solid white;}</style><table id=\"blocksc3181954-cd48-4c86-b1d0-da9342f10134\" class=\"blockgrid\"><tbody><tr><td title=\"Index: [0, 0]&#10;Color: (28, 28, 28)\" style=\"width: 30px; height: 30px;background-color: rgb(28, 28, 28);\"></td><td title=\"Index: [0, 1]&#10;Color: (85, 85, 85)\" style=\"width: 30px; height: 30px;background-color: rgb(85, 85, 85);\"></td><td title=\"Index: [0, 2]&#10;Color: (142, 142, 142)\" style=\"width: 30px; height: 30px;background-color: rgb(142, 142, 142);\"></td><td title=\"Index: [0, 3]&#10;Color: (198, 198, 198)\" style=\"width: 30px; height: 30px;background-color: rgb(198, 198, 198);\"></td><td title=\"Index: [0, 4]&#10;Color: (255, 255, 255)\" style=\"width: 30px; height: 30px;background-color: rgb(255, 255, 255);\"></td></tr><tr><td title=\"Index: [1, 0]&#10;Color: (28, 28, 28)\" style=\"width: 30px; height: 30px;background-color: rgb(28, 28, 28);\"></td><td title=\"Index: [1, 1]&#10;Color: (85, 85, 85)\" style=\"width: 30px; height: 30px;background-color: rgb(85, 85, 85);\"></td><td title=\"Index: [1, 2]&#10;Color: (142, 142, 142)\" style=\"width: 30px; height: 30px;background-color: rgb(142, 142, 142);\"></td><td title=\"Index: [1, 3]&#10;Color: (198, 198, 198)\" style=\"width: 30px; height: 30px;background-color: rgb(198, 198, 198);\"></td><td title=\"Index: [1, 4]&#10;Color: (255, 255, 255)\" style=\"width: 30px; height: 30px;background-color: rgb(255, 255, 255);\"></td></tr><tr><td title=\"Index: [2, 0]&#10;Color: (28, 28, 28)\" style=\"width: 30px; height: 30px;background-color: rgb(28, 28, 28);\"></td><td title=\"Index: [2, 1]&#10;Color: (85, 85, 85)\" style=\"width: 30px; height: 30px;background-color: rgb(85, 85, 85);\"></td><td title=\"Index: [2, 2]&#10;Color: (142, 142, 142)\" style=\"width: 30px; height: 30px;background-color: rgb(142, 142, 142);\"></td><td title=\"Index: [2, 3]&#10;Color: (198, 198, 198)\" style=\"width: 30px; height: 30px;background-color: rgb(198, 198, 198);\"></td><td title=\"Index: [2, 4]&#10;Color: (255, 255, 255)\" style=\"width: 30px; height: 30px;background-color: rgb(255, 255, 255);\"></td></tr><tr><td title=\"Index: [3, 0]&#10;Color: (28, 28, 28)\" style=\"width: 30px; height: 30px;background-color: rgb(28, 28, 28);\"></td><td title=\"Index: [3, 1]&#10;Color: (85, 85, 85)\" style=\"width: 30px; height: 30px;background-color: rgb(85, 85, 85);\"></td><td title=\"Index: [3, 2]&#10;Color: (142, 142, 142)\" style=\"width: 30px; height: 30px;background-color: rgb(142, 142, 142);\"></td><td title=\"Index: [3, 3]&#10;Color: (198, 198, 198)\" style=\"width: 30px; height: 30px;background-color: rgb(198, 198, 198);\"></td><td title=\"Index: [3, 4]&#10;Color: (255, 255, 255)\" style=\"width: 30px; height: 30px;background-color: rgb(255, 255, 255);\"></td></tr><tr><td title=\"Index: [4, 0]&#10;Color: (28, 28, 28)\" style=\"width: 30px; height: 30px;background-color: rgb(28, 28, 28);\"></td><td title=\"Index: [4, 1]&#10;Color: (85, 85, 85)\" style=\"width: 30px; height: 30px;background-color: rgb(85, 85, 85);\"></td><td title=\"Index: [4, 2]&#10;Color: (142, 142, 142)\" style=\"width: 30px; height: 30px;background-color: rgb(142, 142, 142);\"></td><td title=\"Index: [4, 3]&#10;Color: (198, 198, 198)\" style=\"width: 30px; height: 30px;background-color: rgb(198, 198, 198);\"></td><td title=\"Index: [4, 4]&#10;Color: (255, 255, 255)\" style=\"width: 30px; height: 30px;background-color: rgb(255, 255, 255);\"></td></tr></tbody></table>"
      ],
      "text/plain": [
       "<ipythonblocks.ipythonblocks.BlockGrid at 0x7f606c6e5710>"
      ]
     },
     "execution_count": 10,
     "metadata": {},
     "output_type": "execute_result"
    }
   ],
   "source": [
    "affiche_ipythonblocks(degrade_Est)"
   ]
  },
  {
   "cell_type": "markdown",
   "metadata": {},
   "source": [
    "$$ degrade\\_Sud\\_Est = \\begin{pmatrix}\n",
    "& 1 & 2 & 3 & 4 & 5 & \\\\\n",
    "& 2 & 3 & 4 & 5 & 6 & \\\\\n",
    "& 3 & 4 & 5 & 6 & 7 & \\\\\n",
    "& 4 & 5 & 6 & 7 & 8 & \\\\\n",
    "& 5 & 6 & 7 & 8 & 9 & \\\\\n",
    "\\end{pmatrix}$$"
   ]
  },
  {
   "cell_type": "code",
   "execution_count": 11,
   "metadata": {},
   "outputs": [],
   "source": [
    "degrade_Sud_Est = [[1,2,3,4,5],\n",
    "                   [2,3,4,5,6],\n",
    "                   [3,4,5,6,7],\n",
    "                   [4,5,6,7,8],\n",
    "                   [5,6,7,8,9]]\n"
   ]
  },
  {
   "cell_type": "code",
   "execution_count": 63,
   "metadata": {},
   "outputs": [
    {
     "data": {
      "text/latex": [
       "$$\\begin{pmatrix}& 1 & 2 & 3 & 4 & 5 & \\\\& 2 & 3 & 4 & 5 & 6 & \\\\& 3 & 4 & 5 & 6 & 7 & \\\\& 4 & 5 & 6 & 7 & 8 & \\\\& 5 & 6 & 7 & 8 & 9 & \\\\\\end{pmatrix}$$"
      ],
      "text/plain": [
       "<IPython.core.display.Latex object>"
      ]
     },
     "execution_count": 63,
     "metadata": {},
     "output_type": "execute_result"
    }
   ],
   "source": [
    "affiche_latex(degrade_Sud_Est)"
   ]
  },
  {
   "cell_type": "code",
   "execution_count": 12,
   "metadata": {},
   "outputs": [
    {
     "data": {
      "text/html": [
       "<style type=\"text/css\">table.blockgrid {border: none;} .blockgrid tr {border: none;} .blockgrid td {padding: 0px;} #blocks634cc8bf-9c21-4830-bd19-bceaf20ea4dc td {border: 1px solid white;}</style><table id=\"blocks634cc8bf-9c21-4830-bd19-bceaf20ea4dc\" class=\"blockgrid\"><tbody><tr><td title=\"Index: [0, 0]&#10;Color: (28, 28, 28)\" style=\"width: 30px; height: 30px;background-color: rgb(28, 28, 28);\"></td><td title=\"Index: [0, 1]&#10;Color: (57, 57, 57)\" style=\"width: 30px; height: 30px;background-color: rgb(57, 57, 57);\"></td><td title=\"Index: [0, 2]&#10;Color: (85, 85, 85)\" style=\"width: 30px; height: 30px;background-color: rgb(85, 85, 85);\"></td><td title=\"Index: [0, 3]&#10;Color: (113, 113, 113)\" style=\"width: 30px; height: 30px;background-color: rgb(113, 113, 113);\"></td><td title=\"Index: [0, 4]&#10;Color: (142, 142, 142)\" style=\"width: 30px; height: 30px;background-color: rgb(142, 142, 142);\"></td></tr><tr><td title=\"Index: [1, 0]&#10;Color: (57, 57, 57)\" style=\"width: 30px; height: 30px;background-color: rgb(57, 57, 57);\"></td><td title=\"Index: [1, 1]&#10;Color: (85, 85, 85)\" style=\"width: 30px; height: 30px;background-color: rgb(85, 85, 85);\"></td><td title=\"Index: [1, 2]&#10;Color: (113, 113, 113)\" style=\"width: 30px; height: 30px;background-color: rgb(113, 113, 113);\"></td><td title=\"Index: [1, 3]&#10;Color: (142, 142, 142)\" style=\"width: 30px; height: 30px;background-color: rgb(142, 142, 142);\"></td><td title=\"Index: [1, 4]&#10;Color: (170, 170, 170)\" style=\"width: 30px; height: 30px;background-color: rgb(170, 170, 170);\"></td></tr><tr><td title=\"Index: [2, 0]&#10;Color: (85, 85, 85)\" style=\"width: 30px; height: 30px;background-color: rgb(85, 85, 85);\"></td><td title=\"Index: [2, 1]&#10;Color: (113, 113, 113)\" style=\"width: 30px; height: 30px;background-color: rgb(113, 113, 113);\"></td><td title=\"Index: [2, 2]&#10;Color: (142, 142, 142)\" style=\"width: 30px; height: 30px;background-color: rgb(142, 142, 142);\"></td><td title=\"Index: [2, 3]&#10;Color: (170, 170, 170)\" style=\"width: 30px; height: 30px;background-color: rgb(170, 170, 170);\"></td><td title=\"Index: [2, 4]&#10;Color: (198, 198, 198)\" style=\"width: 30px; height: 30px;background-color: rgb(198, 198, 198);\"></td></tr><tr><td title=\"Index: [3, 0]&#10;Color: (113, 113, 113)\" style=\"width: 30px; height: 30px;background-color: rgb(113, 113, 113);\"></td><td title=\"Index: [3, 1]&#10;Color: (142, 142, 142)\" style=\"width: 30px; height: 30px;background-color: rgb(142, 142, 142);\"></td><td title=\"Index: [3, 2]&#10;Color: (170, 170, 170)\" style=\"width: 30px; height: 30px;background-color: rgb(170, 170, 170);\"></td><td title=\"Index: [3, 3]&#10;Color: (198, 198, 198)\" style=\"width: 30px; height: 30px;background-color: rgb(198, 198, 198);\"></td><td title=\"Index: [3, 4]&#10;Color: (227, 227, 227)\" style=\"width: 30px; height: 30px;background-color: rgb(227, 227, 227);\"></td></tr><tr><td title=\"Index: [4, 0]&#10;Color: (142, 142, 142)\" style=\"width: 30px; height: 30px;background-color: rgb(142, 142, 142);\"></td><td title=\"Index: [4, 1]&#10;Color: (170, 170, 170)\" style=\"width: 30px; height: 30px;background-color: rgb(170, 170, 170);\"></td><td title=\"Index: [4, 2]&#10;Color: (198, 198, 198)\" style=\"width: 30px; height: 30px;background-color: rgb(198, 198, 198);\"></td><td title=\"Index: [4, 3]&#10;Color: (227, 227, 227)\" style=\"width: 30px; height: 30px;background-color: rgb(227, 227, 227);\"></td><td title=\"Index: [4, 4]&#10;Color: (255, 255, 255)\" style=\"width: 30px; height: 30px;background-color: rgb(255, 255, 255);\"></td></tr></tbody></table>"
      ],
      "text/plain": [
       "<ipythonblocks.ipythonblocks.BlockGrid at 0x7f606c6e7d50>"
      ]
     },
     "execution_count": 12,
     "metadata": {},
     "output_type": "execute_result"
    }
   ],
   "source": [
    "affiche_ipythonblocks(degrade_Sud_Est)"
   ]
  },
  {
   "cell_type": "markdown",
   "metadata": {},
   "source": [
    "<h3 class='fa fa-rocket' style=\"color: tomato\"> Prolongement :</h3>\n",
    "\n",
    "Imaginer d'autres matrices (5x5) et les afficher dans ce notebook..."
   ]
  },
  {
   "cell_type": "code",
   "execution_count": null,
   "metadata": {},
   "outputs": [],
   "source": [
    "autre = []"
   ]
  },
  {
   "cell_type": "markdown",
   "metadata": {},
   "source": [
    "## Quelques opérations sur les matrices\n",
    "\n",
    "### Addition ou Soustraction de matrices :\n",
    "L'addition (ou la soustraction) de deux matrices de même dimension `mat_A` et `mat_B` est égale à la matrice dont chaque coefficient est obtenu en additionnant (ou en soustrayant) les coefficients de la matrice `mat_A` au coefficient correspondant de la matrice `mat_B`.\n",
    "\n",
    "Exemple :\n",
    "\n",
    "$$ \\begin{pmatrix}\n",
    "1 & 2 & 0 \\\\\n",
    "4 & 3 & -1 \\\\\n",
    "\\end{pmatrix} + \\begin{pmatrix}\n",
    "5 & 2 & 3 \\\\\n",
    "1 & 3 & 4 \\\\\n",
    "\\end{pmatrix} =\\begin{pmatrix}\n",
    "6 & 4 & 3 \\\\\n",
    "5 & 6 & 3 \\\\\n",
    "\\end{pmatrix}$$\n",
    "\n",
    "<h3 class='fa fa-cogs' style=\"color: darkorange\"> A faire vous même :</h3>\n",
    "\n",
    "Vérifier cet exemple et documenter la fonction `addition(mat_A, mat_B)` du script suivant :"
   ]
  },
  {
   "cell_type": "code",
   "execution_count": 65,
   "metadata": {},
   "outputs": [
    {
     "data": {
      "text/latex": [
       "$$\\begin{pmatrix}& 6 & 4 & 3 & \\\\& 5 & 6 & 3 & \\\\\\end{pmatrix}$$"
      ],
      "text/plain": [
       "<IPython.core.display.Latex object>"
      ]
     },
     "execution_count": 65,
     "metadata": {},
     "output_type": "execute_result"
    }
   ],
   "source": [
    "def addition(mat_A, mat_B) :\n",
    "    '''\n",
    "    ################################################\n",
    "    #                                              #\n",
    "    #   Documentation de la fonction ...........   #\n",
    "    #                                              #\n",
    "    ################################################\n",
    "    \n",
    "    '''    \n",
    "    return [[(mat_A[i][j] + mat_B[i][j]) for j in range(len(mat_A[0]))] for i in range(len(mat_A))]\n",
    "\n",
    "affiche_latex(addition([[1, 2, 0],[4, 3, -1]],[[5, 2, 3],[1, 3, 4]]))"
   ]
  },
  {
   "cell_type": "markdown",
   "metadata": {},
   "source": [
    "<h3 class='fa fa-code' style=\"color: darkorange\"> A programmer vous même :</h3>\n",
    "\n",
    "- Définir une fonction de soustraction de matrice ;\n",
    "- Afficher les matrices résultantes des opérations :\n",
    "    - `plein_feux - joyeux`\n",
    "    - `plein_feux - fois`\n",
    "    - `plein_feux - degrade_Est`\n",
    "    - `plein_feux - degrade_Sud_Est`\n",
    "    \n",
    "- Comparer les images résultantes avec les images retranchées..."
   ]
  },
  {
   "cell_type": "code",
   "execution_count": 67,
   "metadata": {},
   "outputs": [
    {
     "data": {
      "text/latex": [
       "$$\\begin{pmatrix}& -4 & 0 & -3 & \\\\& 3 & 0 & -5 & \\\\\\end{pmatrix}$$"
      ],
      "text/plain": [
       "<IPython.core.display.Latex object>"
      ]
     },
     "execution_count": 67,
     "metadata": {},
     "output_type": "execute_result"
    }
   ],
   "source": [
    "def soustraction(mat_A, mat_B) :\n",
    "    '''\n",
    "    ################################################\n",
    "    #                                              #\n",
    "    #   Documentation de la fonction ...........   #\n",
    "    #                                              #\n",
    "    ################################################\n",
    "    \n",
    "    '''\n",
    "    return [[(mat_A[i][j] - mat_B[i][j]) for j in range(len(mat_A[0]))] for i in range(len(mat_A))]\n",
    "\n",
    "affiche_latex(soustraction([[1, 2, 0],[4, 3, -1]],[[5, 2, 3],[1, 3, 4]]))"
   ]
  },
  {
   "cell_type": "code",
   "execution_count": 68,
   "metadata": {},
   "outputs": [
    {
     "data": {
      "text/latex": [
       "$$\\begin{pmatrix}& 9 & 9 & 9 & 9 & 9 & \\\\& 9 & 0 & 9 & 0 & 9 & \\\\& 9 & 9 & 9 & 9 & 9 & \\\\& 0 & 9 & 9 & 9 & 0 & \\\\& 9 & 0 & 0 & 0 & 9 & \\\\\\end{pmatrix}$$"
      ],
      "text/plain": [
       "<IPython.core.display.Latex object>"
      ]
     },
     "execution_count": 68,
     "metadata": {},
     "output_type": "execute_result"
    }
   ],
   "source": [
    "affiche_latex(soustraction(plein_feux, joyeux))"
   ]
  },
  {
   "cell_type": "code",
   "execution_count": 69,
   "metadata": {},
   "outputs": [
    {
     "data": {
      "text/html": [
       "<style type=\"text/css\">table.blockgrid {border: none;} .blockgrid tr {border: none;} .blockgrid td {padding: 0px;} #blockse07de394-999e-4f8c-a6e0-f50b94216af0 td {border: 1px solid white;}</style><table id=\"blockse07de394-999e-4f8c-a6e0-f50b94216af0\" class=\"blockgrid\"><tbody><tr><td title=\"Index: [0, 0]&#10;Color: (250, 0, 0)\" style=\"width: 30px; height: 30px;background-color: rgb(250, 0, 0);\"></td><td title=\"Index: [0, 1]&#10;Color: (250, 0, 0)\" style=\"width: 30px; height: 30px;background-color: rgb(250, 0, 0);\"></td><td title=\"Index: [0, 2]&#10;Color: (250, 0, 0)\" style=\"width: 30px; height: 30px;background-color: rgb(250, 0, 0);\"></td><td title=\"Index: [0, 3]&#10;Color: (250, 0, 0)\" style=\"width: 30px; height: 30px;background-color: rgb(250, 0, 0);\"></td><td title=\"Index: [0, 4]&#10;Color: (250, 0, 0)\" style=\"width: 30px; height: 30px;background-color: rgb(250, 0, 0);\"></td></tr><tr><td title=\"Index: [1, 0]&#10;Color: (250, 0, 0)\" style=\"width: 30px; height: 30px;background-color: rgb(250, 0, 0);\"></td><td title=\"Index: [1, 1]&#10;Color: (0, 0, 0)\" style=\"width: 30px; height: 30px;background-color: rgb(0, 0, 0);\"></td><td title=\"Index: [1, 2]&#10;Color: (250, 0, 0)\" style=\"width: 30px; height: 30px;background-color: rgb(250, 0, 0);\"></td><td title=\"Index: [1, 3]&#10;Color: (0, 0, 0)\" style=\"width: 30px; height: 30px;background-color: rgb(0, 0, 0);\"></td><td title=\"Index: [1, 4]&#10;Color: (250, 0, 0)\" style=\"width: 30px; height: 30px;background-color: rgb(250, 0, 0);\"></td></tr><tr><td title=\"Index: [2, 0]&#10;Color: (250, 0, 0)\" style=\"width: 30px; height: 30px;background-color: rgb(250, 0, 0);\"></td><td title=\"Index: [2, 1]&#10;Color: (250, 0, 0)\" style=\"width: 30px; height: 30px;background-color: rgb(250, 0, 0);\"></td><td title=\"Index: [2, 2]&#10;Color: (250, 0, 0)\" style=\"width: 30px; height: 30px;background-color: rgb(250, 0, 0);\"></td><td title=\"Index: [2, 3]&#10;Color: (250, 0, 0)\" style=\"width: 30px; height: 30px;background-color: rgb(250, 0, 0);\"></td><td title=\"Index: [2, 4]&#10;Color: (250, 0, 0)\" style=\"width: 30px; height: 30px;background-color: rgb(250, 0, 0);\"></td></tr><tr><td title=\"Index: [3, 0]&#10;Color: (0, 0, 0)\" style=\"width: 30px; height: 30px;background-color: rgb(0, 0, 0);\"></td><td title=\"Index: [3, 1]&#10;Color: (250, 0, 0)\" style=\"width: 30px; height: 30px;background-color: rgb(250, 0, 0);\"></td><td title=\"Index: [3, 2]&#10;Color: (250, 0, 0)\" style=\"width: 30px; height: 30px;background-color: rgb(250, 0, 0);\"></td><td title=\"Index: [3, 3]&#10;Color: (250, 0, 0)\" style=\"width: 30px; height: 30px;background-color: rgb(250, 0, 0);\"></td><td title=\"Index: [3, 4]&#10;Color: (0, 0, 0)\" style=\"width: 30px; height: 30px;background-color: rgb(0, 0, 0);\"></td></tr><tr><td title=\"Index: [4, 0]&#10;Color: (250, 0, 0)\" style=\"width: 30px; height: 30px;background-color: rgb(250, 0, 0);\"></td><td title=\"Index: [4, 1]&#10;Color: (0, 0, 0)\" style=\"width: 30px; height: 30px;background-color: rgb(0, 0, 0);\"></td><td title=\"Index: [4, 2]&#10;Color: (0, 0, 0)\" style=\"width: 30px; height: 30px;background-color: rgb(0, 0, 0);\"></td><td title=\"Index: [4, 3]&#10;Color: (0, 0, 0)\" style=\"width: 30px; height: 30px;background-color: rgb(0, 0, 0);\"></td><td title=\"Index: [4, 4]&#10;Color: (250, 0, 0)\" style=\"width: 30px; height: 30px;background-color: rgb(250, 0, 0);\"></td></tr></tbody></table>"
      ],
      "text/plain": [
       "<ipythonblocks.ipythonblocks.BlockGrid at 0x7f5a84176810>"
      ]
     },
     "execution_count": 69,
     "metadata": {},
     "output_type": "execute_result"
    }
   ],
   "source": [
    "affiche_ipythonblocks(soustraction(plein_feux, joyeux))"
   ]
  },
  {
   "cell_type": "markdown",
   "metadata": {},
   "source": [
    "### Transposition d'une matrice :\n",
    "\n",
    "La transposée $^tM$ d'une matrice $M(m\\times n)$ est la matrice $(n\\times m)$ obtenue en échangeant les lignes et les colonnes de la matrice $M$.\n",
    "\n",
    "Exemple :\n",
    "\n",
    "Pour : \n",
    "$M=\\begin{pmatrix}\n",
    "1 & 2 & 0 \\\\\n",
    "4 & 3 & -1 \\\\\n",
    "\\end{pmatrix}$\n",
    "\n",
    "Alors : \n",
    "$^tM=\\begin{pmatrix}\n",
    "1 & 4  \\\\\n",
    "2 & 3  \\\\\n",
    "0 &-1 \n",
    "\\end{pmatrix}$\n",
    "\n",
    "<h3 class='fa fa-code' style=\"color: darkorange\"> A coder vous même :</h3>\n",
    "\n",
    "Définir une fonction `transpose(matrice)` qui :\n",
    "   - prend en paramètre une matrice (mxn) dont les éléments sont des nombres entiers ;\n",
    "   - renvoie la matrice transposée (nxm). \n",
    "\n",
    "Appliquer votre fonction pour calculer les tranposées des matrices (5x5) précédentes..."
   ]
  },
  {
   "cell_type": "code",
   "execution_count": null,
   "metadata": {},
   "outputs": [],
   "source": [
    "def transpose(matrice) :\n",
    "    '''\n",
    "    ################################################\n",
    "    #                                              #\n",
    "    #   Documentation de la fonction ...........   #\n",
    "    #                                              #\n",
    "    ################################################\n",
    "    \n",
    "    '''\n",
    "    return []"
   ]
  },
  {
   "cell_type": "markdown",
   "metadata": {},
   "source": [
    "## Un peu d'animation :\n",
    "\n",
    "### Sur un BBC micro:bit :\n",
    "\n",
    "<h3 class='fa fa-cogs' style=\"color: darkorange\"> A faire vous même :</h3>\n",
    "\n",
    "- Compléter le programme suivant en y intégrant vos développements précédents puis le tester sur simulateur et sur BBC micro:bit ;\n",
    "- Expliquer le calcul `k % len(ecrans)`"
   ]
  },
  {
   "cell_type": "code",
   "execution_count": null,
   "metadata": {},
   "outputs": [],
   "source": [
    "from microbit import *\n",
    "\n",
    "plein_feux = []\n",
    "plus = []\n",
    "fois = []\n",
    "\n",
    "\n",
    "def affiche_microbit(matrice) :\n",
    "    for i \n",
    "        for j\n",
    "    return\n",
    "            \n",
    "def soustraction(mat_A, mat_B) :\n",
    "    return []\n",
    "\n",
    "\n",
    "ecrans = [plein_feux,\n",
    "          soustraction(plein_feux, plus),\n",
    "          plus,\n",
    "          soustraction(plein_feux, plein_feux),\n",
    "          fois,\n",
    "          soustraction(plein_feux, fois)]            \n",
    "            \n",
    "k = 0\n",
    " \n",
    "while k < 100 :\n",
    "    affiche_microbit(ecrans[k % len(ecrans)])\n",
    "    sleep(500)\n",
    "    k+=1"
   ]
  },
  {
   "cell_type": "markdown",
   "metadata": {},
   "source": [
    "### Avec IpythonBlocks dans ce notebook :\n",
    "\n",
    "La fonction `flash()` d'une instance de BlockGrid permet un affichage animé selon le paramètre de temps `display_time` :"
   ]
  },
  {
   "cell_type": "code",
   "execution_count": null,
   "metadata": {},
   "outputs": [],
   "source": [
    "from ipythonblocks import BlockGrid\n",
    "\n",
    "ecrans = [plein_feux,\n",
    "          soustraction(plein_feux, plus),\n",
    "          plus,\n",
    "          soustraction(plein_feux, plein_feux),\n",
    "          fois,\n",
    "          soustraction(plein_feux, fois)]            \n",
    "            \n",
    "k = 0\n",
    " \n",
    "while k < 100 :\n",
    "    affiche_ipythonblocks(ecrans[k % len(ecrans)]).flash(display_time=0.5)\n",
    "    k+=1"
   ]
  },
  {
   "cell_type": "markdown",
   "metadata": {},
   "source": [
    "## Affichage avec ipycanvas dans ce notebook jupyter :\n",
    "\n",
    "Reproduire aves le module ipycanvas un affichage similaire à celui obtenu avec IPythonBlocks :"
   ]
  },
  {
   "cell_type": "code",
   "execution_count": null,
   "metadata": {},
   "outputs": [],
   "source": [
    "from ipycanvas import Canvas\n",
    "\n",
    "def affiche_ipycanvas(matrice) :\n",
    "    maGrille = Canvas(width=..., height=...)\n",
    "    for i  \n",
    "        for j \n",
    "            \n",
    "            \n",
    "            \n",
    "    return maGrille"
   ]
  },
  {
   "cell_type": "code",
   "execution_count": null,
   "metadata": {},
   "outputs": [],
   "source": [
    "affiche_ipycanvas(joyeux)"
   ]
  },
  {
   "cell_type": "markdown",
   "metadata": {},
   "source": [
    "<h3 class='fa fa-rocket' style=\"color: tomato\"> Prolongement :</h3>\n",
    "\n",
    "Imaginer d'autres animations...\n",
    "\n",
    "Développer de nouvelles matrices...\n",
    "\n",
    "Développer de nouvelles opérations sur des matrices...\n",
    "\n",
    "Développer d'autres fonctions d'affichage :\n",
    "    - Dans un notebook avec des fonctions Ipython.display comme HTML, SVG, \n",
    "    - Pour d'autres matrices à LEDs :\n",
    "        - Matrice 8x8 pour BBC microbit\n",
    "        - SenseHat sur RaspberryPi\n",
    "        - Anneau pour BBC microbit\n",
    "        - Anneau de CPX\n",
    "        - Anneau d'Halocode     \n"
   ]
  },
  {
   "cell_type": "markdown",
   "metadata": {},
   "source": [
    "****\n",
    "## Références aux programmes :\n",
    "\n",
    "<style type=\"text/css\">\n",
    ".tg  {border-collapse:collapse;border-spacing:0;}\n",
    ".tg td{font-family:Arial, sans-serif;font-size:14px;padding:10px 5px;border-style:solid;border-width:1px;overflow:hidden;word-break:normal;border-color:black;}\n",
    ".tg th{font-family:Arial, sans-serif;font-size:14px;font-weight:normal;padding:10px 5px;border-style:solid;border-width:1px;overflow:hidden;word-break:normal;border-color:black;}\n",
    ".tg .tg-cv16{font-weight:bold;background-color:#dae8fc;border-color:inherit;text-align:center}\n",
    ".tg .tg-xldj{border-color:inherit;text-align:left}\n",
    "</style>\n",
    "<table class=\"tg\">\n",
    "  <tr>\n",
    "    <th class=\"tg-cv16\">Contenus</th>\n",
    "    <th class=\"tg-cv16\">Capacités attendues</th>\n",
    "    <th class=\"tg-cv16\">Commentaires</th>\n",
    "  </tr>\n",
    "  \n",
    "  <tr>\n",
    "    <td class=\"tg-xldj\">Tableau indexé,<br> tableau donné en compréhension</td>\n",
    "    <td class=\"tg-xldj\">Lire et modifier les éléments d’un tableau grâce à leurs index.<br> Construire un tableau par compréhension.<br> Utiliser des tableaux de tableaux pour représenter des matrices : notation a [i] [j].<br>Itérer sur les éléments d’un tableau.\n",
    "</td>\n",
    "    <td class=\"tg-xldj\">Seuls les tableaux dont les éléments sont du même type sont présentés.<br> Aucune connaissance des\n",
    "tranches (slices) n’est exigible. <br> L’aspect dynamique des tableaux de Python n’est pas évoqué.<br> Python identifie listes et tableaux. <br>Il n’est pas fait référence aux tableaux de la bibliothèque NumPy.\n",
    "</td>\n",
    "  </tr>\n",
    " \n",
    "</table>\n",
    "<br>\n",
    "<br>\n",
    "<table class=\"tg\">\n",
    "  <tr>\n",
    "    <th class=\"tg-cv16\">Contenus</th>\n",
    "    <th class=\"tg-cv16\">Capacités attendues</th>\n",
    "    <th class=\"tg-cv16\">Commentaires</th>\n",
    "  </tr>\n",
    "  <tr>\n",
    "    <td class=\"tg-xldj\">Spécification.</td>\n",
    "    <td class=\"tg-xldj\">Prototyper une fonction.<br>Décrire les préconditions sur les arguments.<br>Décrire des postconditions sur les résultats.</td>\n",
    "    <td class=\"tg-xldj\">Des assertions peuvent être utilisées pour garantir des préconditions ou des postconditions.</td>\n",
    "  </tr>\n",
    "  <tr>\n",
    "    <td class=\"tg-xldj\">Mise au point de programmes</td>\n",
    "    <td class=\"tg-xldj\">Utiliser des jeux de tests.</td>\n",
    "    <td class=\"tg-xldj\">L’importance de la qualité et du nombre des tests est mise en évidence.<br>Le succès d’un jeu de tests ne garantit pas la correction d’un programme.</td>\n",
    "  </tr>\n",
    "  <tr>\n",
    "    <td class=\"tg-xldj\">Utilisation de bibliothèques</td>\n",
    "    <td class=\"tg-xldj\">Utiliser la documentation d’une bibliothèque.</td>\n",
    "    <td class=\"tg-xldj\">Aucune connaissance exhaustive d’une bibliothèque particulière n’est exigible.</td>\n",
    "  </tr>  \n",
    "</table>"
   ]
  },
  {
   "cell_type": "markdown",
   "metadata": {},
   "source": [
    "<a rel=\"license\" href=\"http://creativecommons.org/licenses/by-sa/4.0/\"><img alt=\"Licence Creative Commons\" style=\"border-width:0\" src=\"https://i.creativecommons.org/l/by-sa/4.0/88x31.png\" /></a><br />Ce document est mis à disposition selon les termes de la <a rel=\"license\" href=\"http://creativecommons.org/licenses/by-sa/4.0/\">Licence Creative Commons Attribution -  Partage dans les Mêmes Conditions 4.0 International</a>.\n",
    "\n",
    "Pour toute question, suggestion ou commentaire : <a href=\"mailto:eric.madec@ecmorlaix.fr\">eric.madec@ecmorlaix.fr</a>"
   ]
  }
 ],
 "metadata": {
  "kernelspec": {
   "display_name": "Python 3",
   "language": "python",
   "name": "python3"
  },
  "language_info": {
   "codemirror_mode": {
    "name": "ipython",
    "version": 3
   },
   "file_extension": ".py",
   "mimetype": "text/x-python",
   "name": "python",
   "nbconvert_exporter": "python",
   "pygments_lexer": "ipython3",
   "version": "3.7.10"
  },
  "varInspector": {
   "cols": {
    "lenName": 16,
    "lenType": 16,
    "lenVar": 40
   },
   "kernels_config": {
    "python": {
     "delete_cmd_postfix": "",
     "delete_cmd_prefix": "del ",
     "library": "var_list.py",
     "varRefreshCmd": "print(var_dic_list())"
    },
    "r": {
     "delete_cmd_postfix": ") ",
     "delete_cmd_prefix": "rm(",
     "library": "var_list.r",
     "varRefreshCmd": "cat(var_dic_list()) "
    }
   },
   "types_to_exclude": [
    "module",
    "function",
    "builtin_function_or_method",
    "instance",
    "_Feature"
   ],
   "window_display": false
  }
 },
 "nbformat": 4,
 "nbformat_minor": 2
}
