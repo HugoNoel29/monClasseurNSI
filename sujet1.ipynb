{
 "cells": [
  {
   "cell_type": "markdown",
   "metadata": {},
   "source": [
    "<h1> Exercice 1<h1>"
   ]
  },
  {
   "cell_type": "code",
   "execution_count": 1,
   "metadata": {},
   "outputs": [],
   "source": [
    "def recherche(caractere : str, mot : str) -> int :\n",
    "    \"\"\"\n",
    "    La fonction recherche le nombre d'occurence d'un caractère dans une suite de caractère (mot, phrase, etc.)\n",
    "    \"\"\"\n",
    "    assert len(caractere) == 1, \"Le caractere à chercher doit avoir une longeur de 1\"\n",
    "\n",
    "    nb_occurence = 0\n",
    "    for i in mot :\n",
    "        if i == caractere :\n",
    "            nb_occurence += 1\n",
    "    return nb_occurence"
   ]
  },
  {
   "cell_type": "code",
   "execution_count": 2,
   "metadata": {},
   "outputs": [
    {
     "data": {
      "text/plain": [
       "2"
      ]
     },
     "execution_count": 2,
     "metadata": {},
     "output_type": "execute_result"
    }
   ],
   "source": [
    "recherche('e', \"sciences\")"
   ]
  },
  {
   "cell_type": "code",
   "execution_count": 3,
   "metadata": {},
   "outputs": [
    {
     "data": {
      "text/plain": [
       "4"
      ]
     },
     "execution_count": 3,
     "metadata": {},
     "output_type": "execute_result"
    }
   ],
   "source": [
    "recherche('i',\"mississippi\")\n"
   ]
  },
  {
   "cell_type": "code",
   "execution_count": 4,
   "metadata": {},
   "outputs": [
    {
     "data": {
      "text/plain": [
       "0"
      ]
     },
     "execution_count": 4,
     "metadata": {},
     "output_type": "execute_result"
    }
   ],
   "source": [
    "recherche('a',\"mississippi\")"
   ]
  },
  {
   "cell_type": "markdown",
   "metadata": {},
   "source": [
    "<h1>Exercice 2<h1>"
   ]
  },
  {
   "cell_type": "code",
   "execution_count": 16,
   "metadata": {},
   "outputs": [],
   "source": [
    "pieces = [100,50,20,10,5,2,1]\n",
    "\n",
    "def rendu_glouton(arendre : int, solution=[], i=0) :\n",
    "    \"\"\"\n",
    "    La fonction calcule quelle(s) pièce(s) (parmis une liste de pièces données) il faut rendre (à la caisse par exemple)\n",
    "    \"\"\"\n",
    "\n",
    "    \"\"\"\n",
    "    CES ASSERT SONT UNE MAUVAISE IDEE\n",
    "    (DE MANIERE GENERALE LES ASSERT SONT UNE MAUVAISE IDEE DANS UNE FONCTION RECURSIVE)\n",
    "\n",
    "    assert solution == [], \"La deuxième paramètre doit être []\"\n",
    "    assert i == 0, \"Le troisième parametre doit être 0\"\n",
    "    \"\"\"\n",
    "\n",
    "    if arendre == 0 :\n",
    "        return solution\n",
    "    p = pieces[i]\n",
    "    if p <= arendre :\n",
    "        solution.append(pieces[i])\n",
    "        return rendu_glouton(arendre - p, solution, i)\n",
    "    else :\n",
    "        return rendu_glouton(arendre, solution, i+1)"
   ]
  },
  {
   "cell_type": "code",
   "execution_count": 17,
   "metadata": {},
   "outputs": [
    {
     "data": {
      "text/plain": [
       "[50, 10, 5, 2, 1]"
      ]
     },
     "execution_count": 17,
     "metadata": {},
     "output_type": "execute_result"
    }
   ],
   "source": [
    "rendu_glouton(68,[],0)"
   ]
  },
  {
   "cell_type": "code",
   "execution_count": 18,
   "metadata": {},
   "outputs": [
    {
     "data": {
      "text/plain": [
       "[100, 100, 50, 20, 20, 1]"
      ]
     },
     "execution_count": 18,
     "metadata": {},
     "output_type": "execute_result"
    }
   ],
   "source": [
    "rendu_glouton(291,[],0)"
   ]
  }
 ],
 "metadata": {
  "interpreter": {
   "hash": "c535f766096f575e5993344ecf38043c94305985d3bbdfcb24d1ab2af40cf48e"
  },
  "kernelspec": {
   "display_name": "Python 3.9.4 64-bit",
   "language": "python",
   "name": "python3"
  },
  "language_info": {
   "codemirror_mode": {
    "name": "ipython",
    "version": 3
   },
   "file_extension": ".py",
   "mimetype": "text/x-python",
   "name": "python",
   "nbconvert_exporter": "python",
   "pygments_lexer": "ipython3",
   "version": "3.9.4"
  },
  "orig_nbformat": 4
 },
 "nbformat": 4,
 "nbformat_minor": 2
}
