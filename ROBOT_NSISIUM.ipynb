{
 "cells": [
  {
   "cell_type": "markdown",
   "source": [
    "<h1>CPATUR : BOOBY LE ROBOT</h2>"
   ],
   "metadata": {}
  },
  {
   "cell_type": "markdown",
   "source": [
    "<h2>PAR HUGO, NOÉ ET ROBIN</h2>"
   ],
   "metadata": {}
  },
  {
   "cell_type": "markdown",
   "source": [
    "<center>\r\n",
    "    <figure>\r\n",
    "        <img src=\"./Images/captur_reseau.jpg\" alt=\"captur_reseau\" title=\"captur_reseau\" width=80%>\r\n",
    "    <figcaption><h1>Le robot captur dans son réseau LAN</h1></figcaption>\r\n",
    "    </figure>\r\n",
    "</center>"
   ],
   "metadata": {}
  },
  {
   "cell_type": "markdown",
   "source": [
    "<center>\r\n",
    "    <figure>\r\n",
    "        <img src=\"./Images/noe image.png\" alt=\"Diagramme\" title=\"Diagramme\" width=80%>\r\n",
    "    <figcaption><h1>Un organigramme des fichiers permettant le fonctionnement du robot</h1></figcaption>\r\n",
    "    </figure>\r\n",
    "</center>"
   ],
   "metadata": {}
  },
  {
   "cell_type": "markdown",
   "source": [
    "<h1>Les commandes a faire pour faire fonctionner le robot depuis ISH SHELL :</h1>\r\n",
    "\r\n",
    "<h2>$ ssh robot@192.168.2.103</h2>\r\n",
    "\r\n",
    "<h2>$ cd Robin_NSI/</h2>\r\n",
    "\r\n",
    "<h2>$ brickrun pybricks-micropython main.py</h2>"
   ],
   "metadata": {}
  }
 ],
 "metadata": {
  "orig_nbformat": 4,
  "language_info": {
   "name": "python",
   "version": "3.9.1",
   "mimetype": "text/x-python",
   "codemirror_mode": {
    "name": "ipython",
    "version": 3
   },
   "pygments_lexer": "ipython3",
   "nbconvert_exporter": "python",
   "file_extension": ".py"
  },
  "kernelspec": {
   "name": "python3",
   "display_name": "Python 3.9.1 64-bit"
  },
  "interpreter": {
   "hash": "d392c9ddaa6b365e1706bdbc6bd2786d403f6271a103ff8a7f34ee918c5830ad"
  }
 },
 "nbformat": 4,
 "nbformat_minor": 2
}