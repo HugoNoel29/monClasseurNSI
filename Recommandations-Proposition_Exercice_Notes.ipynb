{
 "cells": [
  {
   "cell_type": "markdown",
   "source": [
    "<h1>Quelques recommandations de programmation afin d'anticiper des erreurs...</h1>\n",
    "\n",
    "<h3>Eviter de développer des dizaines de lignes de code dans un seul bloc.</h3>\n",
    "\n",
    "  Il vaut mieux découper son algorithme en fonctions où chaque fonction réalise une tâche précise. Ces fonctions pourront être éventuellement réutilisées ensuite dans un autre contexte. Recommencer à coder une solution c'est investir à nouveau du temps de développement, de degogage, de documentation, ... De plus, il est toujours plus compliqué de chercher une erreur d'algorithme dans 200 lignes de code que dans une des 20 fonctions de 10 lignes chacune.\n",
    "  \n",
    "<h3>Utiliser des assertions comme \"garde fou\"</h3>\n",
    "\n",
    "  <code>assert condition,\"texte d'explication\"</code>\n",
    "  \n",
    "  \n",
    "  > Revoir : [Fonctions_et_modularisation.ipynb](https://nbviewer.jupyter.org/github/ericECmorlaix/1NSI_2019-2020/blob/master/Fonctions_et_modularisation.ipynb)\n",
    "\n",
    "\n",
    "<h3>Développer son algorithme grace aux commentaires</h3>\n",
    "\n",
    "  Avant de commencer à coder assurez vous d'avoir une idée claire de vote algorithme. \n",
    "  \n",
    "  Une méthode efficace consiste à :\n",
    "  \n",
    "  1. Ecrire son algorithme sous forme de commentaires\n",
    "  \n",
    "  2. Si certaines parties de l'algorithme ne sont pas encore suffisamment précises, elles pourront être détaillées ensuite dans une fonction spécifique\n",
    "  \n",
    "  3. Lorsque des fonctions ou méthodes sont stables et éprouvées, elles  peuvent être placées dans des bibliothèques pour alléger la lecture du code... => [Fonctions_et_modularisation.ipynb#Modules-:](https://nbviewer.jupyter.org/github/ericECmorlaix/1NSI_2019-2020/blob/master/Fonctions_et_modularisation.ipynb#Modules-:)\n",
    "\n",
    "<h3>Gérer les situations problématiques sans provoquer de message d'erreur ou de \"plantage\"</h3>\n",
    "<h4> try : ... raise ... except ... :</h4>\n",
    "\n",
    "  Si on souhaite éviter une situation de plantage lors d'une erreur, il faut gérer les erreurs provoquées lors de l'exécution de la fonction.\n",
    "\n",
    "*Exemple : un système automatisé doit être capable d'indiquer qu'une commande est incorrecte sans pour cela s'arrêter*\n",
    "\n",
    "<code>\n",
    "  try : <br>\n",
    "&nbsp;&nbsp;&nbsp;if not {condition à respecter} :<br>\n",
    "&nbsp;&nbsp;&nbsp;&nbsp;&nbsp;&nbsp;raise {type d'erreur}()<br>\n",
    "&nbsp;&nbsp;&nbsp;except {type d'erreur} :<br>\n",
    "&nbsp;&nbsp;&nbsp;&nbsp;&nbsp;&nbsp;*Gérer la situation avant de sortir de la fonction*\n",
    "</code><br>\n",
    "\n",
    "Sources d'informations à lire :\n",
    "  - https://docs.python.org/fr/3.5/tutorial/errors.html\n",
    "  - https://openclassrooms.com/fr/courses/235344-apprenez-a-programmer-en-python/231688-gerez-les-exceptions\n",
    "\n",
    "\n",
    "\n",
    "## Exemple avec l'exercice : Série de notes\n",
    "Écrire un programme qui permet :\n",
    "- de demander à l’utilisateur combien de notes il souhaite saisir → [ n ]\n",
    "\n",
    "- de saisir les [ n ] notes comprise entre [ 0 ; 20 ]\n",
    "- d’afficher la note la plus faible et la note la plus élevée\n",
    "- de calculer la moyenne"
   ],
   "metadata": {}
  },
  {
   "cell_type": "markdown",
   "source": [
    "## Construction de l'algorithme :"
   ],
   "metadata": {}
  },
  {
   "cell_type": "code",
   "execution_count": null,
   "source": [
    "# Construction du programme à développer à l'aide des commentaires :\r\n",
    "\r\n",
    "# demander à l’utilisateur combien de notes il souhaite saisir → [ n ]\r\n",
    "nb_notes = demander_entier(\"Combien de notes sont à saisir ? \")\r\n",
    "\r\n",
    "# saisir les [ n ] notes comprise entre [ 0 ; 20 ]\r\n",
    "notes = [ saisir_note() for i in range(nb_notes)] # Complété en classe\r\n",
    "\r\n",
    "# afficher la note la plus faible et la note la plus élevée\r\n",
    "print(f\"La note mini est {minimum_table(notes)}\")\r\n",
    "print(f\"La note maxi est {maximum_table(notes)}\")\r\n",
    "\r\n",
    "# calculer la moyenne\r\n",
    "print(f\"La moyenne des notes est {moyenne_table(notes)}\")"
   ],
   "outputs": [],
   "metadata": {}
  },
  {
   "cell_type": "markdown",
   "source": [
    "## Une première version pour `demander_entier()` :"
   ],
   "metadata": {}
  },
  {
   "cell_type": "code",
   "execution_count": null,
   "source": [
    "def demander_entier_V1(message : str) -> int :\r\n",
    "    \"\"\" ==================================================================================================================\r\n",
    "    \r\n",
    "        * Description : \r\n",
    "            Je demande à l'utilisateur un nombre correspondant à la question du message et renvoie le résultat au format entier ;\r\n",
    "                > Remarque : Ici, pas de gestion de vérification de validité de la saisie utilisateur.\r\n",
    "                        \r\n",
    "        * Exemple :\r\n",
    "            >>> demander_entier(\"Combien de notes sont à saisir ? \")\r\n",
    "            Combien de notes sont à saisir ? 5\r\n",
    "            5\r\n",
    "                    \r\n",
    "        * Préconditions :\r\n",
    "            message (str) : question définissant le nombre à saisir ;\r\n",
    "                    \r\n",
    "        * Postconditions :\r\n",
    "            (int) : la valeur saisie convertie en entier.       \r\n",
    "        \r\n",
    "        ==================================================================================================================\r\n",
    "    \"\"\"\r\n",
    "    # Assertions de vérification des préconditions :\r\n",
    "    assert type(message) == str  , \"Le message doit être une chaine de caractères.\"\r\n",
    "            \r\n",
    "    # bloc d'instructions :\r\n",
    "    nombre = int(input(message))\r\n",
    "    return nombre"
   ],
   "outputs": [],
   "metadata": {}
  },
  {
   "cell_type": "markdown",
   "source": [
    "### Pour tester :"
   ],
   "metadata": {}
  },
  {
   "cell_type": "code",
   "execution_count": null,
   "source": [
    "help(demander_entier_V1)"
   ],
   "outputs": [],
   "metadata": {}
  },
  {
   "cell_type": "code",
   "execution_count": null,
   "source": [
    "nb_notes = demander_entier_V1(10)"
   ],
   "outputs": [],
   "metadata": {}
  },
  {
   "cell_type": "code",
   "execution_count": null,
   "source": [
    "nb_notes = demander_entier_V1(\"Combien de notes sont à saisir ? \") # Tester avec les saisies 5, 5.0, toto "
   ],
   "outputs": [],
   "metadata": {}
  },
  {
   "cell_type": "markdown",
   "source": [
    "## Une seconde version pour `demander_entier()` :"
   ],
   "metadata": {}
  },
  {
   "cell_type": "code",
   "execution_count": 3,
   "source": [
    "def demander_entier_V2(message : str) -> int :\r\n",
    "    \"\"\" ==================================================================================================================\r\n",
    "    \r\n",
    "        * Description : \r\n",
    "            Je demande à l'utilisateur un nombre correspondant à la question du message et renvoie le résultat au format entier ;\r\n",
    "                > avec une gestion de vérification de la validité de la saisie utilisateur.\r\n",
    "                        \r\n",
    "        * Exemple :\r\n",
    "            >>> demander_entier(\"Combien de notes sont à saisir ? \")\r\n",
    "            Combien de notes sont à saisir ? 5\r\n",
    "            5\r\n",
    "                                           \r\n",
    "        * Préconditions :\r\n",
    "            message (str) : question définissant le nombre à saisir ;\r\n",
    "                    \r\n",
    "        * Postconditions :\r\n",
    "            (int) : la valeur saisie convertie en entier.       \r\n",
    "        \r\n",
    "        ==================================================================================================================\r\n",
    "    \"\"\"\r\n",
    "    # Assertions de vérification des préconditions :\r\n",
    "    assert type(message) == str  , \"Le message doit être une chaine de caractères.\"\r\n",
    "            \r\n",
    "    # bloc d'instructions :\r\n",
    "    try :\r\n",
    "        nombre = int(input(message))\r\n",
    "        return nombre\r\n",
    "    except ValueError :\r\n",
    "        print(\"La valeur saisie doit être convertible en un nombre entier exprimé en base 10 : \\n    -> la saisie ne doit pas contenir d'autres caractères que 0, 1, 2, 3, 4, 5, 6, 7, 8, 9\")\r\n",
    "        "
   ],
   "outputs": [],
   "metadata": {}
  },
  {
   "cell_type": "markdown",
   "source": [
    "### Pour tester :"
   ],
   "metadata": {}
  },
  {
   "cell_type": "code",
   "execution_count": 4,
   "source": [
    "demander_entier_V2(\"Combien de notes sont à saisir ? \") # Tester avec les saisies 5, 5.0, toto "
   ],
   "outputs": [
    {
     "output_type": "execute_result",
     "data": {
      "text/plain": [
       "5"
      ]
     },
     "metadata": {},
     "execution_count": 4
    }
   ],
   "metadata": {}
  },
  {
   "cell_type": "markdown",
   "source": [
    "## Autres fonctions :"
   ],
   "metadata": {}
  },
  {
   "cell_type": "code",
   "execution_count": 50,
   "source": [
    "def saisir_note() -> float :\r\n",
    "    \"\"\" ==================================================================================================================\r\n",
    "    \r\n",
    "        * Description : La fonction demande a l'utilisateur de saisir un nombre \r\n",
    "\r\n",
    "        * Exemple : \r\n",
    "            >>> nombre = saisir_note()\r\n",
    "            Entrez le nombre de notes   14\r\n",
    "\r\n",
    "            nombre\r\n",
    "            14\r\n",
    "\r\n",
    "        * Préconditions : \r\n",
    "            L'entrée de l'utilisateur doit êtr de type float ou int\r\n",
    "          \r\n",
    "        * Postconditions :\r\n",
    "            (float) : la valeur saisie convertie en float.       \r\n",
    "        \r\n",
    "        ==================================================================================================================\r\n",
    "    \"\"\"\r\n",
    "\r\n",
    "    try :\r\n",
    "        note = float(input(\"Entrez le nombre de notes\")) \r\n",
    "        assert type(note) == float or int\r\n",
    "        return note\r\n",
    " \r\n",
    "    except ValueError :\r\n",
    "        print(f\"L'entrée doit etre un float ou un int\")\r\n",
    "\r\n"
   ],
   "outputs": [],
   "metadata": {}
  },
  {
   "cell_type": "code",
   "execution_count": 51,
   "source": [
    "nombre = saisir_note()\r\n",
    "nombre"
   ],
   "outputs": [
    {
     "output_type": "execute_result",
     "data": {
      "text/plain": [
       "74"
      ]
     },
     "metadata": {},
     "execution_count": 51
    }
   ],
   "metadata": {}
  },
  {
   "cell_type": "code",
   "execution_count": 52,
   "source": [
    "nb_notes = saisir_note()\r\n",
    "nb_notes"
   ],
   "outputs": [
    {
     "output_type": "stream",
     "name": "stdout",
     "text": [
      "L'entrée doit etre un float ou un int\n"
     ]
    }
   ],
   "metadata": {}
  },
  {
   "cell_type": "code",
   "execution_count": 53,
   "source": [
    "def table_de_notes() -> list :\r\n",
    "    \"\"\" ==================================================================================================================\r\n",
    "    \r\n",
    "        * Description : La fonction demande a l'utilisateur de saisir des un certain nombre de nombres compris entre 0 et 20 et les renvoie sous forme de liste de floats\r\n",
    "\r\n",
    "        * Exemple : \r\n",
    "            >>> nombre = table_de_notes()\r\n",
    "            Entrez le nombre de notes   2\r\n",
    "            Entrez la note comprise entre 0 et 20   5.2\r\n",
    "            Entrez la note comprise entre 0 et 20   12\r\n",
    "            [5.2, 12.0]\r\n",
    "\r\n",
    "\r\n",
    "        * Préconditions : \r\n",
    "            saisir_note() : La fonction créée précédement\r\n",
    "          \r\n",
    "        * Postconditions :\r\n",
    "            (list) : la liste des valeures entrées par l'utilisateur      \r\n",
    "        \r\n",
    "        ==================================================================================================================\r\n",
    "    \"\"\"\r\n",
    "    try :\r\n",
    "        tableau_notes = [float(input(\"Entrez la note comprise entre 0 et 20\")) for _ in range(saisir_note())]\r\n",
    "        return tableau_notes\r\n",
    "    except TypeError :\r\n",
    "        pass"
   ],
   "outputs": [],
   "metadata": {}
  },
  {
   "cell_type": "code",
   "execution_count": 54,
   "source": [
    "tableaux = table_de_notes()\r\n",
    "tableaux"
   ],
   "outputs": [
    {
     "output_type": "execute_result",
     "data": {
      "text/plain": [
       "[12.0, 14.0]"
      ]
     },
     "metadata": {},
     "execution_count": 54
    }
   ],
   "metadata": {}
  },
  {
   "cell_type": "code",
   "execution_count": 55,
   "source": [
    "tableaux1 = table_de_notes()\r\n",
    "tableaux1"
   ],
   "outputs": [
    {
     "output_type": "stream",
     "name": "stdout",
     "text": [
      "L'entrée doit etre un float ou un int\n"
     ]
    }
   ],
   "metadata": {}
  },
  {
   "cell_type": "code",
   "execution_count": 44,
   "source": [
    "def minimum_table(table : list) -> float :\r\n",
    "    \"\"\" ==================================================================================================================\r\n",
    "    \r\n",
    "        * Description : La fonction parcours une liste et renvoie la valeur la plus basse de la liste.\r\n",
    "\r\n",
    "        * Exemple :\r\n",
    "            >>> minimum_tables([1,8,9,5,47,248])\r\n",
    "            1.0            \r\n",
    "        * Préconditions :\r\n",
    "            (list) : une liste de type contenant des int ou des float\r\n",
    "\r\n",
    "        * Postconditions :\r\n",
    "            (float) : la valeur mini de la liste d'entrée.       \r\n",
    "        \r\n",
    "        ==================================================================================================================\r\n",
    "    \"\"\"\r\n",
    "    try :\r\n",
    "        mini = float(table[0])\r\n",
    "        for i in range(len(table)) :\r\n",
    "            if float(table[i]) < mini :\r\n",
    "                mini = float(table[i])           \r\n",
    "        return mini\r\n",
    "    except ValueError :\r\n",
    "        print(f\"L'entrée doit être de type list et dois contenir des int et/ou des float\")"
   ],
   "outputs": [],
   "metadata": {}
  },
  {
   "cell_type": "code",
   "execution_count": 45,
   "source": [
    "minimum_table(\"titi\")"
   ],
   "outputs": [
    {
     "output_type": "stream",
     "name": "stdout",
     "text": [
      "L'entrée doit être de type list et dois contenir des int et/ou des float\n"
     ]
    }
   ],
   "metadata": {}
  },
  {
   "cell_type": "code",
   "execution_count": 47,
   "source": [
    "minimum_table([2452.1545,354.164,51646,54.1684])"
   ],
   "outputs": [
    {
     "output_type": "execute_result",
     "data": {
      "text/plain": [
       "54.1684"
      ]
     },
     "metadata": {},
     "execution_count": 47
    }
   ],
   "metadata": {}
  },
  {
   "cell_type": "code",
   "execution_count": 34,
   "source": [
    "def maximum_table(table : list) -> float :\r\n",
    "    \"\"\" ==================================================================================================================\r\n",
    "    \r\n",
    "        * Description : La fonction parcours une liste et renvoie la valeur la plus haute de la liste.\r\n",
    "\r\n",
    "        * Exemple :\r\n",
    "            >>> maximum_tables([1,8,9,5,47,248])\r\n",
    "            248.0\r\n",
    "\r\n",
    "        * Préconditions :\r\n",
    "            (list) : une liste de type contenant des int ou des float\r\n",
    "\r\n",
    "        * Postconditions :\r\n",
    "            (float) : la valeur maxi de la liste d'entrée.       \r\n",
    "        \r\n",
    "        ==================================================================================================================\r\n",
    "    \"\"\"\r\n",
    "    try :\r\n",
    "        maxi = float(table[0])\r\n",
    "        for i in range(len(table)) :\r\n",
    "            if float(table[i]) > maxi :\r\n",
    "                maxi = float(table[i])           \r\n",
    "        return maxi\r\n",
    "    except ValueError :\r\n",
    "        print(f\"L'entrée doit être de type list et contenir des float ou des int\")\r\n",
    "        "
   ],
   "outputs": [],
   "metadata": {}
  },
  {
   "cell_type": "code",
   "execution_count": 35,
   "source": [
    "maximum_table(\"tata\")"
   ],
   "outputs": [
    {
     "output_type": "stream",
     "name": "stdout",
     "text": [
      "L'entrée doit être de type list et contenir des float ou des int\n"
     ]
    }
   ],
   "metadata": {}
  },
  {
   "cell_type": "code",
   "execution_count": 36,
   "source": [
    "maximum_table([2455,6546464,6846546584])"
   ],
   "outputs": [
    {
     "output_type": "execute_result",
     "data": {
      "text/plain": [
       "6846546584.0"
      ]
     },
     "metadata": {},
     "execution_count": 36
    }
   ],
   "metadata": {}
  },
  {
   "cell_type": "code",
   "execution_count": 37,
   "source": [
    "def moyenne_table(table : list) -> float :\r\n",
    "    \"\"\" ==================================================================================================================\r\n",
    "    \r\n",
    "        * Description : La fonction fait la moyenne des valeurs d'une liste\r\n",
    "\r\n",
    "        *Exemple :\r\n",
    "            >>> moyenne_table([5,10,15])\r\n",
    "            10.0\r\n",
    "        * Préconditions :\r\n",
    "            (list) : une liste de type contenant des int ou des float\r\n",
    "\r\n",
    "        * Postconditions :\r\n",
    "            (float) : la valeur moyenne de la liste d'entrée.       \r\n",
    "        \r\n",
    "        ==================================================================================================================\r\n",
    "    \"\"\"\r\n",
    "    try :\r\n",
    "        return sum(table) / len(table)\r\n",
    "    except ValueError :\r\n",
    "        print(f\"L'entrée doit être de type list\")\r\n",
    "    except TypeError :\r\n",
    "        print(f\"La valeur en entrée doit être une liste de int et/ou de float\")\r\n"
   ],
   "outputs": [],
   "metadata": {}
  },
  {
   "cell_type": "code",
   "execution_count": 38,
   "source": [
    "moyenne_table(\"toto\")"
   ],
   "outputs": [
    {
     "output_type": "stream",
     "name": "stdout",
     "text": [
      "La valeur en entrée doit être une liste de int et/ou de float\n"
     ]
    }
   ],
   "metadata": {}
  },
  {
   "cell_type": "code",
   "execution_count": 40,
   "source": [
    "moyenne_table([454564.145,654654,14454])"
   ],
   "outputs": [
    {
     "output_type": "execute_result",
     "data": {
      "text/plain": [
       "374557.38166666665"
      ]
     },
     "metadata": {},
     "execution_count": 40
    }
   ],
   "metadata": {}
  }
 ],
 "metadata": {
  "kernelspec": {
   "name": "python3",
   "display_name": "Python 3.9.1 64-bit"
  },
  "language_info": {
   "codemirror_mode": {
    "name": "ipython",
    "version": 3
   },
   "file_extension": ".py",
   "mimetype": "text/x-python",
   "name": "python",
   "nbconvert_exporter": "python",
   "pygments_lexer": "ipython3",
   "version": "3.9.1"
  },
  "toc": {
   "base_numbering": 1,
   "nav_menu": {},
   "number_sections": true,
   "sideBar": true,
   "skip_h1_title": false,
   "title_cell": "Table of Contents",
   "title_sidebar": "Contents",
   "toc_cell": false,
   "toc_position": {},
   "toc_section_display": true,
   "toc_window_display": false
  },
  "varInspector": {
   "cols": {
    "lenName": 16,
    "lenType": 16,
    "lenVar": 40
   },
   "kernels_config": {
    "python": {
     "delete_cmd_postfix": "",
     "delete_cmd_prefix": "del ",
     "library": "var_list.py",
     "varRefreshCmd": "print(var_dic_list())"
    },
    "r": {
     "delete_cmd_postfix": ") ",
     "delete_cmd_prefix": "rm(",
     "library": "var_list.r",
     "varRefreshCmd": "cat(var_dic_list()) "
    }
   },
   "types_to_exclude": [
    "module",
    "function",
    "builtin_function_or_method",
    "instance",
    "_Feature"
   ],
   "window_display": false
  },
  "interpreter": {
   "hash": "d392c9ddaa6b365e1706bdbc6bd2786d403f6271a103ff8a7f34ee918c5830ad"
  }
 },
 "nbformat": 4,
 "nbformat_minor": 4
}