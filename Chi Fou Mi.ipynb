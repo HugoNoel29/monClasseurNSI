{
 "cells": [
  {
   "cell_type": "code",
   "execution_count": 1,
   "source": [
    "from random import *\r\n",
    "\r\n",
    "pointJoueur = 0\r\n",
    "choixJoueur = 0\r\n",
    "\r\n",
    "pointOrdi = 0\r\n",
    "choixOrdi = 0\r\n",
    "\r\n",
    "for i in range (1, 6):\r\n",
    "    \r\n",
    "    choixOrdi = randint(1, 3)              \r\n",
    "    \r\n",
    "    choixJoueur = input(\"Choisissez entre Pierre, Feuille et Ciseaux\")       \r\n",
    "      \r\n",
    "    if choixJoueur == \"Pierre\" :\r\n",
    "        if choixOrdi == 1:\r\n",
    "            print(\"Egalité\")\r\n",
    "            \r\n",
    "        elif choixOrdi == 2 :\r\n",
    "            print(\"L'ordi a gagné\")\r\n",
    "            pointOrdi =+ 1\r\n",
    "            \r\n",
    "        elif choixOrdi == 3 :\r\n",
    "            print(\"Vous avez gagné !\")\r\n",
    "            print(\"Bravo !\")\r\n",
    "            pointJoueur =+ 1\r\n",
    "        \r\n",
    "            \r\n",
    "    if choixJoueur == \"Feuille\" :\r\n",
    "        if choixOrdi == 1 :\r\n",
    "            print(\"Vous avez gagné !\")\r\n",
    "            print(\"Bravo !\")\r\n",
    "            pointJoueur =+ 1\r\n",
    "            \r\n",
    "        elif choixOrdi == 2 :\r\n",
    "               print(\"Egalité\")\r\n",
    "                \r\n",
    "        elif choixOrdi == 3 :\r\n",
    "            print(\"L'ordi a gagné\")\r\n",
    "            pointOrdi =+ 1\r\n",
    "        \r\n",
    "            \r\n",
    "    if choixJoueur == \"Ciseaux\" :\r\n",
    "        if choixOrdi == 1 :\r\n",
    "            print(\"L'ordi a gagné\")\r\n",
    "            pointOrdi =+ 1\r\n",
    "            \r\n",
    "        elif choixOrdi == 2 :\r\n",
    "            print(\"Vous avez gagné !\")\r\n",
    "            print(\"Bravo !\")\r\n",
    "            pointJoueur =+ 1\r\n",
    "            \r\n",
    "        elif choixOrdi == 3 :\r\n",
    "              print(\"Egalité\")\r\n",
    "        \r\n",
    "        \r\n",
    "if pointJoueur > pointOrdi :\r\n",
    "    print(\"Vous avez gagné !\")\r\n",
    "    print(\"Vous avez\", pointJoueur, \"points, et l'ordi as\", pointOrdi, \"points !\")\r\n",
    "    \r\n",
    "if pointJoueur < pointOrdi :\r\n",
    "    print(\"Dommage, vous avez perdu\")\r\n",
    "    print(\"L'ordi as\", pointOrdi, \"points, et vous avez\", pointJoueur, \"points !\")\r\n",
    "    print(\"Vous ferrez mieux la prochaine fois !\")\r\n",
    "    \r\n",
    "if pointJoueur == pointOrdi :\r\n",
    "    print(\"Egalité\")\r\n",
    "    print(\"Vous gagnerez la prochaine fois !\")"
   ],
   "outputs": [
    {
     "output_type": "stream",
     "name": "stdout",
     "text": [
      "Egalité\n",
      "L'ordi a gagné\n",
      "L'ordi a gagné\n",
      "L'ordi a gagné\n",
      "Egalité\n",
      "Dommage, vous avez perdu\n",
      "L'ordi as 1 points, et vous avez 0 points !\n",
      "Vous ferrez mieux la prochaine fois !\n"
     ]
    }
   ],
   "metadata": {}
  }
 ],
 "metadata": {
  "kernelspec": {
   "name": "python3",
   "display_name": "Python 3.9.1 64-bit"
  },
  "language_info": {
   "codemirror_mode": {
    "name": "ipython",
    "version": 3
   },
   "file_extension": ".py",
   "mimetype": "text/x-python",
   "name": "python",
   "nbconvert_exporter": "python",
   "pygments_lexer": "ipython3",
   "version": "3.9.1"
  },
  "interpreter": {
   "hash": "d392c9ddaa6b365e1706bdbc6bd2786d403f6271a103ff8a7f34ee918c5830ad"
  }
 },
 "nbformat": 4,
 "nbformat_minor": 4
}