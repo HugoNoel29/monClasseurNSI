{
 "cells": [
  {
   "cell_type": "markdown",
   "metadata": {},
   "source": [
    "<h1>Exercice 1</h1>"
   ]
  },
  {
   "cell_type": "code",
   "execution_count": 31,
   "metadata": {},
   "outputs": [],
   "source": [
    "def recherche(liste : list) -> list :\n",
    "    \"\"\"\n",
    "    Prend un tableau et renvoie les couples d'entiers consécutifs succéssifs qu'il peur y avoir dedans\n",
    "    S'il n'y en a pas, renvoie un tableau vide\n",
    "    \"\"\"\n",
    "    assert [type(i) for i in liste] == [int]*len(liste), \"La liste doit contenir uniquement des types int\"\n",
    "\n",
    "    sol = []\n",
    "    for i in range(len(liste) - 1) :\n",
    "        if liste[i] + 1 == liste[i+1] :\n",
    "            sol.append((liste[i], liste[i+1]))\n",
    "    return sol"
   ]
  },
  {
   "cell_type": "code",
   "execution_count": 32,
   "metadata": {},
   "outputs": [
    {
     "data": {
      "text/plain": [
       "[]"
      ]
     },
     "execution_count": 32,
     "metadata": {},
     "output_type": "execute_result"
    }
   ],
   "source": [
    "recherche([1, 4, 3, 5])"
   ]
  },
  {
   "cell_type": "code",
   "execution_count": 33,
   "metadata": {},
   "outputs": [
    {
     "data": {
      "text/plain": [
       "[(4, 5)]"
      ]
     },
     "execution_count": 33,
     "metadata": {},
     "output_type": "execute_result"
    }
   ],
   "source": [
    "recherche([1, 4, 5, 3])\n"
   ]
  },
  {
   "cell_type": "code",
   "execution_count": 34,
   "metadata": {},
   "outputs": [
    {
     "data": {
      "text/plain": [
       "[(1, 2), (3, 4)]"
      ]
     },
     "execution_count": 34,
     "metadata": {},
     "output_type": "execute_result"
    }
   ],
   "source": [
    "recherche([7, 1, 2, 5, 3, 4])"
   ]
  },
  {
   "cell_type": "code",
   "execution_count": 35,
   "metadata": {},
   "outputs": [
    {
     "data": {
      "text/plain": [
       "[(1, 2), (2, 3), (-5, -4)]"
      ]
     },
     "execution_count": 35,
     "metadata": {},
     "output_type": "execute_result"
    }
   ],
   "source": [
    "recherche([5, 1, 2, 3, 8, -5, -4, 7])"
   ]
  },
  {
   "cell_type": "markdown",
   "metadata": {},
   "source": [
    "<h1>Exercice 2</h1>"
   ]
  },
  {
   "cell_type": "code",
   "execution_count": 36,
   "metadata": {},
   "outputs": [],
   "source": [
    "def propager(M : list, i : int, j : int, val : int) :\n",
    "    \"\"\"\n",
    "    Soit une image binaire représentée dans un tableau à 2 dimensions. Les éléments\n",
    "    M[i][j], appelés pixels, sont égaux soit à 0 soit à 1.\n",
    "    Une composante d’une image est un sous-ensemble de l’image constitué uniquement de\n",
    "    1 et de 0 qui sont côte à côte, soit horizontalement soit verticalement.\n",
    "\n",
    "    On souhaite, à partir d’un pixel égal à 1 dans une image M, donner la valeur val à tous\n",
    "    les pixels de la composante à laquelle appartient ce pixel.\n",
    "    La fonction propager prend pour paramètre une image M, deux entiers i et j et une\n",
    "    valeur entière val. Elle met à la valeur val tous les pixels de la composante du pixel\n",
    "    M[i][j] s’il vaut 1 et ne fait rien s’il vaut 0. \n",
    "    \"\"\"\n",
    "    \n",
    "    if M[i][j] == 0 :\n",
    "        return \n",
    "    M[i][j] = val\n",
    "\n",
    "    # l'élément en haut fait partie de la composante\n",
    "    if ((i-1) >= 0 and M[i-1][j] == 1):\n",
    "        propager(M,i - 1, j, val)\n",
    "\n",
    "    # l'élément en bas fait partie de la composante\n",
    "    if ((i+1) < len(M) and M[i+1][j] == 1):\n",
    "        propager(M, i+1, j, val)\n",
    "\n",
    "    # l'élément à gauche fait partie de la composante\n",
    "    if ((j-1) >= 0 and M[i][j-1] == 1):\n",
    "        propager(M, i, j-1, val)\n",
    "\n",
    "    # l'élément à droite fait partie de la composante\n",
    "    if ((j+1) < len(M) and M[i][j+1] == 1):\n",
    "        propager(M, i, j+1, val)\n"
   ]
  },
  {
   "cell_type": "code",
   "execution_count": 38,
   "metadata": {},
   "outputs": [
    {
     "data": {
      "text/plain": [
       "[[0, 0, 1, 0], [0, 3, 0, 1], [3, 3, 3, 0], [0, 3, 3, 0]]"
      ]
     },
     "execution_count": 38,
     "metadata": {},
     "output_type": "execute_result"
    }
   ],
   "source": [
    "M = [[0,0,1,0],[0,1,0,1],[1,1,1,0],[0,1,1,0]]\n",
    "propager(M,2,1,3)\n",
    "M"
   ]
  },
  {
   "cell_type": "code",
   "execution_count": null,
   "metadata": {},
   "outputs": [],
   "source": []
  }
 ],
 "metadata": {
  "interpreter": {
   "hash": "d392c9ddaa6b365e1706bdbc6bd2786d403f6271a103ff8a7f34ee918c5830ad"
  },
  "kernelspec": {
   "display_name": "Python 3.9.1 64-bit",
   "language": "python",
   "name": "python3"
  },
  "language_info": {
   "codemirror_mode": {
    "name": "ipython",
    "version": 3
   },
   "file_extension": ".py",
   "mimetype": "text/x-python",
   "name": "python",
   "nbconvert_exporter": "python",
   "pygments_lexer": "ipython3",
   "version": "3.9.1"
  },
  "orig_nbformat": 4
 },
 "nbformat": 4,
 "nbformat_minor": 2
}
