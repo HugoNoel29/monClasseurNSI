{
 "cells": [
  {
   "cell_type": "markdown",
   "metadata": {},
   "source": [
    "# 2- Fonctions (notes de cours) "
   ]
  },
  {
   "cell_type": "markdown",
   "metadata": {},
   "source": [
    "## 2.1  Définition\n",
    "\n",
    "Une fonction est un ensemble d'instructions réalisant une tâche. L’utilisation de fonctions permet d’éviter de dupliquer des morceaux de code identique mais surtout de décomposer une tâche en sous-tâches. \n",
    "\n",
    "La fonction est définie par le mot clé : def\n",
    "\n",
    "def permet de créer la fonction et de donner un nom à l’objet ma_fonction. On peut choisir n'importe quel nom pour la fonction, à l'exception des mots réservés du langage."
   ]
  },
  {
   "cell_type": "code",
   "execution_count": null,
   "metadata": {},
   "outputs": [],
   "source": [
    "def ma_fonction(liste de paramètres):\n",
    "    bloc d'instructions"
   ]
  },
  {
   "cell_type": "code",
   "execution_count": 2,
   "metadata": {},
   "outputs": [
    {
     "name": "stdout",
     "output_type": "stream",
     "text": [
      "9 * 0 = 0\n",
      "9 * 1 = 9\n",
      "9 * 2 = 18\n",
      "9 * 3 = 27\n",
      "9 * 4 = 36\n",
      "9 * 5 = 45\n",
      "9 * 6 = 54\n",
      "9 * 7 = 63\n",
      "9 * 8 = 72\n",
      "9 * 9 = 81\n"
     ]
    }
   ],
   "source": [
    "#definition de la fonction\n",
    "def table_multiplication_9():\n",
    "       for i in range(0,10):\n",
    "            print(f\"9 * {i} = {9*i}\")\n",
    "\n",
    "#appel de la fonction\n",
    "table_multiplication_9()\n"
   ]
  },
  {
   "cell_type": "markdown",
   "metadata": {},
   "source": [
    "Commentaires :\n",
    "\n",
    "Toute fonction doit être commentée en spécifiant ce qu’elle fait.\n",
    "On utilise le # en début de ligne ou les guillemets  \"\"\"   \"\"\" et l’on positionne les commentaires à l’intérieur.\n",
    "help(nom_fonction) renvoie le commentaire \n",
    "\n",
    "\n"
   ]
  },
  {
   "cell_type": "code",
   "execution_count": 3,
   "metadata": {},
   "outputs": [
    {
     "name": "stdout",
     "output_type": "stream",
     "text": [
      "Help on function multiplication in module __main__:\n",
      "\n",
      "multiplication(x, y)\n",
      "    renvoie le produit de x par y\n",
      "\n"
     ]
    }
   ],
   "source": [
    "def multiplication(x,y):\n",
    "    \"\"\"\n",
    "    renvoie le produit de x par y\n",
    "    \"\"\"\n",
    "    return x*y\n",
    "\n",
    "help(multiplication)\n"
   ]
  },
  {
   "cell_type": "markdown",
   "metadata": {},
   "source": [
    "##  2.2\tPassage de paramètres :\n",
    "\n",
    "Comme dans les autres langages, les paramètres sont passés entre (). \n",
    "Il est possible de définir des valeurs par défaut :\n",
    "\n",
    "\tdef fonction(x, y=3, z=\"Bonjour\"):\n",
    "        ....\n",
    "\n",
    "Si lors de l'appel le 2e et le 3e argument n'est pas transmis, les paramètres y et z sont pris par défaut avec les valeurs fixées. on peut appeler la fonction en rappelant le nom du paramètre :\n",
    "\n"
   ]
  },
  {
   "cell_type": "code",
   "execution_count": 4,
   "metadata": {},
   "outputs": [
    {
     "data": {
      "text/plain": [
       "981.0"
      ]
     },
     "execution_count": 4,
     "metadata": {},
     "output_type": "execute_result"
    }
   ],
   "source": [
    "# Exemple concret : fonction qui calcul l'energie potentielle d'un corps\n",
    "\n",
    "def e_potentielle(masse, hauteur, g=9.81):\n",
    "  energie = masse * hauteur * g \n",
    "  return energie\n",
    "\n",
    "# ici g a une valeur par défaut donc nous ne sommes pas obligé de lui donner une valeur\n",
    "e_potentielle(masse=10, hauteur=10)"
   ]
  },
  {
   "cell_type": "markdown",
   "metadata": {},
   "source": [
    "Modifications des valeurs des paramètres :\n",
    "\n",
    "le paramètres est une variable locale de la foncion.\n",
    "Si un paramètre est mutable (liste, dictionnaire, ensemble) alors il est modifiable, s’il est non mutable (chaîne, tuple, entier, réel) il n’est pas modifiable dans la fonction.\n",
    "\n"
   ]
  },
  {
   "cell_type": "code",
   "execution_count": 5,
   "metadata": {},
   "outputs": [
    {
     "name": "stdout",
     "output_type": "stream",
     "text": [
      "Entrez x : 3\n",
      "x =  3\n"
     ]
    }
   ],
   "source": [
    "def increment(x):\n",
    "    x += 1\n",
    "\n",
    "x = int(input(\"Entrez x : \"))\n",
    "increment(x)\n",
    "print(\"x = \",x)"
   ]
  },
  {
   "cell_type": "code",
   "execution_count": 6,
   "metadata": {},
   "outputs": [
    {
     "name": "stdout",
     "output_type": "stream",
     "text": [
      "Entrez x : 3\n",
      "x =  4\n"
     ]
    }
   ],
   "source": [
    "def increment(x):\n",
    "    x += 1\n",
    "    return x\n",
    "\n",
    "\n",
    "x = int(input(\"Entrez x : \"))\n",
    "x = increment(x)\n",
    "print(\"x = \",x)"
   ]
  },
  {
   "cell_type": "code",
   "execution_count": 2,
   "metadata": {},
   "outputs": [
    {
     "name": "stdout",
     "output_type": "stream",
     "text": [
      "[87, 76, 70, 79, 92, 31, 31, 8, 75, 6, 55, 40, 31, 42, 78, 47, 11, 8, 88]\n",
      "[6, 8, 8, 11, 31, 31, 31, 40, 42, 47, 55, 70, 75, 76, 78, 79, 87, 88, 92]\n"
     ]
    }
   ],
   "source": [
    "#Exemple sur un objet mutable, tri à bulle d’une liste :\n",
    "\n",
    "import random\n",
    "\n",
    "def tri_a_bulle(liste):\n",
    "    test = 1\n",
    "    while(test):\n",
    "        test = 0\n",
    "        for i in range(0,len(liste)-1):\n",
    "            if liste[i]>liste[i+1]:\n",
    "                temp = liste[i]\n",
    "                liste[i] = liste[i+1]\n",
    "                liste[i+1] = temp\n",
    "                test = 1\n",
    "\n",
    "\n",
    "def main():\n",
    "    liste = []\n",
    "    for i in range(1, 20):\n",
    "        liste.append(random.randint(1, 100))\n",
    "    print(liste)\n",
    "    tri_a_bulle(liste)\n",
    "    print(liste)\n",
    "\n",
    "main()"
   ]
  },
  {
   "cell_type": "markdown",
   "metadata": {},
   "source": [
    "## 2.3\tRetour de fonction : return()\n",
    "\n",
    "Une fonction retourne 1 seul élément, cet élément peut 1 élément simple ou une tuple contenant plusieurs éléments.\n"
   ]
  },
  {
   "cell_type": "code",
   "execution_count": 6,
   "metadata": {},
   "outputs": [
    {
     "name": "stdout",
     "output_type": "stream",
     "text": [
      "0 * 5 = 0\n",
      "1 * 5 = 5\n",
      "2 * 5 = 10\n",
      "3 * 5 = 15\n",
      "4 * 5 = 20\n",
      "5 * 5 = 25\n",
      "6 * 5 = 30\n",
      "7 * 5 = 35\n",
      "8 * 5 = 40\n",
      "9 * 5 = 45\n"
     ]
    }
   ],
   "source": [
    "def multiplication(x,y):\n",
    "    return x*y\n",
    "\n",
    "\n",
    "for x in range (0,10) : \n",
    "    result = multiplication(x,5) \n",
    "    print(f'{x} * 5 = {result}')\n"
   ]
  },
  {
   "cell_type": "code",
   "execution_count": 7,
   "metadata": {},
   "outputs": [
    {
     "name": "stdout",
     "output_type": "stream",
     "text": [
      "(1, 2, 3)\n"
     ]
    }
   ],
   "source": [
    "def test_return():\n",
    "    a,b,c = 1,2,3\n",
    "    return a,b,c\n",
    "\n",
    "\n",
    "test = test_return()\n",
    "print(test)"
   ]
  },
  {
   "cell_type": "markdown",
   "metadata": {},
   "source": [
    "## 2.4 Fonctions anonymes (lambda)\n",
    "\n",
    "Une fonction anonyme est une fonction créée avec lambda. Ce type de fonction est basique et est utile pour etre intégrée au milieu de structures de controles ou bien d'autres fonctions. On l'utilise rarement.\n"
   ]
  },
  {
   "cell_type": "code",
   "execution_count": 10,
   "metadata": {},
   "outputs": [
    {
     "name": "stdout",
     "output_type": "stream",
     "text": [
      "9\n"
     ]
    }
   ],
   "source": [
    "# Exemple d'une fonction f(x) = x^2\n",
    "f = lambda x : x**2\n",
    "\n",
    "print(f(3))"
   ]
  },
  {
   "cell_type": "code",
   "execution_count": 8,
   "metadata": {},
   "outputs": [
    {
     "name": "stdout",
     "output_type": "stream",
     "text": [
      "12\n"
     ]
    }
   ],
   "source": [
    "# Exemple d'une fonction g(x, y) = x^2 - y^2\n",
    "g = lambda x, y : x**2 - y**2\n",
    "\n",
    "print(g(4, 2))"
   ]
  },
  {
   "cell_type": "markdown",
   "metadata": {},
   "source": [
    "## 2.5\tNombre d'arguments variable  \n",
    "\n",
    "\n",
    "Les arguments  **( *args, ** **kwargs) permettent de passer un nombre variable d’arguments à une fonction.\n",
    "\n",
    "*args : utilisé pour passer une liste de variables sans mot clé. Il permet dans l’appel de la fonction de prendre un nombre variable d’arguments et de les transformer en un tuple lors de l’appel dont le nom est : args.\n",
    "args est le nom utilisé par convention mais on pourrait utiliser n’importe quel identificateur.\n",
    "\n"
   ]
  },
  {
   "cell_type": "code",
   "execution_count": 10,
   "metadata": {},
   "outputs": [
    {
     "name": "stdout",
     "output_type": "stream",
     "text": [
      "22\n"
     ]
    }
   ],
   "source": [
    "def addition(*args):\n",
    "    somme = 0\n",
    "    for i in args:\n",
    "        somme+=i\n",
    "    return somme\n",
    "\n",
    "def main():\n",
    "    print(addition(4,5,6,7))\n",
    "    \n",
    "main()\n"
   ]
  },
  {
   "cell_type": "markdown",
   "metadata": {},
   "source": [
    "***kwargs : fonctionne comme *args, mais permet de passer des mots clés en arguments avec des valeurs associées. kwargs est un dictionnaire, le nombre d’éléments du dictionnaire est variable."
   ]
  },
  {
   "cell_type": "code",
   "execution_count": 11,
   "metadata": {},
   "outputs": [
    {
     "name": "stdout",
     "output_type": "stream",
     "text": [
      "Jeanne : 12\n",
      "Bob : 14\n",
      "Laura : 16\n",
      "14.0\n"
     ]
    }
   ],
   "source": [
    "def moyenne(**kwargs):\n",
    "    somme,nb = 0,0\n",
    "    for etudiant,note in kwargs.items():\n",
    "        somme+=note\n",
    "        print(f\"{etudiant} : {note}\")\n",
    "        nb+=1\n",
    "    return somme/nb\n",
    "\n",
    "def main():\n",
    "    m = moyenne(Jeanne=12,Bob=14,Laura=16)\n",
    "    print(m)\n",
    "\n",
    "\n",
    "if __name__ == '__main__':\n",
    "    main()"
   ]
  },
  {
   "cell_type": "markdown",
   "metadata": {},
   "source": [
    "## 2.6\tLes décorateurs :\n",
    "\n",
    "Un décorateur est une fonction qui modifie le comportement d’une autre fonction. Cette fonctionnalité est très utilisée en Python. \n",
    "On va appliquer au décorateur le résultat de l’exécution de la fonction, le paramètre du décorateur sur le nom de la fonction.\n",
    "\n",
    "Utilité : ajouter du code identique à plusieurs fonctions.\n",
    "\n",
    "Pour appliquer un décorateur on le précède de @\n",
    "\n"
   ]
  },
  {
   "cell_type": "code",
   "execution_count": 14,
   "metadata": {},
   "outputs": [
    {
     "name": "stdout",
     "output_type": "stream",
     "text": [
      " ------------------------- \n",
      "Bonjour\n",
      " ------------------------- \n",
      "Au revoir\n"
     ]
    }
   ],
   "source": [
    "def bonjour():\n",
    "    print('Bonjour')\n",
    "\n",
    "def au_revoir():\n",
    "    print('Au revoir')\n",
    "\n",
    "# Si l’on veut pouvoir mettre un formatage supplémentaire aux deux fonctions sans toucher au code des fonctions, on va utiliser un décorateur.\n",
    "\n",
    "def entete(fonction):\n",
    "    def wrapper():\n",
    "        print(' ------------------------- ')\n",
    "        return fonction()\n",
    "    return wrapper\n",
    "\n",
    "@entete\n",
    "def bonjour():\n",
    "    print('Bonjour')\n",
    "\n",
    "\n",
    "@entete\n",
    "def au_revoir():\n",
    "    print('Au revoir')\n",
    "\n",
    "\n",
    "def main():\n",
    "    bonjour()\n",
    "    au_revoir()\n",
    "\n",
    "\n",
    "if __name__ == '__main__':\n",
    "    main()"
   ]
  },
  {
   "cell_type": "code",
   "execution_count": 15,
   "metadata": {},
   "outputs": [
    {
     "name": "stdout",
     "output_type": "stream",
     "text": [
      "L'étudiant claire n'est pas en TC \n",
      "L'étudiant ('Kevin', 'TC') est inscrit à l'UV INF1\n"
     ]
    }
   ],
   "source": [
    "#Exemple 2 :\n",
    "# Soit un programme permettant à un étudiant de l’UTC de s’inscrire aux UVs.  On va écrire un décorateur permettant de tester si l’étudiant est en tronc commun avant de l’inscrire.\n",
    "\n",
    "def est_en_tronc_commun(fonction):\n",
    "    def wrapper(*args):\n",
    "        if args[0][1] == 'TC':\n",
    "            return fonction(*args)\n",
    "        else:\n",
    "            print(f\"L'étudiant {args[0][0]} n'est pas en TC \")\n",
    "\n",
    "    return wrapper\n",
    "\n",
    "@est_en_tronc_commun\n",
    "def inscription(etudiant,uv):\n",
    "    print(f\"L'étudiant {etudiant} est inscrit à l'UV {uv}\")\n",
    "\n",
    "def main():\n",
    "    etudiant1 = (\"claire\", \"IM\")\n",
    "    etudiant2 = (\"Kevin\", \"TC\")\n",
    "    inscription(etudiant1,\"INF1\")\n",
    "    inscription(etudiant2,\"INF1\")\n",
    "\n",
    "if __name__ == '__main__':\n",
    "    main()\n",
    "\n"
   ]
  },
  {
   "cell_type": "code",
   "execution_count": 24,
   "metadata": {},
   "outputs": [
    {
     "name": "stdout",
     "output_type": "stream",
     "text": [
      "[0, 5, 10, 15, 20, 25, 30, 35, 40, 45]\n"
     ]
    }
   ],
   "source": [
    "#Exemple 3 :  Soit une fonction de multiplication :\n",
    "\n",
    "def multiplication(x,y):\n",
    "    return x*y\n",
    "\n",
    "# Un exemple d’utilisation :\n",
    "\n",
    "def main():\n",
    "    result = [multiplication(x,5) for x in range (0,10)]\n",
    "    print(result)\n",
    "\n",
    "if __name__== \"__main__\":\n",
    "    main()\n"
   ]
  },
  {
   "cell_type": "code",
   "execution_count": 25,
   "metadata": {},
   "outputs": [
    {
     "name": "stdout",
     "output_type": "stream",
     "text": [
      "0 * 5 = 0 \n",
      "1 * 5 = 5 \n",
      "2 * 5 = 10 \n",
      "3 * 5 = 15 \n",
      "4 * 5 = 20 \n",
      "5 * 5 = 25 \n",
      "6 * 5 = 30 \n",
      "7 * 5 = 35 \n",
      "8 * 5 = 40 \n",
      "9 * 5 = 45 \n",
      "[0, 5, 10, 15, 20, 25, 30, 35, 40, 45]\n"
     ]
    }
   ],
   "source": [
    "# Si on veut afficher le pas à pas de cette fonction sans avoir à modifier la fonction, on définit un décorateur qui s’appliquera sur cette fonction :\n",
    "\n",
    "def affichage(fonction):\n",
    "    def decor(*args, **kwargs):\n",
    "        print(f\"{args[0]} * { args[1]} = {fonction(*args,**kwargs)} \")\n",
    "        return fonction(*args, **kwargs)\n",
    "    return decor\n",
    "\n",
    "# puis pour appliquer ce décorateur :\n",
    "\n",
    "@affichage\n",
    "def multiplication(x,y):\n",
    "    return x*y\n",
    "\n",
    "def main():\n",
    "    result = [multiplication(x,5) for x in range (0,10)]\n",
    "    print(result)\n",
    "\n",
    "if __name__ == '__main__':\n",
    "    main()"
   ]
  },
  {
   "cell_type": "markdown",
   "metadata": {},
   "source": [
    "## 2.7\tLe typage \n",
    "En python, il n’est pas nécessaire de « typer » les variables ou fonctions, cependant depuis la version 3.5, il est possible pour des raisons de lisibilité, de les typer.\n",
    "Ce typage est purement facultatif sans aucun effet car le Python ne le vérifiera pas.\n",
    "2 avantages :\n",
    "-\tLisibilité, compréhension\n",
    "-\tAider l’IDE à trouver les erreurs\n",
    "\n",
    "exemple : \n",
    "\tdef fonction(indentificateur : type) -> type :\n",
    "exemple :\n",
    "\tdef somme_des_chiffres(nb : int) -> int :\n"
   ]
  },
  {
   "cell_type": "code",
   "execution_count": 18,
   "metadata": {},
   "outputs": [
    {
     "name": "stdout",
     "output_type": "stream",
     "text": [
      "Entrer une valeur entière positive svp : 10\n",
      "[0, 1, 1, 2, 3, 5, 8]\n"
     ]
    }
   ],
   "source": [
    "from typing import List\n",
    "\n",
    "# Version utilisant les tuples pour les affectations\n",
    "def fibo(limit: int) -> List[int]: \n",
    "    \"\"\"Return a list containing the Fibonacci series up to limit.\"\"\"\n",
    "    result = []\n",
    "    a, b = 0, 1\n",
    "    while a < limit:\n",
    "        result.append(a)\n",
    "        a, b = b, a + b\n",
    "    return result\n",
    "\n",
    "\n",
    "def main():\n",
    "    x = int(input('Entrer une valeur entière positive svp : '))\n",
    "    suite_fibo = fibo(x)  # calcul par apple de la fonction \n",
    "    print(suite_fibo)     # affichage dans le main\n",
    "\n",
    "if __name__== \"__main__\":\n",
    "    main()"
   ]
  },
  {
   "cell_type": "markdown",
   "metadata": {},
   "source": [
    "## 2.8\tImportation et définition de modules\n",
    "\n",
    "Pour utiliser les fonctions définies dans des modules existants il faut les importer à l'aide de l'instruction import.\n",
    "\n"
   ]
  },
  {
   "cell_type": "code",
   "execution_count": null,
   "metadata": {},
   "outputs": [],
   "source": [
    "import <nom_module>\n",
    "from <nom_module> import <nom_fonction>\n",
    "from <nom_module> import *\n",
    "\n",
    "\n"
   ]
  },
  {
   "cell_type": "code",
   "execution_count": 22,
   "metadata": {},
   "outputs": [],
   "source": [
    "import math\n",
    "x = math.sin(12)\n",
    "\n",
    "from math import sin\n",
    "x = sin(12)\n",
    "\n",
    "from math import *\n",
    "x = sin(12)"
   ]
  },
  {
   "cell_type": "markdown",
   "metadata": {},
   "source": [
    "On peut importer ses propres modules \n",
    "\n",
    "On met dans un fichier mes_modules.py les fonctions puis on les importe.\n",
    "\n",
    "import < mes_modules >\n",
    "\n"
   ]
  },
  {
   "cell_type": "markdown",
   "metadata": {},
   "source": [
    "## 2.8 Quelques modules courants\n",
    "\n",
    "Il existe une série de modules que vous serez probablement amenés à utiliser si vous programmez en Python. En voici une liste non exhaustive. Pour la liste complète, reportez-vous à la page des modules sur le site de Python :\n",
    "\n",
    "- math : fonctions et constantes mathématiques de base (sin, cos, exp, pi...).\n",
    "- random : génération de nombres aléatoires.\n",
    "- time : accès à l'heure de l'ordinateur et aux fonctions gérant le temps.\\\\\n",
    "- os : dialogue avec le système d'exploitation.\n",
    "    "
   ]
  }
 ],
 "metadata": {
  "kernelspec": {
   "display_name": "Python 3",
   "language": "python",
   "name": "python3"
  },
  "language_info": {
   "codemirror_mode": {
    "name": "ipython",
    "version": 3
   },
   "file_extension": ".py",
   "mimetype": "text/x-python",
   "name": "python",
   "nbconvert_exporter": "python",
   "pygments_lexer": "ipython3",
   "version": "3.8.5"
  }
 },
 "nbformat": 4,
 "nbformat_minor": 4
}
