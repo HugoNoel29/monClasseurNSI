{
 "cells": [
  {
   "cell_type": "markdown",
   "metadata": {},
   "source": [
    "<h1>Exercice 1</h1>"
   ]
  },
  {
   "cell_type": "code",
   "execution_count": 9,
   "metadata": {},
   "outputs": [],
   "source": [
    "def rechercheMinMax(tableau : list) -> dict :\n",
    "    \"\"\"\n",
    "    Je recherche le maximum et le minimum dans un tableau de int non rangés\n",
    "    Je les renvoie sous forme de dictionnaire : {'min': -2, 'max': 9}\n",
    "    \"\"\"\n",
    "    assert [type(i) for i in tableau] == [int]*len(tableau), \"Le tableau doit être fait de int\"\n",
    "\n",
    "    if tableau == [] :\n",
    "        minimum = None\n",
    "        maximum = None\n",
    "    else :\n",
    "        minimum = tableau[0]\n",
    "        maximum = tableau[0]\n",
    "\n",
    "    for i in tableau :\n",
    "        if i > maximum :\n",
    "            maximum = i\n",
    "        if i < minimum :\n",
    "            minimum = i\n",
    "    return {'min' : minimum, 'max' : maximum}"
   ]
  },
  {
   "cell_type": "code",
   "execution_count": 10,
   "metadata": {},
   "outputs": [
    {
     "data": {
      "text/plain": [
       "{'min': -2, 'max': 9}"
      ]
     },
     "execution_count": 10,
     "metadata": {},
     "output_type": "execute_result"
    }
   ],
   "source": [
    "tableau = [0, 1, 4, 2, -2, 9, 3, 1, 7, 1]\n",
    "resultat = rechercheMinMax(tableau)\n",
    "resultat"
   ]
  },
  {
   "cell_type": "code",
   "execution_count": 11,
   "metadata": {},
   "outputs": [
    {
     "data": {
      "text/plain": [
       "{'min': None, 'max': None}"
      ]
     },
     "execution_count": 11,
     "metadata": {},
     "output_type": "execute_result"
    }
   ],
   "source": [
    "tableau = []\n",
    "resultat = rechercheMinMax(tableau)\n",
    "resultat"
   ]
  },
  {
   "cell_type": "markdown",
   "metadata": {},
   "source": [
    "<h1>Exercice 2<h/1>"
   ]
  },
  {
   "cell_type": "code",
   "execution_count": null,
   "metadata": {},
   "outputs": [],
   "source": []
  },
  {
   "cell_type": "code",
   "execution_count": null,
   "metadata": {},
   "outputs": [],
   "source": []
  },
  {
   "cell_type": "code",
   "execution_count": null,
   "metadata": {},
   "outputs": [],
   "source": []
  }
 ],
 "metadata": {
  "interpreter": {
   "hash": "d392c9ddaa6b365e1706bdbc6bd2786d403f6271a103ff8a7f34ee918c5830ad"
  },
  "kernelspec": {
   "display_name": "Python 3.9.1 64-bit",
   "language": "python",
   "name": "python3"
  },
  "language_info": {
   "codemirror_mode": {
    "name": "ipython",
    "version": 3
   },
   "file_extension": ".py",
   "mimetype": "text/x-python",
   "name": "python",
   "nbconvert_exporter": "python",
   "pygments_lexer": "ipython3",
   "version": "3.9.1"
  },
  "orig_nbformat": 4
 },
 "nbformat": 4,
 "nbformat_minor": 2
}
