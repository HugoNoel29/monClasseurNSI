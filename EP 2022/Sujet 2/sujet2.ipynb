{
 "cells": [
  {
   "cell_type": "markdown",
   "metadata": {},
   "source": [
    "<h1>Exercice 1<h1>"
   ]
  },
  {
   "cell_type": "code",
   "execution_count": 20,
   "metadata": {},
   "outputs": [],
   "source": [
    "def moyenne(liste : list) -> float :\n",
    "    \"\"\"\n",
    "    La fonction calcule la moyenne pondérée en fonction de notes et de leurs coefficients \n",
    "    Rangés en liste de tuples, ex : [(note,coefficient), (note,coefficient), (note,coefficient)]\n",
    "    \"\"\"\n",
    "    assert [len(liste[i]) for i in range(len(liste))] == [2]*len(liste), \"Doit être sous la forme [(note,coefficient), (note,coefficient)]\"\n",
    "\n",
    "    dividende = 0\n",
    "    diviseur = 0\n",
    "\n",
    "    for i in range(len(liste)) :\n",
    "        dividende += liste[i][0] * liste[i][1]\n",
    "        diviseur += liste[i][1]\n",
    "    return dividende / diviseur"
   ]
  },
  {
   "cell_type": "code",
   "execution_count": 21,
   "metadata": {},
   "outputs": [
    {
     "data": {
      "text/plain": [
       "12.5"
      ]
     },
     "execution_count": 21,
     "metadata": {},
     "output_type": "execute_result"
    }
   ],
   "source": [
    "moyenne([(15,2),(9,1),(12,3)]) "
   ]
  },
  {
   "cell_type": "markdown",
   "metadata": {},
   "source": [
    "<h1>Exercice 2<h1>"
   ]
  },
  {
   "cell_type": "code",
   "execution_count": 25,
   "metadata": {},
   "outputs": [],
   "source": [
    "def pascal(n : int) -> list :\n",
    "    \"\"\"\n",
    "    La fonction crée le tableau de Pascal jusqu'à la n-ième ligne, n étant le paramètre en entrée\n",
    "    \"\"\"\n",
    "    assert n >= 2, \"n doit être >= à 2\"\n",
    "\n",
    "    C = [ [1] ]\n",
    "    for k in range(1,n+1) :\n",
    "        Ck = [1]\n",
    "        for i in range(1,k) :\n",
    "            Ck.append( C[k-1][i-1] + C[k-1][i] )\n",
    "        Ck.append(1)\n",
    "        C.append(Ck)\n",
    "    return C"
   ]
  },
  {
   "cell_type": "code",
   "execution_count": 26,
   "metadata": {},
   "outputs": [
    {
     "data": {
      "text/plain": [
       "[[1], [1, 1], [1, 2, 1], [1, 3, 3, 1], [1, 4, 6, 4, 1]]"
      ]
     },
     "execution_count": 26,
     "metadata": {},
     "output_type": "execute_result"
    }
   ],
   "source": [
    "pascal(4)"
   ]
  },
  {
   "cell_type": "code",
   "execution_count": 27,
   "metadata": {},
   "outputs": [
    {
     "data": {
      "text/plain": [
       "[[1], [1, 1], [1, 2, 1], [1, 3, 3, 1], [1, 4, 6, 4, 1], [1, 5, 10, 10, 5, 1]]"
      ]
     },
     "execution_count": 27,
     "metadata": {},
     "output_type": "execute_result"
    }
   ],
   "source": [
    "pascal(5)"
   ]
  }
 ],
 "metadata": {
  "interpreter": {
   "hash": "c535f766096f575e5993344ecf38043c94305985d3bbdfcb24d1ab2af40cf48e"
  },
  "kernelspec": {
   "display_name": "Python 3.9.4 64-bit",
   "language": "python",
   "name": "python3"
  },
  "language_info": {
   "codemirror_mode": {
    "name": "ipython",
    "version": 3
   },
   "file_extension": ".py",
   "mimetype": "text/x-python",
   "name": "python",
   "nbconvert_exporter": "python",
   "pygments_lexer": "ipython3",
   "version": "3.9.4"
  },
  "orig_nbformat": 4
 },
 "nbformat": 4,
 "nbformat_minor": 2
}
