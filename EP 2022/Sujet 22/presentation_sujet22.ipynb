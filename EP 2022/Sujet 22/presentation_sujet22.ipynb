{
 "cells": [
  {
   "cell_type": "markdown",
   "metadata": {},
   "source": [
    "<h1>Exercice 1</h1>"
   ]
  },
  {
   "cell_type": "markdown",
   "metadata": {},
   "source": [
    "L'idée est de créer une fonction qui inverse une chaine de caractères\n",
    "\n",
    "Pour cela il y a de nombreuses possibilités"
   ]
  },
  {
   "cell_type": "markdown",
   "metadata": {},
   "source": [
    "<h3>La permière chose a laquelle j'ai pensé : la concaténation</h3>"
   ]
  },
  {
   "cell_type": "code",
   "execution_count": 1,
   "metadata": {},
   "outputs": [],
   "source": [
    "def reverse(chaine : str) -> str :\n",
    "    \"\"\"\n",
    "    Prend une chaine de caractères et en renvoie l'inverse\n",
    "    Exemple : >>> reverse(\"informatique\")\n",
    "              >>> \"euqitamrofni\"\n",
    "    \"\"\"\n",
    "    assert type(chaine) == str, \"Le paramètre en entrée doit être une chaine de carctères\"\n",
    "\n",
    "    inverse = \"\"\n",
    "    for i in range(1, len(chaine) + 1) :\n",
    "        inverse += chaine[-i]\n",
    "    return inverse"
   ]
  },
  {
   "cell_type": "code",
   "execution_count": 2,
   "metadata": {},
   "outputs": [
    {
     "data": {
      "text/plain": [
       "'euqitamrofni'"
      ]
     },
     "execution_count": 2,
     "metadata": {},
     "output_type": "execute_result"
    }
   ],
   "source": [
    "reverse(\"informatique\")"
   ]
  },
  {
   "cell_type": "markdown",
   "metadata": {},
   "source": [
    "<h3>Une autre version avec de la concaténation</h3>"
   ]
  },
  {
   "cell_type": "code",
   "execution_count": 17,
   "metadata": {},
   "outputs": [],
   "source": [
    "def autre_reverse(chaine : str) -> str :\n",
    "    \"\"\"\n",
    "    Prend une chaine de caractères et en renvoie l'inverse\n",
    "    Exemple : >>> autre_reverse(\"informatique\")\n",
    "              >>> \"euqitamrofni\"\n",
    "    \"\"\"\n",
    "    assert type(chaine) == str, \"Le paramètre en entrée doit être une chaine de carctères\"\n",
    "\n",
    "    inverse = \"\"\n",
    "    for i in range(len(chaine)) :\n",
    "        inverse = chaine[i] + inverse\n",
    "    return inverse"
   ]
  },
  {
   "cell_type": "code",
   "execution_count": 18,
   "metadata": {},
   "outputs": [
    {
     "data": {
      "text/plain": [
       "'euqitamrofni'"
      ]
     },
     "execution_count": 18,
     "metadata": {},
     "output_type": "execute_result"
    }
   ],
   "source": [
    "autre_reverse(\"informatique\")"
   ]
  },
  {
   "cell_type": "markdown",
   "metadata": {},
   "source": [
    "<h3>On peut le faire encore plus simplement avec du slicing</h3>"
   ]
  },
  {
   "cell_type": "code",
   "execution_count": 4,
   "metadata": {},
   "outputs": [],
   "source": [
    "def reverse_slice(chaine : str) -> str :\n",
    "    \"\"\"\n",
    "    Prend une chaine de caractères et en renvoie l'inverse\n",
    "    Exemple : >>> reverse_slice(\"informatique\")\n",
    "              >>> \"euqitamrofni\"\n",
    "    \"\"\"\n",
    "    assert type(chaine) == str, \"Le paramètre en entrée doit être une chaine de carctères\"\n",
    "\n",
    "    return chaine[::-1]"
   ]
  },
  {
   "cell_type": "code",
   "execution_count": 5,
   "metadata": {},
   "outputs": [
    {
     "data": {
      "text/plain": [
       "'euqitamrofni'"
      ]
     },
     "execution_count": 5,
     "metadata": {},
     "output_type": "execute_result"
    }
   ],
   "source": [
    "reverse_slice(\"informatique\")"
   ]
  },
  {
   "cell_type": "markdown",
   "metadata": {},
   "source": [
    "<h3>On peut aussi le faire de manière récursive avec du slicing</h3>"
   ]
  },
  {
   "cell_type": "markdown",
   "metadata": {},
   "source": [
    "<h4>Avec slicing</h4>"
   ]
  },
  {
   "cell_type": "code",
   "execution_count": 8,
   "metadata": {},
   "outputs": [],
   "source": [
    "def reverse_recursif_slice(chaine : str) -> str :\n",
    "    \"\"\"\n",
    "    Prend une chaine de caractères et en renvoie l'inverse\n",
    "    Exemple : >>> reverse_recursif_slice(\"informatique\")\n",
    "              >>> \"euqitamrofni\"\n",
    "    \"\"\"\n",
    "    assert type(chaine) == str, \"Le paramètre en entrée doit être une chaine de carctères\"\n",
    "\n",
    "    if len(chaine) == 0 :\n",
    "        return \"\"\n",
    "    else :\n",
    "        return chaine[-1] + reverse_recursif_slice(chaine[:-1])"
   ]
  },
  {
   "cell_type": "code",
   "execution_count": 9,
   "metadata": {},
   "outputs": [
    {
     "data": {
      "text/plain": [
       "'euqitamrofni'"
      ]
     },
     "execution_count": 9,
     "metadata": {},
     "output_type": "execute_result"
    }
   ],
   "source": [
    "reverse_recursif_slice(\"informatique\")"
   ]
  },
  {
   "cell_type": "markdown",
   "metadata": {},
   "source": [
    "<h4>On pourrait utiliser le module time pour savoir quelle version est la plus rapide (si on en a besoin\n",
    "pour le developpement d'un code par exemple)</h4>"
   ]
  },
  {
   "cell_type": "markdown",
   "metadata": {},
   "source": [
    "<h1>Exercice 2</h1>"
   ]
  },
  {
   "cell_type": "markdown",
   "metadata": {},
   "source": [
    "Le but de cet exercice est de compléter un code permettant de trouver tout les nombres premiers \n",
    "\n",
    "( Un nombre permier est un nombre qui n'admet que 2 diviseurs : 1 et lui-même )\n",
    "\n",
    "Pour ce faire on utilise le crible d'Ératosthène\n",
    "\n",
    "Le crible d’Ératosthène permet de déterminer les nombres premiers plus petit qu’un certain nombre N fixé\n"
   ]
  },
  {
   "cell_type": "markdown",
   "metadata": {},
   "source": [
    "\n",
    "On considère pour cela un tableau tab de N booléens, initialement tous égaux à True, sauf\n",
    "tab[0] et tab[1] qui valent False, 0 et 1 n’étant pas des nombres premiers.\n",
    "\n",
    "On parcourt alors ce tableau de gauche à droite.\n",
    "Pour chaque indice i :\n",
    "- si tab[i] vaut True : le nombre i est premier et on donne la valeur False à toutes les\n",
    "cases du tableau dont l’indice est un multiple de i, à partir de 2*i (c’est-à-dire 2*i, 3*i …).\n",
    "- si tab[i] vaut False : le nombre i n’est pas premier et on n’effectue aucun\n",
    "changement sur le tableau."
   ]
  },
  {
   "cell_type": "markdown",
   "metadata": {},
   "source": [
    "<h4>Code à completer</h4>"
   ]
  },
  {
   "cell_type": "code",
   "execution_count": null,
   "metadata": {},
   "outputs": [],
   "source": [
    "def crible(N : int) -> list :\n",
    "    \"\"\"\n",
    "    Renvoie un tableau contenant tout les nombres premiers plus petits que N\n",
    "\n",
    "    Exemple : >>> crible(40)\n",
    "              >>> [2, 3, 5, 7, 11, 13, 17, 19, 23, 29, 31, 37]\n",
    "    \"\"\"\n",
    "    assert type(N) == int, \"L'entrée doit être de type int\"\n",
    "\n",
    "    premiers = []\n",
    "    tab = [True] * N\n",
    "    tab[0], tab[1] = False, False\n",
    "\n",
    "    for i in range(..., N) :\n",
    "        if tab[i] == ... :\n",
    "            premiers.append(...)\n",
    "            for multiples in range(2*i, N, ...) :\n",
    "                tab[multiples] = ...\n",
    "    return premiers"
   ]
  },
  {
   "cell_type": "markdown",
   "metadata": {},
   "source": [
    "<h4>Code complété</h4>"
   ]
  },
  {
   "cell_type": "code",
   "execution_count": 19,
   "metadata": {},
   "outputs": [],
   "source": [
    "def crible(N : int) -> list :\n",
    "    \"\"\"\n",
    "    Renvoie un tableau contenant tout les nombres premiers plus petits que N\n",
    "\n",
    "    Exemple : >>> crible(40)\n",
    "              >>> [2, 3, 5, 7, 11, 13, 17, 19, 23, 29, 31, 37]\n",
    "    \"\"\"\n",
    "    assert type(N) == int, \"L'entrée doit être de type int\"\n",
    "\n",
    "    premiers = []\n",
    "    tab = [True] * N\n",
    "    tab[0], tab[1] = False, False\n",
    "\n",
    "    for i in range(2, N) :\n",
    "        if tab[i] == True :\n",
    "            premiers.append(i)\n",
    "            for multiples in range(2*i, N, i) :\n",
    "                tab[multiples] = False\n",
    "    return premiers"
   ]
  },
  {
   "cell_type": "code",
   "execution_count": 20,
   "metadata": {},
   "outputs": [
    {
     "data": {
      "text/plain": [
       "[2, 3, 5, 7, 11, 13, 17, 19, 23, 29, 31, 37]"
      ]
     },
     "execution_count": 20,
     "metadata": {},
     "output_type": "execute_result"
    }
   ],
   "source": [
    "crible(40)"
   ]
  },
  {
   "cell_type": "markdown",
   "metadata": {},
   "source": [
    "<h4>Ce n'est qu'une méthode possible et qui ne couvre qu'un des problèmes possibles avec les nombres premiers. <br> On pourrait aussi chercher quel est le n-ième nombre premier, si un nombre donné est premier ou non, etc.</h4>"
   ]
  }
 ],
 "metadata": {
  "interpreter": {
   "hash": "d392c9ddaa6b365e1706bdbc6bd2786d403f6271a103ff8a7f34ee918c5830ad"
  },
  "kernelspec": {
   "display_name": "Python 3.9.1 64-bit",
   "language": "python",
   "name": "python3"
  },
  "language_info": {
   "codemirror_mode": {
    "name": "ipython",
    "version": 3
   },
   "file_extension": ".py",
   "mimetype": "text/x-python",
   "name": "python",
   "nbconvert_exporter": "python",
   "pygments_lexer": "ipython3",
   "version": "3.9.1"
  },
  "orig_nbformat": 4
 },
 "nbformat": 4,
 "nbformat_minor": 2
}
