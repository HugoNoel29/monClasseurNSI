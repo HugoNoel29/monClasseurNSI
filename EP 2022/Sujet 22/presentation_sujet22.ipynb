{
 "cells": [
  {
   "cell_type": "markdown",
   "metadata": {},
   "source": [
    "<h1>Exercice 1</h1>"
   ]
  },
  {
   "cell_type": "markdown",
   "metadata": {},
   "source": [
    "L'idée est de créer une fonction qui inverse une chaine de caractères\n",
    "\n",
    "Pour cela il y a de nombreuses possibilités"
   ]
  },
  {
   "cell_type": "markdown",
   "metadata": {},
   "source": [
    "<h3>La permière chose a laquelle j'ai pensé : la concaténation</h3>"
   ]
  },
  {
   "cell_type": "code",
   "execution_count": 1,
   "metadata": {},
   "outputs": [],
   "source": [
    "def reverse(chaine : str) -> str :\n",
    "    \"\"\"\n",
    "    Prend une chaine de caractères et en renvoie l'inverse\n",
    "    Exemple : >>> reverse(\"informatique\")\n",
    "              >>> \"euqitamrofni\"\n",
    "    \"\"\"\n",
    "    assert type(chaine) == str, \"Le paramètre en entrée doit être une chaine de carctères\"\n",
    "\n",
    "    inverse = \"\"\n",
    "    for i in range(1, len(chaine) + 1) :\n",
    "        inverse += chaine[-i]\n",
    "    return inverse"
   ]
  },
  {
   "cell_type": "code",
   "execution_count": 2,
   "metadata": {},
   "outputs": [
    {
     "data": {
      "text/plain": [
       "'euqitamrofni'"
      ]
     },
     "execution_count": 2,
     "metadata": {},
     "output_type": "execute_result"
    }
   ],
   "source": [
    "reverse(\"informatique\")"
   ]
  },
  {
   "cell_type": "markdown",
   "metadata": {},
   "source": [
    "<h3>Une autre version avec de la concaténation</h3>"
   ]
  },
  {
   "cell_type": "code",
   "execution_count": 3,
   "metadata": {},
   "outputs": [],
   "source": [
    "def autre_reverse(chaine : str) -> str :\n",
    "    \"\"\"\n",
    "    Prend une chaine de caractères et en renvoie l'inverse\n",
    "    Exemple : >>> autre_reverse(\"informatique\")\n",
    "              >>> \"euqitamrofni\"\n",
    "    \"\"\"\n",
    "    assert type(chaine) == str, \"Le paramètre en entrée doit être une chaine de carctères\"\n",
    "\n",
    "    inverse = \"\"\n",
    "    for i in range(len(chaine)) :\n",
    "        inverse = chaine[i] + inverse\n",
    "    return inverse"
   ]
  },
  {
   "cell_type": "code",
   "execution_count": 4,
   "metadata": {},
   "outputs": [
    {
     "data": {
      "text/plain": [
       "'euqitamrofni'"
      ]
     },
     "execution_count": 4,
     "metadata": {},
     "output_type": "execute_result"
    }
   ],
   "source": [
    "autre_reverse(\"informatique\")"
   ]
  },
  {
   "cell_type": "markdown",
   "metadata": {},
   "source": [
    "<h3>On peut le faire encore plus simplement avec du slicing</h3>"
   ]
  },
  {
   "cell_type": "code",
   "execution_count": 4,
   "metadata": {},
   "outputs": [],
   "source": [
    "def reverse_slice(chaine : str) -> str :\n",
    "    \"\"\"\n",
    "    Prend une chaine de caractères et en renvoie l'inverse\n",
    "    Exemple : >>> reverse_slice(\"informatique\")\n",
    "              >>> \"euqitamrofni\"\n",
    "    \"\"\"\n",
    "    assert type(chaine) == str, \"Le paramètre en entrée doit être une chaine de carctères\"\n",
    "\n",
    "    return chaine[::-1]"
   ]
  },
  {
   "cell_type": "code",
   "execution_count": 6,
   "metadata": {},
   "outputs": [
    {
     "data": {
      "text/plain": [
       "'euqitamrofni'"
      ]
     },
     "execution_count": 6,
     "metadata": {},
     "output_type": "execute_result"
    }
   ],
   "source": [
    "reverse_slice(\"informatique\")"
   ]
  },
  {
   "cell_type": "markdown",
   "metadata": {},
   "source": [
    "<h3>On peut aussi le faire de manière récursive avec du slicing</h3>"
   ]
  },
  {
   "cell_type": "markdown",
   "metadata": {},
   "source": [
    "<h4>Avec slicing</h4>"
   ]
  },
  {
   "cell_type": "code",
   "execution_count": 5,
   "metadata": {},
   "outputs": [],
   "source": [
    "def reverse_recursif_slice(chaine : str) -> str :\n",
    "    \"\"\"\n",
    "    Prend une chaine de caractères et en renvoie l'inverse\n",
    "    Exemple : >>> reverse_recursif_slice(\"informatique\")\n",
    "              >>> \"euqitamrofni\"\n",
    "    \"\"\"\n",
    "    assert type(chaine) == str, \"Le paramètre en entrée doit être une chaine de carctères\"\n",
    "\n",
    "    if len(chaine) == 0 :\n",
    "        return \"\"\n",
    "    else :\n",
    "        return chaine[-1] + reverse_recursif_slice(chaine[:-1])"
   ]
  },
  {
   "cell_type": "code",
   "execution_count": 2,
   "metadata": {},
   "outputs": [
    {
     "data": {
      "text/plain": [
       "'euqitamrofni'"
      ]
     },
     "execution_count": 2,
     "metadata": {},
     "output_type": "execute_result"
    }
   ],
   "source": [
    "reverse_recursif_slice(\"informatique\")"
   ]
  },
  {
   "cell_type": "markdown",
   "metadata": {},
   "source": [
    "<h4>On peut utiliser la module timeit pour voir le plus rapide</h4>"
   ]
  },
  {
   "cell_type": "code",
   "execution_count": 6,
   "metadata": {},
   "outputs": [],
   "source": [
    "texte = \"Je suppose les hommes parvenus à ce point où les obstacles qui nuisent à leur conservation dans l’état de nature l’emportent, par leur résistance, sur les forces que chaque individu peut employer pour se maintenir dans cet état. Alors cet état primitif ne peut plus subsister ; et le genre humain périrait s’il ne changeait de manière d’être. Or, comme les hommes ne peuvent engendrer de nouvelles forces, mais seulement unir et diriger celles qui existent, ils n’ont plus d’autre moyen, pour se conserver, que de former par agrégation une somme de forces qui puisse l’emporter sur la résistance, de les mettre en jeu par un seul mobile et de les faire agir de concert. Cette somme de forces ne peut naître que du concours de plusieurs ; mais la force et la liberté de chaque homme étant les premiers instruments de sa conservation, comment les engagera-t-il sans se nuire et sans négliger les soins qu’il se doit ? Cette difficulté, ramenée à mon sujet, peut s’énoncer en ces termes : « Trouver une forme d’association qui défende et protège de toute la force commune la personne et les biens de chaque associé, et par laquelle chacun, s’unissant à tous, n’obéisse pourtant qu’à lui-même, et reste aussi libre qu’auparavant. » Tel est le problème fondamental dont le Contrat social donne la solution. Les clauses de ce contrat sont tellement déterminées par la nature de l’acte, que la moindre modification les rendrait vaines et de nul effet ; en sorte que, bien qu’elles n’aient peut-être jamais été formellement énoncées, elles sont partout les mêmes, partout tacitement admises et reconnues, jusqu’à ce que, le pacte social étant violé, chacun rentre alors dans ses premiers droits, et reprenne sa liberté naturelle, en perdant la liberté conventionnelle pour laquelle il y renonça. Ces clauses, bien entendues, se réduisent toutes à une seule – savoir, l’aliénation totale de chaque associé avec tous ses droits à toute la communauté : car, premièrement, chacun se donnant tout entier, la condition est égale pour tous ; et la condition étant égale pour tous, nul n’a intérêt de la rendre onéreuse aux autres. De plus, l’aliénation se faisant sans réserve, l’union est aussi parfaite qu’elle peut l’être, et nul associé n’a plus rien à réclamer : car, s’il restait quelques droits aux particuliers, comme il n’y aurait aucun supérieur commun qui pût prononcer entre eux et le public, chacun, étant en quelque point son propre juge, prétendrait bientôt l’être en tous ; l’état de nature subsisterait, et l’association deviendrait nécessairement tyrannique ou vaine. Enfin, chacun se donnant à tous ne se donne à personne ; et comme il n’y a pas un associé sur lequel on n’acquière le même droit qu’on lui cède sur soi, on gagne l’équivalent de tout ce qu’on perd, et plus de force pour conserver ce qu’on a. Si donc on écarte du pacte social ce qui n’est pas de son essence, on trouvera qu’il se réduit aux termes suivants : « Chacun de nous met en commun sa personne et toute sa puissance sous la suprême direction de la volonté générale ; et nous recevons encore chaque membre comme partie indivisible du tout. » À l’instant, au lieu de la personne particulière de chaque contractant, cet acte d’association produit un corps moral et collectif, composé d’autant de membres que l’assemblée a de voix, lequel reçoit de ce même acte son unité, son moi commun, sa vie et sa volonté. Cette personne publique, qui se forme ainsi par l’union de toutes les autres, prenait autrefois le nom de cité, et prend maintenant celui de république ou de corps politique, lequel est appelé par ses membres État quand il est passif, souverain quand il est actif, puissance en le comparant à ses semblables. À l’égard des associés, ils prennent collectivement le nom de peuple, et s’appellent en particulier citoyens, comme participant à l’autorité souveraine, et sujets, comme soumis aux lois de l’État. Mais ces termes se confondent souvent et se prennent l’un pour l’autre ; il suffit de les savoir distinguer quand ils sont employés dans toute leur précision.\""
   ]
  },
  {
   "cell_type": "code",
   "execution_count": 7,
   "metadata": {},
   "outputs": [
    {
     "name": "stdout",
     "output_type": "stream",
     "text": [
      "reverse : .noisicérp ruel etuot snad séyolpme tnos sli dnauq reugnitsid riovas sel ed tiffus li ; ertua’l ruop nu’l tnennerp es te tnevuos tnednofnoc es semret sec siaM .tatÉ’l ed siol xua simuos emmoc ,stejus te ,eniarevuos étirotua’l à tnapicitrap emmoc ,sneyotic reilucitrap ne tnelleppa’s te ,elpuep ed mon el tnemevitcelloc tnennerp sli ,séicossa sed dragé’l À .selbalbmes ses à tnarapmoc el ne ecnassiup ,fitca tse li dnauq niarevuos ,fissap tse li dnauq tatÉ serbmem ses rap éleppa tse leuqel ,euqitilop sproc ed uo euqilbupér ed iulec tnanetniam dnerp te ,étic ed mon el siofertua tianerp ,sertua sel setuot ed noinu’l rap isnia emrof es iuq ,euqilbup ennosrep etteC .étnolov as te eiv as ,nummoc iom nos ,étinu nos etca emêm ec ed tioçer leuqel ,xiov ed a eélbmessa’l euq serbmem ed tnatua’d ésopmoc ,fitcelloc te larom sproc nu tiudorp noitaicossa’d etca tec ,tnatcartnoc euqahc ed erèilucitrap ennosrep al ed ueil ua ,tnatsni’l À » .tuot ud elbisividni eitrap emmoc erbmem euqahc erocne snovecer suon te ; elarénég étnolov al ed noitcerid emêrpus al suos ecnassiup as etuot te ennosrep as nummoc ne tem suon ed nucahC « : stnavius semret xua tiudér es li’uq arevuort no ,ecnesse nos ed sap tse’n iuq ec laicos etcap ud etracé no cnod iS .a no’uq ec revresnoc ruop ecrof ed sulp te ,drep no’uq ec tuot ed tnelaviuqé’l engag no ,ios rus edèc iul no’uq tiord emêm el erèiuqca’n no leuqel rus éicossa nu sap a y’n li emmoc te ; ennosrep à ennod es en suot à tnannod es nucahc ,nifnE .eniav uo euqinnaryt tnemeriassecén tiardneived noitaicossa’l te ,tiaretsisbus erutan ed taté’l ; suot ne ertê’l tôtneib tiardnetérp ,eguj erporp nos tniop euqleuq ne tnaté ,nucahc ,cilbup el te xue ertne recnonorp tûp iuq nummoc rueirépus nucua tiarua y’n li emmoc ,sreilucitrap xua stiord seuqleuq tiatser li’s ,rac : remalcér à neir sulp a’n éicossa lun te ,ertê’l tuep elle’uq etiafrap issua tse noinu’l ,evresér snas tnasiaf es noitanéila’l ,sulp eD .sertua xua esueréno erdner al ed têrétni a’n lun ,suot ruop elagé tnaté noitidnoc al te ; suot ruop elagé tse noitidnoc al ,reitne tuot tnannod es nucahc ,tnemerèimerp ,rac : étuanummoc al etuot à stiord ses suot ceva éicossa euqahc ed elatot noitanéila’l ,riovas – elues enu à setuot tnesiudér es ,seudnetne neib ,sesualc seC .açnoner y li elleuqal ruop ellennoitnevnoc étrebil al tnadrep ne ,ellerutan étrebil as ennerper te ,stiord sreimerp ses snad srola ertner nucahc ,éloiv tnaté laicos etcap el ,euq ec à’uqsuj ,seunnocer te sesimda tnemeticat tuotrap ,semêm sel tuotrap tnos selle ,seécnoné tnemellemrof été siamaj ertê-tuep tneia’n selle’uq neib ,euq etros ne ; teffe lun ed te seniav tiardner sel noitacifidom erdniom al euq ,etca’l ed erutan al rap seénimretéd tnemellet tnos tartnoc ec ed sesualc seL .noitulos al ennod laicos tartnoC el tnod latnemadnof emèlborp el tse leT » .tnavarapua’uq erbil issua etser te ,emêm-iul à’uq tnatruop essiébo’n ,suot à tnassinu’s ,nucahc elleuqal rap te ,éicossa euqahc ed sneib sel te ennosrep al enummoc ecrof al etuot ed egètorp te edneféd iuq noitaicossa’d emrof enu revuorT « : semret sec ne recnoné’s tuep ,tejus nom à eénemar ,étluciffid etteC ? tiod es li’uq snios sel regilgén snas te eriun es snas li-t-aregagne sel tnemmoc ,noitavresnoc as ed stnemurtsni sreimerp sel tnaté emmoh euqahc ed étrebil al te ecrof al siam ; srueisulp ed sruocnoc ud euq ertîan tuep en secrof ed emmos etteC .trecnoc ed riga eriaf sel ed te elibom lues nu rap uej ne erttem sel ed ,ecnatsisér al rus retropme’l essiup iuq secrof ed emmos enu noitagérga rap remrof ed euq ,revresnoc es ruop ,neyom ertua’d sulp tno’n sli ,tnetsixe iuq sellec regirid te rinu tnemelues siam ,secrof sellevuon ed rerdnegne tnevuep en semmoh sel emmoc ,rO .ertê’d erèinam ed tiaegnahc en li’s tiarirép niamuh erneg el te ; retsisbus sulp tuep en fitimirp taté tec srolA .taté tec snad rinetniam es ruop reyolpme tuep udividni euqahc euq secrof sel rus ,ecnatsisér ruel rap ,tnetropme’l erutan ed taté’l snad noitavresnoc ruel à tnesiun iuq selcatsbo sel ùo tniop ec à sunevrap semmoh sel esoppus eJ \n",
      "\n",
      "Le temps avec reverse : 0.0017160999999958904 \n",
      "\n"
     ]
    }
   ],
   "source": [
    "from timeit import default_timer as timer\n",
    "\n",
    "\n",
    "debut = timer()\n",
    "print('reverse :', reverse(texte), \"\\n\")\n",
    "fin = timer()\n",
    "print('Le temps avec reverse :', fin-debut, \"\\n\")"
   ]
  },
  {
   "cell_type": "code",
   "execution_count": 8,
   "metadata": {},
   "outputs": [
    {
     "name": "stdout",
     "output_type": "stream",
     "text": [
      "autre_reverse : .noisicérp ruel etuot snad séyolpme tnos sli dnauq reugnitsid riovas sel ed tiffus li ; ertua’l ruop nu’l tnennerp es te tnevuos tnednofnoc es semret sec siaM .tatÉ’l ed siol xua simuos emmoc ,stejus te ,eniarevuos étirotua’l à tnapicitrap emmoc ,sneyotic reilucitrap ne tnelleppa’s te ,elpuep ed mon el tnemevitcelloc tnennerp sli ,séicossa sed dragé’l À .selbalbmes ses à tnarapmoc el ne ecnassiup ,fitca tse li dnauq niarevuos ,fissap tse li dnauq tatÉ serbmem ses rap éleppa tse leuqel ,euqitilop sproc ed uo euqilbupér ed iulec tnanetniam dnerp te ,étic ed mon el siofertua tianerp ,sertua sel setuot ed noinu’l rap isnia emrof es iuq ,euqilbup ennosrep etteC .étnolov as te eiv as ,nummoc iom nos ,étinu nos etca emêm ec ed tioçer leuqel ,xiov ed a eélbmessa’l euq serbmem ed tnatua’d ésopmoc ,fitcelloc te larom sproc nu tiudorp noitaicossa’d etca tec ,tnatcartnoc euqahc ed erèilucitrap ennosrep al ed ueil ua ,tnatsni’l À » .tuot ud elbisividni eitrap emmoc erbmem euqahc erocne snovecer suon te ; elarénég étnolov al ed noitcerid emêrpus al suos ecnassiup as etuot te ennosrep as nummoc ne tem suon ed nucahC « : stnavius semret xua tiudér es li’uq arevuort no ,ecnesse nos ed sap tse’n iuq ec laicos etcap ud etracé no cnod iS .a no’uq ec revresnoc ruop ecrof ed sulp te ,drep no’uq ec tuot ed tnelaviuqé’l engag no ,ios rus edèc iul no’uq tiord emêm el erèiuqca’n no leuqel rus éicossa nu sap a y’n li emmoc te ; ennosrep à ennod es en suot à tnannod es nucahc ,nifnE .eniav uo euqinnaryt tnemeriassecén tiardneived noitaicossa’l te ,tiaretsisbus erutan ed taté’l ; suot ne ertê’l tôtneib tiardnetérp ,eguj erporp nos tniop euqleuq ne tnaté ,nucahc ,cilbup el te xue ertne recnonorp tûp iuq nummoc rueirépus nucua tiarua y’n li emmoc ,sreilucitrap xua stiord seuqleuq tiatser li’s ,rac : remalcér à neir sulp a’n éicossa lun te ,ertê’l tuep elle’uq etiafrap issua tse noinu’l ,evresér snas tnasiaf es noitanéila’l ,sulp eD .sertua xua esueréno erdner al ed têrétni a’n lun ,suot ruop elagé tnaté noitidnoc al te ; suot ruop elagé tse noitidnoc al ,reitne tuot tnannod es nucahc ,tnemerèimerp ,rac : étuanummoc al etuot à stiord ses suot ceva éicossa euqahc ed elatot noitanéila’l ,riovas – elues enu à setuot tnesiudér es ,seudnetne neib ,sesualc seC .açnoner y li elleuqal ruop ellennoitnevnoc étrebil al tnadrep ne ,ellerutan étrebil as ennerper te ,stiord sreimerp ses snad srola ertner nucahc ,éloiv tnaté laicos etcap el ,euq ec à’uqsuj ,seunnocer te sesimda tnemeticat tuotrap ,semêm sel tuotrap tnos selle ,seécnoné tnemellemrof été siamaj ertê-tuep tneia’n selle’uq neib ,euq etros ne ; teffe lun ed te seniav tiardner sel noitacifidom erdniom al euq ,etca’l ed erutan al rap seénimretéd tnemellet tnos tartnoc ec ed sesualc seL .noitulos al ennod laicos tartnoC el tnod latnemadnof emèlborp el tse leT » .tnavarapua’uq erbil issua etser te ,emêm-iul à’uq tnatruop essiébo’n ,suot à tnassinu’s ,nucahc elleuqal rap te ,éicossa euqahc ed sneib sel te ennosrep al enummoc ecrof al etuot ed egètorp te edneféd iuq noitaicossa’d emrof enu revuorT « : semret sec ne recnoné’s tuep ,tejus nom à eénemar ,étluciffid etteC ? tiod es li’uq snios sel regilgén snas te eriun es snas li-t-aregagne sel tnemmoc ,noitavresnoc as ed stnemurtsni sreimerp sel tnaté emmoh euqahc ed étrebil al te ecrof al siam ; srueisulp ed sruocnoc ud euq ertîan tuep en secrof ed emmos etteC .trecnoc ed riga eriaf sel ed te elibom lues nu rap uej ne erttem sel ed ,ecnatsisér al rus retropme’l essiup iuq secrof ed emmos enu noitagérga rap remrof ed euq ,revresnoc es ruop ,neyom ertua’d sulp tno’n sli ,tnetsixe iuq sellec regirid te rinu tnemelues siam ,secrof sellevuon ed rerdnegne tnevuep en semmoh sel emmoc ,rO .ertê’d erèinam ed tiaegnahc en li’s tiarirép niamuh erneg el te ; retsisbus sulp tuep en fitimirp taté tec srolA .taté tec snad rinetniam es ruop reyolpme tuep udividni euqahc euq secrof sel rus ,ecnatsisér ruel rap ,tnetropme’l erutan ed taté’l snad noitavresnoc ruel à tnesiun iuq selcatsbo sel ùo tniop ec à sunevrap semmoh sel esoppus eJ \n",
      "\n",
      "Le temps avec autre_reverse : 0.0020266000000006557 \n",
      "\n"
     ]
    }
   ],
   "source": [
    "debut = timer()\n",
    "print('autre_reverse :', autre_reverse(texte), \"\\n\")\n",
    "fin = timer()\n",
    "print('Le temps avec autre_reverse :', fin-debut, \"\\n\")"
   ]
  },
  {
   "cell_type": "code",
   "execution_count": 11,
   "metadata": {},
   "outputs": [
    {
     "name": "stdout",
     "output_type": "stream",
     "text": [
      "reverse_slice : .noisicérp ruel etuot snad séyolpme tnos sli dnauq reugnitsid riovas sel ed tiffus li ; ertua’l ruop nu’l tnennerp es te tnevuos tnednofnoc es semret sec siaM .tatÉ’l ed siol xua simuos emmoc ,stejus te ,eniarevuos étirotua’l à tnapicitrap emmoc ,sneyotic reilucitrap ne tnelleppa’s te ,elpuep ed mon el tnemevitcelloc tnennerp sli ,séicossa sed dragé’l À .selbalbmes ses à tnarapmoc el ne ecnassiup ,fitca tse li dnauq niarevuos ,fissap tse li dnauq tatÉ serbmem ses rap éleppa tse leuqel ,euqitilop sproc ed uo euqilbupér ed iulec tnanetniam dnerp te ,étic ed mon el siofertua tianerp ,sertua sel setuot ed noinu’l rap isnia emrof es iuq ,euqilbup ennosrep etteC .étnolov as te eiv as ,nummoc iom nos ,étinu nos etca emêm ec ed tioçer leuqel ,xiov ed a eélbmessa’l euq serbmem ed tnatua’d ésopmoc ,fitcelloc te larom sproc nu tiudorp noitaicossa’d etca tec ,tnatcartnoc euqahc ed erèilucitrap ennosrep al ed ueil ua ,tnatsni’l À » .tuot ud elbisividni eitrap emmoc erbmem euqahc erocne snovecer suon te ; elarénég étnolov al ed noitcerid emêrpus al suos ecnassiup as etuot te ennosrep as nummoc ne tem suon ed nucahC « : stnavius semret xua tiudér es li’uq arevuort no ,ecnesse nos ed sap tse’n iuq ec laicos etcap ud etracé no cnod iS .a no’uq ec revresnoc ruop ecrof ed sulp te ,drep no’uq ec tuot ed tnelaviuqé’l engag no ,ios rus edèc iul no’uq tiord emêm el erèiuqca’n no leuqel rus éicossa nu sap a y’n li emmoc te ; ennosrep à ennod es en suot à tnannod es nucahc ,nifnE .eniav uo euqinnaryt tnemeriassecén tiardneived noitaicossa’l te ,tiaretsisbus erutan ed taté’l ; suot ne ertê’l tôtneib tiardnetérp ,eguj erporp nos tniop euqleuq ne tnaté ,nucahc ,cilbup el te xue ertne recnonorp tûp iuq nummoc rueirépus nucua tiarua y’n li emmoc ,sreilucitrap xua stiord seuqleuq tiatser li’s ,rac : remalcér à neir sulp a’n éicossa lun te ,ertê’l tuep elle’uq etiafrap issua tse noinu’l ,evresér snas tnasiaf es noitanéila’l ,sulp eD .sertua xua esueréno erdner al ed têrétni a’n lun ,suot ruop elagé tnaté noitidnoc al te ; suot ruop elagé tse noitidnoc al ,reitne tuot tnannod es nucahc ,tnemerèimerp ,rac : étuanummoc al etuot à stiord ses suot ceva éicossa euqahc ed elatot noitanéila’l ,riovas – elues enu à setuot tnesiudér es ,seudnetne neib ,sesualc seC .açnoner y li elleuqal ruop ellennoitnevnoc étrebil al tnadrep ne ,ellerutan étrebil as ennerper te ,stiord sreimerp ses snad srola ertner nucahc ,éloiv tnaté laicos etcap el ,euq ec à’uqsuj ,seunnocer te sesimda tnemeticat tuotrap ,semêm sel tuotrap tnos selle ,seécnoné tnemellemrof été siamaj ertê-tuep tneia’n selle’uq neib ,euq etros ne ; teffe lun ed te seniav tiardner sel noitacifidom erdniom al euq ,etca’l ed erutan al rap seénimretéd tnemellet tnos tartnoc ec ed sesualc seL .noitulos al ennod laicos tartnoC el tnod latnemadnof emèlborp el tse leT » .tnavarapua’uq erbil issua etser te ,emêm-iul à’uq tnatruop essiébo’n ,suot à tnassinu’s ,nucahc elleuqal rap te ,éicossa euqahc ed sneib sel te ennosrep al enummoc ecrof al etuot ed egètorp te edneféd iuq noitaicossa’d emrof enu revuorT « : semret sec ne recnoné’s tuep ,tejus nom à eénemar ,étluciffid etteC ? tiod es li’uq snios sel regilgén snas te eriun es snas li-t-aregagne sel tnemmoc ,noitavresnoc as ed stnemurtsni sreimerp sel tnaté emmoh euqahc ed étrebil al te ecrof al siam ; srueisulp ed sruocnoc ud euq ertîan tuep en secrof ed emmos etteC .trecnoc ed riga eriaf sel ed te elibom lues nu rap uej ne erttem sel ed ,ecnatsisér al rus retropme’l essiup iuq secrof ed emmos enu noitagérga rap remrof ed euq ,revresnoc es ruop ,neyom ertua’d sulp tno’n sli ,tnetsixe iuq sellec regirid te rinu tnemelues siam ,secrof sellevuon ed rerdnegne tnevuep en semmoh sel emmoc ,rO .ertê’d erèinam ed tiaegnahc en li’s tiarirép niamuh erneg el te ; retsisbus sulp tuep en fitimirp taté tec srolA .taté tec snad rinetniam es ruop reyolpme tuep udividni euqahc euq secrof sel rus ,ecnatsisér ruel rap ,tnetropme’l erutan ed taté’l snad noitavresnoc ruel à tnesiun iuq selcatsbo sel ùo tniop ec à sunevrap semmoh sel esoppus eJ \n",
      "\n",
      "Le temps avec reverse_slice : 0.0004860000000022069 \n",
      "\n"
     ]
    }
   ],
   "source": [
    "debut = timer()\n",
    "print('reverse_slice :', reverse_slice(texte), \"\\n\")\n",
    "fin = timer()\n",
    "print('Le temps avec reverse_slice :', fin-debut, \"\\n\")"
   ]
  },
  {
   "cell_type": "code",
   "execution_count": null,
   "metadata": {},
   "outputs": [],
   "source": [
    "debut = timer()\n",
    "print('reverse_recursif_slice :', reverse_recursif_slice(texte), \"\\n\")\n",
    "fin = timer()\n",
    "print('Le temps avec reverse_recursif_slice:', fin-debut, \"\\n\")"
   ]
  },
  {
   "cell_type": "markdown",
   "metadata": {},
   "source": [
    "<h1>Exercice 2</h1>"
   ]
  },
  {
   "cell_type": "markdown",
   "metadata": {},
   "source": [
    "Le but de cet exercice est de compléter un code permettant de trouver tout les nombres premiers \n",
    "\n",
    "( Un nombre permier est un nombre qui n'admet que 2 diviseurs : 1 et lui-même )\n",
    "\n",
    "Pour ce faire on utilise le crible d'Ératosthène\n",
    "\n",
    "Le crible d’Ératosthène permet de déterminer les nombres premiers plus petit qu’un certain nombre N fixé\n"
   ]
  },
  {
   "cell_type": "markdown",
   "metadata": {},
   "source": [
    "\n",
    "On considère pour cela un tableau tab de N booléens, initialement tous égaux à True, sauf\n",
    "tab[0] et tab[1] qui valent False, 0 et 1 n’étant pas des nombres premiers.\n",
    "\n",
    "On parcourt alors ce tableau de gauche à droite.\n",
    "Pour chaque indice i :\n",
    "- si tab[i] vaut True : le nombre i est premier et on donne la valeur False à toutes les\n",
    "cases du tableau dont l’indice est un multiple de i, à partir de 2*i (c’est-à-dire 2*i, 3*i …).\n",
    "- si tab[i] vaut False : le nombre i n’est pas premier et on n’effectue aucun\n",
    "changement sur le tableau."
   ]
  },
  {
   "cell_type": "markdown",
   "metadata": {},
   "source": [
    "<h4>Code à completer</h4>"
   ]
  },
  {
   "cell_type": "code",
   "execution_count": 2,
   "metadata": {},
   "outputs": [],
   "source": [
    "def crible(N : int) -> list :\n",
    "    \"\"\"\n",
    "    Renvoie un tableau contenant tout les nombres premiers plus petits que N\n",
    "\n",
    "    Exemple : >>> crible(40)\n",
    "              >>> [2, 3, 5, 7, 11, 13, 17, 19, 23, 29, 31, 37]\n",
    "    \"\"\"\n",
    "    assert type(N) == int, \"L'entrée doit être de type int\"\n",
    "\n",
    "    premiers = []\n",
    "    tab = [True] * N\n",
    "    tab[0], tab[1] = False, False\n",
    "\n",
    "    for i in range(..., N) :\n",
    "        if tab[i] == ... :\n",
    "            premiers.append(...)\n",
    "            for multiples in range(2*i, N, ...) :\n",
    "                tab[multiples] = ...\n",
    "    return premiers"
   ]
  },
  {
   "cell_type": "markdown",
   "metadata": {},
   "source": [
    "<h4>Code complété</h4>"
   ]
  },
  {
   "cell_type": "code",
   "execution_count": 3,
   "metadata": {},
   "outputs": [],
   "source": [
    "def crible(N : int) -> list :\n",
    "    \"\"\"\n",
    "    Renvoie un tableau contenant tout les nombres premiers plus petits que N\n",
    "\n",
    "    Exemple : >>> crible(40)\n",
    "              >>> [2, 3, 5, 7, 11, 13, 17, 19, 23, 29, 31, 37]\n",
    "    \"\"\"\n",
    "    assert type(N) == int, \"L'entrée doit être de type int\"\n",
    "\n",
    "    premiers = []\n",
    "    tab = [True] * N\n",
    "    tab[0], tab[1] = False, False\n",
    "\n",
    "    for i in range(2, N) :\n",
    "        if tab[i] == True :\n",
    "            premiers.append(i)\n",
    "            for multiples in range(2*i, N, i) :\n",
    "                tab[multiples] = False\n",
    "    return premiers"
   ]
  },
  {
   "cell_type": "code",
   "execution_count": 4,
   "metadata": {},
   "outputs": [
    {
     "data": {
      "text/plain": [
       "[2, 3, 5, 7, 11, 13, 17, 19, 23, 29, 31, 37]"
      ]
     },
     "execution_count": 4,
     "metadata": {},
     "output_type": "execute_result"
    }
   ],
   "source": [
    "crible(40)"
   ]
  },
  {
   "cell_type": "markdown",
   "metadata": {},
   "source": [
    "<h4>Ce n'est qu'une méthode possible et qui ne couvre qu'un des problèmes possibles avec les nombres premiers. <br> On pourrait aussi chercher quel est le n-ième nombre premier, si un nombre donné est premier ou non, etc.</h4>"
   ]
  }
 ],
 "metadata": {
  "interpreter": {
   "hash": "d392c9ddaa6b365e1706bdbc6bd2786d403f6271a103ff8a7f34ee918c5830ad"
  },
  "kernelspec": {
   "display_name": "Python 3.9.1 64-bit",
   "language": "python",
   "name": "python3"
  },
  "language_info": {
   "codemirror_mode": {
    "name": "ipython",
    "version": 3
   },
   "file_extension": ".py",
   "mimetype": "text/x-python",
   "name": "python",
   "nbconvert_exporter": "python",
   "pygments_lexer": "ipython3",
   "version": "3.9.4"
  },
  "orig_nbformat": 4
 },
 "nbformat": 4,
 "nbformat_minor": 2
}
