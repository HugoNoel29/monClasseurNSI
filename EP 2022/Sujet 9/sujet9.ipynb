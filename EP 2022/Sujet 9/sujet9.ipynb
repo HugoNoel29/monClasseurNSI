{
 "cells": [
  {
   "cell_type": "markdown",
   "metadata": {},
   "source": [
    "<h1>Exercice 1"
   ]
  },
  {
   "cell_type": "markdown",
   "metadata": {},
   "source": [
    "Soit un nombre entier supérieur ou égal à 1 :\n",
    "- s'il est pair, on le divise par 2 ;\n",
    "- s’il est impair, on le multiplie par 3 et on ajoute 1.\n",
    "\n",
    "Puis on recommence ces étapes avec le nombre entier obtenu, jusqu’à ce que l’on\n",
    "obtienne la valeur 1.\n",
    "\n",
    "On définit ainsi la suite (un) par\n",
    "- u0 = k , où k est un entier choisi initialement ;\n",
    "- un+1 = un / 2 si un est pair ;\n",
    "- un+1 = 3×un + 1 si un est impair.\n",
    "\n",
    "On admet que, quel que soit l’entier k choisi au départ, la suite finit toujours sur la\n",
    "valeur 1.\n",
    "Écrire une fonction calcul prenant en paramètres un entier n strictement positif et qui\n",
    "renvoie la liste des valeurs un , en partant de k et jusqu’à atteindre 1."
   ]
  },
  {
   "cell_type": "code",
   "execution_count": 20,
   "metadata": {},
   "outputs": [],
   "source": [
    "def Uk_pair(valeur : int) :\n",
    "    return valeur // 2"
   ]
  },
  {
   "cell_type": "code",
   "execution_count": 21,
   "metadata": {},
   "outputs": [],
   "source": [
    "def Uk_impair(valeur : int) :\n",
    "    return (3 * valeur) + 1"
   ]
  },
  {
   "cell_type": "code",
   "execution_count": 22,
   "metadata": {},
   "outputs": [],
   "source": [
    "def calcul(k : int) -> list :\n",
    "    \"\"\"\n",
    "    Description : Soit un nombre entier supérieur ou égal à 1 :\n",
    "                - s'il est pair, on le divise par 2 ;\n",
    "                - s’il est impair, on le multiplie par 3 et on ajoute 1.\n",
    "\n",
    "                Puis on recommence ces étapes avec le nombre entier obtenu, jusqu’à ce que l’on\n",
    "                obtienne la valeur 1.\n",
    "\n",
    "                On définit ainsi la suite (un) par\n",
    "                - u0 = k , où k est un entier choisi initialement ;\n",
    "                - un+1 = un / 2 si un est pair ;\n",
    "                - un+1 = 3×un + 1 si un est impair.\n",
    "\n",
    "                On admet que, quel que soit l’entier k choisi au départ, la suite finit toujours sur la\n",
    "                valeur 1.\n",
    "                Écrire une fonction calcul prenant en paramètres un entier n strictement positif et qui\n",
    "                renvoie la liste des valeurs un , en partant de k et jusqu’à atteindre 1.\n",
    "\n",
    "    Exemple : >>> calcul(7)\n",
    "              >>> [7, 22, 11, 34, 17, 52, 26, 13, 40, 20, 10, 5, 16, 8, 4, 2]\n",
    "\n",
    "    Préconditions : (int) : la valeur de U(0)\n",
    "                    (function) : Uk_pair : la fonction pour faire évoluer k s'il est pair\n",
    "                    (function) : Uk_impair : la fonction pour faire évoluer k s'il est impair\n",
    "\n",
    "    Postconditions : (list) : la liste de toutes les valeurs que prend k\n",
    "                              les indices des valeurs représentent la position dans la suite \n",
    "                              ex : liste_valeurs[5] = 52 : U(5) = 52\n",
    "    \"\"\"\n",
    "    assert type(k) == int, \"k doit être de type int\"\n",
    "\n",
    "    liste_valeurs = []\n",
    "\n",
    "    while k != 1 :\n",
    "        liste_valeurs.append(k)\n",
    "        if k%2 == 0 :\n",
    "            k = Uk_pair(k)\n",
    "        else :\n",
    "            k = Uk_impair(k)\n",
    "    return liste_valeurs"
   ]
  },
  {
   "cell_type": "code",
   "execution_count": 23,
   "metadata": {},
   "outputs": [
    {
     "data": {
      "text/plain": [
       "[7, 22, 11, 34, 17, 52, 26, 13, 40, 20, 10, 5, 16, 8, 4, 2]"
      ]
     },
     "execution_count": 23,
     "metadata": {},
     "output_type": "execute_result"
    }
   ],
   "source": [
    "calcul(7)"
   ]
  },
  {
   "cell_type": "markdown",
   "metadata": {},
   "source": [
    "<h1>Exercice 2"
   ]
  },
  {
   "cell_type": "markdown",
   "metadata": {},
   "source": [
    "Pour un mot donné, on détermine d’une part son code alphabétique concaténé, obtenu\n",
    "par la juxtaposition des codes de chacun de ses caractères, et d’autre part, son code\n",
    "additionné, qui est la somme des codes de chacun de ses caractères.\n",
    "Par ailleurs, on dit que ce mot est « parfait » si le code additionné divise le code concaténé.\n",
    "Exemples :\n",
    "- Pour le mot \"PAUL\", le code concaténé est la chaîne 1612112, soit l’entier\n",
    "1 612 112.\n",
    "3 / 3\n",
    "Son code additionné est l’entier 50 car 16 + 1 + 21 + 12 = 50.\n",
    "50 ne divise pas l’entier 1 612 112 ; par conséquent, le mot \"PAUL\" n’est pas\n",
    "parfait.\n",
    "-\n",
    "- Pour le mot \"ALAIN\", le code concaténé est la chaîne 1121914, soit l’entier\n",
    "1 121 914.\n",
    "Le code additionné est l’entier 37 car 1 + 12 + 1 + 9 + 14 = 37.\n",
    "37 divise l’entier 1 121 914 ; par conséquent, le mot \"ALAIN\" est parfait.\n",
    "Compléter la fonction est_parfait ci-dessous qui prend comme argument une chaîne\n",
    "de caractères mot (en lettres majuscules) et qui renvoie le code alphabétique concaténé,\n",
    "le code additionné de mot, ainsi qu’un booléen qui indique si mot est parfait ou pas."
   ]
  },
  {
   "cell_type": "code",
   "execution_count": 3,
   "metadata": {},
   "outputs": [],
   "source": [
    "dico = {\"A\":1, \"B\":2, \"C\":3, \"D\":4, \"E\":5, \"F\":6, \"G\":7, \\\n",
    " \"H\":8, \"I\":9, \"J\":10, \"K\":11, \"L\":12, \"M\":13, \\\n",
    " \"N\":14, \"O\":15, \"P\":16, \"Q\":17, \"R\":18, \"S\":19, \\\n",
    " \"T\":20, \"U\":21,\"V\":22, \"W\":23, \"X\":24, \"Y\":25, \"Z\":26}"
   ]
  },
  {
   "cell_type": "code",
   "execution_count": 4,
   "metadata": {},
   "outputs": [
    {
     "data": {
      "text/plain": [
       "8"
      ]
     },
     "execution_count": 4,
     "metadata": {},
     "output_type": "execute_result"
    }
   ],
   "source": [
    "dico[\"H\"]"
   ]
  },
  {
   "cell_type": "code",
   "execution_count": 6,
   "metadata": {},
   "outputs": [
    {
     "name": "stdout",
     "output_type": "stream",
     "text": [
      "8\n",
      "21\n",
      "7\n",
      "15\n"
     ]
    }
   ],
   "source": [
    "for i in \"HUGO\" :\n",
    "    print(dico[i])"
   ]
  },
  {
   "cell_type": "code",
   "execution_count": 7,
   "metadata": {},
   "outputs": [],
   "source": [
    "def est_parfait(mot : str) :\n",
    "    #mot est une chaîne de caractères (en lettres majuscules)\n",
    "    code_c = \"\"\n",
    "    code_a = 0\n",
    "    for c in mot :\n",
    "        code_c = code_c + str(dico[c])\n",
    "        code_a = code_a + dico[c]\n",
    "    code_c = int(code_c)\n",
    "    if (code_c % code_a) == 0 :\n",
    "        mot_est_parfait = True\n",
    "    else :\n",
    "        mot_est_parfait = False\n",
    "    return [code_a, code_c, mot_est_parfait]\n"
   ]
  },
  {
   "cell_type": "code",
   "execution_count": 8,
   "metadata": {},
   "outputs": [
    {
     "data": {
      "text/plain": [
       "[50, 1612112, False]"
      ]
     },
     "execution_count": 8,
     "metadata": {},
     "output_type": "execute_result"
    }
   ],
   "source": [
    "est_parfait(\"PAUL\")"
   ]
  },
  {
   "cell_type": "code",
   "execution_count": 9,
   "metadata": {},
   "outputs": [
    {
     "data": {
      "text/plain": [
       "[37, 1121914, True]"
      ]
     },
     "execution_count": 9,
     "metadata": {},
     "output_type": "execute_result"
    }
   ],
   "source": [
    "est_parfait(\"ALAIN\")"
   ]
  },
  {
   "cell_type": "code",
   "execution_count": 10,
   "metadata": {},
   "outputs": [
    {
     "data": {
      "text/plain": [
       "[51, 821715, False]"
      ]
     },
     "execution_count": 10,
     "metadata": {},
     "output_type": "execute_result"
    }
   ],
   "source": [
    "est_parfait(\"HUGO\")"
   ]
  },
  {
   "cell_type": "code",
   "execution_count": 11,
   "metadata": {},
   "outputs": [
    {
     "data": {
      "text/plain": [
       "[58, 18152914, False]"
      ]
     },
     "execution_count": 11,
     "metadata": {},
     "output_type": "execute_result"
    }
   ],
   "source": [
    "est_parfait(\"ROBIN\")"
   ]
  },
  {
   "cell_type": "code",
   "execution_count": 12,
   "metadata": {},
   "outputs": [
    {
     "data": {
      "text/plain": [
       "[70, 112524919, False]"
      ]
     },
     "execution_count": 12,
     "metadata": {},
     "output_type": "execute_result"
    }
   ],
   "source": [
    "est_parfait(\"ALEXIS\")"
   ]
  },
  {
   "cell_type": "code",
   "execution_count": 13,
   "metadata": {},
   "outputs": [
    {
     "data": {
      "text/plain": [
       "[89, 13120209521, False]"
      ]
     },
     "execution_count": 13,
     "metadata": {},
     "output_type": "execute_result"
    }
   ],
   "source": [
    "est_parfait(\"MATTIEU\")"
   ]
  },
  {
   "cell_type": "code",
   "execution_count": 14,
   "metadata": {},
   "outputs": [
    {
     "data": {
      "text/plain": [
       "[34, 14155, False]"
      ]
     },
     "execution_count": 14,
     "metadata": {},
     "output_type": "execute_result"
    }
   ],
   "source": [
    "est_parfait(\"NOE\")"
   ]
  },
  {
   "cell_type": "code",
   "execution_count": 15,
   "metadata": {},
   "outputs": [
    {
     "data": {
      "text/plain": [
       "[85, 121185129514, False]"
      ]
     },
     "execution_count": 15,
     "metadata": {},
     "output_type": "execute_result"
    }
   ],
   "source": [
    "est_parfait(\"AURELIEN\")"
   ]
  },
  {
   "cell_type": "code",
   "execution_count": 16,
   "metadata": {},
   "outputs": [
    {
     "data": {
      "text/plain": [
       "[72, 31251351420, False]"
      ]
     },
     "execution_count": 16,
     "metadata": {},
     "output_type": "execute_result"
    }
   ],
   "source": [
    "est_parfait(\"CLEMENT\")"
   ]
  },
  {
   "cell_type": "markdown",
   "metadata": {},
   "source": [
    "Cela ne fonctionne pas pour les noms composés"
   ]
  }
 ],
 "metadata": {
  "interpreter": {
   "hash": "d392c9ddaa6b365e1706bdbc6bd2786d403f6271a103ff8a7f34ee918c5830ad"
  },
  "kernelspec": {
   "display_name": "Python 3.9.1 64-bit",
   "language": "python",
   "name": "python3"
  },
  "language_info": {
   "codemirror_mode": {
    "name": "ipython",
    "version": 3
   },
   "file_extension": ".py",
   "mimetype": "text/x-python",
   "name": "python",
   "nbconvert_exporter": "python",
   "pygments_lexer": "ipython3",
   "version": "3.9.1"
  },
  "orig_nbformat": 4
 },
 "nbformat": 4,
 "nbformat_minor": 2
}
