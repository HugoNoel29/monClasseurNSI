{
 "cells": [
  {
   "cell_type": "markdown",
   "metadata": {},
   "source": [
    "<h1>Exercice 1"
   ]
  },
  {
   "cell_type": "code",
   "execution_count": 18,
   "metadata": {},
   "outputs": [],
   "source": [
    "def occurence_lettres(phrase : str) -> dict :\n",
    "    \"\"\"\n",
    "    Description : Cherche les occurences de caracteres dans une phrase (str).\n",
    "                  Les renvoient sous forme de dictionnaire dont les clefs sont les \n",
    "                  caracteres et les valeurs les occurences (Cf exemple).\n",
    "\n",
    "    Exemple : >>> occurence_lettres(\"Fromage\")\n",
    "              >>> {'F': 1, 'r': 1, 'o': 1, 'm': 1, 'a': 1, 'g': 1, 'e': 1}\n",
    "\n",
    "    Préconditions : (str) : la phrase dans laquelle on doit chercher les occurences\n",
    "\n",
    "    Postconditions : (dict) : le dictionnaire ou sont stockées les occurences\n",
    "    \"\"\"\n",
    "    assert type(phrase) == str, \"L'entrée doit être de type str\"\n",
    "\n",
    "    dictionnaire = {}\n",
    "\n",
    "    for caractere in phrase :\n",
    "        if caractere in dictionnaire :\n",
    "            dictionnaire[caractere] += 1\n",
    "        else :\n",
    "            dictionnaire[caractere] = 1\n",
    "    return dictionnaire"
   ]
  },
  {
   "cell_type": "code",
   "execution_count": 19,
   "metadata": {},
   "outputs": [
    {
     "data": {
      "text/plain": [
       "{'F': 1, 'r': 1, 'o': 1, 'm': 1, 'a': 1, 'g': 1, 'e': 1}"
      ]
     },
     "execution_count": 19,
     "metadata": {},
     "output_type": "execute_result"
    }
   ],
   "source": [
    "occurence_lettres(\"Fromage\")"
   ]
  },
  {
   "cell_type": "code",
   "execution_count": 20,
   "metadata": {},
   "outputs": [
    {
     "data": {
      "text/plain": [
       "{'J': 1,\n",
       " \"'\": 1,\n",
       " 'a': 2,\n",
       " 'i': 1,\n",
       " 'm': 2,\n",
       " 'e': 3,\n",
       " ' ': 3,\n",
       " 'l': 1,\n",
       " 'f': 1,\n",
       " 'r': 1,\n",
       " 'o': 1,\n",
       " 'g': 1,\n",
       " '!': 5}"
      ]
     },
     "execution_count": 20,
     "metadata": {},
     "output_type": "execute_result"
    }
   ],
   "source": [
    "occurence_lettres(\"J'aime le fromage !!!!!\")"
   ]
  },
  {
   "cell_type": "markdown",
   "metadata": {},
   "source": [
    "<h1>Exercice 2"
   ]
  },
  {
   "cell_type": "code",
   "execution_count": 28,
   "metadata": {},
   "outputs": [],
   "source": [
    "def fusion(L1 : list, L2 : list) -> list:\n",
    "\n",
    "    assert type(L1) == type(L2) == list, \"Les liste en entrée doivent être de type list\"\n",
    "    assert L1 == sorted(L1) and L2 == sorted(L2), \"Les listes doivent être triées\"\n",
    "\n",
    "    n1 = len(L1)\n",
    "    n2 = len(L2)\n",
    "    L12 = [0] * (n1 + n2)\n",
    "\n",
    "    i1 = 0\n",
    "    i2 = 0\n",
    "    i = 0\n",
    "\n",
    "    while i1 < n1 and i2 < n2 : #Rempli L12 jusqu'a qu'une des deux listes soit vide\n",
    "        if L1[i1] < L2[i2] :\n",
    "            L12[i] = L1[i1]\n",
    "            i1 += 1\n",
    "        else : # L2[i2] < L1[i1]\n",
    "            L12[i] = L2[i2]\n",
    "            i2 += 1\n",
    "        i += 1\n",
    "    while i1 < n1 : #Ce while s'execute si c'est L2 qui a rempli L12 avant L1\n",
    "        L12[i] += L1[i1]\n",
    "        i1 += 1\n",
    "        i += 1\n",
    "    while i2 < n2 : #Ce while s'execute si c'est L1 qui a rempli L12 avant L2\n",
    "        L12[i] = L2[i2]\n",
    "        i2 += 1\n",
    "        i += 1\n",
    "    return L12"
   ]
  },
  {
   "cell_type": "code",
   "execution_count": 29,
   "metadata": {},
   "outputs": [
    {
     "data": {
      "text/plain": [
       "[0, 1, 6, 7, 8, 9, 10]"
      ]
     },
     "execution_count": 29,
     "metadata": {},
     "output_type": "execute_result"
    }
   ],
   "source": [
    "fusion([1,6,10],[0,7,8,9])"
   ]
  },
  {
   "cell_type": "code",
   "execution_count": 30,
   "metadata": {},
   "outputs": [
    {
     "data": {
      "text/plain": [
       "[0, 0, 1, 2, 3, 4, 5, 5, 6, 7, 8, 9, 9, 745, 564646, 1654584, 6846546546]"
      ]
     },
     "execution_count": 30,
     "metadata": {},
     "output_type": "execute_result"
    }
   ],
   "source": [
    "fusion([0,5,9,745,1654584], [0,1,2,3,4,5,6,7,8,9,564646,6846546546])"
   ]
  }
 ],
 "metadata": {
  "interpreter": {
   "hash": "d392c9ddaa6b365e1706bdbc6bd2786d403f6271a103ff8a7f34ee918c5830ad"
  },
  "kernelspec": {
   "display_name": "Python 3.9.1 64-bit",
   "language": "python",
   "name": "python3"
  },
  "language_info": {
   "codemirror_mode": {
    "name": "ipython",
    "version": 3
   },
   "file_extension": ".py",
   "mimetype": "text/x-python",
   "name": "python",
   "nbconvert_exporter": "python",
   "pygments_lexer": "ipython3",
   "version": "3.9.1"
  },
  "orig_nbformat": 4
 },
 "nbformat": 4,
 "nbformat_minor": 2
}
