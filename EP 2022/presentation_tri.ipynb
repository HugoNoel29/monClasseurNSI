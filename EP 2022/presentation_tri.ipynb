{
 "cells": [
  {
   "cell_type": "markdown",
   "metadata": {},
   "source": [
    "<h1>Les algorithmes de Tri"
   ]
  },
  {
   "cell_type": "markdown",
   "metadata": {},
   "source": [
    "<h2>Tri par sélection"
   ]
  },
  {
   "cell_type": "markdown",
   "metadata": {},
   "source": [
    "![tri par selection](extract.gif)"
   ]
  },
  {
   "cell_type": "markdown",
   "metadata": {},
   "source": [
    "- Cet algorithme divise le tableau en sous-parties triées et non triées. \n",
    "- Et puis, à chaque itération, nous prendrons l'élément minimum du sous-partie non triée et on la place dans la dernière position du sous-partie triée."
   ]
  },
  {
   "cell_type": "markdown",
   "metadata": {},
   "source": [
    "LES ÉTAPES :\n",
    "\n",
    "- On parcours le tableau pour : \n",
    "                                 - Rechercher le plus petit élément du tableau \n",
    "                                 - Le placer à la première position du tableau\n",
    "\n",
    "- On recommence cette même opération :\n",
    "                                         - En commençant à la deuxième position du tableau\n",
    "                                         - Le plus petit élément trouvé est placé à la deuxième position de tableau\n",
    "                                \n",
    "- Et ansi de suite jusqu'a l'avant dernière position du tableau"
   ]
  },
  {
   "cell_type": "code",
   "execution_count": 6,
   "metadata": {},
   "outputs": [
    {
     "data": {
      "text/plain": [
       "[687,\n",
       " 51981,\n",
       " 85955,\n",
       " 54484621,\n",
       " 98191919,\n",
       " 6565462659,\n",
       " 9819198198,\n",
       " 657898798461651]"
      ]
     },
     "execution_count": 6,
     "metadata": {},
     "output_type": "execute_result"
    }
   ],
   "source": [
    "def tri_selection(tab):\n",
    "\n",
    "   for i in range(len(tab)):\n",
    "      \n",
    "        #Stocke l'indice du plus petit élément\n",
    "        i_min = i\n",
    "\n",
    "        #Cherche l'indice du plus petit élément\n",
    "        for j in range(i+1, len(tab)):\n",
    "           # Vérification et remplacement de l'indice de l'élément minimum\n",
    "           if tab[i_min] > tab[j]:\n",
    "               i_min = j\n",
    "\n",
    "        # Échanger l'élément actuel avec l'élément minimum\n",
    "        tmp = tab[i]      ##\n",
    "        tab[i] = tab[i_min]  ## tab[i], tab[min] = tab[min], tab[i]\n",
    "        tab[i_min] = tmp    ##\n",
    "\n",
    "   return tab\n",
    "\n",
    "tri_selection([51981,98191919,9819198198,657898798461651,687,54484621,6565462659,85955])"
   ]
  },
  {
   "cell_type": "markdown",
   "metadata": {},
   "source": [
    "<img src=\"https://geekflare.com/wp-content/uploads/2021/01/1-4.png\">"
   ]
  },
  {
   "cell_type": "markdown",
   "metadata": {},
   "source": [
    "<img src=\"https://geekflare.com/wp-content/uploads/2021/01/2-4.png\">"
   ]
  },
  {
   "cell_type": "markdown",
   "metadata": {},
   "source": [
    "<img src=\"https://geekflare.com/wp-content/uploads/2021/01/3-4.png\">"
   ]
  },
  {
   "cell_type": "markdown",
   "metadata": {},
   "source": [
    "<img src=\"https://geekflare.com/wp-content/uploads/2021/01/4-4.png\">"
   ]
  },
  {
   "cell_type": "markdown",
   "metadata": {},
   "source": [
    "<img src=\"https://geekflare.com/wp-content/uploads/2021/01/5-4.png\">"
   ]
  },
  {
   "cell_type": "markdown",
   "metadata": {},
   "source": [
    "<img src=\"https://geekflare.com/wp-content/uploads/2021/01/6-2.png\">"
   ]
  },
  {
   "cell_type": "markdown",
   "metadata": {},
   "source": [
    "<h2>Selection inversée"
   ]
  },
  {
   "cell_type": "markdown",
   "metadata": {},
   "source": [
    "- La liste est séparée en 2 parties : \n",
    "\n",
    "                                      - la partie triée, à droite : représentée par tab[n] -> tab[-1]\n",
    "\n",
    "                                      - la partie non triée, à gauche : représentée par len(tab) - n\n",
    "                                      \n",
    "- On trouve l'indice de la plus grande valeur.\n",
    "- On l'échange avec la valeur du plus petit indice de la liste triée."
   ]
  },
  {
   "cell_type": "code",
   "execution_count": 2,
   "metadata": {},
   "outputs": [
    {
     "data": {
      "text/plain": [
       "[1, 4, 4, 5, 5, 8, 8, 9, 45, 45, 54, 65, 65, 84, 87, 987, 987]"
      ]
     },
     "execution_count": 2,
     "metadata": {},
     "output_type": "execute_result"
    }
   ],
   "source": [
    "def selection_inversée(tab : list) -> list :\n",
    "    n = 0\n",
    "    for _ in range(len(tab)) :\n",
    "        i_max = 0\n",
    "        for i in range(0, len(tab)-n) :\n",
    "            if tab[i] > tab[i_max] :\n",
    "                i_max = i\n",
    "                        \n",
    "        tampon = tab[i_max]           ###\n",
    "        tab[i_max] = tab[len(tab)-n-1]  ##  tab[i_max], tab[len(tab)-n-1] = tab[len(tab)-n-1], tab[i_max]\n",
    "        tab[len(tab)-n-1] = tampon    ###\n",
    "                                   \n",
    "        n += 1\n",
    "    return tab\n",
    "\n",
    "selection_inversée([9,8,1,65,45,5,54,8,5,45,87,4,4,987,84,65,987])"
   ]
  },
  {
   "cell_type": "markdown",
   "metadata": {},
   "source": [
    "Complexité : O(n^2)"
   ]
  },
  {
   "cell_type": "markdown",
   "metadata": {},
   "source": [
    "<h2>Le tri par insertion"
   ]
  },
  {
   "cell_type": "markdown",
   "metadata": {},
   "source": [
    "![Tri par insertion](220px-Insertion-sort-example-300px.gif)"
   ]
  },
  {
   "cell_type": "markdown",
   "metadata": {},
   "source": [
    "Un tri par insertion divise une liste en deux sous-listes : triées et non triées. Il compare ensuite chaque élément de la liste non triée et continue de le faire jusqu'à ce que chaque élément de la liste soit trié.\n",
    "\n",
    "Un algorithme de tri par insertion déplace un élément trié dans la sous-liste triée et le supprime de la sous-liste non triée. Les deux sous-listes font partie du même tableau, mais elles distinguent si un élément est trié.\n",
    "\n",
    "Vous pouvez penser à des sortes d'insertion comme la façon dont vous trieriez un ensemble de cartes dans votre main dans un jeu de cartes.\n",
    "\n",
    "Vous vous déplacez une par une dans la liste des cartes et les comparez entre elles. Les cartes triées apparaîtraient dans la gauche de votre main. Les cartes non triées apparaîtraient sur la droite jusqu'à ce que vous les triiez toutes."
   ]
  },
  {
   "cell_type": "code",
   "execution_count": 1,
   "metadata": {},
   "outputs": [
    {
     "data": {
      "text/plain": [
       "[984, 98444, 4981981, 98494984]"
      ]
     },
     "execution_count": 1,
     "metadata": {},
     "output_type": "execute_result"
    }
   ],
   "source": [
    "def tri_insertion(tab) :\n",
    "    for i in range(1, len(tab)) :\n",
    "        k = tab[i] \n",
    "        j = i-1    \n",
    "        while j >= 0 and k < tab[j] :\n",
    "            tab[j+1] = tab[j]\n",
    "            j -= 1\n",
    "        tab[j+1] = k\n",
    "    return tab\n",
    "\n",
    "tab = [4981981,98494984,984,98444]\n",
    "tri_insertion(tab)"
   ]
  },
  {
   "cell_type": "markdown",
   "metadata": {},
   "source": [
    "<img src=\"https://geekflare.com/wp-content/uploads/2021/01/1-3.png\">"
   ]
  },
  {
   "cell_type": "markdown",
   "metadata": {},
   "source": [
    "<img src=\"https://geekflare.com/wp-content/uploads/2021/01/2-3.png\">"
   ]
  },
  {
   "cell_type": "markdown",
   "metadata": {},
   "source": [
    "<img src=\"https://geekflare.com/wp-content/uploads/2021/01/3-3.png\">"
   ]
  },
  {
   "cell_type": "markdown",
   "metadata": {},
   "source": [
    "<img src=\"https://geekflare.com/wp-content/uploads/2021/01/4-3.png\">"
   ]
  },
  {
   "cell_type": "markdown",
   "metadata": {},
   "source": [
    "<img src=\"https://geekflare.com/wp-content/uploads/2021/01/5-3.png\">"
   ]
  },
  {
   "cell_type": "markdown",
   "metadata": {},
   "source": [
    "Complexité : O(n^2)"
   ]
  },
  {
   "cell_type": "markdown",
   "metadata": {},
   "source": [
    "<h2>Tri Récursif"
   ]
  },
  {
   "cell_type": "markdown",
   "metadata": {},
   "source": [
    "- C'st un tri par selection de manière récursive.\n",
    "- On trouve le plus petit élément de la liste avec son indice.\n",
    "- On l'ajoute à la nouvelle liste (triée) et on le supprime de la liste originale (non triée)\n",
    "- On répéte jusqu'au cas ce que la liste soit vide, c'est notre cas trivial"
   ]
  },
  {
   "cell_type": "code",
   "execution_count": 6,
   "metadata": {},
   "outputs": [
    {
     "data": {
      "text/plain": [
       "[46,\n",
       " 46,\n",
       " 54,\n",
       " 64,\n",
       " 165,\n",
       " 416,\n",
       " 563,\n",
       " 986,\n",
       " 4646,\n",
       " 16568,\n",
       " 46541632,\n",
       " 93696396,\n",
       " 468465165,\n",
       " 464616541847,\n",
       " 6846468464165,\n",
       " 654164684651654,\n",
       " 4465165165165165,\n",
       " 6546546546846168465]"
      ]
     },
     "execution_count": 6,
     "metadata": {},
     "output_type": "execute_result"
    }
   ],
   "source": [
    "def tri_recursif(tab : list, new_tab = []) :\n",
    "    \"\"\"\n",
    "    Description : Une fonction récursive tro drol\n",
    "\n",
    "    Exemple : >>> tri_recursif_tro_drol([4,1,6,7,3])\n",
    "              >>> [1, 3, 4, 6, 7]\n",
    "\n",
    "    Préconditions : (list) : La liste à trier\n",
    "\n",
    "    Postconditions : (list) : la liste triée\n",
    "    \"\"\"\n",
    "\n",
    "    assert type(tab) == list, \"La liste doit être de type list\"\n",
    "    assert [type(i) for i in tab] == [int] * len(tab), \"Ca doit être des int à l'intérieur petit coquinou\"\n",
    "\n",
    "    if len(tab) == 0 :  #Cas trivial\n",
    "        return new_tab\n",
    "    else :\n",
    "        #On trouve le plus petit élément et son indice\n",
    "        mini = tab[0]\n",
    "        indice = 0\n",
    "        for i in range(len(tab)):\n",
    "            if mini > tab[i]:\n",
    "                mini = tab[i]\n",
    "                indice = i\n",
    "        #On ajoute ce plus petit élément a la liste finale (triée) et on le supprime de la liste non triée\n",
    "        new_tab.append(tab.pop(indice))\n",
    "        return tri_recursif(tab, new_tab)\n",
    "\n",
    "tri_recursif([4465165165165165,165,4646,46,464616541847,654164684651654,6846468464165,46,54,64,6546546546846168465,416,468465165,46541632,16568,563,986,93696396])"
   ]
  },
  {
   "cell_type": "markdown",
   "metadata": {},
   "source": [
    "<h2>Tri par fusion"
   ]
  },
  {
   "cell_type": "markdown",
   "metadata": {},
   "source": [
    "![Tri a bulles](./Merge-sort-example-300px.gif)"
   ]
  },
  {
   "cell_type": "markdown",
   "metadata": {},
   "source": [
    "Le tri fusion est l’un des algorithmes de tri les plus populaires et les plus efficaces. \n",
    "\n",
    "Il est basé sur le principe de l’algorithme diviser pour mieux régner. \n",
    "\n",
    "Il fonctionne en divisant le tableau en deux moitiés de manière répétée jusqu’à ce que nous obtenions un tableau divisé en éléments individuels. \n",
    "\n",
    "Un élément individuel est un tableau trié en soi. \n",
    "\n",
    "Le tri fusion fusionne de manière répétée ces petits tableaux triés pour produire de plus grands sous-réseaux triés jusqu’à ce que nous obtenions un tableau trié final."
   ]
  },
  {
   "cell_type": "markdown",
   "metadata": {},
   "source": [
    "<h4>Dans les cas ou les 2 listes sont déja triées"
   ]
  },
  {
   "cell_type": "markdown",
   "metadata": {},
   "source": [
    "- On compare les éléments des 2 listes. \n",
    "- On ajoute le plus petit a la nouvelle liste.\n",
    "- On passe a l'indice suivant dans la liste qui vient de donner un élément, pas dans l'autre.\n",
    "- On répète jusqu'a qu'une liste soit vide.\n",
    "- Ensuite on rempli la nouvelle liste avec tout le reste de la liste pas encore vide."
   ]
  },
  {
   "cell_type": "code",
   "execution_count": 3,
   "metadata": {},
   "outputs": [
    {
     "data": {
      "text/plain": [
       "[4, 7, 9, 45, 98, 987, 5874]"
      ]
     },
     "execution_count": 3,
     "metadata": {},
     "output_type": "execute_result"
    }
   ],
   "source": [
    "def fusion(L1 : list, L2 : list) -> list:\n",
    "\n",
    "    assert type(L1) == type(L2) == list, \"Les liste en entrée doivent être de type list\"\n",
    "    assert L1 == sorted(L1) and L2 == sorted(L2), \"Les listes doivent être triées\"\n",
    "\n",
    "    n1 = len(L1)\n",
    "    n2 = len(L2)\n",
    "    L12 = [0] * (n1 + n2)\n",
    "\n",
    "    i1 = 0\n",
    "    i2 = 0\n",
    "    i = 0\n",
    "\n",
    "    while i1 < n1 and i2 < n2 : #Rempli L12 jusqu'a qu'une des deux listes soit vide\n",
    "        if L1[i1] < L2[i2] :\n",
    "            L12[i] = L1[i1]\n",
    "            i1 += 1\n",
    "        else : # L2[i2] < L1[i1]\n",
    "            L12[i] = L2[i2]\n",
    "            i2 += 1\n",
    "        i += 1\n",
    "\n",
    "    while i1 < n1 : #Ce while s'execute si c'est L2 qui a rempli L12 avant L1\n",
    "        L12[i] += L1[i1]\n",
    "        i1 += 1\n",
    "        i += 1\n",
    "        \n",
    "    while i2 < n2 : #Ce while s'execute si c'est L1 qui a rempli L12 avant L2\n",
    "        L12[i] = L2[i2]\n",
    "        i2 += 1\n",
    "        i += 1\n",
    "    return L12\n",
    "\n",
    "fusion([4, 9, 45, 987], [7, 98, 5874])"
   ]
  },
  {
   "cell_type": "markdown",
   "metadata": {},
   "source": [
    "<h4>Dans les cas ou les 2 listes ne sont pas déja triées"
   ]
  },
  {
   "cell_type": "code",
   "execution_count": 14,
   "metadata": {},
   "outputs": [
    {
     "data": {
      "text/plain": [
       "[1,\n",
       " 4,\n",
       " 9,\n",
       " 68,\n",
       " 71,\n",
       " 498,\n",
       " 498,\n",
       " 749,\n",
       " 898,\n",
       " 984,\n",
       " 984,\n",
       " 984,\n",
       " 987,\n",
       " 4589,\n",
       " 7416,\n",
       " 98654,\n",
       " 91894984,\n",
       " 98498498,\n",
       " 498498189198]"
      ]
     },
     "execution_count": 14,
     "metadata": {},
     "output_type": "execute_result"
    }
   ],
   "source": [
    "def tri_fusion(tab) :\n",
    "    n = len(tab)\n",
    "\n",
    "    if n > 1 :\n",
    "\n",
    "        # Séparer la liste en 2 sous-listes\n",
    "        millieu = n // 2\n",
    "        gauche = tab[0:millieu]\n",
    "        droite = tab[millieu:n]\n",
    "\n",
    "        # Trier les sous listes\n",
    "        tri_fusion(gauche)\n",
    "        tri_fusion(droite)\n",
    "\n",
    "        #Recombiner\n",
    "        i = 0\n",
    "        i_gauche = 0\n",
    "        i_droite = 0\n",
    "\n",
    "        while i_gauche < len(gauche) and i_droite < len(droite) :\n",
    "            if gauche[i_gauche] < droite[i_droite] :\n",
    "                tab[i] = gauche[i_gauche]\n",
    "                i_gauche += 1\n",
    "            else :\n",
    "                tab[i] = droite[i_droite]\n",
    "                i_droite += 1\n",
    "            i += 1\n",
    "\n",
    "        while i_droite < len(droite) :\n",
    "            tab[i] = droite[i_droite]\n",
    "            i_droite += 1\n",
    "            i += 1\n",
    "\n",
    "        while i_gauche < len(gauche) :\n",
    "            tab[i] = gauche[i_gauche]\n",
    "            i_gauche += 1\n",
    "            i += 1\n",
    "\n",
    "    return tab\n",
    "\n",
    "\n",
    "tri_fusion([984,91894984,98498498,498498189198,498,498,4,984,984,987,9,898,4589,749,1,98654,68,7416,71])\n"
   ]
  },
  {
   "cell_type": "markdown",
   "metadata": {},
   "source": [
    "Complexité : O(n*log(n))"
   ]
  },
  {
   "cell_type": "markdown",
   "metadata": {},
   "source": [
    "<h2>Tri à bulles"
   ]
  },
  {
   "cell_type": "markdown",
   "metadata": {},
   "source": [
    "On compare un élément avec le suivant et si le nouvel élément plus petit on les inverses"
   ]
  },
  {
   "cell_type": "markdown",
   "metadata": {},
   "source": [
    "- Il consiste à comparer répétitivement les éléments consécutifs d'un tableau, et à les permuter lorsqu'ils sont mal triés.\n",
    "- Il doit son nom au fait qu'il déplace rapidement les plus grands éléments en fin de tableau, comme des bulles d'air qui remonteraient rapidement à la surface d'un liquide.\n",
    "\n",
    "- Le tri à bulles est souvent enseigné en tant qu'exemple algorithmique, car son principe est simple. \n",
    "- Mais c'est le plus lent des algorithmes de tri communément enseignés, et il n'est donc guère utilisé en pratique."
   ]
  },
  {
   "cell_type": "code",
   "execution_count": 10,
   "metadata": {},
   "outputs": [
    {
     "data": {
      "text/plain": [
       "[4, 498, 987, 987, 987, 987, 649649, 987984, 98498798]"
      ]
     },
     "execution_count": 10,
     "metadata": {},
     "output_type": "execute_result"
    }
   ],
   "source": [
    "def tri_bulles(T) :\n",
    "    n = len(T)\n",
    "    for i in range(n-1,0,-1) :\n",
    "        for j in range(i) :\n",
    "            if T[j] > T[j+1] :\n",
    "                temp = T[j]    ###\n",
    "                T[j] = T[j+1]    # T[j], T[j+1] = T[j+1], T[j] \n",
    "                T[j+1] = temp  ###\n",
    "    return T\n",
    "\n",
    "tri_bulles([649649,987984,98498798,498,4,987,987,987,987])"
   ]
  },
  {
   "cell_type": "code",
   "execution_count": 9,
   "metadata": {},
   "outputs": [
    {
     "data": {
      "text/plain": [
       "[4, 498, 987, 987, 987, 987, 649649, 987984, 98498798]"
      ]
     },
     "execution_count": 9,
     "metadata": {},
     "output_type": "execute_result"
    }
   ],
   "source": [
    "def tri_bulle2(tab):\n",
    "    n = len(tab)\n",
    "    # Traverser tous les éléments du tableau\n",
    "    for i in range(n):\n",
    "        for j in range(0, n-i-1):\n",
    "            # échanger si l'élément trouvé est plus grand que le suivant\n",
    "            if tab[j] > tab[j+1] :\n",
    "                tab[j], tab[j+1] = tab[j+1], tab[j]\n",
    "    return tab\n",
    "\n",
    "tri_bulle2([649649,987984,98498798,498,4,987,987,987,987])"
   ]
  },
  {
   "cell_type": "code",
   "execution_count": 8,
   "metadata": {},
   "outputs": [
    {
     "data": {
      "text/plain": [
       "[4, 498, 987, 987, 987, 987, 649649, 987984, 98498798]"
      ]
     },
     "execution_count": 8,
     "metadata": {},
     "output_type": "execute_result"
    }
   ],
   "source": [
    "def autre_tri_bulle(tab : list) -> list :\n",
    "\n",
    "    n = len(tab)\n",
    "    permut = True\n",
    "\n",
    "    while permut == True :\n",
    "        permut = False\n",
    "        for i in range(0, n-1) :\n",
    "            if tab[i] > tab[i+1] :\n",
    "                temp = tab[i]\n",
    "                tab[i] = tab[i+1]\n",
    "                tab[i+1] = temp\n",
    "                permut = True\n",
    "        n -= 1\n",
    "\n",
    "    return tab\n",
    "\n",
    "\n",
    "autre_tri_bulle([649649,987984,98498798,498,4,987,987,987,987])"
   ]
  },
  {
   "cell_type": "markdown",
   "metadata": {},
   "source": [
    "<img src=\"https://bts-sio-formation.com/Images/TriABulle.jpg\">\n",
    "\n",
    "![Tri a bulles](./Sorting_bubblesort_anim.gif)\n",
    "\n",
    "![Autre tri a bulles](rs4o6zjoplf9xdk9ri18.gif)"
   ]
  },
  {
   "cell_type": "markdown",
   "metadata": {},
   "source": [
    "Complexité : O(n^2)"
   ]
  }
 ],
 "metadata": {
  "interpreter": {
   "hash": "c535f766096f575e5993344ecf38043c94305985d3bbdfcb24d1ab2af40cf48e"
  },
  "kernelspec": {
   "display_name": "Python 3.9.4 64-bit",
   "language": "python",
   "name": "python3"
  },
  "language_info": {
   "codemirror_mode": {
    "name": "ipython",
    "version": 3
   },
   "file_extension": ".py",
   "mimetype": "text/x-python",
   "name": "python",
   "nbconvert_exporter": "python",
   "pygments_lexer": "ipython3",
   "version": "3.8.5"
  },
  "orig_nbformat": 4
 },
 "nbformat": 4,
 "nbformat_minor": 2
}
