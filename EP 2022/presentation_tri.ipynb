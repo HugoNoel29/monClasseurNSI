{
 "cells": [
  {
   "cell_type": "markdown",
   "metadata": {},
   "source": [
    "<h1>Les algorithmes de Tri"
   ]
  },
  {
   "cell_type": "markdown",
   "metadata": {},
   "source": [
    "<h2>Tri par sélection"
   ]
  },
  {
   "cell_type": "markdown",
   "metadata": {},
   "source": [
    "Cet algorithme divise le tableau en sous-parties triées et non triées. Et puis, à chaque itération, nous prendrons l'élément minimum du sous-partie non triée et on la place dans la dernière position du sous-partie triée."
   ]
  },
  {
   "cell_type": "code",
   "execution_count": 2,
   "metadata": {},
   "outputs": [
    {
     "data": {
      "text/plain": [
       "[687,\n",
       " 51981,\n",
       " 85955,\n",
       " 54484621,\n",
       " 98191919,\n",
       " 6565462659,\n",
       " 9819198198,\n",
       " 657898798461651]"
      ]
     },
     "execution_count": 2,
     "metadata": {},
     "output_type": "execute_result"
    }
   ],
   "source": [
    "def tri_selection(tab):\n",
    "\n",
    "   for i in range(len(tab)):\n",
    "        #Pour stocker l'indice du plus petit élément\n",
    "        min = i\n",
    "        for j in range(i+1, len(tab)):\n",
    "           # Vérification et remplacement de l'indice de l'élément minimum\n",
    "           if tab[min] > tab[j]:\n",
    "               min = j\n",
    "\n",
    "        # Échanger l'élément actuel avec l'élément minimum\n",
    "        tmp = tab[i]      ##\n",
    "        tab[i] = tab[min]  ## tab[i], tab[min] = tab[min], tab[i]\n",
    "        tab[min] = tmp    ##\n",
    "\n",
    "   return tab\n",
    "\n",
    "tri_selection([51981,98191919,9819198198,657898798461651,687,54484621,6565462659,85955])"
   ]
  },
  {
   "cell_type": "markdown",
   "metadata": {},
   "source": [
    "<img src=\"https://geekflare.com/wp-content/uploads/2021/01/1-4.png\">"
   ]
  },
  {
   "cell_type": "markdown",
   "metadata": {},
   "source": [
    "<img src=\"https://geekflare.com/wp-content/uploads/2021/01/2-4.png\">"
   ]
  },
  {
   "cell_type": "markdown",
   "metadata": {},
   "source": [
    "<img src=\"https://geekflare.com/wp-content/uploads/2021/01/3-4.png\">"
   ]
  },
  {
   "cell_type": "markdown",
   "metadata": {},
   "source": [
    "<img src=\"https://geekflare.com/wp-content/uploads/2021/01/4-4.png\">"
   ]
  },
  {
   "cell_type": "markdown",
   "metadata": {},
   "source": [
    "<img src=\"https://geekflare.com/wp-content/uploads/2021/01/5-4.png\">"
   ]
  },
  {
   "cell_type": "markdown",
   "metadata": {},
   "source": [
    "<img src=\"https://geekflare.com/wp-content/uploads/2021/01/6-2.png\">"
   ]
  },
  {
   "cell_type": "markdown",
   "metadata": {},
   "source": [
    "- Time complexity O(n^2)\n",
    "- Space complexity O(1)"
   ]
  },
  {
   "cell_type": "markdown",
   "metadata": {},
   "source": [
    "<h2>Le tri par insertion"
   ]
  },
  {
   "cell_type": "markdown",
   "metadata": {},
   "source": [
    "Un tri par insertion divise une liste en deux sous-listes : triées et non triées. Il compare ensuite chaque élément de la liste non triée et continue de le faire jusqu'à ce que chaque élément de la liste soit trié.\n",
    "\n",
    "Un algorithme de tri par insertion déplace un élément trié dans la sous-liste triée et le supprime de la sous-liste non triée. Les deux sous-listes font partie du même tableau, mais elles distinguent si un élément est trié.\n",
    "\n",
    "Vous pouvez penser à des sortes d'insertion comme la façon dont vous trieriez un ensemble de cartes dans votre main dans un jeu de cartes.\n",
    "\n",
    "Vous vous déplacez une par une dans la liste des cartes et les comparez entre elles. Les cartes triées apparaîtraient dans la gauche de votre main. Les cartes non triées apparaîtraient sur la droite jusqu'à ce que vous les triiez toutes."
   ]
  },
  {
   "cell_type": "code",
   "execution_count": 6,
   "metadata": {},
   "outputs": [
    {
     "name": "stdout",
     "output_type": "stream",
     "text": [
      "984\n",
      "98444\n",
      "4981981\n",
      "98494984\n"
     ]
    }
   ],
   "source": [
    "def tri_insertion(tab) :\n",
    "    for i in range(1, len(tab)) :\n",
    "        k = tab[i] \n",
    "        j = i-1    \n",
    "        while j >= 0 and k < tab[j] :\n",
    "            tab[j+1] = tab[j]\n",
    "            j -= 1\n",
    "        tab[j+1] = k\n",
    "\n",
    "tab = [4981981,98494984,984,98444]\n",
    "tri_insertion(tab)\n",
    "for i in tab :\n",
    "    print(i)"
   ]
  },
  {
   "cell_type": "markdown",
   "metadata": {},
   "source": [
    "<img src=\"https://geekflare.com/wp-content/uploads/2021/01/1-3.png\">"
   ]
  },
  {
   "cell_type": "markdown",
   "metadata": {},
   "source": [
    "<img src=\"https://geekflare.com/wp-content/uploads/2021/01/2-3.png\">"
   ]
  },
  {
   "cell_type": "markdown",
   "metadata": {},
   "source": [
    "<img src=\"https://geekflare.com/wp-content/uploads/2021/01/3-3.png\">"
   ]
  },
  {
   "cell_type": "markdown",
   "metadata": {},
   "source": [
    "<img src=\"https://geekflare.com/wp-content/uploads/2021/01/4-3.png\">"
   ]
  },
  {
   "cell_type": "markdown",
   "metadata": {},
   "source": [
    "<img src=\"https://geekflare.com/wp-content/uploads/2021/01/5-3.png\">"
   ]
  },
  {
   "cell_type": "markdown",
   "metadata": {},
   "source": [
    "- Time complexity O(n^2)\n",
    "- Space complexity O(1)"
   ]
  },
  {
   "cell_type": "markdown",
   "metadata": {},
   "source": [
    "<h2>Tri par fusion"
   ]
  }
 ],
 "metadata": {
  "interpreter": {
   "hash": "c535f766096f575e5993344ecf38043c94305985d3bbdfcb24d1ab2af40cf48e"
  },
  "kernelspec": {
   "display_name": "Python 3.9.4 64-bit",
   "language": "python",
   "name": "python3"
  },
  "language_info": {
   "codemirror_mode": {
    "name": "ipython",
    "version": 3
   },
   "file_extension": ".py",
   "mimetype": "text/x-python",
   "name": "python",
   "nbconvert_exporter": "python",
   "pygments_lexer": "ipython3",
   "version": "3.9.4"
  },
  "orig_nbformat": 4
 },
 "nbformat": 4,
 "nbformat_minor": 2
}
