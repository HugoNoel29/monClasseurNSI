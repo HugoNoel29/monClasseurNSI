{
 "cells": [
  {
   "cell_type": "markdown",
   "metadata": {},
   "source": [
    "<h1>Exercice 1"
   ]
  },
  {
   "cell_type": "markdown",
   "metadata": {},
   "source": [
    "Écrire une fonction recherche qui prend en paramètres **elt** un nombre entier et **tab**\n",
    "**un tableau de nombres entiers**.\n",
    "\n",
    "Renvoie l’indice de la première occurrence de **elt**\n",
    "dans **tab** si **elt** est dans **tab** et **-1** sinon."
   ]
  },
  {
   "cell_type": "code",
   "execution_count": 1,
   "metadata": {},
   "outputs": [],
   "source": [
    "def recherche(elt : int, tab : list) -> int :\n",
    "    \"\"\"\n",
    "    Description : Renvoie l'indice de la première occurence d'un élément dans une list non triée\n",
    "                  Si l'élément n'est pas dans la liste : renvoie -1 \n",
    "\n",
    "    Exemple : >>> recherche(50, [1, 50, 1])\n",
    "              >>> 1\n",
    "\n",
    "    Préconditions : (int) : le nombre a chercher\n",
    "                    (list) : une liste de int non triée\n",
    "\n",
    "    Postconditions : (int) : la première occurence s'il y est, sinon -1\n",
    "    \n",
    "    \n",
    "    \"\"\"\n",
    "    assert type(elt) == int, \"L'élément a rechercher doit être de type int\"\n",
    "    assert type(tab) == list, \"Le tableau doit être de type list\"\n",
    "    assert [type(i) for i in tab] == [int]*len(tab), \"La liste doit être faite de int\"\n",
    "\n",
    "    for i in range(len(tab)) : #On parcours la liste et si l'élément recherché est le même que celui sur lequel on est on renvoir son indice \n",
    "        if tab[i] == elt :     #Si l'élément n'est pas dans la liste la boucle se termine sans envoyer d'indice et un -1 est renvoyé \n",
    "            return i\n",
    "    return -1"
   ]
  },
  {
   "cell_type": "code",
   "execution_count": 2,
   "metadata": {},
   "outputs": [
    {
     "data": {
      "text/plain": [
       "-1"
      ]
     },
     "execution_count": 2,
     "metadata": {},
     "output_type": "execute_result"
    }
   ],
   "source": [
    "recherche(1, [2, 3, 4])"
   ]
  },
  {
   "cell_type": "code",
   "execution_count": 3,
   "metadata": {},
   "outputs": [
    {
     "data": {
      "text/plain": [
       "2"
      ]
     },
     "execution_count": 3,
     "metadata": {},
     "output_type": "execute_result"
    }
   ],
   "source": [
    "recherche(1, [10, 12, 1, 56])"
   ]
  },
  {
   "cell_type": "code",
   "execution_count": 4,
   "metadata": {},
   "outputs": [
    {
     "data": {
      "text/plain": [
       "1"
      ]
     },
     "execution_count": 4,
     "metadata": {},
     "output_type": "execute_result"
    }
   ],
   "source": [
    "recherche(50, [1, 50, 1])"
   ]
  },
  {
   "cell_type": "code",
   "execution_count": 5,
   "metadata": {},
   "outputs": [
    {
     "data": {
      "text/plain": [
       "3"
      ]
     },
     "execution_count": 5,
     "metadata": {},
     "output_type": "execute_result"
    }
   ],
   "source": [
    "recherche(15, [8, 9, 10, 15])"
   ]
  },
  {
   "cell_type": "markdown",
   "metadata": {},
   "source": [
    "<h1>Exercice 2"
   ]
  },
  {
   "cell_type": "markdown",
   "metadata": {},
   "source": [
    "On considère la fonction insere ci-dessous qui prend en argument **un entier a** et **un tableau tab d'entiers triés par ordre croissant**. \n",
    "\n",
    "Cette fonction insère la valeur **a** dans le tableau et renvoie le nouveau tableau. Les tableaux seront représentés sous la forme de\n",
    "**listes** python"
   ]
  },
  {
   "cell_type": "code",
   "execution_count": 8,
   "metadata": {},
   "outputs": [],
   "source": [
    "def insere(a : int, tab : list) -> list :\n",
    "    \"\"\"\n",
    "    Description : Prend en argument un entier a et un tableau tab d'entiers \n",
    "                  triés par ordre croissant. Cette fonction insère la valeur a \n",
    "                  dans le tableau et renvoie le nouveau tableau.\n",
    "\n",
    "    Exemple : >>> insere(3,[1,2,4,5])\n",
    "              >>> [1, 2, 3, 4, 5]\n",
    "\n",
    "    Préconditions : (int) : L'élément à insérer dans la liste\n",
    "                    (list) : La liste triée dans l'ordre croissant\n",
    "\n",
    "    Postconditions : (list) : La nouvelle liste avec l'élément inséré et mis à la \n",
    "                              bonne place pour que la liste reste triée\n",
    "    \"\"\"\n",
    "\n",
    "    assert type(a) == int, \"L'élément à inserer doit être de type int\"\n",
    "    assert type(tab) == list, \"On doit insérer dans une liste\"\n",
    "    assert tab == sorted(tab), \"La liste doit être rangée dans l'orde croissant\"\n",
    "\n",
    "    l = list(tab) #On crée une liste identique à celle en entrée\n",
    "    l.append(a) #On ajoute a a la fin de la nouvelle liste\n",
    "    i = len(tab) - 1 # On crée i, qui nous serviras pour la boucle while\n",
    "\n",
    "    while a < l[i] and i >= 0 : #Cette boucle while sert a déplacer a au bon endroit dans la liste\n",
    "        l[i+1] = l[i]           #Grossièrement on décale a de la fin jusqu'au début et on arrète quand il est a la bonne place\n",
    "        l[i] = a                #Le i nous sert a arrêter la boucle si a est la plus petite valeur de la liste\n",
    "        i -= 1\n",
    "    return l"
   ]
  },
  {
   "cell_type": "code",
   "execution_count": 7,
   "metadata": {},
   "outputs": [
    {
     "data": {
      "text/plain": [
       "[1, 2, 3, 4, 5]"
      ]
     },
     "execution_count": 7,
     "metadata": {},
     "output_type": "execute_result"
    }
   ],
   "source": [
    "insere(3,[1,2,4,5])"
   ]
  },
  {
   "cell_type": "code",
   "execution_count": 21,
   "metadata": {},
   "outputs": [
    {
     "data": {
      "text/plain": [
       "[1, 2, 7, 10, 12, 14, 25]"
      ]
     },
     "execution_count": 21,
     "metadata": {},
     "output_type": "execute_result"
    }
   ],
   "source": [
    "insere(10,[1,2,7,12,14,25])"
   ]
  },
  {
   "cell_type": "code",
   "execution_count": 22,
   "metadata": {},
   "outputs": [
    {
     "data": {
      "text/plain": [
       "[1, 2, 3, 4]"
      ]
     },
     "execution_count": 22,
     "metadata": {},
     "output_type": "execute_result"
    }
   ],
   "source": [
    "insere(1,[2,3,4])"
   ]
  },
  {
   "cell_type": "markdown",
   "metadata": {},
   "source": [
    "<h4>Ce n'est pas la meilleur manière d'insérer dans une liste triée. </br>\n",
    "En effet on pourrait utiliser un ABR ou une recherche dichotomique"
   ]
  }
 ],
 "metadata": {
  "interpreter": {
   "hash": "d392c9ddaa6b365e1706bdbc6bd2786d403f6271a103ff8a7f34ee918c5830ad"
  },
  "kernelspec": {
   "display_name": "Python 3.9.1 64-bit",
   "language": "python",
   "name": "python3"
  },
  "language_info": {
   "codemirror_mode": {
    "name": "ipython",
    "version": 3
   },
   "file_extension": ".py",
   "mimetype": "text/x-python",
   "name": "python",
   "nbconvert_exporter": "python",
   "pygments_lexer": "ipython3",
   "version": "3.9.1"
  },
  "orig_nbformat": 4
 },
 "nbformat": 4,
 "nbformat_minor": 2
}
