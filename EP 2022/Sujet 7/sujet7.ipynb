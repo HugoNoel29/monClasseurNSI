{
 "cells": [
  {
   "cell_type": "markdown",
   "metadata": {},
   "source": [
    "<h1>Exercice 1"
   ]
  },
  {
   "cell_type": "code",
   "execution_count": 15,
   "metadata": {},
   "outputs": [],
   "source": [
    "def conv_bin(n : int) -> tuple :\n",
    "    \"\"\"\n",
    "    Description : Prend en entrée un nombre n et renvoie un couple avec l'écriture\n",
    "                  binaire de n et le nombre de bits qu'il prend \n",
    "\n",
    "    Exemple : >>> conv_bin(9)\n",
    "              >>> ([1, 0, 0, 1], 4)\n",
    "\n",
    "    Préconditions : (int) : un int représentanr le nombre à convertir en binaire\n",
    "\n",
    "    Postconditions : (int, int) : le couple écriture binaire/ nombre de bits\n",
    "    \n",
    "    \"\"\"\n",
    "    assert type(n) == int, \"La variable en entrée doit être de type int\"\n",
    "\n",
    "    liste = []\n",
    "\n",
    "    while n!= 0 :\n",
    "        liste.append(n%2)\n",
    "        n = n//2\n",
    "    liste.reverse()\n",
    "    return liste, len(liste)\n"
   ]
  },
  {
   "cell_type": "code",
   "execution_count": 16,
   "metadata": {},
   "outputs": [
    {
     "data": {
      "text/plain": [
       "([1, 0, 0, 0, 1, 0, 0, 1, 1, 1], 10)"
      ]
     },
     "execution_count": 16,
     "metadata": {},
     "output_type": "execute_result"
    }
   ],
   "source": [
    "conv_bin(551)"
   ]
  },
  {
   "cell_type": "code",
   "execution_count": 17,
   "metadata": {},
   "outputs": [
    {
     "data": {
      "text/plain": [
       "([1, 0, 0, 1], 4)"
      ]
     },
     "execution_count": 17,
     "metadata": {},
     "output_type": "execute_result"
    }
   ],
   "source": [
    "conv_bin(9)"
   ]
  },
  {
   "cell_type": "markdown",
   "metadata": {},
   "source": [
    "<h1>Exercice 2"
   ]
  },
  {
   "cell_type": "code",
   "execution_count": null,
   "metadata": {},
   "outputs": [],
   "source": [
    "def tri_bulles(T) :\n",
    "    n = len(T)\n",
    "    for i in range(...,...,-1) :\n",
    "        for j in range(i) :\n",
    "            if T[j] > T[...] :\n",
    "                ... = T[j]\n",
    "                T[j] = T[...]\n",
    "                T[j+1] = temp\n",
    "    return T"
   ]
  },
  {
   "cell_type": "code",
   "execution_count": 18,
   "metadata": {},
   "outputs": [],
   "source": [
    "def tri_bulles(T) :\n",
    "    \"\"\"\n",
    "    \n",
    "    \"\"\"\n",
    "    assert type(T) == \n",
    "\n",
    "    n = len(T)\n",
    "    for i in range(n-1,0,-1) :\n",
    "        for j in range(i) :\n",
    "            if T[j] > T[j+1] :\n",
    "                temp = T[j]\n",
    "                T[j] = T[j+1]\n",
    "                T[j+1] = temp\n",
    "    return T"
   ]
  }
 ],
 "metadata": {
  "interpreter": {
   "hash": "d392c9ddaa6b365e1706bdbc6bd2786d403f6271a103ff8a7f34ee918c5830ad"
  },
  "kernelspec": {
   "display_name": "Python 3.9.1 64-bit",
   "language": "python",
   "name": "python3"
  },
  "language_info": {
   "codemirror_mode": {
    "name": "ipython",
    "version": 3
   },
   "file_extension": ".py",
   "mimetype": "text/x-python",
   "name": "python",
   "nbconvert_exporter": "python",
   "pygments_lexer": "ipython3",
   "version": "3.9.1"
  },
  "orig_nbformat": 4
 },
 "nbformat": 4,
 "nbformat_minor": 2
}
