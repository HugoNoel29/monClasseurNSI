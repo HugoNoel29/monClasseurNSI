








<!DOCTYPE html>
<html lang="en">

<head>
  <meta charset="utf-8">
  <title>Jupyter Notebook Viewer</title>
  <meta name="viewport" content="width=device-width, initial-scale=1.0">
  <meta name="description" content="">
  <meta name="author" content="">
  
  <meta name="robots" content="noindex,nofollow">
  

  <!--NEW RELIC Start Perf Measurement-->
  
  <!--NREND-->

  <!-- Le styles -->
  <link href="/static/build/styles.css" rel="stylesheet">

  <!-- Le HTML5 shim, for IE6-8 support of HTML5 elements -->
  <!--[if lt IE 9]>
    <script src="http://html5shim.googlecode.com/svn/trunk/html5.js"></script>
  <![endif]-->

  <!-- Le fav and touch icons -->
  <link rel="shortcut icon" href="/static/ico/ipynb_icon_16x16.png">
  <link rel="apple-touch-icon-precomposed" sizes="144x144"
        href="/static/ico/apple-touch-icon-144-precomposed.png">
  <link rel="apple-touch-icon-precomposed" sizes="114x114"
        href="/static/ico/apple-touch-icon-114-precomposed.png">
  <link rel="apple-touch-icon-precomposed" sizes="72x72"
        href="/static/ico/apple-touch-icon-72-precomposed.png">
  <link rel="apple-touch-icon-precomposed"
        href="/static/ico/apple-touch-icon-57-precomposed.png">
  
  

  

  
  <meta name="twitter:card" content="summary">
  <meta name="twitter:title" content="Notebook on nbviewer">
  <meta name="twitter:description" content="Check out this Jupyter notebook!">

  
  <meta name="twitter:domain" content="nbviewer.jupyter.org">
  <meta name="twitter:image:src" content="http://ipython.org/ipython-doc/dev/_images/ipynb_icon_128x128.png">

  
    <link href="/static/build/notebook.css" rel="stylesheet">
  

  

  
    <script src="https://cdnjs.cloudflare.com/ajax/libs/mathjax/2.7.1/MathJax.js?config=TeX-AMS_HTML" type="text/javascript">
    </script>
    <script type="text/javascript">
      init_mathjax = function() {
        if (window.MathJax) {
          // MathJax loaded
          MathJax.Hub.Config({
            TeX: {
              equationNumbers: {
                autoNumber: "AMS",
                useLabelIds: true
              }
            },
            tex2jax: {
              inlineMath: [ ['$','$'], ["\\(","\\)"] ],
              displayMath: [ ['$$','$$'], ["\\[","\\]"] ],
              processEscapes: true,
              processEnvironments: true
            },
            displayAlign: 'center',
            "HTML-CSS": {
              styles: {'.MathJax_Display': {"margin": 0}},
              linebreaks: { automatic: true }
            }
          });
          MathJax.Hub.Queue(["Typeset", MathJax.Hub]);
        }
      }
      init_mathjax();
    </script>
  

  
    <script>
      (function() {
        function addWidgetsRenderer() {
          var mimeElement = document.querySelector('script[type="application/vnd.jupyter.widget-view+json"]');
          var scriptElement = document.createElement('script');
          var widgetRendererSrc = 'https://unpkg.com/@jupyter-widgets/html-manager@0.15/dist/embed-amd.js';
          var widgetState;

          try {
            widgetState = mimeElement && JSON.parse(mimeElement.innerHTML);

            if (widgetState && (widgetState.version_major < 2 || !widgetState.version_major)) {
              widgetRendererSrc = 'https://unpkg.com/jupyter-js-widgets@2.1/dist/embed.js';
            }
          } catch(e) {}

          scriptElement.src = widgetRendererSrc;
          document.body.appendChild(scriptElement);
        }

        document.addEventListener('DOMContentLoaded', addWidgetsRenderer);
      }());
    </script>
  

</head>

<body class="nbviewer">

  <!-- These are loaded at the top of the body so they are available to
       notebook cells when they are loaded below. -->
  <script src="/static/components/jquery/dist/jquery.min.js"></script>
  <script src="/static/components/requirejs/require.js"></script>
  <script src="/static/components/moment/min/moment.min.js"></script>
<!-- Navbar
================================================== -->
  <nav id="menubar" class="navbar navbar-default navbar-fixed-top" data-spy="affix">
    <div class="container">
      <div class="navbar-header">
        <button type="button" class="navbar-toggle collapsed" data-toggle="collapse" data-target=".navbar-collapse">
          <span class="sr-only">Toggle navigation</span>
          <i class="fa fa-bars"></i>
        </button>
        <a class="navbar-brand" href="/">
          <img src="/static/img/nav_logo.svg" width="159"/>
        </a>
      </div>

      <div class="collapse navbar-collapse">
        <ul class="nav navbar-nav navbar-right">
          <li>
            <a class="active" href="https://jupyter.org">JUPYTER</a>
          </li>
          <li>
    <a href="/faq" title="FAQ" >
      
        <span>FAQ</span>
      
    </a>
  </li>

          
  
    
  
    
      
        <li>
    <a href="script/github/ericECmorlaix/1NSI_2020-2021/blob/master/index.ipynb" title="View as Code" >
      <span class="fa fa-code fa-2x menu-icon"></span>
      <span class="menu-text">View as Code</span>
    </a>
  </li>
      
    
  

  
    <li>
    <a href="#" title="Python 3 Kernel" >
      <span class="fa fa-server fa-2x menu-icon"></span>
      <span class="menu-text">Python 3 Kernel</span>
    </a>
  </li>
  

  
    <li>
    <a href="https://github.com/ericECmorlaix/1NSI_2020-2021/blob/master/index.ipynb" title="View on GitHub" >
      <span class="fa fa-github fa-2x menu-icon"></span>
      <span class="menu-text">View on GitHub</span>
    </a>
  </li>
  

  
    <li>
    <a href="https://mybinder.org/v2/gh/ericECmorlaix/1NSI_2020-2021/master?filepath=index.ipynb" title="Execute on Binder" >
      <span class="fa fa-icon-binder fa-2x menu-icon"></span>
      <span class="menu-text">Execute on Binder</span>
    </a>
  </li>
  

  <li>
    <a href="https://raw.githubusercontent.com/ericECmorlaix/1NSI_2020-2021/master/index.ipynb" title="Download Notebook" download>
      <span class="fa fa-download fa-2x menu-icon"></span>
      <span class="menu-text">Download Notebook</span>
    </a>
  </li>

        </ul>
      </div><!-- /.navbar-collapse -->
      
      
    </div>
  </nav>

  <div class="container container-main">
    
  
  <ol class="breadcrumb">
    
      <li>
        <a href="/github/ericECmorlaix/1NSI_2020-2021/tree/master">1NSI_2020-2021</a>
      </li>
    
      <li>
        <a href="/github/ericECmorlaix/1NSI_2020-2021/tree/master/index.ipynb">index.ipynb</a>
      </li>
    
  </ol>
  
  <div id="notebook">
    <div id="notebook-container">
      <div class="cell border-box-sizing text_cell rendered"><div class="prompt input_prompt">
</div><div class="inner_cell">
<div class="text_cell_render border-box-sizing rendered_html">
<p>Ce document présente une série de Bloc-Notes destinés aux élèves qui suivent l'enseignement de spécialité Numérique et Science Informatique en première au lycée Notre Dame du Mur de Morlaix.
<img src="https://ericecmorlaix.github.io/img/ECAM-Lycee-Notre-Dame-Du-Mur.png" alt="Logo du Lycee Notre Dame Du Mur" width=50%></p>

</div>
</div>
</div>
<div class="cell border-box-sizing text_cell rendered"><div class="prompt input_prompt">
</div><div class="inner_cell">
<div class="text_cell_render border-box-sizing rendered_html">
<center><h1>Sommaire</h1></center><h2 id="Rapporter-avec-jupyter-notebook-:">Rapporter avec jupyter notebook :<a class="anchor-link" href="#Rapporter-avec-jupyter-notebook-:">&#182;</a></h2><p>L'objectif de cette partie est de vous faire découvrir le potentiel de jupyter notebook pour rédiger rapidement un compte rendu scientifique interactif directement publiable sur le Web.</p>
<ol>
<li><a href="Introduction-Le_BN_pour_explorer.ipynb">Introduction</a> - Un bloc-note pour explorer les fonctionnalités de jupyter notebook</li>
<li><a href="MarkDown-Le_BN_pour_rapporter.ipynb">Markdown</a> - Un bloc-note pour découvrir l'écriture d'un document Web en Markdown dans un jupyter notebook</li>
<li><a href="Arithmetique-Le_BN_pour_calculer.ipynb">Arithmétique</a> - Un bloc-note pour faire des calculs mathématiques en Python dans un jupyter notebook</li>
<li><a href="HTML-Le_BN_pour_multimedier.ipynb">HTML</a> - Un bloc-note pour créer un document Web multimédia en HTML dans un jupyter notebook</li>
<li><a href="LaTeX-Le_BN_pour_formuler.ipynb">LaTeX</a> - Un bloc-note pour enrichir un document Web de formules en $\LaTeX{}$ dans un jupyter notebook</li>
<li><a href="Display-Le_BN_pour_afficher.ipynb">Display</a> - Le bloc-note pour générer en Python du HTML, ..., SVG, et l'afficher dans un jupyter notebook</li>
<li><a href="CSS-Le_BN_pour_styler.ipynb">CSS</a> - Un bloc-note pour ajouter du style en CSS dans un jupyter notebook</li>
</ol>
<h2 id="G&#233;rer-ses-fichiers-dans-environnement-jupyter-notebook-:">G&#233;rer ses fichiers dans environnement jupyter notebook :<a class="anchor-link" href="#G&#233;rer-ses-fichiers-dans-environnement-jupyter-notebook-:">&#182;</a></h2><ul>
<li><p>Avec l'application <a href="https://apps.apple.com/us/app/carnets-jupyter/id1450994949">Carnet</a> sur l'iPad ;</p>
</li>
<li><p>Avec le serveur du lycée <a href="http://jupyterhub.ecmorlaix.fr:8093">http://jupyterhub.ecmorlaix.fr:8093</a> (10.1.3.50) depuis le dépot <a href="https://nbviewer.jupyter.org/github/ericECmorlaix/1NSI_2020-2021/tree/master/">GitHub_1NSI</a> : cf <a href="noticeJupyterHub.ipynb">noticeJupyterHub</a> ;</p>
</li>
<li><p>Avec <a href="https://notebooks.gesis.org/">GESIS Notebooks</a> depuis votre dépot <a href="Git-Un_BN_pour_gerer_un_depot_GitHub.ipynb">GitHub</a> ;</p>
</li>
</ul>
<h2 id="Num&#233;rique-et-Science-Informatique-en-jupyter-notebook-:">Num&#233;rique et Science Informatique en jupyter notebook :<a class="anchor-link" href="#Num&#233;rique-et-Science-Informatique-en-jupyter-notebook-:">&#182;</a></h2><ol>
<li><a href="Binaire-Le_BN_pour_coder.ipynb">Binaire</a> - Le bloc-note pour apprendre à coder des nombres en binaire</li>
<li><a href="Programmation-Python3-Quelques_bases.ipynb">Python3-Quelques_Bases</a> - Le bloc-note pour s'initier à la programmation en Python 3</li>
</ol>

</div>
</div>
</div>
<div class="cell border-box-sizing text_cell rendered"><div class="prompt input_prompt">
</div><div class="inner_cell">
<div class="text_cell_render border-box-sizing rendered_html">
<p><img src="https://ericecmorlaix.github.io/img/ECAM-Logo.png" alt="Logo de l'ECA.M" width=50%></p>

</div>
</div>
</div>
<div class="cell border-box-sizing text_cell rendered"><div class="prompt input_prompt">
</div><div class="inner_cell">
<div class="text_cell_render border-box-sizing rendered_html">
<p><a rel="license" href="https://creativecommons.org/licenses/by-sa/4.0/"><img alt="Licence Creative Commons" style="border-width:0" src="https://i.creativecommons.org/l/by-sa/4.0/88x31.png" /></a><br />Ce document est mis à disposition selon les termes de la <a rel="license" href="https://creativecommons.org/licenses/by-sa/4.0/">Licence Creative Commons Attribution -  Partage dans les Mêmes Conditions 4.0 International</a>.</p>
<p>Pour toute question, suggestion ou commentaire : <a href="/cdn-cgi/l/email-protection#4c293e252f62212d28292f0c292f21233e202d2534622a3e"><span class="__cf_email__" data-cfemail="3a5f48535914575b5e5f597a5f59575548565b5342145c48">[email&#160;protected]</span></a></p>

</div>
</div>
</div>
 


    </div>
  </div>

  </div>


  
    <footer class="footer hidden-print">
      <div class="container">
        <div class="col-md-4">
          <p>
            This website does not host notebooks, it only renders notebooks
            available on other websites.
          </p>
        </div>

        <div class="col-md-4">
          <p>
            Delivered by <a href="https://www.fastly.com/">Fastly</a>,
            Rendered by <a href="https://ovhcloud.com">OVHCloud</a>
          </p>
          <p>
            nbviewer GitHub <a href="https://github.com/jupyter/nbviewer">repository</a>.
          </p>
        </div>

        <div class="col-md-4">
          
  
            
              <p>
                nbviewer version:
                <a href="https://github.com/jupyter/nbviewer/commit/e83752b49e1663d3feb1c157d31fb51451f11c0a">
                  e83752b
                </a>
              </p>
            
          
  
  <p>
    nbconvert version: <a href="https://github.com/jupyter/nbconvert/releases/tag/5.6.1">
      5.6.1
    </a>
  </p>
  

          
  
  
  <p>
    Rendered
    <span class='date' data-date='Wed, 07 Oct 2020 14:04:31 UTC' title='Wed, 07 Oct 2020 14:04:31 UTC'>(Wed, 07 Oct 2020 14:04:31 UTC)</span>
  </p>
  

        </div>
      </div>
    </footer>
  

  <script data-cfasync="false" src="/cdn-cgi/scripts/5c5dd728/cloudflare-static/email-decode.min.js"></script><script src="/static/components/bootstrap/js/bootstrap.min.js"></script>
  <script src="/static/components/headroom.js/dist/headroom.min.js"></script>
  <script src="/static/components/headroom.js/dist/jQuery.headroom.min.js"></script>

  
  
  <script>
    $(function(){ $("#menubar").headroom({
      tolerance: 5,
      offset: 205,
      classes: {
        initial: "animated",
        pinned: "slideInDown",
        unpinned: "slideOutUp"
      }
    })});
  </script>


  
  <script>
    (function(i,s,o,g,r,a,m){i['GoogleAnalyticsObject']=r;i[r]=i[r]||function(){
      (i[r].q=i[r].q||[]).push(arguments)},i[r].l=1*new Date();a=s.createElement(o),
      m=s.getElementsByTagName(o)[0];a.async=1;a.src=g;m.parentNode.insertBefore(a,m)
    })(window,document,'script','https://www.google-analytics.com/analytics.js','ga');
    ga('create', 'UA-52617120-5', 'auto',
       {'storage': 'none'});
    ga('set', 'anonymizeIp', true);
    ga('send', 'pageview');
  </script>
  
  <script>
    require({
        paths: {
          moment: "/static/components/moment/min/moment.min.js"
        }
      }, ["moment"], function(moment){
      var date = $("footer .date"),
        m = moment(new Date(date.data('date'))),
        update = function(){ date.text(m.fromNow()); };
      setInterval(update, 61*1000);
      update();
      var w = $(window).scroll(function(event){
        $("body").toggleClass("scrolled", w.scrollTop() > 0);
      });
    });
  </script>

  <!--NEW RELIC Stop Perf Measurement-->
  
  <!--NEW RELIC End-->
</body>
</html>