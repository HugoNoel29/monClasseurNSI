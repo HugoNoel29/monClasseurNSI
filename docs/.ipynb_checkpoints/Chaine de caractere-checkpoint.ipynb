{
 "cells": [
  {
   "cell_type": "code",
   "execution_count": null,
   "metadata": {},
   "outputs": [],
   "source": [
    "une_chaine = \"Joyeux Anniversaire\"\n",
    "\n",
    "for i in range (len(une_chaine)):\n",
    "    print(\"A l'indice\", i, \"se trouve la lettre\", une_chaine[i])"
   ]
  }
 ],
 "metadata": {
  "kernelspec": {
   "display_name": "Python 3",
   "language": "python",
   "name": "python3"
  },
  "language_info": {
   "codemirror_mode": {
    "name": "ipython",
    "version": 3
   },
   "file_extension": ".py",
   "mimetype": "text/x-python",
   "name": "python",
   "nbconvert_exporter": "python",
   "pygments_lexer": "ipython3",
   "version": "3.7.8"
  }
 },
 "nbformat": 4,
 "nbformat_minor": 4
}
