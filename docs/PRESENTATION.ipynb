{
 "cells": [
  {
   "cell_type": "markdown",
   "id": "marked-transmission",
   "metadata": {},
   "source": [
    "<h2 style=\"color: blue\">Boucles for<h2>"
   ]
  },
  {
   "cell_type": "code",
   "execution_count": null,
   "id": "assigned-essex",
   "metadata": {},
   "outputs": [],
   "source": [
    "for i in range(5) :\n",
    "    print(\"Nous en somme au :\",i)"
   ]
  },
  {
   "cell_type": "code",
   "execution_count": null,
   "id": "academic-country",
   "metadata": {},
   "outputs": [],
   "source": [
    "for i in \"¡ Hola !\" :\n",
    "    print(i)\n",
    "    \n",
    " # ¡ = ALT + 0 + 1 + 6 + 1"
   ]
  },
  {
   "cell_type": "code",
   "execution_count": null,
   "id": "improved-insider",
   "metadata": {},
   "outputs": [],
   "source": [
    "for i in range(5):\n",
    "    for j in range(5):\n",
    "        print(i,j)\n",
    "    print(\"\\n\")"
   ]
  },
  {
   "cell_type": "markdown",
   "id": "minor-spyware",
   "metadata": {},
   "source": [
    "<h2 style=\"color: blue\"> Boucles While<h2>"
   ]
  },
  {
   "cell_type": "code",
   "execution_count": null,
   "id": "affected-sunday",
   "metadata": {},
   "outputs": [],
   "source": [
    "age = 14\n",
    "\n",
    "while age < 18 :\n",
    "    print(\"Vous etes minuer(e)\")\n",
    "    print(\"Vous avez\", age, \"ans \\n\")\n",
    "    age += 1\n",
    "    if age == 18 :\n",
    "        print(\"Vous avez\", age, \"ans \\n\")\n",
    "        print(\"Vous etes enfin majeur(e)\")\n",
    "        print(\"Félicitations !\")"
   ]
  },
  {
   "cell_type": "code",
   "execution_count": null,
   "id": "muslim-civilian",
   "metadata": {},
   "outputs": [],
   "source": [
    "# NE PAS LANCER !\n",
    "# ATTENTION BOUCLE INFINIE !\n",
    "\n",
    "nombre = 0\n",
    "\n",
    "while True :\n",
    "    nombre += 1"
   ]
  },
  {
   "cell_type": "code",
   "execution_count": null,
   "id": "friendly-denmark",
   "metadata": {},
   "outputs": [],
   "source": [
    "#TOUJOURS VERIFIER SI LA BOUCLE PEUT FINIR AVANT DE LA LANCER !\n",
    "\n",
    "nombre = 0\n",
    "total = 0\n",
    "\n",
    "while True :\n",
    "    nombre += 1\n",
    "    total += nombre\n",
    "    if nombre > 50 :\n",
    "        print(total)\n",
    "        break"
   ]
  },
  {
   "cell_type": "markdown",
   "id": "bottom-possible",
   "metadata": {},
   "source": [
    "<h2 style=\"color : Blue\">Maths<h2>\n"
   ]
  },
  {
   "cell_type": "code",
   "execution_count": null,
   "id": "thousand-cartoon",
   "metadata": {},
   "outputs": [],
   "source": [
    "print(\"Addition : 2 + 2 =\", 2+2)\n",
    "print(\"Soustraction : 2 - 2 =\", 2-2)\n",
    "print(\"Multiplication : 2 * 2 =\", 2*2)\n",
    "print(\"Division : 2 / 2 =\", 2/2)\n",
    "print(\"Modulo : 2 % 2 =\", 2%2)"
   ]
  },
  {
   "cell_type": "markdown",
   "id": "advisory-upper",
   "metadata": {},
   "source": [
    "<h2 style=\"color : Blue\">Types<h2>"
   ]
  },
  {
   "cell_type": "code",
   "execution_count": null,
   "id": "after-grounds",
   "metadata": {},
   "outputs": [],
   "source": [
    "#INT\n",
    "\n",
    "nb_pommes = 9\n",
    "\n",
    "type(nb_pommes)"
   ]
  },
  {
   "cell_type": "code",
   "execution_count": null,
   "id": "advisory-transcription",
   "metadata": {},
   "outputs": [],
   "source": [
    "#STR\n",
    "\n",
    "question = \"Quel est la lettre qui coupe le plus de bois ?\"\n",
    "\n",
    "type(question)"
   ]
  },
  {
   "cell_type": "code",
   "execution_count": null,
   "id": "prompt-inside",
   "metadata": {},
   "outputs": [],
   "source": [
    "#FLOAT\n",
    "\n",
    "note = 16.5\n",
    "\n",
    "type(note)"
   ]
  },
  {
   "cell_type": "code",
   "execution_count": null,
   "id": "regulated-blake",
   "metadata": {},
   "outputs": [],
   "source": [
    "#LISTES\n",
    "\n",
    "courses = [\"pain\",\"chocolat\",\"pommes\"]\n",
    "\n",
    "type(courses)"
   ]
  },
  {
   "cell_type": "code",
   "execution_count": null,
   "id": "vanilla-ground",
   "metadata": {},
   "outputs": [],
   "source": [
    "#TUPLES\n",
    "\n",
    "couleur = (255,152,98)\n",
    "\n",
    "type(couleur)"
   ]
  },
  {
   "cell_type": "code",
   "execution_count": null,
   "id": "general-quantum",
   "metadata": {},
   "outputs": [],
   "source": [
    "#BOOLÉEN\n",
    "\n",
    "a = True\n",
    "\n",
    "type(a)"
   ]
  },
  {
   "cell_type": "code",
   "execution_count": null,
   "id": "periodic-territory",
   "metadata": {},
   "outputs": [],
   "source": [
    "b = False\n",
    "\n",
    "type(b)"
   ]
  },
  {
   "cell_type": "markdown",
   "id": "advisory-cabin",
   "metadata": {},
   "source": [
    "<h2 style=\"color : Blue\">Fonctions Booléennes<h2>"
   ]
  },
  {
   "cell_type": "code",
   "execution_count": null,
   "id": "revised-blank",
   "metadata": {},
   "outputs": [],
   "source": [
    "#AND\n",
    "\n",
    "from IPython.display import Markdown\n",
    "    \n",
    "table ='''|  a  |  b  ||  ET  |\n",
    "|:---:|:---:||:---:|\\n'''\n",
    "\n",
    "for a in [False,True]:\n",
    "    for b in [False,True]:\n",
    "        table += f\"|  {a}  |  {b}  ||  {a and b}  |\\n\"\n",
    "        \n",
    "Markdown(table)        "
   ]
  },
  {
   "cell_type": "code",
   "execution_count": null,
   "id": "isolated-smart",
   "metadata": {},
   "outputs": [],
   "source": [
    "#OR\n",
    "\n",
    "table ='''|  a  |  b  ||  OR  |\n",
    "|:---:|:---:||:---:|\\n'''\n",
    "\n",
    "for a in [False,True]:\n",
    "    for b in [False,True]:\n",
    "        table += f\"|  {a}  |  {b}  ||  {a or b}  |\\n\"\n",
    "        \n",
    "Markdown(table)   "
   ]
  },
  {
   "cell_type": "code",
   "execution_count": null,
   "id": "checked-quarterly",
   "metadata": {},
   "outputs": [],
   "source": [
    "#NOT\n",
    "\n",
    "table ='''|  a  ||  NOT  |\n",
    "|:---:||:---:|\\n'''\n",
    "\n",
    "for a in [False,True]:\n",
    "    table += f\"|  {a}  ||  {not a}  |\\n\"\n",
    "        \n",
    "Markdown(table)   "
   ]
  },
  {
   "cell_type": "code",
   "execution_count": null,
   "id": "obvious-labor",
   "metadata": {},
   "outputs": [],
   "source": [
    "#XOR\n",
    "#OU EXCLUSIF\n",
    "\n",
    "table ='''|  a  |  b  ||  OR  |\n",
    "|:---:|:---:||:---:|\\n'''\n",
    "\n",
    "for a in [False,True]:\n",
    "    for b in [False,True]:\n",
    "        table += f\"|  {a}  |  {b}  ||  {a ^ b}  |\\n\"\n",
    "        \n",
    "Markdown(table)   "
   ]
  },
  {
   "cell_type": "code",
   "execution_count": null,
   "id": "faced-insured",
   "metadata": {},
   "outputs": [],
   "source": [
    "#NAND\n",
    "#NOT AND\n",
    "\n",
    "table ='''|  a  |  b  ||  NAND  |\n",
    "|:---:|:---:||:---:|\\n'''\n",
    "\n",
    "for a in [False,True]:\n",
    "    for b in [False,True]:\n",
    "        table += f\"|  {a}  |  {b}  ||  {not (a and b)}  |\\n\"\n",
    "        \n",
    "Markdown(table)   "
   ]
  },
  {
   "cell_type": "code",
   "execution_count": null,
   "id": "provincial-breeding",
   "metadata": {},
   "outputs": [],
   "source": [
    "#NOR\n",
    "#NOT OR\n",
    "\n",
    "table ='''|  a  |  b  ||  NOR  |\n",
    "|:---:|:---:||:---:|\\n'''\n",
    "\n",
    "for a in [False,True]:\n",
    "    for b in [False,True]:\n",
    "        table += f\"|  {a}  |  {b}  ||  {(not a) and (not b)}  |\\n\"\n",
    "        \n",
    "Markdown(table)   "
   ]
  },
  {
   "cell_type": "markdown",
   "id": "affiliated-editing",
   "metadata": {},
   "source": [
    "<h2 style=\"color : Blue\">CHI-FOU-MI<h2>"
   ]
  },
  {
   "cell_type": "code",
   "execution_count": null,
   "id": "adjusted-teach",
   "metadata": {},
   "outputs": [],
   "source": [
    "from random import *\n",
    "\n",
    "pointJoueur = 0\n",
    "choixJoueur = 0\n",
    "\n",
    "pointOrdi = 0\n",
    "choixOrdi = 0\n",
    "\n",
    "for i in range (1, 6):\n",
    "    \n",
    "    choixOrdi = randint(1, 3) \n",
    "    \n",
    "    \n",
    "    print(\"Ecrivez votre choix\")\n",
    "    choixJoueur = input(\"Choisissez entre Pierre, Feuille et Ciseaux\\n\")       \n",
    "      \n",
    "    if choixJoueur == \"Pierre\" :\n",
    "        if choixOrdi == 1:\n",
    "            print(\"Egalité\\n\")\n",
    "            \n",
    "        elif choixOrdi == 2 :\n",
    "            print(\"L'ordi a gagné\\n\")\n",
    "            pointOrdi =+ 1\n",
    "            \n",
    "        elif choixOrdi == 3 :\n",
    "            print(\"Vous avez gagné !\")\n",
    "            print(\"Bravo !\\n\")\n",
    "            pointJoueur =+ 1\n",
    "        \n",
    "            \n",
    "    if choixJoueur == \"Feuille\" :\n",
    "        if choixOrdi == 1 :\n",
    "            print(\"Vous avez gagné !\")\n",
    "            print(\"Bravo !\\n\")\n",
    "            pointJoueur =+ 1\n",
    "            \n",
    "        elif choixOrdi == 2 :\n",
    "               print(\"Egalité\\n\")\n",
    "                \n",
    "        elif choixOrdi == 3 :\n",
    "            print(\"L'ordi a gagné\\n\")\n",
    "            pointOrdi =+ 1\n",
    "        \n",
    "            \n",
    "    if choixJoueur == \"Ciseaux\" :\n",
    "        if choixOrdi == 1 :\n",
    "            print(\"L'ordi a gagné\\n\")\n",
    "            pointOrdi =+ 1\n",
    "            \n",
    "        elif choixOrdi == 2 :\n",
    "            print(\"Vous avez gagné !\")\n",
    "            print(\"Bravo !\\n\")\n",
    "            pointJoueur =+ 1\n",
    "            \n",
    "        elif choixOrdi == 3 :\n",
    "              print(\"Egalité\\n\")\n",
    "        \n",
    "        \n",
    "if pointJoueur > pointOrdi :\n",
    "    print(\"Vous avez gagné !\")\n",
    "    print(\"Vous avez\", pointJoueur, \"points, et l'ordi as\", pointOrdi, \"points !\")\n",
    "    \n",
    "if pointJoueur < pointOrdi :\n",
    "    print(\"Dommage, vous avez perdu\")\n",
    "    print(\"L'ordi as\", pointOrdi, \"points, et vous avez\", pointJoueur, \"points !\")\n",
    "    print(\"Vous ferrez mieux la prochaine fois !\")\n",
    "    \n",
    "if pointJoueur == pointOrdi :\n",
    "    print(\"Egalité\")\n",
    "    print(\"Vous gagnerez la prochaine fois !\")"
   ]
  },
  {
   "cell_type": "markdown",
   "id": "future-tennessee",
   "metadata": {},
   "source": [
    "<h2 style=\"color : Blue\">Fonctions<h2>"
   ]
  },
  {
   "cell_type": "markdown",
   "id": "linear-paint",
   "metadata": {},
   "source": [
    "## Documentation d'une fonction\n",
    "\n",
    "```python\n",
    "def ma_fonction(liste de paramètres):\n",
    "    \"\"\" \n",
    "        Description :\n",
    "        \n",
    "        Exemple :\n",
    "    \n",
    "        Préconditions :\n",
    "            \n",
    "        Postconditions :        \n",
    "                \n",
    "    \"\"\"\n",
    "    # Assertions de vérification des préconditions :\n",
    "    \n",
    "    assert condition , 'message'\n",
    "    \n",
    "    # bloc d'instructions :\n",
    "    \n",
    "    return \n",
    "```"
   ]
  },
  {
   "cell_type": "markdown",
   "id": "driven-fraction",
   "metadata": {},
   "source": [
    "## Exemple de documentation complete\n",
    "\n",
    "````Python\n",
    "def affiche_moyenne(prenom : str, note1 : float, note2 : float, note3 : float) -> str :\n",
    "    \"\"\"\n",
    "    ==================================================================================================================\n",
    "    \n",
    "       * Description : \n",
    "          Je calcule la moyenne de 3 notes sur 20 d'un élève et renvoie le résultat formaté pour un affichage de texte ;\n",
    "                        \n",
    "       * Exemple :\n",
    "            >>> affiche_moyenne(\"Boris\", 9,7.5,12)\n",
    "            'La moyenne de Boris est 9.5.'\n",
    "                    \n",
    "       * Préconditions :\n",
    "            - prenom (str) : une chaine de caractères identifiant de l'élève ;\n",
    "            - note_ (float) : un nombre entier ou flottant compris entre 0 et 20 inclus ;\n",
    "                    \n",
    "       * Postconditions :\n",
    "            (str) : une chaine de caractère formatée contenant l'identifiant de l'élève et sa moyenne calculée.\n",
    "        \n",
    "    ==================================================================================================================\n",
    "    \"\"\"\n",
    "    # Assertions de vérification des préconditions :\n",
    "    assert type(prenom) == str  , \"La valeur du premier argument doit être une chaine de caractères identifiant l'élève\"\n",
    "    assert note1 >= 0.0  , \"Le second argument est une note comprise entre 0 et 20 inclus\"\n",
    "    assert note1 <= 20.0  , \"Le second argument est une note comprise entre 0 et 20 inclus\"\n",
    "    \n",
    "    \n",
    "    # bloc d'instructions :\n",
    "    moyenne=(note1+note2+note3)/3\n",
    "    return f\"La moyenne de {prenom} est {moyenne}.\"\n",
    "````"
   ]
  },
  {
   "cell_type": "code",
   "execution_count": null,
   "id": "recorded-constraint",
   "metadata": {},
   "outputs": [],
   "source": [
    "# ORDRE CROISSANT\n",
    "\n",
    "def tri3c(a,b,c):\n",
    "    \n",
    "    if a > b :\n",
    "        if c > a :\n",
    "            resultat = b,a,c\n",
    "        elif c > b :\n",
    "            resultat = b,c,a\n",
    "        else :\n",
    "            resultat = c,b,a\n",
    "            \n",
    "    elif b > a :\n",
    "        if c > b :\n",
    "            resultat = a,b,c\n",
    "        elif a > c :\n",
    "            resultat = c,a,b\n",
    "        else :\n",
    "            resultat = a,c,b\n",
    "            \n",
    "    return resultat\n",
    "\n",
    "#Test\n",
    "tri3c(54,36,2)"
   ]
  },
  {
   "cell_type": "code",
   "execution_count": null,
   "id": "documented-running",
   "metadata": {},
   "outputs": [],
   "source": [
    "# ORDRE DECROISSANT\n",
    "\n",
    "def tri3d(a,b,c):\n",
    "\n",
    "    if a < b :\n",
    "        if c < a :\n",
    "            resultat = b,a,c\n",
    "        elif c < b :\n",
    "            resultat = b,c,a\n",
    "        else :\n",
    "            resultat = c,b,a\n",
    "            \n",
    "    elif b < a :\n",
    "        if c < b :\n",
    "            resultat = a,b,c\n",
    "        elif a < c :\n",
    "            resultat = c,a,b\n",
    "        else :\n",
    "            resultat = a,c,b\n",
    "            \n",
    "    return resultat\n",
    "\n",
    "#Test\n",
    "tri3d(10,45,8)"
   ]
  },
  {
   "cell_type": "code",
   "execution_count": null,
   "id": "brazilian-hardware",
   "metadata": {},
   "outputs": [],
   "source": [
    "def tri3(a,b,c,reverse=False) :\n",
    "    if reverse == True :\n",
    "        return tri3d(a,b,c)\n",
    "    else :\n",
    "        return tri3c(a,b,c)\n",
    "    \n",
    "#Test\n",
    "tri3(875,102,3,False)"
   ]
  },
  {
   "cell_type": "markdown",
   "id": "assumed-wellington",
   "metadata": {},
   "source": [
    "<h2 style=\"color : Blue\">Tableaux<h2>"
   ]
  },
  {
   "cell_type": "code",
   "execution_count": null,
   "id": "tough-expense",
   "metadata": {},
   "outputs": [],
   "source": [
    "#FAIRE UN TABLEAU\n",
    "\n",
    "monTableau = [1,2,3,4,5]\n",
    "monTableau"
   ]
  },
  {
   "cell_type": "code",
   "execution_count": null,
   "id": "social-ground",
   "metadata": {},
   "outputs": [],
   "source": [
    "#PARCOURIR LES ELEMENTS D´UN TABLEAU\n",
    "\n",
    "for i in monTableau :\n",
    "    print(i)"
   ]
  },
  {
   "cell_type": "code",
   "execution_count": null,
   "id": "fifteen-consortium",
   "metadata": {},
   "outputs": [],
   "source": [
    "#LA FONCTION REMOVE\n",
    "\n",
    "monTableau.remove(3)\n",
    "monTableau"
   ]
  },
  {
   "cell_type": "code",
   "execution_count": null,
   "id": "comic-master",
   "metadata": {},
   "outputs": [],
   "source": [
    "#TABLEAUX PAR COMPREHENSION\n",
    "\n",
    "multiples_de_neuf = [i for i in range(100) if i % 9 == 0]\n",
    "multiples_de_neuf"
   ]
  },
  {
   "cell_type": "code",
   "execution_count": null,
   "id": "occupational-forestry",
   "metadata": {},
   "outputs": [],
   "source": [
    "def aditionne_element(tableau) :\n",
    "    ''' \n",
    "    Description : - Aditionne les éléments d'un tableau \n",
    "    \n",
    "    Exemple : >>> aditionne_element([10, 20, 30, 10, 20, 60, 100])\n",
    "              >>> 250\n",
    "              \n",
    "    Préconditions : - un tableau de type list\n",
    "    \n",
    "    Postconditions : - int\n",
    "    \n",
    "    '''\n",
    "    somme = 0\n",
    "    for i in range(len(tableau)) :\n",
    "        somme += tableau[i]\n",
    "#         print(new_tab,i)\n",
    "    return somme\n",
    "    \n",
    "aditionne_element([1,2,4])"
   ]
  },
  {
   "cell_type": "code",
   "execution_count": null,
   "id": "minimal-optimization",
   "metadata": {},
   "outputs": [],
   "source": [
    "def moyenne_element(tableau) :\n",
    "    ''' \n",
    "    Description : - Fait la moyenne des éléments d'un tableau\n",
    "    \n",
    "    Exemple : >>> moyenne_element([ 10 , 20 , 30 , 10 , 20 , 60 , 100 ])\n",
    "              >>> 35.714285714285715\n",
    "              \n",
    "    Préconditions :  - un tableau de type list\n",
    "                     - la fonction aditionne_element\n",
    "                     \n",
    "    Postconditions : - un float représentant la moyenne des valeurs du tableau\n",
    "    \n",
    "    '''\n",
    "    return aditionne_element(tableau) / len(tableau)\n",
    "\n",
    "moyenne_element([ 10 , 20 , 30 , 10 , 20 , 60 , 100 ])"
   ]
  },
  {
   "cell_type": "code",
   "execution_count": null,
   "id": "beginning-obligation",
   "metadata": {},
   "outputs": [],
   "source": [
    "def suprimer_doublons(tableau) :\n",
    "    '''\n",
    "    Description : - Si il il ya plusieurs nombres/chiffres identiques, un seul est conservé\n",
    "                  - La fonction suprime les doublons d'un tableau\n",
    "                  \n",
    "    Exemple : >>> suprimer_doublons([20,41,52,41,20,78,41,63,52,20])\n",
    "              >>> [20, 41, 52, 78, 63]\n",
    "              \n",
    "    Préconditions : - un tableau de type list\n",
    "    \n",
    "    Postconditions : -un tableau de type list sans nombres/chiffres en double\n",
    "    \n",
    "    '''\n",
    "    new_tableau = []\n",
    "    for i in range(len(tableau)):\n",
    "        if tableau[i] not in new_tableau :\n",
    "            new_tableau.append(tableau[i])\n",
    "    return new_tableau\n",
    "        \n",
    "suprimer_doublons([20,41,52,41,20,78,41,63,52,20])        "
   ]
  },
  {
   "cell_type": "code",
   "execution_count": null,
   "id": "brave-ticket",
   "metadata": {},
   "outputs": [],
   "source": [
    "def multiplie_par_2(tableau) :\n",
    "    '''\n",
    "    Description : - Multiple par 2 les elements d'un tableau\n",
    "    \n",
    "    Exemple : >>> multiplie_par_2([ 10 , 20 , 30 , 10 , 20 , 60 , 100 ])\n",
    "              >>> [20, 40, 60, 20, 40, 120, 200]\n",
    "              \n",
    "    Préconditions : - un tableau de type list\n",
    "    \n",
    "    Postconditions : - un tableau de type list avec le double des valeurs du tableau en entrée\n",
    "    \n",
    "    '''\n",
    "    new_tableau = []\n",
    "    for i in range(len(tableau)):\n",
    "        new_tableau.append(tableau[i]*2)\n",
    "    return new_tableau\n",
    "        \n",
    "multiplie_par_2([ 10 , 20 , 30 , 10 , 20 , 60 , 100 ])"
   ]
  },
  {
   "cell_type": "code",
   "execution_count": null,
   "id": "prospective-death",
   "metadata": {},
   "outputs": [],
   "source": [
    "def multiplie_par_2_si_sup50(tableau) :\n",
    "    '''\n",
    "    Description : - Multiple par 2 les elements d'un tableau \n",
    "                  - Les affiche si le double est supérieur à 50\n",
    "    \n",
    "    Exemple : >>> multiplie_par_2_sup50([ 10 , 20 , 30 , 10 , 20 , 60 , 100 ])\n",
    "              >>> [60,120,200]\n",
    "              \n",
    "    Préconditions : - un tableau de type list\n",
    "    \n",
    "    Postconditions : - un tableau de type list avec le double des valeurs du tableau en entrée si ce double est supérieur à 50\n",
    "    \n",
    "    '''\n",
    "    return [tableau[i] * 2 for i in range(len(tableau)) if tableau[i] * 2 >= 50]"
   ]
  }
 ],
 "metadata": {
  "kernelspec": {
   "display_name": "Python 3",
   "language": "python",
   "name": "python3"
  },
  "language_info": {
   "codemirror_mode": {
    "name": "ipython",
    "version": 3
   },
   "file_extension": ".py",
   "mimetype": "text/x-python",
   "name": "python",
   "nbconvert_exporter": "python",
   "pygments_lexer": "ipython3",
   "version": "3.7.10"
  }
 },
 "nbformat": 4,
 "nbformat_minor": 5
}
