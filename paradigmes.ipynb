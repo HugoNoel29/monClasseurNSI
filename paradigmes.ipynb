{
 "cells": [
  {
   "cell_type": "code",
   "execution_count": 4,
   "source": [
    "def affiche_plus_faible(tableau : list) :\r\n",
    "    faible = 20\r\n",
    "    for i in tableau :\r\n",
    "        if int(tableau[i]) < faible :\r\n",
    "            faible = tableau[i]\r\n",
    "    return faible\r\n",
    "\r\n",
    "\r\n",
    "def affiche_plus_fort(tableau : list) :\r\n",
    "    fort = 0\r\n",
    "    for i in tableau :\r\n",
    "        if int(tableau[i]) > fort :\r\n",
    "            fort = tableau[i]\r\n",
    "    return fort\r\n",
    "\r\n",
    "\r\n",
    "def moyenne(tableau : list) :\r\n",
    "    somme = 0\r\n",
    "    somme += [tableau[i] for i in tableau]\r\n",
    "    return somme / len(tableau)\r\n",
    "\r\n",
    "\r\n",
    "\r\n",
    "\r\n",
    "def demande_combien_notes() :\r\n",
    "    nb_notes =  int(input(\"Combien de notes ?\"))\r\n",
    "    return nb_notes \r\n",
    "\r\n",
    "\r\n",
    "def programme_final() :\r\n",
    "    nombre_notes = demande_combien_notes()\r\n",
    "    tableau_notes = tableau_des_notes(nombre_notes)\r\n",
    "    return f'La note la plus haute est {plus_haut(tableau_notes)}, la note la plus basse est {plus_bas(tableau_notes)} et la moyenne des notes est {moyenne(tableau_notes)}'\r\n",
    "\r\n",
    "\r\n",
    "\r\n",
    "programme_final()"
   ],
   "outputs": [
    {
     "output_type": "error",
     "ename": "NameError",
     "evalue": "name 'tableau_des_notes' is not defined",
     "traceback": [
      "\u001b[1;31m---------------------------------------------------------------------------\u001b[0m",
      "\u001b[1;31mNameError\u001b[0m                                 Traceback (most recent call last)",
      "\u001b[1;32mC:\\Users\\UTILIS~1\\AppData\\Local\\Temp/ipykernel_11816/3054270312.py\u001b[0m in \u001b[0;36m<module>\u001b[1;34m\u001b[0m\n\u001b[0;32m     35\u001b[0m \u001b[1;33m\u001b[0m\u001b[0m\n\u001b[0;32m     36\u001b[0m \u001b[1;33m\u001b[0m\u001b[0m\n\u001b[1;32m---> 37\u001b[1;33m \u001b[0mprogramme_final\u001b[0m\u001b[1;33m(\u001b[0m\u001b[1;33m)\u001b[0m\u001b[1;33m\u001b[0m\u001b[1;33m\u001b[0m\u001b[0m\n\u001b[0m",
      "\u001b[1;32mC:\\Users\\UTILIS~1\\AppData\\Local\\Temp/ipykernel_11816/3054270312.py\u001b[0m in \u001b[0;36mprogramme_final\u001b[1;34m()\u001b[0m\n\u001b[0;32m     30\u001b[0m \u001b[1;32mdef\u001b[0m \u001b[0mprogramme_final\u001b[0m\u001b[1;33m(\u001b[0m\u001b[1;33m)\u001b[0m \u001b[1;33m:\u001b[0m\u001b[1;33m\u001b[0m\u001b[1;33m\u001b[0m\u001b[0m\n\u001b[0;32m     31\u001b[0m     \u001b[0mnombre_notes\u001b[0m \u001b[1;33m=\u001b[0m \u001b[0mdemande_combien_notes\u001b[0m\u001b[1;33m(\u001b[0m\u001b[1;33m)\u001b[0m\u001b[1;33m\u001b[0m\u001b[1;33m\u001b[0m\u001b[0m\n\u001b[1;32m---> 32\u001b[1;33m     \u001b[0mtableau_notes\u001b[0m \u001b[1;33m=\u001b[0m \u001b[0mtableau_des_notes\u001b[0m\u001b[1;33m(\u001b[0m\u001b[0mnombre_notes\u001b[0m\u001b[1;33m)\u001b[0m\u001b[1;33m\u001b[0m\u001b[1;33m\u001b[0m\u001b[0m\n\u001b[0m\u001b[0;32m     33\u001b[0m     \u001b[1;32mreturn\u001b[0m \u001b[1;34mf'La note la plus haute est {plus_haut(tableau_notes)}, la note la plus basse est {plus_bas(tableau_notes)} et la moyenne des notes est {moyenne(tableau_notes)}'\u001b[0m\u001b[1;33m\u001b[0m\u001b[1;33m\u001b[0m\u001b[0m\n\u001b[0;32m     34\u001b[0m \u001b[1;33m\u001b[0m\u001b[0m\n",
      "\u001b[1;31mNameError\u001b[0m: name 'tableau_des_notes' is not defined"
     ]
    }
   ],
   "metadata": {}
  },
  {
   "cell_type": "code",
   "execution_count": 6,
   "source": [
    "def nb_notes() :\r\n",
    "    return int(input(\"Entrez le nombre de notes\"))\r\n",
    "\r\n",
    "\r\n",
    "def tableau_des_notes(nb_notes : int) :\r\n",
    "    tableau_notes = [int(input(\"Entrez la note comprise entre 0 et 20\")) for i in range(nb_notes)]\r\n",
    "    return tableau_notes\r\n",
    "\r\n",
    "\r\n",
    "def plus_haut(tableau_notes : list):\r\n",
    "    plus_haut = 0\r\n",
    "    for i in range(len(tableau_notes)) :\r\n",
    "        if tableau_notes[i] > plus_haut :\r\n",
    "            plus_haut = tableau_notes[i]              \r\n",
    "    return plus_haut\r\n",
    "\r\n",
    "\r\n",
    "\r\n",
    "def plus_bas(tableau_notes : list):\r\n",
    "    plus_haut = 20\r\n",
    "    for i in range(len(tableau_notes)) :\r\n",
    "        if tableau_notes[i] < plus_haut :\r\n",
    "            plus_haut = tableau_notes[i]              \r\n",
    "    return plus_haut\r\n",
    "\r\n",
    "\r\n",
    "def moyenne(tableau_notes : list) :\r\n",
    "    return sum(tableau_notes) / len(tableau_notes)\r\n",
    "   \r\n",
    "\r\n",
    "def programme_final() :\r\n",
    "    nombre_notes = nb_notes()\r\n",
    "    tableau_notes = tableau_des_notes(nombre_notes)\r\n",
    "    return f'La note la plus haute est {plus_haut(tableau_notes)}, la note la plus basse est {plus_bas(tableau_notes)} et la moyenne des notes est {moyenne(tableau_notes)}'\r\n",
    "\r\n",
    "programme_final()"
   ],
   "outputs": [
    {
     "output_type": "execute_result",
     "data": {
      "text/plain": [
       "'La note la plus haute est 15, la note la plus basse est 9 et la moyenne des notes est 12.333333333333334'"
      ]
     },
     "metadata": {},
     "execution_count": 6
    }
   ],
   "metadata": {}
  },
  {
   "cell_type": "code",
   "execution_count": 8,
   "source": [
    "def verification(code : str) :\r\n",
    "\r\n",
    "    assert (len(code) == 13) , 'Le code ISBN doit être de 13 chiffres'\r\n",
    "    \r\n",
    "    s1 = 0\r\n",
    "    for i in range(0,11,2):\r\n",
    "        s1 += int(code[i])\r\n",
    "        \r\n",
    "    s2 = 0\r\n",
    "    for j in range(1,13,2) :\r\n",
    "        s2 += int(code[j]) \r\n",
    "    s2 = 3 * s2 \r\n",
    "\r\n",
    "    reste = (s1 + s2) % 10                                             \r\n",
    "\r\n",
    "    if reste == 0 :\r\n",
    "        cle = 0\r\n",
    "    else :\r\n",
    "        cle = 10 - reste \r\n",
    "        \r\n",
    "    if cle == int(code[-1]) :\r\n",
    "        return True\r\n",
    "    else :\r\n",
    "        return False\r\n",
    "\r\n",
    "verification(\"5678915468705\")"
   ],
   "outputs": [
    {
     "output_type": "execute_result",
     "data": {
      "text/plain": [
       "False"
      ]
     },
     "metadata": {},
     "execution_count": 8
    }
   ],
   "metadata": {}
  }
 ],
 "metadata": {
  "orig_nbformat": 4,
  "language_info": {
   "name": "python",
   "version": "3.9.1",
   "mimetype": "text/x-python",
   "codemirror_mode": {
    "name": "ipython",
    "version": 3
   },
   "pygments_lexer": "ipython3",
   "nbconvert_exporter": "python",
   "file_extension": ".py"
  },
  "kernelspec": {
   "name": "python3",
   "display_name": "Python 3.9.1 64-bit"
  },
  "interpreter": {
   "hash": "d392c9ddaa6b365e1706bdbc6bd2786d403f6271a103ff8a7f34ee918c5830ad"
  }
 },
 "nbformat": 4,
 "nbformat_minor": 2
}