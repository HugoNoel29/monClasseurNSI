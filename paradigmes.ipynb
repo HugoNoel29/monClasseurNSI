{
 "cells": [
  {
   "cell_type": "code",
   "execution_count": 4,
   "source": [
    "def nb_notes() :\r\n",
    "    return int(input(\"Entrez le nombre de notes\"))\r\n",
    "\r\n",
    "\r\n",
    "def tableau_des_notes(nb_notes : int) :\r\n",
    "    tableau_notes = [int(input(\"Entrez la note comprise entre 0 et 20\")) for i in range(nb_notes)]\r\n",
    "    return tableau_notes\r\n",
    "\r\n",
    "\r\n",
    "def plus_haut(tableau_notes : list):\r\n",
    "    plus_haut = 0\r\n",
    "    for i in range(len(tableau_notes)) :\r\n",
    "        if tableau_notes[i] > plus_haut :\r\n",
    "            plus_haut = tableau_notes[i]              \r\n",
    "    return plus_haut\r\n",
    "\r\n",
    "\r\n",
    "\r\n",
    "def plus_bas(tableau_notes : list):\r\n",
    "    plus_haut = 20\r\n",
    "    for i in range(len(tableau_notes)) :\r\n",
    "        if tableau_notes[i] < plus_haut :\r\n",
    "            plus_haut = tableau_notes[i]              \r\n",
    "    return plus_haut\r\n",
    "\r\n",
    "\r\n",
    "def moyenne(tableau_notes : list) :\r\n",
    "    return sum(tableau_notes) / len(tableau_notes)\r\n",
    "   \r\n",
    "\r\n",
    "def programme_final() :\r\n",
    "    nombre_notes = nb_notes()\r\n",
    "    tableau_notes = tableau_des_notes(nombre_notes)\r\n",
    "    return f'La note la plus haute est {plus_haut(tableau_notes)}, la note la plus basse est {plus_bas(tableau_notes)} et la moyenne des notes est {moyenne(tableau_notes)}'\r\n",
    "\r\n",
    "programme_final()"
   ],
   "outputs": [
    {
     "output_type": "execute_result",
     "data": {
      "text/plain": [
       "'La note la plus haute est 19, la note la plus basse est 9 et la moyenne des notes est 13.8'"
      ]
     },
     "metadata": {},
     "execution_count": 4
    }
   ],
   "metadata": {}
  }
 ],
 "metadata": {
  "orig_nbformat": 4,
  "language_info": {
   "name": "python",
   "version": "3.9.1",
   "mimetype": "text/x-python",
   "codemirror_mode": {
    "name": "ipython",
    "version": 3
   },
   "pygments_lexer": "ipython3",
   "nbconvert_exporter": "python",
   "file_extension": ".py"
  },
  "kernelspec": {
   "name": "python3",
   "display_name": "Python 3.9.1 64-bit"
  },
  "interpreter": {
   "hash": "d392c9ddaa6b365e1706bdbc6bd2786d403f6271a103ff8a7f34ee918c5830ad"
  }
 },
 "nbformat": 4,
 "nbformat_minor": 2
}