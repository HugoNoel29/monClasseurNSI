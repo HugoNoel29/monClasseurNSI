{
 "cells": [
  {
   "cell_type": "code",
   "execution_count": 4,
   "metadata": {},
   "outputs": [
    {
     "data": {
      "text/plain": [
       "'La note la plus haute est 19, la note la plus basse est 9 et la moyenne des notes est 13.8'"
      ]
     },
     "execution_count": 4,
     "metadata": {},
     "output_type": "execute_result"
    }
   ],
   "source": [
    "def nb_notes() :\n",
    "    return int(input(\"Entrez le nombre de notes\"))\n",
    "\n",
    "\n",
    "def tableau_des_notes(nb_notes : int) :\n",
    "    tableau_notes = [int(input(\"Entrez la note comprise entre 0 et 20\")) for i in range(nb_notes)]\n",
    "    return tableau_notes\n",
    "\n",
    "\n",
    "def plus_haut(tableau_notes : list):\n",
    "    plus_haut = 0\n",
    "    for i in range(len(tableau_notes)) :\n",
    "        if tableau_notes[i] > plus_haut :\n",
    "            plus_haut = tableau_notes[i]              \n",
    "    return plus_haut\n",
    "\n",
    "\n",
    "\n",
    "def plus_bas(tableau_notes : list):\n",
    "    plus_haut = 20\n",
    "    for i in range(len(tableau_notes)) :\n",
    "        if tableau_notes[i] < plus_haut :\n",
    "            plus_haut = tableau_notes[i]              \n",
    "    return plus_haut\n",
    "\n",
    "\n",
    "def moyenne(tableau_notes : list) :\n",
    "    return sum(tableau_notes) / len(tableau_notes)\n",
    "   \n",
    "\n",
    "def programme_final() :\n",
    "    nombre_notes = nb_notes()\n",
    "    tableau_notes = tableau_des_notes(nombre_notes)\n",
    "    return f'La note la plus haute est {plus_haut(tableau_notes)}, la note la plus basse est {plus_bas(tableau_notes)} et la moyenne des notes est {moyenne(tableau_notes)}'\n",
    "\n",
    "programme_final()"
   ]
  }
 ],
 "metadata": {
  "interpreter": {
   "hash": "c535f766096f575e5993344ecf38043c94305985d3bbdfcb24d1ab2af40cf48e"
  },
  "kernelspec": {
   "display_name": "Python 3.9.4 64-bit",
   "name": "python3"
  },
  "language_info": {
   "codemirror_mode": {
    "name": "ipython",
    "version": 3
   },
   "file_extension": ".py",
   "mimetype": "text/x-python",
   "name": "python",
   "nbconvert_exporter": "python",
   "pygments_lexer": "ipython3",
   "version": "3.9.4"
  },
  "orig_nbformat": 4
 },
 "nbformat": 4,
 "nbformat_minor": 2
}
